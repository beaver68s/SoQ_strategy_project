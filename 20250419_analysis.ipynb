{
 "cells": [
  {
   "cell_type": "code",
   "execution_count": 15,
   "metadata": {},
   "outputs": [],
   "source": [
    "import pandas as pd\n",
    "from sqlalchemy import create_engine\n",
    "from tqdm import tqdm\n",
    "from hurst import compute_Hc\n",
    "import plotly.express as px\n",
    "import seaborn as sns\n",
    "\n",
    "import pandas as pd\n",
    "import numpy as np\n",
    "import vectorbt as vbt\n",
    "\n",
    "\n",
    "import warnings \n",
    "warnings.filterwarnings('ignore')\n"
   ]
  },
  {
   "cell_type": "code",
   "execution_count": 81,
   "metadata": {},
   "outputs": [],
   "source": [
    "DATA_DIR = 'data/'"
   ]
  },
  {
   "cell_type": "code",
   "execution_count": null,
   "metadata": {},
   "outputs": [],
   "source": []
  },
  {
   "cell_type": "code",
   "execution_count": null,
   "metadata": {},
   "outputs": [],
   "source": [
    "def run_strategy(df, X, slippage):\n",
    "    df = df.copy()\n",
    "    \n",
    "    long_signal = (entry_prices['ret'] > X)\n",
    "    short_signal = (entry_prices['ret'] < -X)\n",
    "    \n",
    "    df['entry_long'] = False\n",
    "    df['entry_short'] = False\n",
    "    df['exit'] = False\n",
    "    \n",
    "    df.loc[entry_prices[long_signal].index, 'entry_long'] = True\n",
    "    df.loc[entry_prices[short_signal].index, 'entry_short'] = True\n",
    "    df.loc[exit_prices.index, 'exit'] = True\n",
    "\n",
    "    entries = df['entry_long']\n",
    "    short_entries = df['entry_short']\n",
    "    exits = df['exit']\n",
    "\n",
    "    size = 1\n",
    "\n",
    "    portfolio = vbt.Portfolio.from_signals(\n",
    "        close=df['price'],\n",
    "        entries=entries,\n",
    "        short_entries=short_entries,\n",
    "        exits=exits,\n",
    "        short_exits=exits,\n",
    "        size=size,\n",
    "        size_type = 'amount',\n",
    "        slippage = slippage,\n",
    "        # sl_stop=0.001,\n",
    "        sl_stop=0.0001,   # stop-loss        \n",
    "        tp_stop=0.0001,   # take profit\n",
    "        freq='1T'\n",
    "    )\n",
    "\n",
    "    return portfolio\n",
    "\n",
    "\n",
    "fname = f\"{DATA_DIR}AUDUSD_data.parquet\"\n",
    "df = \n",
    "\n",
    "df['price'] = (df['bid'] + df['offer']) / 2\n",
    "df['date'] = df.index.floor('D')\n",
    "\n",
    "grouped = df.groupby('date')\n",
    "prev_close = grouped['price'].last().shift(1)\n",
    "\n",
    "\n",
    "entry_price_time = pd.to_datetime(\"23:00:00\").time()\n",
    "exit_price_time = pd.to_datetime(\"23:59:00\").time()\n",
    "\n",
    "entry_mask = df.index.time == entry_price_time\n",
    "exit_mask = df.index.time == exit_price_time\n",
    "\n",
    "entry_prices = df[entry_mask].copy()\n",
    "exit_prices = df[exit_mask].copy()\n",
    "\n",
    "entry_prices['prev_close'] = entry_prices['date'].map(prev_close)\n",
    "entry_prices['ret'] = (entry_prices['price'] - entry_prices['prev_close']) / entry_prices['prev_close']"
   ]
  },
  {
   "cell_type": "code",
   "execution_count": null,
   "metadata": {},
   "outputs": [],
   "source": []
  },
  {
   "cell_type": "code",
   "execution_count": 76,
   "metadata": {},
   "outputs": [],
   "source": [
    "# np.arange(0.0005, 1, 0.001)"
   ]
  },
  {
   "cell_type": "code",
   "execution_count": 83,
   "metadata": {},
   "outputs": [
    {
     "name": "stderr",
     "output_type": "stream",
     "text": [
      "500it [01:17,  6.45it/s]"
     ]
    },
    {
     "name": "stdout",
     "output_type": "stream",
     "text": [
      "          X  slippage_usd  total_return     sharpe  drawdown\n",
      "250  0.2505          0.01      0.000000        inf       NaN\n",
      "329  0.3295          0.01      0.000000        inf       NaN\n",
      "342  0.3425          0.01      0.000000        inf       NaN\n",
      "341  0.3415          0.01      0.000000        inf       NaN\n",
      "340  0.3405          0.01      0.000000        inf       NaN\n",
      "..      ...           ...           ...        ...       ...\n",
      "4    0.0045          0.01     -2.170660 -12.076118  2.170735\n",
      "3    0.0035          0.01     -2.607683 -13.254041  2.607758\n",
      "2    0.0025          0.01     -3.159537 -14.591787  3.159612\n",
      "1    0.0015          0.01     -3.855242 -16.130922  3.855317\n",
      "0    0.0005          0.01     -4.877223 -18.153017  4.877298\n",
      "\n",
      "[500 rows x 5 columns]\n"
     ]
    },
    {
     "name": "stderr",
     "output_type": "stream",
     "text": [
      "\n"
     ]
    }
   ],
   "source": [
    "import numpy as np\n",
    "import itertools\n",
    "\n",
    "# Параметры подбора\n",
    "X_values = np.arange(0.0005, 0.5, 0.001)    \n",
    "slippage_values = np.arange(1, 2, 1) / 100\n",
    "\n",
    "results = []\n",
    "\n",
    "for X_val, sl_val in tqdm(itertools.product(X_values, slippage_values)):\n",
    "    pf = run_strategy(df, X=X_val, slippage=sl_val)\n",
    "    stats = pf.stats()\n",
    "    results.append({\n",
    "        'X': X_val,\n",
    "        'slippage_usd': sl_val,\n",
    "        'total_return': stats['Total Return [%]'],\n",
    "        'sharpe': stats['Sharpe Ratio'],\n",
    "        'drawdown': stats['Max Drawdown [%]']\n",
    "    })\n",
    "\n",
    "# В датафрейм для удобного анализа\n",
    "results_df = pd.DataFrame(results)\n",
    "print(results_df.sort_values(by='total_return', ascending=False))\n"
   ]
  },
  {
   "cell_type": "code",
   "execution_count": 80,
   "metadata": {},
   "outputs": [
    {
     "data": {
      "application/vnd.plotly.v1+json": {
       "config": {
        "plotlyServerURL": "https://plot.ly"
       },
       "data": [
        {
         "hovertemplate": "X=%{x}<br>sharpe=%{y}<br>total_return=%{z}<extra></extra>",
         "legendgroup": "",
         "marker": {
          "color": "#636efa",
          "symbol": "circle"
         },
         "mode": "markers",
         "name": "",
         "scene": "scene",
         "showlegend": false,
         "type": "scatter3d",
         "x": [
          0.0005,
          0.0015,
          0.0025,
          0.0035,
          0.0045000000000000005,
          0.0055,
          0.006500000000000001,
          0.0075,
          0.0085,
          0.0095,
          0.0105,
          0.0115,
          0.0125,
          0.0135,
          0.0145,
          0.0155,
          0.0165,
          0.0175,
          0.0185,
          0.0195,
          0.0205,
          0.021500000000000002,
          0.0225,
          0.0235,
          0.0245,
          0.025500000000000002,
          0.0265,
          0.0275,
          0.0285,
          0.029500000000000002,
          0.0305,
          0.0315,
          0.0325,
          0.0335,
          0.0345,
          0.035500000000000004,
          0.0365,
          0.0375,
          0.0385,
          0.0395,
          0.0405,
          0.0415,
          0.0425,
          0.043500000000000004,
          0.0445,
          0.0455,
          0.0465,
          0.0475,
          0.0485,
          0.0495,
          0.0505,
          0.051500000000000004,
          0.0525,
          0.0535,
          0.0545,
          0.0555,
          0.0565,
          0.0575,
          0.0585,
          0.059500000000000004,
          0.0605,
          0.0615,
          0.0625,
          0.0635,
          0.0645,
          0.0655,
          0.0665,
          0.0675,
          0.0685,
          0.0695,
          0.07050000000000001,
          0.07150000000000001,
          0.0725,
          0.0735,
          0.0745,
          0.0755,
          0.0765,
          0.0775,
          0.0785,
          0.0795,
          0.0805,
          0.0815,
          0.0825,
          0.0835,
          0.0845,
          0.0855,
          0.08650000000000001,
          0.08750000000000001,
          0.0885,
          0.0895,
          0.0905,
          0.0915,
          0.0925,
          0.0935,
          0.0945,
          0.0955,
          0.0965,
          0.0975,
          0.0985,
          0.0995,
          0.1005,
          0.1015,
          0.10250000000000001,
          0.10350000000000001,
          0.1045,
          0.1055,
          0.1065,
          0.1075,
          0.1085,
          0.1095,
          0.1105,
          0.1115,
          0.1125,
          0.1135,
          0.1145,
          0.1155,
          0.1165,
          0.11750000000000001,
          0.11850000000000001,
          0.11950000000000001,
          0.1205,
          0.1215,
          0.1225,
          0.1235,
          0.1245,
          0.1255,
          0.1265,
          0.1275,
          0.1285,
          0.1295,
          0.1305,
          0.1315,
          0.1325,
          0.1335,
          0.1345,
          0.1355,
          0.1365,
          0.1375,
          0.1385,
          0.1395,
          0.1405,
          0.14150000000000001,
          0.14250000000000002,
          0.14350000000000002,
          0.1445,
          0.1455,
          0.1465,
          0.1475,
          0.1485,
          0.1495,
          0.1505,
          0.1515,
          0.1525,
          0.1535,
          0.1545,
          0.1555,
          0.1565,
          0.1575,
          0.1585,
          0.1595,
          0.1605,
          0.1615,
          0.1625,
          0.1635,
          0.1645,
          0.1655,
          0.1665,
          0.1675,
          0.1685,
          0.1695,
          0.1705,
          0.1715,
          0.17250000000000001,
          0.17350000000000002,
          0.17450000000000002,
          0.17550000000000002,
          0.1765,
          0.1775,
          0.1785,
          0.1795,
          0.1805,
          0.1815,
          0.1825,
          0.1835,
          0.1845,
          0.1855,
          0.1865,
          0.1875,
          0.1885,
          0.1895,
          0.1905,
          0.1915,
          0.1925,
          0.1935,
          0.1945,
          0.1955,
          0.1965,
          0.1975,
          0.1985,
          0.1995,
          0.2005,
          0.2015,
          0.2025,
          0.20350000000000001,
          0.20450000000000002,
          0.20550000000000002,
          0.20650000000000002,
          0.20750000000000002,
          0.2085,
          0.2095,
          0.2105,
          0.2115,
          0.2125,
          0.2135,
          0.2145,
          0.2155,
          0.2165,
          0.2175,
          0.2185,
          0.2195,
          0.2205,
          0.2215,
          0.2225,
          0.2235,
          0.2245,
          0.2255,
          0.2265,
          0.2275,
          0.2285,
          0.2295,
          0.2305,
          0.2315,
          0.2325,
          0.2335,
          0.23450000000000001,
          0.23550000000000001,
          0.23650000000000002,
          0.23750000000000002,
          0.23850000000000002,
          0.23950000000000002,
          0.2405,
          0.2415,
          0.2425,
          0.2435,
          0.2445,
          0.2455,
          0.2465,
          0.2475,
          0.2485,
          0.2495,
          0.2505,
          0.2515,
          0.2525,
          0.2535,
          0.2545,
          0.2555,
          0.2565,
          0.2575,
          0.2585,
          0.2595,
          0.2605,
          0.2615,
          0.2625,
          0.2635,
          0.2645,
          0.2655,
          0.2665,
          0.2675,
          0.2685,
          0.2695,
          0.2705,
          0.2715,
          0.2725,
          0.2735,
          0.2745,
          0.2755,
          0.2765,
          0.2775,
          0.2785,
          0.2795,
          0.2805,
          0.28150000000000003,
          0.28250000000000003,
          0.28350000000000003,
          0.28450000000000003,
          0.28550000000000003,
          0.28650000000000003,
          0.28750000000000003,
          0.2885,
          0.2895,
          0.2905,
          0.2915,
          0.2925,
          0.2935,
          0.2945,
          0.2955,
          0.2965,
          0.2975,
          0.2985,
          0.2995,
          0.3005,
          0.3015,
          0.3025,
          0.3035,
          0.3045,
          0.3055,
          0.3065,
          0.3075,
          0.3085,
          0.3095,
          0.3105,
          0.3115,
          0.3125,
          0.3135,
          0.3145,
          0.3155,
          0.3165,
          0.3175,
          0.3185,
          0.3195,
          0.3205,
          0.3215,
          0.3225,
          0.3235,
          0.3245,
          0.3255,
          0.3265,
          0.3275,
          0.3285,
          0.3295,
          0.3305,
          0.3315,
          0.3325,
          0.3335,
          0.3345,
          0.3355,
          0.3365,
          0.3375,
          0.3385,
          0.3395,
          0.3405,
          0.3415,
          0.3425,
          0.3435,
          0.34450000000000003,
          0.34550000000000003,
          0.34650000000000003,
          0.34750000000000003,
          0.34850000000000003,
          0.34950000000000003,
          0.35050000000000003,
          0.35150000000000003,
          0.3525,
          0.3535,
          0.3545,
          0.3555,
          0.3565,
          0.3575,
          0.3585,
          0.3595,
          0.3605,
          0.3615,
          0.3625,
          0.3635,
          0.3645,
          0.3655,
          0.3665,
          0.3675,
          0.3685,
          0.3695,
          0.3705,
          0.3715,
          0.3725,
          0.3735,
          0.3745,
          0.3755,
          0.3765,
          0.3775,
          0.3785,
          0.3795,
          0.3805,
          0.3815,
          0.3825,
          0.3835,
          0.3845,
          0.3855,
          0.3865,
          0.3875,
          0.3885,
          0.3895,
          0.3905,
          0.3915,
          0.3925,
          0.3935,
          0.3945,
          0.3955,
          0.3965,
          0.3975,
          0.3985,
          0.3995,
          0.4005,
          0.4015,
          0.4025,
          0.4035,
          0.4045,
          0.4055,
          0.40650000000000003,
          0.40750000000000003,
          0.40850000000000003,
          0.40950000000000003,
          0.41050000000000003,
          0.41150000000000003,
          0.41250000000000003,
          0.41350000000000003,
          0.41450000000000004,
          0.41550000000000004,
          0.4165,
          0.4175,
          0.4185,
          0.4195,
          0.4205,
          0.4215,
          0.4225,
          0.4235,
          0.4245,
          0.4255,
          0.4265,
          0.4275,
          0.4285,
          0.4295,
          0.4305,
          0.4315,
          0.4325,
          0.4335,
          0.4345,
          0.4355,
          0.4365,
          0.4375,
          0.4385,
          0.4395,
          0.4405,
          0.4415,
          0.4425,
          0.4435,
          0.4445,
          0.4455,
          0.4465,
          0.4475,
          0.4485,
          0.4495,
          0.4505,
          0.4515,
          0.4525,
          0.4535,
          0.4545,
          0.4555,
          0.4565,
          0.4575,
          0.4585,
          0.4595,
          0.4605,
          0.4615,
          0.4625,
          0.4635,
          0.4645,
          0.4655,
          0.4665,
          0.4675,
          0.4685,
          0.46950000000000003,
          0.47050000000000003,
          0.47150000000000003,
          0.47250000000000003,
          0.47350000000000003,
          0.47450000000000003,
          0.47550000000000003,
          0.47650000000000003,
          0.47750000000000004,
          0.47850000000000004,
          0.47950000000000004,
          0.4805,
          0.4815,
          0.4825,
          0.4835,
          0.4845,
          0.4855,
          0.4865,
          0.4875,
          0.4885,
          0.4895,
          0.4905,
          0.4915,
          0.4925,
          0.4935,
          0.4945,
          0.4955,
          0.4965,
          0.4975,
          0.4985,
          0.4995
         ],
         "y": [
          1.4684090463094153,
          1.5789532847867092,
          1.4871744551566302,
          1.3250958208695554,
          1.1652843886839508,
          0.23192336271871075,
          0.3041463756026846,
          0.37890878310879783,
          0.32037477809164117,
          0.10748159563321381,
          0.21472749287375986,
          0.0655856365008406,
          -0.31843153707088606,
          -0.032085158205031605,
          -0.03891517453162562,
          0.14751816383283417,
          -0.5590373084561577,
          -0.40019694431861813,
          -0.5430674681726406,
          -0.794170505798007,
          -1.1528920188882963,
          -1.0136726429436578,
          -1.0114397426291246,
          -0.813300803034141,
          -0.8514934895426159,
          -0.8514934895426159,
          -1.3619125793318798,
          -1.374437455676445,
          -1.374437455676445,
          -1.374437455676445,
          -1.374437455676445,
          -1.374437455676445,
          -1.0651445798188461,
          -1.0651445798188461,
          -1.0651445798188461,
          -1.0651445798188461,
          -1.0651445798188461,
          -1.0651445798188461,
          0.000001792589721399397,
          0.000001792589721399397,
          0.000001792589721399397,
          0.000001792589721399397,
          null,
          null,
          null,
          null,
          null,
          null,
          null,
          null,
          null,
          null,
          null,
          null,
          null,
          null,
          null,
          null,
          null,
          null,
          null,
          null,
          null,
          null,
          null,
          null,
          null,
          null,
          null,
          null,
          null,
          null,
          null,
          null,
          null,
          null,
          null,
          null,
          null,
          null,
          null,
          null,
          null,
          null,
          null,
          null,
          null,
          null,
          null,
          null,
          null,
          null,
          null,
          null,
          null,
          null,
          null,
          null,
          null,
          null,
          null,
          null,
          null,
          null,
          null,
          null,
          null,
          null,
          null,
          null,
          null,
          null,
          null,
          null,
          null,
          null,
          null,
          null,
          null,
          null,
          null,
          null,
          null,
          null,
          null,
          null,
          null,
          null,
          null,
          null,
          null,
          null,
          null,
          null,
          null,
          null,
          null,
          null,
          null,
          null,
          null,
          null,
          null,
          null,
          null,
          null,
          null,
          null,
          null,
          null,
          null,
          null,
          null,
          null,
          null,
          null,
          null,
          null,
          null,
          null,
          null,
          null,
          null,
          null,
          null,
          null,
          null,
          null,
          null,
          null,
          null,
          null,
          null,
          null,
          null,
          null,
          null,
          null,
          null,
          null,
          null,
          null,
          null,
          null,
          null,
          null,
          null,
          null,
          null,
          null,
          null,
          null,
          null,
          null,
          null,
          null,
          null,
          null,
          null,
          null,
          null,
          null,
          null,
          null,
          null,
          null,
          null,
          null,
          null,
          null,
          null,
          null,
          null,
          null,
          null,
          null,
          null,
          null,
          null,
          null,
          null,
          null,
          null,
          null,
          null,
          null,
          null,
          null,
          null,
          null,
          null,
          null,
          null,
          null,
          null,
          null,
          null,
          null,
          null,
          null,
          null,
          null,
          null,
          null,
          null,
          null,
          null,
          null,
          null,
          null,
          null,
          null,
          null,
          null,
          null,
          null,
          null,
          null,
          null,
          null,
          null,
          null,
          null,
          null,
          null,
          null,
          null,
          null,
          null,
          null,
          null,
          null,
          null,
          null,
          null,
          null,
          null,
          null,
          null,
          null,
          null,
          null,
          null,
          null,
          null,
          null,
          null,
          null,
          null,
          null,
          null,
          null,
          null,
          null,
          null,
          null,
          null,
          null,
          null,
          null,
          null,
          null,
          null,
          null,
          null,
          null,
          null,
          null,
          null,
          null,
          null,
          null,
          null,
          null,
          null,
          null,
          null,
          null,
          null,
          null,
          null,
          null,
          null,
          null,
          null,
          null,
          null,
          null,
          null,
          null,
          null,
          null,
          null,
          null,
          null,
          null,
          null,
          null,
          null,
          null,
          null,
          null,
          null,
          null,
          null,
          null,
          null,
          null,
          null,
          null,
          null,
          null,
          null,
          null,
          null,
          null,
          null,
          null,
          null,
          null,
          null,
          null,
          null,
          null,
          null,
          null,
          null,
          null,
          null,
          null,
          null,
          null,
          null,
          null,
          null,
          null,
          null,
          null,
          null,
          null,
          null,
          null,
          null,
          null,
          null,
          null,
          null,
          null,
          null,
          null,
          null,
          null,
          null,
          null,
          null,
          null,
          null,
          null,
          null,
          null,
          null,
          null,
          null,
          null,
          null,
          null,
          null,
          null,
          null,
          null,
          null,
          null,
          null,
          null,
          null,
          null,
          null,
          null,
          null,
          null,
          null,
          null,
          null,
          null,
          null,
          null,
          null,
          null,
          null,
          null,
          null,
          null,
          null,
          null,
          null,
          null,
          null,
          null,
          null,
          null,
          null,
          null,
          null,
          null,
          null,
          null,
          null,
          null,
          null,
          null,
          null,
          null,
          null,
          null,
          null,
          null,
          null,
          null,
          null,
          null,
          null,
          null,
          null,
          null,
          null,
          null,
          null,
          null,
          null,
          null,
          null,
          null,
          null,
          null,
          null,
          null,
          null,
          null,
          null,
          null,
          null,
          null,
          null,
          null,
          null,
          null,
          null,
          null,
          null,
          null,
          null,
          null,
          null,
          null,
          null,
          null,
          null,
          null,
          null,
          null
         ],
         "z": [
          0.04105000000000181,
          0.035390000000002475,
          0.029880000000002124,
          0.02436500000000208,
          0.0203550000000029,
          0.003700000000002146,
          0.00441000000000169,
          0.005035000000001899,
          0.0039050000000014906,
          0.0012000000000015332,
          0.0022300000000013975,
          0.0006200000000007311,
          -0.002709999999999324,
          -0.0002349999999994301,
          -0.0002699999999997704,
          0.001000000000000556,
          -0.0030199999999995786,
          -0.002089999999999592,
          -0.0026799999999996826,
          -0.0035649999999997073,
          -0.00464999999999971,
          -0.003799999999999915,
          -0.003754999999999953,
          -0.002894999999999981,
          -0.0029850000000000154,
          -0.0029850000000000154,
          -0.003924999999999956,
          -0.003670000000000062,
          -0.003670000000000062,
          -0.003670000000000062,
          -0.003670000000000062,
          -0.003670000000000062,
          -0.0025100000000000122,
          -0.0025100000000000122,
          -0.0025100000000000122,
          -0.0025100000000000122,
          -0.0025100000000000122,
          -0.0025100000000000122,
          0,
          0,
          0,
          0,
          0,
          0,
          0,
          0,
          0,
          0,
          0,
          0,
          0,
          0,
          0,
          0,
          0,
          0,
          0,
          0,
          0,
          0,
          0,
          0,
          0,
          0,
          0,
          0,
          0,
          0,
          0,
          0,
          0,
          0,
          0,
          0,
          0,
          0,
          0,
          0,
          0,
          0,
          0,
          0,
          0,
          0,
          0,
          0,
          0,
          0,
          0,
          0,
          0,
          0,
          0,
          0,
          0,
          0,
          0,
          0,
          0,
          0,
          0,
          0,
          0,
          0,
          0,
          0,
          0,
          0,
          0,
          0,
          0,
          0,
          0,
          0,
          0,
          0,
          0,
          0,
          0,
          0,
          0,
          0,
          0,
          0,
          0,
          0,
          0,
          0,
          0,
          0,
          0,
          0,
          0,
          0,
          0,
          0,
          0,
          0,
          0,
          0,
          0,
          0,
          0,
          0,
          0,
          0,
          0,
          0,
          0,
          0,
          0,
          0,
          0,
          0,
          0,
          0,
          0,
          0,
          0,
          0,
          0,
          0,
          0,
          0,
          0,
          0,
          0,
          0,
          0,
          0,
          0,
          0,
          0,
          0,
          0,
          0,
          0,
          0,
          0,
          0,
          0,
          0,
          0,
          0,
          0,
          0,
          0,
          0,
          0,
          0,
          0,
          0,
          0,
          0,
          0,
          0,
          0,
          0,
          0,
          0,
          0,
          0,
          0,
          0,
          0,
          0,
          0,
          0,
          0,
          0,
          0,
          0,
          0,
          0,
          0,
          0,
          0,
          0,
          0,
          0,
          0,
          0,
          0,
          0,
          0,
          0,
          0,
          0,
          0,
          0,
          0,
          0,
          0,
          0,
          0,
          0,
          0,
          0,
          0,
          0,
          0,
          0,
          0,
          0,
          0,
          0,
          0,
          0,
          0,
          0,
          0,
          0,
          0,
          0,
          0,
          0,
          0,
          0,
          0,
          0,
          0,
          0,
          0,
          0,
          0,
          0,
          0,
          0,
          0,
          0,
          0,
          0,
          0,
          0,
          0,
          0,
          0,
          0,
          0,
          0,
          0,
          0,
          0,
          0,
          0,
          0,
          0,
          0,
          0,
          0,
          0,
          0,
          0,
          0,
          0,
          0,
          0,
          0,
          0,
          0,
          0,
          0,
          0,
          0,
          0,
          0,
          0,
          0,
          0,
          0,
          0,
          0,
          0,
          0,
          0,
          0,
          0,
          0,
          0,
          0,
          0,
          0,
          0,
          0,
          0,
          0,
          0,
          0,
          0,
          0,
          0,
          0,
          0,
          0,
          0,
          0,
          0,
          0,
          0,
          0,
          0,
          0,
          0,
          0,
          0,
          0,
          0,
          0,
          0,
          0,
          0,
          0,
          0,
          0,
          0,
          0,
          0,
          0,
          0,
          0,
          0,
          0,
          0,
          0,
          0,
          0,
          0,
          0,
          0,
          0,
          0,
          0,
          0,
          0,
          0,
          0,
          0,
          0,
          0,
          0,
          0,
          0,
          0,
          0,
          0,
          0,
          0,
          0,
          0,
          0,
          0,
          0,
          0,
          0,
          0,
          0,
          0,
          0,
          0,
          0,
          0,
          0,
          0,
          0,
          0,
          0,
          0,
          0,
          0,
          0,
          0,
          0,
          0,
          0,
          0,
          0,
          0,
          0,
          0,
          0,
          0,
          0,
          0,
          0,
          0,
          0,
          0,
          0,
          0,
          0,
          0,
          0,
          0,
          0,
          0,
          0,
          0,
          0,
          0,
          0,
          0,
          0,
          0,
          0,
          0,
          0,
          0,
          0,
          0,
          0,
          0,
          0,
          0,
          0,
          0,
          0,
          0,
          0,
          0,
          0,
          0,
          0,
          0,
          0,
          0,
          0,
          0,
          0,
          0,
          0,
          0,
          0,
          0,
          0,
          0,
          0,
          0,
          0,
          0,
          0,
          0,
          0,
          0,
          0,
          0,
          0,
          0,
          0,
          0,
          0,
          0,
          0,
          0,
          0,
          0,
          0,
          0,
          0,
          0,
          0
         ]
        }
       ],
       "layout": {
        "legend": {
         "tracegroupgap": 0
        },
        "scene": {
         "domain": {
          "x": [
           0,
           1
          ],
          "y": [
           0,
           1
          ]
         },
         "xaxis": {
          "title": {
           "text": "X"
          }
         },
         "yaxis": {
          "title": {
           "text": "sharpe"
          }
         },
         "zaxis": {
          "title": {
           "text": "total_return"
          }
         }
        },
        "template": {
         "data": {
          "bar": [
           {
            "error_x": {
             "color": "#2a3f5f"
            },
            "error_y": {
             "color": "#2a3f5f"
            },
            "marker": {
             "line": {
              "color": "#E5ECF6",
              "width": 0.5
             },
             "pattern": {
              "fillmode": "overlay",
              "size": 10,
              "solidity": 0.2
             }
            },
            "type": "bar"
           }
          ],
          "barpolar": [
           {
            "marker": {
             "line": {
              "color": "#E5ECF6",
              "width": 0.5
             },
             "pattern": {
              "fillmode": "overlay",
              "size": 10,
              "solidity": 0.2
             }
            },
            "type": "barpolar"
           }
          ],
          "carpet": [
           {
            "aaxis": {
             "endlinecolor": "#2a3f5f",
             "gridcolor": "white",
             "linecolor": "white",
             "minorgridcolor": "white",
             "startlinecolor": "#2a3f5f"
            },
            "baxis": {
             "endlinecolor": "#2a3f5f",
             "gridcolor": "white",
             "linecolor": "white",
             "minorgridcolor": "white",
             "startlinecolor": "#2a3f5f"
            },
            "type": "carpet"
           }
          ],
          "choropleth": [
           {
            "colorbar": {
             "outlinewidth": 0,
             "ticks": ""
            },
            "type": "choropleth"
           }
          ],
          "contour": [
           {
            "colorbar": {
             "outlinewidth": 0,
             "ticks": ""
            },
            "colorscale": [
             [
              0,
              "#0d0887"
             ],
             [
              0.1111111111111111,
              "#46039f"
             ],
             [
              0.2222222222222222,
              "#7201a8"
             ],
             [
              0.3333333333333333,
              "#9c179e"
             ],
             [
              0.4444444444444444,
              "#bd3786"
             ],
             [
              0.5555555555555556,
              "#d8576b"
             ],
             [
              0.6666666666666666,
              "#ed7953"
             ],
             [
              0.7777777777777778,
              "#fb9f3a"
             ],
             [
              0.8888888888888888,
              "#fdca26"
             ],
             [
              1,
              "#f0f921"
             ]
            ],
            "type": "contour"
           }
          ],
          "contourcarpet": [
           {
            "colorbar": {
             "outlinewidth": 0,
             "ticks": ""
            },
            "type": "contourcarpet"
           }
          ],
          "heatmap": [
           {
            "colorbar": {
             "outlinewidth": 0,
             "ticks": ""
            },
            "colorscale": [
             [
              0,
              "#0d0887"
             ],
             [
              0.1111111111111111,
              "#46039f"
             ],
             [
              0.2222222222222222,
              "#7201a8"
             ],
             [
              0.3333333333333333,
              "#9c179e"
             ],
             [
              0.4444444444444444,
              "#bd3786"
             ],
             [
              0.5555555555555556,
              "#d8576b"
             ],
             [
              0.6666666666666666,
              "#ed7953"
             ],
             [
              0.7777777777777778,
              "#fb9f3a"
             ],
             [
              0.8888888888888888,
              "#fdca26"
             ],
             [
              1,
              "#f0f921"
             ]
            ],
            "type": "heatmap"
           }
          ],
          "heatmapgl": [
           {
            "colorbar": {
             "outlinewidth": 0,
             "ticks": ""
            },
            "colorscale": [
             [
              0,
              "#0d0887"
             ],
             [
              0.1111111111111111,
              "#46039f"
             ],
             [
              0.2222222222222222,
              "#7201a8"
             ],
             [
              0.3333333333333333,
              "#9c179e"
             ],
             [
              0.4444444444444444,
              "#bd3786"
             ],
             [
              0.5555555555555556,
              "#d8576b"
             ],
             [
              0.6666666666666666,
              "#ed7953"
             ],
             [
              0.7777777777777778,
              "#fb9f3a"
             ],
             [
              0.8888888888888888,
              "#fdca26"
             ],
             [
              1,
              "#f0f921"
             ]
            ],
            "type": "heatmapgl"
           }
          ],
          "histogram": [
           {
            "marker": {
             "pattern": {
              "fillmode": "overlay",
              "size": 10,
              "solidity": 0.2
             }
            },
            "type": "histogram"
           }
          ],
          "histogram2d": [
           {
            "colorbar": {
             "outlinewidth": 0,
             "ticks": ""
            },
            "colorscale": [
             [
              0,
              "#0d0887"
             ],
             [
              0.1111111111111111,
              "#46039f"
             ],
             [
              0.2222222222222222,
              "#7201a8"
             ],
             [
              0.3333333333333333,
              "#9c179e"
             ],
             [
              0.4444444444444444,
              "#bd3786"
             ],
             [
              0.5555555555555556,
              "#d8576b"
             ],
             [
              0.6666666666666666,
              "#ed7953"
             ],
             [
              0.7777777777777778,
              "#fb9f3a"
             ],
             [
              0.8888888888888888,
              "#fdca26"
             ],
             [
              1,
              "#f0f921"
             ]
            ],
            "type": "histogram2d"
           }
          ],
          "histogram2dcontour": [
           {
            "colorbar": {
             "outlinewidth": 0,
             "ticks": ""
            },
            "colorscale": [
             [
              0,
              "#0d0887"
             ],
             [
              0.1111111111111111,
              "#46039f"
             ],
             [
              0.2222222222222222,
              "#7201a8"
             ],
             [
              0.3333333333333333,
              "#9c179e"
             ],
             [
              0.4444444444444444,
              "#bd3786"
             ],
             [
              0.5555555555555556,
              "#d8576b"
             ],
             [
              0.6666666666666666,
              "#ed7953"
             ],
             [
              0.7777777777777778,
              "#fb9f3a"
             ],
             [
              0.8888888888888888,
              "#fdca26"
             ],
             [
              1,
              "#f0f921"
             ]
            ],
            "type": "histogram2dcontour"
           }
          ],
          "mesh3d": [
           {
            "colorbar": {
             "outlinewidth": 0,
             "ticks": ""
            },
            "type": "mesh3d"
           }
          ],
          "parcoords": [
           {
            "line": {
             "colorbar": {
              "outlinewidth": 0,
              "ticks": ""
             }
            },
            "type": "parcoords"
           }
          ],
          "pie": [
           {
            "automargin": true,
            "type": "pie"
           }
          ],
          "scatter": [
           {
            "fillpattern": {
             "fillmode": "overlay",
             "size": 10,
             "solidity": 0.2
            },
            "type": "scatter"
           }
          ],
          "scatter3d": [
           {
            "line": {
             "colorbar": {
              "outlinewidth": 0,
              "ticks": ""
             }
            },
            "marker": {
             "colorbar": {
              "outlinewidth": 0,
              "ticks": ""
             }
            },
            "type": "scatter3d"
           }
          ],
          "scattercarpet": [
           {
            "marker": {
             "colorbar": {
              "outlinewidth": 0,
              "ticks": ""
             }
            },
            "type": "scattercarpet"
           }
          ],
          "scattergeo": [
           {
            "marker": {
             "colorbar": {
              "outlinewidth": 0,
              "ticks": ""
             }
            },
            "type": "scattergeo"
           }
          ],
          "scattergl": [
           {
            "marker": {
             "colorbar": {
              "outlinewidth": 0,
              "ticks": ""
             }
            },
            "type": "scattergl"
           }
          ],
          "scattermapbox": [
           {
            "marker": {
             "colorbar": {
              "outlinewidth": 0,
              "ticks": ""
             }
            },
            "type": "scattermapbox"
           }
          ],
          "scatterpolar": [
           {
            "marker": {
             "colorbar": {
              "outlinewidth": 0,
              "ticks": ""
             }
            },
            "type": "scatterpolar"
           }
          ],
          "scatterpolargl": [
           {
            "marker": {
             "colorbar": {
              "outlinewidth": 0,
              "ticks": ""
             }
            },
            "type": "scatterpolargl"
           }
          ],
          "scatterternary": [
           {
            "marker": {
             "colorbar": {
              "outlinewidth": 0,
              "ticks": ""
             }
            },
            "type": "scatterternary"
           }
          ],
          "surface": [
           {
            "colorbar": {
             "outlinewidth": 0,
             "ticks": ""
            },
            "colorscale": [
             [
              0,
              "#0d0887"
             ],
             [
              0.1111111111111111,
              "#46039f"
             ],
             [
              0.2222222222222222,
              "#7201a8"
             ],
             [
              0.3333333333333333,
              "#9c179e"
             ],
             [
              0.4444444444444444,
              "#bd3786"
             ],
             [
              0.5555555555555556,
              "#d8576b"
             ],
             [
              0.6666666666666666,
              "#ed7953"
             ],
             [
              0.7777777777777778,
              "#fb9f3a"
             ],
             [
              0.8888888888888888,
              "#fdca26"
             ],
             [
              1,
              "#f0f921"
             ]
            ],
            "type": "surface"
           }
          ],
          "table": [
           {
            "cells": {
             "fill": {
              "color": "#EBF0F8"
             },
             "line": {
              "color": "white"
             }
            },
            "header": {
             "fill": {
              "color": "#C8D4E3"
             },
             "line": {
              "color": "white"
             }
            },
            "type": "table"
           }
          ]
         },
         "layout": {
          "annotationdefaults": {
           "arrowcolor": "#2a3f5f",
           "arrowhead": 0,
           "arrowwidth": 1
          },
          "autotypenumbers": "strict",
          "coloraxis": {
           "colorbar": {
            "outlinewidth": 0,
            "ticks": ""
           }
          },
          "colorscale": {
           "diverging": [
            [
             0,
             "#8e0152"
            ],
            [
             0.1,
             "#c51b7d"
            ],
            [
             0.2,
             "#de77ae"
            ],
            [
             0.3,
             "#f1b6da"
            ],
            [
             0.4,
             "#fde0ef"
            ],
            [
             0.5,
             "#f7f7f7"
            ],
            [
             0.6,
             "#e6f5d0"
            ],
            [
             0.7,
             "#b8e186"
            ],
            [
             0.8,
             "#7fbc41"
            ],
            [
             0.9,
             "#4d9221"
            ],
            [
             1,
             "#276419"
            ]
           ],
           "sequential": [
            [
             0,
             "#0d0887"
            ],
            [
             0.1111111111111111,
             "#46039f"
            ],
            [
             0.2222222222222222,
             "#7201a8"
            ],
            [
             0.3333333333333333,
             "#9c179e"
            ],
            [
             0.4444444444444444,
             "#bd3786"
            ],
            [
             0.5555555555555556,
             "#d8576b"
            ],
            [
             0.6666666666666666,
             "#ed7953"
            ],
            [
             0.7777777777777778,
             "#fb9f3a"
            ],
            [
             0.8888888888888888,
             "#fdca26"
            ],
            [
             1,
             "#f0f921"
            ]
           ],
           "sequentialminus": [
            [
             0,
             "#0d0887"
            ],
            [
             0.1111111111111111,
             "#46039f"
            ],
            [
             0.2222222222222222,
             "#7201a8"
            ],
            [
             0.3333333333333333,
             "#9c179e"
            ],
            [
             0.4444444444444444,
             "#bd3786"
            ],
            [
             0.5555555555555556,
             "#d8576b"
            ],
            [
             0.6666666666666666,
             "#ed7953"
            ],
            [
             0.7777777777777778,
             "#fb9f3a"
            ],
            [
             0.8888888888888888,
             "#fdca26"
            ],
            [
             1,
             "#f0f921"
            ]
           ]
          },
          "colorway": [
           "#636efa",
           "#EF553B",
           "#00cc96",
           "#ab63fa",
           "#FFA15A",
           "#19d3f3",
           "#FF6692",
           "#B6E880",
           "#FF97FF",
           "#FECB52"
          ],
          "font": {
           "color": "#2a3f5f"
          },
          "geo": {
           "bgcolor": "white",
           "lakecolor": "white",
           "landcolor": "#E5ECF6",
           "showlakes": true,
           "showland": true,
           "subunitcolor": "white"
          },
          "hoverlabel": {
           "align": "left"
          },
          "hovermode": "closest",
          "mapbox": {
           "style": "light"
          },
          "paper_bgcolor": "white",
          "plot_bgcolor": "#E5ECF6",
          "polar": {
           "angularaxis": {
            "gridcolor": "white",
            "linecolor": "white",
            "ticks": ""
           },
           "bgcolor": "#E5ECF6",
           "radialaxis": {
            "gridcolor": "white",
            "linecolor": "white",
            "ticks": ""
           }
          },
          "scene": {
           "xaxis": {
            "backgroundcolor": "#E5ECF6",
            "gridcolor": "white",
            "gridwidth": 2,
            "linecolor": "white",
            "showbackground": true,
            "ticks": "",
            "zerolinecolor": "white"
           },
           "yaxis": {
            "backgroundcolor": "#E5ECF6",
            "gridcolor": "white",
            "gridwidth": 2,
            "linecolor": "white",
            "showbackground": true,
            "ticks": "",
            "zerolinecolor": "white"
           },
           "zaxis": {
            "backgroundcolor": "#E5ECF6",
            "gridcolor": "white",
            "gridwidth": 2,
            "linecolor": "white",
            "showbackground": true,
            "ticks": "",
            "zerolinecolor": "white"
           }
          },
          "shapedefaults": {
           "line": {
            "color": "#2a3f5f"
           }
          },
          "ternary": {
           "aaxis": {
            "gridcolor": "white",
            "linecolor": "white",
            "ticks": ""
           },
           "baxis": {
            "gridcolor": "white",
            "linecolor": "white",
            "ticks": ""
           },
           "bgcolor": "#E5ECF6",
           "caxis": {
            "gridcolor": "white",
            "linecolor": "white",
            "ticks": ""
           }
          },
          "title": {
           "x": 0.05
          },
          "xaxis": {
           "automargin": true,
           "gridcolor": "white",
           "linecolor": "white",
           "ticks": "",
           "title": {
            "standoff": 15
           },
           "zerolinecolor": "white",
           "zerolinewidth": 2
          },
          "yaxis": {
           "automargin": true,
           "gridcolor": "white",
           "linecolor": "white",
           "ticks": "",
           "title": {
            "standoff": 15
           },
           "zerolinecolor": "white",
           "zerolinewidth": 2
          }
         }
        },
        "title": {
         "text": "3D визуализация зависимости корреляции от LookBack и Hold"
        }
       }
      }
     },
     "metadata": {},
     "output_type": "display_data"
    }
   ],
   "source": [
    "fig_3d = px.scatter_3d(\n",
    "    results_df,\n",
    "    x=\"X\",\n",
    "    y=\"sharpe\",\n",
    "    z=\"total_return\",\n",
    "    # color=\"P-value\",\n",
    "    # size=\"Correlation_abs\",\n",
    "    title=\"3D визуализация зависимости корреляции от LookBack и Hold\"\n",
    ")\n",
    "\n",
    "fig_3d.show()"
   ]
  },
  {
   "cell_type": "code",
   "execution_count": null,
   "metadata": {},
   "outputs": [],
   "source": []
  },
  {
   "cell_type": "code",
   "execution_count": null,
   "metadata": {},
   "outputs": [],
   "source": []
  }
 ],
 "metadata": {
  "kernelspec": {
   "display_name": "strategy-project-acofjSPn-py3.12",
   "language": "python",
   "name": "python3"
  },
  "language_info": {
   "codemirror_mode": {
    "name": "ipython",
    "version": 3
   },
   "file_extension": ".py",
   "mimetype": "text/x-python",
   "name": "python",
   "nbconvert_exporter": "python",
   "pygments_lexer": "ipython3",
   "version": "3.12.4"
  }
 },
 "nbformat": 4,
 "nbformat_minor": 2
}
