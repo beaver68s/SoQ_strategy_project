{
 "cells": [
  {
   "cell_type": "code",
   "execution_count": 7,
   "metadata": {},
   "outputs": [],
   "source": [
    "import pandas as pd"
   ]
  },
  {
   "cell_type": "code",
   "execution_count": 4,
   "metadata": {},
   "outputs": [],
   "source": [
    "fx_list = ['EURCZK', 'AUDUSD', 'EURHUF', 'EURNOK', 'EURPLN',\n",
    "           'EURSEK', 'EURUSD', 'GBPUSD', 'NZDUSD', 'USDCAD',\n",
    "           'USDCHF', 'USDCNH', 'USDILS', 'USDJPY', 'USDMXN', \n",
    "           'USDSGD', 'USDZAR']"
   ]
  },
  {
   "cell_type": "code",
   "execution_count": 10,
   "metadata": {},
   "outputs": [
    {
     "name": "stdout",
     "output_type": "stream",
     "text": [
      "EURCZK (1151405, 4)\n",
      "AUDUSD (1176103, 4)\n",
      "EURHUF (1152347, 4)\n",
      "EURNOK (1173941, 4)\n",
      "EURPLN (1153173, 4)\n",
      "EURSEK (1154995, 4)\n",
      "EURUSD (1179255, 4)\n",
      "GBPUSD (1176068, 4)\n",
      "NZDUSD (1176046, 4)\n",
      "USDCAD (1175941, 4)\n",
      "USDCHF (1176588, 4)\n",
      "USDCNH (1176026, 4)\n",
      "USDILS (1139866, 4)\n",
      "USDJPY (1175716, 4)\n",
      "USDMXN (1174505, 4)\n",
      "USDSGD (1177216, 4)\n"
     ]
    }
   ],
   "source": [
    "for fx in fx_list:\n",
    "    try:\n",
    "        cur_data = pd.read_parquet(f'data/{fx}_data.parquet')\n",
    "        print(fx, cur_data.shape)\n",
    "    except Exception as e:\n",
    "        continue "
   ]
  },
  {
   "cell_type": "code",
   "execution_count": null,
   "metadata": {},
   "outputs": [],
   "source": [
    "# df = df.sort_values(by='timestamp')\n",
    "# df = df[~df.bid.isna()]\n",
    "# df['Roll Adjusted Bid'] = df['bid'] + df['adjustment']\n",
    "# df['Roll Adjusted Offer'] = df['offer'] + df['adjustment']\n",
    "\n",
    "\n",
    "# df['mid_price'] = (df['Roll Adjusted Bid'] + df['Roll Adjusted Offer']) / 2"
   ]
  },
  {
   "cell_type": "code",
   "execution_count": null,
   "metadata": {},
   "outputs": [],
   "source": [
    "# Hurst Exponent"
   ]
  },
  {
   "cell_type": "code",
   "execution_count": null,
   "metadata": {},
   "outputs": [],
   "source": [
    "# hurst_value, _, _ = compute_Hc(df['mid_price'], kind='price', simplified=True)\n",
    "# hurst_value"
   ]
  },
  {
   "cell_type": "code",
   "execution_count": 11,
   "metadata": {},
   "outputs": [],
   "source": [
    "# for fx in tqdm([\"EURHUF\", \"EURNOK\", \"EURSEK\"]):\n",
    "#     fx_sql = f\"SELECT * from trading.fx_1min_bar where instrument = '\\\"{fx}\\\"'\"\n",
    "#     df_fx = pd.read_sql(fx_sql, con=db_connection)\n",
    "#     df_fx['mid_price'] = (df_fx['bid'] + df_fx['offer'])/2\n",
    "#     df_fx = df_fx[~df_fx.mid_price.isna()].sort_values(by='timestamp')\n",
    "#     hurst_value, _, _ = compute_Hc(df_fx['mid_price'], kind='price', simplified=True)\n",
    "#     print(fx, hurst_value)"
   ]
  },
  {
   "cell_type": "code",
   "execution_count": null,
   "metadata": {},
   "outputs": [],
   "source": []
  },
  {
   "cell_type": "code",
   "execution_count": null,
   "metadata": {},
   "outputs": [],
   "source": [
    "df.groupby(['contract', 'instrument']).agg({'timestamp':['min', 'max']}).reset_index()\\\n",
    "                                                .sort_values(by=('timestamp', 'min'))"
   ]
  },
  {
   "cell_type": "code",
   "execution_count": null,
   "metadata": {},
   "outputs": [],
   "source": []
  },
  {
   "cell_type": "code",
   "execution_count": null,
   "metadata": {},
   "outputs": [],
   "source": []
  },
  {
   "cell_type": "code",
   "execution_count": null,
   "metadata": {},
   "outputs": [],
   "source": []
  }
 ],
 "metadata": {
  "kernelspec": {
   "display_name": "strategy-project-acofjSPn-py3.12",
   "language": "python",
   "name": "python3"
  },
  "language_info": {
   "codemirror_mode": {
    "name": "ipython",
    "version": 3
   },
   "file_extension": ".py",
   "mimetype": "text/x-python",
   "name": "python",
   "nbconvert_exporter": "python",
   "pygments_lexer": "ipython3",
   "version": "3.12.4"
  }
 },
 "nbformat": 4,
 "nbformat_minor": 2
}
