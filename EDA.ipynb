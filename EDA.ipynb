{
 "cells": [
  {
   "cell_type": "code",
   "execution_count": 1,
   "metadata": {},
   "outputs": [],
   "source": [
    "import pandas as pd\n",
    "from hurst import compute_Hc\n",
    "import matplotlib.pyplot as plt\n",
    "from tqdm import tqdm\n",
    "from joblib import Parallel, delayed\n",
    "import numpy as np\n",
    "import seaborn as sns\n",
    "import plotly.express as px\n",
    "import warnings \n",
    "warnings.filterwarnings('ignore')"
   ]
  },
  {
   "cell_type": "code",
   "execution_count": null,
   "metadata": {},
   "outputs": [],
   "source": []
  },
  {
   "cell_type": "code",
   "execution_count": null,
   "metadata": {},
   "outputs": [],
   "source": []
  },
  {
   "cell_type": "code",
   "execution_count": 2,
   "metadata": {},
   "outputs": [],
   "source": [
    "DATA_DIR = 'data/'"
   ]
  },
  {
   "cell_type": "code",
   "execution_count": 3,
   "metadata": {},
   "outputs": [],
   "source": [
    "fx_list = ['EURCZK', 'AUDUSD', 'EURHUF', 'EURNOK', 'EURPLN',\n",
    "           'EURSEK', 'EURUSD', 'GBPUSD', 'NZDUSD', 'USDCAD',\n",
    "           'USDCHF', 'USDCNH', 'USDILS', 'USDJPY', 'USDMXN', \n",
    "           'USDSGD', 'USDZAR']"
   ]
  },
  {
   "cell_type": "code",
   "execution_count": 4,
   "metadata": {},
   "outputs": [
    {
     "name": "stdout",
     "output_type": "stream",
     "text": [
      "(312822, 11)\n"
     ]
    },
    {
     "data": {
      "text/html": [
       "<div>\n",
       "<style scoped>\n",
       "    .dataframe tbody tr th:only-of-type {\n",
       "        vertical-align: middle;\n",
       "    }\n",
       "\n",
       "    .dataframe tbody tr th {\n",
       "        vertical-align: top;\n",
       "    }\n",
       "\n",
       "    .dataframe thead th {\n",
       "        text-align: right;\n",
       "    }\n",
       "</style>\n",
       "<table border=\"1\" class=\"dataframe\">\n",
       "  <thead>\n",
       "    <tr style=\"text-align: right;\">\n",
       "      <th></th>\n",
       "      <th>contract</th>\n",
       "      <th>instrument</th>\n",
       "      <th>bid</th>\n",
       "      <th>offer</th>\n",
       "      <th>bid_size</th>\n",
       "      <th>offer_size</th>\n",
       "      <th>timestamp</th>\n",
       "      <th>adjustment</th>\n",
       "      <th>Roll Adjusted Bid</th>\n",
       "      <th>Roll Adjusted Offer</th>\n",
       "      <th>mid_price</th>\n",
       "    </tr>\n",
       "  </thead>\n",
       "  <tbody>\n",
       "    <tr>\n",
       "      <th>0</th>\n",
       "      <td>ES</td>\n",
       "      <td>ESZ3</td>\n",
       "      <td>4572.75</td>\n",
       "      <td>4573.00</td>\n",
       "      <td>21</td>\n",
       "      <td>31</td>\n",
       "      <td>2023-12-01 00:01:00</td>\n",
       "      <td>316.375</td>\n",
       "      <td>4889.125</td>\n",
       "      <td>4889.375</td>\n",
       "      <td>4889.25</td>\n",
       "    </tr>\n",
       "    <tr>\n",
       "      <th>1</th>\n",
       "      <td>ES</td>\n",
       "      <td>ESZ3</td>\n",
       "      <td>4572.50</td>\n",
       "      <td>4572.75</td>\n",
       "      <td>31</td>\n",
       "      <td>23</td>\n",
       "      <td>2023-12-01 00:02:00</td>\n",
       "      <td>316.375</td>\n",
       "      <td>4888.875</td>\n",
       "      <td>4889.125</td>\n",
       "      <td>4889.00</td>\n",
       "    </tr>\n",
       "  </tbody>\n",
       "</table>\n",
       "</div>"
      ],
      "text/plain": [
       "  contract instrument      bid    offer  bid_size  offer_size  \\\n",
       "0       ES       ESZ3  4572.75  4573.00        21          31   \n",
       "1       ES       ESZ3  4572.50  4572.75        31          23   \n",
       "\n",
       "            timestamp  adjustment  Roll Adjusted Bid  Roll Adjusted Offer  \\\n",
       "0 2023-12-01 00:01:00     316.375           4889.125             4889.375   \n",
       "1 2023-12-01 00:02:00     316.375           4888.875             4889.125   \n",
       "\n",
       "   mid_price  \n",
       "0    4889.25  \n",
       "1    4889.00  "
      ]
     },
     "execution_count": 4,
     "metadata": {},
     "output_type": "execute_result"
    }
   ],
   "source": [
    "future_df = pd.read_parquet(DATA_DIR+f'futures_1min_bar.parquet')\n",
    "\n",
    "future_df = future_df.sort_values(by='timestamp')\n",
    "future_df = future_df[~future_df.bid.isna()]\n",
    "future_df['Roll Adjusted Bid'] = future_df['bid'] + future_df['adjustment']\n",
    "future_df['Roll Adjusted Offer'] = future_df['offer'] + future_df['adjustment']\n",
    "future_df['mid_price'] = (future_df['Roll Adjusted Bid'] + future_df['Roll Adjusted Offer']) / 2\n",
    "print(future_df.shape)\n",
    "future_df.head(2)"
   ]
  },
  {
   "cell_type": "code",
   "execution_count": 53,
   "metadata": {},
   "outputs": [
    {
     "data": {
      "text/plain": [
       "contract               0.0\n",
       "instrument             0.0\n",
       "bid                    0.0\n",
       "offer                  0.0\n",
       "bid_size               0.0\n",
       "offer_size             0.0\n",
       "timestamp              0.0\n",
       "adjustment             0.0\n",
       "Roll Adjusted Bid      0.0\n",
       "Roll Adjusted Offer    0.0\n",
       "mid_price              0.0\n",
       "dtype: float64"
      ]
     },
     "execution_count": 53,
     "metadata": {},
     "output_type": "execute_result"
    }
   ],
   "source": [
    "future_df.isna().mean()"
   ]
  },
  {
   "cell_type": "code",
   "execution_count": null,
   "metadata": {},
   "outputs": [],
   "source": []
  },
  {
   "cell_type": "code",
   "execution_count": null,
   "metadata": {},
   "outputs": [],
   "source": []
  },
  {
   "cell_type": "code",
   "execution_count": 48,
   "metadata": {},
   "outputs": [
    {
     "name": "stdout",
     "output_type": "stream",
     "text": [
      "EURCZK (1151405, 4)\n",
      "AUDUSD (1176103, 4)\n",
      "EURHUF (1152347, 4)\n",
      "EURNOK (1173941, 4)\n",
      "EURPLN (1153173, 4)\n",
      "EURSEK (1154995, 4)\n",
      "EURUSD (1179255, 4)\n",
      "GBPUSD (1176068, 4)\n",
      "NZDUSD (1176046, 4)\n",
      "USDCAD (1175941, 4)\n",
      "USDCHF (1176588, 4)\n",
      "USDCNH (1176026, 4)\n",
      "USDILS (1139866, 4)\n",
      "USDJPY (1175716, 4)\n",
      "USDMXN (1174505, 4)\n",
      "USDSGD (1177216, 4)\n",
      "USDZAR (1173943, 4)\n"
     ]
    }
   ],
   "source": [
    "for fx in fx_list:\n",
    "    try:\n",
    "        cur_data = pd.read_parquet(DATA_DIR+f'{fx}_data.parquet')\n",
    "        print(fx, cur_data.shape)\n",
    "    except Exception as e:\n",
    "        print(e)\n",
    "        continue "
   ]
  },
  {
   "cell_type": "markdown",
   "metadata": {},
   "source": [
    "# Hurst Exponent"
   ]
  },
  {
   "cell_type": "code",
   "execution_count": 51,
   "metadata": {},
   "outputs": [
    {
     "data": {
      "text/html": [
       "<div>\n",
       "<style scoped>\n",
       "    .dataframe tbody tr th:only-of-type {\n",
       "        vertical-align: middle;\n",
       "    }\n",
       "\n",
       "    .dataframe tbody tr th {\n",
       "        vertical-align: top;\n",
       "    }\n",
       "\n",
       "    .dataframe thead th {\n",
       "        text-align: right;\n",
       "    }\n",
       "</style>\n",
       "<table border=\"1\" class=\"dataframe\">\n",
       "  <thead>\n",
       "    <tr style=\"text-align: right;\">\n",
       "      <th></th>\n",
       "      <th>instrument</th>\n",
       "      <th>bid</th>\n",
       "      <th>offer</th>\n",
       "      <th>timestamp</th>\n",
       "    </tr>\n",
       "  </thead>\n",
       "  <tbody>\n",
       "    <tr>\n",
       "      <th>378414</th>\n",
       "      <td>\"USDZAR\"</td>\n",
       "      <td>NaN</td>\n",
       "      <td>NaN</td>\n",
       "      <td>2023-01-06 00:49:00</td>\n",
       "    </tr>\n",
       "    <tr>\n",
       "      <th>1144114</th>\n",
       "      <td>\"USDZAR\"</td>\n",
       "      <td>18.68812</td>\n",
       "      <td>18.70070</td>\n",
       "      <td>2025-01-29 02:46:00</td>\n",
       "    </tr>\n",
       "    <tr>\n",
       "      <th>605010</th>\n",
       "      <td>\"USDZAR\"</td>\n",
       "      <td>19.05800</td>\n",
       "      <td>19.06962</td>\n",
       "      <td>2023-08-18 06:11:00</td>\n",
       "    </tr>\n",
       "    <tr>\n",
       "      <th>339052</th>\n",
       "      <td>\"USDZAR\"</td>\n",
       "      <td>16.99572</td>\n",
       "      <td>17.00077</td>\n",
       "      <td>2022-11-29 16:08:00</td>\n",
       "    </tr>\n",
       "    <tr>\n",
       "      <th>1133245</th>\n",
       "      <td>\"USDZAR\"</td>\n",
       "      <td>18.73142</td>\n",
       "      <td>18.73993</td>\n",
       "      <td>2025-01-17 12:25:00</td>\n",
       "    </tr>\n",
       "    <tr>\n",
       "      <th>...</th>\n",
       "      <td>...</td>\n",
       "      <td>...</td>\n",
       "      <td>...</td>\n",
       "      <td>...</td>\n",
       "    </tr>\n",
       "    <tr>\n",
       "      <th>464211</th>\n",
       "      <td>\"USDZAR\"</td>\n",
       "      <td>17.89259</td>\n",
       "      <td>17.90087</td>\n",
       "      <td>2023-04-04 13:19:00</td>\n",
       "    </tr>\n",
       "    <tr>\n",
       "      <th>955565</th>\n",
       "      <td>\"USDZAR\"</td>\n",
       "      <td>18.24494</td>\n",
       "      <td>18.25159</td>\n",
       "      <td>2024-07-26 10:35:00</td>\n",
       "    </tr>\n",
       "    <tr>\n",
       "      <th>774991</th>\n",
       "      <td>\"USDZAR\"</td>\n",
       "      <td>18.64894</td>\n",
       "      <td>18.66060</td>\n",
       "      <td>2024-02-01 03:51:00</td>\n",
       "    </tr>\n",
       "    <tr>\n",
       "      <th>922958</th>\n",
       "      <td>\"USDZAR\"</td>\n",
       "      <td>18.22140</td>\n",
       "      <td>18.23082</td>\n",
       "      <td>2024-06-25 19:22:00</td>\n",
       "    </tr>\n",
       "    <tr>\n",
       "      <th>238964</th>\n",
       "      <td>\"USDZAR\"</td>\n",
       "      <td>17.04470</td>\n",
       "      <td>17.06233</td>\n",
       "      <td>2022-08-24 04:12:00</td>\n",
       "    </tr>\n",
       "  </tbody>\n",
       "</table>\n",
       "<p>100 rows × 4 columns</p>\n",
       "</div>"
      ],
      "text/plain": [
       "        instrument       bid     offer           timestamp\n",
       "378414    \"USDZAR\"       NaN       NaN 2023-01-06 00:49:00\n",
       "1144114   \"USDZAR\"  18.68812  18.70070 2025-01-29 02:46:00\n",
       "605010    \"USDZAR\"  19.05800  19.06962 2023-08-18 06:11:00\n",
       "339052    \"USDZAR\"  16.99572  17.00077 2022-11-29 16:08:00\n",
       "1133245   \"USDZAR\"  18.73142  18.73993 2025-01-17 12:25:00\n",
       "...            ...       ...       ...                 ...\n",
       "464211    \"USDZAR\"  17.89259  17.90087 2023-04-04 13:19:00\n",
       "955565    \"USDZAR\"  18.24494  18.25159 2024-07-26 10:35:00\n",
       "774991    \"USDZAR\"  18.64894  18.66060 2024-02-01 03:51:00\n",
       "922958    \"USDZAR\"  18.22140  18.23082 2024-06-25 19:22:00\n",
       "238964    \"USDZAR\"  17.04470  17.06233 2022-08-24 04:12:00\n",
       "\n",
       "[100 rows x 4 columns]"
      ]
     },
     "execution_count": 51,
     "metadata": {},
     "output_type": "execute_result"
    }
   ],
   "source": [
    "cur_data.sample(100)"
   ]
  },
  {
   "cell_type": "code",
   "execution_count": 5,
   "metadata": {},
   "outputs": [
    {
     "name": "stderr",
     "output_type": "stream",
     "text": [
      "100%|██████████| 17/17 [01:15<00:00,  4.47s/it]\n"
     ]
    },
    {
     "data": {
      "application/vnd.plotly.v1+json": {
       "config": {
        "plotlyServerURL": "https://plot.ly"
       },
       "data": [
        {
         "hovertemplate": "hurst_value=%{x}<br>data=%{y}<extra></extra>",
         "legendgroup": "",
         "marker": {
          "color": "#636efa",
          "pattern": {
           "shape": ""
          }
         },
         "name": "",
         "orientation": "h",
         "showlegend": false,
         "textposition": "auto",
         "type": "bar",
         "x": {
          "bdata": "4hRG/LI/3D9A1NE6YnjcP/wcgzd38Nw/xwfupGPZ3T9b23mx/ezdPyosqgh/+90/KvKZgGSz3j90ZJUAdPLeP22w06FP/N4/W0N/ZHv+3j+515XZ+xnfP4a+23zULt8/A5XMIYhg3z93Vt5LHXnfP/jqxOlYAOA/sX8Jh0cL4D8D18aVB6bgP+wEsLzdC+E/",
          "dtype": "f8"
         },
         "xaxis": "x",
         "y": [
          "EURNOK",
          "EURSEK",
          "NZDUSD",
          "USDZAR",
          "USDILS",
          "EURCZK",
          "AUDUSD",
          "USDMXN",
          "USDCAD",
          "EURHUF",
          "EURPLN",
          "USDSGD",
          "GBPUSD",
          "USDCHF",
          "USDCNH",
          "EURUSD",
          "feature",
          "USDJPY"
         ],
         "yaxis": "y"
        }
       ],
       "layout": {
        "barmode": "relative",
        "legend": {
         "tracegroupgap": 0
        },
        "margin": {
         "t": 60
        },
        "template": {
         "data": {
          "bar": [
           {
            "error_x": {
             "color": "#2a3f5f"
            },
            "error_y": {
             "color": "#2a3f5f"
            },
            "marker": {
             "line": {
              "color": "#E5ECF6",
              "width": 0.5
             },
             "pattern": {
              "fillmode": "overlay",
              "size": 10,
              "solidity": 0.2
             }
            },
            "type": "bar"
           }
          ],
          "barpolar": [
           {
            "marker": {
             "line": {
              "color": "#E5ECF6",
              "width": 0.5
             },
             "pattern": {
              "fillmode": "overlay",
              "size": 10,
              "solidity": 0.2
             }
            },
            "type": "barpolar"
           }
          ],
          "carpet": [
           {
            "aaxis": {
             "endlinecolor": "#2a3f5f",
             "gridcolor": "white",
             "linecolor": "white",
             "minorgridcolor": "white",
             "startlinecolor": "#2a3f5f"
            },
            "baxis": {
             "endlinecolor": "#2a3f5f",
             "gridcolor": "white",
             "linecolor": "white",
             "minorgridcolor": "white",
             "startlinecolor": "#2a3f5f"
            },
            "type": "carpet"
           }
          ],
          "choropleth": [
           {
            "colorbar": {
             "outlinewidth": 0,
             "ticks": ""
            },
            "type": "choropleth"
           }
          ],
          "contour": [
           {
            "colorbar": {
             "outlinewidth": 0,
             "ticks": ""
            },
            "colorscale": [
             [
              0,
              "#0d0887"
             ],
             [
              0.1111111111111111,
              "#46039f"
             ],
             [
              0.2222222222222222,
              "#7201a8"
             ],
             [
              0.3333333333333333,
              "#9c179e"
             ],
             [
              0.4444444444444444,
              "#bd3786"
             ],
             [
              0.5555555555555556,
              "#d8576b"
             ],
             [
              0.6666666666666666,
              "#ed7953"
             ],
             [
              0.7777777777777778,
              "#fb9f3a"
             ],
             [
              0.8888888888888888,
              "#fdca26"
             ],
             [
              1,
              "#f0f921"
             ]
            ],
            "type": "contour"
           }
          ],
          "contourcarpet": [
           {
            "colorbar": {
             "outlinewidth": 0,
             "ticks": ""
            },
            "type": "contourcarpet"
           }
          ],
          "heatmap": [
           {
            "colorbar": {
             "outlinewidth": 0,
             "ticks": ""
            },
            "colorscale": [
             [
              0,
              "#0d0887"
             ],
             [
              0.1111111111111111,
              "#46039f"
             ],
             [
              0.2222222222222222,
              "#7201a8"
             ],
             [
              0.3333333333333333,
              "#9c179e"
             ],
             [
              0.4444444444444444,
              "#bd3786"
             ],
             [
              0.5555555555555556,
              "#d8576b"
             ],
             [
              0.6666666666666666,
              "#ed7953"
             ],
             [
              0.7777777777777778,
              "#fb9f3a"
             ],
             [
              0.8888888888888888,
              "#fdca26"
             ],
             [
              1,
              "#f0f921"
             ]
            ],
            "type": "heatmap"
           }
          ],
          "histogram": [
           {
            "marker": {
             "pattern": {
              "fillmode": "overlay",
              "size": 10,
              "solidity": 0.2
             }
            },
            "type": "histogram"
           }
          ],
          "histogram2d": [
           {
            "colorbar": {
             "outlinewidth": 0,
             "ticks": ""
            },
            "colorscale": [
             [
              0,
              "#0d0887"
             ],
             [
              0.1111111111111111,
              "#46039f"
             ],
             [
              0.2222222222222222,
              "#7201a8"
             ],
             [
              0.3333333333333333,
              "#9c179e"
             ],
             [
              0.4444444444444444,
              "#bd3786"
             ],
             [
              0.5555555555555556,
              "#d8576b"
             ],
             [
              0.6666666666666666,
              "#ed7953"
             ],
             [
              0.7777777777777778,
              "#fb9f3a"
             ],
             [
              0.8888888888888888,
              "#fdca26"
             ],
             [
              1,
              "#f0f921"
             ]
            ],
            "type": "histogram2d"
           }
          ],
          "histogram2dcontour": [
           {
            "colorbar": {
             "outlinewidth": 0,
             "ticks": ""
            },
            "colorscale": [
             [
              0,
              "#0d0887"
             ],
             [
              0.1111111111111111,
              "#46039f"
             ],
             [
              0.2222222222222222,
              "#7201a8"
             ],
             [
              0.3333333333333333,
              "#9c179e"
             ],
             [
              0.4444444444444444,
              "#bd3786"
             ],
             [
              0.5555555555555556,
              "#d8576b"
             ],
             [
              0.6666666666666666,
              "#ed7953"
             ],
             [
              0.7777777777777778,
              "#fb9f3a"
             ],
             [
              0.8888888888888888,
              "#fdca26"
             ],
             [
              1,
              "#f0f921"
             ]
            ],
            "type": "histogram2dcontour"
           }
          ],
          "mesh3d": [
           {
            "colorbar": {
             "outlinewidth": 0,
             "ticks": ""
            },
            "type": "mesh3d"
           }
          ],
          "parcoords": [
           {
            "line": {
             "colorbar": {
              "outlinewidth": 0,
              "ticks": ""
             }
            },
            "type": "parcoords"
           }
          ],
          "pie": [
           {
            "automargin": true,
            "type": "pie"
           }
          ],
          "scatter": [
           {
            "fillpattern": {
             "fillmode": "overlay",
             "size": 10,
             "solidity": 0.2
            },
            "type": "scatter"
           }
          ],
          "scatter3d": [
           {
            "line": {
             "colorbar": {
              "outlinewidth": 0,
              "ticks": ""
             }
            },
            "marker": {
             "colorbar": {
              "outlinewidth": 0,
              "ticks": ""
             }
            },
            "type": "scatter3d"
           }
          ],
          "scattercarpet": [
           {
            "marker": {
             "colorbar": {
              "outlinewidth": 0,
              "ticks": ""
             }
            },
            "type": "scattercarpet"
           }
          ],
          "scattergeo": [
           {
            "marker": {
             "colorbar": {
              "outlinewidth": 0,
              "ticks": ""
             }
            },
            "type": "scattergeo"
           }
          ],
          "scattergl": [
           {
            "marker": {
             "colorbar": {
              "outlinewidth": 0,
              "ticks": ""
             }
            },
            "type": "scattergl"
           }
          ],
          "scattermap": [
           {
            "marker": {
             "colorbar": {
              "outlinewidth": 0,
              "ticks": ""
             }
            },
            "type": "scattermap"
           }
          ],
          "scattermapbox": [
           {
            "marker": {
             "colorbar": {
              "outlinewidth": 0,
              "ticks": ""
             }
            },
            "type": "scattermapbox"
           }
          ],
          "scatterpolar": [
           {
            "marker": {
             "colorbar": {
              "outlinewidth": 0,
              "ticks": ""
             }
            },
            "type": "scatterpolar"
           }
          ],
          "scatterpolargl": [
           {
            "marker": {
             "colorbar": {
              "outlinewidth": 0,
              "ticks": ""
             }
            },
            "type": "scatterpolargl"
           }
          ],
          "scatterternary": [
           {
            "marker": {
             "colorbar": {
              "outlinewidth": 0,
              "ticks": ""
             }
            },
            "type": "scatterternary"
           }
          ],
          "surface": [
           {
            "colorbar": {
             "outlinewidth": 0,
             "ticks": ""
            },
            "colorscale": [
             [
              0,
              "#0d0887"
             ],
             [
              0.1111111111111111,
              "#46039f"
             ],
             [
              0.2222222222222222,
              "#7201a8"
             ],
             [
              0.3333333333333333,
              "#9c179e"
             ],
             [
              0.4444444444444444,
              "#bd3786"
             ],
             [
              0.5555555555555556,
              "#d8576b"
             ],
             [
              0.6666666666666666,
              "#ed7953"
             ],
             [
              0.7777777777777778,
              "#fb9f3a"
             ],
             [
              0.8888888888888888,
              "#fdca26"
             ],
             [
              1,
              "#f0f921"
             ]
            ],
            "type": "surface"
           }
          ],
          "table": [
           {
            "cells": {
             "fill": {
              "color": "#EBF0F8"
             },
             "line": {
              "color": "white"
             }
            },
            "header": {
             "fill": {
              "color": "#C8D4E3"
             },
             "line": {
              "color": "white"
             }
            },
            "type": "table"
           }
          ]
         },
         "layout": {
          "annotationdefaults": {
           "arrowcolor": "#2a3f5f",
           "arrowhead": 0,
           "arrowwidth": 1
          },
          "autotypenumbers": "strict",
          "coloraxis": {
           "colorbar": {
            "outlinewidth": 0,
            "ticks": ""
           }
          },
          "colorscale": {
           "diverging": [
            [
             0,
             "#8e0152"
            ],
            [
             0.1,
             "#c51b7d"
            ],
            [
             0.2,
             "#de77ae"
            ],
            [
             0.3,
             "#f1b6da"
            ],
            [
             0.4,
             "#fde0ef"
            ],
            [
             0.5,
             "#f7f7f7"
            ],
            [
             0.6,
             "#e6f5d0"
            ],
            [
             0.7,
             "#b8e186"
            ],
            [
             0.8,
             "#7fbc41"
            ],
            [
             0.9,
             "#4d9221"
            ],
            [
             1,
             "#276419"
            ]
           ],
           "sequential": [
            [
             0,
             "#0d0887"
            ],
            [
             0.1111111111111111,
             "#46039f"
            ],
            [
             0.2222222222222222,
             "#7201a8"
            ],
            [
             0.3333333333333333,
             "#9c179e"
            ],
            [
             0.4444444444444444,
             "#bd3786"
            ],
            [
             0.5555555555555556,
             "#d8576b"
            ],
            [
             0.6666666666666666,
             "#ed7953"
            ],
            [
             0.7777777777777778,
             "#fb9f3a"
            ],
            [
             0.8888888888888888,
             "#fdca26"
            ],
            [
             1,
             "#f0f921"
            ]
           ],
           "sequentialminus": [
            [
             0,
             "#0d0887"
            ],
            [
             0.1111111111111111,
             "#46039f"
            ],
            [
             0.2222222222222222,
             "#7201a8"
            ],
            [
             0.3333333333333333,
             "#9c179e"
            ],
            [
             0.4444444444444444,
             "#bd3786"
            ],
            [
             0.5555555555555556,
             "#d8576b"
            ],
            [
             0.6666666666666666,
             "#ed7953"
            ],
            [
             0.7777777777777778,
             "#fb9f3a"
            ],
            [
             0.8888888888888888,
             "#fdca26"
            ],
            [
             1,
             "#f0f921"
            ]
           ]
          },
          "colorway": [
           "#636efa",
           "#EF553B",
           "#00cc96",
           "#ab63fa",
           "#FFA15A",
           "#19d3f3",
           "#FF6692",
           "#B6E880",
           "#FF97FF",
           "#FECB52"
          ],
          "font": {
           "color": "#2a3f5f"
          },
          "geo": {
           "bgcolor": "white",
           "lakecolor": "white",
           "landcolor": "#E5ECF6",
           "showlakes": true,
           "showland": true,
           "subunitcolor": "white"
          },
          "hoverlabel": {
           "align": "left"
          },
          "hovermode": "closest",
          "mapbox": {
           "style": "light"
          },
          "paper_bgcolor": "white",
          "plot_bgcolor": "#E5ECF6",
          "polar": {
           "angularaxis": {
            "gridcolor": "white",
            "linecolor": "white",
            "ticks": ""
           },
           "bgcolor": "#E5ECF6",
           "radialaxis": {
            "gridcolor": "white",
            "linecolor": "white",
            "ticks": ""
           }
          },
          "scene": {
           "xaxis": {
            "backgroundcolor": "#E5ECF6",
            "gridcolor": "white",
            "gridwidth": 2,
            "linecolor": "white",
            "showbackground": true,
            "ticks": "",
            "zerolinecolor": "white"
           },
           "yaxis": {
            "backgroundcolor": "#E5ECF6",
            "gridcolor": "white",
            "gridwidth": 2,
            "linecolor": "white",
            "showbackground": true,
            "ticks": "",
            "zerolinecolor": "white"
           },
           "zaxis": {
            "backgroundcolor": "#E5ECF6",
            "gridcolor": "white",
            "gridwidth": 2,
            "linecolor": "white",
            "showbackground": true,
            "ticks": "",
            "zerolinecolor": "white"
           }
          },
          "shapedefaults": {
           "line": {
            "color": "#2a3f5f"
           }
          },
          "ternary": {
           "aaxis": {
            "gridcolor": "white",
            "linecolor": "white",
            "ticks": ""
           },
           "baxis": {
            "gridcolor": "white",
            "linecolor": "white",
            "ticks": ""
           },
           "bgcolor": "#E5ECF6",
           "caxis": {
            "gridcolor": "white",
            "linecolor": "white",
            "ticks": ""
           }
          },
          "title": {
           "x": 0.05
          },
          "xaxis": {
           "automargin": true,
           "gridcolor": "white",
           "linecolor": "white",
           "ticks": "",
           "title": {
            "standoff": 15
           },
           "zerolinecolor": "white",
           "zerolinewidth": 2
          },
          "yaxis": {
           "automargin": true,
           "gridcolor": "white",
           "linecolor": "white",
           "ticks": "",
           "title": {
            "standoff": 15
           },
           "zerolinecolor": "white",
           "zerolinewidth": 2
          }
         }
        },
        "xaxis": {
         "anchor": "y",
         "domain": [
          0,
          1
         ],
         "title": {
          "text": "hurst_value"
         }
        },
        "yaxis": {
         "anchor": "x",
         "domain": [
          0,
          1
         ],
         "title": {
          "text": "data"
         }
        }
       }
      }
     },
     "metadata": {},
     "output_type": "display_data"
    }
   ],
   "source": [
    "hurst_df = [['feature', compute_Hc(future_df['mid_price'], kind='price', simplified=False)[0]]]\n",
    "\n",
    "for fx in tqdm(fx_list):\n",
    "    cur_data = pd.read_parquet(DATA_DIR+f'{fx}_data.parquet')\n",
    "    cur_data['mid_price'] = (cur_data['bid'] + cur_data['offer'])/2\n",
    "    cur_data = cur_data[~cur_data.mid_price.isna()].sort_values(by='timestamp')\n",
    "    hurst_value, _, _ = compute_Hc(cur_data['mid_price'], kind='price', simplified=True)\n",
    "\n",
    "    hurst_df.append([fx, hurst_value])\n",
    "\n",
    "hurst_df = pd.DataFrame(hurst_df, columns = ['data', 'hurst_value'])\n",
    "\n",
    "px.bar(\n",
    "    hurst_df.sort_values(by='hurst_value'),\n",
    "    x='hurst_value',\n",
    "    y='data'\n",
    ")"
   ]
  },
  {
   "cell_type": "code",
   "execution_count": null,
   "metadata": {},
   "outputs": [
    {
     "name": "stderr",
     "output_type": "stream",
     "text": [
      "100%|██████████| 50/50 [00:06<00:00,  8.11it/s]\n"
     ]
    }
   ],
   "source": [
    "# from joblib import Parallel, delayed\n",
    "\n",
    "# def block_bootstrap_hurst(series, n_iter=50, n_jobs=-1):\n",
    "#     \"\"\"\n",
    "#     Блочный бутстрап для временных рядов: сохраняет временную структуру внутри блоков.\n",
    "\n",
    "#     :param series: 1D массив (временной ряд)\n",
    "#     :param block_size: размер блока (например, 50)\n",
    "#     :param n_iter: количество бутстрап-итераций\n",
    "#     :param n_jobs: число потоков для параллелизации\n",
    "#     :param show_progress: показывать ли прогресс-бар\n",
    "#     :return: (95% доверительный интервал, среднее значение Hurst)\n",
    "#     \"\"\"\n",
    "#     series = np.asarray(series)\n",
    "#     n = len(series)\n",
    "\n",
    "#     def one_iter(_):\n",
    "#         block_finish = np.random.randint(100_000, n + 1)\n",
    "#         blocks = series[:block_finish]\n",
    "#         H, _, _ = compute_Hc(blocks, kind='price', simplified=False)\n",
    "#         return H\n",
    "\n",
    "#     results = Parallel(n_jobs=n_jobs)(\n",
    "#         delayed(one_iter)(i) for i in tqdm(range(n_iter))\n",
    "#     )\n",
    "    \n",
    "\n",
    "#     return np.percentile(results, [2.5, 97.5]), np.mean(results)\n",
    "\n",
    "\n",
    "# hurst_df_ci = []\n",
    "\n",
    "# ci, mean_hurst = block_bootstrap_hurst(future_df['mid_price'].dropna().values)\n",
    "# hurst_df_ci.append(['feature', mean_hurst, ci[0], ci[1]])\n",
    "\n",
    "# for fx in tqdm(fx_list):\n",
    "#     cur_data = pd.read_parquet(DATA_DIR+f'{fx}_data.parquet')\n",
    "#     cur_data['mid_price'] = (cur_data['bid'] + cur_data['offer'])/2\n",
    "#     cur_data = cur_data[~cur_data.mid_price.isna()].sort_values(by='timestamp')\n",
    "#     ci, mean_hurst = block_bootstrap_hurst(cur_data['mid_price'].dropna().values)\n",
    "\n",
    "#     hurst_df_ci.append([fx, mean_hurst, ci[0], ci[1]])"
   ]
  },
  {
   "cell_type": "code",
   "execution_count": 6,
   "metadata": {},
   "outputs": [],
   "source": [
    "def bootstrap_hurst(series, n_iter=100, sample_frac=0.8, n_jobs=-1):\n",
    "    series = np.asarray(series)\n",
    "    n = len(series)\n",
    "    sample_size = int(n * sample_frac)\n",
    "\n",
    "    # Внутренняя функция для одной итерации\n",
    "    def one_bootstrap():\n",
    "        idx = np.random.choice(n, size=sample_size, replace=False)\n",
    "        sample = series[np.sort(idx)]\n",
    "        H, _, _ = compute_Hc(sample, kind='price', simplified=False)\n",
    "        return H\n",
    "\n",
    "    # Параллельное выполнение\n",
    "    hurst_vals = Parallel(n_jobs=n_jobs)(\n",
    "        delayed(one_bootstrap)() for _ in tqdm(range(n_iter), desc='Bootstaping...')\n",
    "    )\n",
    "\n",
    "    return np.percentile(hurst_vals, [2.5, 97.5]), np.mean(hurst_vals)"
   ]
  },
  {
   "cell_type": "code",
   "execution_count": 7,
   "metadata": {},
   "outputs": [
    {
     "name": "stderr",
     "output_type": "stream",
     "text": [
      "Bootstaping...: 100%|██████████| 100/100 [00:16<00:00,  6.06it/s]\n"
     ]
    }
   ],
   "source": [
    "hurst_df_ci = []\n",
    "\n",
    "ci, mean_hurst = bootstrap_hurst(future_df['mid_price'].dropna().values)\n",
    "hurst_df_ci.append(['feature', mean_hurst, ci[0], ci[1]])"
   ]
  },
  {
   "cell_type": "code",
   "execution_count": 11,
   "metadata": {},
   "outputs": [
    {
     "name": "stderr",
     "output_type": "stream",
     "text": [
      "Bootstaping...: 100%|██████████| 100/100 [00:48<00:00,  2.08it/s]\n"
     ]
    },
    {
     "name": "stdout",
     "output_type": "stream",
     "text": [
      "EURCZK\n"
     ]
    },
    {
     "name": "stderr",
     "output_type": "stream",
     "text": [
      "Bootstaping...: 100%|██████████| 100/100 [00:59<00:00,  1.67it/s]\n"
     ]
    },
    {
     "name": "stdout",
     "output_type": "stream",
     "text": [
      "AUDUSD\n"
     ]
    },
    {
     "name": "stderr",
     "output_type": "stream",
     "text": [
      "Bootstaping...:  40%|████      | 40/100 [00:17<00:28,  2.09it/s]"
     ]
    },
    {
     "ename": "KeyboardInterrupt",
     "evalue": "",
     "output_type": "error",
     "traceback": [
      "\u001b[31m---------------------------------------------------------------------------\u001b[39m",
      "\u001b[31mKeyboardInterrupt\u001b[39m                         Traceback (most recent call last)",
      "\u001b[36mCell\u001b[39m\u001b[36m \u001b[39m\u001b[32mIn[11]\u001b[39m\u001b[32m, line 5\u001b[39m\n\u001b[32m      3\u001b[39m cur_data[\u001b[33m'\u001b[39m\u001b[33mmid_price\u001b[39m\u001b[33m'\u001b[39m] = (cur_data[\u001b[33m'\u001b[39m\u001b[33mbid\u001b[39m\u001b[33m'\u001b[39m] + cur_data[\u001b[33m'\u001b[39m\u001b[33moffer\u001b[39m\u001b[33m'\u001b[39m])/\u001b[32m2\u001b[39m\n\u001b[32m      4\u001b[39m cur_data = cur_data[~cur_data.mid_price.isna()].sort_values(by=\u001b[33m'\u001b[39m\u001b[33mtimestamp\u001b[39m\u001b[33m'\u001b[39m)\n\u001b[32m----> \u001b[39m\u001b[32m5\u001b[39m ci, mean_hurst = \u001b[43mbootstrap_hurst\u001b[49m\u001b[43m(\u001b[49m\u001b[43mcur_data\u001b[49m\u001b[43m[\u001b[49m\u001b[33;43m'\u001b[39;49m\u001b[33;43mmid_price\u001b[39;49m\u001b[33;43m'\u001b[39;49m\u001b[43m]\u001b[49m\u001b[43m.\u001b[49m\u001b[43mdropna\u001b[49m\u001b[43m(\u001b[49m\u001b[43m)\u001b[49m\u001b[43m.\u001b[49m\u001b[43mvalues\u001b[49m\u001b[43m)\u001b[49m\n\u001b[32m      7\u001b[39m hurst_df_ci.append([fx, mean_hurst, ci[\u001b[32m0\u001b[39m], ci[\u001b[32m1\u001b[39m]])\n\u001b[32m      8\u001b[39m \u001b[38;5;28mprint\u001b[39m(fx)\n",
      "\u001b[36mCell\u001b[39m\u001b[36m \u001b[39m\u001b[32mIn[6]\u001b[39m\u001b[32m, line 14\u001b[39m, in \u001b[36mbootstrap_hurst\u001b[39m\u001b[34m(series, n_iter, sample_frac, n_jobs)\u001b[39m\n\u001b[32m     11\u001b[39m     \u001b[38;5;28;01mreturn\u001b[39;00m H\n\u001b[32m     13\u001b[39m \u001b[38;5;66;03m# Параллельное выполнение\u001b[39;00m\n\u001b[32m---> \u001b[39m\u001b[32m14\u001b[39m hurst_vals = \u001b[43mParallel\u001b[49m\u001b[43m(\u001b[49m\u001b[43mn_jobs\u001b[49m\u001b[43m=\u001b[49m\u001b[43mn_jobs\u001b[49m\u001b[43m)\u001b[49m\u001b[43m(\u001b[49m\n\u001b[32m     15\u001b[39m \u001b[43m    \u001b[49m\u001b[43mdelayed\u001b[49m\u001b[43m(\u001b[49m\u001b[43mone_bootstrap\u001b[49m\u001b[43m)\u001b[49m\u001b[43m(\u001b[49m\u001b[43m)\u001b[49m\u001b[43m \u001b[49m\u001b[38;5;28;43;01mfor\u001b[39;49;00m\u001b[43m \u001b[49m\u001b[43m_\u001b[49m\u001b[43m \u001b[49m\u001b[38;5;129;43;01min\u001b[39;49;00m\u001b[43m \u001b[49m\u001b[43mtqdm\u001b[49m\u001b[43m(\u001b[49m\u001b[38;5;28;43mrange\u001b[39;49m\u001b[43m(\u001b[49m\u001b[43mn_iter\u001b[49m\u001b[43m)\u001b[49m\u001b[43m,\u001b[49m\u001b[43m \u001b[49m\u001b[43mdesc\u001b[49m\u001b[43m=\u001b[49m\u001b[33;43m'\u001b[39;49m\u001b[33;43mBootstaping...\u001b[39;49m\u001b[33;43m'\u001b[39;49m\u001b[43m)\u001b[49m\n\u001b[32m     16\u001b[39m \u001b[43m\u001b[49m\u001b[43m)\u001b[49m\n\u001b[32m     18\u001b[39m \u001b[38;5;28;01mreturn\u001b[39;00m np.percentile(hurst_vals, [\u001b[32m2.5\u001b[39m, \u001b[32m97.5\u001b[39m]), np.mean(hurst_vals)\n",
      "\u001b[36mFile \u001b[39m\u001b[32m~/Library/Caches/pypoetry/virtualenvs/strategy-project-acofjSPn-py3.12/lib/python3.12/site-packages/joblib/parallel.py:2007\u001b[39m, in \u001b[36mParallel.__call__\u001b[39m\u001b[34m(self, iterable)\u001b[39m\n\u001b[32m   2001\u001b[39m \u001b[38;5;66;03m# The first item from the output is blank, but it makes the interpreter\u001b[39;00m\n\u001b[32m   2002\u001b[39m \u001b[38;5;66;03m# progress until it enters the Try/Except block of the generator and\u001b[39;00m\n\u001b[32m   2003\u001b[39m \u001b[38;5;66;03m# reaches the first `yield` statement. This starts the asynchronous\u001b[39;00m\n\u001b[32m   2004\u001b[39m \u001b[38;5;66;03m# dispatch of the tasks to the workers.\u001b[39;00m\n\u001b[32m   2005\u001b[39m \u001b[38;5;28mnext\u001b[39m(output)\n\u001b[32m-> \u001b[39m\u001b[32m2007\u001b[39m \u001b[38;5;28;01mreturn\u001b[39;00m output \u001b[38;5;28;01mif\u001b[39;00m \u001b[38;5;28mself\u001b[39m.return_generator \u001b[38;5;28;01melse\u001b[39;00m \u001b[38;5;28;43mlist\u001b[39;49m\u001b[43m(\u001b[49m\u001b[43moutput\u001b[49m\u001b[43m)\u001b[49m\n",
      "\u001b[36mFile \u001b[39m\u001b[32m~/Library/Caches/pypoetry/virtualenvs/strategy-project-acofjSPn-py3.12/lib/python3.12/site-packages/joblib/parallel.py:1650\u001b[39m, in \u001b[36mParallel._get_outputs\u001b[39m\u001b[34m(self, iterator, pre_dispatch)\u001b[39m\n\u001b[32m   1647\u001b[39m     \u001b[38;5;28;01myield\u001b[39;00m\n\u001b[32m   1649\u001b[39m     \u001b[38;5;28;01mwith\u001b[39;00m \u001b[38;5;28mself\u001b[39m._backend.retrieval_context():\n\u001b[32m-> \u001b[39m\u001b[32m1650\u001b[39m         \u001b[38;5;28;01myield from\u001b[39;00m \u001b[38;5;28mself\u001b[39m._retrieve()\n\u001b[32m   1652\u001b[39m \u001b[38;5;28;01mexcept\u001b[39;00m \u001b[38;5;167;01mGeneratorExit\u001b[39;00m:\n\u001b[32m   1653\u001b[39m     \u001b[38;5;66;03m# The generator has been garbage collected before being fully\u001b[39;00m\n\u001b[32m   1654\u001b[39m     \u001b[38;5;66;03m# consumed. This aborts the remaining tasks if possible and warn\u001b[39;00m\n\u001b[32m   1655\u001b[39m     \u001b[38;5;66;03m# the user if necessary.\u001b[39;00m\n\u001b[32m   1656\u001b[39m     \u001b[38;5;28mself\u001b[39m._exception = \u001b[38;5;28;01mTrue\u001b[39;00m\n",
      "\u001b[36mFile \u001b[39m\u001b[32m~/Library/Caches/pypoetry/virtualenvs/strategy-project-acofjSPn-py3.12/lib/python3.12/site-packages/joblib/parallel.py:1762\u001b[39m, in \u001b[36mParallel._retrieve\u001b[39m\u001b[34m(self)\u001b[39m\n\u001b[32m   1757\u001b[39m \u001b[38;5;66;03m# If the next job is not ready for retrieval yet, we just wait for\u001b[39;00m\n\u001b[32m   1758\u001b[39m \u001b[38;5;66;03m# async callbacks to progress.\u001b[39;00m\n\u001b[32m   1759\u001b[39m \u001b[38;5;28;01mif\u001b[39;00m ((\u001b[38;5;28mlen\u001b[39m(\u001b[38;5;28mself\u001b[39m._jobs) == \u001b[32m0\u001b[39m) \u001b[38;5;129;01mor\u001b[39;00m\n\u001b[32m   1760\u001b[39m     (\u001b[38;5;28mself\u001b[39m._jobs[\u001b[32m0\u001b[39m].get_status(\n\u001b[32m   1761\u001b[39m         timeout=\u001b[38;5;28mself\u001b[39m.timeout) == TASK_PENDING)):\n\u001b[32m-> \u001b[39m\u001b[32m1762\u001b[39m     \u001b[43mtime\u001b[49m\u001b[43m.\u001b[49m\u001b[43msleep\u001b[49m\u001b[43m(\u001b[49m\u001b[32;43m0.01\u001b[39;49m\u001b[43m)\u001b[49m\n\u001b[32m   1763\u001b[39m     \u001b[38;5;28;01mcontinue\u001b[39;00m\n\u001b[32m   1765\u001b[39m \u001b[38;5;66;03m# We need to be careful: the job list can be filling up as\u001b[39;00m\n\u001b[32m   1766\u001b[39m \u001b[38;5;66;03m# we empty it and Python list are not thread-safe by\u001b[39;00m\n\u001b[32m   1767\u001b[39m \u001b[38;5;66;03m# default hence the use of the lock\u001b[39;00m\n",
      "\u001b[31mKeyboardInterrupt\u001b[39m: "
     ]
    }
   ],
   "source": [
    "for fx in fx_list:\n",
    "    cur_data = pd.read_parquet(DATA_DIR+f'{fx}_data.parquet')\n",
    "    cur_data['mid_price'] = (cur_data['bid'] + cur_data['offer'])/2\n",
    "    cur_data = cur_data[~cur_data.mid_price.isna()].sort_values(by='timestamp')\n",
    "    ci, mean_hurst = bootstrap_hurst(cur_data['mid_price'].dropna().values)\n",
    "\n",
    "    hurst_df_ci.append([fx, mean_hurst, ci[0], ci[1]])\n",
    "    print(fx)\n"
   ]
  },
  {
   "cell_type": "code",
   "execution_count": 17,
   "metadata": {},
   "outputs": [],
   "source": [
    "hurst_df_ci = pd.DataFrame(hurst_df_ci, columns=['data', 'hurst_value', 'ci_low', 'ci_high'])"
   ]
  },
  {
   "cell_type": "code",
   "execution_count": 18,
   "metadata": {},
   "outputs": [
    {
     "name": "stderr",
     "output_type": "stream",
     "text": [
      "Bootstaping...:  87%|████████▋ | 87/100 [05:42<00:51,  3.94s/it]\n",
      "Bootstaping...:  47%|████▋     | 47/100 [02:04<02:20,  2.66s/it]\n"
     ]
    },
    {
     "data": {
      "application/vnd.plotly.v1+json": {
       "config": {
        "plotlyServerURL": "https://plot.ly"
       },
       "data": [
        {
         "error_x": {
          "array": {
           "bdata": "APIm7pJ2Uj8AihKKRz5oP4DlBW5762I/",
           "dtype": "f8"
          },
          "arrayminus": {
           "bdata": "ABpkuwh+Zj8AMNvxRQ1vP4CzhsutpmE/",
           "dtype": "f8"
          }
         },
         "hovertemplate": "hurst_value=%{x}<br>data=%{y}<extra></extra>",
         "legendgroup": "",
         "marker": {
          "color": "#636efa",
          "pattern": {
           "shape": ""
          }
         },
         "name": "",
         "orientation": "h",
         "showlegend": false,
         "textposition": "auto",
         "type": "bar",
         "x": {
          "bdata": "j3Gw7LOG3j93vPnL/8XfPzZnz8GAr+A/",
          "dtype": "f8"
         },
         "xaxis": "x",
         "y": [
          "EURCZK",
          "AUDUSD",
          "feature"
         ],
         "yaxis": "y"
        }
       ],
       "layout": {
        "barmode": "relative",
        "legend": {
         "tracegroupgap": 0
        },
        "template": {
         "data": {
          "bar": [
           {
            "error_x": {
             "color": "#2a3f5f"
            },
            "error_y": {
             "color": "#2a3f5f"
            },
            "marker": {
             "line": {
              "color": "#E5ECF6",
              "width": 0.5
             },
             "pattern": {
              "fillmode": "overlay",
              "size": 10,
              "solidity": 0.2
             }
            },
            "type": "bar"
           }
          ],
          "barpolar": [
           {
            "marker": {
             "line": {
              "color": "#E5ECF6",
              "width": 0.5
             },
             "pattern": {
              "fillmode": "overlay",
              "size": 10,
              "solidity": 0.2
             }
            },
            "type": "barpolar"
           }
          ],
          "carpet": [
           {
            "aaxis": {
             "endlinecolor": "#2a3f5f",
             "gridcolor": "white",
             "linecolor": "white",
             "minorgridcolor": "white",
             "startlinecolor": "#2a3f5f"
            },
            "baxis": {
             "endlinecolor": "#2a3f5f",
             "gridcolor": "white",
             "linecolor": "white",
             "minorgridcolor": "white",
             "startlinecolor": "#2a3f5f"
            },
            "type": "carpet"
           }
          ],
          "choropleth": [
           {
            "colorbar": {
             "outlinewidth": 0,
             "ticks": ""
            },
            "type": "choropleth"
           }
          ],
          "contour": [
           {
            "colorbar": {
             "outlinewidth": 0,
             "ticks": ""
            },
            "colorscale": [
             [
              0,
              "#0d0887"
             ],
             [
              0.1111111111111111,
              "#46039f"
             ],
             [
              0.2222222222222222,
              "#7201a8"
             ],
             [
              0.3333333333333333,
              "#9c179e"
             ],
             [
              0.4444444444444444,
              "#bd3786"
             ],
             [
              0.5555555555555556,
              "#d8576b"
             ],
             [
              0.6666666666666666,
              "#ed7953"
             ],
             [
              0.7777777777777778,
              "#fb9f3a"
             ],
             [
              0.8888888888888888,
              "#fdca26"
             ],
             [
              1,
              "#f0f921"
             ]
            ],
            "type": "contour"
           }
          ],
          "contourcarpet": [
           {
            "colorbar": {
             "outlinewidth": 0,
             "ticks": ""
            },
            "type": "contourcarpet"
           }
          ],
          "heatmap": [
           {
            "colorbar": {
             "outlinewidth": 0,
             "ticks": ""
            },
            "colorscale": [
             [
              0,
              "#0d0887"
             ],
             [
              0.1111111111111111,
              "#46039f"
             ],
             [
              0.2222222222222222,
              "#7201a8"
             ],
             [
              0.3333333333333333,
              "#9c179e"
             ],
             [
              0.4444444444444444,
              "#bd3786"
             ],
             [
              0.5555555555555556,
              "#d8576b"
             ],
             [
              0.6666666666666666,
              "#ed7953"
             ],
             [
              0.7777777777777778,
              "#fb9f3a"
             ],
             [
              0.8888888888888888,
              "#fdca26"
             ],
             [
              1,
              "#f0f921"
             ]
            ],
            "type": "heatmap"
           }
          ],
          "histogram": [
           {
            "marker": {
             "pattern": {
              "fillmode": "overlay",
              "size": 10,
              "solidity": 0.2
             }
            },
            "type": "histogram"
           }
          ],
          "histogram2d": [
           {
            "colorbar": {
             "outlinewidth": 0,
             "ticks": ""
            },
            "colorscale": [
             [
              0,
              "#0d0887"
             ],
             [
              0.1111111111111111,
              "#46039f"
             ],
             [
              0.2222222222222222,
              "#7201a8"
             ],
             [
              0.3333333333333333,
              "#9c179e"
             ],
             [
              0.4444444444444444,
              "#bd3786"
             ],
             [
              0.5555555555555556,
              "#d8576b"
             ],
             [
              0.6666666666666666,
              "#ed7953"
             ],
             [
              0.7777777777777778,
              "#fb9f3a"
             ],
             [
              0.8888888888888888,
              "#fdca26"
             ],
             [
              1,
              "#f0f921"
             ]
            ],
            "type": "histogram2d"
           }
          ],
          "histogram2dcontour": [
           {
            "colorbar": {
             "outlinewidth": 0,
             "ticks": ""
            },
            "colorscale": [
             [
              0,
              "#0d0887"
             ],
             [
              0.1111111111111111,
              "#46039f"
             ],
             [
              0.2222222222222222,
              "#7201a8"
             ],
             [
              0.3333333333333333,
              "#9c179e"
             ],
             [
              0.4444444444444444,
              "#bd3786"
             ],
             [
              0.5555555555555556,
              "#d8576b"
             ],
             [
              0.6666666666666666,
              "#ed7953"
             ],
             [
              0.7777777777777778,
              "#fb9f3a"
             ],
             [
              0.8888888888888888,
              "#fdca26"
             ],
             [
              1,
              "#f0f921"
             ]
            ],
            "type": "histogram2dcontour"
           }
          ],
          "mesh3d": [
           {
            "colorbar": {
             "outlinewidth": 0,
             "ticks": ""
            },
            "type": "mesh3d"
           }
          ],
          "parcoords": [
           {
            "line": {
             "colorbar": {
              "outlinewidth": 0,
              "ticks": ""
             }
            },
            "type": "parcoords"
           }
          ],
          "pie": [
           {
            "automargin": true,
            "type": "pie"
           }
          ],
          "scatter": [
           {
            "fillpattern": {
             "fillmode": "overlay",
             "size": 10,
             "solidity": 0.2
            },
            "type": "scatter"
           }
          ],
          "scatter3d": [
           {
            "line": {
             "colorbar": {
              "outlinewidth": 0,
              "ticks": ""
             }
            },
            "marker": {
             "colorbar": {
              "outlinewidth": 0,
              "ticks": ""
             }
            },
            "type": "scatter3d"
           }
          ],
          "scattercarpet": [
           {
            "marker": {
             "colorbar": {
              "outlinewidth": 0,
              "ticks": ""
             }
            },
            "type": "scattercarpet"
           }
          ],
          "scattergeo": [
           {
            "marker": {
             "colorbar": {
              "outlinewidth": 0,
              "ticks": ""
             }
            },
            "type": "scattergeo"
           }
          ],
          "scattergl": [
           {
            "marker": {
             "colorbar": {
              "outlinewidth": 0,
              "ticks": ""
             }
            },
            "type": "scattergl"
           }
          ],
          "scattermap": [
           {
            "marker": {
             "colorbar": {
              "outlinewidth": 0,
              "ticks": ""
             }
            },
            "type": "scattermap"
           }
          ],
          "scattermapbox": [
           {
            "marker": {
             "colorbar": {
              "outlinewidth": 0,
              "ticks": ""
             }
            },
            "type": "scattermapbox"
           }
          ],
          "scatterpolar": [
           {
            "marker": {
             "colorbar": {
              "outlinewidth": 0,
              "ticks": ""
             }
            },
            "type": "scatterpolar"
           }
          ],
          "scatterpolargl": [
           {
            "marker": {
             "colorbar": {
              "outlinewidth": 0,
              "ticks": ""
             }
            },
            "type": "scatterpolargl"
           }
          ],
          "scatterternary": [
           {
            "marker": {
             "colorbar": {
              "outlinewidth": 0,
              "ticks": ""
             }
            },
            "type": "scatterternary"
           }
          ],
          "surface": [
           {
            "colorbar": {
             "outlinewidth": 0,
             "ticks": ""
            },
            "colorscale": [
             [
              0,
              "#0d0887"
             ],
             [
              0.1111111111111111,
              "#46039f"
             ],
             [
              0.2222222222222222,
              "#7201a8"
             ],
             [
              0.3333333333333333,
              "#9c179e"
             ],
             [
              0.4444444444444444,
              "#bd3786"
             ],
             [
              0.5555555555555556,
              "#d8576b"
             ],
             [
              0.6666666666666666,
              "#ed7953"
             ],
             [
              0.7777777777777778,
              "#fb9f3a"
             ],
             [
              0.8888888888888888,
              "#fdca26"
             ],
             [
              1,
              "#f0f921"
             ]
            ],
            "type": "surface"
           }
          ],
          "table": [
           {
            "cells": {
             "fill": {
              "color": "#EBF0F8"
             },
             "line": {
              "color": "white"
             }
            },
            "header": {
             "fill": {
              "color": "#C8D4E3"
             },
             "line": {
              "color": "white"
             }
            },
            "type": "table"
           }
          ]
         },
         "layout": {
          "annotationdefaults": {
           "arrowcolor": "#2a3f5f",
           "arrowhead": 0,
           "arrowwidth": 1
          },
          "autotypenumbers": "strict",
          "coloraxis": {
           "colorbar": {
            "outlinewidth": 0,
            "ticks": ""
           }
          },
          "colorscale": {
           "diverging": [
            [
             0,
             "#8e0152"
            ],
            [
             0.1,
             "#c51b7d"
            ],
            [
             0.2,
             "#de77ae"
            ],
            [
             0.3,
             "#f1b6da"
            ],
            [
             0.4,
             "#fde0ef"
            ],
            [
             0.5,
             "#f7f7f7"
            ],
            [
             0.6,
             "#e6f5d0"
            ],
            [
             0.7,
             "#b8e186"
            ],
            [
             0.8,
             "#7fbc41"
            ],
            [
             0.9,
             "#4d9221"
            ],
            [
             1,
             "#276419"
            ]
           ],
           "sequential": [
            [
             0,
             "#0d0887"
            ],
            [
             0.1111111111111111,
             "#46039f"
            ],
            [
             0.2222222222222222,
             "#7201a8"
            ],
            [
             0.3333333333333333,
             "#9c179e"
            ],
            [
             0.4444444444444444,
             "#bd3786"
            ],
            [
             0.5555555555555556,
             "#d8576b"
            ],
            [
             0.6666666666666666,
             "#ed7953"
            ],
            [
             0.7777777777777778,
             "#fb9f3a"
            ],
            [
             0.8888888888888888,
             "#fdca26"
            ],
            [
             1,
             "#f0f921"
            ]
           ],
           "sequentialminus": [
            [
             0,
             "#0d0887"
            ],
            [
             0.1111111111111111,
             "#46039f"
            ],
            [
             0.2222222222222222,
             "#7201a8"
            ],
            [
             0.3333333333333333,
             "#9c179e"
            ],
            [
             0.4444444444444444,
             "#bd3786"
            ],
            [
             0.5555555555555556,
             "#d8576b"
            ],
            [
             0.6666666666666666,
             "#ed7953"
            ],
            [
             0.7777777777777778,
             "#fb9f3a"
            ],
            [
             0.8888888888888888,
             "#fdca26"
            ],
            [
             1,
             "#f0f921"
            ]
           ]
          },
          "colorway": [
           "#636efa",
           "#EF553B",
           "#00cc96",
           "#ab63fa",
           "#FFA15A",
           "#19d3f3",
           "#FF6692",
           "#B6E880",
           "#FF97FF",
           "#FECB52"
          ],
          "font": {
           "color": "#2a3f5f"
          },
          "geo": {
           "bgcolor": "white",
           "lakecolor": "white",
           "landcolor": "#E5ECF6",
           "showlakes": true,
           "showland": true,
           "subunitcolor": "white"
          },
          "hoverlabel": {
           "align": "left"
          },
          "hovermode": "closest",
          "mapbox": {
           "style": "light"
          },
          "paper_bgcolor": "white",
          "plot_bgcolor": "#E5ECF6",
          "polar": {
           "angularaxis": {
            "gridcolor": "white",
            "linecolor": "white",
            "ticks": ""
           },
           "bgcolor": "#E5ECF6",
           "radialaxis": {
            "gridcolor": "white",
            "linecolor": "white",
            "ticks": ""
           }
          },
          "scene": {
           "xaxis": {
            "backgroundcolor": "#E5ECF6",
            "gridcolor": "white",
            "gridwidth": 2,
            "linecolor": "white",
            "showbackground": true,
            "ticks": "",
            "zerolinecolor": "white"
           },
           "yaxis": {
            "backgroundcolor": "#E5ECF6",
            "gridcolor": "white",
            "gridwidth": 2,
            "linecolor": "white",
            "showbackground": true,
            "ticks": "",
            "zerolinecolor": "white"
           },
           "zaxis": {
            "backgroundcolor": "#E5ECF6",
            "gridcolor": "white",
            "gridwidth": 2,
            "linecolor": "white",
            "showbackground": true,
            "ticks": "",
            "zerolinecolor": "white"
           }
          },
          "shapedefaults": {
           "line": {
            "color": "#2a3f5f"
           }
          },
          "ternary": {
           "aaxis": {
            "gridcolor": "white",
            "linecolor": "white",
            "ticks": ""
           },
           "baxis": {
            "gridcolor": "white",
            "linecolor": "white",
            "ticks": ""
           },
           "bgcolor": "#E5ECF6",
           "caxis": {
            "gridcolor": "white",
            "linecolor": "white",
            "ticks": ""
           }
          },
          "title": {
           "x": 0.05
          },
          "xaxis": {
           "automargin": true,
           "gridcolor": "white",
           "linecolor": "white",
           "ticks": "",
           "title": {
            "standoff": 15
           },
           "zerolinecolor": "white",
           "zerolinewidth": 2
          },
          "yaxis": {
           "automargin": true,
           "gridcolor": "white",
           "linecolor": "white",
           "ticks": "",
           "title": {
            "standoff": 15
           },
           "zerolinecolor": "white",
           "zerolinewidth": 2
          }
         }
        },
        "title": {
         "text": "Hurst Exponent with 95% Confidence Intervals"
        },
        "xaxis": {
         "anchor": "y",
         "domain": [
          0,
          1
         ],
         "title": {
          "text": "hurst_value"
         }
        },
        "yaxis": {
         "anchor": "x",
         "domain": [
          0,
          1
         ],
         "title": {
          "text": "data"
         }
        }
       }
      }
     },
     "metadata": {},
     "output_type": "display_data"
    }
   ],
   "source": [
    "px.bar(\n",
    "    hurst_df_ci.sort_values(by='hurst_value'),\n",
    "    x='hurst_value',\n",
    "    y='data',\n",
    "    error_x=hurst_df_ci['ci_high'] - hurst_df_ci['hurst_value'],\n",
    "    error_x_minus=hurst_df_ci['hurst_value'] - hurst_df_ci['ci_low'],\n",
    "    title='Hurst Exponent with 95% Confidence Intervals'\n",
    ")"
   ]
  },
  {
   "cell_type": "code",
   "execution_count": null,
   "metadata": {},
   "outputs": [],
   "source": []
  },
  {
   "cell_type": "code",
   "execution_count": null,
   "metadata": {},
   "outputs": [],
   "source": []
  },
  {
   "cell_type": "code",
   "execution_count": null,
   "metadata": {},
   "outputs": [],
   "source": []
  },
  {
   "cell_type": "code",
   "execution_count": 19,
   "metadata": {},
   "outputs": [],
   "source": [
    "import numpy as np\n",
    "import pandas as pd\n",
    "import matplotlib.pyplot as plt\n",
    "\n",
    "def calculate_variance_ratio(returns, q_max=20):\n",
    "    \"\"\"\n",
    "    Расчет VR(q) для лагов от 2 до q_max.\n",
    "    :param returns: np.array — лог-доходности\n",
    "    :param q_max: максимальный лаг q\n",
    "    :return: DataFrame c колонками q и VR(q)\n",
    "    \"\"\"\n",
    "    vr_values = []\n",
    "    for q in range(2, q_max + 1):\n",
    "        weighted_sum = 0\n",
    "        for k in range(1, q):\n",
    "            weight = 1 - k / q\n",
    "            corr = np.corrcoef(returns[:-k], returns[k:])[0, 1]\n",
    "            weighted_sum += weight * corr\n",
    "        vr_q = 1 + 2 * weighted_sum\n",
    "        vr_values.append((q, vr_q))\n",
    "    return pd.DataFrame(vr_values, columns=[\"q\", \"VR\"])\n"
   ]
  },
  {
   "cell_type": "code",
   "execution_count": 27,
   "metadata": {},
   "outputs": [],
   "source": [
    "def plot_vr_for_assets(asset_dict, q_max=20):\n",
    "    \"\"\"\n",
    "    Построение VR-графиков для нескольких активов.\n",
    "    :param asset_dict: словарь вида {'ES': prices_ES, 'EURUSD': prices_eur, ...}\n",
    "    \"\"\"\n",
    "    plt.figure(figsize=(12, 6))\n",
    "    for name, price_series in tqdm(asset_dict.items()):\n",
    "        returns = np.diff(np.log(price_series))\n",
    "        vr_df = calculate_variance_ratio(returns, q_max=q_max)\n",
    "        plt.plot(vr_df['q'], vr_df['VR'], label=name)\n",
    "\n",
    "    plt.axhline(1.0, color='gray', linestyle='--', label='Random Walk')\n",
    "    plt.xlabel(\"Lag q\")\n",
    "    plt.ylabel(\"Variance Ratio\")\n",
    "    plt.title(\"Variance Ratio vs Lag q\")\n",
    "    plt.legend()\n",
    "    plt.grid(True)\n",
    "    plt.tight_layout()\n",
    "    plt.show()\n"
   ]
  },
  {
   "cell_type": "code",
   "execution_count": 28,
   "metadata": {},
   "outputs": [
    {
     "name": "stderr",
     "output_type": "stream",
     "text": [
      "100%|██████████| 5/5 [00:00<00:00,  8.11it/s]\n"
     ]
    }
   ],
   "source": [
    "# Пример: загрузка фьючерса ES и нескольких FX-пар\n",
    " # примеры Major + EM\n",
    "\n",
    "asset_prices = {}\n",
    "for fx in tqdm(fx_list[:5]):\n",
    "    df = pd.read_parquet(DATA_DIR + f'{fx}_data.parquet')\n",
    "    df['mid_price'] = (df['bid'] + df['offer']) / 2\n",
    "    df = df.sort_values(by='timestamp')\n",
    "    asset_prices[fx] = df['mid_price'].dropna().values\n"
   ]
  },
  {
   "cell_type": "code",
   "execution_count": 29,
   "metadata": {},
   "outputs": [
    {
     "name": "stderr",
     "output_type": "stream",
     "text": [
      "100%|██████████| 5/5 [02:32<00:00, 30.59s/it]\n"
     ]
    },
    {
     "data": {
      "image/png": "[encoded data removed]",
      "text/plain": [
       "<Figure size 1200x600 with 1 Axes>"
      ]
     },
     "metadata": {},
     "output_type": "display_data"
    }
   ],
   "source": [
    "# Построение VR-графика\n",
    "plot_vr_for_assets(asset_prices, q_max=100)"
   ]
  },
  {
   "cell_type": "code",
   "execution_count": 31,
   "metadata": {},
   "outputs": [],
   "source": [
    "import pandas as pd\n",
    "import numpy as np\n",
    "from scipy.stats import pearsonr\n",
    "from tqdm import tqdm\n",
    "\n",
    "def compute_returns(prices, interval):\n",
    "    return np.log(prices[interval:] / prices[:-interval])\n",
    "\n",
    "def correlation_table(prices, lookbacks=[5, 10, 15, 30], holds=[1, 5, 10]):\n",
    "    \"\"\"\n",
    "    Построение таблицы корреляций между доходностью Lookback и Hold периодов\n",
    "    :param prices: массив цен (с равномерным интервалом, например, 1 минута)\n",
    "    :param lookbacks: список lookback периодов в минутах\n",
    "    :param holds: список hold периодов в минутах\n",
    "    :return: DataFrame с колонками: LookBack, Hold, Correlation, P-value, Score\n",
    "    \"\"\"\n",
    "    results = []\n",
    "    prices = np.array(prices)\n",
    "\n",
    "    for lb in tqdm(lookbacks):\n",
    "        for h in holds:\n",
    "            # Считаем доходность за lookback и hold, без пересечений\n",
    "            step = lb + h\n",
    "            n = (len(prices) - step)\n",
    "\n",
    "            if n <= 0:\n",
    "                continue\n",
    "\n",
    "            lookback_returns = np.log(prices[lb:lb + n] / prices[:n])\n",
    "            hold_returns = np.log(prices[lb + h:lb + h + n] / prices[lb:lb + n])\n",
    "\n",
    "            # Проверим на NaN и рассчитаем корреляцию\n",
    "            mask = ~np.isnan(lookback_returns) & ~np.isnan(hold_returns)\n",
    "            if np.sum(mask) < 10:\n",
    "                continue\n",
    "\n",
    "            corr, pval = pearsonr(lookback_returns[mask], hold_returns[mask])\n",
    "            score = abs(corr) / pval if pval > 0 else np.nan\n",
    "\n",
    "            results.append([lb, h, corr, pval, score])\n",
    "\n",
    "    return pd.DataFrame(results, columns=['LookBack', 'Hold', 'Correlation', 'P-value', 'Score'])\n"
   ]
  },
  {
   "cell_type": "code",
   "execution_count": 44,
   "metadata": {},
   "outputs": [
    {
     "name": "stderr",
     "output_type": "stream",
     "text": [
      "100%|██████████| 56/56 [01:23<00:00,  1.50s/it]\n"
     ]
    },
    {
     "data": {
      "text/html": [
       "<div>\n",
       "<style scoped>\n",
       "    .dataframe tbody tr th:only-of-type {\n",
       "        vertical-align: middle;\n",
       "    }\n",
       "\n",
       "    .dataframe tbody tr th {\n",
       "        vertical-align: top;\n",
       "    }\n",
       "\n",
       "    .dataframe thead th {\n",
       "        text-align: right;\n",
       "    }\n",
       "</style>\n",
       "<table border=\"1\" class=\"dataframe\">\n",
       "  <thead>\n",
       "    <tr style=\"text-align: right;\">\n",
       "      <th></th>\n",
       "      <th>LookBack</th>\n",
       "      <th>Hold</th>\n",
       "      <th>Correlation</th>\n",
       "      <th>P-value</th>\n",
       "      <th>Score</th>\n",
       "    </tr>\n",
       "  </thead>\n",
       "  <tbody>\n",
       "    <tr>\n",
       "      <th>46</th>\n",
       "      <td>5</td>\n",
       "      <td>51</td>\n",
       "      <td>-0.035478</td>\n",
       "      <td>7.103676e-319</td>\n",
       "      <td>inf</td>\n",
       "    </tr>\n",
       "    <tr>\n",
       "      <th>1629</th>\n",
       "      <td>34</td>\n",
       "      <td>10</td>\n",
       "      <td>-0.035482</td>\n",
       "      <td>5.956357e-319</td>\n",
       "      <td>inf</td>\n",
       "    </tr>\n",
       "    <tr>\n",
       "      <th>472</th>\n",
       "      <td>13</td>\n",
       "      <td>29</td>\n",
       "      <td>-0.035712</td>\n",
       "      <td>4.940656e-323</td>\n",
       "      <td>inf</td>\n",
       "    </tr>\n",
       "    <tr>\n",
       "      <th>1796</th>\n",
       "      <td>37</td>\n",
       "      <td>9</td>\n",
       "      <td>-0.035512</td>\n",
       "      <td>1.737234e-319</td>\n",
       "      <td>inf</td>\n",
       "    </tr>\n",
       "    <tr>\n",
       "      <th>1852</th>\n",
       "      <td>38</td>\n",
       "      <td>9</td>\n",
       "      <td>-0.035104</td>\n",
       "      <td>3.051975e-312</td>\n",
       "      <td>inf</td>\n",
       "    </tr>\n",
       "    <tr>\n",
       "      <th>692</th>\n",
       "      <td>17</td>\n",
       "      <td>25</td>\n",
       "      <td>-0.035499</td>\n",
       "      <td>2.921015e-319</td>\n",
       "      <td>inf</td>\n",
       "    </tr>\n",
       "    <tr>\n",
       "      <th>418</th>\n",
       "      <td>12</td>\n",
       "      <td>31</td>\n",
       "      <td>-0.035270</td>\n",
       "      <td>3.552369e-315</td>\n",
       "      <td>inf</td>\n",
       "    </tr>\n",
       "    <tr>\n",
       "      <th>2019</th>\n",
       "      <td>41</td>\n",
       "      <td>8</td>\n",
       "      <td>-0.035164</td>\n",
       "      <td>2.621299e-313</td>\n",
       "      <td>inf</td>\n",
       "    </tr>\n",
       "    <tr>\n",
       "      <th>2130</th>\n",
       "      <td>43</td>\n",
       "      <td>7</td>\n",
       "      <td>-0.035713</td>\n",
       "      <td>4.940656e-323</td>\n",
       "      <td>inf</td>\n",
       "    </tr>\n",
       "    <tr>\n",
       "      <th>2186</th>\n",
       "      <td>44</td>\n",
       "      <td>7</td>\n",
       "      <td>-0.035608</td>\n",
       "      <td>3.250952e-321</td>\n",
       "      <td>inf</td>\n",
       "    </tr>\n",
       "  </tbody>\n",
       "</table>\n",
       "</div>"
      ],
      "text/plain": [
       "      LookBack  Hold  Correlation        P-value  Score\n",
       "46           5    51    -0.035478  7.103676e-319    inf\n",
       "1629        34    10    -0.035482  5.956357e-319    inf\n",
       "472         13    29    -0.035712  4.940656e-323    inf\n",
       "1796        37     9    -0.035512  1.737234e-319    inf\n",
       "1852        38     9    -0.035104  3.051975e-312    inf\n",
       "692         17    25    -0.035499  2.921015e-319    inf\n",
       "418         12    31    -0.035270  3.552369e-315    inf\n",
       "2019        41     8    -0.035164  2.621299e-313    inf\n",
       "2130        43     7    -0.035713  4.940656e-323    inf\n",
       "2186        44     7    -0.035608  3.250952e-321    inf"
      ]
     },
     "execution_count": 44,
     "metadata": {},
     "output_type": "execute_result"
    }
   ],
   "source": [
    "df = pd.read_parquet(DATA_DIR + 'AUDUSD_data.parquet')\n",
    "df['mid_price'] = (df['bid'] + df['offer']) / 2\n",
    "df = df.sort_values('timestamp')\n",
    "\n",
    "returns_table = correlation_table(df['mid_price'].dropna().values, lookbacks=range(5,61,1), holds=range(5,61,1))\n",
    "\n",
    "# Смотрим топ-10 пар по метрике \"выгодности\"\n",
    "returns_table.sort_values('Score', ascending=False).head(10)\n"
   ]
  },
  {
   "cell_type": "code",
   "execution_count": 45,
   "metadata": {},
   "outputs": [],
   "source": [
    "returns_table['Correlation_abs'] = returns_table['Correlation'].abs()"
   ]
  },
  {
   "cell_type": "code",
   "execution_count": 46,
   "metadata": {},
   "outputs": [
    {
     "data": {
      "application/vnd.plotly.v1+json": {
       "config": {
        "plotlyServerURL": "https://plot.ly"
       },
       "data": [
        {
         "hovertemplate": "LookBack=%{x}<br>Hold=%{y}<br>Correlation_abs=%{marker.size}<br>P-value=%{marker.color}<extra></extra>",
         "legendgroup": "",
         "marker": {
          "color": {
           "bdata": "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",
           "dtype": "f8"
          },
          "coloraxis": "coloraxis",
          "size": {
           "bdata": "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",
           "dtype": "f8"
          },
          "sizemode": "area",
          "sizeref": 0.0002172186860031401,
          "symbol": "circle"
         },
         "mode": "markers",
         "name": "",
         "showlegend": false,
         "type": "scattergl",
         "x": {
          "bdata": "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",
          "dtype": "i1"
         },
         "xaxis": "x",
         "y": {
          "bdata": "BQYHCAkKCwwNDg8QERITFBUWFxgZGhscHR4fICEiIyQlJicoKSorLC0uLzAxMjM0NTY3ODk6OzwFBgcICQoLDA0ODxAREhMUFRYXGBkaGxwdHh8gISIjJCUmJygpKissLS4vMDEyMzQ1Njc4OTo7PAUGBwgJCgsMDQ4PEBESExQVFhcYGRobHB0eHyAhIiMkJSYnKCkqKywtLi8wMTIzNDU2Nzg5Ojs8BQYHCAkKCwwNDg8QERITFBUWFxgZGhscHR4fICEiIyQlJicoKSorLC0uLzAxMjM0NTY3ODk6OzwFBgcICQoLDA0ODxAREhMUFRYXGBkaGxwdHh8gISIjJCUmJygpKissLS4vMDEyMzQ1Njc4OTo7PAUGBwgJCgsMDQ4PEBESExQVFhcYGRobHB0eHyAhIiMkJSYnKCkqKywtLi8wMTIzNDU2Nzg5Ojs8BQYHCAkKCwwNDg8QERITFBUWFxgZGhscHR4fICEiIyQlJicoKSorLC0uLzAxMjM0NTY3ODk6OzwFBgcICQoLDA0ODxAREhMUFRYXGBkaGxwdHh8gISIjJCUmJygpKissLS4vMDEyMzQ1Njc4OTo7PAUGBwgJCgsMDQ4PEBESExQVFhcYGRobHB0eHyAhIiMkJSYnKCkqKywtLi8wMTIzNDU2Nzg5Ojs8BQYHCAkKCwwNDg8QERITFBUWFxgZGhscHR4fICEiIyQlJicoKSorLC0uLzAxMjM0NTY3ODk6OzwFBgcICQoLDA0ODxAREhMUFRYXGBkaGxwdHh8gISIjJCUmJygpKissLS4vMDEyMzQ1Njc4OTo7PAUGBwgJCgsMDQ4PEBESExQVFhcYGRobHB0eHyAhIiMkJSYnKCkqKywtLi8wMTIzNDU2Nzg5Ojs8BQYHCAkKCwwNDg8QERITFBUWFxgZGhscHR4fICEiIyQlJicoKSorLC0uLzAxMjM0NTY3ODk6OzwFBgcICQoLDA0ODxAREhMUFRYXGBkaGxwdHh8gISIjJCUmJygpKissLS4vMDEyMzQ1Njc4OTo7PAUGBwgJCgsMDQ4PEBESExQVFhcYGRobHB0eHyAhIiMkJSYnKCkqKywtLi8wMTIzNDU2Nzg5Ojs8BQYHCAkKCwwNDg8QERITFBUWFxgZGhscHR4fICEiIyQlJicoKSorLC0uLzAxMjM0NTY3ODk6OzwFBgcICQoLDA0ODxAREhMUFRYXGBkaGxwdHh8gISIjJCUmJygpKissLS4vMDEyMzQ1Njc4OTo7PAUGBwgJCgsMDQ4PEBESExQVFhcYGRobHB0eHyAhIiMkJSYnKCkqKywtLi8wMTIzNDU2Nzg5Ojs8BQYHCAkKCwwNDg8QERITFBUWFxgZGhscHR4fICEiIyQlJicoKSorLC0uLzAxMjM0NTY3ODk6OzwFBgcICQoLDA0ODxAREhMUFRYXGBkaGxwdHh8gISIjJCUmJygpKissLS4vMDEyMzQ1Njc4OTo7PAUGBwgJCgsMDQ4PEBESExQVFhcYGRobHB0eHyAhIiMkJSYnKCkqKywtLi8wMTIzNDU2Nzg5Ojs8BQYHCAkKCwwNDg8QERITFBUWFxgZGhscHR4fICEiIyQlJicoKSorLC0uLzAxMjM0NTY3ODk6OzwFBgcICQoLDA0ODxAREhMUFRYXGBkaGxwdHh8gISIjJCUmJygpKissLS4vMDEyMzQ1Njc4OTo7PAUGBwgJCgsMDQ4PEBESExQVFhcYGRobHB0eHyAhIiMkJSYnKCkqKywtLi8wMTIzNDU2Nzg5Ojs8BQYHCAkKCwwNDg8QERITFBUWFxgZGhscHR4fICEiIyQlJicoKSorLC0uLzAxMjM0NTY3ODk6OzwFBgcICQoLDA0ODxAREhMUFRYXGBkaGxwdHh8gISIjJCUmJygpKissLS4vMDEyMzQ1Njc4OTo7PAUGBwgJCgsMDQ4PEBESExQVFhcYGRobHB0eHyAhIiMkJSYnKCkqKywtLi8wMTIzNDU2Nzg5Ojs8BQYHCAkKCwwNDg8QERITFBUWFxgZGhscHR4fICEiIyQlJicoKSorLC0uLzAxMjM0NTY3ODk6OzwFBgcICQoLDA0ODxAREhMUFRYXGBkaGxwdHh8gISIjJCUmJygpKissLS4vMDEyMzQ1Njc4OTo7PAUGBwgJCgsMDQ4PEBESExQVFhcYGRobHB0eHyAhIiMkJSYnKCkqKywtLi8wMTIzNDU2Nzg5Ojs8BQYHCAkKCwwNDg8QERITFBUWFxgZGhscHR4fICEiIyQlJicoKSorLC0uLzAxMjM0NTY3ODk6OzwFBgcICQoLDA0ODxAREhMUFRYXGBkaGxwdHh8gISIjJCUmJygpKissLS4vMDEyMzQ1Njc4OTo7PAUGBwgJCgsMDQ4PEBESExQVFhcYGRobHB0eHyAhIiMkJSYnKCkqKywtLi8wMTIzNDU2Nzg5Ojs8BQYHCAkKCwwNDg8QERITFBUWFxgZGhscHR4fICEiIyQlJicoKSorLC0uLzAxMjM0NTY3ODk6OzwFBgcICQoLDA0ODxAREhMUFRYXGBkaGxwdHh8gISIjJCUmJygpKissLS4vMDEyMzQ1Njc4OTo7PAUGBwgJCgsMDQ4PEBESExQVFhcYGRobHB0eHyAhIiMkJSYnKCkqKywtLi8wMTIzNDU2Nzg5Ojs8BQYHCAkKCwwNDg8QERITFBUWFxgZGhscHR4fICEiIyQlJicoKSorLC0uLzAxMjM0NTY3ODk6OzwFBgcICQoLDA0ODxAREhMUFRYXGBkaGxwdHh8gISIjJCUmJygpKissLS4vMDEyMzQ1Njc4OTo7PAUGBwgJCgsMDQ4PEBESExQVFhcYGRobHB0eHyAhIiMkJSYnKCkqKywtLi8wMTIzNDU2Nzg5Ojs8BQYHCAkKCwwNDg8QERITFBUWFxgZGhscHR4fICEiIyQlJicoKSorLC0uLzAxMjM0NTY3ODk6OzwFBgcICQoLDA0ODxAREhMUFRYXGBkaGxwdHh8gISIjJCUmJygpKissLS4vMDEyMzQ1Njc4OTo7PAUGBwgJCgsMDQ4PEBESExQVFhcYGRobHB0eHyAhIiMkJSYnKCkqKywtLi8wMTIzNDU2Nzg5Ojs8BQYHCAkKCwwNDg8QERITFBUWFxgZGhscHR4fICEiIyQlJicoKSorLC0uLzAxMjM0NTY3ODk6OzwFBgcICQoLDA0ODxAREhMUFRYXGBkaGxwdHh8gISIjJCUmJygpKissLS4vMDEyMzQ1Njc4OTo7PAUGBwgJCgsMDQ4PEBESExQVFhcYGRobHB0eHyAhIiMkJSYnKCkqKywtLi8wMTIzNDU2Nzg5Ojs8BQYHCAkKCwwNDg8QERITFBUWFxgZGhscHR4fICEiIyQlJicoKSorLC0uLzAxMjM0NTY3ODk6OzwFBgcICQoLDA0ODxAREhMUFRYXGBkaGxwdHh8gISIjJCUmJygpKissLS4vMDEyMzQ1Njc4OTo7PAUGBwgJCgsMDQ4PEBESExQVFhcYGRobHB0eHyAhIiMkJSYnKCkqKywtLi8wMTIzNDU2Nzg5Ojs8BQYHCAkKCwwNDg8QERITFBUWFxgZGhscHR4fICEiIyQlJicoKSorLC0uLzAxMjM0NTY3ODk6OzwFBgcICQoLDA0ODxAREhMUFRYXGBkaGxwdHh8gISIjJCUmJygpKissLS4vMDEyMzQ1Njc4OTo7PAUGBwgJCgsMDQ4PEBESExQVFhcYGRobHB0eHyAhIiMkJSYnKCkqKywtLi8wMTIzNDU2Nzg5Ojs8BQYHCAkKCwwNDg8QERITFBUWFxgZGhscHR4fICEiIyQlJicoKSorLC0uLzAxMjM0NTY3ODk6OzwFBgcICQoLDA0ODxAREhMUFRYXGBkaGxwdHh8gISIjJCUmJygpKissLS4vMDEyMzQ1Njc4OTo7PAUGBwgJCgsMDQ4PEBESExQVFhcYGRobHB0eHyAhIiMkJSYnKCkqKywtLi8wMTIzNDU2Nzg5Ojs8BQYHCAkKCwwNDg8QERITFBUWFxgZGhscHR4fICEiIyQlJicoKSorLC0uLzAxMjM0NTY3ODk6OzwFBgcICQoLDA0ODxAREhMUFRYXGBkaGxwdHh8gISIjJCUmJygpKissLS4vMDEyMzQ1Njc4OTo7PA==",
          "dtype": "i1"
         },
         "yaxis": "y"
        }
       ],
       "layout": {
        "coloraxis": {
         "colorbar": {
          "title": {
           "text": "P-value"
          }
         },
         "colorscale": [
          [
           0,
           "#0d0887"
          ],
          [
           0.1111111111111111,
           "#46039f"
          ],
          [
           0.2222222222222222,
           "#7201a8"
          ],
          [
           0.3333333333333333,
           "#9c179e"
          ],
          [
           0.4444444444444444,
           "#bd3786"
          ],
          [
           0.5555555555555556,
           "#d8576b"
          ],
          [
           0.6666666666666666,
           "#ed7953"
          ],
          [
           0.7777777777777778,
           "#fb9f3a"
          ],
          [
           0.8888888888888888,
           "#fdca26"
          ],
          [
           1,
           "#f0f921"
          ]
         ]
        },
        "legend": {
         "itemsizing": "constant",
         "tracegroupgap": 0
        },
        "margin": {
         "t": 60
        },
        "template": {
         "data": {
          "bar": [
           {
            "error_x": {
             "color": "#2a3f5f"
            },
            "error_y": {
             "color": "#2a3f5f"
            },
            "marker": {
             "line": {
              "color": "#E5ECF6",
              "width": 0.5
             },
             "pattern": {
              "fillmode": "overlay",
              "size": 10,
              "solidity": 0.2
             }
            },
            "type": "bar"
           }
          ],
          "barpolar": [
           {
            "marker": {
             "line": {
              "color": "#E5ECF6",
              "width": 0.5
             },
             "pattern": {
              "fillmode": "overlay",
              "size": 10,
              "solidity": 0.2
             }
            },
            "type": "barpolar"
           }
          ],
          "carpet": [
           {
            "aaxis": {
             "endlinecolor": "#2a3f5f",
             "gridcolor": "white",
             "linecolor": "white",
             "minorgridcolor": "white",
             "startlinecolor": "#2a3f5f"
            },
            "baxis": {
             "endlinecolor": "#2a3f5f",
             "gridcolor": "white",
             "linecolor": "white",
             "minorgridcolor": "white",
             "startlinecolor": "#2a3f5f"
            },
            "type": "carpet"
           }
          ],
          "choropleth": [
           {
            "colorbar": {
             "outlinewidth": 0,
             "ticks": ""
            },
            "type": "choropleth"
           }
          ],
          "contour": [
           {
            "colorbar": {
             "outlinewidth": 0,
             "ticks": ""
            },
            "colorscale": [
             [
              0,
              "#0d0887"
             ],
             [
              0.1111111111111111,
              "#46039f"
             ],
             [
              0.2222222222222222,
              "#7201a8"
             ],
             [
              0.3333333333333333,
              "#9c179e"
             ],
             [
              0.4444444444444444,
              "#bd3786"
             ],
             [
              0.5555555555555556,
              "#d8576b"
             ],
             [
              0.6666666666666666,
              "#ed7953"
             ],
             [
              0.7777777777777778,
              "#fb9f3a"
             ],
             [
              0.8888888888888888,
              "#fdca26"
             ],
             [
              1,
              "#f0f921"
             ]
            ],
            "type": "contour"
           }
          ],
          "contourcarpet": [
           {
            "colorbar": {
             "outlinewidth": 0,
             "ticks": ""
            },
            "type": "contourcarpet"
           }
          ],
          "heatmap": [
           {
            "colorbar": {
             "outlinewidth": 0,
             "ticks": ""
            },
            "colorscale": [
             [
              0,
              "#0d0887"
             ],
             [
              0.1111111111111111,
              "#46039f"
             ],
             [
              0.2222222222222222,
              "#7201a8"
             ],
             [
              0.3333333333333333,
              "#9c179e"
             ],
             [
              0.4444444444444444,
              "#bd3786"
             ],
             [
              0.5555555555555556,
              "#d8576b"
             ],
             [
              0.6666666666666666,
              "#ed7953"
             ],
             [
              0.7777777777777778,
              "#fb9f3a"
             ],
             [
              0.8888888888888888,
              "#fdca26"
             ],
             [
              1,
              "#f0f921"
             ]
            ],
            "type": "heatmap"
           }
          ],
          "histogram": [
           {
            "marker": {
             "pattern": {
              "fillmode": "overlay",
              "size": 10,
              "solidity": 0.2
             }
            },
            "type": "histogram"
           }
          ],
          "histogram2d": [
           {
            "colorbar": {
             "outlinewidth": 0,
             "ticks": ""
            },
            "colorscale": [
             [
              0,
              "#0d0887"
             ],
             [
              0.1111111111111111,
              "#46039f"
             ],
             [
              0.2222222222222222,
              "#7201a8"
             ],
             [
              0.3333333333333333,
              "#9c179e"
             ],
             [
              0.4444444444444444,
              "#bd3786"
             ],
             [
              0.5555555555555556,
              "#d8576b"
             ],
             [
              0.6666666666666666,
              "#ed7953"
             ],
             [
              0.7777777777777778,
              "#fb9f3a"
             ],
             [
              0.8888888888888888,
              "#fdca26"
             ],
             [
              1,
              "#f0f921"
             ]
            ],
            "type": "histogram2d"
           }
          ],
          "histogram2dcontour": [
           {
            "colorbar": {
             "outlinewidth": 0,
             "ticks": ""
            },
            "colorscale": [
             [
              0,
              "#0d0887"
             ],
             [
              0.1111111111111111,
              "#46039f"
             ],
             [
              0.2222222222222222,
              "#7201a8"
             ],
             [
              0.3333333333333333,
              "#9c179e"
             ],
             [
              0.4444444444444444,
              "#bd3786"
             ],
             [
              0.5555555555555556,
              "#d8576b"
             ],
             [
              0.6666666666666666,
              "#ed7953"
             ],
             [
              0.7777777777777778,
              "#fb9f3a"
             ],
             [
              0.8888888888888888,
              "#fdca26"
             ],
             [
              1,
              "#f0f921"
             ]
            ],
            "type": "histogram2dcontour"
           }
          ],
          "mesh3d": [
           {
            "colorbar": {
             "outlinewidth": 0,
             "ticks": ""
            },
            "type": "mesh3d"
           }
          ],
          "parcoords": [
           {
            "line": {
             "colorbar": {
              "outlinewidth": 0,
              "ticks": ""
             }
            },
            "type": "parcoords"
           }
          ],
          "pie": [
           {
            "automargin": true,
            "type": "pie"
           }
          ],
          "scatter": [
           {
            "fillpattern": {
             "fillmode": "overlay",
             "size": 10,
             "solidity": 0.2
            },
            "type": "scatter"
           }
          ],
          "scatter3d": [
           {
            "line": {
             "colorbar": {
              "outlinewidth": 0,
              "ticks": ""
             }
            },
            "marker": {
             "colorbar": {
              "outlinewidth": 0,
              "ticks": ""
             }
            },
            "type": "scatter3d"
           }
          ],
          "scattercarpet": [
           {
            "marker": {
             "colorbar": {
              "outlinewidth": 0,
              "ticks": ""
             }
            },
            "type": "scattercarpet"
           }
          ],
          "scattergeo": [
           {
            "marker": {
             "colorbar": {
              "outlinewidth": 0,
              "ticks": ""
             }
            },
            "type": "scattergeo"
           }
          ],
          "scattergl": [
           {
            "marker": {
             "colorbar": {
              "outlinewidth": 0,
              "ticks": ""
             }
            },
            "type": "scattergl"
           }
          ],
          "scattermap": [
           {
            "marker": {
             "colorbar": {
              "outlinewidth": 0,
              "ticks": ""
             }
            },
            "type": "scattermap"
           }
          ],
          "scattermapbox": [
           {
            "marker": {
             "colorbar": {
              "outlinewidth": 0,
              "ticks": ""
             }
            },
            "type": "scattermapbox"
           }
          ],
          "scatterpolar": [
           {
            "marker": {
             "colorbar": {
              "outlinewidth": 0,
              "ticks": ""
             }
            },
            "type": "scatterpolar"
           }
          ],
          "scatterpolargl": [
           {
            "marker": {
             "colorbar": {
              "outlinewidth": 0,
              "ticks": ""
             }
            },
            "type": "scatterpolargl"
           }
          ],
          "scatterternary": [
           {
            "marker": {
             "colorbar": {
              "outlinewidth": 0,
              "ticks": ""
             }
            },
            "type": "scatterternary"
           }
          ],
          "surface": [
           {
            "colorbar": {
             "outlinewidth": 0,
             "ticks": ""
            },
            "colorscale": [
             [
              0,
              "#0d0887"
             ],
             [
              0.1111111111111111,
              "#46039f"
             ],
             [
              0.2222222222222222,
              "#7201a8"
             ],
             [
              0.3333333333333333,
              "#9c179e"
             ],
             [
              0.4444444444444444,
              "#bd3786"
             ],
             [
              0.5555555555555556,
              "#d8576b"
             ],
             [
              0.6666666666666666,
              "#ed7953"
             ],
             [
              0.7777777777777778,
              "#fb9f3a"
             ],
             [
              0.8888888888888888,
              "#fdca26"
             ],
             [
              1,
              "#f0f921"
             ]
            ],
            "type": "surface"
           }
          ],
          "table": [
           {
            "cells": {
             "fill": {
              "color": "#EBF0F8"
             },
             "line": {
              "color": "white"
             }
            },
            "header": {
             "fill": {
              "color": "#C8D4E3"
             },
             "line": {
              "color": "white"
             }
            },
            "type": "table"
           }
          ]
         },
         "layout": {
          "annotationdefaults": {
           "arrowcolor": "#2a3f5f",
           "arrowhead": 0,
           "arrowwidth": 1
          },
          "autotypenumbers": "strict",
          "coloraxis": {
           "colorbar": {
            "outlinewidth": 0,
            "ticks": ""
           }
          },
          "colorscale": {
           "diverging": [
            [
             0,
             "#8e0152"
            ],
            [
             0.1,
             "#c51b7d"
            ],
            [
             0.2,
             "#de77ae"
            ],
            [
             0.3,
             "#f1b6da"
            ],
            [
             0.4,
             "#fde0ef"
            ],
            [
             0.5,
             "#f7f7f7"
            ],
            [
             0.6,
             "#e6f5d0"
            ],
            [
             0.7,
             "#b8e186"
            ],
            [
             0.8,
             "#7fbc41"
            ],
            [
             0.9,
             "#4d9221"
            ],
            [
             1,
             "#276419"
            ]
           ],
           "sequential": [
            [
             0,
             "#0d0887"
            ],
            [
             0.1111111111111111,
             "#46039f"
            ],
            [
             0.2222222222222222,
             "#7201a8"
            ],
            [
             0.3333333333333333,
             "#9c179e"
            ],
            [
             0.4444444444444444,
             "#bd3786"
            ],
            [
             0.5555555555555556,
             "#d8576b"
            ],
            [
             0.6666666666666666,
             "#ed7953"
            ],
            [
             0.7777777777777778,
             "#fb9f3a"
            ],
            [
             0.8888888888888888,
             "#fdca26"
            ],
            [
             1,
             "#f0f921"
            ]
           ],
           "sequentialminus": [
            [
             0,
             "#0d0887"
            ],
            [
             0.1111111111111111,
             "#46039f"
            ],
            [
             0.2222222222222222,
             "#7201a8"
            ],
            [
             0.3333333333333333,
             "#9c179e"
            ],
            [
             0.4444444444444444,
             "#bd3786"
            ],
            [
             0.5555555555555556,
             "#d8576b"
            ],
            [
             0.6666666666666666,
             "#ed7953"
            ],
            [
             0.7777777777777778,
             "#fb9f3a"
            ],
            [
             0.8888888888888888,
             "#fdca26"
            ],
            [
             1,
             "#f0f921"
            ]
           ]
          },
          "colorway": [
           "#636efa",
           "#EF553B",
           "#00cc96",
           "#ab63fa",
           "#FFA15A",
           "#19d3f3",
           "#FF6692",
           "#B6E880",
           "#FF97FF",
           "#FECB52"
          ],
          "font": {
           "color": "#2a3f5f"
          },
          "geo": {
           "bgcolor": "white",
           "lakecolor": "white",
           "landcolor": "#E5ECF6",
           "showlakes": true,
           "showland": true,
           "subunitcolor": "white"
          },
          "hoverlabel": {
           "align": "left"
          },
          "hovermode": "closest",
          "mapbox": {
           "style": "light"
          },
          "paper_bgcolor": "white",
          "plot_bgcolor": "#E5ECF6",
          "polar": {
           "angularaxis": {
            "gridcolor": "white",
            "linecolor": "white",
            "ticks": ""
           },
           "bgcolor": "#E5ECF6",
           "radialaxis": {
            "gridcolor": "white",
            "linecolor": "white",
            "ticks": ""
           }
          },
          "scene": {
           "xaxis": {
            "backgroundcolor": "#E5ECF6",
            "gridcolor": "white",
            "gridwidth": 2,
            "linecolor": "white",
            "showbackground": true,
            "ticks": "",
            "zerolinecolor": "white"
           },
           "yaxis": {
            "backgroundcolor": "#E5ECF6",
            "gridcolor": "white",
            "gridwidth": 2,
            "linecolor": "white",
            "showbackground": true,
            "ticks": "",
            "zerolinecolor": "white"
           },
           "zaxis": {
            "backgroundcolor": "#E5ECF6",
            "gridcolor": "white",
            "gridwidth": 2,
            "linecolor": "white",
            "showbackground": true,
            "ticks": "",
            "zerolinecolor": "white"
           }
          },
          "shapedefaults": {
           "line": {
            "color": "#2a3f5f"
           }
          },
          "ternary": {
           "aaxis": {
            "gridcolor": "white",
            "linecolor": "white",
            "ticks": ""
           },
           "baxis": {
            "gridcolor": "white",
            "linecolor": "white",
            "ticks": ""
           },
           "bgcolor": "#E5ECF6",
           "caxis": {
            "gridcolor": "white",
            "linecolor": "white",
            "ticks": ""
           }
          },
          "title": {
           "x": 0.05
          },
          "xaxis": {
           "automargin": true,
           "gridcolor": "white",
           "linecolor": "white",
           "ticks": "",
           "title": {
            "standoff": 15
           },
           "zerolinecolor": "white",
           "zerolinewidth": 2
          },
          "yaxis": {
           "automargin": true,
           "gridcolor": "white",
           "linecolor": "white",
           "ticks": "",
           "title": {
            "standoff": 15
           },
           "zerolinecolor": "white",
           "zerolinewidth": 2
          }
         }
        },
        "xaxis": {
         "anchor": "y",
         "domain": [
          0,
          1
         ],
         "title": {
          "text": "LookBack"
         }
        },
        "yaxis": {
         "anchor": "x",
         "domain": [
          0,
          1
         ],
         "title": {
          "text": "Hold"
         }
        }
       }
      }
     },
     "metadata": {},
     "output_type": "display_data"
    }
   ],
   "source": [
    "fig = px.scatter(returns_table, x=\"LookBack\", y=\"Hold\", color=\"P-value\",\n",
    "                 size='Correlation_abs')\n",
    "fig.show()"
   ]
  },
  {
   "cell_type": "code",
   "execution_count": null,
   "metadata": {},
   "outputs": [
    {
     "data": {
      "application/vnd.plotly.v1+json": {
       "config": {
        "plotlyServerURL": "https://plot.ly"
       },
       "data": [
        {
         "hovertemplate": "LookBack=%{x}<br>Hold=%{y}<br>Correlation_abs=%{marker.size}<br>P-value=%{marker.color}<extra></extra>",
         "legendgroup": "",
         "marker": {
          "color": {
           "bdata": "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",
           "dtype": "f8"
          },
          "coloraxis": "coloraxis",
          "size": {
           "bdata": "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",
           "dtype": "f8"
          },
          "sizemode": "area",
          "sizeref": 0.0002172186860031401,
          "symbol": "circle"
         },
         "mode": "markers",
         "name": "",
         "scene": "scene",
         "showlegend": false,
         "type": "scatter3d",
         "x": {
          "bdata": "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",
          "dtype": "i1"
         },
         "y": {
          "bdata": "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",
          "dtype": "i1"
         },
         "z": {
          "bdata": "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",
          "dtype": "f8"
         }
        }
       ],
       "layout": {
        "coloraxis": {
         "colorbar": {
          "title": {
           "text": "P-value"
          }
         },
         "colorscale": [
          [
           0,
           "#0d0887"
          ],
          [
           0.1111111111111111,
           "#46039f"
          ],
          [
           0.2222222222222222,
           "#7201a8"
          ],
          [
           0.3333333333333333,
           "#9c179e"
          ],
          [
           0.4444444444444444,
           "#bd3786"
          ],
          [
           0.5555555555555556,
           "#d8576b"
          ],
          [
           0.6666666666666666,
           "#ed7953"
          ],
          [
           0.7777777777777778,
           "#fb9f3a"
          ],
          [
           0.8888888888888888,
           "#fdca26"
          ],
          [
           1,
           "#f0f921"
          ]
         ]
        },
        "legend": {
         "itemsizing": "constant",
         "tracegroupgap": 0
        },
        "scene": {
         "domain": {
          "x": [
           0,
           1
          ],
          "y": [
           0,
           1
          ]
         },
         "xaxis": {
          "title": {
           "text": "LookBack (мин)"
          }
         },
         "yaxis": {
          "title": {
           "text": "Hold (мин)"
          }
         },
         "zaxis": {
          "title": {
           "text": "Correlation"
          }
         }
        },
        "template": {
         "data": {
          "bar": [
           {
            "error_x": {
             "color": "#2a3f5f"
            },
            "error_y": {
             "color": "#2a3f5f"
            },
            "marker": {
             "line": {
              "color": "#E5ECF6",
              "width": 0.5
             },
             "pattern": {
              "fillmode": "overlay",
              "size": 10,
              "solidity": 0.2
             }
            },
            "type": "bar"
           }
          ],
          "barpolar": [
           {
            "marker": {
             "line": {
              "color": "#E5ECF6",
              "width": 0.5
             },
             "pattern": {
              "fillmode": "overlay",
              "size": 10,
              "solidity": 0.2
             }
            },
            "type": "barpolar"
           }
          ],
          "carpet": [
           {
            "aaxis": {
             "endlinecolor": "#2a3f5f",
             "gridcolor": "white",
             "linecolor": "white",
             "minorgridcolor": "white",
             "startlinecolor": "#2a3f5f"
            },
            "baxis": {
             "endlinecolor": "#2a3f5f",
             "gridcolor": "white",
             "linecolor": "white",
             "minorgridcolor": "white",
             "startlinecolor": "#2a3f5f"
            },
            "type": "carpet"
           }
          ],
          "choropleth": [
           {
            "colorbar": {
             "outlinewidth": 0,
             "ticks": ""
            },
            "type": "choropleth"
           }
          ],
          "contour": [
           {
            "colorbar": {
             "outlinewidth": 0,
             "ticks": ""
            },
            "colorscale": [
             [
              0,
              "#0d0887"
             ],
             [
              0.1111111111111111,
              "#46039f"
             ],
             [
              0.2222222222222222,
              "#7201a8"
             ],
             [
              0.3333333333333333,
              "#9c179e"
             ],
             [
              0.4444444444444444,
              "#bd3786"
             ],
             [
              0.5555555555555556,
              "#d8576b"
             ],
             [
              0.6666666666666666,
              "#ed7953"
             ],
             [
              0.7777777777777778,
              "#fb9f3a"
             ],
             [
              0.8888888888888888,
              "#fdca26"
             ],
             [
              1,
              "#f0f921"
             ]
            ],
            "type": "contour"
           }
          ],
          "contourcarpet": [
           {
            "colorbar": {
             "outlinewidth": 0,
             "ticks": ""
            },
            "type": "contourcarpet"
           }
          ],
          "heatmap": [
           {
            "colorbar": {
             "outlinewidth": 0,
             "ticks": ""
            },
            "colorscale": [
             [
              0,
              "#0d0887"
             ],
             [
              0.1111111111111111,
              "#46039f"
             ],
             [
              0.2222222222222222,
              "#7201a8"
             ],
             [
              0.3333333333333333,
              "#9c179e"
             ],
             [
              0.4444444444444444,
              "#bd3786"
             ],
             [
              0.5555555555555556,
              "#d8576b"
             ],
             [
              0.6666666666666666,
              "#ed7953"
             ],
             [
              0.7777777777777778,
              "#fb9f3a"
             ],
             [
              0.8888888888888888,
              "#fdca26"
             ],
             [
              1,
              "#f0f921"
             ]
            ],
            "type": "heatmap"
           }
          ],
          "histogram": [
           {
            "marker": {
             "pattern": {
              "fillmode": "overlay",
              "size": 10,
              "solidity": 0.2
             }
            },
            "type": "histogram"
           }
          ],
          "histogram2d": [
           {
            "colorbar": {
             "outlinewidth": 0,
             "ticks": ""
            },
            "colorscale": [
             [
              0,
              "#0d0887"
             ],
             [
              0.1111111111111111,
              "#46039f"
             ],
             [
              0.2222222222222222,
              "#7201a8"
             ],
             [
              0.3333333333333333,
              "#9c179e"
             ],
             [
              0.4444444444444444,
              "#bd3786"
             ],
             [
              0.5555555555555556,
              "#d8576b"
             ],
             [
              0.6666666666666666,
              "#ed7953"
             ],
             [
              0.7777777777777778,
              "#fb9f3a"
             ],
             [
              0.8888888888888888,
              "#fdca26"
             ],
             [
              1,
              "#f0f921"
             ]
            ],
            "type": "histogram2d"
           }
          ],
          "histogram2dcontour": [
           {
            "colorbar": {
             "outlinewidth": 0,
             "ticks": ""
            },
            "colorscale": [
             [
              0,
              "#0d0887"
             ],
             [
              0.1111111111111111,
              "#46039f"
             ],
             [
              0.2222222222222222,
              "#7201a8"
             ],
             [
              0.3333333333333333,
              "#9c179e"
             ],
             [
              0.4444444444444444,
              "#bd3786"
             ],
             [
              0.5555555555555556,
              "#d8576b"
             ],
             [
              0.6666666666666666,
              "#ed7953"
             ],
             [
              0.7777777777777778,
              "#fb9f3a"
             ],
             [
              0.8888888888888888,
              "#fdca26"
             ],
             [
              1,
              "#f0f921"
             ]
            ],
            "type": "histogram2dcontour"
           }
          ],
          "mesh3d": [
           {
            "colorbar": {
             "outlinewidth": 0,
             "ticks": ""
            },
            "type": "mesh3d"
           }
          ],
          "parcoords": [
           {
            "line": {
             "colorbar": {
              "outlinewidth": 0,
              "ticks": ""
             }
            },
            "type": "parcoords"
           }
          ],
          "pie": [
           {
            "automargin": true,
            "type": "pie"
           }
          ],
          "scatter": [
           {
            "fillpattern": {
             "fillmode": "overlay",
             "size": 10,
             "solidity": 0.2
            },
            "type": "scatter"
           }
          ],
          "scatter3d": [
           {
            "line": {
             "colorbar": {
              "outlinewidth": 0,
              "ticks": ""
             }
            },
            "marker": {
             "colorbar": {
              "outlinewidth": 0,
              "ticks": ""
             }
            },
            "type": "scatter3d"
           }
          ],
          "scattercarpet": [
           {
            "marker": {
             "colorbar": {
              "outlinewidth": 0,
              "ticks": ""
             }
            },
            "type": "scattercarpet"
           }
          ],
          "scattergeo": [
           {
            "marker": {
             "colorbar": {
              "outlinewidth": 0,
              "ticks": ""
             }
            },
            "type": "scattergeo"
           }
          ],
          "scattergl": [
           {
            "marker": {
             "colorbar": {
              "outlinewidth": 0,
              "ticks": ""
             }
            },
            "type": "scattergl"
           }
          ],
          "scattermap": [
           {
            "marker": {
             "colorbar": {
              "outlinewidth": 0,
              "ticks": ""
             }
            },
            "type": "scattermap"
           }
          ],
          "scattermapbox": [
           {
            "marker": {
             "colorbar": {
              "outlinewidth": 0,
              "ticks": ""
             }
            },
            "type": "scattermapbox"
           }
          ],
          "scatterpolar": [
           {
            "marker": {
             "colorbar": {
              "outlinewidth": 0,
              "ticks": ""
             }
            },
            "type": "scatterpolar"
           }
          ],
          "scatterpolargl": [
           {
            "marker": {
             "colorbar": {
              "outlinewidth": 0,
              "ticks": ""
             }
            },
            "type": "scatterpolargl"
           }
          ],
          "scatterternary": [
           {
            "marker": {
             "colorbar": {
              "outlinewidth": 0,
              "ticks": ""
             }
            },
            "type": "scatterternary"
           }
          ],
          "surface": [
           {
            "colorbar": {
             "outlinewidth": 0,
             "ticks": ""
            },
            "colorscale": [
             [
              0,
              "#0d0887"
             ],
             [
              0.1111111111111111,
              "#46039f"
             ],
             [
              0.2222222222222222,
              "#7201a8"
             ],
             [
              0.3333333333333333,
              "#9c179e"
             ],
             [
              0.4444444444444444,
              "#bd3786"
             ],
             [
              0.5555555555555556,
              "#d8576b"
             ],
             [
              0.6666666666666666,
              "#ed7953"
             ],
             [
              0.7777777777777778,
              "#fb9f3a"
             ],
             [
              0.8888888888888888,
              "#fdca26"
             ],
             [
              1,
              "#f0f921"
             ]
            ],
            "type": "surface"
           }
          ],
          "table": [
           {
            "cells": {
             "fill": {
              "color": "#EBF0F8"
             },
             "line": {
              "color": "white"
             }
            },
            "header": {
             "fill": {
              "color": "#C8D4E3"
             },
             "line": {
              "color": "white"
             }
            },
            "type": "table"
           }
          ]
         },
         "layout": {
          "annotationdefaults": {
           "arrowcolor": "#2a3f5f",
           "arrowhead": 0,
           "arrowwidth": 1
          },
          "autotypenumbers": "strict",
          "coloraxis": {
           "colorbar": {
            "outlinewidth": 0,
            "ticks": ""
           }
          },
          "colorscale": {
           "diverging": [
            [
             0,
             "#8e0152"
            ],
            [
             0.1,
             "#c51b7d"
            ],
            [
             0.2,
             "#de77ae"
            ],
            [
             0.3,
             "#f1b6da"
            ],
            [
             0.4,
             "#fde0ef"
            ],
            [
             0.5,
             "#f7f7f7"
            ],
            [
             0.6,
             "#e6f5d0"
            ],
            [
             0.7,
             "#b8e186"
            ],
            [
             0.8,
             "#7fbc41"
            ],
            [
             0.9,
             "#4d9221"
            ],
            [
             1,
             "#276419"
            ]
           ],
           "sequential": [
            [
             0,
             "#0d0887"
            ],
            [
             0.1111111111111111,
             "#46039f"
            ],
            [
             0.2222222222222222,
             "#7201a8"
            ],
            [
             0.3333333333333333,
             "#9c179e"
            ],
            [
             0.4444444444444444,
             "#bd3786"
            ],
            [
             0.5555555555555556,
             "#d8576b"
            ],
            [
             0.6666666666666666,
             "#ed7953"
            ],
            [
             0.7777777777777778,
             "#fb9f3a"
            ],
            [
             0.8888888888888888,
             "#fdca26"
            ],
            [
             1,
             "#f0f921"
            ]
           ],
           "sequentialminus": [
            [
             0,
             "#0d0887"
            ],
            [
             0.1111111111111111,
             "#46039f"
            ],
            [
             0.2222222222222222,
             "#7201a8"
            ],
            [
             0.3333333333333333,
             "#9c179e"
            ],
            [
             0.4444444444444444,
             "#bd3786"
            ],
            [
             0.5555555555555556,
             "#d8576b"
            ],
            [
             0.6666666666666666,
             "#ed7953"
            ],
            [
             0.7777777777777778,
             "#fb9f3a"
            ],
            [
             0.8888888888888888,
             "#fdca26"
            ],
            [
             1,
             "#f0f921"
            ]
           ]
          },
          "colorway": [
           "#636efa",
           "#EF553B",
           "#00cc96",
           "#ab63fa",
           "#FFA15A",
           "#19d3f3",
           "#FF6692",
           "#B6E880",
           "#FF97FF",
           "#FECB52"
          ],
          "font": {
           "color": "#2a3f5f"
          },
          "geo": {
           "bgcolor": "white",
           "lakecolor": "white",
           "landcolor": "#E5ECF6",
           "showlakes": true,
           "showland": true,
           "subunitcolor": "white"
          },
          "hoverlabel": {
           "align": "left"
          },
          "hovermode": "closest",
          "mapbox": {
           "style": "light"
          },
          "paper_bgcolor": "white",
          "plot_bgcolor": "#E5ECF6",
          "polar": {
           "angularaxis": {
            "gridcolor": "white",
            "linecolor": "white",
            "ticks": ""
           },
           "bgcolor": "#E5ECF6",
           "radialaxis": {
            "gridcolor": "white",
            "linecolor": "white",
            "ticks": ""
           }
          },
          "scene": {
           "xaxis": {
            "backgroundcolor": "#E5ECF6",
            "gridcolor": "white",
            "gridwidth": 2,
            "linecolor": "white",
            "showbackground": true,
            "ticks": "",
            "zerolinecolor": "white"
           },
           "yaxis": {
            "backgroundcolor": "#E5ECF6",
            "gridcolor": "white",
            "gridwidth": 2,
            "linecolor": "white",
            "showbackground": true,
            "ticks": "",
            "zerolinecolor": "white"
           },
           "zaxis": {
            "backgroundcolor": "#E5ECF6",
            "gridcolor": "white",
            "gridwidth": 2,
            "linecolor": "white",
            "showbackground": true,
            "ticks": "",
            "zerolinecolor": "white"
           }
          },
          "shapedefaults": {
           "line": {
            "color": "#2a3f5f"
           }
          },
          "ternary": {
           "aaxis": {
            "gridcolor": "white",
            "linecolor": "white",
            "ticks": ""
           },
           "baxis": {
            "gridcolor": "white",
            "linecolor": "white",
            "ticks": ""
           },
           "bgcolor": "#E5ECF6",
           "caxis": {
            "gridcolor": "white",
            "linecolor": "white",
            "ticks": ""
           }
          },
          "title": {
           "x": 0.05
          },
          "xaxis": {
           "automargin": true,
           "gridcolor": "white",
           "linecolor": "white",
           "ticks": "",
           "title": {
            "standoff": 15
           },
           "zerolinecolor": "white",
           "zerolinewidth": 2
          },
          "yaxis": {
           "automargin": true,
           "gridcolor": "white",
           "linecolor": "white",
           "ticks": "",
           "title": {
            "standoff": 15
           },
           "zerolinecolor": "white",
           "zerolinewidth": 2
          }
         }
        },
        "title": {
         "text": "3D визуализация зависимости корреляции от LookBack и Hold"
        }
       }
      }
     },
     "metadata": {},
     "output_type": "display_data"
    }
   ],
   "source": [
    "fig_3d = px.scatter_3d(\n",
    "    returns_table,\n",
    "    x=\"LookBack\",\n",
    "    y=\"Hold\",\n",
    "    z=\"Correlation_abs\",\n",
    "    color=\"P-value\",\n",
    "    size=\"Correlation_abs\",\n",
    "    title=\"3D визуализация зависимости корреляции от LookBack и Hold\"\n",
    ")\n",
    "\n",
    "fig_3d.update_layout(scene=dict(\n",
    "    xaxis_title='LookBack (мин)',\n",
    "    yaxis_title='Hold (мин)',\n",
    "    zaxis_title='Correlation'\n",
    "))\n",
    "\n",
    "fig_3d.show()"
   ]
  },
  {
   "cell_type": "code",
   "execution_count": null,
   "metadata": {},
   "outputs": [],
   "source": []
  }
 ],
 "metadata": {
  "kernelspec": {
   "display_name": "strategy-project-acofjSPn-py3.12",
   "language": "python",
   "name": "python3"
  },
  "language_info": {
   "codemirror_mode": {
    "name": "ipython",
    "version": 3
   },
   "file_extension": ".py",
   "mimetype": "text/x-python",
   "name": "python",
   "nbconvert_exporter": "python",
   "pygments_lexer": "ipython3",
   "version": "3.12.4"
  }
 },
 "nbformat": 4,
 "nbformat_minor": 2
}
