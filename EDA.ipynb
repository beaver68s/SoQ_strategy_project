{
 "cells": [
  {
   "cell_type": "code",
   "execution_count": 2,
   "metadata": {},
   "outputs": [],
   "source": [
    "import pandas as pd\n",
    "from hurst import compute_Hc\n",
    "import matplotlib.pyplot as plt\n",
    "from tqdm import tqdm\n",
    "from joblib import Parallel, delayed\n",
    "import numpy as np\n",
    "import seaborn as sns\n",
    "import plotly.express as px\n",
    "import warnings \n",
    "warnings.filterwarnings('ignore')"
   ]
  },
  {
   "cell_type": "code",
   "execution_count": null,
   "metadata": {},
   "outputs": [],
   "source": []
  },
  {
   "cell_type": "code",
   "execution_count": 16,
   "metadata": {},
   "outputs": [
    {
     "data": {
      "text/plain": [
       "contract      0\n",
       "instrument    0\n",
       "bid           1\n",
       "offer         0\n",
       "bid_size      0\n",
       "offer_size    0\n",
       "timestamp     0\n",
       "adjustment    0\n",
       "dtype: int64"
      ]
     },
     "execution_count": 16,
     "metadata": {},
     "output_type": "execute_result"
    }
   ],
   "source": [
    "future_df = pd.read_parquet(DATA_DIR+f'futures_1min_bar.parquet')\n",
    "future_df.isna().sum()"
   ]
  },
  {
   "cell_type": "code",
   "execution_count": null,
   "metadata": {},
   "outputs": [
    {
     "data": {
      "text/html": [
       "<div>\n",
       "<style scoped>\n",
       "    .dataframe tbody tr th:only-of-type {\n",
       "        vertical-align: middle;\n",
       "    }\n",
       "\n",
       "    .dataframe tbody tr th {\n",
       "        vertical-align: top;\n",
       "    }\n",
       "\n",
       "    .dataframe thead th {\n",
       "        text-align: right;\n",
       "    }\n",
       "</style>\n",
       "<table border=\"1\" class=\"dataframe\">\n",
       "  <thead>\n",
       "    <tr style=\"text-align: right;\">\n",
       "      <th></th>\n",
       "      <th>instrument</th>\n",
       "      <th>bid</th>\n",
       "      <th>offer</th>\n",
       "      <th>timestamp</th>\n",
       "    </tr>\n",
       "  </thead>\n",
       "  <tbody>\n",
       "    <tr>\n",
       "      <th>0</th>\n",
       "      <td>\"EURNOK\"</td>\n",
       "      <td>NaN</td>\n",
       "      <td>NaN</td>\n",
       "      <td>2022-01-02 22:00:00</td>\n",
       "    </tr>\n",
       "    <tr>\n",
       "      <th>1</th>\n",
       "      <td>\"EURNOK\"</td>\n",
       "      <td>9.98959</td>\n",
       "      <td>10.08207</td>\n",
       "      <td>2022-01-02 22:01:00</td>\n",
       "    </tr>\n",
       "    <tr>\n",
       "      <th>2</th>\n",
       "      <td>\"EURNOK\"</td>\n",
       "      <td>9.99041</td>\n",
       "      <td>10.08125</td>\n",
       "      <td>2022-01-02 22:02:00</td>\n",
       "    </tr>\n",
       "    <tr>\n",
       "      <th>3</th>\n",
       "      <td>\"EURNOK\"</td>\n",
       "      <td>NaN</td>\n",
       "      <td>NaN</td>\n",
       "      <td>2022-01-02 22:03:00</td>\n",
       "    </tr>\n",
       "    <tr>\n",
       "      <th>4</th>\n",
       "      <td>\"EURNOK\"</td>\n",
       "      <td>9.99045</td>\n",
       "      <td>10.04837</td>\n",
       "      <td>2022-01-02 22:04:00</td>\n",
       "    </tr>\n",
       "    <tr>\n",
       "      <th>...</th>\n",
       "      <td>...</td>\n",
       "      <td>...</td>\n",
       "      <td>...</td>\n",
       "      <td>...</td>\n",
       "    </tr>\n",
       "    <tr>\n",
       "      <th>1173936</th>\n",
       "      <td>\"EURNOK\"</td>\n",
       "      <td>11.69030</td>\n",
       "      <td>11.71060</td>\n",
       "      <td>2025-02-26 23:55:00</td>\n",
       "    </tr>\n",
       "    <tr>\n",
       "      <th>1173937</th>\n",
       "      <td>\"EURNOK\"</td>\n",
       "      <td>11.68962</td>\n",
       "      <td>11.71056</td>\n",
       "      <td>2025-02-26 23:56:00</td>\n",
       "    </tr>\n",
       "    <tr>\n",
       "      <th>1173938</th>\n",
       "      <td>\"EURNOK\"</td>\n",
       "      <td>11.68952</td>\n",
       "      <td>11.71129</td>\n",
       "      <td>2025-02-26 23:57:00</td>\n",
       "    </tr>\n",
       "    <tr>\n",
       "      <th>1173939</th>\n",
       "      <td>\"EURNOK\"</td>\n",
       "      <td>11.68941</td>\n",
       "      <td>11.71150</td>\n",
       "      <td>2025-02-26 23:58:00</td>\n",
       "    </tr>\n",
       "    <tr>\n",
       "      <th>1173940</th>\n",
       "      <td>\"EURNOK\"</td>\n",
       "      <td>11.68797</td>\n",
       "      <td>11.71087</td>\n",
       "      <td>2025-02-26 23:59:00</td>\n",
       "    </tr>\n",
       "  </tbody>\n",
       "</table>\n",
       "<p>1173941 rows × 4 columns</p>\n",
       "</div>"
      ],
      "text/plain": [
       "        instrument       bid     offer           timestamp\n",
       "0         \"EURNOK\"       NaN       NaN 2022-01-02 22:00:00\n",
       "1         \"EURNOK\"   9.98959  10.08207 2022-01-02 22:01:00\n",
       "2         \"EURNOK\"   9.99041  10.08125 2022-01-02 22:02:00\n",
       "3         \"EURNOK\"       NaN       NaN 2022-01-02 22:03:00\n",
       "4         \"EURNOK\"   9.99045  10.04837 2022-01-02 22:04:00\n",
       "...            ...       ...       ...                 ...\n",
       "1173936   \"EURNOK\"  11.69030  11.71060 2025-02-26 23:55:00\n",
       "1173937   \"EURNOK\"  11.68962  11.71056 2025-02-26 23:56:00\n",
       "1173938   \"EURNOK\"  11.68952  11.71129 2025-02-26 23:57:00\n",
       "1173939   \"EURNOK\"  11.68941  11.71150 2025-02-26 23:58:00\n",
       "1173940   \"EURNOK\"  11.68797  11.71087 2025-02-26 23:59:00\n",
       "\n",
       "[1173941 rows x 4 columns]"
      ]
     },
     "execution_count": 19,
     "metadata": {},
     "output_type": "execute_result"
    }
   ],
   "source": [
    "cur_data = pd.read_parquet(DATA_DIR+f'EURNOK_data.parquet')\n",
    "cur_data[cur_data]"
   ]
  },
  {
   "cell_type": "code",
   "execution_count": null,
   "metadata": {},
   "outputs": [],
   "source": []
  },
  {
   "cell_type": "code",
   "execution_count": 3,
   "metadata": {},
   "outputs": [],
   "source": [
    "DATA_DIR = 'data/'"
   ]
  },
  {
   "cell_type": "code",
   "execution_count": 4,
   "metadata": {},
   "outputs": [],
   "source": [
    "fx_list = ['EURCZK', 'AUDUSD', 'EURHUF', 'EURNOK', 'EURPLN',\n",
    "           'EURSEK', 'EURUSD', 'GBPUSD', 'NZDUSD', 'USDCAD',\n",
    "           'USDCHF', 'USDCNH', 'USDILS', 'USDJPY', 'USDMXN', \n",
    "           'USDSGD', 'USDZAR']"
   ]
  },
  {
   "cell_type": "code",
   "execution_count": null,
   "metadata": {},
   "outputs": [
    {
     "name": "stdout",
     "output_type": "stream",
     "text": [
      "(312822, 11)\n"
     ]
    },
    {
     "data": {
      "text/html": [
       "<div>\n",
       "<style scoped>\n",
       "    .dataframe tbody tr th:only-of-type {\n",
       "        vertical-align: middle;\n",
       "    }\n",
       "\n",
       "    .dataframe tbody tr th {\n",
       "        vertical-align: top;\n",
       "    }\n",
       "\n",
       "    .dataframe thead th {\n",
       "        text-align: right;\n",
       "    }\n",
       "</style>\n",
       "<table border=\"1\" class=\"dataframe\">\n",
       "  <thead>\n",
       "    <tr style=\"text-align: right;\">\n",
       "      <th></th>\n",
       "      <th>contract</th>\n",
       "      <th>instrument</th>\n",
       "      <th>bid</th>\n",
       "      <th>offer</th>\n",
       "      <th>bid_size</th>\n",
       "      <th>offer_size</th>\n",
       "      <th>timestamp</th>\n",
       "      <th>adjustment</th>\n",
       "      <th>Roll Adjusted Bid</th>\n",
       "      <th>Roll Adjusted Offer</th>\n",
       "      <th>mid_price</th>\n",
       "    </tr>\n",
       "  </thead>\n",
       "  <tbody>\n",
       "    <tr>\n",
       "      <th>0</th>\n",
       "      <td>ES</td>\n",
       "      <td>ESZ3</td>\n",
       "      <td>4572.75</td>\n",
       "      <td>4573.00</td>\n",
       "      <td>21</td>\n",
       "      <td>31</td>\n",
       "      <td>2023-12-01 00:01:00</td>\n",
       "      <td>316.375</td>\n",
       "      <td>4889.125</td>\n",
       "      <td>4889.375</td>\n",
       "      <td>4889.25</td>\n",
       "    </tr>\n",
       "    <tr>\n",
       "      <th>1</th>\n",
       "      <td>ES</td>\n",
       "      <td>ESZ3</td>\n",
       "      <td>4572.50</td>\n",
       "      <td>4572.75</td>\n",
       "      <td>31</td>\n",
       "      <td>23</td>\n",
       "      <td>2023-12-01 00:02:00</td>\n",
       "      <td>316.375</td>\n",
       "      <td>4888.875</td>\n",
       "      <td>4889.125</td>\n",
       "      <td>4889.00</td>\n",
       "    </tr>\n",
       "  </tbody>\n",
       "</table>\n",
       "</div>"
      ],
      "text/plain": [
       "  contract instrument      bid    offer  bid_size  offer_size  \\\n",
       "0       ES       ESZ3  4572.75  4573.00        21          31   \n",
       "1       ES       ESZ3  4572.50  4572.75        31          23   \n",
       "\n",
       "            timestamp  adjustment  Roll Adjusted Bid  Roll Adjusted Offer  \\\n",
       "0 2023-12-01 00:01:00     316.375           4889.125             4889.375   \n",
       "1 2023-12-01 00:02:00     316.375           4888.875             4889.125   \n",
       "\n",
       "   mid_price  \n",
       "0    4889.25  \n",
       "1    4889.00  "
      ]
     },
     "execution_count": 5,
     "metadata": {},
     "output_type": "execute_result"
    }
   ],
   "source": [
    "future_df = pd.read_parquet(DATA_DIR+f'futures_1min_bar.parquet')\n",
    "\n",
    "future_df = future_df.sort_values(by='timestamp')\n",
    "future_df = future_df[~future_df.bid.isna()]\n",
    "future_df['Roll Adjusted Bid'] = future_df['bid'] + future_df['adjustment']\n",
    "future_df['Roll Adjusted Offer'] = future_df['offer'] + future_df['adjustment']\n",
    "future_df['mid_price'] = (future_df['Roll Adjusted Bid'] + future_df['Roll Adjusted Offer']) / 2\n",
    "print(future_df.shape)\n",
    "future_df.head(2)"
   ]
  },
  {
   "cell_type": "code",
   "execution_count": 6,
   "metadata": {},
   "outputs": [
    {
     "data": {
      "text/plain": [
       "contract               0.0\n",
       "instrument             0.0\n",
       "bid                    0.0\n",
       "offer                  0.0\n",
       "bid_size               0.0\n",
       "offer_size             0.0\n",
       "timestamp              0.0\n",
       "adjustment             0.0\n",
       "Roll Adjusted Bid      0.0\n",
       "Roll Adjusted Offer    0.0\n",
       "mid_price              0.0\n",
       "dtype: float64"
      ]
     },
     "execution_count": 6,
     "metadata": {},
     "output_type": "execute_result"
    }
   ],
   "source": [
    "future_df.isna().mean()"
   ]
  },
  {
   "cell_type": "code",
   "execution_count": null,
   "metadata": {},
   "outputs": [],
   "source": []
  },
  {
   "cell_type": "code",
   "execution_count": null,
   "metadata": {},
   "outputs": [],
   "source": []
  },
  {
   "cell_type": "code",
   "execution_count": 48,
   "metadata": {},
   "outputs": [
    {
     "name": "stdout",
     "output_type": "stream",
     "text": [
      "EURCZK (1151405, 4)\n",
      "AUDUSD (1176103, 4)\n",
      "EURHUF (1152347, 4)\n",
      "EURNOK (1173941, 4)\n",
      "EURPLN (1153173, 4)\n",
      "EURSEK (1154995, 4)\n",
      "EURUSD (1179255, 4)\n",
      "GBPUSD (1176068, 4)\n",
      "NZDUSD (1176046, 4)\n",
      "USDCAD (1175941, 4)\n",
      "USDCHF (1176588, 4)\n",
      "USDCNH (1176026, 4)\n",
      "USDILS (1139866, 4)\n",
      "USDJPY (1175716, 4)\n",
      "USDMXN (1174505, 4)\n",
      "USDSGD (1177216, 4)\n",
      "USDZAR (1173943, 4)\n"
     ]
    }
   ],
   "source": [
    "for fx in fx_list:\n",
    "    try:\n",
    "        cur_data = pd.read_parquet(DATA_DIR+f'{fx}_data.parquet')\n",
    "        print(fx, cur_data.shape)\n",
    "    except Exception as e:\n",
    "        print(e)\n",
    "        continue "
   ]
  },
  {
   "cell_type": "markdown",
   "metadata": {},
   "source": [
    "# Hurst Exponent"
   ]
  },
  {
   "cell_type": "code",
   "execution_count": 51,
   "metadata": {},
   "outputs": [
    {
     "data": {
      "text/html": [
       "<div>\n",
       "<style scoped>\n",
       "    .dataframe tbody tr th:only-of-type {\n",
       "        vertical-align: middle;\n",
       "    }\n",
       "\n",
       "    .dataframe tbody tr th {\n",
       "        vertical-align: top;\n",
       "    }\n",
       "\n",
       "    .dataframe thead th {\n",
       "        text-align: right;\n",
       "    }\n",
       "</style>\n",
       "<table border=\"1\" class=\"dataframe\">\n",
       "  <thead>\n",
       "    <tr style=\"text-align: right;\">\n",
       "      <th></th>\n",
       "      <th>instrument</th>\n",
       "      <th>bid</th>\n",
       "      <th>offer</th>\n",
       "      <th>timestamp</th>\n",
       "    </tr>\n",
       "  </thead>\n",
       "  <tbody>\n",
       "    <tr>\n",
       "      <th>378414</th>\n",
       "      <td>\"USDZAR\"</td>\n",
       "      <td>NaN</td>\n",
       "      <td>NaN</td>\n",
       "      <td>2023-01-06 00:49:00</td>\n",
       "    </tr>\n",
       "    <tr>\n",
       "      <th>1144114</th>\n",
       "      <td>\"USDZAR\"</td>\n",
       "      <td>18.68812</td>\n",
       "      <td>18.70070</td>\n",
       "      <td>2025-01-29 02:46:00</td>\n",
       "    </tr>\n",
       "    <tr>\n",
       "      <th>605010</th>\n",
       "      <td>\"USDZAR\"</td>\n",
       "      <td>19.05800</td>\n",
       "      <td>19.06962</td>\n",
       "      <td>2023-08-18 06:11:00</td>\n",
       "    </tr>\n",
       "    <tr>\n",
       "      <th>339052</th>\n",
       "      <td>\"USDZAR\"</td>\n",
       "      <td>16.99572</td>\n",
       "      <td>17.00077</td>\n",
       "      <td>2022-11-29 16:08:00</td>\n",
       "    </tr>\n",
       "    <tr>\n",
       "      <th>1133245</th>\n",
       "      <td>\"USDZAR\"</td>\n",
       "      <td>18.73142</td>\n",
       "      <td>18.73993</td>\n",
       "      <td>2025-01-17 12:25:00</td>\n",
       "    </tr>\n",
       "    <tr>\n",
       "      <th>...</th>\n",
       "      <td>...</td>\n",
       "      <td>...</td>\n",
       "      <td>...</td>\n",
       "      <td>...</td>\n",
       "    </tr>\n",
       "    <tr>\n",
       "      <th>464211</th>\n",
       "      <td>\"USDZAR\"</td>\n",
       "      <td>17.89259</td>\n",
       "      <td>17.90087</td>\n",
       "      <td>2023-04-04 13:19:00</td>\n",
       "    </tr>\n",
       "    <tr>\n",
       "      <th>955565</th>\n",
       "      <td>\"USDZAR\"</td>\n",
       "      <td>18.24494</td>\n",
       "      <td>18.25159</td>\n",
       "      <td>2024-07-26 10:35:00</td>\n",
       "    </tr>\n",
       "    <tr>\n",
       "      <th>774991</th>\n",
       "      <td>\"USDZAR\"</td>\n",
       "      <td>18.64894</td>\n",
       "      <td>18.66060</td>\n",
       "      <td>2024-02-01 03:51:00</td>\n",
       "    </tr>\n",
       "    <tr>\n",
       "      <th>922958</th>\n",
       "      <td>\"USDZAR\"</td>\n",
       "      <td>18.22140</td>\n",
       "      <td>18.23082</td>\n",
       "      <td>2024-06-25 19:22:00</td>\n",
       "    </tr>\n",
       "    <tr>\n",
       "      <th>238964</th>\n",
       "      <td>\"USDZAR\"</td>\n",
       "      <td>17.04470</td>\n",
       "      <td>17.06233</td>\n",
       "      <td>2022-08-24 04:12:00</td>\n",
       "    </tr>\n",
       "  </tbody>\n",
       "</table>\n",
       "<p>100 rows × 4 columns</p>\n",
       "</div>"
      ],
      "text/plain": [
       "        instrument       bid     offer           timestamp\n",
       "378414    \"USDZAR\"       NaN       NaN 2023-01-06 00:49:00\n",
       "1144114   \"USDZAR\"  18.68812  18.70070 2025-01-29 02:46:00\n",
       "605010    \"USDZAR\"  19.05800  19.06962 2023-08-18 06:11:00\n",
       "339052    \"USDZAR\"  16.99572  17.00077 2022-11-29 16:08:00\n",
       "1133245   \"USDZAR\"  18.73142  18.73993 2025-01-17 12:25:00\n",
       "...            ...       ...       ...                 ...\n",
       "464211    \"USDZAR\"  17.89259  17.90087 2023-04-04 13:19:00\n",
       "955565    \"USDZAR\"  18.24494  18.25159 2024-07-26 10:35:00\n",
       "774991    \"USDZAR\"  18.64894  18.66060 2024-02-01 03:51:00\n",
       "922958    \"USDZAR\"  18.22140  18.23082 2024-06-25 19:22:00\n",
       "238964    \"USDZAR\"  17.04470  17.06233 2022-08-24 04:12:00\n",
       "\n",
       "[100 rows x 4 columns]"
      ]
     },
     "execution_count": 51,
     "metadata": {},
     "output_type": "execute_result"
    }
   ],
   "source": [
    "cur_data.sample(100)"
   ]
  },
  {
   "cell_type": "code",
   "execution_count": 5,
   "metadata": {},
   "outputs": [
    {
     "name": "stderr",
     "output_type": "stream",
     "text": [
      "100%|██████████| 17/17 [01:15<00:00,  4.47s/it]\n"
     ]
    },
    {
     "data": {
      "application/vnd.plotly.v1+json": {
       "config": {
        "plotlyServerURL": "https://plot.ly"
       },
       "data": [
        {
         "hovertemplate": "hurst_value=%{x}<br>data=%{y}<extra></extra>",
         "legendgroup": "",
         "marker": {
          "color": "#636efa",
          "pattern": {
           "shape": ""
          }
         },
         "name": "",
         "orientation": "h",
         "showlegend": false,
         "textposition": "auto",
         "type": "bar",
         "x": {
          "bdata": "4hRG/LI/3D9A1NE6YnjcP/wcgzd38Nw/xwfupGPZ3T9b23mx/ezdPyosqgh/+90/KvKZgGSz3j90ZJUAdPLeP22w06FP/N4/W0N/ZHv+3j+515XZ+xnfP4a+23zULt8/A5XMIYhg3z93Vt5LHXnfP/jqxOlYAOA/sX8Jh0cL4D8D18aVB6bgP+wEsLzdC+E/",
          "dtype": "f8"
         },
         "xaxis": "x",
         "y": [
          "EURNOK",
          "EURSEK",
          "NZDUSD",
          "USDZAR",
          "USDILS",
          "EURCZK",
          "AUDUSD",
          "USDMXN",
          "USDCAD",
          "EURHUF",
          "EURPLN",
          "USDSGD",
          "GBPUSD",
          "USDCHF",
          "USDCNH",
          "EURUSD",
          "feature",
          "USDJPY"
         ],
         "yaxis": "y"
        }
       ],
       "layout": {
        "barmode": "relative",
        "legend": {
         "tracegroupgap": 0
        },
        "margin": {
         "t": 60
        },
        "template": {
         "data": {
          "bar": [
           {
            "error_x": {
             "color": "#2a3f5f"
            },
            "error_y": {
             "color": "#2a3f5f"
            },
            "marker": {
             "line": {
              "color": "#E5ECF6",
              "width": 0.5
             },
             "pattern": {
              "fillmode": "overlay",
              "size": 10,
              "solidity": 0.2
             }
            },
            "type": "bar"
           }
          ],
          "barpolar": [
           {
            "marker": {
             "line": {
              "color": "#E5ECF6",
              "width": 0.5
             },
             "pattern": {
              "fillmode": "overlay",
              "size": 10,
              "solidity": 0.2
             }
            },
            "type": "barpolar"
           }
          ],
          "carpet": [
           {
            "aaxis": {
             "endlinecolor": "#2a3f5f",
             "gridcolor": "white",
             "linecolor": "white",
             "minorgridcolor": "white",
             "startlinecolor": "#2a3f5f"
            },
            "baxis": {
             "endlinecolor": "#2a3f5f",
             "gridcolor": "white",
             "linecolor": "white",
             "minorgridcolor": "white",
             "startlinecolor": "#2a3f5f"
            },
            "type": "carpet"
           }
          ],
          "choropleth": [
           {
            "colorbar": {
             "outlinewidth": 0,
             "ticks": ""
            },
            "type": "choropleth"
           }
          ],
          "contour": [
           {
            "colorbar": {
             "outlinewidth": 0,
             "ticks": ""
            },
            "colorscale": [
             [
              0,
              "#0d0887"
             ],
             [
              0.1111111111111111,
              "#46039f"
             ],
             [
              0.2222222222222222,
              "#7201a8"
             ],
             [
              0.3333333333333333,
              "#9c179e"
             ],
             [
              0.4444444444444444,
              "#bd3786"
             ],
             [
              0.5555555555555556,
              "#d8576b"
             ],
             [
              0.6666666666666666,
              "#ed7953"
             ],
             [
              0.7777777777777778,
              "#fb9f3a"
             ],
             [
              0.8888888888888888,
              "#fdca26"
             ],
             [
              1,
              "#f0f921"
             ]
            ],
            "type": "contour"
           }
          ],
          "contourcarpet": [
           {
            "colorbar": {
             "outlinewidth": 0,
             "ticks": ""
            },
            "type": "contourcarpet"
           }
          ],
          "heatmap": [
           {
            "colorbar": {
             "outlinewidth": 0,
             "ticks": ""
            },
            "colorscale": [
             [
              0,
              "#0d0887"
             ],
             [
              0.1111111111111111,
              "#46039f"
             ],
             [
              0.2222222222222222,
              "#7201a8"
             ],
             [
              0.3333333333333333,
              "#9c179e"
             ],
             [
              0.4444444444444444,
              "#bd3786"
             ],
             [
              0.5555555555555556,
              "#d8576b"
             ],
             [
              0.6666666666666666,
              "#ed7953"
             ],
             [
              0.7777777777777778,
              "#fb9f3a"
             ],
             [
              0.8888888888888888,
              "#fdca26"
             ],
             [
              1,
              "#f0f921"
             ]
            ],
            "type": "heatmap"
           }
          ],
          "histogram": [
           {
            "marker": {
             "pattern": {
              "fillmode": "overlay",
              "size": 10,
              "solidity": 0.2
             }
            },
            "type": "histogram"
           }
          ],
          "histogram2d": [
           {
            "colorbar": {
             "outlinewidth": 0,
             "ticks": ""
            },
            "colorscale": [
             [
              0,
              "#0d0887"
             ],
             [
              0.1111111111111111,
              "#46039f"
             ],
             [
              0.2222222222222222,
              "#7201a8"
             ],
             [
              0.3333333333333333,
              "#9c179e"
             ],
             [
              0.4444444444444444,
              "#bd3786"
             ],
             [
              0.5555555555555556,
              "#d8576b"
             ],
             [
              0.6666666666666666,
              "#ed7953"
             ],
             [
              0.7777777777777778,
              "#fb9f3a"
             ],
             [
              0.8888888888888888,
              "#fdca26"
             ],
             [
              1,
              "#f0f921"
             ]
            ],
            "type": "histogram2d"
           }
          ],
          "histogram2dcontour": [
           {
            "colorbar": {
             "outlinewidth": 0,
             "ticks": ""
            },
            "colorscale": [
             [
              0,
              "#0d0887"
             ],
             [
              0.1111111111111111,
              "#46039f"
             ],
             [
              0.2222222222222222,
              "#7201a8"
             ],
             [
              0.3333333333333333,
              "#9c179e"
             ],
             [
              0.4444444444444444,
              "#bd3786"
             ],
             [
              0.5555555555555556,
              "#d8576b"
             ],
             [
              0.6666666666666666,
              "#ed7953"
             ],
             [
              0.7777777777777778,
              "#fb9f3a"
             ],
             [
              0.8888888888888888,
              "#fdca26"
             ],
             [
              1,
              "#f0f921"
             ]
            ],
            "type": "histogram2dcontour"
           }
          ],
          "mesh3d": [
           {
            "colorbar": {
             "outlinewidth": 0,
             "ticks": ""
            },
            "type": "mesh3d"
           }
          ],
          "parcoords": [
           {
            "line": {
             "colorbar": {
              "outlinewidth": 0,
              "ticks": ""
             }
            },
            "type": "parcoords"
           }
          ],
          "pie": [
           {
            "automargin": true,
            "type": "pie"
           }
          ],
          "scatter": [
           {
            "fillpattern": {
             "fillmode": "overlay",
             "size": 10,
             "solidity": 0.2
            },
            "type": "scatter"
           }
          ],
          "scatter3d": [
           {
            "line": {
             "colorbar": {
              "outlinewidth": 0,
              "ticks": ""
             }
            },
            "marker": {
             "colorbar": {
              "outlinewidth": 0,
              "ticks": ""
             }
            },
            "type": "scatter3d"
           }
          ],
          "scattercarpet": [
           {
            "marker": {
             "colorbar": {
              "outlinewidth": 0,
              "ticks": ""
             }
            },
            "type": "scattercarpet"
           }
          ],
          "scattergeo": [
           {
            "marker": {
             "colorbar": {
              "outlinewidth": 0,
              "ticks": ""
             }
            },
            "type": "scattergeo"
           }
          ],
          "scattergl": [
           {
            "marker": {
             "colorbar": {
              "outlinewidth": 0,
              "ticks": ""
             }
            },
            "type": "scattergl"
           }
          ],
          "scattermap": [
           {
            "marker": {
             "colorbar": {
              "outlinewidth": 0,
              "ticks": ""
             }
            },
            "type": "scattermap"
           }
          ],
          "scattermapbox": [
           {
            "marker": {
             "colorbar": {
              "outlinewidth": 0,
              "ticks": ""
             }
            },
            "type": "scattermapbox"
           }
          ],
          "scatterpolar": [
           {
            "marker": {
             "colorbar": {
              "outlinewidth": 0,
              "ticks": ""
             }
            },
            "type": "scatterpolar"
           }
          ],
          "scatterpolargl": [
           {
            "marker": {
             "colorbar": {
              "outlinewidth": 0,
              "ticks": ""
             }
            },
            "type": "scatterpolargl"
           }
          ],
          "scatterternary": [
           {
            "marker": {
             "colorbar": {
              "outlinewidth": 0,
              "ticks": ""
             }
            },
            "type": "scatterternary"
           }
          ],
          "surface": [
           {
            "colorbar": {
             "outlinewidth": 0,
             "ticks": ""
            },
            "colorscale": [
             [
              0,
              "#0d0887"
             ],
             [
              0.1111111111111111,
              "#46039f"
             ],
             [
              0.2222222222222222,
              "#7201a8"
             ],
             [
              0.3333333333333333,
              "#9c179e"
             ],
             [
              0.4444444444444444,
              "#bd3786"
             ],
             [
              0.5555555555555556,
              "#d8576b"
             ],
             [
              0.6666666666666666,
              "#ed7953"
             ],
             [
              0.7777777777777778,
              "#fb9f3a"
             ],
             [
              0.8888888888888888,
              "#fdca26"
             ],
             [
              1,
              "#f0f921"
             ]
            ],
            "type": "surface"
           }
          ],
          "table": [
           {
            "cells": {
             "fill": {
              "color": "#EBF0F8"
             },
             "line": {
              "color": "white"
             }
            },
            "header": {
             "fill": {
              "color": "#C8D4E3"
             },
             "line": {
              "color": "white"
             }
            },
            "type": "table"
           }
          ]
         },
         "layout": {
          "annotationdefaults": {
           "arrowcolor": "#2a3f5f",
           "arrowhead": 0,
           "arrowwidth": 1
          },
          "autotypenumbers": "strict",
          "coloraxis": {
           "colorbar": {
            "outlinewidth": 0,
            "ticks": ""
           }
          },
          "colorscale": {
           "diverging": [
            [
             0,
             "#8e0152"
            ],
            [
             0.1,
             "#c51b7d"
            ],
            [
             0.2,
             "#de77ae"
            ],
            [
             0.3,
             "#f1b6da"
            ],
            [
             0.4,
             "#fde0ef"
            ],
            [
             0.5,
             "#f7f7f7"
            ],
            [
             0.6,
             "#e6f5d0"
            ],
            [
             0.7,
             "#b8e186"
            ],
            [
             0.8,
             "#7fbc41"
            ],
            [
             0.9,
             "#4d9221"
            ],
            [
             1,
             "#276419"
            ]
           ],
           "sequential": [
            [
             0,
             "#0d0887"
            ],
            [
             0.1111111111111111,
             "#46039f"
            ],
            [
             0.2222222222222222,
             "#7201a8"
            ],
            [
             0.3333333333333333,
             "#9c179e"
            ],
            [
             0.4444444444444444,
             "#bd3786"
            ],
            [
             0.5555555555555556,
             "#d8576b"
            ],
            [
             0.6666666666666666,
             "#ed7953"
            ],
            [
             0.7777777777777778,
             "#fb9f3a"
            ],
            [
             0.8888888888888888,
             "#fdca26"
            ],
            [
             1,
             "#f0f921"
            ]
           ],
           "sequentialminus": [
            [
             0,
             "#0d0887"
            ],
            [
             0.1111111111111111,
             "#46039f"
            ],
            [
             0.2222222222222222,
             "#7201a8"
            ],
            [
             0.3333333333333333,
             "#9c179e"
            ],
            [
             0.4444444444444444,
             "#bd3786"
            ],
            [
             0.5555555555555556,
             "#d8576b"
            ],
            [
             0.6666666666666666,
             "#ed7953"
            ],
            [
             0.7777777777777778,
             "#fb9f3a"
            ],
            [
             0.8888888888888888,
             "#fdca26"
            ],
            [
             1,
             "#f0f921"
            ]
           ]
          },
          "colorway": [
           "#636efa",
           "#EF553B",
           "#00cc96",
           "#ab63fa",
           "#FFA15A",
           "#19d3f3",
           "#FF6692",
           "#B6E880",
           "#FF97FF",
           "#FECB52"
          ],
          "font": {
           "color": "#2a3f5f"
          },
          "geo": {
           "bgcolor": "white",
           "lakecolor": "white",
           "landcolor": "#E5ECF6",
           "showlakes": true,
           "showland": true,
           "subunitcolor": "white"
          },
          "hoverlabel": {
           "align": "left"
          },
          "hovermode": "closest",
          "mapbox": {
           "style": "light"
          },
          "paper_bgcolor": "white",
          "plot_bgcolor": "#E5ECF6",
          "polar": {
           "angularaxis": {
            "gridcolor": "white",
            "linecolor": "white",
            "ticks": ""
           },
           "bgcolor": "#E5ECF6",
           "radialaxis": {
            "gridcolor": "white",
            "linecolor": "white",
            "ticks": ""
           }
          },
          "scene": {
           "xaxis": {
            "backgroundcolor": "#E5ECF6",
            "gridcolor": "white",
            "gridwidth": 2,
            "linecolor": "white",
            "showbackground": true,
            "ticks": "",
            "zerolinecolor": "white"
           },
           "yaxis": {
            "backgroundcolor": "#E5ECF6",
            "gridcolor": "white",
            "gridwidth": 2,
            "linecolor": "white",
            "showbackground": true,
            "ticks": "",
            "zerolinecolor": "white"
           },
           "zaxis": {
            "backgroundcolor": "#E5ECF6",
            "gridcolor": "white",
            "gridwidth": 2,
            "linecolor": "white",
            "showbackground": true,
            "ticks": "",
            "zerolinecolor": "white"
           }
          },
          "shapedefaults": {
           "line": {
            "color": "#2a3f5f"
           }
          },
          "ternary": {
           "aaxis": {
            "gridcolor": "white",
            "linecolor": "white",
            "ticks": ""
           },
           "baxis": {
            "gridcolor": "white",
            "linecolor": "white",
            "ticks": ""
           },
           "bgcolor": "#E5ECF6",
           "caxis": {
            "gridcolor": "white",
            "linecolor": "white",
            "ticks": ""
           }
          },
          "title": {
           "x": 0.05
          },
          "xaxis": {
           "automargin": true,
           "gridcolor": "white",
           "linecolor": "white",
           "ticks": "",
           "title": {
            "standoff": 15
           },
           "zerolinecolor": "white",
           "zerolinewidth": 2
          },
          "yaxis": {
           "automargin": true,
           "gridcolor": "white",
           "linecolor": "white",
           "ticks": "",
           "title": {
            "standoff": 15
           },
           "zerolinecolor": "white",
           "zerolinewidth": 2
          }
         }
        },
        "xaxis": {
         "anchor": "y",
         "domain": [
          0,
          1
         ],
         "title": {
          "text": "hurst_value"
         }
        },
        "yaxis": {
         "anchor": "x",
         "domain": [
          0,
          1
         ],
         "title": {
          "text": "data"
         }
        }
       }
      }
     },
     "metadata": {},
     "output_type": "display_data"
    }
   ],
   "source": [
    "hurst_df = [['feature', compute_Hc(future_df['mid_price'], kind='price', simplified=False)[0]]]\n",
    "\n",
    "for fx in tqdm(fx_list):\n",
    "    cur_data = pd.read_parquet(DATA_DIR+f'{fx}_data.parquet')\n",
    "    cur_data['mid_price'] = (cur_data['bid'] + cur_data['offer'])/2\n",
    "    cur_data = cur_data[~cur_data.mid_price.isna()].sort_values(by='timestamp')\n",
    "    hurst_value, _, _ = compute_Hc(cur_data['mid_price'], kind='price', simplified=True)\n",
    "\n",
    "    hurst_df.append([fx, hurst_value])\n",
    "\n",
    "hurst_df = pd.DataFrame(hurst_df, columns = ['data', 'hurst_value'])\n",
    "\n",
    "px.bar(\n",
    "    hurst_df.sort_values(by='hurst_value'),\n",
    "    x='hurst_value',\n",
    "    y='data'\n",
    ")"
   ]
  },
  {
   "cell_type": "code",
   "execution_count": null,
   "metadata": {},
   "outputs": [
    {
     "name": "stderr",
     "output_type": "stream",
     "text": [
      "100%|██████████| 50/50 [00:06<00:00,  8.11it/s]\n"
     ]
    }
   ],
   "source": [
    "# from joblib import Parallel, delayed\n",
    "\n",
    "# def block_bootstrap_hurst(series, n_iter=50, n_jobs=-1):\n",
    "#     \"\"\"\n",
    "#     Блочный бутстрап для временных рядов: сохраняет временную структуру внутри блоков.\n",
    "\n",
    "#     :param series: 1D массив (временной ряд)\n",
    "#     :param block_size: размер блока (например, 50)\n",
    "#     :param n_iter: количество бутстрап-итераций\n",
    "#     :param n_jobs: число потоков для параллелизации\n",
    "#     :param show_progress: показывать ли прогресс-бар\n",
    "#     :return: (95% доверительный интервал, среднее значение Hurst)\n",
    "#     \"\"\"\n",
    "#     series = np.asarray(series)\n",
    "#     n = len(series)\n",
    "\n",
    "#     def one_iter(_):\n",
    "#         block_finish = np.random.randint(100_000, n + 1)\n",
    "#         blocks = series[:block_finish]\n",
    "#         H, _, _ = compute_Hc(blocks, kind='price', simplified=False)\n",
    "#         return H\n",
    "\n",
    "#     results = Parallel(n_jobs=n_jobs)(\n",
    "#         delayed(one_iter)(i) for i in tqdm(range(n_iter))\n",
    "#     )\n",
    "    \n",
    "\n",
    "#     return np.percentile(results, [2.5, 97.5]), np.mean(results)\n",
    "\n",
    "\n",
    "# hurst_df_ci = []\n",
    "\n",
    "# ci, mean_hurst = block_bootstrap_hurst(future_df['mid_price'].dropna().values)\n",
    "# hurst_df_ci.append(['feature', mean_hurst, ci[0], ci[1]])\n",
    "\n",
    "# for fx in tqdm(fx_list):\n",
    "#     cur_data = pd.read_parquet(DATA_DIR+f'{fx}_data.parquet')\n",
    "#     cur_data['mid_price'] = (cur_data['bid'] + cur_data['offer'])/2\n",
    "#     cur_data = cur_data[~cur_data.mid_price.isna()].sort_values(by='timestamp')\n",
    "#     ci, mean_hurst = block_bootstrap_hurst(cur_data['mid_price'].dropna().values)\n",
    "\n",
    "#     hurst_df_ci.append([fx, mean_hurst, ci[0], ci[1]])"
   ]
  },
  {
   "cell_type": "code",
   "execution_count": 6,
   "metadata": {},
   "outputs": [],
   "source": [
    "def bootstrap_hurst(series, n_iter=100, sample_frac=0.8, n_jobs=-1):\n",
    "    series = np.asarray(series)\n",
    "    n = len(series)\n",
    "    sample_size = int(n * sample_frac)\n",
    "\n",
    "    # Внутренняя функция для одной итерации\n",
    "    def one_bootstrap():\n",
    "        idx = np.random.choice(n, size=sample_size, replace=False)\n",
    "        sample = series[np.sort(idx)]\n",
    "        H, _, _ = compute_Hc(sample, kind='price', simplified=False)\n",
    "        return H\n",
    "\n",
    "    # Параллельное выполнение\n",
    "    hurst_vals = Parallel(n_jobs=n_jobs)(\n",
    "        delayed(one_bootstrap)() for _ in tqdm(range(n_iter), desc='Bootstaping...')\n",
    "    )\n",
    "\n",
    "    return np.percentile(hurst_vals, [2.5, 97.5]), np.mean(hurst_vals)"
   ]
  },
  {
   "cell_type": "code",
   "execution_count": 7,
   "metadata": {},
   "outputs": [
    {
     "name": "stderr",
     "output_type": "stream",
     "text": [
      "Bootstaping...: 100%|██████████| 100/100 [00:16<00:00,  6.06it/s]\n"
     ]
    }
   ],
   "source": [
    "hurst_df_ci = []\n",
    "\n",
    "ci, mean_hurst = bootstrap_hurst(future_df['mid_price'].dropna().values)\n",
    "hurst_df_ci.append(['feature', mean_hurst, ci[0], ci[1]])"
   ]
  },
  {
   "cell_type": "code",
   "execution_count": 11,
   "metadata": {},
   "outputs": [
    {
     "name": "stderr",
     "output_type": "stream",
     "text": [
      "Bootstaping...: 100%|██████████| 100/100 [00:48<00:00,  2.08it/s]\n"
     ]
    },
    {
     "name": "stdout",
     "output_type": "stream",
     "text": [
      "EURCZK\n"
     ]
    },
    {
     "name": "stderr",
     "output_type": "stream",
     "text": [
      "Bootstaping...: 100%|██████████| 100/100 [00:59<00:00,  1.67it/s]\n"
     ]
    },
    {
     "name": "stdout",
     "output_type": "stream",
     "text": [
      "AUDUSD\n"
     ]
    },
    {
     "name": "stderr",
     "output_type": "stream",
     "text": [
      "Bootstaping...:  40%|████      | 40/100 [00:17<00:28,  2.09it/s]"
     ]
    },
    {
     "ename": "KeyboardInterrupt",
     "evalue": "",
     "output_type": "error",
     "traceback": [
      "\u001b[31m---------------------------------------------------------------------------\u001b[39m",
      "\u001b[31mKeyboardInterrupt\u001b[39m                         Traceback (most recent call last)",
      "\u001b[36mCell\u001b[39m\u001b[36m \u001b[39m\u001b[32mIn[11]\u001b[39m\u001b[32m, line 5\u001b[39m\n\u001b[32m      3\u001b[39m cur_data[\u001b[33m'\u001b[39m\u001b[33mmid_price\u001b[39m\u001b[33m'\u001b[39m] = (cur_data[\u001b[33m'\u001b[39m\u001b[33mbid\u001b[39m\u001b[33m'\u001b[39m] + cur_data[\u001b[33m'\u001b[39m\u001b[33moffer\u001b[39m\u001b[33m'\u001b[39m])/\u001b[32m2\u001b[39m\n\u001b[32m      4\u001b[39m cur_data = cur_data[~cur_data.mid_price.isna()].sort_values(by=\u001b[33m'\u001b[39m\u001b[33mtimestamp\u001b[39m\u001b[33m'\u001b[39m)\n\u001b[32m----> \u001b[39m\u001b[32m5\u001b[39m ci, mean_hurst = \u001b[43mbootstrap_hurst\u001b[49m\u001b[43m(\u001b[49m\u001b[43mcur_data\u001b[49m\u001b[43m[\u001b[49m\u001b[33;43m'\u001b[39;49m\u001b[33;43mmid_price\u001b[39;49m\u001b[33;43m'\u001b[39;49m\u001b[43m]\u001b[49m\u001b[43m.\u001b[49m\u001b[43mdropna\u001b[49m\u001b[43m(\u001b[49m\u001b[43m)\u001b[49m\u001b[43m.\u001b[49m\u001b[43mvalues\u001b[49m\u001b[43m)\u001b[49m\n\u001b[32m      7\u001b[39m hurst_df_ci.append([fx, mean_hurst, ci[\u001b[32m0\u001b[39m], ci[\u001b[32m1\u001b[39m]])\n\u001b[32m      8\u001b[39m \u001b[38;5;28mprint\u001b[39m(fx)\n",
      "\u001b[36mCell\u001b[39m\u001b[36m \u001b[39m\u001b[32mIn[6]\u001b[39m\u001b[32m, line 14\u001b[39m, in \u001b[36mbootstrap_hurst\u001b[39m\u001b[34m(series, n_iter, sample_frac, n_jobs)\u001b[39m\n\u001b[32m     11\u001b[39m     \u001b[38;5;28;01mreturn\u001b[39;00m H\n\u001b[32m     13\u001b[39m \u001b[38;5;66;03m# Параллельное выполнение\u001b[39;00m\n\u001b[32m---> \u001b[39m\u001b[32m14\u001b[39m hurst_vals = \u001b[43mParallel\u001b[49m\u001b[43m(\u001b[49m\u001b[43mn_jobs\u001b[49m\u001b[43m=\u001b[49m\u001b[43mn_jobs\u001b[49m\u001b[43m)\u001b[49m\u001b[43m(\u001b[49m\n\u001b[32m     15\u001b[39m \u001b[43m    \u001b[49m\u001b[43mdelayed\u001b[49m\u001b[43m(\u001b[49m\u001b[43mone_bootstrap\u001b[49m\u001b[43m)\u001b[49m\u001b[43m(\u001b[49m\u001b[43m)\u001b[49m\u001b[43m \u001b[49m\u001b[38;5;28;43;01mfor\u001b[39;49;00m\u001b[43m \u001b[49m\u001b[43m_\u001b[49m\u001b[43m \u001b[49m\u001b[38;5;129;43;01min\u001b[39;49;00m\u001b[43m \u001b[49m\u001b[43mtqdm\u001b[49m\u001b[43m(\u001b[49m\u001b[38;5;28;43mrange\u001b[39;49m\u001b[43m(\u001b[49m\u001b[43mn_iter\u001b[49m\u001b[43m)\u001b[49m\u001b[43m,\u001b[49m\u001b[43m \u001b[49m\u001b[43mdesc\u001b[49m\u001b[43m=\u001b[49m\u001b[33;43m'\u001b[39;49m\u001b[33;43mBootstaping...\u001b[39;49m\u001b[33;43m'\u001b[39;49m\u001b[43m)\u001b[49m\n\u001b[32m     16\u001b[39m \u001b[43m\u001b[49m\u001b[43m)\u001b[49m\n\u001b[32m     18\u001b[39m \u001b[38;5;28;01mreturn\u001b[39;00m np.percentile(hurst_vals, [\u001b[32m2.5\u001b[39m, \u001b[32m97.5\u001b[39m]), np.mean(hurst_vals)\n",
      "\u001b[36mFile \u001b[39m\u001b[32m~/Library/Caches/pypoetry/virtualenvs/strategy-project-acofjSPn-py3.12/lib/python3.12/site-packages/joblib/parallel.py:2007\u001b[39m, in \u001b[36mParallel.__call__\u001b[39m\u001b[34m(self, iterable)\u001b[39m\n\u001b[32m   2001\u001b[39m \u001b[38;5;66;03m# The first item from the output is blank, but it makes the interpreter\u001b[39;00m\n\u001b[32m   2002\u001b[39m \u001b[38;5;66;03m# progress until it enters the Try/Except block of the generator and\u001b[39;00m\n\u001b[32m   2003\u001b[39m \u001b[38;5;66;03m# reaches the first `yield` statement. This starts the asynchronous\u001b[39;00m\n\u001b[32m   2004\u001b[39m \u001b[38;5;66;03m# dispatch of the tasks to the workers.\u001b[39;00m\n\u001b[32m   2005\u001b[39m \u001b[38;5;28mnext\u001b[39m(output)\n\u001b[32m-> \u001b[39m\u001b[32m2007\u001b[39m \u001b[38;5;28;01mreturn\u001b[39;00m output \u001b[38;5;28;01mif\u001b[39;00m \u001b[38;5;28mself\u001b[39m.return_generator \u001b[38;5;28;01melse\u001b[39;00m \u001b[38;5;28;43mlist\u001b[39;49m\u001b[43m(\u001b[49m\u001b[43moutput\u001b[49m\u001b[43m)\u001b[49m\n",
      "\u001b[36mFile \u001b[39m\u001b[32m~/Library/Caches/pypoetry/virtualenvs/strategy-project-acofjSPn-py3.12/lib/python3.12/site-packages/joblib/parallel.py:1650\u001b[39m, in \u001b[36mParallel._get_outputs\u001b[39m\u001b[34m(self, iterator, pre_dispatch)\u001b[39m\n\u001b[32m   1647\u001b[39m     \u001b[38;5;28;01myield\u001b[39;00m\n\u001b[32m   1649\u001b[39m     \u001b[38;5;28;01mwith\u001b[39;00m \u001b[38;5;28mself\u001b[39m._backend.retrieval_context():\n\u001b[32m-> \u001b[39m\u001b[32m1650\u001b[39m         \u001b[38;5;28;01myield from\u001b[39;00m \u001b[38;5;28mself\u001b[39m._retrieve()\n\u001b[32m   1652\u001b[39m \u001b[38;5;28;01mexcept\u001b[39;00m \u001b[38;5;167;01mGeneratorExit\u001b[39;00m:\n\u001b[32m   1653\u001b[39m     \u001b[38;5;66;03m# The generator has been garbage collected before being fully\u001b[39;00m\n\u001b[32m   1654\u001b[39m     \u001b[38;5;66;03m# consumed. This aborts the remaining tasks if possible and warn\u001b[39;00m\n\u001b[32m   1655\u001b[39m     \u001b[38;5;66;03m# the user if necessary.\u001b[39;00m\n\u001b[32m   1656\u001b[39m     \u001b[38;5;28mself\u001b[39m._exception = \u001b[38;5;28;01mTrue\u001b[39;00m\n",
      "\u001b[36mFile \u001b[39m\u001b[32m~/Library/Caches/pypoetry/virtualenvs/strategy-project-acofjSPn-py3.12/lib/python3.12/site-packages/joblib/parallel.py:1762\u001b[39m, in \u001b[36mParallel._retrieve\u001b[39m\u001b[34m(self)\u001b[39m\n\u001b[32m   1757\u001b[39m \u001b[38;5;66;03m# If the next job is not ready for retrieval yet, we just wait for\u001b[39;00m\n\u001b[32m   1758\u001b[39m \u001b[38;5;66;03m# async callbacks to progress.\u001b[39;00m\n\u001b[32m   1759\u001b[39m \u001b[38;5;28;01mif\u001b[39;00m ((\u001b[38;5;28mlen\u001b[39m(\u001b[38;5;28mself\u001b[39m._jobs) == \u001b[32m0\u001b[39m) \u001b[38;5;129;01mor\u001b[39;00m\n\u001b[32m   1760\u001b[39m     (\u001b[38;5;28mself\u001b[39m._jobs[\u001b[32m0\u001b[39m].get_status(\n\u001b[32m   1761\u001b[39m         timeout=\u001b[38;5;28mself\u001b[39m.timeout) == TASK_PENDING)):\n\u001b[32m-> \u001b[39m\u001b[32m1762\u001b[39m     \u001b[43mtime\u001b[49m\u001b[43m.\u001b[49m\u001b[43msleep\u001b[49m\u001b[43m(\u001b[49m\u001b[32;43m0.01\u001b[39;49m\u001b[43m)\u001b[49m\n\u001b[32m   1763\u001b[39m     \u001b[38;5;28;01mcontinue\u001b[39;00m\n\u001b[32m   1765\u001b[39m \u001b[38;5;66;03m# We need to be careful: the job list can be filling up as\u001b[39;00m\n\u001b[32m   1766\u001b[39m \u001b[38;5;66;03m# we empty it and Python list are not thread-safe by\u001b[39;00m\n\u001b[32m   1767\u001b[39m \u001b[38;5;66;03m# default hence the use of the lock\u001b[39;00m\n",
      "\u001b[31mKeyboardInterrupt\u001b[39m: "
     ]
    }
   ],
   "source": [
    "for fx in fx_list:\n",
    "    cur_data = pd.read_parquet(DATA_DIR+f'{fx}_data.parquet')\n",
    "    cur_data['mid_price'] = (cur_data['bid'] + cur_data['offer'])/2\n",
    "    cur_data = cur_data[~cur_data.mid_price.isna()].sort_values(by='timestamp')\n",
    "    ci, mean_hurst = bootstrap_hurst(cur_data['mid_price'].dropna().values)\n",
    "\n",
    "    hurst_df_ci.append([fx, mean_hurst, ci[0], ci[1]])\n",
    "    print(fx)\n"
   ]
  },
  {
   "cell_type": "code",
   "execution_count": 17,
   "metadata": {},
   "outputs": [],
   "source": [
    "hurst_df_ci = pd.DataFrame(hurst_df_ci, columns=['data', 'hurst_value', 'ci_low', 'ci_high'])"
   ]
  },
  {
   "cell_type": "code",
   "execution_count": 18,
   "metadata": {},
   "outputs": [
    {
     "name": "stderr",
     "output_type": "stream",
     "text": [
      "Bootstaping...:  87%|████████▋ | 87/100 [05:42<00:51,  3.94s/it]\n",
      "Bootstaping...:  47%|████▋     | 47/100 [02:04<02:20,  2.66s/it]\n"
     ]
    },
    {
     "data": {
      "application/vnd.plotly.v1+json": {
       "config": {
        "plotlyServerURL": "https://plot.ly"
       },
       "data": [
        {
         "error_x": {
          "array": {
           "bdata": "APIm7pJ2Uj8AihKKRz5oP4DlBW5762I/",
           "dtype": "f8"
          },
          "arrayminus": {
           "bdata": "ABpkuwh+Zj8AMNvxRQ1vP4CzhsutpmE/",
           "dtype": "f8"
          }
         },
         "hovertemplate": "hurst_value=%{x}<br>data=%{y}<extra></extra>",
         "legendgroup": "",
         "marker": {
          "color": "#636efa",
          "pattern": {
           "shape": ""
          }
         },
         "name": "",
         "orientation": "h",
         "showlegend": false,
         "textposition": "auto",
         "type": "bar",
         "x": {
          "bdata": "j3Gw7LOG3j93vPnL/8XfPzZnz8GAr+A/",
          "dtype": "f8"
         },
         "xaxis": "x",
         "y": [
          "EURCZK",
          "AUDUSD",
          "feature"
         ],
         "yaxis": "y"
        }
       ],
       "layout": {
        "barmode": "relative",
        "legend": {
         "tracegroupgap": 0
        },
        "template": {
         "data": {
          "bar": [
           {
            "error_x": {
             "color": "#2a3f5f"
            },
            "error_y": {
             "color": "#2a3f5f"
            },
            "marker": {
             "line": {
              "color": "#E5ECF6",
              "width": 0.5
             },
             "pattern": {
              "fillmode": "overlay",
              "size": 10,
              "solidity": 0.2
             }
            },
            "type": "bar"
           }
          ],
          "barpolar": [
           {
            "marker": {
             "line": {
              "color": "#E5ECF6",
              "width": 0.5
             },
             "pattern": {
              "fillmode": "overlay",
              "size": 10,
              "solidity": 0.2
             }
            },
            "type": "barpolar"
           }
          ],
          "carpet": [
           {
            "aaxis": {
             "endlinecolor": "#2a3f5f",
             "gridcolor": "white",
             "linecolor": "white",
             "minorgridcolor": "white",
             "startlinecolor": "#2a3f5f"
            },
            "baxis": {
             "endlinecolor": "#2a3f5f",
             "gridcolor": "white",
             "linecolor": "white",
             "minorgridcolor": "white",
             "startlinecolor": "#2a3f5f"
            },
            "type": "carpet"
           }
          ],
          "choropleth": [
           {
            "colorbar": {
             "outlinewidth": 0,
             "ticks": ""
            },
            "type": "choropleth"
           }
          ],
          "contour": [
           {
            "colorbar": {
             "outlinewidth": 0,
             "ticks": ""
            },
            "colorscale": [
             [
              0,
              "#0d0887"
             ],
             [
              0.1111111111111111,
              "#46039f"
             ],
             [
              0.2222222222222222,
              "#7201a8"
             ],
             [
              0.3333333333333333,
              "#9c179e"
             ],
             [
              0.4444444444444444,
              "#bd3786"
             ],
             [
              0.5555555555555556,
              "#d8576b"
             ],
             [
              0.6666666666666666,
              "#ed7953"
             ],
             [
              0.7777777777777778,
              "#fb9f3a"
             ],
             [
              0.8888888888888888,
              "#fdca26"
             ],
             [
              1,
              "#f0f921"
             ]
            ],
            "type": "contour"
           }
          ],
          "contourcarpet": [
           {
            "colorbar": {
             "outlinewidth": 0,
             "ticks": ""
            },
            "type": "contourcarpet"
           }
          ],
          "heatmap": [
           {
            "colorbar": {
             "outlinewidth": 0,
             "ticks": ""
            },
            "colorscale": [
             [
              0,
              "#0d0887"
             ],
             [
              0.1111111111111111,
              "#46039f"
             ],
             [
              0.2222222222222222,
              "#7201a8"
             ],
             [
              0.3333333333333333,
              "#9c179e"
             ],
             [
              0.4444444444444444,
              "#bd3786"
             ],
             [
              0.5555555555555556,
              "#d8576b"
             ],
             [
              0.6666666666666666,
              "#ed7953"
             ],
             [
              0.7777777777777778,
              "#fb9f3a"
             ],
             [
              0.8888888888888888,
              "#fdca26"
             ],
             [
              1,
              "#f0f921"
             ]
            ],
            "type": "heatmap"
           }
          ],
          "histogram": [
           {
            "marker": {
             "pattern": {
              "fillmode": "overlay",
              "size": 10,
              "solidity": 0.2
             }
            },
            "type": "histogram"
           }
          ],
          "histogram2d": [
           {
            "colorbar": {
             "outlinewidth": 0,
             "ticks": ""
            },
            "colorscale": [
             [
              0,
              "#0d0887"
             ],
             [
              0.1111111111111111,
              "#46039f"
             ],
             [
              0.2222222222222222,
              "#7201a8"
             ],
             [
              0.3333333333333333,
              "#9c179e"
             ],
             [
              0.4444444444444444,
              "#bd3786"
             ],
             [
              0.5555555555555556,
              "#d8576b"
             ],
             [
              0.6666666666666666,
              "#ed7953"
             ],
             [
              0.7777777777777778,
              "#fb9f3a"
             ],
             [
              0.8888888888888888,
              "#fdca26"
             ],
             [
              1,
              "#f0f921"
             ]
            ],
            "type": "histogram2d"
           }
          ],
          "histogram2dcontour": [
           {
            "colorbar": {
             "outlinewidth": 0,
             "ticks": ""
            },
            "colorscale": [
             [
              0,
              "#0d0887"
             ],
             [
              0.1111111111111111,
              "#46039f"
             ],
             [
              0.2222222222222222,
              "#7201a8"
             ],
             [
              0.3333333333333333,
              "#9c179e"
             ],
             [
              0.4444444444444444,
              "#bd3786"
             ],
             [
              0.5555555555555556,
              "#d8576b"
             ],
             [
              0.6666666666666666,
              "#ed7953"
             ],
             [
              0.7777777777777778,
              "#fb9f3a"
             ],
             [
              0.8888888888888888,
              "#fdca26"
             ],
             [
              1,
              "#f0f921"
             ]
            ],
            "type": "histogram2dcontour"
           }
          ],
          "mesh3d": [
           {
            "colorbar": {
             "outlinewidth": 0,
             "ticks": ""
            },
            "type": "mesh3d"
           }
          ],
          "parcoords": [
           {
            "line": {
             "colorbar": {
              "outlinewidth": 0,
              "ticks": ""
             }
            },
            "type": "parcoords"
           }
          ],
          "pie": [
           {
            "automargin": true,
            "type": "pie"
           }
          ],
          "scatter": [
           {
            "fillpattern": {
             "fillmode": "overlay",
             "size": 10,
             "solidity": 0.2
            },
            "type": "scatter"
           }
          ],
          "scatter3d": [
           {
            "line": {
             "colorbar": {
              "outlinewidth": 0,
              "ticks": ""
             }
            },
            "marker": {
             "colorbar": {
              "outlinewidth": 0,
              "ticks": ""
             }
            },
            "type": "scatter3d"
           }
          ],
          "scattercarpet": [
           {
            "marker": {
             "colorbar": {
              "outlinewidth": 0,
              "ticks": ""
             }
            },
            "type": "scattercarpet"
           }
          ],
          "scattergeo": [
           {
            "marker": {
             "colorbar": {
              "outlinewidth": 0,
              "ticks": ""
             }
            },
            "type": "scattergeo"
           }
          ],
          "scattergl": [
           {
            "marker": {
             "colorbar": {
              "outlinewidth": 0,
              "ticks": ""
             }
            },
            "type": "scattergl"
           }
          ],
          "scattermap": [
           {
            "marker": {
             "colorbar": {
              "outlinewidth": 0,
              "ticks": ""
             }
            },
            "type": "scattermap"
           }
          ],
          "scattermapbox": [
           {
            "marker": {
             "colorbar": {
              "outlinewidth": 0,
              "ticks": ""
             }
            },
            "type": "scattermapbox"
           }
          ],
          "scatterpolar": [
           {
            "marker": {
             "colorbar": {
              "outlinewidth": 0,
              "ticks": ""
             }
            },
            "type": "scatterpolar"
           }
          ],
          "scatterpolargl": [
           {
            "marker": {
             "colorbar": {
              "outlinewidth": 0,
              "ticks": ""
             }
            },
            "type": "scatterpolargl"
           }
          ],
          "scatterternary": [
           {
            "marker": {
             "colorbar": {
              "outlinewidth": 0,
              "ticks": ""
             }
            },
            "type": "scatterternary"
           }
          ],
          "surface": [
           {
            "colorbar": {
             "outlinewidth": 0,
             "ticks": ""
            },
            "colorscale": [
             [
              0,
              "#0d0887"
             ],
             [
              0.1111111111111111,
              "#46039f"
             ],
             [
              0.2222222222222222,
              "#7201a8"
             ],
             [
              0.3333333333333333,
              "#9c179e"
             ],
             [
              0.4444444444444444,
              "#bd3786"
             ],
             [
              0.5555555555555556,
              "#d8576b"
             ],
             [
              0.6666666666666666,
              "#ed7953"
             ],
             [
              0.7777777777777778,
              "#fb9f3a"
             ],
             [
              0.8888888888888888,
              "#fdca26"
             ],
             [
              1,
              "#f0f921"
             ]
            ],
            "type": "surface"
           }
          ],
          "table": [
           {
            "cells": {
             "fill": {
              "color": "#EBF0F8"
             },
             "line": {
              "color": "white"
             }
            },
            "header": {
             "fill": {
              "color": "#C8D4E3"
             },
             "line": {
              "color": "white"
             }
            },
            "type": "table"
           }
          ]
         },
         "layout": {
          "annotationdefaults": {
           "arrowcolor": "#2a3f5f",
           "arrowhead": 0,
           "arrowwidth": 1
          },
          "autotypenumbers": "strict",
          "coloraxis": {
           "colorbar": {
            "outlinewidth": 0,
            "ticks": ""
           }
          },
          "colorscale": {
           "diverging": [
            [
             0,
             "#8e0152"
            ],
            [
             0.1,
             "#c51b7d"
            ],
            [
             0.2,
             "#de77ae"
            ],
            [
             0.3,
             "#f1b6da"
            ],
            [
             0.4,
             "#fde0ef"
            ],
            [
             0.5,
             "#f7f7f7"
            ],
            [
             0.6,
             "#e6f5d0"
            ],
            [
             0.7,
             "#b8e186"
            ],
            [
             0.8,
             "#7fbc41"
            ],
            [
             0.9,
             "#4d9221"
            ],
            [
             1,
             "#276419"
            ]
           ],
           "sequential": [
            [
             0,
             "#0d0887"
            ],
            [
             0.1111111111111111,
             "#46039f"
            ],
            [
             0.2222222222222222,
             "#7201a8"
            ],
            [
             0.3333333333333333,
             "#9c179e"
            ],
            [
             0.4444444444444444,
             "#bd3786"
            ],
            [
             0.5555555555555556,
             "#d8576b"
            ],
            [
             0.6666666666666666,
             "#ed7953"
            ],
            [
             0.7777777777777778,
             "#fb9f3a"
            ],
            [
             0.8888888888888888,
             "#fdca26"
            ],
            [
             1,
             "#f0f921"
            ]
           ],
           "sequentialminus": [
            [
             0,
             "#0d0887"
            ],
            [
             0.1111111111111111,
             "#46039f"
            ],
            [
             0.2222222222222222,
             "#7201a8"
            ],
            [
             0.3333333333333333,
             "#9c179e"
            ],
            [
             0.4444444444444444,
             "#bd3786"
            ],
            [
             0.5555555555555556,
             "#d8576b"
            ],
            [
             0.6666666666666666,
             "#ed7953"
            ],
            [
             0.7777777777777778,
             "#fb9f3a"
            ],
            [
             0.8888888888888888,
             "#fdca26"
            ],
            [
             1,
             "#f0f921"
            ]
           ]
          },
          "colorway": [
           "#636efa",
           "#EF553B",
           "#00cc96",
           "#ab63fa",
           "#FFA15A",
           "#19d3f3",
           "#FF6692",
           "#B6E880",
           "#FF97FF",
           "#FECB52"
          ],
          "font": {
           "color": "#2a3f5f"
          },
          "geo": {
           "bgcolor": "white",
           "lakecolor": "white",
           "landcolor": "#E5ECF6",
           "showlakes": true,
           "showland": true,
           "subunitcolor": "white"
          },
          "hoverlabel": {
           "align": "left"
          },
          "hovermode": "closest",
          "mapbox": {
           "style": "light"
          },
          "paper_bgcolor": "white",
          "plot_bgcolor": "#E5ECF6",
          "polar": {
           "angularaxis": {
            "gridcolor": "white",
            "linecolor": "white",
            "ticks": ""
           },
           "bgcolor": "#E5ECF6",
           "radialaxis": {
            "gridcolor": "white",
            "linecolor": "white",
            "ticks": ""
           }
          },
          "scene": {
           "xaxis": {
            "backgroundcolor": "#E5ECF6",
            "gridcolor": "white",
            "gridwidth": 2,
            "linecolor": "white",
            "showbackground": true,
            "ticks": "",
            "zerolinecolor": "white"
           },
           "yaxis": {
            "backgroundcolor": "#E5ECF6",
            "gridcolor": "white",
            "gridwidth": 2,
            "linecolor": "white",
            "showbackground": true,
            "ticks": "",
            "zerolinecolor": "white"
           },
           "zaxis": {
            "backgroundcolor": "#E5ECF6",
            "gridcolor": "white",
            "gridwidth": 2,
            "linecolor": "white",
            "showbackground": true,
            "ticks": "",
            "zerolinecolor": "white"
           }
          },
          "shapedefaults": {
           "line": {
            "color": "#2a3f5f"
           }
          },
          "ternary": {
           "aaxis": {
            "gridcolor": "white",
            "linecolor": "white",
            "ticks": ""
           },
           "baxis": {
            "gridcolor": "white",
            "linecolor": "white",
            "ticks": ""
           },
           "bgcolor": "#E5ECF6",
           "caxis": {
            "gridcolor": "white",
            "linecolor": "white",
            "ticks": ""
           }
          },
          "title": {
           "x": 0.05
          },
          "xaxis": {
           "automargin": true,
           "gridcolor": "white",
           "linecolor": "white",
           "ticks": "",
           "title": {
            "standoff": 15
           },
           "zerolinecolor": "white",
           "zerolinewidth": 2
          },
          "yaxis": {
           "automargin": true,
           "gridcolor": "white",
           "linecolor": "white",
           "ticks": "",
           "title": {
            "standoff": 15
           },
           "zerolinecolor": "white",
           "zerolinewidth": 2
          }
         }
        },
        "title": {
         "text": "Hurst Exponent with 95% Confidence Intervals"
        },
        "xaxis": {
         "anchor": "y",
         "domain": [
          0,
          1
         ],
         "title": {
          "text": "hurst_value"
         }
        },
        "yaxis": {
         "anchor": "x",
         "domain": [
          0,
          1
         ],
         "title": {
          "text": "data"
         }
        }
       }
      }
     },
     "metadata": {},
     "output_type": "display_data"
    }
   ],
   "source": [
    "px.bar(\n",
    "    hurst_df_ci.sort_values(by='hurst_value'),\n",
    "    x='hurst_value',\n",
    "    y='data',\n",
    "    error_x=hurst_df_ci['ci_high'] - hurst_df_ci['hurst_value'],\n",
    "    error_x_minus=hurst_df_ci['hurst_value'] - hurst_df_ci['ci_low'],\n",
    "    title='Hurst Exponent with 95% Confidence Intervals'\n",
    ")"
   ]
  },
  {
   "cell_type": "code",
   "execution_count": null,
   "metadata": {},
   "outputs": [],
   "source": []
  },
  {
   "cell_type": "code",
   "execution_count": null,
   "metadata": {},
   "outputs": [],
   "source": []
  },
  {
   "cell_type": "code",
   "execution_count": null,
   "metadata": {},
   "outputs": [],
   "source": []
  },
  {
   "cell_type": "code",
   "execution_count": 7,
   "metadata": {},
   "outputs": [],
   "source": [
    "import numpy as np\n",
    "import pandas as pd\n",
    "import matplotlib.pyplot as plt\n",
    "\n",
    "def calculate_variance_ratio(returns, q_max=20):\n",
    "    \"\"\"\n",
    "    Расчет VR(q) для лагов от 2 до q_max.\n",
    "    :param returns: np.array — лог-доходности\n",
    "    :param q_max: максимальный лаг q\n",
    "    :return: DataFrame c колонками q и VR(q)\n",
    "    \"\"\"\n",
    "    vr_values = []\n",
    "    for q in range(2, q_max + 1):\n",
    "        weighted_sum = 0\n",
    "        for k in range(1, q):\n",
    "            weight = 1 - k / q\n",
    "            corr = np.corrcoef(returns[:-k], returns[k:])[0, 1]\n",
    "            weighted_sum += weight * corr\n",
    "        vr_q = 1 + 2 * weighted_sum\n",
    "        vr_values.append((q, vr_q))\n",
    "    return pd.DataFrame(vr_values, columns=[\"q\", \"VR\"])"
   ]
  },
  {
   "cell_type": "code",
   "execution_count": 27,
   "metadata": {},
   "outputs": [],
   "source": [
    "def plot_vr_for_assets(asset_dict, q_max=20):\n",
    "    \"\"\"\n",
    "    Построение VR-графиков для нескольких активов.\n",
    "    :param asset_dict: словарь вида {'ES': prices_ES, 'EURUSD': prices_eur, ...}\n",
    "    \"\"\"\n",
    "    plt.figure(figsize=(12, 6))\n",
    "    for name, price_series in tqdm(asset_dict.items()):\n",
    "        returns = np.diff(np.log(price_series))\n",
    "        vr_df = calculate_variance_ratio(returns, q_max=q_max)\n",
    "        plt.plot(vr_df['q'], vr_df['VR'], label=name)\n",
    "\n",
    "    plt.axhline(1.0, color='gray', linestyle='--', label='Random Walk')\n",
    "    plt.xlabel(\"Lag q\")\n",
    "    plt.ylabel(\"Variance Ratio\")\n",
    "    plt.title(\"Variance Ratio vs Lag q\")\n",
    "    plt.legend()\n",
    "    plt.grid(True)\n",
    "    plt.tight_layout()\n",
    "    plt.show()\n"
   ]
  },
  {
   "cell_type": "code",
   "execution_count": 28,
   "metadata": {},
   "outputs": [
    {
     "name": "stderr",
     "output_type": "stream",
     "text": [
      "100%|██████████| 5/5 [00:00<00:00,  8.11it/s]\n"
     ]
    }
   ],
   "source": [
    "# Пример: загрузка фьючерса ES и нескольких FX-пар\n",
    " # примеры Major + EM\n",
    "\n",
    "asset_prices = {}\n",
    "for fx in tqdm(fx_list[:5]):\n",
    "    df = pd.read_parquet(DATA_DIR + f'{fx}_data.parquet')\n",
    "    df['mid_price'] = (df['bid'] + df['offer']) / 2\n",
    "    df = df.sort_values(by='timestamp')\n",
    "    asset_prices[fx] = df['mid_price'].dropna().values\n"
   ]
  },
  {
   "cell_type": "code",
   "execution_count": 29,
   "metadata": {},
   "outputs": [
    {
     "name": "stderr",
     "output_type": "stream",
     "text": [
      "100%|██████████| 5/5 [02:32<00:00, 30.59s/it]\n"
     ]
    },
    {
     "data": {
      "image/png": "[encoded data removed]",
      "text/plain": [
       "<Figure size 1200x600 with 1 Axes>"
      ]
     },
     "metadata": {},
     "output_type": "display_data"
    }
   ],
   "source": [
    "# Построение VR-графика\n",
    "plot_vr_for_assets(asset_prices, q_max=100)"
   ]
  },
  {
   "cell_type": "code",
   "execution_count": 8,
   "metadata": {},
   "outputs": [],
   "source": [
    "import pandas as pd\n",
    "import numpy as np\n",
    "from scipy.stats import pearsonr\n",
    "from tqdm import tqdm\n",
    "\n",
    "def compute_returns(prices, interval):\n",
    "    return np.log(prices[interval:] / prices[:-interval])\n",
    "\n",
    "def correlation_table(prices, lookbacks=[5, 10, 15, 30], holds=[1, 5, 10]):\n",
    "    \"\"\"\n",
    "    Построение таблицы корреляций между доходностью Lookback и Hold периодов\n",
    "    :param prices: массив цен (с равномерным интервалом, например, 1 минута)\n",
    "    :param lookbacks: список lookback периодов в минутах\n",
    "    :param holds: список hold периодов в минутах\n",
    "    :return: DataFrame с колонками: LookBack, Hold, Correlation, P-value, Score\n",
    "    \"\"\"\n",
    "    results = []\n",
    "    prices = np.array(prices)\n",
    "\n",
    "    for lb in tqdm(lookbacks):\n",
    "        for h in holds:\n",
    "            # Считаем доходность за lookback и hold, без пересечений\n",
    "            step = lb + h\n",
    "            n = (len(prices) - step)\n",
    "\n",
    "            if n <= 0:\n",
    "                continue\n",
    "\n",
    "            lookback_returns = np.log(prices[lb:lb + n] / prices[:n])\n",
    "            hold_returns = np.log(prices[lb + h:lb + h + n] / prices[lb:lb + n])\n",
    "\n",
    "            # Проверим на NaN и рассчитаем корреляцию\n",
    "            mask = ~np.isnan(lookback_returns) & ~np.isnan(hold_returns)\n",
    "            if np.sum(mask) < 10:\n",
    "                continue\n",
    "\n",
    "            corr, pval = pearsonr(lookback_returns[mask], hold_returns[mask])\n",
    "            score = abs(corr) / pval if pval > 0 else np.nan\n",
    "\n",
    "            results.append([lb, h, corr, pval, score])\n",
    "\n",
    "    return pd.DataFrame(results, columns=['LookBack', 'Hold', 'Correlation', 'P-value', 'Score'])\n"
   ]
  },
  {
   "cell_type": "code",
   "execution_count": 9,
   "metadata": {},
   "outputs": [
    {
     "name": "stderr",
     "output_type": "stream",
     "text": [
      "100%|██████████| 56/56 [01:17<00:00,  1.38s/it]\n"
     ]
    },
    {
     "data": {
      "text/html": [
       "<div>\n",
       "<style scoped>\n",
       "    .dataframe tbody tr th:only-of-type {\n",
       "        vertical-align: middle;\n",
       "    }\n",
       "\n",
       "    .dataframe tbody tr th {\n",
       "        vertical-align: top;\n",
       "    }\n",
       "\n",
       "    .dataframe thead th {\n",
       "        text-align: right;\n",
       "    }\n",
       "</style>\n",
       "<table border=\"1\" class=\"dataframe\">\n",
       "  <thead>\n",
       "    <tr style=\"text-align: right;\">\n",
       "      <th></th>\n",
       "      <th>LookBack</th>\n",
       "      <th>Hold</th>\n",
       "      <th>Correlation</th>\n",
       "      <th>P-value</th>\n",
       "      <th>Score</th>\n",
       "    </tr>\n",
       "  </thead>\n",
       "  <tbody>\n",
       "    <tr>\n",
       "      <th>0</th>\n",
       "      <td>5</td>\n",
       "      <td>5</td>\n",
       "      <td>-0.278666</td>\n",
       "      <td>0.0</td>\n",
       "      <td>NaN</td>\n",
       "    </tr>\n",
       "    <tr>\n",
       "      <th>1</th>\n",
       "      <td>5</td>\n",
       "      <td>6</td>\n",
       "      <td>-0.273823</td>\n",
       "      <td>0.0</td>\n",
       "      <td>NaN</td>\n",
       "    </tr>\n",
       "    <tr>\n",
       "      <th>2</th>\n",
       "      <td>5</td>\n",
       "      <td>7</td>\n",
       "      <td>-0.258612</td>\n",
       "      <td>0.0</td>\n",
       "      <td>NaN</td>\n",
       "    </tr>\n",
       "    <tr>\n",
       "      <th>3</th>\n",
       "      <td>5</td>\n",
       "      <td>8</td>\n",
       "      <td>-0.248055</td>\n",
       "      <td>0.0</td>\n",
       "      <td>NaN</td>\n",
       "    </tr>\n",
       "    <tr>\n",
       "      <th>4</th>\n",
       "      <td>5</td>\n",
       "      <td>9</td>\n",
       "      <td>-0.239856</td>\n",
       "      <td>0.0</td>\n",
       "      <td>NaN</td>\n",
       "    </tr>\n",
       "    <tr>\n",
       "      <th>5</th>\n",
       "      <td>5</td>\n",
       "      <td>10</td>\n",
       "      <td>-0.238942</td>\n",
       "      <td>0.0</td>\n",
       "      <td>NaN</td>\n",
       "    </tr>\n",
       "    <tr>\n",
       "      <th>6</th>\n",
       "      <td>5</td>\n",
       "      <td>11</td>\n",
       "      <td>-0.238079</td>\n",
       "      <td>0.0</td>\n",
       "      <td>NaN</td>\n",
       "    </tr>\n",
       "    <tr>\n",
       "      <th>7</th>\n",
       "      <td>5</td>\n",
       "      <td>12</td>\n",
       "      <td>-0.237091</td>\n",
       "      <td>0.0</td>\n",
       "      <td>NaN</td>\n",
       "    </tr>\n",
       "    <tr>\n",
       "      <th>8</th>\n",
       "      <td>5</td>\n",
       "      <td>13</td>\n",
       "      <td>-0.238712</td>\n",
       "      <td>0.0</td>\n",
       "      <td>NaN</td>\n",
       "    </tr>\n",
       "    <tr>\n",
       "      <th>9</th>\n",
       "      <td>5</td>\n",
       "      <td>14</td>\n",
       "      <td>-0.236730</td>\n",
       "      <td>0.0</td>\n",
       "      <td>NaN</td>\n",
       "    </tr>\n",
       "  </tbody>\n",
       "</table>\n",
       "</div>"
      ],
      "text/plain": [
       "   LookBack  Hold  Correlation  P-value  Score\n",
       "0         5     5    -0.278666      0.0    NaN\n",
       "1         5     6    -0.273823      0.0    NaN\n",
       "2         5     7    -0.258612      0.0    NaN\n",
       "3         5     8    -0.248055      0.0    NaN\n",
       "4         5     9    -0.239856      0.0    NaN\n",
       "5         5    10    -0.238942      0.0    NaN\n",
       "6         5    11    -0.238079      0.0    NaN\n",
       "7         5    12    -0.237091      0.0    NaN\n",
       "8         5    13    -0.238712      0.0    NaN\n",
       "9         5    14    -0.236730      0.0    NaN"
      ]
     },
     "execution_count": 9,
     "metadata": {},
     "output_type": "execute_result"
    }
   ],
   "source": [
    "df = pd.read_parquet(DATA_DIR + 'EURNOK_data.parquet')\n",
    "df['mid_price'] = (df['bid'] + df['offer']) / 2\n",
    "df = df.sort_values('timestamp')\n",
    "\n",
    "returns_table = correlation_table(df['mid_price'].dropna().values, lookbacks=range(5,61,1), holds=range(5,61,1))\n",
    "\n",
    "# Смотрим топ-10 пар по метрике \"выгодности\"\n",
    "returns_table.sort_values('Score', ascending=False).head(10)\n"
   ]
  },
  {
   "cell_type": "code",
   "execution_count": 10,
   "metadata": {},
   "outputs": [],
   "source": [
    "returns_table['Correlation_abs'] = returns_table['Correlation'].abs()"
   ]
  },
  {
   "cell_type": "code",
   "execution_count": 11,
   "metadata": {},
   "outputs": [
    {
     "data": {
      "application/vnd.plotly.v1+json": {
       "config": {
        "plotlyServerURL": "https://plot.ly"
       },
       "data": [
        {
         "hovertemplate": "LookBack=%{x}<br>Hold=%{y}<br>Correlation_abs=%{marker.size}<br>P-value=%{marker.color}<extra></extra>",
         "legendgroup": "",
         "marker": {
          "color": {
           "bdata": "AAAAAAAAAAAAAAAAAAAAAAAAAAAAAAAAAAAAAAAAAAAAAAAAAAAAAAAAAAAAAAAAAAAAAAAAAAAAAAAAAAAAAAAAAAAAAAAAAAAAAAAAAAAAAAAAAAAAAAAAAAAAAAAAAAAAAAAAAAAAAAAAAAAAAAAAAAAAAAAAAAAAAAAAAAAAAAAAAAAAAAAAAAAAAAAAAAAAAAAAAAAAAAAAAAAAAAAAAAAAAAAAAAAAAAAAAAAAAAAAAAAAAAAAAAAAAAAAAAAAAAAAAAAAAAAAAAAAAAAAAAAAAAAAAAAAAAAAAAAAAAAAAAAAAAAAAAAAAAAAAAAAAAAAAAAAAAAAAAAAAAAAAAAAAAAAAAAAAAAAAAAAAAAAAAAAAAAAAAAAAAAAAAAAAAAAAAAAAAAAAAAAAAAAAAAAAAAAAAAAAAAAAAAAAAAAAAAAAAAAAAAAAAAAAAAAAAAAAAAAAAAAAAAAAAAAAAAAAAAAAAAAAAAAAAAAAAAAAAAAAAAAAAAAAAAAAAAAAAAAAAAAAAAAAAAAAAAAAAAAAAAAAAAAAAAAAAAAAAAAAAAAAAAAAAAAAAAAAAAAAAAAAAAAAAAAAAAAAAAAAAAAAAAAAAAAAAAAAAAAAAAAAAAAAAAAAAAAAAAAAAAAAAAAAAAAAAAAAAAAAAAAAAAAAAAAAAAAAAAAAAAAAAAAAAAAAAAAAAAAAAAAAAAAAAAAAAAAAAAAAAAAAAAAAAAAAAAAAAAAAAAAAAAAAAAAAAAAAAAAAAAAAAAAAAAAAAAAAAAAAAAAAAAAAAAAAAAAAAAAAAAAAAAAAAAAAAAAAAAAAAAAAAAAAAAAAAAAAAAAAAAAAAAAAAAAAAAAAAAAAAAAAAAAAAAAAAAAAAAAAAAAAAAAAAAAAAAAAAAAAAAAAAAAAAAAAAAAAAAAAAAAAAAAAAAAAAAAAAAAAAAAAAAAAAAAAAAAAAAAAAAAAAAAAAAAAAAAAAAAAAAAAAAAAAAAAAAAAAAAAAAAAAAAAAAAAAAAAAAAAAAAAAAAAAAAAAAAAAAAAAAAAAAAAAAAAAAAAAAAAAAAAAAAAAAAAAAAAAAAAAAAAAAAAAAAAAAAAAAAAAAAAAAAAAAAAAAAAAAAAAAAAAAAAAAAAAAAAAAAAAAAAAAAAAAAAAAAAAAAAAAAAAAAAAAAAAAAAAAAAAAAAAAAAAAAAAAAAAAAAAAAAAAAAAAAAAAAAAAAAAAAAAAAAAAAAAAAAAAAAAAAAAAAAAAAAAAAAAAAAAAAAAAAAAAAAAAAAAAAAAAAAAAAAAAAAAAAAAAAAAAAAAAAAAAAAAAAAAAAAAAAAAAAAAAAAAAAAAAAAAAAAAAAAAAAAAAAAAAAAAAAAAAAAAAAAAAAAAAAAAAAAAAAAAAAAAAAAAAAAAAAAAAAAAAAAAAAAAAAAAAAAAAAAAAAAAAAAAAAAAAAAAAAAAAAAAAAAAAAAAAAAAAAAAAAAAAAAAAAAAAAAAAAAAAAAAAAAAAAAAAAAAAAAAAAAAAAAAAAAAAAAAAAAAAAAAAAAAAAAAAAAAAAAAAAAAAAAAAAAAAAAAAAAAAAAAAAAAAAAAAAAAAAAAAAAAAAAAAAAAAAAAAAAAAAAAAAAAAAAAAAAAAAAAAAAAAAAAAAAAAAAAAAAAAAAAAAAAAAAAAAAAAAAAAAAAAAAAAAAAAAAAAAAAAAAAAAAAAAAAAAAAAAAAAAAAAAAAAAAAAAAAAAAAAAAAAAAAAAAAAAAAAAAAAAAAAAAAAAAAAAAAAAAAAAAAAAAAAAAAAAAAAAAAAAAAAAAAAAAAAAAAAAAAAAAAAAAAAAAAAAAAAAAAAAAAAAAAAAAAAAAAAAAAAAAAAAAAAAAAAAAAAAAAAAAAAAAAAAAAAAAAAAAAAAAAAAAAAAAAAAAAAAAAAAAAAAAAAAAAAAAAAAAAAAAAAAAAAAAAAAAAAAAAAAAAAAAAAAAAAAAAAAAAAAAAAAAAAAAAAAAAAAAAAAAAAAAAAAAAAAAAAAAAAAAAAAAAAAAAAAAAAAAAAAAAAAAAAAAAAAAAAAAAAAAAAAAAAAAAAAAAAAAAAAAAAAAAAAAAAAAAAAAAAAAAAAAAAAAAAAAAAAAAAAAAAAAAAAAAAAAAAAAAAAAAAAAAAAAAAAAAAAAAAAAAAAAAAAAAAAAAAAAAAAAAAAAAAAAAAAAAAAAAAAAAAAAAAAAAAAAAAAAAAAAAAAAAAAAAAAAAAAAAAAAAAAAAAAAAAAAAAAAAAAAAAAAAAAAAAAAAAAAAAAAAAAAAAAAAAAAAAAAAAAAAAAAAAAAAAAAAAAAAAAAAAAAAAAAAAAAAAAAAAAAAAAAAAAAAAAAAAAAAAAAAAAAAAAAAAAAAAAAAAAAAAAAAAAAAAAAAAAAAAAAAAAAAAAAAAAAAAAAAAAAAAAAAAAAAAAAAAAAAAAAAAAAAAAAAAAAAAAAAAAAAAAAAAAAAAAAAAAAAAAAAAAAAAAAAAAAAAAAAAAAAAAAAAAAAAAAAAAAAAAAAAAAAAAAAAAAAAAAAAAAAAAAAAAAAAAAAAAAAAAAAAAAAAAAAAAAAAAAAAAAAAAAAAAAAAAAAAAAAAAAAAAAAAAAAAAAAAAAAAAAAAAAAAAAAAAAAAAAAAAAAAAAAAAAAAAAAAAAAAAAAAAAAAAAAAAAAAAAAAAAAAAAAAAAAAAAAAAAAAAAAAAAAAAAAAAAAAAAAAAAAAAAAAAAAAAAAAAAAAAAAAAAAAAAAAAAAAAAAAAAAAAAAAAAAAAAAAAAAAAAAAAAAAAAAAAAAAAAAAAAAAAAAAAAAAAAAAAAAAAAAAAAAAAAAAAAAAAAAAAAAAAAAAAAAAAAAAAAAAAAAAAAAAAAAAAAAAAAAAAAAAAAAAAAAAAAAAAAAAAAAAAAAAAAAAAAAAAAAAAAAAAAAAAAAAAAAAAAAAAAAAAAAAAAAAAAAAAAAAAAAAAAAAAAAAAAAAAAAAAAAAAAAAAAAAAAAAAAAAAAAAAAAAAAAAAAAAAAAAAAAAAAAAAAAAAAAAAAAAAAAAAAAAAAAAAAAAAAAAAAAAAAAAAAAAAAAAAAAAAAAAAAAAAAAAAAAAAAAAAAAAAAAAAAAAAAAAAAAAAAAAAAAAAAAAAAAAAAAAAAAAAAAAAAAAAAAAAAAAAAAAAAAAAAAAAAAAAAAAAAAAAAAAAAAAAAAAAAAAAAAAAAAAAAAAAAAAAAAAAAAAAAAAAAAAAAAAAAAAAAAAAAAAAAAAAAAAAAAAAAAAAAAAAAAAAAAAAAAAAAAAAAAAAAAAAAAAAAAAAAAAAAAAAAAAAAAAAAAAAAAAAAAAAAAAAAAAAAAAAAAAAAAAAAAAAAAAAAAAAAAAAAAAAAAAAAAAAAAAAAAAAAAAAAAAAAAAAAAAAAAAAAAAAAAAAAAAAAAAAAAAAAAAAAAAAAAAAAAAAAAAAAAAAAAAAAAAAAAAAAAAAAAAAAAAAAAAAAAAAAAAAAAAAAAAAAAAAAAAAAAAAAAAAAAAAAAAAAAAAAAAAAAAAAAAAAAAAAAAAAAAAAAAAAAAAAAAAAAAAAAAAAAAAAAAAAAAAAAAAAAAAAAAAAAAAAAAAAAAAAAAAAAAAAAAAAAAAAAAAAAAAAAAAAAAAAAAAAAAAAAAAAAAAAAAAAAAAAAAAAAAAAAAAAAAAAAAAAAAAAAAAAAAAAAAAAAAAAAAAAAAAAAAAAAAAAAAAAAAAAAAAAAAAAAAAAAAAAAAAAAAAAAAAAAAAAAAAAAAAAAAAAAAAAAAAAAAAAAAAAAAAAAAAAAAAAAAAAAAAAAAAAAAAAAAAAAAAAAAAAAAAAAAAAAAAAAAAAAAAAAAAAAAAAAAAAAAAAAAAAAAAAAAAAAAAAAAAAAAAAAAAAAAAAAAAAAAAAAAAAAAAAAAAAAAAAAAAAAAAAAAAAAAAAAAAAAAAAAAAAAAAAAAAAAAAAAAAAAAAAAAAAAAAAAAAAAAAAAAAAAAAAAAAAAAAAAAAAAAAAAAAAAAAAAAAAAAAAAAAAAAAAAAAAAAAAAAAAAAAAAAAAAAAAAAAAAAAAAAAAAAAAAAAAAAAAAAAAAAAAAAAAAAAAAAAAAAAAAAAAAAAAAAAAAAAAAAAAAAAAAAAAAAAAAAAAAAAAAAAAAAAAAAAAAAAAAAAAAAAAAAAAAAAAAAAAAAAAAAAAAAAAAAAAAAAAAAAAAAAAAAAAAAAAAAAAAAAAAAAAAAAAAAAAAAAAAAAAAAAAAAAAAAAAAAAAAAAAAAAAAAAAAAAAAAAAAAAAAAAAAAAAAAAAAAAAAAAAAAAAAAAAAAAAAAAAAAAAAAAAAAAAAAAAAAAAAAAAAAAAAAAAAAAAAAAAAAAAAAAAAAAAAAAAAAAAAAAAAAAAAAAAAAAAAAAAAAAAAAAAAAAAAAAAAAAAAAAAAAAAAAAAAAAAAAAAAAAAAAAAAAAAAAAAAAAAAAAAAAAAAAAAAAAAAAAAAAAAAAAAAAAAAAAAAAAAAAAAAAAAAAAAAAAAAAAAAAAAAAAAAAAAAAAAAAAAAAAAAAAAAAAAAAAAAAAAAAAAAAAAAAAAAAAAAAAAAAAAAAAAAAAAAAAAAAAAAAAAAAAAAAAAAAAAAAAAAAAAAAAAAAAAAAAAAAAAAAAAAAAAAAAAAAAAAAAAAAAAAAAAAAAAAAAAAAAAAAAAAAAAAAAAAAAAAAAAAAAAAAAAAAAAAAAAAAAAAAAAAAAAAAAAAAAAAAAAAAAAAAAAAAAAAAAAAAAAAAAAAAAAAAAAAAAAAAAAAAAAAAAAAAAAAAAAAAAAAAAAAAAAAAAAAAAAAAAAAAAAAAAAAAAAAAAAAAAAAAAAAAAAAAAAAAAAAAAAAAAAAAAAAAAAAAAAAAAAAAAAAAAAAAAAAAAAAAAAAAAAAAAAAAAAAAAAAAAAAAAAAAAAAAAAAAAAAAAAAAAAAAAAAAAAAAAAAAAAAAAAAAAAAAAAAAAAAAAAAAAAAAAAAAAAAAAAAAAAAAAAAAAAAAAAAAAAAAAAAAAAAAAAAAAAAAAAAAAAAAAAAAAAAAAAAAAAAAAAAAAAAAAAAAAAAAAAAAAAAAAAAAAAAAAAAAAAAAAAAAAAAAAAAAAAAAAAAAAAAAAAAAAAAAAAAAAAAAAAAAAAAAAAAAAAAAAAAAAAAAAAAAAAAAAAAAAAAAAAAAAAAAAAAAAAAAAAAAAAAAAAAAAAAAAAAAAAAAAAAAAAAAAAAAAAAAAAAAAAAAAAAAAAAAAAAAAAAAAAAAAAAAAAAAAAAAAAAAAAAAAAAAAAAAAAAAAAAAAAAAAAAAAAAAAAAAAAAAAAAAAAAAAAAAAAAAAAAAAAAAAAAAAAAAAAAAAAAAAAAAAAAAAAAAAAAAAAAAAAAAAAAAAAAAAAAAAAAAAAAAAAAAAAAAAAAAAAAAAAAAAAAAAAAAAAAAAAAAAAAAAAAAAAAAAAAAAAAAAAAAAAAAAAAAAAAAAAAAAAAAAAAAAAAAAAAAAAAAAAAAAAAAAAAAAAAAAAAAAAAAAAAAAAAAAAAAAAAAAAAAAAAAAAAAAAAAAAAAAAAAAAAAAAAAAAAAAAAAAAAAAAAAAAAAAAAAAAAAAAAAAAAAAAAAAAAAAAAAAAAAAAAAAAAAAAAAAAAAAAAAAAAAAAAAAAAAAAAAAAAAAAAAAAAAAAAAAAAAAAAAAAAAAAAAAAAAAAAAAAAAAAAAAAAAAAAAAAAAAAAAAAAAAAAAAAAAAAAAAAAAAAAAAAAAAAAAAAAAAAAAAAAAAAAAAAAAAAAAAAAAAAAAAAAAAAAAAAAAAAAAAAAAAAAAAAAAAAAAAAAAAAAAAAAAAAAAAAAAAAAAAAAAAAAAAAAAAAAAAAAAAAAAAAAAAAAAAAAAAAAAAAAAAAAAAAAAAAAAAAAAAAAAAAAAAAAAAAAAAAAAAAAAAAAAAAAAAAAAAAAAAAAAAAAAAAAAAAAAAAAAAAAAAAAAAAAAAAAAAAAAAAAAAAAAAAAAAAAAAAAAAAAAAAAAAAAAAAAAAAAAAAAAAAAAAAAAAAAAAAAAAAAAAAAAAAAAAAAAAAAAAAAAAAAAAAAAAAAAAAAAAAAAAAAAAAAAAAAAAAAAAAAAAAAAAAAAAAAAAAAAAAAAAAAAAAAAAAAAAAAAAAAAAAAAAAAAAAAAAAAAAAAAAAAAAAAAAAAAAAAAAAAAAAAAAAAAAAAAAAAAAAAAAAAAAAAAAAAAAAAAAAAAAAAAAAAAAAAAAAAAAAAAAAAAAAAAAAAAAAAAAAAAAAAAAAAAAAAAAAAAAAAAAAAAAAAAAAAAAAAAAAAAAAAAAAAAAAAAAAAAAAAAAAAAAAAAAAAAAAAAAAAAAAAAAAAAAAAAAAAAAAAAAAAAAAAAAAAAAAAAAAAAAAAAAAAAAAAAAAAAAAAAAAAAAAAAAAAAAAAAAAAAAAAAAAAAAAAAAAAAAAAAAAAAAAAAAAAAAAAAAAAAAAAAAAAAAAAAAAAAAAAAAAAAAAAAAAAAAAAAAAAAAAAAAAAAAAAAAAAAAAAAAAAAAAAAAAAAAAAAAAAAAAAAAAAAAAAAAAAAAAAAAAAAAAAAAAAAAAAAAAAAAAAAAAAAAAAAAAAAAAAAAAAAAAAAAAAAAAAAAAAAAAAAAAAAAAAAAAAAAAAAAAAAAAAAAAAAAAAAAAAAAAAAAAAAAAAAAAAAAAAAAAAAAAAAAAAAAAAAAAAAAAAAAAAAAAAAAAAAAAAAAAAAAAAAAAAAAAAAAAAAAAAAAAAAAAAAAAAAAAAAAAAAAAAAAAAAAAAAAAAAAAAAAAAAAAAAAAAAAAAAAAAAAAAAAAAAAAAAAAAAAAAAAAAAAAAAAAAAAAAAAAAAAAAAAAAAAAAAAAAAAAAAAAAAAAAAAAAAAAAAAAAAAAAAAAAAAAAAAAAAAAAAAAAAAAAAAAAAAAAAAAAAAAAAAAAAAAAAAAAAAAAAAAAAAAAAAAAAAAAAAAAAAAAAAAAAAAAAAAAAAAAAAAAAAAAAAAAAAAAAAAAAAAAAAAAAAAAAAAAAAAAAAAAAAAAAAAAAAAAAAAAAAAAAAAAAAAAAAAAAAAAAAAAAAAAAAAAAAAAAAAAAAAAAAAAAAAAAAAAAAAAAAAAAAAAAAAAAAAAAAAAAAAAAAAAAAAAAAAAAAAAAAAAAAAAAAAAAAAAAAAAAAAAAAAAAAAAAAAAAAAAAAAAAAAAAAAAAAAAAAAAAAAAAAAAAAAAAAAAAAAAAAAAAAAAAAAAAAAAAAAAAAAAAAAAAAAAAAAAAAAAAAAAAAAAAAAAAAAAAAAAAAAAAAAAAAAAAAAAAAAAAAAAAAAAAAAAAAAAAAAAAAAAAAAAAAAAAAAAAAAAAAAAAAAAAAAAAAAAAAAAAAAAAAAAAAAAAAAAAAAAAAAAAAAAAAAAAAAAAAAAAAAAAAAAAAAAAAAAAAAAAAAAAAAAAAAAAAAAAAAAAAAAAAAAAAAAAAAAAAAAAAAAAAAAAAAAAAAAAAAAAAAAAAAAAAAAAAAAAAAAAAAAAAAAAAAAAAAAAAAAAAAAAAAAAAAAAAAAAAAAAAAAAAAAAAAAAAAAAAAAAAAAAAAAAAAAAAAAAAAAAAAAAAAAAAAAAAAAAAAAAAAAAAAAAAAAAAAAAAAAAAAAAAAAAAAAAAAAAAAAAAAAAAAAAAAAAAAAAAAAAAAAAAAAAAAAAAAAAAAAAAAAAAAAAAAAAAAAAAAAAAAAAAAAAAAAAAAAAAAAAAAAAAAAAAAAAAAAAAAAAAAAAAAAAAAAAAAAAAAAAAAAAAAAAAAAAAAAAAAAAAAAAAAAAAAAAAAAAAAAAAAAAAAAAAAAAAAAAAAAAAAAAAAAAAAAAAAAAAAAAAAAAAAAAAAAAAAAAAAAAAAAAAAAAAAAAAAAAAAAAAAAAAAAAAAAAAAAAAAAAAAAAAAAAAAAAAAAAAAAAAAAAAAAAAAAAAAAAAAAAAAAAAAAAAAAAAAAAAAAAAAAAAAAAAAAAAAAAAAAAAAAAAAAAAAAAAAAAAAAAAAAAAAAAAAAAAAAAAAAAAAAAAAAAAAAAAAAAAAAAAAAAAAAAAAAAAAAAAAAAAAAAAAAAAAAAAAAAAAAAAAAAAAAAAAAAAAAAAAAAAAAAAAAAAAAAAAAAAAAAAAAAAAAAAAAAAAAAAAAAAAAAAAAAAAAAAAAAAAAAAAAAAAAAAAAAAAAAAAAAAAAAAAAAAAAAAAAAAAAAAAAAAAAAAAAAAAAAAAAAAAAAAAAAAAAAAAAAAAAAAAAAAAAAAAAAAAAAAAAAAAAAAAAAAAAAAAAAAAAAAAAAAAAAAAAAAAAAAAAAAAAAAAAAAAAAAAAAAAAAAAAAAAAAAAAAAAAAAAAAAAAAAAAAAAAAAAAAAAAAAAAAAAAAAAAAAAAAAAAAAAAAAAAAAAAAAAAAAAAAAAAAAAAAAAAAAAAAAAAAAAAAAAAAAAAAAAAAAAAAAAAAAAAAAAAAAAAAAAAAAAAAAAAAAAAAAAAAAAAAAAAAAAAAAAAAAAAAAAAAAAAAAAAAAAAAAAAAAAAAAAAAAAAAAAAAAAAAAAAAAAAAAAAAAAAAAAAAAAAAAAAAAAAAAAAAAAAAAAAAAAAAAAAAAAAAAAAAAAAAAAAAAAAAAAAAAAAAAAAAAAAAAAAAAAAAAAAAAAAAAAAAAAAAAAAAAAAAAAAAAAAAAAAAAAAAAAAAAAAAAAAAAAAAAAAAAAAAAAAAAAAAAAAAAAAAAAAAAAAAAAAAAAAAAAAAAAAAAAAAAAAAAAAAAAAAAAAAAAAAAAAAAAAAAAAAAAAAAAAAAAAAAAAAAAAAAAAAAAAAAAAAAAAAAAAAAAAAAAAAAAAAAAAAAAAAAAAAAAAAAAAAAAAAAAAAAAAAAAAAAAAAAAAAAAAAAAAAAAAAAAAAAAAAAAAAAAAAAAAAAAAAAAAAAAAAAAAAAAAAAAAAAAAAAAAAAAAAAAAAAAAAAAAAAAAAAAAAAAAAAAAAAAAAAAAAAAAAAAAAAAAAAAAAAAAAAAAAAAAAAAAAAAAAAAAAAAAAAAAAAAAAAAAAAAAAAAAAAAAAAAAAAAAAAAAAAAAAAAAAAAAAAAAAAAAAAAAAAAAAAAAAAAAAAAAAAAAAAAAAAAAAAAAAAAAAAAAAAAAAAAAAAAAAAAAAAAAAAAAAAAAAAAAAAAAAAAAAAAAAAAAAAAAAAAAAAAAAAAAAAAAAAAAAAAAAAAAAAAAAAAAAAAAAAAAAAAAAAAAAAAAAAAAAAAAAAAAAAAAAAAAAAAAAAAAAAAAAAAAAAAAAAAAAAAAAAAAAAAAAAAAAAAAAAAAAAAAAAAAAAAAAAAAAAAAAAAAAAAAAAAAAAAAAAAAAAAAAAAAAAAAAAAAAAAAAAAAAAAAAAAAAAAAAAAAAAAAAAAAAAAAAAAAAAAAAAAAAAAAAAAAAAAAAAAAAAAAAAAAAAAAAAAAAAAAAAAAAAAAAAAAAAAAAAAAAAAAAAAAAAAAAAAAAAAAAAAAAAAAAAAAAAAAAAAAAAAAAAAAAAAAAAAAAAAAAAAAAAAAAAAAAAAAAAAAAAAAAAAAAAAAAAAAAAAAAAAAAAAAAAAAAAAAAAAAAAAAAAAAAAAAAAAAAAAAAAAAAAAAAAAAAAAAAAAAAAAAAAAAAAAAAAAAAAAAAAAAAAAAAAAAAAAAAAAAAAAAAAAAAAAAAAAAAAAAAAAAAAAAAAAAAAAAAAAAAAAAAAAAAAAAAAAAAAAAAAAAAAAAAAAAAAAAAAAAAAAAAAAAAAAAAAAAAAAAAAAAAAAAAAAAAAAAAAAAAAAAAAAAAAAAAAAAAAAAAAAAAAAAAAAAAAAAAAAAAAAAAAAAAAAAAAAAAAAAAAAAAAAAAAAAAAAAAAAAAAAAAAAAAAAAAAAAAAAAAAAAAAAAAAAAAAAAAAAAAAAAAAAAAAAAAAAAAAAAAAAAAAAAAAAAAAAAAAAAAAAAAAAAAAAAAAAAAAAAAAAAAAAAAAAAAAAAAAAAAAAAAAAAAAAAAAAAAAAAAAAAAAAAAAAAAAAAAAAAAAAAAAAAAAAAAAAAAAAAAAAAAAAAAAAAAAAAAAAAAAAAAAAAAAAAAAAAAAAAAAAAAAAAAAAAAAAAAAAAAAAAAAAAAAAAAAAAAAAAAAAAAAAAAAAAAAAAAAAAAAAAAAAAAAAAAAAAAAAAAAAAAAAAAAAAAAAAAAAAAAAAAAAAAAAAAAAAAAAAAAAAAAAAAAAAAAAAAAAAAAAAAAAAAAAAAAAAAAAAAAAAAAAAAAAAAAAAAAAAAAAAAAAAAAAAAAAAAAAAAAAAAAAAAAAAAAAAAAAAAAAAAAAAAAAAAAAAAAAAAAAAAAAAAAAAAAAAAAAAAAAAAAAAAAAAAAAAAAAAAAAAAAAAAAAAAAAAAAAAAAAAAAAAAAAAAAAAAAAAAAAAAAAAAAAAAAAAAAAAAAAAAAAAAAAAAAAAAAAAAAAAAAAAAAAAAAAAAAAAAAAAAAAAAAAAAAAAAAAAAAAAAAAAAAAAAAAAAAAAAAAAAAAAAAAAAAAAAAAAAAAAAAAAAAAAAAAAAAAAAAAAAAAAAAAAAAAAAAAAAAAAAAAAAAAAAAAAAAAAAAAAAAAAAAAAAAAAAAAAAAAAAAAAAAAAAAAAAAAAAAAAAAAAAAAAAAAAAAAAAAAAAAAAAAAAAAAAAAAAAAAAAAAAAAAAAAAAAAAAAAAAAAAAAAAAAAAAAAAAAAAAAAAAAAAAAAAAAAAAAAAAAAAAAAAAAAAAAAAAAAAAAAAAAAAAAAAAAAAAAAAAAAAAAAAAAAAAAAAAAAAAAAAAAAAAAAAAAAAAAAAAAAAAAAAAAAAAAAAAAAAAAAAAAAAAAAAAAAAAAAAAAAAAAAAAAAAAAAAAAAAAAAAAAAAAAAAAAAAAAAAAAAAAAAAAAAAAAAAAAAAAAAAAAAAAAAAAAAAAAAAAAAAAAAAAAAAAAAAAAAAAAAAAAAAAAAAAAAAAAAAAAAAAAAAAAAAAAAAAAAAAAAAAAAAAAAAAAAAAAAAAAAAAAAAAAAAAAAAAAAAAAAAAAAAAAAAAAAAAAAAAAAAAAAAAAAAAAAAAAAAAAAAAAAAAAAAAAAAAAAAAAAAAAAAAAAAAAAAAAAAAAAAAAAAAAAAAAAAAAAAAAAAAAAAAAAAAAAAAAAAAAAAAAAAAAAAAAAAAAAAAAAAAAAAAAAAAAAAAAAAAAAAAAAAAAAAAAAAAAAAAAAAAAAAAAAAAAAAAAAAAAAAAAAAAAAAAAAAAAAAAAAAAAAAAAAAAAAAAAAAAAAAAAAAAAAAAAAAAAAAAAAAAAAAAAAAAAAAAAAAAAAAAAAAAAAAAAAAAAAAAAAAAAAAAAAAAAAAAAAAAAAAAAAAAAAAAAAAAAAAAAAAAAAAAAAAAAAAAAAAAAAAAAAAAAAAAAAAAAAAAAAAAAAAAAAAAAAAAAAAAAAAAAAAAAAAAAAAAAAAAAAAAAAAAAAAAAAAAAAAAAAAAAAAAAAAAAAAAAAAAAAAAAAAAAAAAAAAAAAAAAAAAAAAAAAAAAAAAAAAAAAAAAAAAAAAAAAAAAAAAAAAAAAAAAAAAAAAAAAAAAAAAAAAAAAAAAAAAAAAAAAAAAAAAAAAAAAAAAAAAAAAAAAAAAAAAAAAAAAAAAAAAAAAAAAAAAAAAAAAAAAAAAAAAAAAAAAAAAAAAAAAAAAAAAAAAAAAAAAAAAAAAAAAAAAAAAAAAAAAAAAAAAAAAAAAAAAAAAAAAAAAAAAAAAAAAAAAAAAAAAAAAAAAAAAAAAAAAAAAAAAAAAAAAAAAAAAAAAAAAAAAAAAAAAAAAAAAAAAAAAAAAAAAAAAAAAAAAAAAAAAAAAAAAAAAAAAAAAAAAAAAAAAAAAAAAAAAAAAAAAAAAAAAAAAAAAAAAAAAAAAAAAAAAAAAAAAAAAAAAAAAAAAAAAAAAAAAAAAAAAAAAAAAAAAAAAAAAAAAAAAAAAAAAAAAAAAAAAAAAAAAAAAAAAAAAAAAAAAAAAAAAAAAAAAAAAAAAAAAAAAAAAAAAAAAAAAAAAAAAAAAAAAAAAAAAAAAAAAAAAAAAAAAAAAAAAAAAAAAAAAAAAAAAAAAAAAAAAAAAAAAAAAAAAAAAAAAAAAAAAAAAAAAAAAAAAAAAAAAAAAAAAAAAAAAAAAAAAAAAAAAAAAAAAAAAAAAAAAAAAAAAAAAAAAAAAAAAAAAAAAAAAAAAAAAAAAAAAAAAAAAAAAAAAAAAAAAAAAAAAAAAAAAAAAAAAAAAAAAAAAAAAAAAAAAAAAAAAAAAAAAAAAAAAAAAAAAAAAAAAAAAAAAAAAAAAAAAAAAAAAAAAAAAAAAAAAAAAAAAAAAAAAAAAAAAAAAAAAAAAAAAAAAAAAAAAAAAAAAAAAAAAAAAAAAAAAAAAAAAAAAAAAAAAAAAAAAAAAAAAAAAAAAAAAAAAAAAAAAAAAAAAAAAAAAAAAAAAAAAAAAAAAAAAAAAAAAAAAAAAAAAAAAAAAAAAAAAAAAAAAAAAAAAAAAAAAAAAAAAAAAAAAAAAAAAAAAAAAAAAAAAAAAAAAAAAAAAAAAAAAAAAAAAAAAAAAAAAAAAAAAAAAAAAAAAAAAAAAAAAAAAAAAAAAAAAAAAAAAAAAAAAAAAAAAAAAAAAAAAAAAAAAAAAAAAAAAAAAAAAAAAAAAAAAAAAAAAAAAAAAAAAAAAAAAAAAAAAAAAAAAAAAAAAAAAAAAAAAAAAAAAAAAAAAAAAAAAAAAAAAAAAAAAAAAAAAAAAAAAAAAAAAAAAAAAAAAAAAAAAAAAAAAAAAAAAAAAAAAAAAAAAAAAAAAAAAAAAAAAAAAAAAAAAAAAAAAAAAAAAAAAAAAAAAAAAAAAAAAAAAAAAAAAAAAAAAAAAAAAAAAAAAAAAAAAAAAAAAAAAAAAAAAAAAAAAAAAAAAAAAAAAAAAAAAAAAAAAAAAAAAAAAAAAAAAAAAAAAAAAAAAAAAAAAAAAAAAAAAAAAAAAAAAAAAAAAAAAAAAAAAAAAAAAAAAAAAAAAAAAAAAAAAAAAAAAAAAAAAAAAAAAAAAAAAAAAAAAAAAAAAAAAAAAAAAAAAAAAAAAAAAAAAAAAAAAAAAAAAAAAAAAAAAAAAAAAAAAAAAAAAAAAAAAAAAAAAAAAAAAAAAAAAAAAAAAAAAAAAAAAAAAAAAAAAAAAAAAAAAAAAAAAAAAAAAAAAAAAAAAAAAAAAAAAAAAAAAAAAAAAAAAAAAAAAAAAAAAAAAAAAAAAAAAAAAAAAAAAAAAAAAAAAAAAAAAAAAAAAAAAAAAAAAAAAAAAAAAAAAAAAAAAAAAAAAAAAAAAAAAAAAAAAAAAAAAAAAAAAAAAAAAAAAAAAAAAAAAAAAAAAAAAAAAAAAAAAAAAAAAAAAAAAAAAAAAAAAAAAAAAAAAAAAAAAAAAAAAAAAAAAAAAAAAAAAAAAAAAAAAAAAAAAAAAAAAAAAAAAAAAAAAAAAAAAAAAAAAAAAAAAAAAAAAAAAAAAAAAAAAAAAAAAAAAAAAAAAAAAAAAAAAAAAAAAAAAAAAAAAAAAAAAAAAAAAAAAAAAAAAAAAAAAAAAAAAAAAAAAAAAAAAAAAAAAAAAAAAAAAAAAAAAAAAAAAAAAAAAAAAAAAAAAAAAAAAAAAAAAAAAAAAAAAAAAAAAAAAAAAAAAAAAAAAAAAAAAAAAAAAAAAAAAAAAAAAAAAAAAAAAAAAAAAAAAAAAAAAAAAAAAAAAAAAAAAAAAAAAAAAAAAAAAAAAAAAAAAAAAAAAAAAAAAAAAAAAAAAAAAAAAAAAAAAAAAAAAAAAAAAAAAAAAAAAAAAAAAAAAAAAAAAAAAAAAAAAAAAAAAAAAAAAAAAAAAAAAAAAAAAAAAAAAAAAAAAAAAAAAAAAAAAAAAAAAAAAAAAAAAAAAAAAAAAAAAAAAAAAAAAAAAAAAAAAAAAAAAAAAAAAAAAAAAAAAAAAAAAAAAAAAAAAAAAAAAAAAAAAAAAAAAAAAAAAAAAAAAAAAAAAAAAAAAAAAAAAAAAAAAAAAAAAAAAAAAAAAAAAAAAAAAAAAAAAAAAAAAAAAAAAAAAAAAAAAAAAAAAAAAAAAAAAAAAAAAAAAAAAAAAAAAAAAAAAAAAAAAAAAAAAAAAAAAAAAAAAAAAAAAAAAAAAAAAAAAAAAAAAAAAAAAAAAAAAAAAAAAAAAAAAAAAAAAAAAAAAAAAAAAAAAAAAAAAAAAAAAAAAAAAAAAAAAAAAAAAAAAAAAAAAAAAAAAAAAAAAAAAAAAAAAAAAAAAAAAAAAAAAAAAAAAAAAAAAAAAAAAAAAAAAAAAAAAAAAAAAAAAAAAAAAAAAAAAAAAAAAAAAAAAAAAAAAAAAAAAAAAAAAAAAAAAAAAAAAAAAAAAAAAAAAAAAAAAAAAAAAAAAAAAAAAAAAAAAAAAAAAAAAAAAAAAAAAAAAAAAAAAAAAAAAAAAAAAAAAAAAAAAAAAAAAAAAAAAAAAAAAAAAAAAAAAAAAAAAAAAAAAAAAAAAAAAAAAAAAAAAAAAAAAAAAAAAAAAAAAAAAAAAAAAAAAAAAAAAAAAAAAAAAAAAAAAAAAAAAAAAAAAAAAAAAAAAAAAAAAAAAAAAAAAAAAAAAAAAAAAAAAAAAAAAAAAAAAAAAAAAAAAAAAAAAAAAAAAAAAAAAAAAAAAAAAAAAAAAAAAAAAAAAAAAAAAAAAAAAAAAAAAAAAAAAAAAAAAAAAAAAAAAAAAAAAAAAAAAAAAAAAAAAAAAAAAAAAAAAAAAAAAAAAAAAAAAAAAAAAAAAAAAAAAAAAAAAAAAAAAAAAAAAAAAAAAAAAAAAAAAAAAAAAAAAAAAAAAAAAAAAAAAAAAAAAAAAAAAAAAAAAAAAAAAAAAAAAAAAAAAAAAAAAAAAAAAAAAAAAAAAAAAAAAAAAAAAAAAAAAAAAAAAAAAAAAAAAAAAAAAAAAAAAAAAAAAAAAAAAAAAAAAAAAAAAAAAAAAAAAAAAAAAAAAAAAAAAAAAAAAAAAAAAAAAAAAAAAAAAAAAAAAAAAAAAAAAAAAAAAAAAAAAAAAAAAAAAAAAAAAAAAAAAAAAAAAAAAAAAAAAAAAAAAAAAAAAAAAAAAAAAAAAAAAAAAAAAAAAAAAAAAAAAAAAAAAAAAAAAAAAAAAAAAAAAAAAAAAAAAAAAAAAAAAAAAAAAAAAAAAAAAAAAAAAAAAAAAAAAAAAAAAAAAAAAAAAAAAAAAAAAAAAAAAAAAAAAAAAAAAAAAAAAAAAAAAAAAAAAAAAAAAAAAAAAAAAAAAAAAAAAAAAAAAAAAAAAAAAAAAAAAAAAAAAAAAAAAAAAAAAAAAAAAAAAAAAAAAAAAAAAAAAAAAAAAAAAAAAAAAAAAAAAAAAAAAAAAAAAAAAAAAAAAAAAAAAAAAAAAAAAAAAAAAAAAAAAAAAAAAAAAAAAAAAAAAAAAAAAAAAAAAAAAAAAAAAAAAAAAAAAAAAAAAAAAAAAAAAAAAAAAAAAAAAAAAAAAAAAAAAAAAAAAAAAAAAAAAAAAAAAAAAAAAAAAAAAAAAAAAAAAAAAAAAAAAAAAAAAAAAAAAAAAAAAAAAAAAAAAAAAAAAAAAAAAAAAAAAAAAAAAAAAAAAAAAAAAAAAAAAAAAAAAAAAAAAAAAAAAAAAAAAAAAAAAAAAAAAAAAAAAAAAAAAAAAAAAAAAAAAAAAAAAAAAAAAAAAAAAAAAAAAAAAAAAAAAAAAAAAAAAAAAAAAAAAAAAAAAAAAAAAAAAAAAAAAAAAAAAAAAAAAAAAAAAAAAAAAAAAAAAAAAAAAAAAAAAAAAAAAAAAAAAAAAAAAAAAAAAAAAAAAAAAAAAAAAAAAAAAAAAAAAAAAAAAAAAAAAAAAAAAAAAAAAAAAAAAAAAAAAAAAAAAAAAAAAAAAAAAAAAAAAAAAAAAAAAAAAAAAAAAAAAAAAAAAAAAAAAAAAAAAAAAAAAAAAAAAAAAAAAAAAAAAAAAAAAAAAAAAAAAAAAAAAAAAAAAAAAAAAAAAAAAAAAAAAAAAAAAAAAAAAAAAAAAAAAAAAAAAAAAAAAAAAAAAAAAAAAAAAAAAAAAAAAAAAAAAAAAAAAAAAAAAAAAAAAAAAAAAAAAAAAAAAAAAAAAAAAAAAAAAAAAAAAAAAAAAAAAAAAAAAAAAAAAAAAAAAAAAAAAAAAAAAAAAAAAAAAAAAAAAAAAAAAAAAAAAAAAAAAAAAAAAAAAAAAAAAAAAAAAAAAAAAAAAAAAAAAAAAAAAAAAAAAAAAAAAAAAAAAAAAAAAAAAAAAAAAAAAAAAAAAAAAAAAAAAAAAAAAAAAAAAAAAAAAAAAAAAAAAAAAAAAAAAAAAAAAAAAAAAAAAAAAAAAAAAAAAAAAAAAAAAAAAAAAAAAAAAAAAAAAAAAAAAAAAAAAAAAAAAAAAAAAAAAAAAAAAAAAAAAAAAAAAAAAAAAAAAAAAAAAAAAAAAAAAAAAAAAAAAAAAAAAAAAAAAAAAAAAAAAAAAAAAAAAAAAAAAAAAAAAAAAAAAAAAAAAAAAAAAAAAAAAAAAAAAAAAAAAAAAAAAAAAAAAAAAAAAAAAAAAAAAAAAAAAAAAAAAAAAAAAAAAAAAAAAAAAAAAAAAAAAAAAAAAAAAAAAAAAAAAAAAAAAAAAAAAAAAAAAAAAAAAAAAAAAAAAAAAAAAAAAAAAAAAAAAAAAAAAAAAAAAAAAAAAAAAAAAAAAAAAAAAAAAAAAAAAAAAAAAAAAAAAAAAAAAAAAAAAAAAAAAAAAAAAAAAAAAAAAAAAAAAAAAAAAAAAAAAAAAAAAAAAAAAAAAAAAAAAAAAAAAAAAAAAAAAAAAAAAAAAAAAAAAAAAAAAAAAAAAAAAAAAAAAAAAAAAAAAAAAAAAAAAAAAAAAAAAAAAAAAAAAAAAAAAAAAAAAAAAAAAAAAAAAAAAAAAAAAAAAAAAAAAAAAAAAAAAAAAAAAAAAAAAAAAAAAAAAAAAAAAAAAAAAAAAAAAAAAAAAAAAAAAAAAAAAAAAAAAAAAAAAAAAAAAAAAAAAAAAAAAAAAAAAAAAAAAAAAAAAAAAAAAAAAAAAAAAAAAAAAAAAAAAAAAAAAAAAAAAAAAAAAAAAAAAAAAAAAAAAAAAAAAAAAAAAAAAAAAAAAAAAAAAAAAAAAAAAAAAAAAAAAAAAAAAAAAAAAAAAAAAAAAAAAAAAAAAAAAAAAAAAAAAAAAAAAAAAAAAAAAAAAAAAAAAAAAAAAAAAAAAAAAAAAAAAAAAAAAAAAAAAAAAAAAAAAAAAAAAAAAAAAAAAAAAAAAAAAAAAAAAAAAAAAAAAAAAAAAAAAAAAAAAAAAAAAAAAAAAAAAAAAAAAAAAAAAAAAAAAAAAAAAAAAAAAAAAAAAAAAAAAAAAAAAAAAAAAAAAAAAAAAAAAAAAAAAAAAAAAAAAAAAAAAAAAAAAAAAAAAAAAAAAAAAAAAAAAAAAAAAAAAAAAAAAAAAAAAAAAAAAAAAAAAAAAAAAAAAAAAAAAAAAAAAAAAAAAAAAAAAAAAAAAAAAAAAAAAAAAAAAAAAAAAAAAAAAAAAAAAAAAAAAAAAAAAAAAAAAAAAAAAAAAAAAAAAAAAAAAAAAAAAAAAAAAAAAAAAAAAAAAAAAAAAAAAAAAAAAAAAAAAAAAAAAAAAAAAAAAAAAAAAAAAAAAAAAAAAAAAAAAAAAAAAAAAAAAAAAAAAAAAAAAAAAAAAAAAAAAAAAAAAAAAAAAAAAAAAAAAAAAAAAAAAAAAAAAAAAAAAAAAAAAAAAAAAAAAAAAAAAAAAAAAAAAAAAAAAAAAAAAAAAAAAAAAAAAAAAAAAAAAAAAAAAAAAAAAAAAAAAAAAAAAAAAAAAAAAAAAAAAAAAAAAAAAAAAAAAAAAAAAAAAAAAAAAAAAAAAAAAAAAAAAAAAAAAAAAAAAAAAAAAAAAAAAAAAAAAAAAAAAAAAAAAAAAAAAAAAAAAAAAAAAAAAAAAAAAAAAAAAAAAAAAAAAAAAAAAAAAAAAAAAAAAAAAAAAAAAAAAAAAAAAAAAAAAAAAAAAAAAAAAAAAAAAAAAAAAAAAAAAAAAAAAAAAAAAAAAAAAAAAAAAAAAAAAAAAAAAAAAAAAAAAAAAAAAAAAAAAAAAAAAAAAAAAAAAAAAAAAAAAAAAAAAAAAAAAAAAAAAAAAAAAAAAAAAAAAAAAAAAAAAAAAAAAAAAAAAAAAAAAAAAAAAAAAAAAAAAAAAAAAAAAAAAAAAAAAAAAAAAAAAAAAAAAAAAAAAAAAAAAAAAAAAAAAAAAAAAAAAAAAAAAAAAAAAAAAAAAAAAAAAAAAAAAAAAAAAAAAAAAAAAAAAAAAAAAAAAAAAAAAAAAAAAAAAAAAAAAAAAAAAAAAAAAAAAAAAAAAAAAAAAAAAAAAAAAAAAAAAAAAAAAAAAAAAAAAAAAAAAAAAAAAAAAAAAAAAAAAAAAAAAAAAAAAAAAAAAAAAAAAAAAAAAAAAAAAAAAAAAAAAAAAAAAAAAAAAAAAAAAAAAAAAAAAAAAAAAAAAAAAAAAAAAAAAAAAAAAAAAAAAAAAAAAAAAAAAAAAAAAAAAAAAAAAAAAAAAAAAAAAAAAAAAAAAAAAAAAAAAAAAAAAAAAAAAAAAAAAAAAAAAAAAAAAAAAAAAAAAAAAAAAAAAAAAAAAAAAAAAAAAAAAAAAAAAAAAAAAAAAAAAAAAAAAAAAAAAAAAAAAAAAAAAAAAAAAAAAAAAAAAAAAAAAAAAAAAAAAAAAAAAAAAAAAAAAAAAAAAAAAAAAAAAAAAAAAAAAAAAAAAAAAAAAAAAAAAAAAAAAAAAAAAAAAAAAAAAAAAAAAAAAAAAAAAAAAAAAAAAAAAAAAAAAAAAAAAAAAAAAAAAAAAAAAAAAAAAAAAAAAAAAAAAAAAAAAAAAAAAAAAAAAAAAAAAAAAAAAAAAAAAAAAAAAAAAAAAAAAAAAAAAAAAAAAAAAAAAAAAAAAAAAAAAAAAAAAAAAAAAAAAAAAAAAAAAAAAAAAAAAAAAAAAAAAAAAAAAAAAAAAAAAAAAAAAAAAAAAAAAAAAAAAAAAAAAAAAAAAAAAAAAAAAAAAAAAAAAAAAAAAAAAAAAAAAAAAAAAAAAAAAAAAAAAAAAAAAAAAAAAAAAAAAAAAAAAAAAAAAAAAAAAAAAAAAAAAAAAAAAAAAAAAAAAAAAAAAAAAAAAAAAAAAAAAAAAAAAAAAAAAAAAAAAAAAAAAAAAAAAAAAAAAAAAAAAAAAAAAAAAAAAAAAAAAAAAAAAAAAAAAAAAAAAAAAAAAAAAAAAAAAAAAAAAAAAAAAAAAAAAAAAAAAAAAAAAAAAAAAAAAAAAAAAAAAAAAAAAAAAAAAAAAAAAAAAAAAAAAAAAAAAAAAAAAAAAAAAAAAAAAAAAAAAAAAAAAAAAAAAAAAAAAAAAAAAAAAAAAAAAAAAAAAAAAAAAAAAAAAAAAAAAAAAAAAAAAAAAAAAAAAAAAAAAAAAAAAAAAAAAAAAAAAAAAAAAAAAAAAAAAAAAAAAAAAAAAAAAAAAAAAAAAAAAAAAAAAAAAAAAAAAAAAAAAAAAAAAAAAAAAAAAAAAAAAAAAAAAAAAAAAAAAAAAAAAAAAAAAAAAAAAAAAAAAAAAAAAAAAAAAAAAAAAAAAAAAAAAAAAAAAAAAAAAAAAAAAAAAAAAAAAAAAAAAAAAAAAAAAAAAAAAAAAAAAAAAAAAAAAAAAAAAAAAAAAAAAAAAAAAAAAAAAAAAAAAAAAAAAAAAAAAAAAAAAAAAAAAAAAAAAAAAAAAAAAAAAAAAAAAAAAAAAAAAAAAAAAAAAAAAAAAAAAAAAAAAAAAAAAAAAAAAAAAAAAAAAAAAAAAAAAAAAAAAAAAAAAAAAAAAAAAAAAAAAAAAAAAAAAAAAAAAAAAAAAAAAAAAAAAAAAAAAAAAAAAAAAAAAAAAAAAAAAAAAAAAAAAAAAAAAAAAAAAAAAAAAAAAAAAAAAAAAAAAAAAAAAAAAAAAAAAAAAAAAAAAAAAAAAAAAAAAAAAAAAAAAAAAAAAAAAAAAAAAAAAAAAAAAAAAAAAAAAAAAAAAAAAAAAAAAAAAAAAAAAAAAAAAAAAAAAAAAAAAAAAAAAAAAAAAAAAAAAAAAAAAAAAAAAAAAAAAAAAAAAAAAAAAAAAAAAAAAAAAAAAAAAAAAAAAAAAAAAAAAAAAAAAAAAAAAAAAAAAAAAAAAAAAAAAAAAAAAAAAAAAAAAAAAAAAAAAAAAAAAAAAAAAAAAAAAAAAAAAAAAAAAAAAAAAAAAAAAAAAAAAAAAAAAAAAAAAAAAAAAAAAAAAAAAAAAAAAAAAAAAAAAAAAAAAAAAAAAAAAAAAAAAAAAAAAAAAAAAAAAAAAAAAAAAAAAAAAAAAAAAAAAAAAAAAAAAAAAAAAAAAAAAAAAAAAAAAAAAAAAAAAAAAAAAAAAAAAAAAAAAAAAAAAAAAAAAAAAAAAAAAAAAAAAAAAAAAAAAAAAAAAAAAAAAAAAAAAAAAAAAAAAAAAAAAAAAAAAAAAAAAAAAAAAAAAAAAAAAAAAAAAAAAAAAAAAAAAAAAAAAAAAAAAAAAAAAAAAAAAAAAAAAAAAAAAAAAAAAAAAAAAAAAAAAAAAAAAAAAAAAAAAAAAAAAAAAAAAAAAAAAAAAAAAAAAAAAAAAAAAAAAAAAAAAAAAAAAAAAAAAAAAAAAAAAAAAAAAAAAAAAAAAAAAAAAAAAAAAAAAAAAAAAAAAAAAAAAAAAAAAAAAAAAAAAAAAAAAAAAAAAAAAAAAAAAAAAAAAAAAAAAAAAAAAAAAAAAAAAAAAAAAAAAAAAAAAAAAAAAAAAAAAAAAAAAAAAAAAAAAAAAAAAAAAAAAAAAAAAAAAAAAAAAAAAAAAAAAAAAAAAAAAAAAAAAAAAAAAAAAAAAAAAAAAAAAAAAAAAAAAAAAAAAAAAAAAAAAAAAAAAAAAAAAAAAAAAAAAAAAAAAAAAAAAAAAAAAAAAAAAAAAAAAAAAAAAAAAAAAAAAAAAAAAAAAAAAAAAAAAAAAAAAAAAAAAAAAAAAAAAAAAAAAAAAAAAAAAAAAAAAAAAAAAAAAAAAAAAAAAAAAAAAAAAAAAAAAAAAAAAAAAAAAAAAAAAAAAAAAAAAAAAAAAAAAAAAAAAAAAAAAAAAAAAAAAAAAAAAAAAAAAAAAAAAAAAAAAAAAAAAAAAAAAAAAAAAAAAAAAAAAAAAAAAAAAAAAAAAAAAAAAAAAAAAAAAAAAAAAAAAAAAAAAAAAAAAAAAAAAAAAAAAAAAAAAAAAAAAAAAAAAAAAAAAAAAAAAAAAAAAAAAAAAAAAAAAAAAAAAAAAAAAAAAAAAAAAAAAAAAAAAAAAAAAAAAAAAAAAAAAAAAAAAAAAAAAAAAAAAAAAAAAAAAAAAAAAAAAAAAAAAAAAAAAAAAAAAAAAAAAAAAAAAAAAAAAAAAAAAAAAAAAAAAAAAAAAAAAAAAAAAAAAAAAAAAAAAAAAAAAAAAAAAAAAAAAAAAAAAAAAAAAAAAAAAAAAAAAAAAAAAAAAAAAAAAAAAAAAAAAAAAAAAAAAAAAAAAAAAAAAAAAAAAAAAAAAAAAAAAAAAAAAAAAAAAAAAAAAAAAAAAAAAAAAAAAAAAAAAAAAAAAAAAAAAAAAAAAAAAAAAAAAAAAAAAAAAAAAAAAAAAAAAAAAAAAAAAAAAAAAAAAAAAAAAAAAAAAAAAAAAAAAAAAAAAAAAAAAAAAAAAAAAAAAAAAAAAAAAAAAAAAAAAAAAAAAAAAAAAAAAAAAAAAAAAAAAAAAAAAAAAAAAAAAAAAAAAAAAAAAAAAAAAAAAAAAAAAAAAAAAAAAAAAAAAAAAAAAAAAAAAAAAAAAAAAAAAAAAAAAAAAAAAAAAAAAAAAAAAAAAAAAAAAAAAAAAAAAAAAAAAAAAAAAAAAAAAAAAAAAAAAAAAAAAAAAAAAAAAAAAAAAAAAAAAAAAAAAAAAAAAAAAAAAAAAAAAAAAAAAAAAAAAAAAAAAAAAAAAAAAAAAAAAAAAAAAAAAAAAAAAAAAAAAAAAAAAAAAAAAAAAAAAAAAAAAAAAAAAAAAAAAAAAAAAAAAAAAAAAAAAAAAAAAAAAAAAAAAAAAAAAAAAAAAAAAAAAAAAAAAAAAAAAAAAAAAAAAAAAAAAAAAAAAAAAAAAAAAAAAAAAAAAAAAAAAAAAAAAAAAAAAAAAAAAAAAAAAAAAAAAAAAAAAAAAAAAAAAAAAAAAAAAAAAAAAAAAAAAAAAAAAAAAAAAAAAAAAAAAAAAAAAAAAAAAAAAAAAAAAAAAAAAAAAAAAAAAAAAAAAAAAAAAAAAAAAAAAAAAAAAAAAAAAAAAAAAAAAAAAAAAAAAAAAAAAAAAAAAAAAAAAAAAAAAAAAAAAAAAAAAAAAAAAAAAAAAAAAAAAAAAAAAAAAAAAAAAAAAAAAAAAAAAAAAAAAAAAAAAAAAAAAAAAAAAAAAAAAAAAAAAAAAAAAAAAAAAAAAAAAAAAAAAAAAAAAAAAAAAAAAAAAAAAAAAAAAAAAAAAAAAAAAAAAAAAAAAAAAAAAAAAAAAAAAAAAAAAAAAAAAAAAAAAAAAAAAAAAAAAAAAAAAAAAAAAAAAAAAAAAAAAAAAAAAAAAAAAAAAAAAAAAAAAAAAAAAAAAAAAAAAAAAAAAAAAAAAAAAAAAAAAAAAAAAAAAAAAAAAAAAAAAAAAAAAAAAAAAAAAAAAAAAAAAAAAAAAAAAAAAAAAAAAAAAAAAAAAAAAAAAAAAAAAAAAAAAAAAAAAAAAAAAAAAAAAAAAAAAAAAAAAAAAAAAAAAAAAAAAAAAAAAAAAAAAAAAAAAAAAAAAAAAAAAAAAAAAAAAAAAAAAAAAAAAAAAAAAAAAAAAAAAAAAAAAAAAAAAAAAAAAAAAAAAAAAAAAAAAAAAAAAAAAAAAAAAAAAAAAAAAAAAAAAAAAAAAAAAAAAAAAAAAAAAAAAAAAAAAAAAAAAAAAAAAAAAAAAAAAAAAAAAAAAAAAAAAAAAAAAAAAAAAAAAAAAAAAAAAAAAAAAAAAAAAAAAAAAAAAAAAAAAAAAAAAAAAAAAAAAAAAAAAAAAAAAAAAAAAAAAAAAAAAAAAAAAAAAAAAAAAAAAAAAAAAAAAAAAAAAAAAAAAAAAAAAAAAAAAAAAAAAAAAAAAAAAAAAAAAAAAAAAAAAAAAAAAAAAAAAAAAAAAAAAAAAAAAAAAAAAAAAAAAAAAAAAAAAAAAAAAAAAAAAAAAAAAAAAAAAAAAAAAAAAAAAAAAAAAAAAAAAAAAAAAAAAAAAAAAAAAAAAAAAAAAAAAAAAAAAAAAAAAAAAAAAAAAAAAAAAAAAAAAAAAAAAAAAAAAAAAAAAAAAAAAAAAAAAAAAAAAAAAAAAAAAAAAAAAAAAAAAAAAAAAAAAAAAAAAAAAAAAAAAAAAAAAAAAAAAAAAAAAAAAAAAAAAAAAAAAAAAAAAAAAAAAAAAAAAAAAAAAAAAAAAAAAAAAAAAAAAAAAAAAAAAAAAAAAAAAAAAAAAAAAAAAAAAAAAAAAAAAAAAAAAAAAAAAAAAAAAAAAAAAAAAAAAAAAAAAAAAAAAAAAAAAAAAAAAAAAAAAAAAAAAAAAAAAAAAAAAAAAAAAAAAAAAAAAAAAAAAAAAAAAAAAAAAAAAAAAAAAAAAAAAAAAAAAAAAAAAAAAAAAAAAAAAAAAAAAAAAAAAAAAAAAAAAAAAAAAAAAAAAAAAAAAAAAAAAAAAAAAAAAAAAAAAAAAAAAAAAAAAAAAAAAAAAAAAAAAAAAAAAAAAAAAAAAAAAAAAAAAAAAAAAAAAAAAAAAAAAAAAAAAAAAAAAAAAAAAAAAAAAAAAAAAAAAAAAAAAAAAAAAAAAAAAAAAAAAAAAAAAAAAAAAAAAAAAAAAAAAAAAAAAAAAAAAAAAAAAAAAAAAAAAAAAAAAAAAAAAAAAAAAAAAAAAAAAAAAAAAAAAAAAAAAAAAAAAAAAAAAAAAAAAAAAAAAAAAAAAAAAAAAAAAAAAAAAAAAAAAAAAAAAAAAAAAAAAAAAAAAAAAAAAAAAAAAAAAAAAAAAAAAAAAAAAAAAAAAAAAAAAAAAAAAAAAAAAAAAAAAAAAAAAAAAAAAAAAAAAAAAAAAAAAAAAAAAAAAAAAAAAAAAAAAAAAAAAAAAAAAAAAAAAAAAAAAAAAAAAAAAAAAAAAAAAAAAAAAAAAAAAAAAAAAAAAAAAAAAAAAAAAAAAAAAAAAAAAAAAAAAAAAAAAAAAAAAAAAAAAAAAAAAAAAAAAAAAAAAAAAAAAAAAAAAAAAAAAAAAAAAAAAAAAAAAAAAAAAAAAAAAAAAAAAAAAAAAAAAAAAAAAAAAAAAAAAAAAAAAAAAAAAAAAAAAAAAAAAAAAAAAAAAAAAAAAAAAAAAAAAAAAAAAAAAAAAAAAAAAAAAAAAAAAAAAAAAAAAAAAAAAAAAAAAAAAAAAAAAAAAAAAAAAAAAAAAAAAAAAAAAAAAAAAAAAAAAAAAAAAAAAAAAAAAAAAAAAAAAAAAAAAAAAAAAAAAAAAAAAAAAAAAAAAAAAAAAAAAAAAAAAAAAAAAAAAAAAAAAAAAAAAAAAAAAAAAAAAAAAAAAAAAAAAAAAAAAAAAAAAAAAAAAAAAAAAAAAAAAAAAAAAAAAAAAAAAAAAAAAAAAAAAAAAAAAAAAAAAAAAAAAAAAAAAAAAAAAAAAAAAAAAAAAAAAAAAAAAAAAAAAAAAAAAAAAAAAAAAAAAAAAAAAAAAAAAAAAAAAAAAAAAAAAAAAAAAAAAAAAAAAAAAAAAAAAAAAAAAAAAAAAAAAAAAAAAAAAAAAAAAAAAAAAAAAAAAAAAAAAAAAAAAAAAAAAAAAAAAAAAAAAAAAAAAAAAAAAAAAAAAAAAAAAAAAAAAAAAAAAAAAAAAAAAAAAAAAAAAAAAAAAAAAAAAAAAAAAAAAAAAAAAAAAAAAAAAAAAAAAAAAAAAAAAAAAAAAAAAAAAAAAAAAAAAAAAAAAAAAAAAAAAAAAAAAAAAAAAAAAAAAAAAAAAAAAAAAAAAAAAAAAAAAAAAAAAAAAAAAAAAAAAAAAAAAAAAAAAAAAAAAAAAAAAAAAAAAAAAAAAAAAAAAAAAAAAAAAAAAAAAAAAAAAAAAAAAAAAAAAAAAAAAAAAAAAAAAAAAAAAAAAAAAAAAAAAAAAAAAAAAAAAAAAAAAAAAAAAAAAAAAAAAAAAAAAAAAAAAAAAAAAAAAAAAAAAAAAAAAAAAAAAAAAAAAAAAAAAAAAAAAAAAAAAAAAAAAAAAAAAAAAAAAAAAAAAAAAAAAAAAAAAAAAAAAAAAAAAAAAAAAAAAAAAAAAAAAAAAAAAAAAAAAAAAAAAAAAAAAAAAAAAAAAAAAAAAAAAAAAAAAAAAAAAAAAAAAAAAAAAAAAAAAAAAAAAAAAAAAAAAAAAAAAAAAAAAAAAAAAAAAAAAAAAAAAAAAAAAAAAAAAAAAAAAAAAAAAAAAAAAAAAAAAAAAAAAAAAAAAAAAAAAAAAAAAAAAAAAAAAAAAAAAAAAAAAAAAAAAAAAAAAAAAAAAAAAAAAAAAAAAAAAAAAAAAAAAAAAAAAAAAAAAAAAAAAAAAAAAAAAAAAAAAAAAAAAAAAAAAAAAAAAAAAAAAAAAAAAAAAAAAAAAAAAAAAAAAAAAAAAAAAAAAAAAAAAAAAAAAAAAAAAAAAAAAAAAAAAAAAAAAAAAAAAAAAAAAAAAAAAAAAAAAAAAAAAAAAAAAAAAAAAAAAAAAAAAAAAAAAAAAAAAAAAAAAAAAAAAAAAAAAAAAAAAAAAAAAAAAAAAAAAAAAAAAAAAAAAAAAAAAAAAAAAAAAAAAAAAAAAAAAAAAAAAAAAAAAAAAAAAAAAAAAAAAAAAAAAAAAAAAAAAAAAAAAAAAAAAAAAAAAAAAAAAAAAAAAAAAAAAAAAAAAAAAAAAAAAAAAAAAAAAAAAAAAAAAAAAAAAAAAAAAAAAAAAAAAAAAAAAAAAAAAAAAAAAAAAAAAAAAAAAAAAAAAAAAAAAAAAAAAAAAAAAAAAAAAAAAAAAAAAAAAAAAAAAAAAAAAAAAAAAAAAAAAAAAAAAAAAAAAAAAAAAAAAAAAAAAAAAAAAAAAAAAAAAAAAAAAAAAAAAAAAAAAAAAAAAAAAAAAAAAAAAAAAAAAAAAAAAAAAAAAAAAAAAAAAAAAAAAAAAAAAAAAAAAAAAAAAAAAAAAAAAAAAAAAAAAAAAAAAAAAAAAAAAAAAAAAAAAAAAAAAAAAAAAAAAAAAAAAAAAAAAAAAAAAAAAAAAAAAAAAAAAAAAAAAAAAAAAAAAAAAAAAAAAAAAAAAAAAAAAAAAAAAAAAAAAAAAAAAAAAAAAAAAAAAAAAAAAAAAAAAAAAAAAAAAAAAAAAAAAAAAAAAAAAAAAAAAAAAAAAAAAAAAAAAAAAAAAAAAAAAAAAAAAAAAAAAAAAAAAAAAAAAAAAAAAAAAAAAAAAAAAAAAAAAAAAAAAAAAAAAAAAAAAAAAAAAAAAAAAAAAAAAAAAAAAAAAAAAAAAAAAAAAAAAAAAAAAAAAAAAAAAAAAAAAAAAAAAAAAAAAAAAAAAAAAAAAAAAAAAAAAAAAAAAAAAAAAAAAAAAAAAAAAAAAAAAAAAAAAAAAAAAAAAAAAAAAAAAAAAAAAAAAAAAAAAAAAAAAAAAAAAAAAAAAAAAAAAAAAAAAAAAAAAAAAAAAAAAAAAAAAAAAAAAAAAAAAAAAAAAAAAAAAAAAAAAAAAAAAAAAAAAAAAAAAAAAAAAAAAAAAAAAAAAAAAAAAAAAAAAAAAAAAAAAAAAAAAAAAAAAAAAAAAAAAAAAAAAAAAAAAAAAAAAAAAAAAAAAAAAAAAAAAAAAAAAAAAAAAAAAAAAAAAAAAAAAAAAAAAAAAAAAAAAAAAAAAAAAAAAAAAAAAAAAAAAAAAAAAAAAAAAAAAAAAAAAAAAAAAAAAAAAAAAAAAAAAAAAAAAAAAAAAAAAAAAAAAAAAAAAAAAAAAAAAAAAAAAAAAAAAAAAAAAAAAAAAAAAAAAAAAAAAAAAAAAAAAAAAAAAAAAAAAAAAAAAAAAAAAAAAAAAAAAAAAAAAAAAAAAAAAAAAAAAAAAAAAAAAAAAAAAAAAAAAAAAAAAAAAAAAAAAAAAAAAAAAAAAAAAAAAAAAAAAAAAAAAAAAAAAAAAAAAAAAAAAAAAAAAAAAAAAAAAAAAAAAAAAAAAAAAAAAAAAAAAAAAAAAAAAAAAAAAAAAAAAAAAAAAAAAAAAAAAAAAAAAAAAAAAAAAAAAAAAAAAAAAAAAAAAAAAAAAAAAAAAAAAAAAAAAAAAAAAAAAAAAAAAAAAAAAAAAAAAAAAAAAAAAAAAAAAAAAAAAAAAAAAAAAAAAAAAAAAAAAAAAAAAAAAAAAAAAAAAAAAAAAAAAAAAAAAAAAAAAAAAAAAAAAAAAAAAAAAAAAAAAAAAAAAAAAAAAAAAAAAAAAAAAAAAAAAAAAAAAAAAAAAAAAAAAAAAAAAAAAAAAAAAAAAAAAAAAAAAAAAAAAAAAAAAAAAAAAAAAAAAAAAAAAAAAAAAAAAAAAAAAAAAAAAAAAAAAAAAAAAAAAAAAAAAAAAAAAAAAAAAAAAAAAAAAAAAAAAAAAAAAAAAAAAAAAAAAAAAAAAAAAAAAAAAAAAAAAAAAAAAAAAAAAAAAAAAAAAAAAAAAAAAAAAAAAAAAAAAAAAAAAAAAAAAAAAAAAAAAAAAAAAAAAAAAAAAAAAAAAAAAAAAAAAAAAAAAAAAAAAAAAAAAAAAAAAAAAAAAAAAAAAAAAAAAAAAAAAAAAAAAAAAAAAAAAAAAAAAAAAAAAAAAAAAAAAAAAAAAAAAAAAAAAAAAAAAAAAAAAAAAAAAAAAAAAAAAAAAAAAAAAAAAAAAAAAAAAAAAAAAAAAAAAAAAAAAAAAAAAAAAAAAAAAAAAAAAAAAAAAAAAAAAAAAAAAAAAAAAAAAAAAAAAAAAAAAAAAAAAAAAAAAAAAAAAAAAAAAAAAAAAAAAAAAAAAAAAAAAAAAAAAAAAAAAAAAAAAAAAAAAAAAAAAAAAAAAAAAAAAAAAAAAAAAAAAAAAAAAAAAAAAAAAAAAAAAAAAAAAAAAAAAAAAAAAAAAAAAAAAAAAAAAAAAAAAAAAAAAAAAAAAAAAAAAAAAAAAAAAAAAAAAAAAAAAAAAAAAAAAAAAAAAAAAAAAAAAAAAAAAAAAAAAAAAAAAAAAAAAAAAAAAAAAAAAAAAAAAAAAAAAAAAAAAAAAAAAAAAAAAAAAAAAAAAAAAAAAAAAAAAAAAAAAAAAAAAAAAAAAAAAAAAAAAAAAAAAAAAAAAAAAAAAAAAAAAAAAAAAAAAAAAAAAAAAAAAAAAAAAAAAAAAAAAAAAAAAAAAAAAAAAAAAAAAAAAAAAAAAAAAAAAAAAAAAAAAAAAAAAAAAAAAAAAAAAAAAAAAAAAAAAAAAAAAAAAAAAAAAAAAAAAAAAAAAAAAAAAAAAAAAAAAAAAAAAAAAAAAAAAAAAAAAAAAAAAAAAAAAAAAAAAAAAAAAAAAAAAAAAAAAAAAAAAAAAAAAAAAAAAAAAAAAAAAAAAAAAAAAAAAAAAAAAAAAAAAAAAAAAAAAAAAAAAAAAAAAAAAAAAAAAAAAAAAAAAAAAAAAAAAAAAAAAAAAAAAAAAAAAAAAAAAAAAAAAAAAAAAAAAAAAAAAAAAAAAAAAAAAAAAAAAAAAAAAAAAAAAAAAAAAAAAAAAAAAAAAAAAAAAAAAAAAAAAAAAAAAAAAAAAAAAAAAAAAAAAAAAAAAAAAAAAAAAAAAAAAAAAAAAAAAAAAAAAAAAAAAAAAAAAAAAAAAAAAAAAAAAAAAAAAAAAAAAAAAAAAAAAAAAAAAAAAAAAAAAAAAAAAAAAAAAAAAAAAAAAAAAAAAAAAAAAAAAAAAAAAAAAAAAAAAAAAAAAAAAAAAAAAAAAAAAAAAAAAAAAAAAAAAAAAAAAAAAAAAAAAAAAAAAAAAAAAAAAAAAAAAAAAAAAAAAAAAAAAAAAAAAAAAAAAAAAAAAAAAAAAAAAAAAAAAAAAAAAAAAAAAAAAAAAAAAAAAAAAAAAAAAAAAAAAAAAAAAAAAAAAAAAAAAAAAAAAAAAAAAAAAAAAAAAAAAAAAAAAAAAAAAAAAAAAAAAAAAAAAAAAAAAAAAAAAAAAAAAAAAAAAAAAAAAAAAAAAAAAAAAAAAAAAAAAAAAAAAAAAAAAAAAAAAAAAAAAAAAAAAAAAAAAAAAAAAAAAAAAAAAAAAAAAAAAAAAAAAAAAAAAAAAAAAAAAAAAAAAAAAAAAAAAAAAAAAAAAAAAAAAAAAAAAAAAAAAAAAAAAAAAAAAAAAAAAAAAAAAAAAAAAAAAAAAAAAAAAAAAAAAAAAAAAAAAAAAAAAAAAAAAAAAAAAAAAAAAAAAAAAAAAAAAAAAAAAAAAAAAAAAAAAAAAAAAAAAAAAAAAAAAAAAAAAAAAAAAAAAAAAAAAAAAAAAAAAAAAAAAAAAAAAAAAAAAAAAAAAAAAAAAAAAAAAAAAAAAAAAAAAAAAAAAAAAAAAAAAAAAAAAAAAAAAAAAAAAAAAAAAAAAAAAAAAAAAAAAAAAAAAAAAAAAAAAAAAAAAAAAAAAAAAAAAAAAAAAAAAAAAAAAAAAAAAAAAAAAAAAAAAAAAAAAAAAAAAAAAAAAAAAAAAAAAAAAAAAAAAAAAAAAAAAAAAAAAAAAAAAAAAAAAAAAAAAAAAAAAAAAAAAAAAAAAAAAAAAAAAAAAAAAAAAAAAAAAAAAAAAAAAAAAAAAAAAAAAAAAAAAAAAAAAAAAAAAAAAAAAAAAAAAAAAAAAAAAAAAAAAAAAAAAAAAAAAAAAAAAAAAAAAAAAAAAAAAAAAAAAAAAAAAAAAAAAAAAAAAAAAAAAAAAAAAAAAAAAAAAAAAAAAAAAAAAAAAAAAAAAAAAAAAAAAAAAAAAAAAAAAAAAAAAAAAAAAAAAAAAAAAAAAAAAAAAAAAAAAAAAAAAAAAAAAAAAAAAAAAAAAAAAAAAAAAAAAAAAAAAAAAAAAAAAAAAAAAAAAAAAAAAAAAAAAAAAAAAAAAAAAAAAAAAAAAAAAAAAAAAAAAAAAAAAAAAAAAAAAAAAAAAAAAAAAAAAAAAAAAAAAAAAAAAAAAAAAAAAAAAAAAAAAAAAAAAAAAAAAAAAAAAAAAAAAAAAAAAAAAAAAAAAAAAAAAAAAAAAAAAAAAAAAAAAAAAAAAAAAAAAAAAAAAAAAAAAAAAAAAAAAAAAAAAAAAAAAAAAAAAAAAAAAAAAAAAAAAAAAAAAAAAAAAAAAAAAAAAAAAAAAAAAAAAAAAAAAAAAAAAAAAAAAAAAAAAAAAAAAAAAAAAAAAAAAAAAAAAAAAAAAAAAAAAAAAAAAAAAAAAAAAAAAAAAAAAAAAAAAAAAAAAAAAAAAAAAAAAAAAAAAAAAAAAAAAAAAAAAAAAAAAAAAAAAAAAAAAAAAAAAAAAAAAAAAAAAAAAAAAAAAAAAAAAAAAAAAAAAAAAAAAAAAAAAAAAAAAAAAAAAAAAAAAAAAAAAAAAAAAAAAAAAAAAAAAAAAAAAAAAAAAAAAAAAAAAAAAAAAAAAAAAAAAAAAAAAAAAAAAAAAAAAAAAAAAAAAAAAAAAAAAAAAAAAAAAAAAAAAAAAAAAAAAAAAAAAAAAAAAAAAAAAAAAAAAAAAAAAAAAAAAAAAAAAAAAAAAAAAAAAAAAAAAAAAAAAAAAAAAAAAAAAAAAAAAAAAAAAAAAAAAAAAAAAAAAAAAAAAAAAAAAAAAAAAAAAAAAAAAAAAAAAAAAAAAAAAAAAAAAAAAAAAAAAAAAAAAAAAAAAAAAAAAAAAAAAAAAAAAAAAAAAAAAAAAAAAAAAAAAAAAAAAAAAAAAAAAAAAAAAAAAAAAAAAAAAAAAAAAAAAAAAAAAAAAAAAAAAAAAAAAAAAAAAAAAAAAAAAAAAAAAAAAAAAAAAAAAAAAAAAAAAAAAAAAAAAAAAAAAAAAAAAAAAAAAAAAAAAAAAAAAAAAAAAAAAAAAAAAAAAAAAAAAAAAAAAAAAAAAAAAAAAAAAAAAAAAAAAAAAAAAAAAAAAAAAAAAAAAAAAAAAAAAAAAAAAAAAAAAAAAAAAAAAAAAAAAAAAAAAAAAAAAAAAAAAAAAAAAAAAAAAAAAAAAAAAAAAAAAAAAAAAAAAAAAAAAAAAAAAAAAAAAAAAAAAAAAAAAAAAAAAAAAAAAAAAAAAAAAAAAAAAAAAAAAAAAAAAAAAAAAAAAAAAAAAAAAAAAAAAAAAAAAAAAAAAAAAAAAAAAAAAAAAAAAAAAAAAAAAAAAAAAAAAAAAAAAAAAAAAAAAAAAAAAAAAAAAAAAAAAAAAAAAAAAAAAAAAAAAAAAAAAAAAAAAAAAAAAAAAAAAAAAAAAAAAAAAAAAAAAAAAAAAAAAAAAAAAAAAAAAAAAAAAAAAAAAAAAAAAAAAAAAAAAAAAAAAAAAAAAAAAAAAAAAAAAAAAAAAAAAAAAAAAAAAAAAAAAAAAAAAAAAAAAAAAAAAAAAAAAAAAAAAAAAAAAAAAAAAAAAAAAAAAAAAAAAAAAAAAAAAAAAAAAAAAAAAAAAAAAAAAAAAAAAAAAAAAAAAAAAAAAAAAAAAAAAAAAAAAAAAAAAAAAAAAAAAAAAAAAAAAAAAAAAAAAAAAAAAAAAAAAAAAAAAAAAAAAAAAAAAAAAAAAAAAAAAAAAAAAAAAAAAAAAAAAAAAAAAAAAAAAAAAAAAAAAAAAAAAAAAAAAAAAAAAAAAAAAAAAAAAAAAAAAAAAAAAAAAAAAAAAAAAAAAAAAAAAAAAAAAAAAAAAAAAAAAAAAAAAAAAAAAAAAAAAAAAAAAAAAAAAAAAAAAAAAAAAAAAAAAAAAAAAAAAAAAAAAAAAAAAAAAAAAAAAAAAAAAAAAAAAAAAAAAAAAAAAAAAAAAAAAAAAAAAAAAAAAAAAAAAAAAAAAAAAAAAAAAAAAAAAAAAAAAAAAAAAAAAAAAAAAAAAAAAAAAAAAAAAAAAAAAAAAAAAAAAAAAAAAAAAAAAAAAAAAAAAAAAAAAAAAAAAAAAAAAAAAAAAAAAAAAAAAAAAAAAAAAAAAAAAAAAAAAAAAAAAAAAAAAAAAAAAAAAAAAAAAAAAAAAAAAAAAAAAAAAAAAAAAAAAAAAAAAAAAAAAAAAAAAAAAAAAAAAAAAAAAAAAAAAAAAAAAAAAAAAAAAAAAAAAAAAAAAAAAAAAAAAAAAAAAAAAAAAAAAAAAAAAAAAAAAAAAAAAAAAAAAAAAAAAAAAAAAAAAAAAAAAAAAAAAAAAAAAAAAAAAAAAAAAAAAAAAAAAAAAAAAAAAAAAAAAAAAAAAAAAAAAAAAAAAAAAAAAAAAAAAAAAAAAAAAAAAAAAAAAAAAAAAAAAAAAAAAAAAAAAAAAAAAAAAAAAAAAAAAAAAAAAAAAAAAAAAAAAAAAAAAAAAAAAAAAAAAAAAAAAAAAAAAAAAAAAAAAAAAAAAAAAAAAAAAAAAAAAAAAAAAAAAAAAAAAAAAAAAAAAAAAAAAAAAAAAAAAAAAAAAAAAAAAAAAAAAAAAAAAAAAAAAAAAAAAAAAAAAAAAAAAAAAAAAAAAAAAAAAAAAAAAAAAAAAAAAAAAAAAAAAAAAAAAAAAAAAAAAAAAAAAAAAAAAAAAAAAAAAAAAAAAAAAAAAAAAAAAAAAAAAAAAAAAAAAAAAAAAAAAAAAAAAAAAAAAAAAAAAAAAAAAAAAAAAAAAAAAAAAAAAAAAAAAAAAAAAAAAAAAAAAAAAAAAAAAAAAAAAAAAAAAAAAAAAAAAAAAAAAAAAAAAAAAAAAAAAAAAAAAAAAAAAAAAAAAAAAAAAAAAAAAAAAAAAAAAAAAAAAAAAAAAAAAAAAAAAAAAAAAAAAAAAAAAAAAAAAAAAAAAAAAAAAAAAAAAAAAAAAAAAAAAAAAAAAAAAAAAAAAAAAAAAAAAAAAAAAAAAAAAAAAAAAAAAAAAAAAAAAAAAAAAAAAAAAAAAAAAAAAAAAAAAAAAAAAAAAAAAAAAAAAAAAAAAAAAAAAAAAAAAAAAAAAAAAAAAAAAAAAAAAAAAAAAAAAAAAAAAAAAAAAAAAAAAAAAAAAAAAAAAAAAAAAAAAAAAAAAAAAAAAAAAAAAAAAAAAAAAAAAAAAAAAAAAAAAAAAAAAAAAAAAAAAAAAAAAAAAAAAAAAAAAAAAAAAAAAAAAAAAAAAAAAAAAAAAAAAAAAAAAAAAAAAAAAAAAAAAAAAAAAAAAAAAAAAAAAAAAAAAAAAAAAAAAAAAAAAAAAAAAAAAAAAAAAAAAAAAAAAAAAAAAAAAAAAAAAAAAAAAAAAAAAAAAAAAAAAAAAAAAAAAAAAAAAAAAAAAAAAAAAAAAAAAAAAAAAAAAAAAAAAAAAAAAAAAAAAAAAAAAAAAAAAAAAAAAAAAAAAAAAAAAAAAAAAAAAAAAAAAAAAAAAAAAAAAAAAAAAAAAAAAAAAAAAAAAAAAAAAAAAAAAAAAAAAAAAAAAAAAAAAAAA=",
           "dtype": "f8"
          },
          "coloraxis": "coloraxis",
          "size": {
           "bdata": "gDDVcavV0T/g4q+vUYbRP/KBWv4XjdA/3OV6fkbAzz/8thtEl7POP1lFxkeplc4/KW50PmN5zj+2scaj+1jOP9pz2WEdjs4/JJAweC1Nzj/aa4P83ArOP+6uRsqZls0/TWrxNBqFzT8lJjS4eW7NP7G+VwgqRs0/gY7OBTkAzT8pqhIlSNfMP+nvfY25f8w/zJFQH3sxzD8L9fjy7ezLPziod+rAuss/WjqVpPRVyz9IFWOrHBjLP0nyWnDUyso/4o3K90Ofyj/3c04PwFLKP+qC/Gb8Hco/tCDpITLQyT9Zunm2dYbJP8XK6DxDUsk/YMCTwUgYyT9X7E57yOrIP//jHOoqncg/seWHDLdgyD/GbN+XnA7IP94WLOIS4sc/BoD0ghG7xz/sLJxCHqDHPyq01xldlsc/wxrPswB4xz9ykKavLl7HP6Mn4YLIKcc/pdZsQXT9xj8QEA5SIcPGP5GPYW8An8Y/sTbWrSB+xj8Mu2xLCGvGPxiHn1vwYcY/W1DmJMhFxj8qNEYJ5DbGP+iQnsQ8EcY/fr5L4g/ixT/6iGIEMLfFP1EdjsfIk8U/VD6lVAJmxT+oDgVIsELFPxpHjBVShtE/cCWUI5cU0T8w6mv8Fw3QPz6533NUVM8/9NH8WEaXzj8PL73VZ8POP23UUjDIZc4/sxsDN3Jpzj9gfzk5UXzOP3xjPdI6ZM4/XGsFomUkzj9C1gYsEd/NPznrPeaK380/3FpdASOezT9j+L0AXXTNP1MAD0aVSc0/uBkRQ5gSzT+fe2DsFdPMP9IytgyEbMw//7urpKM3zD9XD6023ufLP+ARukTQncs/Z4nyy+Bhyz916NtrSx/LP6OT8P5j3so/+oSeWsaPyj8cExCTjlXKP4q8uuSHDMo/6BFs4vTeyT/5ZSCKeZLJPxb5sxWjYMk/7qjgfzcOyT8PQ9pe2dPIP2jy5Nn5mMg/xzgYC2FWyD8DiwKAojTIPwvePxA8+Mc/5S/vtUT7xz/9UGMaHdzHP4ikAghqzMc/avDS3Pegxz9jLqxPiWHHP3Q5h0sWQsc/yqnCaOALxz/DKwJla/fGP86cS9AJ1MY/XYbvOMG+xj9j38FmqKzGP8xqqA3tnsY/bhozJa6Gxj9kR1LVaFXGPxUW++Y0KcY/ElEoZZL+xT+xjw34+t3FP/klDcDXssU/XSMp5niPxT/2FRSmF43QP7tCaloXDdA/rmyEDp+tzj8YqKyC4DzOP6IGGbCo2s0/LNscIIbMzT+qpyq1253NP/TBRSflis0/ooD5cOPJzT/Mtq74N7jNPxWGdV6kqM0/rXOMjCR8zT+/GrIzQVbNPxtvCO+MGM0/brYWZ88LzT+J8VtDzdbMPwR4gb+puMw/7aYWdBBjzD9F2cx1jg/MP0V/cr1bwMs//ODo8qaLyz8JRsenAEbLP9bKTX2UFcs/SlSOxBfByj/+mLfVP3/KP0Ul1swaLso/AKYmFTT5yT/yGSk1/czJP/zIaur0iMk/h4VC/oNGyT9FH9MNUvLIP/bVsJzts8g/ieQwb0B8yD/HJqTkdVDIP9udWah9Gsg/yX97//7kxz/byD3HlsjHP7A9cv32t8c/G6lxZnuoxz8zs0rKjIjHPx0x0e7nUsc/Kuk3SbUhxz87Qp+pAQbHP0UkQeS24MY/grqpO1nKxj/xjGz3lqbGP4G+B29IisY/f2RpRuCGxj8Ev4cQH3HGPyzMfOfWTcY/9GnIrCEgxj/N5i9S1/TFP0uEXWftzcU/02Zn4PevxT8V/CnZuIXFP14u/uxjWsU/NVAAc0jAzz9KIr0iVlTPP+0550jjPM4/lW0RFr4dzj/o8pm+DYHNP9xK1wwimc0/qvuZBgZRzT/dEUL8c2bNP1K8EnUIpM0/dzhn1J68zT8O6pBAScDNP9loZ8AKbc0/Vsp3cSRHzT9aXwkMTiTNPxgWPGMICs0/SyyHjUDrzD+j/YgxVbTMPyvoqVI4b8w/lNfvdqoBzD+p4Rlbb8vLP9K8XyXMmMs/JjhS6HFdyz/rwGFPmRnLP69yBRDQw8o/Uibi7ut9yj8ckY2zwTHKP9XkPY8ZF8o/NwL2wObTyT/AOWIjcJjJPztP9JJCNMk/hEe3XdXyyD/jcUFxWLbIP9CMJ+hgjMg/KGqrZjdryD8vVWhN/SHIP0vidSebCsg/7+O+nFTbxz/VxA9lh9jHP4wCY21kuMc/Xw0M62SNxz/AEUQEoGTHP+fjzUcRN8c/MNRoni4qxz8jnehSAwPHP04sj3so68Y/XeuhI3/Axj/qruPLLrLGP8Gv8KrnpcY/RnHb7L2Exj+sQcwM6mPGP9KnX0KyNsY/ay/WaZcOxj/XCbSQ/enFPwWR2H31y8U/VOIPxtGZxT/Tx+QK0XjFP2fCbzCbs84/pcPw00mXzj+LISMjrdrNP97rH2oPgc0/4BezN7MSzT+ceglgSxHNPzojrgzF9cw/9Q4FjvoNzT91kI7zl3TNP3w73VxdoM0/zB939TN9zT8vpUnf2yzNP9Wbj7anIc0/lMiKGn7zzD/XnLy0Eu/MP+ndETnguMw/KQrzc6uRzD9RM1gj/jLMP0RRWxyZ38s/+vLbHhqsyz+G8GscZoPLP6Hgm7v1Ncs/P2dSSqDwyj9n9EjkBJjKP8hLz1b2Vso/KDQ5Rs4lyj8kt6/Te/TJP254Ee77uck/18ShgJFdyT+0espHiwzJP0B3ejxozcg/k8DsiNeeyD8VKBy3lX/IP89y7qgoS8g/gOAHHlkgyD+62xP3ufbHPyBJTxx61sc/NcMtJWTDxz9pknuFypjHPwRueSQ+esc/B+XmBPhUxz/D+DEX0jbHPx8VFX6EJ8c/djSZIcn/xj9K90GcBuHGP5fBg0/KxMY/JBCph5Kuxj9F16UOIJfGP23sTBuBeMY/J9Oglt9Xxj+MObUf/C3GP6VTxp1YCMY/+B5GBhvkxT/945MfGr7FP6OYmi5llsU//0vByOl0xT/j/gi/q5XOPzv2QQpqw84/x2nEAInMzT8fMLXLJJnNPzhWZXlMEc0/GDgAVrY0zT/0msBMaRnNP0sesQV7V80/l0UCD/DJzT8G9gV9bcrNP0KRlVuupc0/xJkRtOduzT9BcUuJQlXNPylsNw4zO80/5YQ1mqsczT+2Ej2gGPTMPxXwy7sPscw/zKym3ypqzD9ZTkIJNBnMP3fwZOMV7ss/zONW66+xyz/3/6EzBGLLP0tg2d5EGMs/SxzVthXEyj+h45YaCZzKP1aAC319VMo/eDYlUA8qyj+VKGhgdM7JPzNU2VnBg8k/Dens+cM0yT80+/rThgLJP8tdv2zB3cg/BchqEsqqyD+aehxWm5LIPz66LYX0Vcg/UPyORxU6yD8jFi/uNgrIP0FdK1e068c/DKYhs5LMxz/zWEsdbLDHP8XWtCNHmcc/MnKkIL54xz99Z/6db2fHPwX0OAX7OMc/GsHy8FAnxz8JTq1/TgPHP85Z1w354cY/O8SBIiDMxj/3f4gXH63GP3+IasrXjsY/3VRZiP9mxj/cPNY2U0HGP7dW228dFcY/M1dXgXb4xT9LE1Y8I9DFP7JkJNESrsU/CZdfsGZ5zj84LAzKymXOPwaV9XLgnc0/YURqPwpRzT9Hhyaxx/XMP5JiIVpqGc0/gMxyizQozT9n9YP+MHbNP2CZ9JXmvM0/I64+ivu7zT8rs1m8CrDNPxuf2nTVbc0/vVYk8GNozT/8muNXdzbNPyhoAaxvJc0/PxZBmVPizD8sYdeAVrbMPwAtUSHuccw/ZdylzeUqzD8SroWGJu3LP5Bjnatyrss/YLzCbEVbyz9TE2MSuxXLP6MA1aE328o/yBbUBledyj+QUb05yl3KP3HpEm+4Eso/bf9lr7nIyT9nUPyuE4DJP3s+CAeZPsk/DbZdBnoWyT9mCDHn/N7IP/upzIoCyMg/6F3sxg2eyD8903q/2G/IPzH7bBbiRMg/H3KFSC4LyD9kj98p1vfHP+z3NMRr28c/yaZT7RzNxz+9ojfdtLPHP8aJ8Fkjksc/KgTuQ8N5xz8QMoPU6VjHP7ly1X+RP8c/HylSmGsRxz91+4RmQ/LGP2/aJXIC3MY/Jru2Cny/xj9z7AdQAqPGP3EHxdJie8Y/5QE8UiZOxj/Db0eFdSvGP0lgqWcBDsY/W6b2mIHlxT+Ew6vs5sDFP6VLosIJWc4/U81kDoJpzj+Li30l9orNP2g5Z/2DZs0/msZ55wcOzT8oV9ethlfNPyH6lkA7ds0/2f+8TSiYzT+JwVryeNnNP0adk3ew7s0/7uZ6o9LUzT/Ex+S8HafNP+UkFXxniM0/Eamj16xjzT9I6Xns0zbNP2lBqZfFCc0/7A4ioKjezD/hoKSABqPMPyGVtxMNSsw/lWk7pooJzD9cmnFCUsbLPz0BvtAid8s/J8WfgOZJyz/T+alVHvrKP9oMoNtdw8o/AcQPQwpkyj/VzJCEXCnKP+oybYUB4ck/TVKiEhSlyT9EVYB1sm3JPxjaLHz6Msk/0bSu8McWyT+AzTY5AO7IP3k10u1O0cg/PO10FJ2UyD/ZQcTckl/IP29rBZxqMcg/XgJ4kBIgyD+qokQ89xDIP7E/qCXk/8c/p53zDADlxz8bpiZ0yrzHP7L9PzfOsMc/ij0xoLOIxz9NPgiZ4GTHP9NicmIQOcc/mhMk9pcZxz88stvRSAXHP4ZC1XdG6sY/VPblSnnNxj8qfq8IV57GP2HIcwNIesY/U/JmWdNWxj8hpv5HsjjGP4sPrwTCDcY/ZpODWwXtxT9Qhyw1Oo7OP10wV15ufM4/5/KANAHKzT+N6xcRJKTNPw3fTuGwdM0/Ij6i1wbKzT/uPXyS+7zNP6nin6WD2c0/fcMH2S0tzj8nsJyWRDLOP3pFAA1YKs4/9O+UB0XkzT/JcpgZKtHNPygA5EjrkM0/gvQrI3B4zT+yY5F6sEvNP49P3mPKJ80/5jCgOpbZzD/KzVE6X37MP9rKhYUFOcw/fi/PacT4yz/ev+jab8HLP6Yv085xfss/S6m2aes1yz/FaZ+ISN/KP5iQwqxpkMo/OMkAnYRWyj9+aCGSWRrKP7tzh+Ld58k/qNl9hHKeyT8faZojXH7JP1DQ92GVUMk/olwXN4Y0yT98MWZmywjJP/XfScqOwsg/86uZyXaYyD8s1p6C6GzIPwITUsEHaMg/E/Rf/QNWyD9il4JOAUPIP+J2fgwxIcg/Np6M5HEFyD8r2P/ifPHHP9DzwrZpv8c/ORiNoV+dxz8IRL8AfXHHP2GvZJgLVMc/HKD848pAxz82HpwTQiXHPz/B5iCcAMc/SVvphGDaxj9CjeuaeLXGPzSCui9nkcY/Kxe1w2xwxj9CbwDIVknGP8n2nnLQJ8Y/jx/i5lBNzj9/grsuXmTOPyJ8Ua1buM0/T90HMMC8zT++Oe7xe6DNP6c265qJys0/r4ZKuxW8zT++UC8+wO7NP11YyxdKMs4/oaOvDuVJzj9xfsTQzSnOP8j5eJPP8c0/52vaa//DzT/z4QkLsJnNP74qWIPkgc0/ORxUf0ldzT8FtyGXDyfNP6/vhDLt1sw/dNThNGR4zD881j10sTbMP4o1hVEjDsw/rK8trD3Cyz9nOibehYbLP2nWsXGRH8s//0Ndh1HZyj8Hu5tLTIzKP/D8GaFxXso//FtVmwgsyj8O1oMWC+jJPwdck+C0uck/Jp7zdeWIyT8EjSzmP2jJPz9AKLXRPck/cX0S44kIyT/16gjj583IPxOHnieepsg/BRVESYqIyD8HGDAd+IDIP0cW2V2Bbcg/dfX8INZTyD83W8FUaz7IPz+ffQmrG8g/0pfU/6D9xz8Tf9vX/c3HPyrvtKXdq8c/IPOhq5qCxz8ayHVayGbHP+RpfzYZU8c/oWbvEhcwxz/yEh+6GhTHP308d91R7cY/i+HJQhLIxj/z+stkmaHGP1+iH11RhMY/IrNEadZcxj9V9sx9XkHGP+Dav70BC84/CWxd5okkzj92BEoIyajNP/n8wpxrwM0/2JJmbFN9zT/4IaRfy6XNP7KyjLAlsM0/OfoNs+PUzT8nJZ8yXyrOP8uzeYPPKc4/UT+I2mUXzj/q6oZxdMbNP9kex+Sbrs0/Oi9qvhOGzT9G+fFhXXbNP9S7sH4QQM0/QnaAhq4HzT+WZqrHRrTMP/+WoXlYWsw/izkyZ4kwzD+0nl0SjPPLP7SNgY9fr8s/hNmifnVVyz/pduLyWf/KP5XUPQfyuso/BCUyMpR6yj8NjJPlQ1bKP6sAM7fHEso/5giPkJ3pyT/2p31XXKvJP5TauRrWh8k/9AyIOltZyT+Jg+LKrCXJP754LgaY+8g/v3KWaFXEyD82HEKFcarIPyuWKjmZisg/8+TJz5SByD/I7sQSyGfIP27abIJWWsg/wPvoUQo+yD/CyBTr5RHIP0qhW27p9cc/ZQDfxqvGxz+ZxYGbB6fHP21yvprOf8c/setX1PFjxz9VpDkv3EjHP6Pi16l7Lsc/mSH9wdMRxz9xhsoD3erGP5v12gdjw8Y/J0U+Pc6gxj9sAOnEAIPGP3bj4ai8YcY/s98ETBhExj95yQx52pbNP55YGOJP380/2Hrmq2J8zT8GvP1PRW3NPygKjLgSLc0/cD3KLhtvzT/husBYBm7NP5ka0kREp80/faS+MmHkzT8Ka9vK5fHNP/+ZFnaIxs0/Mu75pyqNzT9XkQnKd3fNP1ETMD4oWM0/fr4e3gM3zT+F07biKv/MPxsJV2SAw8w/J0Oi6NV0zD/xJPTqojPMPwh1Ua4F9ss/Nid5BMTAyz/T8p1dKl/LP9ScjIT7Fcs/VNcM213Cyj8MzD3AoorKP0MQksV8VMo//c1V5UMfyj+hRyiSo/bJPwHAFZnhvck/SJwaoV2NyT8owh/hgVzJP4yysUo7Jck/OMhBGd78yD8qG5geANbIP0jd16aYrMg/6HPaNSKRyD+GVDPEr3DIP8Rl5ZN2Ycg/g6lRIQdUyD9PEyYt3T/IP9OPa6taGsg/azPnbsHwxz9pezwY7dTHP8kRchmbqMc/PDWjqfOKxz/xpILNHmTHP3XiTRJTQcc/C9g7OMkuxz/dPJlp5RPHPz+z35oA98Y/VuBdCwTOxj9cXix8iqrGP1PypFe1h8Y/MynGo/hvxj9v4jkI00zGP7Njv0D3McY//lLkeXmFzT+hk2FR5t/NP6Aa88uaVs0/jZ95QXlHzT97YoL79yHNP3JuymCOVc0/T2mJYKxozT/MLeYKpYjNPzpyfaJc0c0/0UZIkivEzT8TZwg7xa7NPys2mgONd80//3WB4eppzT8MZie34TjNP2v0hwsgFc0/EJ5ySXLZzD+/lwv+fqHMP7viIcq8asw/N2rkH+sVzD9Z3i1dlN/LPwa/FZNhjMs/U/qhUjU7yz8advXJ4/PKP4rTuXvYrMo/sXeKfb1+yj/0x3013zfKPx55toWtHMo/zNx5/UjkyT/CWAngwLjJPzhiONEGe8k/Hj0huzxByT9OQMk2/hTJP6JDynGF78g/ACHFNsrVyD/x0ePd66rIP3hQU+qIjsg/3TtgYDJoyD9GOCZlwGTIPzdpYlBvUMg/Qz4YdcYyyD/m1x8YdA/IP647AuYZ5sc/G+v3bpPMxz8l5JQnT6LHP1r8avKrhMc/0G3jyAtXxz+HkSY8rzzHP/PWdTBOKcc/pPXh2fsNxz9qRIeJvO7GPxVMNEWYycY/YFVhTcClxj9MzcJZ34jGP1X6afjxbsY/V07XTodOxj/UBlEXXjXGP2fiTH7Ybs0//tGHoH2ezT9QoITI5RjNP1Na7meiJM0/6lRtNs7zzD+EeBUzfzvNP25TYlTANs0/dYSiHetjzT9YxvlEHpHNP59uvOzcmc0/wb6fFT6GzT8QR73BPljNP1+ypojjOM0/TRAQ4PAFzT8QteWDQt7MP3OSCcySpsw/2Wk6wTWGzD+d79a06DvMP071qGsG78s/1V49gh+byz8hfLCDI1jLP9YSxzMmCcs/e2S0gjnOyj+TiksvOpHKP8c7sSGDUso/mU0C7wQmyj95nmEdEPvJP5jtti3uz8k/0/Vv9lOXyT+5WC2jIVHJP9Ie9kV3Isk/WESASk/5yD9Mtnpl+uDIP3aYjDyaxcg/zFZaWkOayD9T4ir/FXjIP95YT2MJXsg/vSs6orhTyD/JPmgTIjbIP29unHKYGsg/ce5DfX33xz/4+inTy9DHP9O12WcFucc/qN+cCh6Pxz93VkIMqWrHP0WsOX+uRcc/G3vRHMAqxz8x4N3G5BbHP1Gmb/1M+cY/m7mSS7zdxj9vJOYLVbjGP893tn93msY/ldMYwJp7xj8yu99AQ2TGP9LlL4S0RcY//RkjI+csxj9rVkTJh0bNPyjNv722dM0/6xVeuicMzT/ekkloXArNP1O7BP5i78w/GlGHA/gczT9/dejzuCXNP8xos0ASN80/6seA2KN4zT//uBpQEoLNPw1gy5mIds0/vS8gsxs3zT/JeUd+IxXNP/V+TzdE3sw/rDsI++G5zD9vLfv5dpnMP7Tmz+vnZMw//rSkOBMizD9ujf2+/LfLP9EOyEULdMs/x3j8d8Myyz/ed4xxEvDKP/HzThy4vso/uR9uW1dxyj/erEWVg0zKPxanpwCMEMo/qTsuz1fyyT+F25TRFLrJPwJ7jZXWeMk/bm2OIss9yT8IFWFQHBLJPzOCbHrw9cg/I+1l9tLbyD9xpZnxjr/IP97JkM6ojsg/YMYHXHl4yD+XbzNl8lfIPzfC9ZQiRMg/coP674soyD8GkhKd+QzIPyWPkzZK7Mc/2H1jQn7Hxz+FbrPQoa/HPxIuH6kgf8c/DOuBVPlixz+vpXgfjj3HP0ykp/o2Isc/g9ozKOMLxz9NbqLa1PHGP/wU9HzA1cY/HoZ+MTm2xj/EKcSiWJbGP4yLgpYResY/DxPqbFNkxj+DNUCzKUbGP3p6CsyKLMY/l1CzfZUAzT+9dmg47knNPys+2OMk18w/6gSPZ5TrzD8hgkBnMLnMP+IS/AFl9Mw/yzOFeJzizD8B/JZHBArNP0TSTyflS80/dju8THhdzT+VLR3LPEDNP1OyMQhE/8w/SCtfTHfZzD+3Td0SlqbMPz/JrZJ4mcw/k4I+PDdlzD9DiGEb+zfMP9b07PAS2Ms/UzBCJ4V+yz/ctt4piDzLP+IVCjp2B8s/9/Uls6jOyj+o/OGF+ozKPyMaSgzTWco/Boyeaqclyj/vG9DT4vbJP5fHfYuSy8k/GwcMoN+KyT/dVyYHw1TJP6DzDT8QHck/2DCZqX7+yD/tqES5zODIPz6Q/Qfyxcg/Xobr1wWkyD/r9TA0cX/IP91DnNfnYsg/tVxw8oQ5yD9oUgt9qifIP46FW6ovDMg/kgdiCgLzxz9NLl/VNdTHPxoeEFiwr8c/ZlpALxCRxz86AMunG2nHP5np5MB1TMc/rZh1E+4mxz938TsKZAnHP7gcBqKL9sY/ArIwyQ3cxj/1k7jBtsXGP/vZlzNPpMY/btHNPhiHxj9XYQKrlGzGP0JhuiEnV8Y/r9Gykls4xj9zkgCcux3GP13x4PGk18w/D5vzYvESzT+A+Mb/AbnMPyUOWY6ptMw/1dtSP/yRzD81onruXLHMP5COaWqgtsw/0ZDmxujezD+Y16KZACjNP3qb3fg/J80/LgxJVdwHzT/NddBvm8PMP2KVokSGocw/plAoLTuGzD8lWXyT62TMP8hTsxT9N8w/nmCAzVTtyz/oznhMvZ3LPwkopcV/Rss/pMMuYbQQyz/BG3Q+QOXKP3setXhNnMo/1UQYrIh0yj8B6hi+WTLKP519bOcuC8o/yu9Jz6fPyT8rYa7euJvJP8uYlRkVZsk/d3LRTDUzyT8YzaJcwgjJPysxVPy46Mg/dfe4hVzKyD9JBsN13anIPwElDhjsk8g/Rikac0lpyD/aPi1b4kPIP3Z4M3TRHMg/Q0YRVuoKyD+nkkQ/0fHHPyovVmtj2sc/dC5lScO7xz+D76zbvpDHP/zGSbJMesc/lV48WA5Sxz+g0MMlJjXHP33JE6CcDcc/mtPtaqfzxj+1Rcd2QuDGPxXdaLFvy8Y/Abcg/BSzxj9VJ7j5V5TGP13jTtnkeMY/8E7EtMZexj/2uTMpk0jGPzc3VoPfKMY/M4m0WigOxj+EiiBNFYDMP2jQrI9u08w/nsxKIGhjzD8Sgtc2jG/MP4vSX4lOM8w/qcXw43dqzD/7F0NCOHLMP5R37NRGo8w/HHVJ4MzZzD8VTxcDHtfMP6ipdAh1tMw/NohdrvF0zD9fDNsixWrMP0W0kCPvO8w/u/qE4xcizD/JQGoFFtjLP9+YqGG+ncs/6FU6mJVQyz+JcmA1IwbLP/4Er7xB2so/3NGOK76eyj9COul5AnDKPzqD9E1POco/bxj+H4sEyj+YwX5Mw9DJP8k6Uhgdjck/fmOi2DRkyT8xdCMq+jHJPyZAp/VmDMk/LxYgxODgyD9Qm/M6asDIPxSStWqwnMg/6qktB0iIyD8n6Cj1QGzIPxcmkEgvOcg/dXkrUC8WyD88kYgQk+/HP+79mc4Q4Mc/4WP2lN7Ixz/8K9/7pbHHP1vF0BycjMc/+2OCLwxqxz+lZaSDK1PHP8YkogP5Ksc/Y5GpWw4Mxz/SG+IYWejGPx0qGUIWzsY/aUBuaVbAxj940TtvnKnGPwRrpTzek8Y/KGRekwF3xj9jZtPsEFzGP9Kb8tdbQcY/arUbSjgqxj8GoVk2mQrGP4qnO3Ro88U/sgUqE9YxzD8MR3vV22zMP/VfQVXlD8w/KHSmnf0BzD+zvWn26N/LP6xnCseAGcw/7BiFhi8rzD+QLsxFTUrMP4mIlb+Vfsw/LgO0+5R4zD8ZF/m+hlrMP3x3Ffu+M8w/tujsE/QVzD8OXYdyDe/LP+RwGwoCuMs/XpBX54h+yz/Sgg+RgUbLPzFalv8jBss/N5w7MQvGyj8FG0rvQorKP+0fpKnhaMo/IVZzAXcryj+dR/IgHALKP9pFQYQQwck/74VL0S2FyT+NDK+72kzJP04sEuhGJ8k/X12+DWUCyT/u1FDYxdvIP2U1xrwVsMg//9wfameKyD/NE2C33XLIPwFI5P14WMg/Y4PVt+szyD+dYmA1gwPIP3iIyMz84Mc/dqkzyiO9xz/6YFJxeq/HP40DBZWRmMc/k0d66O96xz++3+vRSV7HPxSEHduJO8c/NbUAQYYkxz/J4tApjPrGP5wsioxf38Y/CBcebY+7xj8Kjr8ME6fGP8nhKgRml8Y/igkmNU2Dxj+QBgUwWW/GP5qM5RIQU8Y/kR+hNpk3xj9hLUogExzGPxdg1svwBMY/CIf0D+/oxT9f7jPtHtLFP+5NhPNI7cs/oNCriPs3zD/RLuGsssDLP/ybl8TCy8s/kmCGd2qsyz+NzGcJY+7LP7yBU8pw7cs/8/vhWcsJzD9DtFNyPDnMP/dzf7niNsw/u04hPLgwzD9MmROYIvbLPyWnI42e38s/D51l1iebyz+6/dTiEXTLP4ZnZzyNPMs/h9vp/bcQyz8t/aJYRNrKPx3hNrdEiso/X5/FLlZoyj+mCH6P0jfKPzx9VkyUB8o/E2yahZDRyT8yWrRMZIjJP5Z+hhd8V8k/zjN8ZXsiyT9qKBsu0wnJP3Q1UsWv48g/uyAWAaS8yD+elrU+uovIP/UFnrgIcsg/8iQIG2RUyD8R74d+TjHIP7iFLr0KD8g/xw+tBiTfxz9U9QeKJ7/HP53KZUVGncc/XROFnZqPxz/ZFp8vKXLHP919xk6iXMc/DVXLNpU/xz8n7COouxzHP8sGp4WVA8c/WRUhU13dxj8YEgBO2cHGP8yYIaLLo8Y/Y1xgIF6Nxj8l9T93FoDGP1J2WjSibcY/77pUbwVaxj+jxPxuIj3GPzw/KqbFIMY/BDxdlzcFxj/YH7mGdfHFP06qLrbN1cU/3JX0BiHDxT8eu2QcHLvLP9i3Vlc26Ms/QDE1Of6Lyz/N9DAcIJnLPy5ZEu+2g8s/n/ZXn/2xyz9Vl1pYva7LPwfUQzGTxss/UBsAs/v4yz/h31gMVQ7MP6xj+2u788s/8H5Gw+HAyz8ezT+zbIzLP67ArNYsWMs/WFG3F8syyz/P+BZMfAfLP/vCXehE5co/9hD/yMGeyj/N1Q1w5GjKP/x7f4/TN8o/YWt4ckcUyj86i70Be9fJP2a5E+Mumck/9SntiCVbyT9PagBlcC3JP8CxPyKMBck/SW5gUHPryD9t2X0R4MTIP+Nt35aLmMg/mKFH1rxzyD+egWLP/FPIPws+ISi6Lcg/nu42o+UMyD+lxdXc7erHP8TBX869vcc/TXaIsaefxz/9dqYyDn7HPzcRr6W/acc/tP1IiV5Uxz8TvHljVj7HPyH+dhAaIcc/HOpWN0v8xj/DaD6To+bGP/5G7rA7wMY/OWZ2elKqxj9k200EeYrGP/0MuACGdsY/5QfGhsdqxj/uVMNSpFjGPwlTjERORMY/MPRSFIsmxj9FZbqYKArGP0VZma8E8sU/SfzOKH3exT/Qd1ywAsfFP9CvcxF9rcU/cvoInE9Wyz9qzFlnKJ7LP85i/C5YRss/7vRVAMZdyz+LmejIRjbLP8U4RQBSYss/dNgh4I9byz+7SF+dY3fLP4EXOlinwcs/D01GuW/Cyz+3P/5fj6/LP5G1r5BIX8s/F75BH0E7yz8TF1g5MAnLP7wSHRcb8Mo/+ICU1K/Oyj+aiZMIU5zKP76hRO4GcMo/EhcviXoryj9+5949lgfKP+zq1el718k/AEfd6KaSyT/uLeyCe1/JP86KE1L2JMk/AwwzpGQEyT+Q6TWMbNvIPzb0/V7ewMg/86P4dCSVyD/IdsLg8XTIP0IbGnNfSsg//EEV5i0iyD+sRk0DVP7HP6LcTBrk3cc/qgFlJIu+xz9BfmnphpPHP9ekw7fFdcc/UkQEYe9Nxz9my67ZpkHHP3JsYEbfK8c//AleqKgVxz/SLHgLfPbGP+lN0MFl1cY/n3Xg+Gq/xj/AzulJ0J7GP0sBcNAVh8Y/62404+dpxj/wZK4vqVfGPxBUAL05TMY/2leh4Gw5xj9LCbAyLCTGP7uImF54BsY/Vom5BY7txT+r1hhrxNXFP9fHgPBXxsU/3TAiby+oxT9RiSQZE5LFP9UtFpR3GMs/yFcCBTliyz//LRIC7BXLPyll5nftGcs/oEckRPHwyj/dW1N7khjLP+VF/VoFFss/KRtRdCdKyz/lT5izqX7LP5QlvHK4hss/h6n9uqVVyz8ncX5bGhbLPxSu5Xjw88o/Nlm8SkTOyj+IBKaLwb7KPxPp7G0Cjco/Qg908o50yj+KvntqVDnKPwHfXWogAso/QG9LOJPRyT/jjx+JMJnJP/LtrEJ8X8k/+YUAwpwvyT/sAYltTwLJPwjq3uJ94Mg/+egnnS+3yD+igWBTQpfIPwaP9J+Rd8g/euODQX5RyD8be+r6kh7IP32GUbq/+Mc/usILGEXVxz/qiLyxXrfHP971/3L0mcc/9NMtAmJvxz/rfpV/T0vHP46LuG6rK8c/1grqDNIexz/STRQOzwjHPwTG+kuH8MY/9ZrxsPHUxj/S5xIBo7PGPyogCy0uo8Y/lAnKPt2Axj96mtxspmvGP2t+LlM/UMY/jj4w21o+xj85XMWyIjLGP3QbUBpeHsY/uCBGyQcJxj9E6QX2wu7FP6xKD38s1sU/G+DX1X3CxT8MKQtGSqzFP0xzPk6NkcU/WYZixGB3xT/OtDhtLsvKP1PhjbeiH8s/XdiqaG7Byj9tQJU6I8TKP0vAY85UmMo/RBDjVmLEyj9ZB+0pgdvKP+6VO9Ne+so/t4E7KiM2yz/p8VDfwx/LP19bkhSK/8o/EYjJynzCyj8iPeTi5azKP3fUurRFkco/o2sggGFxyj9g8QK021nKP6mZcKRgMso/cRhuBpEEyj9t3NyOFcHJP9vjo7xniMk/Ws727SdbyT/QwqMN+CTJP56z/GhQAsk/D9N81Q3UyD/Ge/DN77HIP6VC4JmSg8g/OI/Nr6VvyD8hBZmpMUrIPwXJCg7VG8g/RXuoRoLrxz9VGgcBL8bHP1vocblgpcc/ysPek32Jxz+Vb+8ncWzHP+/q7e3PO8c/2/j2jvQfxz8uw6+rFQDHP96vQ+j98sY/zkUymAHbxj+WZtBsTcbGP3h3kYuBqsY/xhbqGOuOxj+OceJboXzGP1Tkv3wEXcY/wa9z+opJxj/NsBVprC7GP2GcUJInHMY/XGySRvYOxj8M0wM5KPvFP4T3DpAx6cU/joDO5VLPxT8gUMM247rFP2Ri84mSoMU/lL8hXbqNxT9T4fpTDm/FP49vNKOsVsU/d5w1Qp2fyj83Zwalut7KP0HSzauVf8o/mmNjSD5+yj9tkd+BRVfKPzToUx1VnMo/KFjpG6Cdyj/Rcdg4nsPKP92jFvR/38o/RCZRv4PZyj9oxjb9IbvKP04mYt3Biso/4fPgWst+yj9UY2Qoj1LKPzsf5EuOTMo/SMmwpbAlyj/CDm2tNgvKPxjduwrK0Mk/Mj1orjOFyT9bbQBegFfJP01FcbJzLck//ftdTGcEyT9Vjb+xf+DIP1EfjKnwscg/96Q7z4eKyD/QsNDsMWjIP27BRDI5Tsg/i46rM1sgyD/3vPEpafTHP+LBGcCXxMc/p2vK1Nahxz/nnpva9YLHP4KTulJOZ8c/wzIOgvJDxz8loA+VjxvHP7mfD6ZT/8Y/nkmWnlbfxj8jiUkmEdDGP8t+AQ6Mu8Y/nu+s13Smxj/GmH/MNJDGPzrEmyzXcsY/qQBM3fdixj/6f95LIkXGP7alHM4DMsY/WEI7iI0Wxj/L0Va7DwPGP9c6gvKs9cU/kU1nRiPlxT9V7IusZtPFP/0xjpicvcU/jP+Qp4SixT9L4ZRih4vFP9F8QACddMU/looKF7hXxT+BqCsFwj/FP9KJOuIYU8o/CdpTYxyQyj8i47z3by7KP4uxDHITMso/aG7/8Bwmyj9lhlsYyVTKP5Oo9CATXso/SHVVHkpkyj8tAVWvoJDKP4RHJy1+jMo/768AEsR6yj9YYUcInFTKP5vDyF3tN8o/GWypXxEmyj90hUYclxDKPzojo3Ps9sk/AE8V5q/PyT80A24bJI3JPzEpcuHgTMk/VsuX9n8iyT/zZOK+jwXJPysXoUZv28g/XXHogzG3yD86E4+Lk4PIP7ZD0gIyaMg/utDkRRNAyD+uAJsHox3IP8Bhbe8/8sc/JwFaCtPGxz/m57k3xJnHP4rnqfoHecc/kXp6rX1axz/VuUyCljjHPz+2gb9bHcc/acMEmc30xj+6467Yd9jGP9uWms6XtsY/75zJ8r2qxj/hHgUN5ZXGPz15w8ZPhsY/l55F40Zuxj9iruHigFPGP/wneb9DRcY/RghjtfQnxj/umzhEMxTGP/fcPPPr98U/YEVRr1zkxT81ORDbM9rFP/e2NT3rycU/xxEvTTC8xT9OCwB505/FP8228cUWiMU/g/eyQSJtxT+t6/sx7lfFP41SioyKO8U/xIfPqoIexT9QtSaWVB7KP2TuidzjVco/MMzmgoj5yT9AQKm+ahfKP/uifBLK9Mk/VrhSuFoqyj91sk+eABPKP83msLCbKco/61iCH7tWyj99j1uJo17KP8wljeVzVso/f61UYGMfyj8t1ZzSuxzKP+3KL6Yc+8k/Xub8SWPyyT9otad7nMvJPwjboQTBm8k/E20n7jtkyT9Ypv6LTCfJP1bk5kHXCck/RGSVy3bryD/skvTz4MDIPztSbyNEl8g/eINkfKZvyD+CFXDrOE7IP0n7d6aiHcg/UmBzbGH9xz961OUiW9LHP4XG2w5+qcc/bL/tUG5+xz8EcKTx6V3HP/LItZsHOcc/2rC6yhcfxz/HxHDlaQPHP8d61mbI2sY/rmSgG2e8xj/0wna+CZ7GP3PNucuikcY/5BYv5CmCxj+4dRpTnHDGP5C5PFT+WsY/zVUk/d9Bxj8JHDjS3zPGP5O/ETn1FcY/sJZoSDQBxj+zctoM3+TFP0w+n4CB1MU/kH0/dm7KxT+nkNSOCL7FPzfBFl2UqcU/dLDXL3+QxT9z3DmrvnTFPxJBUG93W8U/sb2sSppGxT9Kv2XVJiXFPyvyjvzSBMU/eR24T4nQyT/zZUZB3AzKPwaNYcZQzck/k1CaKTfUyT8aVQqPSbrJP4doDwW/zsk/KqxGHwHJyT+jHtMaQOHJP8cACmmQGso/SCo97Dosyj9tDVEY+BLKPwQ7BGzD9sk/BtP111fkyT/Rd/sv+8/JP2BXHL8gusk/PgLRAuqKyT+Zrmi3HWbJP6ekPnIBMsk/IltV6WoCyT9VTKEktOPIP4AWYdXjxMg/7b3VSieVyD8vzbq0k3fIPwyZ674ySsg/ktSzNVsgyD8XIWPWP/LHP8bjD2lb0sc/DSTHlgGqxz8xBnMvM4PHP+zkaIGWWMc/E/sEOd4xxz8FXYFNFhXHP369GM/L+sY/p5s6a/3exj+IHQfUjbTGP0ABQ6e7mcY/+S5maCJ7xj8iR7Z6GnTGP2xgOybDYsY/aYFvZaNTxj/7E3PlsT/GP3YlvMwGJ8Y/GWniJVIYxj8tKNtxmvnFPyPXjCPI5MU/1OwGvs7LxT94SPbfrbvFP4CCr4J7tcU/W7jSPXGixT9ksJZzOpHFP4XLtNY4dMU/asbqLjVaxT/oxSfwX0HFP4DaF+ZwJ8U/uuwx9s4CxT8vJNruseLEPyWMzA3Mhsk/V3zfb0jfyT+CqqCqR4nJP5BJPNq/mMk/Pmebct5dyT+axN1oC4TJP2emeptagMk/JgaU/lKlyT8Y9Sc5FejJP7Ljufc96Mk/Qdm7XM7pyT9QYeYVAr7JP3jcjJfQuMk/jYs64GGXyT8zaFVz43jJP4kTymHOVMk/WeIOej4zyT+Fw9fTbgzJP6uwAj3M28g/FX/K9Ki8yD/4n3roj5jIPxzRQmP1dMg/f79qIIFRyD+LKHnv1hvIP9mb7Plp9Mc/bn8bvdPGxz+8CYM9f6nHP4qI+/szg8c/D7Sg5M1cxz/ZcAE4GyzHPwGrmiqDDcc/FEgEhmrwxj8zUQCL/dXGPwgPWk4/uMY/H86OJYCRxj+wakzEaXbGP8Omw5ViXcY/1go4d2dUxj9i2Q09fkXGPxZeSX35N8Y/ozifm20kxj/fApz2LQvGP2bhKy+D+8U/PaWmEtfcxT/Wi2MNSsvFP5b+HpamssU/NQnuWHamxT/JrPTNlJnFP9HZsmjCicU/u+lWiI10xT9hNcM2S1nFP5WB4ti7P8U/6kkhPuUhxT8o0de3tgTFP4aZW4ZX4MQ/nnkrqq2/xD+qMHmBmFLJP4o1vw7Mksk/nl6+ztVGyT9waGdUkTTJPw52hVzXDMk/EMNGPA01yT/624vy3z7JPxoicZDxbck/klLX/ameyT8oOsfK57nJPwFIlTeNq8k/o70EZ36NyT8kJ5EyF3vJP93+dEowUck/eACLxdg9yT8aCkd1HB3JP0qV+WfMCMk/fyxYoengyD9p43QdHbDIPyCD2SzAi8g/hWIdJ8JzyD9LXYQbZErIP/xZH/2WHsg/5OgKTIXrxz8ht8yzmcTHP4tIlA3Gmcc/Ohi+bXB+xz8p+kQ7mFjHP/jkCiccLMc/FzFLAq8Dxz+63UPg1uTGP6WgkvSux8Y/BWNHAVqrxj+TWMKMM5HGP0yfhrdZasY/iohtXtRUxj9mzg/oFTrGP5pPFMZ8M8Y/JlsIwTcmxj8EScypEBnGPx5uAEHrBMY/pIkeKNvqxT8owf18G9vFPyOr9NjUv8U/Fu3fD5GuxT8enPls+pnFP3Ks6/o3h8U/Eu2+eYN9xT+FUPzNuWnFP61dDl00VsU//pDQM287xT/K/BOj6hzFP8jzdk/n+8Q/9S3HA+3exD/gpahgEbrEPyLcQKqgmsQ/32wH4JwYyT+iAh6S9GDJP19Njdui8sg/E5vNOiPzyD+/XlN4s83IPyxYn4nPAsk/oTLAhcAWyT/9zOYeOTPJPwYeFeiSfsk/qLViyxeJyT874jx0BojJP+gTm3+iXMk/ELAtJU1ByT8TgWQEhiLJPzoDiiAqEsk/CDLAGIv+yD8H3tGmw+jIP6ilcrNzwMg/1rSPZG+KyD9dhvtLD3LIPzDpes8CVMg/rmjwPjMiyD8qiNVtxPjHP6po2bcyxsc/5OQzfdmhxz/88+94CnnHP5bjSbfsXcc/RIvNl+Axxz9chzy8hA3HP5bRvXzX5MY/5aVPodrFxj+Bjn6huKbGP6K697fejcY/u7dFD2Vzxj/ijjbkI1LGP58nx9LHOsY/wgNDnoMixj/gx1kFYR3GP+lTBDVjEMY/2SH1E30Cxj8xNXCqZu3FPyjqxJ1K08U/mLkdIbTGxT8/hP44v6vFP09FsUVgnsU/3gWHb0GDxT/pIUWLqHPFP0c6ITreZcU/V4MyNK9TxT+O3oDsgkDFP8bat2XBIMU/BfZU9gb/xD9egqEzNN7EPwKLo9idwMQ/ud0ZuvicxD/I+mPoynzEP5tRIPMb68g/CVtJa4gOyT99JMDsPbTIP0K60tiltsg/iwPQfSKfyD94O6jwCd7IPw+9ixxD38g/A8wT/QUXyT/ntomey1DJP7rghbVxaMk/gzOhRotZyT/X+9jMWyXJP0wIb6gOFck/HKZ6a175yD/fRIu2/vXIP1EuDYLZ4Mg/RLxVc2fKyD+tGMonupzIP4LKivzlcsg/gBojAGtUyD9Zfup3wC3IP5gvP69Z/sc/1ucnH0rVxz+M2bvNZKXHP6qBNeH4gsc/jHtpiYBaxz++KN+0CjnHP9HyIQUZFcc/DbgxfWzwxj/MFeX1r8fGP7NW8ga5psY//BbXxxSLxj8vtaaX33HGP+dpgiPXXMY/RrQmads5xj8TkdWD6yTGP9qgOB5KDsY/TICkf1QJxj9Au/67k/vFPxRVUieo7MU/V1DJmHTXxT/oDnkDmcDFPxxi/lUotMU/H7yNRi2dxT/FXj4bM4nFPy/o5lpPccU/Ih2gULBdxT9Jh6x9bFHFP70Q8d2PP8U/EBfHw1MnxT+xAb5/XwTFP1abfI3U4sQ/YnSjmW3BxD/+cy7b9qTEP2cnvKCdgMQ/7RoEoVNixD8UWli8fZ3IP4e12rwp1Mg/i+DBM5B8yD/9dSgdrozIP/GEO5Dgf8g/rgDybRKryD8lCTU2SMjIP6vgxbY97sg/91zye7w0yT/B6KXFAz7JP6TT2RHdJck/UKsR9f78yD9umWvyle/IP6C1ZKIJ4cg/YaUFeeHbyD/qyUIU/8XIP4ZUz73oqcg/j3+YE1KIyD8Fq+1vgVjIPz+Al41VMcg/LAaJHewMyD8Zhlfx6d3HP8TMZOBjt8c//3Ov2IGJxz/vnJWKUWfHP8sB2Y+ZOMc/VWTMHhsfxz9egWHKzvrGPyz7QNX/1cY/w8ABV1urxj9sWPpy343GP/47GO7fccY/1RTQ7BBexj+0qWnNJUfGP3P6WpCuJsY/itO2UlETxj8yoZVFBv3FP/hyCJ4x98U/huHmOGXoxT9NMX/8RdnFP1yaYmg+x8U/igbv/56wxT+HO0/1+KfFP9asa097isU/4wo086F5xT+cHfbzy13FPy66Q1W9S8U/+/4jFbc/xT/S1YWAxijFP0u60cpBDcU/c+dyaXvqxD/6TlVbWsjEP8loL+MXqMQ/sAnG49aKxD+b4X++ZmjEP7oWy2mZScQ/UliMSwlhyD/K3W+rSZnIP2XhhV/FUMg/QoTnaIRryD8LjvZHc0vIP9p4tivjksg/hSjn21KeyD+gz2GMjNHIPzpbbQoCCck/47RPWbwIyT+KCLyryPvIP3eRth4h1sg/uaefDtvVyD9//o/MqcXIPw9tFrydv8g/0W86LhOkyD8iCImK95PIPzvzkPlKbMg/zVDMHfQzyD/ItnPDEQ/IP8M4RlD06sc/+hiE+5C+xz+ZDXuy+ZnHP7Joi351bMc/uz8K0PVDxz/0okTeXh3HPyYnPjFtA8c/FxL1YwDfxj9J8JmXQbjGP+UBWeQ0kcY/fM6WzmVzxj8d6sGA11zGP5JTLNQlR8Y/q7aIVqEyxj+jXyki3hPGPyhOFjvRAMY/xVMhHdnpxT/JTmdZ5+LFP4eT+Sfq08U/EfAogOjHxT+ApLN3ErbFPzaUVDJao8U/r5GGgxCUxT9aOKRszXnFP6IQYjXzZMU/Ji2YdsRKxT8FG3wXBTnFP3w3gdvgJ8U/gQO+HagNxT/aGiyeP/LEP3rZXgTozsQ/E+TPt+2txD9ujC+v7IzEP9QGbV+CccQ/M6vxD5tOxD84BStvNzHEP2gWslruDsg/MnLPZrBWyD+WScK4zBrIPwzy8edJIsg/0F6dDKMgyD+VyOW3O1bIP9Iw2a8dcMg/24fQzNqUyD8RshdyxcLIP5XbkF8azsg/rJvg0oXEyD/mYyyXuazIPyBo1VX9qsg/9jXTlFOayD/3cKtAuI7IP3N8uDl/f8g/XVWFQlVpyD8A842kOTnIP4/yHPaLA8g/vpaaaivfxz+hcHScxL3HP+UjQAWNk8c/5XE4h2dvxz+uVCiJ1DvHP3OPgieTG8c/zB3CAtH0xj9j7qHry9rGP4NQ+wWRtMY/QoNOqoKRxj+nMHZMW2rGP8WuCOMkUsY/3TJ9A9w5xj+wIT7fribGP3XS4GneE8Y/2s21B6X1xT+TqY8rAOLFP5WKJNQzysU/VjPZQRzDxT9KgmuGWLfFPzM50WeUq8U/BqLqdbGdxT+FKuSiiYTFPx8SxJhteMU/Ot8JwVhaxT8OOeaWKUfFP/+jH2JzLcU/eUKGqrwWxT9bN3QFWQLFP/BFgUVN6MQ/ZTIxJlTMxD/GcLwSNqrEP/PpmtmPiMQ//em45n1pxD9kErXem03EP9MquTw2LMQ/LcNtEpoNxD+lM28KZOLHP1roi0/xNMg/cOdIjE3lxz8925H85grIPwONEjwD98c/OBLC91s6yD/U2dPDJkXIPwVXHjvQX8g/e3I7HK2YyD9H8ppe0KbIP9XZe7ehqsg/jo8RZEORyD8TGASEmo7IP2nAnE0meMg/EAHc7Ih4yD8D5K3+9WLIPw5hhUXuQ8g/gyelyjkWyD+iOoGvBeHHP0MdjBMvv8c/bItzpa6fxz9S/Tr8y3XHP3aqOipVS8c/RkXvV/kfxz8+MAtqV//GPyMhs3B72MY/KUamzWq8xj/DfroHv5nGP1eL0nhsdsY/bqIgJdZUxj9WT9gCyTrGP5t4KkvsJMY/o+DezlETxj85Wtav0QDGP4hPh1wA4sU/DNvNI2TNxT8cl+ttf7XFP2bN+6ZyscU/YNvgttGlxT9BLWIb2J3FP2uEhgJkicU/3MK8D2pzxT+h2VpdRWPFPxKdrGfcRsU/KpquPgA0xT9Kuz3uUxXFP3yQvAtY+8Q/Dk7eYQDnxD/0SwPDTszEP0g52jpsscQ/TN4uA5WOxD/YWnU0zm7EP99pdUk9T8Q/exXnLLw0xD8MHtcxGRLEP2vxqIgw9sM/xv2ECmK7xz/KrzVcivjHP03cy5HkyMc/3qpm1J/bxz+PisHCwtbHP9JMy1V9Csg/Bz1ym3ILyD+iYfagpzHIPxikcuEdbcg/qFCup7uIyD8M+0XdyIrIPzWxuV3QcMg/Zi3A8ENoyD8oKe3KGV7IP1LJkhMCWMg/SffmNZM5yD9pYkp/3RzIP1o+M6+d78c/pp7y1Cy9xz+wvonwTZ3HP6ugJUoVfsc/f5vcwPVNxz+FLKY/sSvHP4ZSpYQaAMc/dxrYb1rfxj+bLq9zm7bGPxXWp34NnsY/0NuG1iV7xj8NDShaZV3GP06QksIXOsY/mKQs6IQixj8ScVwASw7GPyV6Ud0G/cU/XOjmudnpxT9TFOknNMrFP6m8GZJ/tcU/5zYBcdegxT9G6dwN45zFP2bwuhcUlcU/nnFnFYOGxT8KN9VHN3XFP/70MHxUW8U/b3hWmb9MxT/65NLexTDFP53vFmTqGMU/NukRhBL3xD/7hdbSNd3EP8WZiOkwyMQ/WjQzr5euxD8Ch1Ue8JLEP1ph2Ef+ccQ/Iyd6wL5RxD+jruX/mjPEP0Rayj3RF8Q/y5dUXO33wz+TCuTxr9vDP+1drlxuoMc/f/DQTJL7xz/nAVIkRLjHP3JEaiXS2Mc/u3bdq6zDxz95xEKW+uvHP9qWnkYa+Mc/oRIFKU4gyD8E7ODUO2jIP7GdPqsogcg/8nbOZ8OByD9fXoGmlmHIPxDtbnfRZMg/sDbeh8hTyD+gcFW6MUTIPwdr/zy4J8g/UcS35fUKyD8S63bgGuDHPxEVMBqDr8c/Om2E6aGPxz8lJ99fxmnHP/on1+SsQcc/4naMmNcexz+ORsmBAvPGP4C+YLoU0MY/MviLXMGqxj+bgDdPppHGP6VliK4ddMY/7aTk+mlUxj+ak79DfjPGP3MG/PRhHcY/n3MJCVUJxj+nvwLcMffFP9FwOZ3n4sU/jNsQPBzDxT9RbCR0crHFP3vbfrninMU/hv/stoGcxT9lwnxA843FP0hydEdVgsU/wnIKcvJsxT/57FK2lFTFP76MfsIqRsU/WeDdwyolxT8I1er59QnFP3CLD+4y6MQ/5RbIMpjNxD+H2Ivff7nEP0ymPekCn8Q/HC39IBSFxD/yPi7Lk2PEPx+mfK+pRMQ/qKqoYS4lxD9JIMvQ+QvEP3+leSq068M/Z8cDMvHQwz/cOkl+rJbHP1Knaxlq3Mc/TY5BF8ioxz88MuQPr7jHP4sN8eoSmcc/KZRVxdjMxz9ni6Z6rtvHPxqb8IoxEcg/Ii7QEjhWyD+0VfC0sW3IP5Zxidb2Z8g/DvJ/YSdUyD9boM19gFDIP+Z8eQwyNsg/Yy+6KZsoyD8KUMyBPQzIPxxZuLzc8cc/3GoM0ejIxz8s74tnmpjHP3Yonqgwcsc/LEShamVUxz8gt4535SvHP0DtzMjUCMc/H4tqYQbbxj9Jxh7Vj7vGP6hf4KnolcY/ClkUmi2Cxj8YW3aHxmLGP9m6E7KARcY/tHz0Mjkmxj/4CSQaZBDGP4bRQS2U+8U/eipWY2XoxT/ujA1X6tPFPwQ9/G1Yt8U/1u7Nc9GlxT8TZpq6E5XFP+q3PDfzjcU/8PNQb2mCxT+OTXwKt3LFP0q7JLPcXsU/M8k5N9JGxT/3eLe7TzPFPx4ZUJAbD8U/8E8o+/fzxD8AVGdMl9HEPzRHLRcEuMQ/B056GgijxD8L0iieTIrEP25b87fJb8Q/yZ5PlqtPxD/Gt7H5di/EPyVsUOeiEsQ/rC/egwb5wz+KDV/yTdrDP0G0PUv0vsM/ptEgUE94xz8rb1pMtszHP+JeJxnZiMc/qjlrMa+Nxz9s92wihnrHP10kcySxsMc/m+A9pV7Nxz/gQTHoHgDIP5QccGk1Q8g/5/Qb3AZUyD/o31aHhVrIP0BUjab9P8g/gTm24dcyyD/XG7OtqBrIP/t6uRkJDcg/8FbXGBDzxz+aPs2Cb9rHP/ctD8+wscc/fvpWVPl6xz9FKn5cqlzHP7vSkvJdPsc/xhdwgq8Vxz8MDTKtjfDGPzdmZd5SxsY/ImTpR3mmxj8uH3QNVIbGP3qRsLOgcMY/0MXLV6dTxj+HJZGE/DfGPwtjjK4SGcY/dhHQfH4Cxj+Wr4MkqezFP9a7krBG2cU/7u4pOOnHxT+FKnXYlKvFPxqbdGXYncU/zSySRIOGxT+1yxjHVYLFP0TzGZC3csU/ix/Dy39kxT+/UgKK7VDFP1gVyZfiM8U/F9cLlgwdxT+ED2aG/vjEP19Qktct3cQ/ZLw/Vua7xD+eJh+ffKHEPz5Ebsw0jsQ/RiZQluJ0xD8zjazAsFvEP4h5eGdLOsQ/Y8nzEL4cxD+MzBuyiv/DPzQCN75q58M/Wscq1CTIwz+jCz6sX6zDPx2VFn58Xsc/Wjys20Ohxz+ZVi40NFPHP01IXzTqZMc/1MUUR0BVxz/MwC5/jJnHP9idYov3s8c/Bh01bTvlxz+nytNLZiHIP5XvjkKdPsg/IlonsDo+yD+ncwqHfBrIP1yT1u+GD8g//RzJH4/3xz+IhIoqW+zHP3gNmSxF1Mc/Ls0wqNC7xz+Vx6QtqIzHP8tpXopUXsc/E9lwYZ4/xz+pDJ+jIiHHP2Cr0OaD9sY/MRwJE/nUxj87sWL6h6rGPzfosjg6kMY/XHbMLExuxj92THknBFvGP21naEe3P8Y/7PgFEXIkxj8S7s7B7gTGP1uF9INp7cU/xP8ECHfXxT+9P42IQMfFP/WJmpQUtsU/jk+aQLOdxT8QqymiZYnFPw+X89E4dcU/r2NYFfRsxT9WbgVW3l7FP5sgLaTuUMU/J2Od3104xT9Ax1HsIBjFP/lvNQReAcU/REIuMsHcxD+6IFXpBMLEP1F1dkUCoMQ/V2xCIWOHxD9yYK/1gnPEP7vwRG2IW8Q/Z03gPglBxD/fNsTsVCLEP7u0KUhyBMQ/8pGBDcvowz9f2nIzF9DDP/KGrFF2sMM/QCVHEqeRwz/YoT2xFSrHPwhrlATVYcc/xMyoNQEixz8IN5abWzfHPzktM48aN8c/Ps7a3gN5xz9FeZgWZpLHPwU/IngGvcc/UXOisacFyD8383rM3RvIPwyeqAwXEsg/1e3bGeTwxz9sTjyrLebHPwG/vofe0Mc/F0W3HJDHxz9n+B2ZwK/HPwn4GiLNkMc/cc6HNxlqxz/bGLphlTvHP1Nag4nFHMc/dVcff1T8xj8+ij9TbtXGP+91lBWrs8Y/f1e+OPKOxj87jI5T3XLGP5pTkCmHU8Y/LId2yeZBxj86ObsmDSfGP/p+YG8zC8Y/hq3cn9/qxT9Kp6ZxTtPFPwC55WmcwMU/HXcFEqKwxT9msSU0XaPFP1ZKBk+MhMU/rSGgm2xzxT+/vZPTVlvFPyYhhSGXVMU/cQFVndRGxT+PfHcG5DPFP3i4j0UhGMU/NjPJrBT4xD8Us2MdsODEP0yVDltCvcQ/MVqTo8WhxD93EShQpYHEP+QCkNeBaMQ/xHEYNvZVxD8zpZvCszzEP/aHzZDdJMQ/I6cQUd0FxD8qMCNtjunDPzM11sBhzcM/S5lQtUu0wz+WOJYisJHDP96s+qSmdMM//JHSDsH9xj84v6eTYULHP57P2IxNBsc/SyZj+Xgqxz+Np4M4zSfHP6emI121Z8c/OxSBjwZ6xz/zqcqgCrHHP5BlHgCz8cc/omKOBdT9xz9qB4fEGvbHPz833RgQ1cc/7t2doKfMxz8XVkdUGLnHPzkNZuWzr8c/UnyjoiCRxz8xkC0sW3rHP4DRxLA4U8c/bbcq4pEkxz8+gDODnwPHP4NQsvms5sY/ugeppnO/xj9GE0ReNqPGP1AvFKOofMY/mGvwVf5ixj/cNK5WSkXGP19XWO3mM8Y/zNMI3lgYxj+d7s0CifvFP4L+91Mg28U/LIsuVLjGxT/2HcoZLLTFP8UjD138p8U/cx7i1xOUxT8pSUyicHjFPxaWSyxIY8U/REe/MsJMxT+RZdZsLUbFP2cokQJSM8U/CDfUCA4dxT+aXGduXgHFP0PpZSuw4MQ/1oOcKUzKxD/dBDdxHqbEP+IBtIFkjMQ/Tkd0fr5rxD8/7EzB6FPEP/tdxMT4P8Q/FJaYvkspxD/LWN66CxHEP5UDXziS88M/omBL5rDWwz+SlUkHG7rDP1CZnwjwncM/zElr9xN9wz+hwmYgX2HDPxNFrDhuw8Y/qNMSJiwMxz9pOL1BA+HGP3Y1TXNOA8c/AfWtUBIAxz/IjX2xQTnHPz6Q6NMtWcc/lIn3ePCIxz9EM9wqoL/HP0h65Cgxzsc/sCcGbN3Gxz+Iobl3vqjHP34cDPljosc/6+G9mTGPxz+iLZ9YM3/HP8C3NMUsacc/xfabpB1Sxz9AMwYAByvHP/+ZtZmY+sY/qOq5Imjdxj+ngrjmRcDGP1NCesXZnsY/gd41QuaAxj8T0u2+DF3GP1bTF78pRcY//A/dRPwnxj/c2Jhg/RXGP3xruy2i+cU/KCf16N3cxT+j0I+y2r/FPwLlmWvEq8U/B6isBzKdxT9Fm1Cwf4rFPzAJGsPRecU/aRztulxaxT9Gd6Em4EbFP+QeZ17JMMU/XCoGES4lxT8XLZaWHg/FP7ohLX4A+cQ/RvQZH8LcxD+U/6HtQr3EP0XjwfUepsQ/zoTljt6DxD/IqMSqqmnEP1iRQKp5SsQ/HEXMtWMxxD/+isvdFiDEP/3epvMUCcQ/hw4uSWPywz/FbutLbtTDPwNjrmo5t8M/ViCjgqqXwz+KI4diRH3DP3sTbpzWXcM/vx9ZtjhFwz9//jOLTZ/GP8gBC1+398Y/RvVNL6bKxj+zIRzYc+vGP1SDhY9Q4cY/gMBaOpgnxz+tikrN1T/HP/BavKUdZcc/xM89OJadxz+U3d8fEazHP5mzblY5p8c/oHZOYReLxz+/yKZAwYTHPxgVOQ69asc/UuUMfQxjxz+hz+VQh0zHP9icqfs1Ncc/bEjB4BwMxz9YZkiJbN/GP+sNz6rkwcY/VRruPl2qxj832XThH4fGPxcm8hawa8Y/eHVb45NJxj+KZAHoCzLGPzHyNnk7FMY/VIflBT0Bxj/hjVB10OTFPytEFnxRy8U/Nzb+gJeuxT8SbykSZp7FP0MPnHM4icU/Yc2Q8KZ5xT+umHkY+GTFP+2g7h0uR8U/a9AjhAQ0xT+3hVJv7hjFP20/feH5CcU/qgKebvvzxD9gNeVFMN3EP+ZEE1EGwsQ/gvBMscahxD+Wn8yTZYzEP8tMQzqracQ/9aZofs9QxD8RQxqsXDDEPx4Xfm3jGcQ/3t6WKycIxD9di3XgofLDP585yydZ28M/KuNfJQW9wz+GR3Xby5zDP5+ygMf6fsM/+GOuSellwz+nVbxLjEnDP7+tbROnL8M/yezKk29+xj8VimRaV9TGP094bTflpsY/BzCSOMzAxj/u8QDsFcXGP6s5kZCXA8c/pY8ohrERxz/FF6zzTjnHP0Tu7x+1ccc/uhY7ts+Cxz/q80baAYDHP3MtSSREZMc/hdMqxyJXxz/NslBNxEXHP8y/+92iPcc/OOj5GgEnxz9J5wHqrQ3HPyPVDRNp6MY/T5PK2p27xj82klxu2KPGP3lGaT+FisY/Pb9R1fNpxj+9huXZSlDGP7bYoCu3LsY/hiLyiJcWxj+2D4389ffFP1e0oqLp5MU/OCpZ4tjLxT+uEyHRr7LFPwB/DKICmsU/qF1u+UiDxT/YFqF5VnHFPwDNG4bSXcU/KwGw6cpKxT86V2ZteS3FPxCdIGlZFcU/7HAq2Rf3xD9mSobFN+jEP8OCEMKb0cQ/ad67vum7xD/dwLKnBKDEP/quEWengcQ/VOn0j8BrxD9TqLs2e0rEP6o6j8NdMMQ/VmxvxaESxD8VG+XQz/vDPw/CnkyS68M/WCUvVH/Vwz/Tiihm1b3DP+m31puJnMM/St1PqRh+wz8nk0lPrGHDPzXKfwaoS8M/DXB5qhQuwz8pFPQZ0RXDP3jcGapXa8Y/8jph/A6/xj/oYVlcl4rGP21dzX98ssY/u2F87t6uxj+rHgXLQuLGP4k8HeSJ8sY/PiI7JdcZxz+eIV43RFTHP3WrX979Zsc/UMPylCVkxz8RuMoAeUHHP8sj8PfGPMc/uH85Z9Yqxz9x3QcjTCLHP4AXhXt3Ccc/UcpoI7nzxj9gZxWqJs7GPwp+IOshp8Y/bUiXZmuNxj8oD3vsknbGP41859C1V8Y/FF0DEGc+xj/XpTwUMxzGP2ZW/nEaA8Y/P9iKcGfkxT/5HqfHjNTFP4VmS7G4u8U/86Q+P4CmxT89dojYQIfFP9c6wsWwc8U/2lH2BrhdxT+ruqp8xEvFP2TVVBsMOcU/RHXA/8IWxT/utPLkXfvEP6mDOWY73cQ/nEIBVp3NxD+MCyrSCLjEP3Yfnk2AocQ/FXyxy2WHxD/Jtyw2hGjEPzrWwBnrU8Q/8I33lGUxxD9P59rX5BnEP09tBiHQ+8M/zfmueXjmwz/ORnRBldXDP7dzFKERv8M/G0wWYFekwz9uCcFIyoTDPzvxyXazZ8M/bjOqek5Owz9JbA6+/DbDP1XPvLgGG8M/pQHNzwIEwz8i9QdFP2LGP/Y7dUP2rMY/xKAeNi+Hxj9HYFJ3NabGP9cFQnBsl8Y/UVqkwmnMxj8nFSXdSNzGP3LRjr6HBcc/nqkxugNBxz+5aSz8TlPHP9MJ3zQQScc/pIGfjO8uxz9yqbt0ZinHPw8dFIX7Fsc/m1/fwfgLxz+PsLKIn/bGPwvbUqZU4MY/kMgyTGfAxj+2sbBedZfGP8GdGVIkgMY/YRQVBtVqxj+mAzbwRkzGP08YFIAvMsY/TnqcWQIPxj91u7c6uPXFP7/sOSw/2sU/A5UrRnrKxT95btTZhrXFP03OzTefmcU/CjqM34x9xT8eZ/H65mXFPwnkWrp0UcU/C0DjwL4/xT86CWUr6CfFP6a2/LNfAsU/gnZhhAbnxD9YQzTGNsjEPz9M00iFucQ/sYjOGg2jxD/X2Be0OI7EP1mvwduFc8Q/ghnd0fhVxD/ML7FP+z/EP/oX2O8YIMQ/ANsQzSgIxD+qnmrhkuvDP5amIoaV1cM/6yiOXC3Ewz+UAYYFjqrDPz/VIWV8kcM/FpympUJzwz+myv9qK1nDP7CAFZF3PsM/x+zaFK4owz8KnlHZ9g3DPwB7Mfxo7sI//qyg0BdGxj8uWPqTO5/GP/f1FLxuccY/ec0KTwyFxj+rYcfwzXjGP3MkwC1prcY/9c4ps8K/xj9CcNQxhurGP8DroMF7Jcc/VaKar00wxz/8PECHsC7HP4xHu6cMFMc/RKL4OBUOxz/1PpjRZPnGP4uZp4rr8cY/CY/mwiLcxj/3UFT4gsvGP8YFy2WuqcY/Sr0bqV2Dxj945VIosW3GP+EP9ueyWMY/L421Nns5xj9ckuwBbB7GP1HYXmY1+8U/hqNKqC/lxT+Y7AWj98nFP1HKbWcVvsU/w3E7mH2ixT9kFNfUzYnFP7abazLEacU/inus9LhTxT+Lu98TmT/FP1gx4fPOKMU/CCsjR7ANxT+gMUaxVOjEP8i2gKRVzMQ/qHpWSZ6uxD/uvYMOCZ/EP2Z/WFNSisQ/RpxRMOd0xD88kXYHjFvEP0mzVP22PMQ/DC94504pxD8c2jyhFwnEP/Vtwxmk8sM/gCeIgYDVwz+2K4R9Er/DP3A+opyOqsM/EFLWeZ6Swz9Mvbb/23rDP66bbJyrX8M/wkgAP09Ewz8cy1MiMivDP3xNGsmiFsM/zXT3VXLzwj/69/LZXdrCP7gPcGw0N8Y/y0Y/Bf2Gxj/m20W5Jk7GPxEun2w4ZMY/CECZbSxYxj8rUueNIY/GP14QSI1Jo8Y/ewNan7nNxj95Ye6L1gDHP7Knq/pRFMc/W1/WpQkSxz+MqgkvKffGP8IwD0DX7sY/0vKEd9Xdxj9OQwiD2NXGP+TYEhfNxcY/pU6sfimzxj9G4Bnu8JPGP+Qm4GBqb8Y/nPXvHxVaxj9G9iV0XUTGP3H+IC47JMY/bpI4TBYJxj/HfkxeP+nFPwaO+bJz08U/aaGaZD28xT8RzATioanFP9df12dHkcU/34jv4Zl0xT9qWY+1P1bFP4SFJJuNQMU//PlHXF4nxT/evVl9Sw3FP4qwYURJ8sQ/9T48/VzMxD+KDEuNdLHEP53EICf4ksQ/iYh9vhuFxD8+00bi0G/EP7WCYtG2W8Q/K3lNBw5BxD/D85z44STEP4VwjugPEcQ/NUOCHGfywz9RIqqFXNvDPy+cqLnXvcM/XrsVYVmkwz/8Yv2yfZHDP2hse/jcesM/2t63cxlmwz8v1bCap0nDPwLvPqzkL8M/vSafjgkYwz94pWev+PrCP2DRSGJI3sI/Mg1/uOG+wj/MCQYDjRHGP7SMB2S3VcY/07rsBHEgxj8VLbYvADfGP9GRUTJILsY/BrYxQ0lnxj8qpBEJqnvGP++et4GXnsY/laDE6Jraxj/RxUt0ie3GP00xr30T68Y/5hAVOS3Oxj/ktTSLs8nGP7cTsMluuMY/nrDC0lG2xj+cQ2UTZqTGP2fxD1NslMY/AgfpIRR3xj9KPfwjIVPGP9dh1+AxPcY/gIDZHJomxj+oIqIthwbGPxRAt1TR7sU/CtXzlGDPxT8Nn/iSqb3FP3u9L4Pgn8U/lgNQnoyQxT8DTm33RXTFP3c5hcZXWcU/dRGrvno7xT+JJ0vEzCDFP1gbE5hqBMU/v+yv5IXqxD/grnZk8s7EP+ct4Ko/qsQ/ExJiFp6OxD9PHmUlB3LEP0Xu6TucY8Q/bDzFlbNPxD9fil4uUjrEP+640mxaIsQ/gPBzQ+IFxD9TEvMXl/PDP6ZIvdBy1MM/nl7ONQm9wz9CPVqijJzDP+Dr93HMhMM/n6DeYkRzwz9AktgYrV/DP21zyCGoScM/Y9bJU9wuwz+vu4UWZxbDP6xPI0Ub9sI/biVXHInfwj97Ftkhl7zCPz9JZg0yoMI/ct4RBmDixT87LNg3gynGP7zBRW0m9cU/vcr47+QOxj/SseikpAjGP50eUe6cQcY/DrdNnG1Oxj+Deah2iHrGP/Nqi1uztcY/09uhT0rIxj/ZnHvmmcPGP24uTAi0qsY/GjvwDtylxj/vRiC+kZrGPwu7qr9xlsY/TTgQkC+Hxj9LtNyo+XjGP+/ZE/MjXMY/rxThtKo3xj/Om0SK1SDGP3wGNhE4CsY/xuGaRJ3txT+Fd8xNO9bFP99h1VjxusU/AvfPEZKixT9ctY48JIjFP6eGj23MdMU/n6lBpUJaxT886TC6yD/FP48mnZH2HMU/Z72orBL/xD/W00US4OLEP2pNb0JlyMQ/cB/OgvitxD8le+7bmYjEPzYkI6jXbsQ/6aQJAchRxD8jrNSCskTEP7IhfGd/L8Q/qj6ZR8UcxD8ddywmeATEP29939KT6cM/RBZ6OLbWwz8VJKtkPrfDPwibyWDQnMM/v0zy3Bt+wz8KzynztWfDPzKkvIEtWcM/wCfvKVFEwz86qRy65S/DP/RX85xnFsM/8Wg1JYH1wj/opYSct9vCP+cWeGHYvsI/Euqay+uewj+0Sdb6HojCP/24hyiAt8U/u5Apt+D+xT+N6PxLPM7FP8cmQ0xL6sU/ymYfR2fkxT+FfBZwZxXGP6RJwvK8K8Y/jHrcexRXxj9Op3btopHGP8lNBFzSocY/ZosL6AWhxj+Dk4nH34fGP2e0Kiv8iMY/8KjgCLZ7xj9qMpONK3rGP1ori9esbMY/yIRUYNxexj+kMK+jb0HGP1Gimm8lHMY/mPM8SEgFxj9OW+f2FPLFP014IHbU1cU/oumGdY3CxT+yFOF3oaDFP72ns4+Vi8U/gFwpmDBtxT/5V34RhlvFP7lTvDpuQcU/PoH1LfMhxT8Pq2Q79PvEP0OIjApB3sQ/VMhRNXrBxD/15tzgI6jEPz4UCo74jMQ/XQpcBIlpxD98ZYbTR0/EP22n7lalM8Q/sbLERTglxD+Dc4NkrBLEP9e1HveS/8M/1n8uE9Lowz+aUbRMaM3DPxi4Gn0husM/hVhonrCXwz8YbgBFAH/DP+1bmrWwYcM/YLxcN1JOwz+bDioLez7DP8NYjl41K8M/ZW+l7AsYwz9x2y0UHfbCPxIbVN6428I/A9JAq6a7wj+GOsDXwaHCP6iknZ9xh8I/Gj7Juo5wwj9EQqkpGJTFP+3OZGlI3sU/JuQmPUawxT/U0Za9QszFP9jnw/VlvsU/uOApDMD4xT8lrjLNSA7GP17ZdbzzOMY/c4A+w6hwxj90oB99ioTGP8zWNJ84g8Y/HN6lbCNwxj9i0WElD2/GPxZFueteZMY/9fkGyG1kxj87SYKzP1fGPznX9BupSMY/rRCdaUwqxj8uvyBsAwXGP2zjY42G8cU/guyux43exT89HkVSaMbFP5weiDharMU/Xj+TnMmNxT/IqrSQq3TFPy2SX+z8V8U/EIeVTalGxT/KeRCdfyfFP8XG5P/EBMU/wFM0YPrexD80fuEXq8DEPxtNluEDpcQ/zX2+SuOKxD9zhomTjnHEP4MiM1inTcQ/pT0MFMc0xD+8D67g2xfEP9/WQwEEDMQ/tT21URD5wz+vHitSc+fDPzc7boke0MM/IU6dk1K0wz+IXgfQ9p3DP/JZcaNKfcM/DbUO/u5lwz/7tMazrEvDP/jgeO8AN8M/WroL97Eowz/KWS9tphbDP8dId2/7+sI/e6amYYvfwj/VJuMT2r7CP6KOn1PCocI/AaO5RmqNwj93kf3PBHPCPy62oMm9W8I/NZ8u31BmxT9zfiPEJLPFPyxGB84GhsU/cFQMsB6axT+YbKOdsJbFPx8xe65s0MU/7/knO8nlxT/HrUekAw7GP2WygdGSScY/myRSnQ9dxj++oKat9GHGP97ksvr9TMY/9fOwcKROxj9aJrIo0EXGP6GluApERsY/jO8tE3Q4xj9k6IWD9SjGP7d3BV+tCsY/xIqIwQHpxT8pZf7T3tXFP4YgfG8Tx8U/dLop7T+oxT+SfKVWnZHFP3RfEMQdb8U/aCZ53cZXxT/TFsp5mTvFP50mE/s1JcU/uvVnwN0CxT8+JXscZuDEP1YP5wIfusQ/dwyLQwadxD+ePXbwqoDEPx1CwmhzaMQ/RBpoiadOxD/+9b39QSzEP8LNWkskEsQ/4OdFMvj3wz9Z/YKJvuvDPzT7SvFX2sM/Vwq+mi3Iwz+YXFPdfbDDPxVUfja3kcM/Z82qohp9wz+go5vr3F3DP23UURiSScM/sYq6thkuwz/BJmQuCxvDP8TjFQD7DcM/XzCjRHbzwj//DBl7S97CPzcxBumZvMI/a2Wd6u2ewj97j9B4cofCPzWn/igFc8I/P6vqtUpYwj9zyy+FnT/CP0l/riT+QsU/XeF9SMWPxT9iLapWsVrFPyWyGEsdecU/5tQh/zR1xT9sw1lfXK7FPzEPp5QuwcU/vfO430btxT+b2zx4DCjGP316l8mXQcY/yuHMS1BExj9XFfXOITLGPyB2pO56NcY/ZjvUgAItxj9BDq+7pCzGP6t0lM7THcY/jMo4Aj4Oxj/5v2ZRfPPFP/z6f1wx0sU/FoAd9jHDxT8k/fGgja3FP0/QHl0jksU/mkjFyHB3xT97u4sWvFbFP11cB9HQP8U/5Kb7CJIexT96F81+4gTFP2V3EmXB4sQ/M6XI1by/xD9jPpPqrprEP1j6hw7ZfMQ/6KSTkGFixD/v4Ae5pknEPx4sv49EMcQ/gjK2UqYNxD9y6UwiPPbDP9SB3Si728M/wf6vBfzQwz81M5S+/r7DP7R2jeporMM/hqdZFq+Rwz8bXr+erXTDP/TpWQNmYcM/xUGIUj9Fwz+dobJurS/DP6nMX4fWFcM/pv1cpwcEwz82O5yPbe7CP1iOuBdi2sI/waveIOW+wj9zv50mNaDCP8c8pNcgiMI/2ofKSI9wwj/s/aDnvVvCP0eWCEidP8I/Dwk4u5Ulwj8=",
           "dtype": "f8"
          },
          "sizemode": "area",
          "sizeref": 0.000696665909683265,
          "symbol": "circle"
         },
         "mode": "markers",
         "name": "",
         "showlegend": false,
         "type": "scattergl",
         "x": {
          "bdata": "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",
          "dtype": "i1"
         },
         "xaxis": "x",
         "y": {
          "bdata": "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",
          "dtype": "i1"
         },
         "yaxis": "y"
        }
       ],
       "layout": {
        "coloraxis": {
         "colorbar": {
          "title": {
           "text": "P-value"
          }
         },
         "colorscale": [
          [
           0,
           "#0d0887"
          ],
          [
           0.1111111111111111,
           "#46039f"
          ],
          [
           0.2222222222222222,
           "#7201a8"
          ],
          [
           0.3333333333333333,
           "#9c179e"
          ],
          [
           0.4444444444444444,
           "#bd3786"
          ],
          [
           0.5555555555555556,
           "#d8576b"
          ],
          [
           0.6666666666666666,
           "#ed7953"
          ],
          [
           0.7777777777777778,
           "#fb9f3a"
          ],
          [
           0.8888888888888888,
           "#fdca26"
          ],
          [
           1,
           "#f0f921"
          ]
         ]
        },
        "legend": {
         "itemsizing": "constant",
         "tracegroupgap": 0
        },
        "margin": {
         "t": 60
        },
        "template": {
         "data": {
          "bar": [
           {
            "error_x": {
             "color": "#2a3f5f"
            },
            "error_y": {
             "color": "#2a3f5f"
            },
            "marker": {
             "line": {
              "color": "#E5ECF6",
              "width": 0.5
             },
             "pattern": {
              "fillmode": "overlay",
              "size": 10,
              "solidity": 0.2
             }
            },
            "type": "bar"
           }
          ],
          "barpolar": [
           {
            "marker": {
             "line": {
              "color": "#E5ECF6",
              "width": 0.5
             },
             "pattern": {
              "fillmode": "overlay",
              "size": 10,
              "solidity": 0.2
             }
            },
            "type": "barpolar"
           }
          ],
          "carpet": [
           {
            "aaxis": {
             "endlinecolor": "#2a3f5f",
             "gridcolor": "white",
             "linecolor": "white",
             "minorgridcolor": "white",
             "startlinecolor": "#2a3f5f"
            },
            "baxis": {
             "endlinecolor": "#2a3f5f",
             "gridcolor": "white",
             "linecolor": "white",
             "minorgridcolor": "white",
             "startlinecolor": "#2a3f5f"
            },
            "type": "carpet"
           }
          ],
          "choropleth": [
           {
            "colorbar": {
             "outlinewidth": 0,
             "ticks": ""
            },
            "type": "choropleth"
           }
          ],
          "contour": [
           {
            "colorbar": {
             "outlinewidth": 0,
             "ticks": ""
            },
            "colorscale": [
             [
              0,
              "#0d0887"
             ],
             [
              0.1111111111111111,
              "#46039f"
             ],
             [
              0.2222222222222222,
              "#7201a8"
             ],
             [
              0.3333333333333333,
              "#9c179e"
             ],
             [
              0.4444444444444444,
              "#bd3786"
             ],
             [
              0.5555555555555556,
              "#d8576b"
             ],
             [
              0.6666666666666666,
              "#ed7953"
             ],
             [
              0.7777777777777778,
              "#fb9f3a"
             ],
             [
              0.8888888888888888,
              "#fdca26"
             ],
             [
              1,
              "#f0f921"
             ]
            ],
            "type": "contour"
           }
          ],
          "contourcarpet": [
           {
            "colorbar": {
             "outlinewidth": 0,
             "ticks": ""
            },
            "type": "contourcarpet"
           }
          ],
          "heatmap": [
           {
            "colorbar": {
             "outlinewidth": 0,
             "ticks": ""
            },
            "colorscale": [
             [
              0,
              "#0d0887"
             ],
             [
              0.1111111111111111,
              "#46039f"
             ],
             [
              0.2222222222222222,
              "#7201a8"
             ],
             [
              0.3333333333333333,
              "#9c179e"
             ],
             [
              0.4444444444444444,
              "#bd3786"
             ],
             [
              0.5555555555555556,
              "#d8576b"
             ],
             [
              0.6666666666666666,
              "#ed7953"
             ],
             [
              0.7777777777777778,
              "#fb9f3a"
             ],
             [
              0.8888888888888888,
              "#fdca26"
             ],
             [
              1,
              "#f0f921"
             ]
            ],
            "type": "heatmap"
           }
          ],
          "histogram": [
           {
            "marker": {
             "pattern": {
              "fillmode": "overlay",
              "size": 10,
              "solidity": 0.2
             }
            },
            "type": "histogram"
           }
          ],
          "histogram2d": [
           {
            "colorbar": {
             "outlinewidth": 0,
             "ticks": ""
            },
            "colorscale": [
             [
              0,
              "#0d0887"
             ],
             [
              0.1111111111111111,
              "#46039f"
             ],
             [
              0.2222222222222222,
              "#7201a8"
             ],
             [
              0.3333333333333333,
              "#9c179e"
             ],
             [
              0.4444444444444444,
              "#bd3786"
             ],
             [
              0.5555555555555556,
              "#d8576b"
             ],
             [
              0.6666666666666666,
              "#ed7953"
             ],
             [
              0.7777777777777778,
              "#fb9f3a"
             ],
             [
              0.8888888888888888,
              "#fdca26"
             ],
             [
              1,
              "#f0f921"
             ]
            ],
            "type": "histogram2d"
           }
          ],
          "histogram2dcontour": [
           {
            "colorbar": {
             "outlinewidth": 0,
             "ticks": ""
            },
            "colorscale": [
             [
              0,
              "#0d0887"
             ],
             [
              0.1111111111111111,
              "#46039f"
             ],
             [
              0.2222222222222222,
              "#7201a8"
             ],
             [
              0.3333333333333333,
              "#9c179e"
             ],
             [
              0.4444444444444444,
              "#bd3786"
             ],
             [
              0.5555555555555556,
              "#d8576b"
             ],
             [
              0.6666666666666666,
              "#ed7953"
             ],
             [
              0.7777777777777778,
              "#fb9f3a"
             ],
             [
              0.8888888888888888,
              "#fdca26"
             ],
             [
              1,
              "#f0f921"
             ]
            ],
            "type": "histogram2dcontour"
           }
          ],
          "mesh3d": [
           {
            "colorbar": {
             "outlinewidth": 0,
             "ticks": ""
            },
            "type": "mesh3d"
           }
          ],
          "parcoords": [
           {
            "line": {
             "colorbar": {
              "outlinewidth": 0,
              "ticks": ""
             }
            },
            "type": "parcoords"
           }
          ],
          "pie": [
           {
            "automargin": true,
            "type": "pie"
           }
          ],
          "scatter": [
           {
            "fillpattern": {
             "fillmode": "overlay",
             "size": 10,
             "solidity": 0.2
            },
            "type": "scatter"
           }
          ],
          "scatter3d": [
           {
            "line": {
             "colorbar": {
              "outlinewidth": 0,
              "ticks": ""
             }
            },
            "marker": {
             "colorbar": {
              "outlinewidth": 0,
              "ticks": ""
             }
            },
            "type": "scatter3d"
           }
          ],
          "scattercarpet": [
           {
            "marker": {
             "colorbar": {
              "outlinewidth": 0,
              "ticks": ""
             }
            },
            "type": "scattercarpet"
           }
          ],
          "scattergeo": [
           {
            "marker": {
             "colorbar": {
              "outlinewidth": 0,
              "ticks": ""
             }
            },
            "type": "scattergeo"
           }
          ],
          "scattergl": [
           {
            "marker": {
             "colorbar": {
              "outlinewidth": 0,
              "ticks": ""
             }
            },
            "type": "scattergl"
           }
          ],
          "scattermap": [
           {
            "marker": {
             "colorbar": {
              "outlinewidth": 0,
              "ticks": ""
             }
            },
            "type": "scattermap"
           }
          ],
          "scattermapbox": [
           {
            "marker": {
             "colorbar": {
              "outlinewidth": 0,
              "ticks": ""
             }
            },
            "type": "scattermapbox"
           }
          ],
          "scatterpolar": [
           {
            "marker": {
             "colorbar": {
              "outlinewidth": 0,
              "ticks": ""
             }
            },
            "type": "scatterpolar"
           }
          ],
          "scatterpolargl": [
           {
            "marker": {
             "colorbar": {
              "outlinewidth": 0,
              "ticks": ""
             }
            },
            "type": "scatterpolargl"
           }
          ],
          "scatterternary": [
           {
            "marker": {
             "colorbar": {
              "outlinewidth": 0,
              "ticks": ""
             }
            },
            "type": "scatterternary"
           }
          ],
          "surface": [
           {
            "colorbar": {
             "outlinewidth": 0,
             "ticks": ""
            },
            "colorscale": [
             [
              0,
              "#0d0887"
             ],
             [
              0.1111111111111111,
              "#46039f"
             ],
             [
              0.2222222222222222,
              "#7201a8"
             ],
             [
              0.3333333333333333,
              "#9c179e"
             ],
             [
              0.4444444444444444,
              "#bd3786"
             ],
             [
              0.5555555555555556,
              "#d8576b"
             ],
             [
              0.6666666666666666,
              "#ed7953"
             ],
             [
              0.7777777777777778,
              "#fb9f3a"
             ],
             [
              0.8888888888888888,
              "#fdca26"
             ],
             [
              1,
              "#f0f921"
             ]
            ],
            "type": "surface"
           }
          ],
          "table": [
           {
            "cells": {
             "fill": {
              "color": "#EBF0F8"
             },
             "line": {
              "color": "white"
             }
            },
            "header": {
             "fill": {
              "color": "#C8D4E3"
             },
             "line": {
              "color": "white"
             }
            },
            "type": "table"
           }
          ]
         },
         "layout": {
          "annotationdefaults": {
           "arrowcolor": "#2a3f5f",
           "arrowhead": 0,
           "arrowwidth": 1
          },
          "autotypenumbers": "strict",
          "coloraxis": {
           "colorbar": {
            "outlinewidth": 0,
            "ticks": ""
           }
          },
          "colorscale": {
           "diverging": [
            [
             0,
             "#8e0152"
            ],
            [
             0.1,
             "#c51b7d"
            ],
            [
             0.2,
             "#de77ae"
            ],
            [
             0.3,
             "#f1b6da"
            ],
            [
             0.4,
             "#fde0ef"
            ],
            [
             0.5,
             "#f7f7f7"
            ],
            [
             0.6,
             "#e6f5d0"
            ],
            [
             0.7,
             "#b8e186"
            ],
            [
             0.8,
             "#7fbc41"
            ],
            [
             0.9,
             "#4d9221"
            ],
            [
             1,
             "#276419"
            ]
           ],
           "sequential": [
            [
             0,
             "#0d0887"
            ],
            [
             0.1111111111111111,
             "#46039f"
            ],
            [
             0.2222222222222222,
             "#7201a8"
            ],
            [
             0.3333333333333333,
             "#9c179e"
            ],
            [
             0.4444444444444444,
             "#bd3786"
            ],
            [
             0.5555555555555556,
             "#d8576b"
            ],
            [
             0.6666666666666666,
             "#ed7953"
            ],
            [
             0.7777777777777778,
             "#fb9f3a"
            ],
            [
             0.8888888888888888,
             "#fdca26"
            ],
            [
             1,
             "#f0f921"
            ]
           ],
           "sequentialminus": [
            [
             0,
             "#0d0887"
            ],
            [
             0.1111111111111111,
             "#46039f"
            ],
            [
             0.2222222222222222,
             "#7201a8"
            ],
            [
             0.3333333333333333,
             "#9c179e"
            ],
            [
             0.4444444444444444,
             "#bd3786"
            ],
            [
             0.5555555555555556,
             "#d8576b"
            ],
            [
             0.6666666666666666,
             "#ed7953"
            ],
            [
             0.7777777777777778,
             "#fb9f3a"
            ],
            [
             0.8888888888888888,
             "#fdca26"
            ],
            [
             1,
             "#f0f921"
            ]
           ]
          },
          "colorway": [
           "#636efa",
           "#EF553B",
           "#00cc96",
           "#ab63fa",
           "#FFA15A",
           "#19d3f3",
           "#FF6692",
           "#B6E880",
           "#FF97FF",
           "#FECB52"
          ],
          "font": {
           "color": "#2a3f5f"
          },
          "geo": {
           "bgcolor": "white",
           "lakecolor": "white",
           "landcolor": "#E5ECF6",
           "showlakes": true,
           "showland": true,
           "subunitcolor": "white"
          },
          "hoverlabel": {
           "align": "left"
          },
          "hovermode": "closest",
          "mapbox": {
           "style": "light"
          },
          "paper_bgcolor": "white",
          "plot_bgcolor": "#E5ECF6",
          "polar": {
           "angularaxis": {
            "gridcolor": "white",
            "linecolor": "white",
            "ticks": ""
           },
           "bgcolor": "#E5ECF6",
           "radialaxis": {
            "gridcolor": "white",
            "linecolor": "white",
            "ticks": ""
           }
          },
          "scene": {
           "xaxis": {
            "backgroundcolor": "#E5ECF6",
            "gridcolor": "white",
            "gridwidth": 2,
            "linecolor": "white",
            "showbackground": true,
            "ticks": "",
            "zerolinecolor": "white"
           },
           "yaxis": {
            "backgroundcolor": "#E5ECF6",
            "gridcolor": "white",
            "gridwidth": 2,
            "linecolor": "white",
            "showbackground": true,
            "ticks": "",
            "zerolinecolor": "white"
           },
           "zaxis": {
            "backgroundcolor": "#E5ECF6",
            "gridcolor": "white",
            "gridwidth": 2,
            "linecolor": "white",
            "showbackground": true,
            "ticks": "",
            "zerolinecolor": "white"
           }
          },
          "shapedefaults": {
           "line": {
            "color": "#2a3f5f"
           }
          },
          "ternary": {
           "aaxis": {
            "gridcolor": "white",
            "linecolor": "white",
            "ticks": ""
           },
           "baxis": {
            "gridcolor": "white",
            "linecolor": "white",
            "ticks": ""
           },
           "bgcolor": "#E5ECF6",
           "caxis": {
            "gridcolor": "white",
            "linecolor": "white",
            "ticks": ""
           }
          },
          "title": {
           "x": 0.05
          },
          "xaxis": {
           "automargin": true,
           "gridcolor": "white",
           "linecolor": "white",
           "ticks": "",
           "title": {
            "standoff": 15
           },
           "zerolinecolor": "white",
           "zerolinewidth": 2
          },
          "yaxis": {
           "automargin": true,
           "gridcolor": "white",
           "linecolor": "white",
           "ticks": "",
           "title": {
            "standoff": 15
           },
           "zerolinecolor": "white",
           "zerolinewidth": 2
          }
         }
        },
        "xaxis": {
         "anchor": "y",
         "domain": [
          0,
          1
         ],
         "title": {
          "text": "LookBack"
         }
        },
        "yaxis": {
         "anchor": "x",
         "domain": [
          0,
          1
         ],
         "title": {
          "text": "Hold"
         }
        }
       }
      }
     },
     "metadata": {},
     "output_type": "display_data"
    }
   ],
   "source": [
    "fig = px.scatter(returns_table, x=\"LookBack\", y=\"Hold\", color=\"P-value\",\n",
    "                 size='Correlation_abs')\n",
    "fig.show()"
   ]
  },
  {
   "cell_type": "code",
   "execution_count": 12,
   "metadata": {},
   "outputs": [
    {
     "data": {
      "application/vnd.plotly.v1+json": {
       "config": {
        "plotlyServerURL": "https://plot.ly"
       },
       "data": [
        {
         "hovertemplate": "LookBack=%{x}<br>Hold=%{y}<br>Correlation_abs=%{marker.size}<br>P-value=%{marker.color}<extra></extra>",
         "legendgroup": "",
         "marker": {
          "color": {
           "bdata": "AAAAAAAAAAAAAAAAAAAAAAAAAAAAAAAAAAAAAAAAAAAAAAAAAAAAAAAAAAAAAAAAAAAAAAAAAAAAAAAAAAAAAAAAAAAAAAAAAAAAAAAAAAAAAAAAAAAAAAAAAAAAAAAAAAAAAAAAAAAAAAAAAAAAAAAAAAAAAAAAAAAAAAAAAAAAAAAAAAAAAAAAAAAAAAAAAAAAAAAAAAAAAAAAAAAAAAAAAAAAAAAAAAAAAAAAAAAAAAAAAAAAAAAAAAAAAAAAAAAAAAAAAAAAAAAAAAAAAAAAAAAAAAAAAAAAAAAAAAAAAAAAAAAAAAAAAAAAAAAAAAAAAAAAAAAAAAAAAAAAAAAAAAAAAAAAAAAAAAAAAAAAAAAAAAAAAAAAAAAAAAAAAAAAAAAAAAAAAAAAAAAAAAAAAAAAAAAAAAAAAAAAAAAAAAAAAAAAAAAAAAAAAAAAAAAAAAAAAAAAAAAAAAAAAAAAAAAAAAAAAAAAAAAAAAAAAAAAAAAAAAAAAAAAAAAAAAAAAAAAAAAAAAAAAAAAAAAAAAAAAAAAAAAAAAAAAAAAAAAAAAAAAAAAAAAAAAAAAAAAAAAAAAAAAAAAAAAAAAAAAAAAAAAAAAAAAAAAAAAAAAAAAAAAAAAAAAAAAAAAAAAAAAAAAAAAAAAAAAAAAAAAAAAAAAAAAAAAAAAAAAAAAAAAAAAAAAAAAAAAAAAAAAAAAAAAAAAAAAAAAAAAAAAAAAAAAAAAAAAAAAAAAAAAAAAAAAAAAAAAAAAAAAAAAAAAAAAAAAAAAAAAAAAAAAAAAAAAAAAAAAAAAAAAAAAAAAAAAAAAAAAAAAAAAAAAAAAAAAAAAAAAAAAAAAAAAAAAAAAAAAAAAAAAAAAAAAAAAAAAAAAAAAAAAAAAAAAAAAAAAAAAAAAAAAAAAAAAAAAAAAAAAAAAAAAAAAAAAAAAAAAAAAAAAAAAAAAAAAAAAAAAAAAAAAAAAAAAAAAAAAAAAAAAAAAAAAAAAAAAAAAAAAAAAAAAAAAAAAAAAAAAAAAAAAAAAAAAAAAAAAAAAAAAAAAAAAAAAAAAAAAAAAAAAAAAAAAAAAAAAAAAAAAAAAAAAAAAAAAAAAAAAAAAAAAAAAAAAAAAAAAAAAAAAAAAAAAAAAAAAAAAAAAAAAAAAAAAAAAAAAAAAAAAAAAAAAAAAAAAAAAAAAAAAAAAAAAAAAAAAAAAAAAAAAAAAAAAAAAAAAAAAAAAAAAAAAAAAAAAAAAAAAAAAAAAAAAAAAAAAAAAAAAAAAAAAAAAAAAAAAAAAAAAAAAAAAAAAAAAAAAAAAAAAAAAAAAAAAAAAAAAAAAAAAAAAAAAAAAAAAAAAAAAAAAAAAAAAAAAAAAAAAAAAAAAAAAAAAAAAAAAAAAAAAAAAAAAAAAAAAAAAAAAAAAAAAAAAAAAAAAAAAAAAAAAAAAAAAAAAAAAAAAAAAAAAAAAAAAAAAAAAAAAAAAAAAAAAAAAAAAAAAAAAAAAAAAAAAAAAAAAAAAAAAAAAAAAAAAAAAAAAAAAAAAAAAAAAAAAAAAAAAAAAAAAAAAAAAAAAAAAAAAAAAAAAAAAAAAAAAAAAAAAAAAAAAAAAAAAAAAAAAAAAAAAAAAAAAAAAAAAAAAAAAAAAAAAAAAAAAAAAAAAAAAAAAAAAAAAAAAAAAAAAAAAAAAAAAAAAAAAAAAAAAAAAAAAAAAAAAAAAAAAAAAAAAAAAAAAAAAAAAAAAAAAAAAAAAAAAAAAAAAAAAAAAAAAAAAAAAAAAAAAAAAAAAAAAAAAAAAAAAAAAAAAAAAAAAAAAAAAAAAAAAAAAAAAAAAAAAAAAAAAAAAAAAAAAAAAAAAAAAAAAAAAAAAAAAAAAAAAAAAAAAAAAAAAAAAAAAAAAAAAAAAAAAAAAAAAAAAAAAAAAAAAAAAAAAAAAAAAAAAAAAAAAAAAAAAAAAAAAAAAAAAAAAAAAAAAAAAAAAAAAAAAAAAAAAAAAAAAAAAAAAAAAAAAAAAAAAAAAAAAAAAAAAAAAAAAAAAAAAAAAAAAAAAAAAAAAAAAAAAAAAAAAAAAAAAAAAAAAAAAAAAAAAAAAAAAAAAAAAAAAAAAAAAAAAAAAAAAAAAAAAAAAAAAAAAAAAAAAAAAAAAAAAAAAAAAAAAAAAAAAAAAAAAAAAAAAAAAAAAAAAAAAAAAAAAAAAAAAAAAAAAAAAAAAAAAAAAAAAAAAAAAAAAAAAAAAAAAAAAAAAAAAAAAAAAAAAAAAAAAAAAAAAAAAAAAAAAAAAAAAAAAAAAAAAAAAAAAAAAAAAAAAAAAAAAAAAAAAAAAAAAAAAAAAAAAAAAAAAAAAAAAAAAAAAAAAAAAAAAAAAAAAAAAAAAAAAAAAAAAAAAAAAAAAAAAAAAAAAAAAAAAAAAAAAAAAAAAAAAAAAAAAAAAAAAAAAAAAAAAAAAAAAAAAAAAAAAAAAAAAAAAAAAAAAAAAAAAAAAAAAAAAAAAAAAAAAAAAAAAAAAAAAAAAAAAAAAAAAAAAAAAAAAAAAAAAAAAAAAAAAAAAAAAAAAAAAAAAAAAAAAAAAAAAAAAAAAAAAAAAAAAAAAAAAAAAAAAAAAAAAAAAAAAAAAAAAAAAAAAAAAAAAAAAAAAAAAAAAAAAAAAAAAAAAAAAAAAAAAAAAAAAAAAAAAAAAAAAAAAAAAAAAAAAAAAAAAAAAAAAAAAAAAAAAAAAAAAAAAAAAAAAAAAAAAAAAAAAAAAAAAAAAAAAAAAAAAAAAAAAAAAAAAAAAAAAAAAAAAAAAAAAAAAAAAAAAAAAAAAAAAAAAAAAAAAAAAAAAAAAAAAAAAAAAAAAAAAAAAAAAAAAAAAAAAAAAAAAAAAAAAAAAAAAAAAAAAAAAAAAAAAAAAAAAAAAAAAAAAAAAAAAAAAAAAAAAAAAAAAAAAAAAAAAAAAAAAAAAAAAAAAAAAAAAAAAAAAAAAAAAAAAAAAAAAAAAAAAAAAAAAAAAAAAAAAAAAAAAAAAAAAAAAAAAAAAAAAAAAAAAAAAAAAAAAAAAAAAAAAAAAAAAAAAAAAAAAAAAAAAAAAAAAAAAAAAAAAAAAAAAAAAAAAAAAAAAAAAAAAAAAAAAAAAAAAAAAAAAAAAAAAAAAAAAAAAAAAAAAAAAAAAAAAAAAAAAAAAAAAAAAAAAAAAAAAAAAAAAAAAAAAAAAAAAAAAAAAAAAAAAAAAAAAAAAAAAAAAAAAAAAAAAAAAAAAAAAAAAAAAAAAAAAAAAAAAAAAAAAAAAAAAAAAAAAAAAAAAAAAAAAAAAAAAAAAAAAAAAAAAAAAAAAAAAAAAAAAAAAAAAAAAAAAAAAAAAAAAAAAAAAAAAAAAAAAAAAAAAAAAAAAAAAAAAAAAAAAAAAAAAAAAAAAAAAAAAAAAAAAAAAAAAAAAAAAAAAAAAAAAAAAAAAAAAAAAAAAAAAAAAAAAAAAAAAAAAAAAAAAAAAAAAAAAAAAAAAAAAAAAAAAAAAAAAAAAAAAAAAAAAAAAAAAAAAAAAAAAAAAAAAAAAAAAAAAAAAAAAAAAAAAAAAAAAAAAAAAAAAAAAAAAAAAAAAAAAAAAAAAAAAAAAAAAAAAAAAAAAAAAAAAAAAAAAAAAAAAAAAAAAAAAAAAAAAAAAAAAAAAAAAAAAAAAAAAAAAAAAAAAAAAAAAAAAAAAAAAAAAAAAAAAAAAAAAAAAAAAAAAAAAAAAAAAAAAAAAAAAAAAAAAAAAAAAAAAAAAAAAAAAAAAAAAAAAAAAAAAAAAAAAAAAAAAAAAAAAAAAAAAAAAAAAAAAAAAAAAAAAAAAAAAAAAAAAAAAAAAAAAAAAAAAAAAAAAAAAAAAAAAAAAAAAAAAAAAAAAAAAAAAAAAAAAAAAAAAAAAAAAAAAAAAAAAAAAAAAAAAAAAAAAAAAAAAAAAAAAAAAAAAAAAAAAAAAAAAAAAAAAAAAAAAAAAAAAAAAAAAAAAAAAAAAAAAAAAAAAAAAAAAAAAAAAAAAAAAAAAAAAAAAAAAAAAAAAAAAAAAAAAAAAAAAAAAAAAAAAAAAAAAAAAAAAAAAAAAAAAAAAAAAAAAAAAAAAAAAAAAAAAAAAAAAAAAAAAAAAAAAAAAAAAAAAAAAAAAAAAAAAAAAAAAAAAAAAAAAAAAAAAAAAAAAAAAAAAAAAAAAAAAAAAAAAAAAAAAAAAAAAAAAAAAAAAAAAAAAAAAAAAAAAAAAAAAAAAAAAAAAAAAAAAAAAAAAAAAAAAAAAAAAAAAAAAAAAAAAAAAAAAAAAAAAAAAAAAAAAAAAAAAAAAAAAAAAAAAAAAAAAAAAAAAAAAAAAAAAAAAAAAAAAAAAAAAAAAAAAAAAAAAAAAAAAAAAAAAAAAAAAAAAAAAAAAAAAAAAAAAAAAAAAAAAAAAAAAAAAAAAAAAAAAAAAAAAAAAAAAAAAAAAAAAAAAAAAAAAAAAAAAAAAAAAAAAAAAAAAAAAAAAAAAAAAAAAAAAAAAAAAAAAAAAAAAAAAAAAAAAAAAAAAAAAAAAAAAAAAAAAAAAAAAAAAAAAAAAAAAAAAAAAAAAAAAAAAAAAAAAAAAAAAAAAAAAAAAAAAAAAAAAAAAAAAAAAAAAAAAAAAAAAAAAAAAAAAAAAAAAAAAAAAAAAAAAAAAAAAAAAAAAAAAAAAAAAAAAAAAAAAAAAAAAAAAAAAAAAAAAAAAAAAAAAAAAAAAAAAAAAAAAAAAAAAAAAAAAAAAAAAAAAAAAAAAAAAAAAAAAAAAAAAAAAAAAAAAAAAAAAAAAAAAAAAAAAAAAAAAAAAAAAAAAAAAAAAAAAAAAAAAAAAAAAAAAAAAAAAAAAAAAAAAAAAAAAAAAAAAAAAAAAAAAAAAAAAAAAAAAAAAAAAAAAAAAAAAAAAAAAAAAAAAAAAAAAAAAAAAAAAAAAAAAAAAAAAAAAAAAAAAAAAAAAAAAAAAAAAAAAAAAAAAAAAAAAAAAAAAAAAAAAAAAAAAAAAAAAAAAAAAAAAAAAAAAAAAAAAAAAAAAAAAAAAAAAAAAAAAAAAAAAAAAAAAAAAAAAAAAAAAAAAAAAAAAAAAAAAAAAAAAAAAAAAAAAAAAAAAAAAAAAAAAAAAAAAAAAAAAAAAAAAAAAAAAAAAAAAAAAAAAAAAAAAAAAAAAAAAAAAAAAAAAAAAAAAAAAAAAAAAAAAAAAAAAAAAAAAAAAAAAAAAAAAAAAAAAAAAAAAAAAAAAAAAAAAAAAAAAAAAAAAAAAAAAAAAAAAAAAAAAAAAAAAAAAAAAAAAAAAAAAAAAAAAAAAAAAAAAAAAAAAAAAAAAAAAAAAAAAAAAAAAAAAAAAAAAAAAAAAAAAAAAAAAAAAAAAAAAAAAAAAAAAAAAAAAAAAAAAAAAAAAAAAAAAAAAAAAAAAAAAAAAAAAAAAAAAAAAAAAAAAAAAAAAAAAAAAAAAAAAAAAAAAAAAAAAAAAAAAAAAAAAAAAAAAAAAAAAAAAAAAAAAAAAAAAAAAAAAAAAAAAAAAAAAAAAAAAAAAAAAAAAAAAAAAAAAAAAAAAAAAAAAAAAAAAAAAAAAAAAAAAAAAAAAAAAAAAAAAAAAAAAAAAAAAAAAAAAAAAAAAAAAAAAAAAAAAAAAAAAAAAAAAAAAAAAAAAAAAAAAAAAAAAAAAAAAAAAAAAAAAAAAAAAAAAAAAAAAAAAAAAAAAAAAAAAAAAAAAAAAAAAAAAAAAAAAAAAAAAAAAAAAAAAAAAAAAAAAAAAAAAAAAAAAAAAAAAAAAAAAAAAAAAAAAAAAAAAAAAAAAAAAAAAAAAAAAAAAAAAAAAAAAAAAAAAAAAAAAAAAAAAAAAAAAAAAAAAAAAAAAAAAAAAAAAAAAAAAAAAAAAAAAAAAAAAAAAAAAAAAAAAAAAAAAAAAAAAAAAAAAAAAAAAAAAAAAAAAAAAAAAAAAAAAAAAAAAAAAAAAAAAAAAAAAAAAAAAAAAAAAAAAAAAAAAAAAAAAAAAAAAAAAAAAAAAAAAAAAAAAAAAAAAAAAAAAAAAAAAAAAAAAAAAAAAAAAAAAAAAAAAAAAAAAAAAAAAAAAAAAAAAAAAAAAAAAAAAAAAAAAAAAAAAAAAAAAAAAAAAAAAAAAAAAAAAAAAAAAAAAAAAAAAAAAAAAAAAAAAAAAAAAAAAAAAAAAAAAAAAAAAAAAAAAAAAAAAAAAAAAAAAAAAAAAAAAAAAAAAAAAAAAAAAAAAAAAAAAAAAAAAAAAAAAAAAAAAAAAAAAAAAAAAAAAAAAAAAAAAAAAAAAAAAAAAAAAAAAAAAAAAAAAAAAAAAAAAAAAAAAAAAAAAAAAAAAAAAAAAAAAAAAAAAAAAAAAAAAAAAAAAAAAAAAAAAAAAAAAAAAAAAAAAAAAAAAAAAAAAAAAAAAAAAAAAAAAAAAAAAAAAAAAAAAAAAAAAAAAAAAAAAAAAAAAAAAAAAAAAAAAAAAAAAAAAAAAAAAAAAAAAAAAAAAAAAAAAAAAAAAAAAAAAAAAAAAAAAAAAAAAAAAAAAAAAAAAAAAAAAAAAAAAAAAAAAAAAAAAAAAAAAAAAAAAAAAAAAAAAAAAAAAAAAAAAAAAAAAAAAAAAAAAAAAAAAAAAAAAAAAAAAAAAAAAAAAAAAAAAAAAAAAAAAAAAAAAAAAAAAAAAAAAAAAAAAAAAAAAAAAAAAAAAAAAAAAAAAAAAAAAAAAAAAAAAAAAAAAAAAAAAAAAAAAAAAAAAAAAAAAAAAAAAAAAAAAAAAAAAAAAAAAAAAAAAAAAAAAAAAAAAAAAAAAAAAAAAAAAAAAAAAAAAAAAAAAAAAAAAAAAAAAAAAAAAAAAAAAAAAAAAAAAAAAAAAAAAAAAAAAAAAAAAAAAAAAAAAAAAAAAAAAAAAAAAAAAAAAAAAAAAAAAAAAAAAAAAAAAAAAAAAAAAAAAAAAAAAAAAAAAAAAAAAAAAAAAAAAAAAAAAAAAAAAAAAAAAAAAAAAAAAAAAAAAAAAAAAAAAAAAAAAAAAAAAAAAAAAAAAAAAAAAAAAAAAAAAAAAAAAAAAAAAAAAAAAAAAAAAAAAAAAAAAAAAAAAAAAAAAAAAAAAAAAAAAAAAAAAAAAAAAAAAAAAAAAAAAAAAAAAAAAAAAAAAAAAAAAAAAAAAAAAAAAAAAAAAAAAAAAAAAAAAAAAAAAAAAAAAAAAAAAAAAAAAAAAAAAAAAAAAAAAAAAAAAAAAAAAAAAAAAAAAAAAAAAAAAAAAAAAAAAAAAAAAAAAAAAAAAAAAAAAAAAAAAAAAAAAAAAAAAAAAAAAAAAAAAAAAAAAAAAAAAAAAAAAAAAAAAAAAAAAAAAAAAAAAAAAAAAAAAAAAAAAAAAAAAAAAAAAAAAAAAAAAAAAAAAAAAAAAAAAAAAAAAAAAAAAAAAAAAAAAAAAAAAAAAAAAAAAAAAAAAAAAAAAAAAAAAAAAAAAAAAAAAAAAAAAAAAAAAAAAAAAAAAAAAAAAAAAAAAAAAAAAAAAAAAAAAAAAAAAAAAAAAAAAAAAAAAAAAAAAAAAAAAAAAAAAAAAAAAAAAAAAAAAAAAAAAAAAAAAAAAAAAAAAAAAAAAAAAAAAAAAAAAAAAAAAAAAAAAAAAAAAAAAAAAAAAAAAAAAAAAAAAAAAAAAAAAAAAAAAAAAAAAAAAAAAAAAAAAAAAAAAAAAAAAAAAAAAAAAAAAAAAAAAAAAAAAAAAAAAAAAAAAAAAAAAAAAAAAAAAAAAAAAAAAAAAAAAAAAAAAAAAAAAAAAAAAAAAAAAAAAAAAAAAAAAAAAAAAAAAAAAAAAAAAAAAAAAAAAAAAAAAAAAAAAAAAAAAAAAAAAAAAAAAAAAAAAAAAAAAAAAAAAAAAAAAAAAAAAAAAAAAAAAAAAAAAAAAAAAAAAAAAAAAAAAAAAAAAAAAAAAAAAAAAAAAAAAAAAAAAAAAAAAAAAAAAAAAAAAAAAAAAAAAAAAAAAAAAAAAAAAAAAAAAAAAAAAAAAAAAAAAAAAAAAAAAAAAAAAAAAAAAAAAAAAAAAAAAAAAAAAAAAAAAAAAAAAAAAAAAAAAAAAAAAAAAAAAAAAAAAAAAAAAAAAAAAAAAAAAAAAAAAAAAAAAAAAAAAAAAAAAAAAAAAAAAAAAAAAAAAAAAAAAAAAAAAAAAAAAAAAAAAAAAAAAAAAAAAAAAAAAAAAAAAAAAAAAAAAAAAAAAAAAAAAAAAAAAAAAAAAAAAAAAAAAAAAAAAAAAAAAAAAAAAAAAAAAAAAAAAAAAAAAAAAAAAAAAAAAAAAAAAAAAAAAAAAAAAAAAAAAAAAAAAAAAAAAAAAAAAAAAAAAAAAAAAAAAAAAAAAAAAAAAAAAAAAAAAAAAAAAAAAAAAAAAAAAAAAAAAAAAAAAAAAAAAAAAAAAAAAAAAAAAAAAAAAAAAAAAAAAAAAAAAAAAAAAAAAAAAAAAAAAAAAAAAAAAAAAAAAAAAAAAAAAAAAAAAAAAAAAAAAAAAAAAAAAAAAAAAAAAAAAAAAAAAAAAAAAAAAAAAAAAAAAAAAAAAAAAAAAAAAAAAAAAAAAAAAAAAAAAAAAAAAAAAAAAAAAAAAAAAAAAAAAAAAAAAAAAAAAAAAAAAAAAAAAAAAAAAAAAAAAAAAAAAAAAAAAAAAAAAAAAAAAAAAAAAAAAAAAAAAAAAAAAAAAAAAAAAAAAAAAAAAAAAAAAAAAAAAAAAAAAAAAAAAAAAAAAAAAAAAAAAAAAAAAAAAAAAAAAAAAAAAAAAAAAAAAAAAAAAAAAAAAAAAAAAAAAAAAAAAAAAAAAAAAAAAAAAAAAAAAAAAAAAAAAAAAAAAAAAAAAAAAAAAAAAAAAAAAAAAAAAAAAAAAAAAAAAAAAAAAAAAAAAAAAAAAAAAAAAAAAAAAAAAAAAAAAAAAAAAAAAAAAAAAAAAAAAAAAAAAAAAAAAAAAAAAAAAAAAAAAAAAAAAAAAAAAAAAAAAAAAAAAAAAAAAAAAAAAAAAAAAAAAAAAAAAAAAAAAAAAAAAAAAAAAAAAAAAAAAAAAAAAAAAAAAAAAAAAAAAAAAAAAAAAAAAAAAAAAAAAAAAAAAAAAAAAAAAAAAAAAAAAAAAAAAAAAAAAAAAAAAAAAAAAAAAAAAAAAAAAAAAAAAAAAAAAAAAAAAAAAAAAAAAAAAAAAAAAAAAAAAAAAAAAAAAAAAAAAAAAAAAAAAAAAAAAAAAAAAAAAAAAAAAAAAAAAAAAAAAAAAAAAAAAAAAAAAAAAAAAAAAAAAAAAAAAAAAAAAAAAAAAAAAAAAAAAAAAAAAAAAAAAAAAAAAAAAAAAAAAAAAAAAAAAAAAAAAAAAAAAAAAAAAAAAAAAAAAAAAAAAAAAAAAAAAAAAAAAAAAAAAAAAAAAAAAAAAAAAAAAAAAAAAAAAAAAAAAAAAAAAAAAAAAAAAAAAAAAAAAAAAAAAAAAAAAAAAAAAAAAAAAAAAAAAAAAAAAAAAAAAAAAAAAAAAAAAAAAAAAAAAAAAAAAAAAAAAAAAAAAAAAAAAAAAAAAAAAAAAAAAAAAAAAAAAAAAAAAAAAAAAAAAAAAAAAAAAAAAAAAAAAAAAAAAAAAAAAAAAAAAAAAAAAAAAAAAAAAAAAAAAAAAAAAAAAAAAAAAAAAAAAAAAAAAAAAAAAAAAAAAAAAAAAAAAAAAAAAAAAAAAAAAAAAAAAAAAAAAAAAAAAAAAAAAAAAAAAAAAAAAAAAAAAAAAAAAAAAAAAAAAAAAAAAAAAAAAAAAAAAAAAAAAAAAAAAAAAAAAAAAAAAAAAAAAAAAAAAAAAAAAAAAAAAAAAAAAAAAAAAAAAAAAAAAAAAAAAAAAAAAAAAAAAAAAAAAAAAAAAAAAAAAAAAAAAAAAAAAAAAAAAAAAAAAAAAAAAAAAAAAAAAAAAAAAAAAAAAAAAAAAAAAAAAAAAAAAAAAAAAAAAAAAAAAAAAAAAAAAAAAAAAAAAAAAAAAAAAAAAAAAAAAAAAAAAAAAAAAAAAAAAAAAAAAAAAAAAAAAAAAAAAAAAAAAAAAAAAAAAAAAAAAAAAAAAAAAAAAAAAAAAAAAAAAAAAAAAAAAAAAAAAAAAAAAAAAAAAAAAAAAAAAAAAAAAAAAAAAAAAAAAAAAAAAAAAAAAAAAAAAAAAAAAAAAAAAAAAAAAAAAAAAAAAAAAAAAAAAAAAAAAAAAAAAAAAAAAAAAAAAAAAAAAAAAAAAAAAAAAAAAAAAAAAAAAAAAAAAAAAAAAAAAAAAAAAAAAAAAAAAAAAAAAAAAAAAAAAAAAAAAAAAAAAAAAAAAAAAAAAAAAAAAAAAAAAAAAAAAAAAAAAAAAAAAAAAAAAAAAAAAAAAAAAAAAAAAAAAAAAAAAAAAAAAAAAAAAAAAAAAAAAAAAAAAAAAAAAAAAAAAAAAAAAAAAAAAAAAAAAAAAAAAAAAAAAAAAAAAAAAAAAAAAAAAAAAAAAAAAAAAAAAAAAAAAAAAAAAAAAAAAAAAAAAAAAAAAAAAAAAAAAAAAAAAAAAAAAAAAAAAAAAAAAAAAAAAAAAAAAAAAAAAAAAAAAAAAAAAAAAAAAAAAAAAAAAAAAAAAAAAAAAAAAAAAAAAAAAAAAAAAAAAAAAAAAAAAAAAAAAAAAAAAAAAAAAAAAAAAAAAAAAAAAAAAAAAAAAAAAAAAAAAAAAAAAAAAAAAAAAAAAAAAAAAAAAAAAAAAAAAAAAAAAAAAAAAAAAAAAAAAAAAAAAAAAAAAAAAAAAAAAAAAAAAAAAAAAAAAAAAAAAAAAAAAAAAAAAAAAAAAAAAAAAAAAAAAAAAAAAAAAAAAAAAAAAAAAAAAAAAAAAAAAAAAAAAAAAAAAAAAAAAAAAAAAAAAAAAAAAAAAAAAAAAAAAAAAAAAAAAAAAAAAAAAAAAAAAAAAAAAAAAAAAAAAAAAAAAAAAAAAAAAAAAAAAAAAAAAAAAAAAAAAAAAAAAAAAAAAAAAAAAAAAAAAAAAAAAAAAAAAAAAAAAAAAAAAAAAAAAAAAAAAAAAAAAAAAAAAAAAAAAAAAAAAAAAAAAAAAAAAAAAAAAAAAAAAAAAAAAAAAAAAAAAAAAAAAAAAAAAAAAAAAAAAAAAAAAAAAAAAAAAAAAAAAAAAAAAAAAAAAAAAAAAAAAAAAAAAAAAAAAAAAAAAAAAAAAAAAAAAAAAAAAAAAAAAAAAAAAAAAAAAAAAAAAAAAAAAAAAAAAAAAAAAAAAAAAAAAAAAAAAAAAAAAAAAAAAAAAAAAAAAAAAAAAAAAAAAAAAAAAAAAAAAAAAAAAAAAAAAAAAAAAAAAAAAAAAAAAAAAAAAAAAAAAAAAAAAAAAAAAAAAAAAAAAAAAAAAAAAAAAAAAAAAAAAAAAAAAAAAAAAAAAAAAAAAAAAAAAAAAAAAAAAAAAAAAAAAAAAAAAAAAAAAAAAAAAAAAAAAAAAAAAAAAAAAAAAAAAAAAAAAAAAAAAAAAAAAAAAAAAAAAAAAAAAAAAAAAAAAAAAAAAAAAAAAAAAAAAAAAAAAAAAAAAAAAAAAAAAAAAAAAAAAAAAAAAAAAAAAAAAAAAAAAAAAAAAAAAAAAAAAAAAAAAAAAAAAAAAAAAAAAAAAAAAAAAAAAAAAAAAAAAAAAAAAAAAAAAAAAAAAAAAAAAAAAAAAAAAAAAAAAAAAAAAAAAAAAAAAAAAAAAAAAAAAAAAAAAAAAAAAAAAAAAAAAAAAAAAAAAAAAAAAAAAAAAAAAAAAAAAAAAAAAAAAAAAAAAAAAAAAAAAAAAAAAAAAAAAAAAAAAAAAAAAAAAAAAAAAAAAAAAAAAAAAAAAAAAAAAAAAAAAAAAAAAAAAAAAAAAAAAAAAAAAAAAAAAAAAAAAAAAAAAAAAAAAAAAAAAAAAAAAAAAAAAAAAAAAAAAAAAAAAAAAAAAAAAAAAAAAAAAAAAAAAAAAAAAAAAAAAAAAAAAAAAAAAAAAAAAAAAAAAAAAAAAAAAAAAAAAAAAAAAAAAAAAAAAAAAAAAAAAAAAAAAAAAAAAAAAAAAAAAAAAAAAAAAAAAAAAAAAAAAAAAAAAAAAAAAAAAAAAAAAAAAAAAAAAAAAAAAAAAAAAAAAAAAAAAAAAAAAAAAAAAAAAAAAAAAAAAAAAAAAAAAAAAAAAAAAAAAAAAAAAAAAAAAAAAAAAAAAAAAAAAAAAAAAAAAAAAAAAAAAAAAAAAAAAAAAAAAAAAAAAAAAAAAAAAAAAAAAAAAAAAAAAAAAAAAAAAAAAAAAAAAAAAAAAAAAAAAAAAAAAAAAAAAAAAAAAAAAAAAAAAAAAAAAAAAAAAAAAAAAAAAAAAAAAAAAAAAAAAAAAAAAAAAAAAAAAAAAAAAAAAAAAAAAAAAAAAAAAAAAAAAAAAAAAAAAAAAAAAAAAAAAAAAAAAAAAAAAAAAAAAAAAAAAAAAAAAAAAAAAAAAAAAAAAAAAAAAAAAAAAAAAAAAAAAAAAAAAAAAAAAAAAAAAAAAAAAAAAAAAAAAAAAAAAAAAAAAAAAAAAAAAAAAAAAAAAAAAAAAAAAAAAAAAAAAAAAAAAAAAAAAAAAAAAAAAAAAAAAAAAAAAAAAAAAAAAAAAAAAAAAAAAAAAAAAAAAAAAAAAAAAAAAAAAAAAAAAAAAAAAAAAAAAAAAAAAAAAAAAAAAAAAAAAAAAAAAAAAAAAAAAAAAAAAAAAAAAAAAAAAAAAAAAAAAAAAAAAAAAAAAAAAAAAAAAAAAAAAAAAAAAAAAAAAAAAAAAAAAAAAAAAAAAAAAAAAAAAAAAAAAAAAAAAAAAAAAAAAAAAAAAAAAAAAAAAAAAAAAAAAAAAAAAAAAAAAAAAAAAAAAAAAAAAAAAAAAAAAAAAAAAAAAAAAAAAAAAAAAAAAAAAAAAAAAAAAAAAAAAAAAAAAAAAAAAAAAAAAAAAAAAAAAAAAAAAAAAAAAAAAAAAAAAAAAAAAAAAAAAAAAAAAAAAAAAAAAAAAAAAAAAAAAAAAAAAAAAAAAAAAAAAAAAAAAAAAAAAAAAAAAAAAAAAAAAAAAAAAAAAAAAAAAAAAAAAAAAAAAAAAAAAAAAAAAAAAAAAAAAAAAAAAAAAAAAAAAAAAAAAAAAAAAAAAAAAAAAAAAAAAAAAAAAAAAAAAAAAAAAAAAAAAAAAAAAAAAAAAAAAAAAAAAAAAAAAAAAAAAAAAAAAAAAAAAAAAAAAAAAAAAAAAAAAAAAAAAAAAAAAAAAAAAAAAAAAAAAAAAAAAAAAAAAAAAAAAAAAAAAAAAAAAAAAAAAAAAAAAAAAAAAAAAAAAAAAAAAAAAAAAAAAAAAAAAAAAAAAAAAAAAAAAAAAAAAAAAAAAAAAAAAAAAAAAAAAAAAAAAAAAAAAAAAAAAAAAAAAAAAAAAAAAAAAAAAAAAAAAAAAAAAAAAAAAAAAAAAAAAAAAAAAAAAAAAAAAAAAAAAAAAAAAAAAAAAAAAAAAAAAAAAAAAAAAAAAAAAAAAAAAAAAAAAAAAAAAAAAAAAAAAAAAAAAAAAAAAAAAAAAAAAAAAAAAAAAAAAAAAAAAAAAAAAAAAAAAAAAAAAAAAAAAAAAAAAAAAAAAAAAAAAAAAAAAAAAAAAAAAAAAAAAAAAAAAAAAAAAAAAAAAAAAAAAAAAAAAAAAAAAAAAAAAAAAAAAAAAAAAAAAAAAAAAAAAAAAAAAAAAAAAAAAAAAAAAAAAAAAAAAAAAAAAAAAAAAAAAAAAAAAAAAAAAAAAAAAAAAAAAAAAAAAAAAAAAAAAAAAAAAAAAAAAAAAAAAAAAAAAAAAAAAAAAAAAAAAAAAAAAAAAAAAAAAAAAAAAAAAAAAAAAAAAAAAAAAAAAAAAAAAAAAAAAAAAAAAAAAAAAAAAAAAAAAAAAAAAAAAAAAAAAAAAAAAAAAAAAAAAAAAAAAAAAAAAAAAAAAAAAAAAAAAAAAAAAAAAAAAAAAAAAAAAAAAAAAAAAAAAAAAAAAAAAAAAAAAAAAAAAAAAAAAAAAAAAAAAAAAAAAAAAAAAAAAAAAAAAAAAAAAAAAAAAAAAAAAAAAAAAAAAAAAAAAAAAAAAAAAAAAAAAAAAAAAAAAAAAAAAAAAAAAAAAAAAAAAAAAAAAAAAAAAAAAAAAAAAAAAAAAAAAAAAAAAAAAAAAAAAAAAAAAAAAAAAAAAAAAAAAAAAAAAAAAAAAAAAAAAAAAAAAAAAAAAAAAAAAAAAAAAAAAAAAAAAAAAAAAAAAAAAAAAAAAAAAAAAAAAAAAAAAAAAAAAAAAAAAAAAAAAAAAAAAAAAAAAAAAAAAAAAAAAAAAAAAAAAAAAAAAAAAAAAAAAAAAAAAAAAAAAAAAAAAAAAAAAAAAAAAAAAAAAAAAAAAAAAAAAAAAAAAAAAAAAAAAAAAAAAAAAAAAAAAAAAAAAAAAAAAAAAAAAAAAAAAAAAAAAAAAAAAAAAAAAAAAAAAAAAAAAAAAAAAAAAAAAAAAAAAAAAAAAAAAAAAAAAAAAAAAAAAAAAAAAAAAAAAAAAAAAAAAAAAAAAAAAAAAAAAAAAAAAAAAAAAAAAAAAAAAAAAAAAAAAAAAAAAAAAAAAAAAAAAAAAAAAAAAAAAAAAAAAAAAAAAAAAAAAAAAAAAAAAAAAAAAAAAAAAAAAAAAAAAAAAAAAAAAAAAAAAAAAAAAAAAAAAAAAAAAAAAAAAAAAAAAAAAAAAAAAAAAAAAAAAAAAAAAAAAAAAAAAAAAAAAAAAAAAAAAAAAAAAAAAAAAAAAAAAAAAAAAAAAAAAAAAAAAAAAAAAAAAAAAAAAAAAAAAAAAAAAAAAAAAAAAAAAAAAAAAAAAAAAAAAAAAAAAAAAAAAAAAAAAAAAAAAAAAAAAAAAAAAAAAAAAAAAAAAAAAAAAAAAAAAAAAAAAAAAAAAAAAAAAAAAAAAAAAAAAAAAAAAAAAAAAAAAAAAAAAAAAAAAAAAAAAAAAAAAAAAAAAAAAAAAAAAAAAAAAAAAAAAAAAAAAAAAAAAAAAAAAAAAAAAAAAAAAAAAAAAAAAAAAAAAAAAAAAAAAAAAAAAAAAAAAAAAAAAAAAAAAAAAAAAAAAAAAAAAAAAAAAAAAAAAAAAAAAAAAAAAAAAAAAAAAAAAAAAAAAAAAAAAAAAAAAAAAAAAAAAAAAAAAAAAAAAAAAAAAAAAAAAAAAAAAAAAAAAAAAAAAAAAAAAAAAAAAAAAAAAAAAAAAAAAAAAAAAAAAAAAAAAAAAAAAAAAAAAAAAAAAAAAAAAAAAAAAAAAAAAAAAAAAAAAAAAAAAAAAAAAAAAAAAAAAAAAAAAAAAAAAAAAAAAAAAAAAAAAAAAAAAAAAAAAAAAAAAAAAAAAAAAAAAAAAAAAAAAAAAAAAAAAAAAAAAAAAAAAAAAAAAAAAAAAAAAAAAAAAAAAAAAAAAAAAAAAAAAAAAAAAAAAAAAAAAAAAAAAAAAAAAAAAAAAAAAAAAAAAAAAAAAAAAAAAAAAAAAAAAAAAAAAAAAAAAAAAAAAAAAAAAAAAAAAAAAAAAAAAAAAAAAAAAAAAAAAAAAAAAAAAAAAAAAAAAAAAAAAAAAAAAAAAAAAAAAAAAAAAAAAAAAAAAAAAAAAAAAAAAAAAAAAAAAAAAAAAAAAAAAAAAAAAAAAAAAAAAAAAAAAAAAAAAAAAAAAAAAAAAAAAAAAAAAAAAAAAAAAAAAAAAAAAAAAAAAAAAAAAAAAAAAAAAAAAAAAAAAAAAAAAAAAAAAAAAAAAAAAAAAAAAAAAAAAAAAAAAAAAAAAAAAAAAAAAAAAAAAAAAAAAAAAAAAAAAAAAAAAAAAAAAAAAAAAAAAAAAAAAAAAAAAAAAAAAAAAAAAAAAAAAAAAAAAAAAAAAAAAAAAAAAAAAAAAAAAAAAAAAAAAAAAAAAAAAAAAAAAAAAAAAAAAAAAAAAAAAAAAAAAAAAAAAAAAAAAAAAAAAAAAAAAAAAAAAAAAAAAAAAAAAAAAAAAAAAAAAAAAAAAAAAAAAAAAAAAAAAAAAAAAAAAAAAAAAAAAAAAAAAAAAAAAAAAAAAAAAAAAAAAAAAAAAAAAAAAAAAAAAAAAAAAAAAAAAAAAAAAAAAAAAAAAAAAAAAAAAAAAAAAAAAAAAAAAAAAAAAAAAAAAAAAAAAAAAAAAAAAAAAAAAAAAAAAAAAAAAAAAAAAAAAAAAAAAAAAAAAAAAAAAAAAAAAAAAAAAAAAAAAAAAAAAAAAAAAAAAAAAAAAAAAAAAAAAAAAAAAAAAAAAAAAAAAAAAAAAAAAAAAAAAAAAAAAAAAAAAAAAAAAAAAAAAAAAAAAAAAAAAAAAAAAAAAAAAAAAAAAAAAAAAAAAAAAAAAAAAAAAAAAAAAAAAAAAAAAAAAAAAAAAAAAAAAAAAAAAAAAAAAAAAAAAAAAAAAAAAAAAAAAAAAAAAAAAAAAAAAAAAAAAAAAAAAAAAAAAAAAAAAAAAAAAAAAAAAAAAAAAAAAAAAAAAAAAAAAAAAAAAAAAAAAAAAAAAAAAAAAAAAAAAAAAAAAAAAAAAAAAAAAAAAAAAAAAAAAAAAAAAAAAAAAAAAAAAAAAAAAAAAAAAAAAAAAAAAAAAAAAAAAAAAAAAAAAAAAAAAAAAAAAAAAAAAAAAAAAAAAAAAAAAAAAAAAAAAAAAAAAAAAAAAAAAAAAAAAAAAAAAAAAAAAAAAAAAAAAAAAAAAAAAAAAAAAAAAAAAAAAAAAAAAAAAAAAAAAAAAAAAAAAAAAAAAAAAAAAAAAAAAAAAAAAAAAAAAAAAAAAAAAAAAAAAAAAAAAAAAAAAAAAAAAAAAAAAAAAAAAAAAAAAAAAAAAAAAAAAAAAAAAAAAAAAAAAAAAAAAAAAAAAAAAAAAAAAAAAAAAAAAAAAAAAAAAAAAAAAAAAAAAAAAAAAAAAAAAAAAAAAAAAAAAAAAAAAAAAAAAAAAAAAAAAAAAAAAAAAAAAAAAAAAAAAAAAAAAAAAAAAAAAAAAAAAAAAAAAAAAAAAAAAAAAAAAAAAAAAAAAAAAAAAAAAAAAAAAAAAAAAAAAAAAAAAAAAAAAAAAAAAAAAAAAAAAAAAAAAAAAAAAAAAAAAAAAAAAAAAAAAAAAAAAAAAAAAAAAAAAAAAAAAAAAAAAAAAAAAAAAAAAAAAAAAAAAAAAAAAAAAAAAAAAAAAAAAAAAAAAAAAAAAAAAAAAAAAAAAAAAAAAAAAAAAAAAAAAAAAAAAAAAAAAAAAAAAAAAAAAAAAAAAAAAAAAAAAAAAAAAAAAAAAAAAAAAAAAAAAAAAAAAAAAAAAAAAAAAAAAAAAAAAAAAAAAAAAAAAAAAAAAAAAAAAAAAAAAAAAAAAAAAAAAAAAAAAAAAAAAAAAAAAAAAAAAAAAAAAAAAAAAAAAAAAAAAAAAAAAAAAAAAAAAAAAAAAAAAAAAAAAAAAAAAAAAAAAAAAAAAAAAAAAAAAAAAAAAAAAAAAAAAAAAAAAAAAAAAAAAAAAAAAAAAAAAAAAAAAAAAAAAAAAAAAAAAAAAAAAAAAAAAAAAAAAAAAAAAAAAAAAAAAAAAAAAAAAAAAAAAAAAAAAAAAAAAAAAAAAAAAAAAAAAAAAAAAAAAAAAAAAAAAAAAAAAAAAAAAAAAAAAAAAAAAAAAAAAAAAAAAAAAAAAAAAAAAAAAAAAAAAAAAAAAAAAAAAAAAAAAAAAAAAAAAAAAAAAAAAAAAAAAAAAAAAAAAAAAAAAAAAAAAAAAAAAAAAAAAAAAAAAAAAAAAAAAAAAAAAAAAAAAAAAAAAAAAAAAAAAAAAAAAAAAAAAAAAAAAAAAAAAAAAAAAAAAAAAAAAAAAAAAAAAAAAAAAAAAAAAAAAAAAAAAAAAAAAAAAAAAAAAAAAAAAAAAAAAAAAAAAAAAAAAAAAAAAAAAAAAAAAAAAAAAAAAAAAAAAAAAAAAAAAAAAAAAAAAAAAAAAAAAAAAAAAAAAAAAAAAAAAAAAAAAAAAAAAAAAAAAAAAAAAAAAAAAAAAAAAAAAAAAAAAAAAAAAAAAAAAAAAAAAAAAAAAAAAAAAAAAAAAAAAAAAAAAAAAAAAAAAAAAAAAAAAAAAAAAAAAAAAAAAAAAAAAAAAAAAAAAAAAAAAAAAAAAAAAAAAAAAAAAAAAAAAAAAAAAAAAAAAAAAAAAAAAAAAAAAAAAAAAAAAAAAAAAAAAAAAAAAAAAAAAAAAAAAAAAAAAAAAAAAAAAAAAAAAAAAAAAAAAAAAAAAAAAAAAAAAAAAAAAAAAAAAAAAAAAAAAAAAAAAAAAAAAAAAAAAAAAAAAAAAAAAAAAAAAAAAAAAAAAAAAAAAAAAAAAAAAAAAAAAAAAAAAAAAAAAAAAAAAAAAAAAAAAAAAAAAAAAAAAAAAAAAAAAAAAAAAAAAAAAAAAAAAAAAAAAAAAAAAAAAAAAAAAAAAAAAAAAAAAAAAAAAAAAAAAAAAAAAAAAAAAAAAAAAAAAAAAAAAAAAAAAAAAAAAAAAAAAAAAAAAAAAAAAAAAAAAAAAAAAAAAAAAAAAAAAAAAAAAAAAAAAAAAAAAAAAAAAAAAAAAAAAAAAAAAAAAAAAAAAAAAAAAAAAAAAAAAAAAAAAAAAAAAAAAAAAAAAAAAAAAAAAAAAAAAAAAAAAAAAAAAAAAAAAAAAAAAAAAAAAAAAAAAAAAAAAAAAAAAAAAAAAAAAAAAAAAAAAAAAAAAAAAAAAAAAAAAAAAAAAAAAAAAAAAAAAAAAAAAAAAAAAAAAAAAAAAAAAAAAAAAAAAAAAAAAAAAAAAAAAAAAAAAAAAAAAAAAAAAAAAAAAAAAAAAAAAAAAAAAAAAAAAAAAAAAAAAAAAAAAAAAAAAAAAAAAAAAAAAAAAAAAAAAAAAAAAAAAAAAAAAAAAAAAAAAAAAAAAAAAAAAAAAAAAAAAAAAAAAAAAAAAAAAAAAAAAAAAAAAAAAAAAAAAAAAAAAAAAAAAAAAAAAAAAAAAAAAAAAAAAAAAAAAAAAAAAAAAAAAAAAAAAAAAAAAAAAAAAAAAAAAAAAAAAAAAAAAAAAAAAAAAAAAAAAAAAAAAAAAAAAAAAAAAAAAAAAAAAAAAAAAAAAAAAAAAAAAAAAAAAAAAAAAAAAAAAAAAAAAAAAAAAAAAAAAAAAAAAAAAAAAAAAAAAAAAAAAAAAAAAAAAAAAAAAAAAAAAAAAAAAAAAAAAAAAAAAAAAAAAAAAAAAAAAAAAAAAAAAAAAAAAAAAAAAAAAAAAAAAAAAAAAAAAAAAAAAAAAAAAAAAAAAAAAAAAAAAAAAAAAAAAAAAAAAAAAAAAAAAAAAAAAAAAAAAAAAAAAAAAAAAAAAAAAAAAAAAAAAAAAAAAAAAAAAAAAAAAAAAAAAAAAAAAAAAAAAAAAAAAAAAAAAAAAAAAAAAAAAAAAAAAAAAAAAAAAAAAAAAAAAAAAAAAAAAAAAAAAAAAAAAAAAAAAAAAAAAAAAAAAAAAAAAAAAAAAAAAAAAAAAAAAAAAAAAAAAAAAAAAAAAAAAAAAAAAAAAAAAAAAAAAAAAAAAAAAAAAAAAAAAAAAAAAAAAAAAAAAAAAAAAAAAAAAAAAAAAAAAAAAAAAAAAAAAAAAAAAAAAAAAAAAAAAAAAAAAAAAAAAAAAAAAAAAAAAAAAAAAAAAAAAAAAAAAAAAAAAAAAAAAAAAAAAAAAAAAAAAAAAAAAAAAAAAAAAAAAAAAAAAAAAAAAAAAAAAAAAAAAAAAAAAAAAAAAAAAAAAAAAAAAAAAAAAAAAAAAAAAAAAAAAAAAAAAAAAAAAAAAAAAAAAAAAAAAAAAAAAAAAAAAAAAAAAAAAAAAAAAAAAAAAAAAAAAAAAAAAAAAAAAAAAAAAAAAAAAAAAAAAAAAAAAAAAAAAAAAAAAAAAAAAAAAAAAAAAAAAAAAAAAAAAAAAAAAAAAAAAAAAAAAAAAAAAAAAAAAAAAAAAAAAAAAAAAAAAAAAAAAAAAAAAAAAAAAAAAAAAAAAAAAAAAAAAAAAAAAAAAAAAAAAAAAAAAAAAAAAAAAAAAAAAAAAAAAAAAAAAAAAAAAAAAAAAAAAAAAAAAAAAAAAAAAAAAAAAAAAAAAAAAAAAAAAAAAAAAAAAAAAAAAAAAAAAAAAAAAAAAAAAAAAAAAAAAAAAAAAAAAAAAAAAAAAAAAAAAAAAAAAAAAAAAAAAAAAAAAAAAAAAAAAAAAAAAAAAAAAAAAAAAAAAAAAAAAAAAAAAAAAAAAAAAAAAAAAAAAAAAAAAAAAAAAAAAAAAAAAAAAAAAAAAAAAAAAAAAAAAAAAAAAAAAAAAAAAAAAAAAAAAAAAAAAAAAAAAAAAAAAAAAAAAAAAAAAAAAAAAAAAAAAAAAAAAAAAAAAAAAAAAAAAAAAAAAAAAAAAAAAAAAAAAAAAAAAAAAAAAAAAAAAAAAAAAAAAAAAAAAAAAAAAAAAAAAAAAAAAAAAAAAAAAAAAAAAAAAAAAAAAAAAAAAAAAAAAAAAAAAAAAAAAAAAAAAAAAAAAAAAAAAAAAAAAAAAAAAAAAAAAAAAAAAAAAAAAAAAAAAAAAAAAAAAAAAAAAAAAAAAAAAAAAAAAAAAAAAAAAAAAAAAAAAAAAAAAAAAAAAAAAAAAAAAAAAAAAAAAAAAAAAAAAAAAAAAAAAAAAAAAAAAAAAAAAAAAAAAAAAAAAAAAAAAAAAAAAAAAAAAAAAAAAAAAAAAAAAAAAAAAAAAAAAAAAAAAAAAAAAAAAAAAAAAAAAAAAAAAAAAAAAAAAAAAAAAAAAAAAAAAAAAAAAAAAAAAAAAAAAAAAAAAAAAAAAAAAAAAAAAAAAAAAAAAAAAAAAAAAAAAAAAAAAAAAAAAAAAAAAAAAAAAAAAAAAAAAAAAAAAAAAAAAAAAAAAAAAAAAAAAAAAAAAAAAAAAAAAAAAAAAAAAAAAAAAAAAAAAAAAAAAAAAAAAAAAAAAAAAAAAAAAAAAAAAAAAAAAAAAAAAAAAAAAAAAAAAAAAAAAAAAAAAAAAAAAAAAAAAAAAAAAAAAAAAAAAAAAAAAAAAAAAAAAAAAAAAAAAAAAAAAAAAAAAAAAAAAAAAAAAAAAAAAAAAAAAAAAAAAAAAAAAAAAAAAAAAAAAAAAAAAAAAAAAAAAAAAAAAAAAAAAAAAAAAAAAAAAAAAAAAAAAAAAAAAAAAAAAAAAAAAAAAAAAAAAAAAAAAAAAAAAAAAAAAAAAAAAAAAAAAAAAAAAAAAAAAAAAAAAAAAAAAAAAAAAAAAAAAAAAAAAAAAAAAAAAAAAAAAAAAAAAAAAAAAAAAAAAAAAAAAAAAAAAAAAAAAAAAAAAAAAAAAAAAAAAAAAAAAAAAAAAAAAAAAAAAAAAAAAAAAAAAAAAAAAAAAAAAAAAAAAAAAAAAAAAAAAAAAAAAAAAAAAAAAAAAAAAAAAAAAAAAAAAAAAAAAAAAAAAAAAAAAAAAAAAAAAAAAAAAAAAAAAAAAAAAAAAAAAAAAAAAAAAAAAAAAAAAAAAAAAAAAAAAAAAAAAAAAAAAAAAAAAAAAAAAAAAAAAAAAAAAAAAAAAAAAAAAAAAAAAAAAAAAAAAAAAAAAAAAAAAAAAAAAAAAAAAAAAAAAAAAAAAAAAAAAAAAAAAAAAAAAAAAAAAAAAAAAAAAAAAAAAAAAAAAAAAAAAAAAAAAAAAAAAAAAAAAAAAAAAAAAAAAAAAAAAAAAAAAAAAAAAAAAAAAAAAAAAAAAAAAAAAAAAAAAAAAAAAAAAAAAAAAAAAAAAAAAAAAAAAAAAAAAAAAAAAAAAAAAAAAAAAAAAAAAAAAAAAAAAAAAAAAAAAAAAAAAAAAAAAAAAAAAAAAAAAAAAAAAAAAAAAAAAAAAAAAAAAAAAAAAAAAAAAAAAAAAAAAAAAAAAAAAAAAAAAAAAAAAAAAAAAAAAAAAAAAAAAAAAAAAAAAAAAAAAAAAAAAAAAAAAAAAAAAAAAAAAAAAAAAAAAAAAAAAAAAAAAAAAAAAAAAAAAAAAAAAAAAAAAAAAAAAAAAAAAAAAAAAAAAAAAAAAAAAAAAAAAAAAAAAAAAAAAAAAAAAAAAAAAAAAAAAAAAAAAAAAAAAAAAAAAAAAAAAAAAAAAAAAAAAAAAAAAAAAAAAAAAAAAAAAAAAAAAAAAAAAAAAAAAAAAAAAAAAAAAAAAAAAAAAAAAAAAAAAAAAAAAAAAAAAAAAAAAAAAAAAAAAAAAAAAAAAAAAAAAAAAAAAAAAAAAAAAAAAAAAAAAAAAAAAAAAAAAAAAAAAAAAAAAAAAAAAAAAAAAAAAAAAAAAAAAAAAAAAAAAAAAAAAAAAAAAAAAAAAAAAAAAAAAAAAAAAAAAAAAAAAAAAAAAAAAAAAAAAAAAAAAAAAAAAAAAAAAAAAAAAAAAAAAAAAAAAAAAAAAAAAAAAAAAAAAAAAAAAAAAAAAAAAAAAAAAAAAAAAAAAAAAAAAAAAAAAAAAAAAAAAAAAAAAAAAAAAAAAAAAAAAAAAAAAAAAAAAAAAAAAAAAAAAAAAAAAAAAAAAAAAAAAAAAAAAAAAAAAAAAAAAAAAAAAAAAAAAAAAAAAAAAAAAAAAAAAAAAAAAAAAAAAAAAAAAAAAAAAAAAAAAAAAAAAAAAAAAAAAAAAAAAAAAAAAAAAAAAAAAAAAAAAAAAAAAAAAAAAAAAAAAAAAAAAAAAAAAAAAAAAAAAAAAAAAAAAAAAAAAAAAAAAAAAAAAAAAAAAAAAAAAAAAAAAAAAAAAAAAAAAAAAAAAAAAAAAAAAAAAAAAAAAAAAAAAAAAAAAAAAAAAAAAAAAAAAAAAAAAAAAAAAAAAAAAAAAAAAAAAAAAAAAAAAAAAAAAAAAAAAAAAAAAAAAAAAAAAAAAAAAAAAAAAAAAAAAAAAAAAAAAAAAAAAAAAAAAAAAAAAAAAAAAAAAAAAAAAAAAAAAAAAAAAAAAAAAAAAAAAAAAAAAAAAAAAAAAAAAAAAAAAAAAAAAAAAAAAAAAAAAAAAAAAAAAAAAAAAAAAAAAAAAAAAAAAAAAAAAAAAAAAAAAAAAAAAAAAAAAAAAAAAAAAAAAAAAAAAAAAAAAAAAAAAAAAAAAAAAAAAAAAAAAAAAAAAAAAAAAAAAAAAAAAAAAAAAAAAAAAAAAAAAAAAAAAAAAAAAAAAAAAAAAAAAAAAAAAAAAAAAAAAAAAAAAAAAAAAAAAAAAAAAAAAAAAAAAAAAAAAAAAAAAAAAAAAAAAAAAAAAAAAAAAAAAAAAAAAAAAAAAAAAAAAAAAAAAAAAAAAAAAAAAAAAAAAAAAAAAAAAAAAAAAAAAAAAAAAAAAAAAAAAAAAAAAAAAAAAAAAAAAAAAAAAAAAAAAAAAAAAAAAAAAAAAAAAAAAAAAAAAAAAAAAAAAAAAAAAAAAAAAAAAAAAAAAAAAAAAAAAAAAAAAAAAAAAAAAAAAAAAAAAAAAAAAAAAAAAAAAAAAAAAAAAAAAAAAAAAAAAAAAAAAAAAAAAAAAAAAAAAAAAAAAAAAAAAAAAAAAAAAAAAAAAAAAAAAAAAAAAAAAAAAAAAAAAAAAAAAAAAAAAAAAAAAAAAAAAAAAAAAAAAAAAAAAAAAAAAAAAAAAAAAAAAAAAAAAAAAAAAAAAAAAAAAAAAAAAAAAAAAAAAAAAAAAAAAAAAAAAAAAAAAAAAAAAAAAAAAAAAAAAAAAAAAAAAAAAAAAAAAAAAAAAAAAAAAAAAAAAAAAAAAAAAAAAAAAAAAAAAAAAAAAAAAAAAAAAAAAAAAAAAAAAAAAAAAAAAAAAAAAAAAAAAAAAAAAAAAAAAAAAAAAAAAAAAAAAAAAAAAAAAAAAAAAAAAAAAAAAAAAAAAAAAAAAAAAAAAAAAAAAAAAAAAAAAAAAAAAAAAAAAAAAAAAAAAAAAAAAAAAAAAAAAAAAAAAAAAAAAAAAAAAAAAAAAAAAAAAAAAAAAAAAAAAAAAAAAAAAAAAAAAAAAAAAAAAAAAAAAAAAAAAAAAAAAAAAAAAAAAAAAAAAAAAAAAAAAAAAAAAAAAAAAAAAAAAAAAAAAAAAAAAAAAAAAAAAAAAAAAAAAAAAAAAAAAAAAAAAAAAAAAAAAAAAAAAAAAAAAAAAAAAAAAAAAAAAAAAAAAAAAAAAAAAAAAAAAAAAAAAAAAAAAAAAAAAAAAAAAAAAAAAAAAAAAAAAAAAAAAAAAAAAAAAAAAAAAAAAAAAAAAAAAAAAAAAAAAAAAAAAAAAAAAAAAAAAAAAAAAAAAAAAAAAAAAAAAAAAAAAAAAAAAAAAAAAAAAAAAAAAAAAAAAAAAAAAAAAAAAAAAAAAAAAAAAAAAAAAAAAAAAAAAAAAAAAAAAAAAAAAAAAAAAAAAAAAAAAAAAAAAAAAAAAAAAAAAAAAAAAAAAAAAAAAAAAAAAAAAAAAAAAAAAAAAAAAAAAAAAAAAAAAAAAAAAAAAAAAAAAAAAAAAAAAAAAAAAAAAAAAAAAAAAAAAAAAAAAAAAAAAAAAAAAAAAAAAAAAAAAAAAAAAAAAAAAAAAAAAAAAAAAAAAAAAAAAAAAAAAAAAAAAAAAAAAAAAAAAAAAAAAAAAAAAAAAAAAAAAAAAAAAAAAAAAAAAAAAAAAAAAAAAAAAAAAAAAAAAAAAAAAAAAAAAAAAAAAAAAAAAAAAAAAAAAAAAAAAAAAAAAAAAAAAAAAAAAAAAAAAAAAAAAAAAAAAAAAAAAAAAAAAAAAAAAAAAAAAAAAAAAAAAAAAAAAAAAAAAAAAAAAAAAAAAAAAAAAAAAAAAAAAAAAAAAAAAAAAAAAAAAAAAAAAAAAAAAAAAAAAAAAAAAAAAAAAAAAAAAAAAAAAAAAAAAAAAAAAAAAAAAAAAAAAAAAAAAAAAAAAAAAAAAAAAAAAAAAAAAAAAAAAAAAAAAAAAAAAAAAAAAAAAAAAAAAAAAAAAAAAAAAAAAAAAAAAAAAAAAAAAAAAAAAAAAAAAAAAAAAAAAAAAAAAAAAAAAAAAAAAAAAAAAAAAAAAAAAAAAAAAAAAAAAAAAAAAAAAAAAAAAAAAAAAAAAAAAAAAAAAAAAAAAAAAAAAAAAAAAAAAAAAAAAAAAAAAAAAAAAAAAAAAAAAAAAAAAAAAAAAAAAAAAAAAAAAAAAAAAAAAAAAAAAAAAAAAAAAAAAAAAAAAAAAAAAAAAAAAAAAAAAAAAAAAAAAAAAAAAAAAAAAAAAAAAAAAAAAAAAAAAAAAAAAAAAAAAAAAAAAAAAAAAAAAAAAAAAAAAAAAAAAAAAAAAAAAAAAAAAAAAAAAAAAAAAAAAAAAAAAAAAAAAAAAAAAAAAAAAAAAAAAAAAAAAAAAAAAAAAAAAAAAAAAAAAAAAAAAAAAAAAAAAAAAAAAAAAAAAAAAAAAAAAAAAAAAAAAAAAAAAAAAAAAAAAAAAAAAAAAAAAAAAAAAAAAAAAAAAAAAAAAAAAAAAAAAAAAAAAAAAAAAAAAAAAAAAAAAAAAAAAAAAAAAAAAAAAAAAAAAAAAAAAAAAAAAAAAAAAAAAAAAAAAAAAAAAAAAAAAAAAAAAAAAAAAAAAAAAAAAAAAAAAAAAAAAAAAAAAAAAAAAAAAAAAAAAAAAAAAAAAAAAAAAAAAAAAAAAAAAAAAAAAAAAAAAAAAAAAAAAAAAAAAAAAAAAAAAAAAAAAAAAAAAAAAAAAAAAAAAAAAAAAAAAAAAAAAAAAAAAAAAAAAAAAAAAAAAAAAAAAAAAAAAAAAAAAAAAAAAAAAAAAAAAAAAAAAAAAAAAAAAAAAAAAAAAAAAAAAAAAAAAAAAAAAAAAAAAAAAAAAAAAAAAAAAAAAAAAAAAAAAAAAAAAAAAAAAAAAAAAAAAAAAAAAAAAAAAAAAAAAAAAAAAAAAAAAAAAAAAAAAAAAAAAAAAAAAAAAAAAAAAAAAAAAAAAAAAAAAAAAAAAAAAAAAAAAAAAAAAAAAAAAAAAAAAAAAAAAAAAAAAAAAAAAAAAAAAAAAAAAAAAAAAAAAAAAAAAAAAAAAAAAAAAAAAAAAAAAAAAAAAAAAAAAAAAAAAAAAAAAAAAAAAAAAAAAAAAAAAAAAAAAAAAAAAAAAAAAAAAAAAAAAAAAAAAAAAAAAAAAAAAAAAAAAAAAAAAAAAAAAAAAAAAAAAAAAAAAAAAAAAAAAAAAAAAAAAAAAAAAAAAAAAAAAAAAAAAAAAAAAAAAAAAAAAAAAAAAAAAAAAAAAAAAAAAAAAAAAAAAAAAAAAAAAAAAAAAAAAAAAAAAAAAAAAAAAAAAAAAAAAAAAAAAAAAAAAAAAAAAAAAAAAAAAAAAAAAAAAAAAAAAAAAAAAAAAAAAAAAAAAAAAAAAAAAAAAAAAAAAAAAAAAAAAAAAAAAAAAAAAAAAAAAAAAAAAAAAAAAAAAAAAAAAAAAAAAAAAAAAAAAAAAAAAAAAAAAAAAAAAAAAAAAAAAAAAAAAAAAAAAAAAAAAAAAAAAAAAAAAAAAAAAAAAAAAAAAAAAAAAAAAAAAAAAAAAAAAAAAAAAAAAAAAAAAAAAAAAAAAAAAAAAAAAAAAAAAAAAAAAAAAAAAAAAAAAAAAAAAAAAAAAAAAAAAAAAAAAAAAAAAAAAAAAAAAAAAAAAAAAAAAAAAAAAAAAAAAAAAAAAAAAAAAAAAAAAAAAAAAAAAAAAAAAAAAAAAAAAAAAAAAAAAAAAAAAAAAAAAAAAAAAAAAAAAAAAAAAAAAAAAAAAAAAAAAAAAAAAAAAAAAAAAAAAAAAAAAAAAAAAAAAAAAAAAAAAAAAAAAAAAAAAAAAAAAAAAAAAAAAAAAAAAAAAAAAAAAAAAAAAAAAAAAAAAAAAAAAAAAAAAAAAAAAAAAAAAAAAAAAAAAAAAAAAAAAAAAAAAAAAAAAAAAAAAAAAAAAAAAAAAAAAAAAAAAAAAAAAAAAAAAAAAAAAAAAAAAAAAAAAAAAAAAAAAAAAAAAAAAAAAAAAAAAAAAAAAAAAAAAAAAAAAAAAAAAAAAAAAAAAAAAAAAAAAAAAAAAAAAAAAAAAAAAAAAAAAAAAAAAAAAAAAAAAAAAAAAAAAAAAAAAAAAAAAAAAAAAAAAAAAAAAAAAAAAAAAAAAAAAAAAAAAAAAAAAAAAAAAAAAAAAAAAAAAAAAAAAAAAAAAAAAAAAAAAAAAAAAAAAAAAAAAAAAAAAAAAAAAAAAAAAAAAAAAAAAAAAAAAAAAAAAAAAAAAAAAAAAAAAAAAAAAAAAAAAAAAAAAAAAAAAAAAAAAAAAAAAAAAAAAAAAAAAAAAAAAAAAAAAAAAAAAAAAAAAAAAAAAAAAAAAAAAAAAAAAAAAAAAAAAAAAAAAAAAAAAAAAAAAAAAAAAAAAAAAAAAAAAAAAAAAAAAAAAAAAAAAAAAAAAAAAAAAAAAAAAAAAAAAAAAAAAAAAAAAAAAAAAAAAAAAAAAAAAAAAAAAAAAAAAAAAAAAAAAAAAAAAAAAAAAAAAAAAAAAAAAAAAAAAAAAAAAAAAAAAAAAAAAAAAAAAAAAAAAAAAAAAAAAAAAAAAAAAAAAAAAAAAAAAAAAAAAAAAAAAAAAAAAAAAAAAAAAAAAAAAAAAAAAAAAAAAAAAAAAAAAAAAAAAAAAAAAAAAAAAAAAAAAAAAAAAAAAAAAAAAAAAAAAAAAAAAAAAAAAAAAAAAAAAAAAAAAAAAAAAAAAAAAAAAAAAAAAAAAAAAAAAAAAAAAAAAAAAAAAAAAAAAAAAAAAAAAAAAAAAAAAAAAAAAAAAAAAAAAAAAAAAAAAAAAAAAAAAAAAAAAAAAAAAAAAAAAAAAAAAAAAAAAAAAAAAAAAAAAAAAAAAAAAAAAAAAAAAAAAAAAAAAAAAAAAAAAAAAAAAAAAAAAAAAAAAAAAAAAAAAAAAAAAAAAAAAAAAAAAAAAAAAAAAAAAAAAAAAAAAAAAAAAAAAAAAAAAAAAAAAAAAAAAAAAAAAAAAAAAAAAAAAAAAAAAAAAAAAAAAAAAAAAAAAAAAAAAAAAAAAAAAAAAAAAAAAAAAAAAAAAAAAAAAAAAAAAAAAAAAAAAAAAAAAAAAAAAAAAAAAAAAAAAAAAAAAAAAAAAAAAAAAAAAAAAAAAAAAAAAAAAAAAAAAAAAAAAAAAAAAAAAAAAAAAAAAAAAAAAAAAAAAAAAAAAAAAAAAAAAAAAAAAAAAAAAAAAAAAAAAAAAAAAAAAAAAAAAAAAAAAAAAAAAAAAAAAAAAAAAAAAAAAAAAAAAAAAAAAAAAAAAAAAAAAAAAAAAAAAAAAAAAAAAAAAAAAAAAAAAAAAAAAAAAAAAAAAAAAAAAAAAAAAAAAAAAAAAAAAAAAAAAAAAAAAAAAAAAAAAAAAAAAAAAAAAAAAAAAAAAAAAAAAAAAAAAAAAAAAAAAAAAAAAAAAAAAAAAAAAAAAAAAAAAAAAAAAAAAAAAAAAAAAAAAAAAAAAAAAAAAAAAAAAAAAAAAAAAAAAAAAAAAAAAAAAAAAAAAAAAAAAAAAAAAAAAAAAAAAAAAAAAAAAAAAAAAAAAAAAAAAAAAAAAAAAAAAAAAAAAAAAAAAAAAAAAAAAAAAAAAAAAAAAAAAAAAAAAAAAAAAAAAAAAAAAAAAAAAAAAAAAAAAAAAAAAAAAAAAAAAAAAAAAAAAAAAAAAAAAAAAAAAAAAAAAAAAAAAAAAAAAAAAAAAAAAAAAAAAAAAAAAAAAAAAAAAAAAAAAAAAAAAAAAAAAAAAAAAAAAAAAAAAAAAAAAAAAAAAAAAAAAAAAAAAAAAAAAAAAAAAAAAAAAAAAAAAAAAAAAAAAAAAAAAAAAAAAAAAAAAAAAAAAAAAAAAAAAAAAAAAAAAAAAAAAAAAAAAAAAAAAAAAAAAAAAAAAAAAAAAAAAAAAAAAAAAAAAAAAAAAAAAAAAAAAAAAAAAAAAAAAAAAAAAAAAAAAAAAAAAAAAAAAAAAAAAAAAAAAAAAAAAAAAAAAAAAAAAAAAAAAAAAAAAAAAAAAAAAAAAAAAAAAAAAAAAAAAAAAAAAAAAAAAAAAAAAAAAAAAAAAAAAAAAAAAAAAAAAAAAAAAAAAAAAAAAAAAAAAAAAAAAAAAAAAAAAAAAAAAAAAAAAAAAAAAAAAAAAAAAAAAAAAAAAAAAAAAAAAAAAAAAAAAAAAAAAAAAAAAAAAAAAAAAAAAAAAAAAAAAAAAAAAAAAAAAAAAAAAAAAAAAAAAAAAAAAAAAAAAAAAAAAAAAAAAAAAAAAAAAAAAAAAAAAAAAAAAAAAAAAAAAAAAAAAAAAAAAAAAAAAAAAAAAAAAAAAAAAAAAAAAAAAAAAAAAAAAAAAAAAAAAAAAAAAAAAAAAAAAAAAAAAAAAAAAAAAAAAAAAAAAAAAAAAAAAAAAAAAAAAAAAAAAAAAAAAAAAAAAAAAAAAAAAAAAAAAAAAAAAAAAAAAAAAAAAAAAAAAAAAAAAAAAAAAAAAAAAAAAAAAAAAAAAAAAAAAAAAAAAAAAAAAAAAAAAAAAAAAAAAAAAAAAAAAAAAAAAAAAAAAAAAAAAAAAAAAAAAAAAAAAAAAAAAAAAAAAAAAAAAAAAAAAAAAAAAAAAAAAAAAAAAAAAAAAAAAAAAAAAAAAAAAAAAAAAAAAAAAAAAAAAAAAAAAAAAAAAAAAAAAAAAAAAAAAAAAAAAAAAAAAAAAAAAAAAAAAAAAAAAAAAAAAAAAAAAAAAAAAAAAAAAAAAAAAAAAAAAAAAAAAAAAAAAAAAAAAAAAAAAAAAAAAAAAAAAAAAAAAAAAAAAAAAAAAAAAAAAAAAAAAAAAAAAAAAAAAAAAAAAAAAAAAAAAAAAAAAAAAAAAAAAAAAAAAAAAAAAAAAAAAAAAAAAAAAAAAAAAAAAAAAAAAAAAAAAAAAAAAAAAAAAAAAAAAAAAAAAAAAAAAAAAAAAAAAAAAAAAAAAAAAAAAAAAAAAAAAAAAAAAAAAAAAAAAAAAAAAAAAAAAAAAAAAAAAAAAAAAAAAAAAAAAAAAAAAAAAAAAAAAAAAAAAAAAAAAAAAAAAAAAAAAAAAAAAAAAAAAAAAAAAAAAAAAAAAAAAAAAAAAAAAAAAAAAAAAAAAAAAAAAAAAAAAAAAAAAAAAAAAAAAAAAAAAAAAAAAAAAAAAAAAAAAAAAAAAAAAAAAAAAAAAAAAAAAAAAAAAAAAAAAAAAAAAAAAAAAAAAAAAAAAAAAAAAAAAAAAAAAAAAAAAAAAAAAAAAAAAAAAAAAAAAAAAAAAAAAAAAAAAAAAAAAAAAAAAAAAAAAAAAAAAAAAAAAAAAAAAAAAAAAAAAAAAAAAAAAAAAAAAAAAAAAAAAAAAAAAAAAAAAAAAAAAAAAAAAAAAAAAAAAAAAAAAAAAAAAAAAAAAAAAAAAAAAAAAAAAAAAAAAAAAAAAAAAAAAAAAAAAAAAAAAAAAAAAAAAAAAAAAAAAAAAAAAAAAAAAAAAAAAAAAAAAAAAAAAAAAAAAAAAAAAAAAAAAAAAAAAAAAAAAAAAAAAAAAAAAAAAAAAAAAAAAAAAAAAAAAAAAAAAAAAAAAAAAAAAAAAAAAAAAAAAAAAAAAAAAAAAAAAAAAAAAAAAAAAAAAAAAAAAAAAAAAAAAAAAAAAAAAAAAAAAAAAAAAAAAAAAAAAAAAAAAAAAAAAAAAAAAAAAAAAAAAAAAAAAAAAAAAAAAAAAAAAAAAAAAAAAAAAAAAAAAAAAAAAAAAAAAAAAAAAAAAAAAAAAAAAAAAAAAAAAAAAAAAAAAAAAAAAAAAAAAAAAAAAAAAAAAAAAAAAAAAAAAAAAAAAAAAAAAAAAAAAAAAAAAAAAAAAAAAAAAAAAAAAAAAAAAAAAAAAAAAAAAAAAAAAAAAAAAAAAAAAAAAAAAAAAAAAAAAAAAAAAAAAAAAAAAAAAAAAAAAAAAAAAAAAAAAAAAAAAAAAAAAAAAAAAAAAAAAAAAAAAAAAAAAAAAAAAAAAAAAAAAAAAAAAAAAAAAAAAAAAAAAAAAAAAAAAAAAAAAAAAAAAAAAAAAAAAAAAAAAAAAAAAAAAAAAAAAAAAAAAAAAAAAAAAAAAAAAAAAAAAAAAAAAAAAAAAAAAAAAAAAAAAAAAAAAAAAAAAAAAAAAAAAAAAAAAAAAAAAAAAAAAAAAAAAAAAAAAAAAAAAAAAAAAAAAAAAAAAAAAAAAAAAAAAAAAAAAAAAAAAAAAAAAAAAAAAAAAAAAAAAAAAAAAAAAAAAAAAAAAAAAAAAAAAAAAAAAAAAAAAAAAAAAAAAAAAAAAAAAAAAAAAAAAAAAAAAAAAAAAAAAAAAAAAAAAAAAAAAAAAAAAAAAAAAAAAAAAAAAAAAAAAAAAAAAAAAAAAAAAAAAAAAAAAAAAAAAAAAAAAAAAAAAAAAAAAAAAAAAAAAAAAAAAAAAAAAAAAAAAAAAAAAAAAAAAAAAAAAAAAAAAAAAAAAAAAAAAAAAAAAAAAAAAAAAAAAAAAAAAAAAAAAAAAAAAAAAAAAAAAAAAAAAAAAAAAAAAAAAAAAAAAAAAAAAAAAAAAAAAAAAAAAAAAAAAAAAAAAAAAAAAAAAAAAAAAAAAAAAAAAAAAAAAAAAAAAAAAAAAAAAAAAAAAAAAAAAAAAAAAAAAAAAAAAAAAAAAAAAAAAAAAAAAAAAAAAAAAAAAAAAAAAAAAAAAAAAAAAAAAAAAAAAAAAAAAAAAAAAAAAAAAAAAAAAAAAAAAAAAAAAAAAAAAAAAAAAAAAAAAAAAAAAAAAAAAAAAAAAAAAAAAAAAAAAAAAAAAAAAAAAAAAAAAAAAAAAAAAAAAAAAAAAAAAAAAAAAAAAAAAAAAAAAAAAAAAAAAAAAAAAAAAAAAAAAAAAAAAAAAAAAAAAAAAAAAAAAAAAAAAAAAAAAAAAAAAAAAAAAAAAAAAAAAAAAAAAAAAAAAAAAAAAAAAAAAAAAAAAAAAAAAAAAAAAAAAAAAAAAAAAAAAAAAAAAAAAAAAAAAAAAAAAAAAAAAAAAAAAAAAAAAAAAAAAAAAAAAAAAAAAAAAAAAAAAAAAAAAAAAAAAAAAAAAAAAAAAAAAAAAAAAAAAAAAAAAAAAAAAAAAAAAAAAAAAAAAAAAAAAAAAAAAAAAAAAAAAAAAAAAAAAAAAAAAAAAAAAAAAAAAAAAAAAAAAAAAAAAAAAAAAAAAAAAAAAAAAAAAAAAAAAAAAAAAAAAAAAAAAAAAAAAAAAAAAAAAAAAAAAAAAAAAAAAAAAAAAAAAAAAAAAAAAAAAAAAAAAAAAAAAAAAAAAAAAAAAAAAAAAAAAAAAAAAAAAAAAAAAAAAAAAAAAAAAAAAAAAAAAAAAAAAAAAAAAAAAAAAAAAAAAAAAAAAAAAAAAAAAAAAAAAAAAAAAAAAAAAAAAAAAAAAAAAAAAAAAAAAAAAAAAAAAAAAAAAAAAAAAAAAAAAAAAAAAAAAAAAAAAAAAAAAAAAAAAAAAAAAAAAAAAAAAAAAAAAAAAAAAAAAAAAAAAAAAAAAAAAAAAAAAAAAAAAAAAAAAAAAAAAAAAAAAAAAAAAAAAAAAAAAAAAAAAAAAAAAAAAAAAAAAAAAAAAAAAAAAAAAAAAAAAAAAAAAAAAAAAAAAAAAAAAAAAAAAAAAAAAAAAAAAAAAAAAAAAAAAAAAAAAAAAAAAAAAAAAAAAAAAAAAAAAAAAAAAAAAAAAAAAAAAAAAAAAAAAAAAAAAAAAAAAAAAAAAAAAAAAAAAAAAAAAAAAAAAAAAAAAAAAAAAAAAAAAAAAAAAAAAAAAAAAAAAAAAAAAAAAAAAAAAAAAAAAAAAAAAAAAAAAAAAAAAAAAAAAAAAAAAAAAAAAAAAAAAAAAAAAAAAAAAAAAAAAAAAAAAAAAAAAAAAAAAAAAAAAAAAAAAAAAAAAAAAAAAAAAAAAAAAAAAAAAAAAAAAAAAAAAAAAAAAAAAAAAAAAAAAAAAAAAAAAAAAAAAAAAAAAAAAAAAAAAAAAAAAAAAAAAAAAAAAAAAAAAAAAAAAAAAAAAAAAAAAAAAAAAAAAAAAAAAAAAAAAAAAAAAAAAAAAAAAAAAAAAAAAAAAAAAAAAAAAAAAAAAAAAAAAAAAAAAAAAAAAAAAAAAAAAAAAAAAAAAAAAAAAAAAAAAAAAAAAAAAAAAAAAAAAAAAAAAAAAAAAAAAAAAAAAAAAAAAAAAAAAAAAAAAAAAAAAAAAAAAAAAAAAAAAAAAAAAAAAAAAAAAAAAAAAAAAAAAAAAAAAAAAAAAAAAAAAAAAAAAAAAAAAAAAAAAAAAAAAAAAAAAAAAAAAAAAAAAAAAAAAAAAAAAAAAAAAAAAAAAAAAAAAAAAAAAAAAAAAAAAAAAAAAAAAAAAAAAAAAAAAAAAAAAAAAAAAAAAAAAAAAAAAAAAAAAAAAAAAAAAAAAAAAAAAAAAAAAAAAAAAAAAAAAAAAAAAAAAAAAAAAAAAAAAAAAAAAAAAAAAAAAAAAAAAAAAAAAAAAAAAAAAAAAAAAAAAAAAAAAAAAAAAAAAAAAAAAAAAAAAAAAAAAAAAAAAAAAAAAAAAAAAAAAAAAAAAAAAAAAAAAAAAAAAAAAAAAAAAAAAAAAAAAAAAAAAAAAAAAAAAAAAAAAAAAAAAAAAAAAAAAAAAAAAAAAAAAAAAAAAAAAAAAAAAAAAAAAAAAAAAAAAAAAAAAAAAAAAAAAAAAAAAAAAAAAAAAAAAAAAAAAAAAAAAAAAAAAAAAAAAAAAAAAAAAAAAAAAAAAAAA=",
           "dtype": "f8"
          },
          "coloraxis": "coloraxis",
          "size": {
           "bdata": "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",
           "dtype": "f8"
          },
          "sizemode": "area",
          "sizeref": 0.000696665909683265,
          "symbol": "circle"
         },
         "mode": "markers",
         "name": "",
         "scene": "scene",
         "showlegend": false,
         "type": "scatter3d",
         "x": {
          "bdata": "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",
          "dtype": "i1"
         },
         "y": {
          "bdata": "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",
          "dtype": "i1"
         },
         "z": {
          "bdata": "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",
          "dtype": "f8"
         }
        }
       ],
       "layout": {
        "coloraxis": {
         "colorbar": {
          "title": {
           "text": "P-value"
          }
         },
         "colorscale": [
          [
           0,
           "#0d0887"
          ],
          [
           0.1111111111111111,
           "#46039f"
          ],
          [
           0.2222222222222222,
           "#7201a8"
          ],
          [
           0.3333333333333333,
           "#9c179e"
          ],
          [
           0.4444444444444444,
           "#bd3786"
          ],
          [
           0.5555555555555556,
           "#d8576b"
          ],
          [
           0.6666666666666666,
           "#ed7953"
          ],
          [
           0.7777777777777778,
           "#fb9f3a"
          ],
          [
           0.8888888888888888,
           "#fdca26"
          ],
          [
           1,
           "#f0f921"
          ]
         ]
        },
        "legend": {
         "itemsizing": "constant",
         "tracegroupgap": 0
        },
        "scene": {
         "domain": {
          "x": [
           0,
           1
          ],
          "y": [
           0,
           1
          ]
         },
         "xaxis": {
          "title": {
           "text": "LookBack (мин)"
          }
         },
         "yaxis": {
          "title": {
           "text": "Hold (мин)"
          }
         },
         "zaxis": {
          "title": {
           "text": "Correlation"
          }
         }
        },
        "template": {
         "data": {
          "bar": [
           {
            "error_x": {
             "color": "#2a3f5f"
            },
            "error_y": {
             "color": "#2a3f5f"
            },
            "marker": {
             "line": {
              "color": "#E5ECF6",
              "width": 0.5
             },
             "pattern": {
              "fillmode": "overlay",
              "size": 10,
              "solidity": 0.2
             }
            },
            "type": "bar"
           }
          ],
          "barpolar": [
           {
            "marker": {
             "line": {
              "color": "#E5ECF6",
              "width": 0.5
             },
             "pattern": {
              "fillmode": "overlay",
              "size": 10,
              "solidity": 0.2
             }
            },
            "type": "barpolar"
           }
          ],
          "carpet": [
           {
            "aaxis": {
             "endlinecolor": "#2a3f5f",
             "gridcolor": "white",
             "linecolor": "white",
             "minorgridcolor": "white",
             "startlinecolor": "#2a3f5f"
            },
            "baxis": {
             "endlinecolor": "#2a3f5f",
             "gridcolor": "white",
             "linecolor": "white",
             "minorgridcolor": "white",
             "startlinecolor": "#2a3f5f"
            },
            "type": "carpet"
           }
          ],
          "choropleth": [
           {
            "colorbar": {
             "outlinewidth": 0,
             "ticks": ""
            },
            "type": "choropleth"
           }
          ],
          "contour": [
           {
            "colorbar": {
             "outlinewidth": 0,
             "ticks": ""
            },
            "colorscale": [
             [
              0,
              "#0d0887"
             ],
             [
              0.1111111111111111,
              "#46039f"
             ],
             [
              0.2222222222222222,
              "#7201a8"
             ],
             [
              0.3333333333333333,
              "#9c179e"
             ],
             [
              0.4444444444444444,
              "#bd3786"
             ],
             [
              0.5555555555555556,
              "#d8576b"
             ],
             [
              0.6666666666666666,
              "#ed7953"
             ],
             [
              0.7777777777777778,
              "#fb9f3a"
             ],
             [
              0.8888888888888888,
              "#fdca26"
             ],
             [
              1,
              "#f0f921"
             ]
            ],
            "type": "contour"
           }
          ],
          "contourcarpet": [
           {
            "colorbar": {
             "outlinewidth": 0,
             "ticks": ""
            },
            "type": "contourcarpet"
           }
          ],
          "heatmap": [
           {
            "colorbar": {
             "outlinewidth": 0,
             "ticks": ""
            },
            "colorscale": [
             [
              0,
              "#0d0887"
             ],
             [
              0.1111111111111111,
              "#46039f"
             ],
             [
              0.2222222222222222,
              "#7201a8"
             ],
             [
              0.3333333333333333,
              "#9c179e"
             ],
             [
              0.4444444444444444,
              "#bd3786"
             ],
             [
              0.5555555555555556,
              "#d8576b"
             ],
             [
              0.6666666666666666,
              "#ed7953"
             ],
             [
              0.7777777777777778,
              "#fb9f3a"
             ],
             [
              0.8888888888888888,
              "#fdca26"
             ],
             [
              1,
              "#f0f921"
             ]
            ],
            "type": "heatmap"
           }
          ],
          "histogram": [
           {
            "marker": {
             "pattern": {
              "fillmode": "overlay",
              "size": 10,
              "solidity": 0.2
             }
            },
            "type": "histogram"
           }
          ],
          "histogram2d": [
           {
            "colorbar": {
             "outlinewidth": 0,
             "ticks": ""
            },
            "colorscale": [
             [
              0,
              "#0d0887"
             ],
             [
              0.1111111111111111,
              "#46039f"
             ],
             [
              0.2222222222222222,
              "#7201a8"
             ],
             [
              0.3333333333333333,
              "#9c179e"
             ],
             [
              0.4444444444444444,
              "#bd3786"
             ],
             [
              0.5555555555555556,
              "#d8576b"
             ],
             [
              0.6666666666666666,
              "#ed7953"
             ],
             [
              0.7777777777777778,
              "#fb9f3a"
             ],
             [
              0.8888888888888888,
              "#fdca26"
             ],
             [
              1,
              "#f0f921"
             ]
            ],
            "type": "histogram2d"
           }
          ],
          "histogram2dcontour": [
           {
            "colorbar": {
             "outlinewidth": 0,
             "ticks": ""
            },
            "colorscale": [
             [
              0,
              "#0d0887"
             ],
             [
              0.1111111111111111,
              "#46039f"
             ],
             [
              0.2222222222222222,
              "#7201a8"
             ],
             [
              0.3333333333333333,
              "#9c179e"
             ],
             [
              0.4444444444444444,
              "#bd3786"
             ],
             [
              0.5555555555555556,
              "#d8576b"
             ],
             [
              0.6666666666666666,
              "#ed7953"
             ],
             [
              0.7777777777777778,
              "#fb9f3a"
             ],
             [
              0.8888888888888888,
              "#fdca26"
             ],
             [
              1,
              "#f0f921"
             ]
            ],
            "type": "histogram2dcontour"
           }
          ],
          "mesh3d": [
           {
            "colorbar": {
             "outlinewidth": 0,
             "ticks": ""
            },
            "type": "mesh3d"
           }
          ],
          "parcoords": [
           {
            "line": {
             "colorbar": {
              "outlinewidth": 0,
              "ticks": ""
             }
            },
            "type": "parcoords"
           }
          ],
          "pie": [
           {
            "automargin": true,
            "type": "pie"
           }
          ],
          "scatter": [
           {
            "fillpattern": {
             "fillmode": "overlay",
             "size": 10,
             "solidity": 0.2
            },
            "type": "scatter"
           }
          ],
          "scatter3d": [
           {
            "line": {
             "colorbar": {
              "outlinewidth": 0,
              "ticks": ""
             }
            },
            "marker": {
             "colorbar": {
              "outlinewidth": 0,
              "ticks": ""
             }
            },
            "type": "scatter3d"
           }
          ],
          "scattercarpet": [
           {
            "marker": {
             "colorbar": {
              "outlinewidth": 0,
              "ticks": ""
             }
            },
            "type": "scattercarpet"
           }
          ],
          "scattergeo": [
           {
            "marker": {
             "colorbar": {
              "outlinewidth": 0,
              "ticks": ""
             }
            },
            "type": "scattergeo"
           }
          ],
          "scattergl": [
           {
            "marker": {
             "colorbar": {
              "outlinewidth": 0,
              "ticks": ""
             }
            },
            "type": "scattergl"
           }
          ],
          "scattermap": [
           {
            "marker": {
             "colorbar": {
              "outlinewidth": 0,
              "ticks": ""
             }
            },
            "type": "scattermap"
           }
          ],
          "scattermapbox": [
           {
            "marker": {
             "colorbar": {
              "outlinewidth": 0,
              "ticks": ""
             }
            },
            "type": "scattermapbox"
           }
          ],
          "scatterpolar": [
           {
            "marker": {
             "colorbar": {
              "outlinewidth": 0,
              "ticks": ""
             }
            },
            "type": "scatterpolar"
           }
          ],
          "scatterpolargl": [
           {
            "marker": {
             "colorbar": {
              "outlinewidth": 0,
              "ticks": ""
             }
            },
            "type": "scatterpolargl"
           }
          ],
          "scatterternary": [
           {
            "marker": {
             "colorbar": {
              "outlinewidth": 0,
              "ticks": ""
             }
            },
            "type": "scatterternary"
           }
          ],
          "surface": [
           {
            "colorbar": {
             "outlinewidth": 0,
             "ticks": ""
            },
            "colorscale": [
             [
              0,
              "#0d0887"
             ],
             [
              0.1111111111111111,
              "#46039f"
             ],
             [
              0.2222222222222222,
              "#7201a8"
             ],
             [
              0.3333333333333333,
              "#9c179e"
             ],
             [
              0.4444444444444444,
              "#bd3786"
             ],
             [
              0.5555555555555556,
              "#d8576b"
             ],
             [
              0.6666666666666666,
              "#ed7953"
             ],
             [
              0.7777777777777778,
              "#fb9f3a"
             ],
             [
              0.8888888888888888,
              "#fdca26"
             ],
             [
              1,
              "#f0f921"
             ]
            ],
            "type": "surface"
           }
          ],
          "table": [
           {
            "cells": {
             "fill": {
              "color": "#EBF0F8"
             },
             "line": {
              "color": "white"
             }
            },
            "header": {
             "fill": {
              "color": "#C8D4E3"
             },
             "line": {
              "color": "white"
             }
            },
            "type": "table"
           }
          ]
         },
         "layout": {
          "annotationdefaults": {
           "arrowcolor": "#2a3f5f",
           "arrowhead": 0,
           "arrowwidth": 1
          },
          "autotypenumbers": "strict",
          "coloraxis": {
           "colorbar": {
            "outlinewidth": 0,
            "ticks": ""
           }
          },
          "colorscale": {
           "diverging": [
            [
             0,
             "#8e0152"
            ],
            [
             0.1,
             "#c51b7d"
            ],
            [
             0.2,
             "#de77ae"
            ],
            [
             0.3,
             "#f1b6da"
            ],
            [
             0.4,
             "#fde0ef"
            ],
            [
             0.5,
             "#f7f7f7"
            ],
            [
             0.6,
             "#e6f5d0"
            ],
            [
             0.7,
             "#b8e186"
            ],
            [
             0.8,
             "#7fbc41"
            ],
            [
             0.9,
             "#4d9221"
            ],
            [
             1,
             "#276419"
            ]
           ],
           "sequential": [
            [
             0,
             "#0d0887"
            ],
            [
             0.1111111111111111,
             "#46039f"
            ],
            [
             0.2222222222222222,
             "#7201a8"
            ],
            [
             0.3333333333333333,
             "#9c179e"
            ],
            [
             0.4444444444444444,
             "#bd3786"
            ],
            [
             0.5555555555555556,
             "#d8576b"
            ],
            [
             0.6666666666666666,
             "#ed7953"
            ],
            [
             0.7777777777777778,
             "#fb9f3a"
            ],
            [
             0.8888888888888888,
             "#fdca26"
            ],
            [
             1,
             "#f0f921"
            ]
           ],
           "sequentialminus": [
            [
             0,
             "#0d0887"
            ],
            [
             0.1111111111111111,
             "#46039f"
            ],
            [
             0.2222222222222222,
             "#7201a8"
            ],
            [
             0.3333333333333333,
             "#9c179e"
            ],
            [
             0.4444444444444444,
             "#bd3786"
            ],
            [
             0.5555555555555556,
             "#d8576b"
            ],
            [
             0.6666666666666666,
             "#ed7953"
            ],
            [
             0.7777777777777778,
             "#fb9f3a"
            ],
            [
             0.8888888888888888,
             "#fdca26"
            ],
            [
             1,
             "#f0f921"
            ]
           ]
          },
          "colorway": [
           "#636efa",
           "#EF553B",
           "#00cc96",
           "#ab63fa",
           "#FFA15A",
           "#19d3f3",
           "#FF6692",
           "#B6E880",
           "#FF97FF",
           "#FECB52"
          ],
          "font": {
           "color": "#2a3f5f"
          },
          "geo": {
           "bgcolor": "white",
           "lakecolor": "white",
           "landcolor": "#E5ECF6",
           "showlakes": true,
           "showland": true,
           "subunitcolor": "white"
          },
          "hoverlabel": {
           "align": "left"
          },
          "hovermode": "closest",
          "mapbox": {
           "style": "light"
          },
          "paper_bgcolor": "white",
          "plot_bgcolor": "#E5ECF6",
          "polar": {
           "angularaxis": {
            "gridcolor": "white",
            "linecolor": "white",
            "ticks": ""
           },
           "bgcolor": "#E5ECF6",
           "radialaxis": {
            "gridcolor": "white",
            "linecolor": "white",
            "ticks": ""
           }
          },
          "scene": {
           "xaxis": {
            "backgroundcolor": "#E5ECF6",
            "gridcolor": "white",
            "gridwidth": 2,
            "linecolor": "white",
            "showbackground": true,
            "ticks": "",
            "zerolinecolor": "white"
           },
           "yaxis": {
            "backgroundcolor": "#E5ECF6",
            "gridcolor": "white",
            "gridwidth": 2,
            "linecolor": "white",
            "showbackground": true,
            "ticks": "",
            "zerolinecolor": "white"
           },
           "zaxis": {
            "backgroundcolor": "#E5ECF6",
            "gridcolor": "white",
            "gridwidth": 2,
            "linecolor": "white",
            "showbackground": true,
            "ticks": "",
            "zerolinecolor": "white"
           }
          },
          "shapedefaults": {
           "line": {
            "color": "#2a3f5f"
           }
          },
          "ternary": {
           "aaxis": {
            "gridcolor": "white",
            "linecolor": "white",
            "ticks": ""
           },
           "baxis": {
            "gridcolor": "white",
            "linecolor": "white",
            "ticks": ""
           },
           "bgcolor": "#E5ECF6",
           "caxis": {
            "gridcolor": "white",
            "linecolor": "white",
            "ticks": ""
           }
          },
          "title": {
           "x": 0.05
          },
          "xaxis": {
           "automargin": true,
           "gridcolor": "white",
           "linecolor": "white",
           "ticks": "",
           "title": {
            "standoff": 15
           },
           "zerolinecolor": "white",
           "zerolinewidth": 2
          },
          "yaxis": {
           "automargin": true,
           "gridcolor": "white",
           "linecolor": "white",
           "ticks": "",
           "title": {
            "standoff": 15
           },
           "zerolinecolor": "white",
           "zerolinewidth": 2
          }
         }
        },
        "title": {
         "text": "3D визуализация зависимости корреляции от LookBack и Hold"
        }
       }
      }
     },
     "metadata": {},
     "output_type": "display_data"
    }
   ],
   "source": [
    "fig_3d = px.scatter_3d(\n",
    "    returns_table,\n",
    "    x=\"LookBack\",\n",
    "    y=\"Hold\",\n",
    "    z=\"Correlation_abs\",\n",
    "    color=\"P-value\",\n",
    "    size=\"Correlation_abs\",\n",
    "    title=\"3D визуализация зависимости корреляции от LookBack и Hold\"\n",
    ")\n",
    "\n",
    "fig_3d.update_layout(scene=dict(\n",
    "    xaxis_title='LookBack (мин)',\n",
    "    yaxis_title='Hold (мин)',\n",
    "    zaxis_title='Correlation'\n",
    "))\n",
    "\n",
    "fig_3d.show()"
   ]
  },
  {
   "cell_type": "code",
   "execution_count": null,
   "metadata": {},
   "outputs": [],
   "source": []
  }
 ],
 "metadata": {
  "kernelspec": {
   "display_name": "strategy-project-acofjSPn-py3.12",
   "language": "python",
   "name": "python3"
  },
  "language_info": {
   "codemirror_mode": {
    "name": "ipython",
    "version": 3
   },
   "file_extension": ".py",
   "mimetype": "text/x-python",
   "name": "python",
   "nbconvert_exporter": "python",
   "pygments_lexer": "ipython3",
   "version": "3.12.4"
  }
 },
 "nbformat": 4,
 "nbformat_minor": 2
}
