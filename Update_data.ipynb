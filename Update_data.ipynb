{
 "cells": [
  {
   "cell_type": "code",
   "execution_count": 115,
   "metadata": {},
   "outputs": [],
   "source": [
    "import pandas as pd\n",
    "from sqlalchemy import create_engine\n",
    "from joblib import Parallel, delayed\n",
    "from tqdm import tqdm\n",
    "from hurst import compute_Hc\n",
    "import plotly.express as px\n",
    "import seaborn as sns\n",
    "\n",
    "import pandas as pd\n",
    "import numpy as np\n",
    "import vectorbt as vbt\n",
    "import glob\n",
    "import os\n",
    "import scipy.stats as stats\n",
    "\n",
    "\n",
    "\n",
    "import warnings \n",
    "warnings.filterwarnings('ignore')\n"
   ]
  },
  {
   "cell_type": "code",
   "execution_count": null,
   "metadata": {},
   "outputs": [],
   "source": []
  },
  {
   "cell_type": "code",
   "execution_count": null,
   "metadata": {},
   "outputs": [],
   "source": []
  },
  {
   "cell_type": "code",
   "execution_count": 3,
   "metadata": {},
   "outputs": [],
   "source": [
    "DATA_DIR = 'data/'\n",
    "\n",
    "fx_list = ['EURCZK', 'AUDUSD', 'EURHUF', 'EURNOK', 'EURPLN',\n",
    "           'EURSEK', 'EURUSD', 'GBPUSD', 'NZDUSD', 'USDCAD',\n",
    "           'USDCHF', 'USDCNH', 'USDILS', 'USDJPY', 'USDMXN', \n",
    "           'USDSGD', 'USDZAR']"
   ]
  },
  {
   "cell_type": "code",
   "execution_count": 77,
   "metadata": {},
   "outputs": [],
   "source": [
    "def preprocessing_data(path):\n",
    "    if 'futures_1min_bar' in path:\n",
    "        data = pd.read_parquet(path)\n",
    "        data = data.sort_values(by='timestamp')\n",
    "        data['Roll Adjusted Bid'] = data['bid'] + data['adjustment']\n",
    "        data['Roll Adjusted Offer'] = data['offer'] + data['adjustment']\n",
    "        data['mid_price'] = (data['Roll Adjusted Bid'] + data['Roll Adjusted Offer']) / 2\n",
    "    else:\n",
    "        data = pd.read_parquet(path)\n",
    "        data = data.sort_values(by='timestamp')\n",
    "        data['mid_price'] = (data['bid'] + data['offer']) / 2\n",
    "\n",
    "    return data.set_index('timestamp').ffill().dropna()"
   ]
  },
  {
   "cell_type": "code",
   "execution_count": null,
   "metadata": {},
   "outputs": [
    {
     "name": "stderr",
     "output_type": "stream",
     "text": [
      "100%|██████████| 18/18 [01:10<00:00,  3.90s/it]\n"
     ]
    },
    {
     "data": {
      "text/html": [
       "<div>\n",
       "<style scoped>\n",
       "    .dataframe tbody tr th:only-of-type {\n",
       "        vertical-align: middle;\n",
       "    }\n",
       "\n",
       "    .dataframe tbody tr th {\n",
       "        vertical-align: top;\n",
       "    }\n",
       "\n",
       "    .dataframe thead th {\n",
       "        text-align: right;\n",
       "    }\n",
       "</style>\n",
       "<table border=\"1\" class=\"dataframe\">\n",
       "  <thead>\n",
       "    <tr style=\"text-align: right;\">\n",
       "      <th></th>\n",
       "      <th>data</th>\n",
       "      <th>hurst_value</th>\n",
       "    </tr>\n",
       "  </thead>\n",
       "  <tbody>\n",
       "    <tr>\n",
       "      <th>0</th>\n",
       "      <td>USDCHF_data</td>\n",
       "      <td>0.490713</td>\n",
       "    </tr>\n",
       "    <tr>\n",
       "      <th>1</th>\n",
       "      <td>USDILS_data</td>\n",
       "      <td>0.472870</td>\n",
       "    </tr>\n",
       "    <tr>\n",
       "      <th>2</th>\n",
       "      <td>EURSEK_data</td>\n",
       "      <td>0.443851</td>\n",
       "    </tr>\n",
       "    <tr>\n",
       "      <th>3</th>\n",
       "      <td>AUDUSD_data</td>\n",
       "      <td>0.480182</td>\n",
       "    </tr>\n",
       "    <tr>\n",
       "      <th>4</th>\n",
       "      <td>USDMXN_data</td>\n",
       "      <td>0.482525</td>\n",
       "    </tr>\n",
       "    <tr>\n",
       "      <th>5</th>\n",
       "      <td>EURHUF_data</td>\n",
       "      <td>0.484386</td>\n",
       "    </tr>\n",
       "    <tr>\n",
       "      <th>6</th>\n",
       "      <td>USDCNH_data</td>\n",
       "      <td>0.500666</td>\n",
       "    </tr>\n",
       "    <tr>\n",
       "      <th>7</th>\n",
       "      <td>USDJPY_data</td>\n",
       "      <td>0.534108</td>\n",
       "    </tr>\n",
       "    <tr>\n",
       "      <th>8</th>\n",
       "      <td>EURNOK_data</td>\n",
       "      <td>0.443485</td>\n",
       "    </tr>\n",
       "    <tr>\n",
       "      <th>9</th>\n",
       "      <td>NZDUSD_data</td>\n",
       "      <td>0.452005</td>\n",
       "    </tr>\n",
       "    <tr>\n",
       "      <th>10</th>\n",
       "      <td>USDZAR_data</td>\n",
       "      <td>0.464065</td>\n",
       "    </tr>\n",
       "    <tr>\n",
       "      <th>11</th>\n",
       "      <td>USDCAD_data</td>\n",
       "      <td>0.485266</td>\n",
       "    </tr>\n",
       "    <tr>\n",
       "      <th>12</th>\n",
       "      <td>EURUSD_data</td>\n",
       "      <td>0.501432</td>\n",
       "    </tr>\n",
       "    <tr>\n",
       "      <th>13</th>\n",
       "      <td>EURPLN_data</td>\n",
       "      <td>0.491821</td>\n",
       "    </tr>\n",
       "    <tr>\n",
       "      <th>14</th>\n",
       "      <td>USDSGD_data</td>\n",
       "      <td>0.488067</td>\n",
       "    </tr>\n",
       "    <tr>\n",
       "      <th>15</th>\n",
       "      <td>GBPUSD_data</td>\n",
       "      <td>0.490885</td>\n",
       "    </tr>\n",
       "    <tr>\n",
       "      <th>16</th>\n",
       "      <td>futures_1min_bar</td>\n",
       "      <td>0.524341</td>\n",
       "    </tr>\n",
       "    <tr>\n",
       "      <th>17</th>\n",
       "      <td>EURCZK_data</td>\n",
       "      <td>0.466833</td>\n",
       "    </tr>\n",
       "  </tbody>\n",
       "</table>\n",
       "</div>"
      ],
      "text/plain": [
       "                data  hurst_value\n",
       "0        USDCHF_data     0.490713\n",
       "1        USDILS_data     0.472870\n",
       "2        EURSEK_data     0.443851\n",
       "3        AUDUSD_data     0.480182\n",
       "4        USDMXN_data     0.482525\n",
       "5        EURHUF_data     0.484386\n",
       "6        USDCNH_data     0.500666\n",
       "7        USDJPY_data     0.534108\n",
       "8        EURNOK_data     0.443485\n",
       "9        NZDUSD_data     0.452005\n",
       "10       USDZAR_data     0.464065\n",
       "11       USDCAD_data     0.485266\n",
       "12       EURUSD_data     0.501432\n",
       "13       EURPLN_data     0.491821\n",
       "14       USDSGD_data     0.488067\n",
       "15       GBPUSD_data     0.490885\n",
       "16  futures_1min_bar     0.524341\n",
       "17       EURCZK_data     0.466833"
      ]
     },
     "execution_count": 78,
     "metadata": {},
     "output_type": "execute_result"
    }
   ],
   "source": [
    "hurst_df = []\n",
    "\n",
    "for path in tqdm(glob.glob('data/*.parquet')):\n",
    "    cur_data = preprocessing_data(path)\n",
    "    hurst_value, _, _ = compute_Hc(cur_data['mid_price'], kind='price', simplified=True)\n",
    "    hurst_df.append([path.split('.')[0].split('/')[-1], hurst_value])\n",
    "\n",
    "hurst_df = pd.DataFrame(hurst_df, columns = ['data', 'hurst_value'])\n",
    "hurst_df"
   ]
  },
  {
   "cell_type": "code",
   "execution_count": 80,
   "metadata": {},
   "outputs": [],
   "source": [
    "hurst_df.to_csv('data/results/hurst_data.csv', index=False)"
   ]
  },
  {
   "cell_type": "code",
   "execution_count": 79,
   "metadata": {},
   "outputs": [
    {
     "data": {
      "application/vnd.plotly.v1+json": {
       "config": {
        "plotlyServerURL": "https://plot.ly"
       },
       "data": [
        {
         "alignmentgroup": "True",
         "hovertemplate": "hurst_value=%{x}<br>data=%{y}<extra></extra>",
         "legendgroup": "",
         "marker": {
          "color": "#636efa",
          "pattern": {
           "shape": ""
          }
         },
         "name": "",
         "offsetgroup": "",
         "orientation": "h",
         "showlegend": false,
         "textposition": "auto",
         "type": "bar",
         "x": [
          0.4434849399243914,
          0.4438509168190087,
          0.4520045630200556,
          0.464064702860981,
          0.46683272427467865,
          0.47287049251584895,
          0.48018241511415016,
          0.4825246411459727,
          0.4843856478171042,
          0.4852662985105125,
          0.4880669205096542,
          0.490712516771312,
          0.49088483039846975,
          0.4918207593825602,
          0.5006658666120031,
          0.5014317568958201,
          0.5243413627310524,
          0.5341079424905667
         ],
         "xaxis": "x",
         "y": [
          "EURNOK_data",
          "EURSEK_data",
          "NZDUSD_data",
          "USDZAR_data",
          "EURCZK_data",
          "USDILS_data",
          "AUDUSD_data",
          "USDMXN_data",
          "EURHUF_data",
          "USDCAD_data",
          "USDSGD_data",
          "USDCHF_data",
          "GBPUSD_data",
          "EURPLN_data",
          "USDCNH_data",
          "EURUSD_data",
          "futures_1min_bar",
          "USDJPY_data"
         ],
         "yaxis": "y"
        }
       ],
       "layout": {
        "barmode": "relative",
        "legend": {
         "tracegroupgap": 0
        },
        "margin": {
         "t": 60
        },
        "template": {
         "data": {
          "bar": [
           {
            "error_x": {
             "color": "#2a3f5f"
            },
            "error_y": {
             "color": "#2a3f5f"
            },
            "marker": {
             "line": {
              "color": "#E5ECF6",
              "width": 0.5
             },
             "pattern": {
              "fillmode": "overlay",
              "size": 10,
              "solidity": 0.2
             }
            },
            "type": "bar"
           }
          ],
          "barpolar": [
           {
            "marker": {
             "line": {
              "color": "#E5ECF6",
              "width": 0.5
             },
             "pattern": {
              "fillmode": "overlay",
              "size": 10,
              "solidity": 0.2
             }
            },
            "type": "barpolar"
           }
          ],
          "carpet": [
           {
            "aaxis": {
             "endlinecolor": "#2a3f5f",
             "gridcolor": "white",
             "linecolor": "white",
             "minorgridcolor": "white",
             "startlinecolor": "#2a3f5f"
            },
            "baxis": {
             "endlinecolor": "#2a3f5f",
             "gridcolor": "white",
             "linecolor": "white",
             "minorgridcolor": "white",
             "startlinecolor": "#2a3f5f"
            },
            "type": "carpet"
           }
          ],
          "choropleth": [
           {
            "colorbar": {
             "outlinewidth": 0,
             "ticks": ""
            },
            "type": "choropleth"
           }
          ],
          "contour": [
           {
            "colorbar": {
             "outlinewidth": 0,
             "ticks": ""
            },
            "colorscale": [
             [
              0,
              "#0d0887"
             ],
             [
              0.1111111111111111,
              "#46039f"
             ],
             [
              0.2222222222222222,
              "#7201a8"
             ],
             [
              0.3333333333333333,
              "#9c179e"
             ],
             [
              0.4444444444444444,
              "#bd3786"
             ],
             [
              0.5555555555555556,
              "#d8576b"
             ],
             [
              0.6666666666666666,
              "#ed7953"
             ],
             [
              0.7777777777777778,
              "#fb9f3a"
             ],
             [
              0.8888888888888888,
              "#fdca26"
             ],
             [
              1,
              "#f0f921"
             ]
            ],
            "type": "contour"
           }
          ],
          "contourcarpet": [
           {
            "colorbar": {
             "outlinewidth": 0,
             "ticks": ""
            },
            "type": "contourcarpet"
           }
          ],
          "heatmap": [
           {
            "colorbar": {
             "outlinewidth": 0,
             "ticks": ""
            },
            "colorscale": [
             [
              0,
              "#0d0887"
             ],
             [
              0.1111111111111111,
              "#46039f"
             ],
             [
              0.2222222222222222,
              "#7201a8"
             ],
             [
              0.3333333333333333,
              "#9c179e"
             ],
             [
              0.4444444444444444,
              "#bd3786"
             ],
             [
              0.5555555555555556,
              "#d8576b"
             ],
             [
              0.6666666666666666,
              "#ed7953"
             ],
             [
              0.7777777777777778,
              "#fb9f3a"
             ],
             [
              0.8888888888888888,
              "#fdca26"
             ],
             [
              1,
              "#f0f921"
             ]
            ],
            "type": "heatmap"
           }
          ],
          "heatmapgl": [
           {
            "colorbar": {
             "outlinewidth": 0,
             "ticks": ""
            },
            "colorscale": [
             [
              0,
              "#0d0887"
             ],
             [
              0.1111111111111111,
              "#46039f"
             ],
             [
              0.2222222222222222,
              "#7201a8"
             ],
             [
              0.3333333333333333,
              "#9c179e"
             ],
             [
              0.4444444444444444,
              "#bd3786"
             ],
             [
              0.5555555555555556,
              "#d8576b"
             ],
             [
              0.6666666666666666,
              "#ed7953"
             ],
             [
              0.7777777777777778,
              "#fb9f3a"
             ],
             [
              0.8888888888888888,
              "#fdca26"
             ],
             [
              1,
              "#f0f921"
             ]
            ],
            "type": "heatmapgl"
           }
          ],
          "histogram": [
           {
            "marker": {
             "pattern": {
              "fillmode": "overlay",
              "size": 10,
              "solidity": 0.2
             }
            },
            "type": "histogram"
           }
          ],
          "histogram2d": [
           {
            "colorbar": {
             "outlinewidth": 0,
             "ticks": ""
            },
            "colorscale": [
             [
              0,
              "#0d0887"
             ],
             [
              0.1111111111111111,
              "#46039f"
             ],
             [
              0.2222222222222222,
              "#7201a8"
             ],
             [
              0.3333333333333333,
              "#9c179e"
             ],
             [
              0.4444444444444444,
              "#bd3786"
             ],
             [
              0.5555555555555556,
              "#d8576b"
             ],
             [
              0.6666666666666666,
              "#ed7953"
             ],
             [
              0.7777777777777778,
              "#fb9f3a"
             ],
             [
              0.8888888888888888,
              "#fdca26"
             ],
             [
              1,
              "#f0f921"
             ]
            ],
            "type": "histogram2d"
           }
          ],
          "histogram2dcontour": [
           {
            "colorbar": {
             "outlinewidth": 0,
             "ticks": ""
            },
            "colorscale": [
             [
              0,
              "#0d0887"
             ],
             [
              0.1111111111111111,
              "#46039f"
             ],
             [
              0.2222222222222222,
              "#7201a8"
             ],
             [
              0.3333333333333333,
              "#9c179e"
             ],
             [
              0.4444444444444444,
              "#bd3786"
             ],
             [
              0.5555555555555556,
              "#d8576b"
             ],
             [
              0.6666666666666666,
              "#ed7953"
             ],
             [
              0.7777777777777778,
              "#fb9f3a"
             ],
             [
              0.8888888888888888,
              "#fdca26"
             ],
             [
              1,
              "#f0f921"
             ]
            ],
            "type": "histogram2dcontour"
           }
          ],
          "mesh3d": [
           {
            "colorbar": {
             "outlinewidth": 0,
             "ticks": ""
            },
            "type": "mesh3d"
           }
          ],
          "parcoords": [
           {
            "line": {
             "colorbar": {
              "outlinewidth": 0,
              "ticks": ""
             }
            },
            "type": "parcoords"
           }
          ],
          "pie": [
           {
            "automargin": true,
            "type": "pie"
           }
          ],
          "scatter": [
           {
            "fillpattern": {
             "fillmode": "overlay",
             "size": 10,
             "solidity": 0.2
            },
            "type": "scatter"
           }
          ],
          "scatter3d": [
           {
            "line": {
             "colorbar": {
              "outlinewidth": 0,
              "ticks": ""
             }
            },
            "marker": {
             "colorbar": {
              "outlinewidth": 0,
              "ticks": ""
             }
            },
            "type": "scatter3d"
           }
          ],
          "scattercarpet": [
           {
            "marker": {
             "colorbar": {
              "outlinewidth": 0,
              "ticks": ""
             }
            },
            "type": "scattercarpet"
           }
          ],
          "scattergeo": [
           {
            "marker": {
             "colorbar": {
              "outlinewidth": 0,
              "ticks": ""
             }
            },
            "type": "scattergeo"
           }
          ],
          "scattergl": [
           {
            "marker": {
             "colorbar": {
              "outlinewidth": 0,
              "ticks": ""
             }
            },
            "type": "scattergl"
           }
          ],
          "scattermapbox": [
           {
            "marker": {
             "colorbar": {
              "outlinewidth": 0,
              "ticks": ""
             }
            },
            "type": "scattermapbox"
           }
          ],
          "scatterpolar": [
           {
            "marker": {
             "colorbar": {
              "outlinewidth": 0,
              "ticks": ""
             }
            },
            "type": "scatterpolar"
           }
          ],
          "scatterpolargl": [
           {
            "marker": {
             "colorbar": {
              "outlinewidth": 0,
              "ticks": ""
             }
            },
            "type": "scatterpolargl"
           }
          ],
          "scatterternary": [
           {
            "marker": {
             "colorbar": {
              "outlinewidth": 0,
              "ticks": ""
             }
            },
            "type": "scatterternary"
           }
          ],
          "surface": [
           {
            "colorbar": {
             "outlinewidth": 0,
             "ticks": ""
            },
            "colorscale": [
             [
              0,
              "#0d0887"
             ],
             [
              0.1111111111111111,
              "#46039f"
             ],
             [
              0.2222222222222222,
              "#7201a8"
             ],
             [
              0.3333333333333333,
              "#9c179e"
             ],
             [
              0.4444444444444444,
              "#bd3786"
             ],
             [
              0.5555555555555556,
              "#d8576b"
             ],
             [
              0.6666666666666666,
              "#ed7953"
             ],
             [
              0.7777777777777778,
              "#fb9f3a"
             ],
             [
              0.8888888888888888,
              "#fdca26"
             ],
             [
              1,
              "#f0f921"
             ]
            ],
            "type": "surface"
           }
          ],
          "table": [
           {
            "cells": {
             "fill": {
              "color": "#EBF0F8"
             },
             "line": {
              "color": "white"
             }
            },
            "header": {
             "fill": {
              "color": "#C8D4E3"
             },
             "line": {
              "color": "white"
             }
            },
            "type": "table"
           }
          ]
         },
         "layout": {
          "annotationdefaults": {
           "arrowcolor": "#2a3f5f",
           "arrowhead": 0,
           "arrowwidth": 1
          },
          "autotypenumbers": "strict",
          "coloraxis": {
           "colorbar": {
            "outlinewidth": 0,
            "ticks": ""
           }
          },
          "colorscale": {
           "diverging": [
            [
             0,
             "#8e0152"
            ],
            [
             0.1,
             "#c51b7d"
            ],
            [
             0.2,
             "#de77ae"
            ],
            [
             0.3,
             "#f1b6da"
            ],
            [
             0.4,
             "#fde0ef"
            ],
            [
             0.5,
             "#f7f7f7"
            ],
            [
             0.6,
             "#e6f5d0"
            ],
            [
             0.7,
             "#b8e186"
            ],
            [
             0.8,
             "#7fbc41"
            ],
            [
             0.9,
             "#4d9221"
            ],
            [
             1,
             "#276419"
            ]
           ],
           "sequential": [
            [
             0,
             "#0d0887"
            ],
            [
             0.1111111111111111,
             "#46039f"
            ],
            [
             0.2222222222222222,
             "#7201a8"
            ],
            [
             0.3333333333333333,
             "#9c179e"
            ],
            [
             0.4444444444444444,
             "#bd3786"
            ],
            [
             0.5555555555555556,
             "#d8576b"
            ],
            [
             0.6666666666666666,
             "#ed7953"
            ],
            [
             0.7777777777777778,
             "#fb9f3a"
            ],
            [
             0.8888888888888888,
             "#fdca26"
            ],
            [
             1,
             "#f0f921"
            ]
           ],
           "sequentialminus": [
            [
             0,
             "#0d0887"
            ],
            [
             0.1111111111111111,
             "#46039f"
            ],
            [
             0.2222222222222222,
             "#7201a8"
            ],
            [
             0.3333333333333333,
             "#9c179e"
            ],
            [
             0.4444444444444444,
             "#bd3786"
            ],
            [
             0.5555555555555556,
             "#d8576b"
            ],
            [
             0.6666666666666666,
             "#ed7953"
            ],
            [
             0.7777777777777778,
             "#fb9f3a"
            ],
            [
             0.8888888888888888,
             "#fdca26"
            ],
            [
             1,
             "#f0f921"
            ]
           ]
          },
          "colorway": [
           "#636efa",
           "#EF553B",
           "#00cc96",
           "#ab63fa",
           "#FFA15A",
           "#19d3f3",
           "#FF6692",
           "#B6E880",
           "#FF97FF",
           "#FECB52"
          ],
          "font": {
           "color": "#2a3f5f"
          },
          "geo": {
           "bgcolor": "white",
           "lakecolor": "white",
           "landcolor": "#E5ECF6",
           "showlakes": true,
           "showland": true,
           "subunitcolor": "white"
          },
          "hoverlabel": {
           "align": "left"
          },
          "hovermode": "closest",
          "mapbox": {
           "style": "light"
          },
          "paper_bgcolor": "white",
          "plot_bgcolor": "#E5ECF6",
          "polar": {
           "angularaxis": {
            "gridcolor": "white",
            "linecolor": "white",
            "ticks": ""
           },
           "bgcolor": "#E5ECF6",
           "radialaxis": {
            "gridcolor": "white",
            "linecolor": "white",
            "ticks": ""
           }
          },
          "scene": {
           "xaxis": {
            "backgroundcolor": "#E5ECF6",
            "gridcolor": "white",
            "gridwidth": 2,
            "linecolor": "white",
            "showbackground": true,
            "ticks": "",
            "zerolinecolor": "white"
           },
           "yaxis": {
            "backgroundcolor": "#E5ECF6",
            "gridcolor": "white",
            "gridwidth": 2,
            "linecolor": "white",
            "showbackground": true,
            "ticks": "",
            "zerolinecolor": "white"
           },
           "zaxis": {
            "backgroundcolor": "#E5ECF6",
            "gridcolor": "white",
            "gridwidth": 2,
            "linecolor": "white",
            "showbackground": true,
            "ticks": "",
            "zerolinecolor": "white"
           }
          },
          "shapedefaults": {
           "line": {
            "color": "#2a3f5f"
           }
          },
          "ternary": {
           "aaxis": {
            "gridcolor": "white",
            "linecolor": "white",
            "ticks": ""
           },
           "baxis": {
            "gridcolor": "white",
            "linecolor": "white",
            "ticks": ""
           },
           "bgcolor": "#E5ECF6",
           "caxis": {
            "gridcolor": "white",
            "linecolor": "white",
            "ticks": ""
           }
          },
          "title": {
           "x": 0.05
          },
          "xaxis": {
           "automargin": true,
           "gridcolor": "white",
           "linecolor": "white",
           "ticks": "",
           "title": {
            "standoff": 15
           },
           "zerolinecolor": "white",
           "zerolinewidth": 2
          },
          "yaxis": {
           "automargin": true,
           "gridcolor": "white",
           "linecolor": "white",
           "ticks": "",
           "title": {
            "standoff": 15
           },
           "zerolinecolor": "white",
           "zerolinewidth": 2
          }
         }
        },
        "xaxis": {
         "anchor": "y",
         "domain": [
          0,
          1
         ],
         "title": {
          "text": "hurst_value"
         }
        },
        "yaxis": {
         "anchor": "x",
         "domain": [
          0,
          1
         ],
         "title": {
          "text": "data"
         }
        }
       }
      }
     },
     "metadata": {},
     "output_type": "display_data"
    }
   ],
   "source": [
    "px.bar(\n",
    "    hurst_df.sort_values(by='hurst_value'),\n",
    "    x='hurst_value',\n",
    "    y='data'\n",
    ")"
   ]
  },
  {
   "cell_type": "code",
   "execution_count": 87,
   "metadata": {},
   "outputs": [],
   "source": [
    "def bootstrap_hurst(series, n_iter=100, sample_frac=0.6, n_jobs=-1):\n",
    "    series = np.asarray(series)\n",
    "    n = len(series)\n",
    "    sample_size = int(n * sample_frac)\n",
    "\n",
    "    # Внутренняя функция для одной итерации\n",
    "    def one_bootstrap():\n",
    "        idx = np.random.choice(n, size=sample_size, replace=False)\n",
    "        sample = series[np.sort(idx)]\n",
    "        H, _, _ = compute_Hc(sample, kind='price', simplified=False)\n",
    "        return H\n",
    "\n",
    "    # Параллельное выполнение\n",
    "    hurst_vals = Parallel(n_jobs=n_jobs)(\n",
    "        delayed(one_bootstrap)() for _ in tqdm(range(n_iter), desc='Bootstaping...')\n",
    "    )\n",
    "\n",
    "    return np.percentile(hurst_vals, [2.5, 97.5]), np.mean(hurst_vals)"
   ]
  },
  {
   "cell_type": "code",
   "execution_count": 91,
   "metadata": {},
   "outputs": [
    {
     "name": "stderr",
     "output_type": "stream",
     "text": [
      "Bootstaping...: 100%|██████████| 100/100 [00:42<00:00,  2.36it/s]\n",
      "Bootstaping...: 100%|██████████| 100/100 [00:39<00:00,  2.55it/s]\n",
      "Bootstaping...: 100%|██████████| 100/100 [00:39<00:00,  2.51it/s]\n",
      "Bootstaping...: 100%|██████████| 100/100 [00:40<00:00,  2.46it/s]\n",
      "Bootstaping...: 100%|██████████| 100/100 [00:40<00:00,  2.46it/s]\n",
      "Bootstaping...: 100%|██████████| 100/100 [00:40<00:00,  2.49it/s]\n",
      "Bootstaping...: 100%|██████████| 100/100 [00:40<00:00,  2.47it/s]\n",
      "Bootstaping...: 100%|██████████| 100/100 [00:40<00:00,  2.49it/s]\n",
      "Bootstaping...: 100%|██████████| 100/100 [00:40<00:00,  2.48it/s]\n",
      "Bootstaping...: 100%|██████████| 100/100 [00:40<00:00,  2.47it/s]\n",
      "Bootstaping...: 100%|██████████| 100/100 [00:39<00:00,  2.50it/s]\n",
      "Bootstaping...: 100%|██████████| 100/100 [00:40<00:00,  2.48it/s]\n",
      "Bootstaping...: 100%|██████████| 100/100 [00:40<00:00,  2.48it/s]\n",
      "Bootstaping...: 100%|██████████| 100/100 [00:39<00:00,  2.54it/s]\n",
      "Bootstaping...: 100%|██████████| 100/100 [00:41<00:00,  2.40it/s]\n",
      "Bootstaping...: 100%|██████████| 100/100 [00:40<00:00,  2.45it/s]\n",
      "Bootstaping...: 100%|██████████| 100/100 [00:10<00:00,  9.44it/s]\n",
      "Bootstaping...: 100%|██████████| 100/100 [00:39<00:00,  2.52it/s]\n"
     ]
    },
    {
     "data": {
      "text/html": [
       "<div>\n",
       "<style scoped>\n",
       "    .dataframe tbody tr th:only-of-type {\n",
       "        vertical-align: middle;\n",
       "    }\n",
       "\n",
       "    .dataframe tbody tr th {\n",
       "        vertical-align: top;\n",
       "    }\n",
       "\n",
       "    .dataframe thead th {\n",
       "        text-align: right;\n",
       "    }\n",
       "</style>\n",
       "<table border=\"1\" class=\"dataframe\">\n",
       "  <thead>\n",
       "    <tr style=\"text-align: right;\">\n",
       "      <th></th>\n",
       "      <th>data</th>\n",
       "      <th>hurst_value</th>\n",
       "      <th>ci_low</th>\n",
       "      <th>ci_high</th>\n",
       "    </tr>\n",
       "  </thead>\n",
       "  <tbody>\n",
       "    <tr>\n",
       "      <th>0</th>\n",
       "      <td>USDCHF_data</td>\n",
       "      <td>0.507103</td>\n",
       "      <td>0.504666</td>\n",
       "      <td>0.509778</td>\n",
       "    </tr>\n",
       "    <tr>\n",
       "      <th>1</th>\n",
       "      <td>USDILS_data</td>\n",
       "      <td>0.462270</td>\n",
       "      <td>0.455389</td>\n",
       "      <td>0.468509</td>\n",
       "    </tr>\n",
       "    <tr>\n",
       "      <th>2</th>\n",
       "      <td>EURSEK_data</td>\n",
       "      <td>0.449087</td>\n",
       "      <td>0.447195</td>\n",
       "      <td>0.451716</td>\n",
       "    </tr>\n",
       "    <tr>\n",
       "      <th>3</th>\n",
       "      <td>AUDUSD_data</td>\n",
       "      <td>0.490828</td>\n",
       "      <td>0.488110</td>\n",
       "      <td>0.494015</td>\n",
       "    </tr>\n",
       "    <tr>\n",
       "      <th>4</th>\n",
       "      <td>USDMXN_data</td>\n",
       "      <td>0.477746</td>\n",
       "      <td>0.474204</td>\n",
       "      <td>0.482011</td>\n",
       "    </tr>\n",
       "    <tr>\n",
       "      <th>5</th>\n",
       "      <td>EURHUF_data</td>\n",
       "      <td>0.484000</td>\n",
       "      <td>0.482715</td>\n",
       "      <td>0.485699</td>\n",
       "    </tr>\n",
       "    <tr>\n",
       "      <th>6</th>\n",
       "      <td>USDCNH_data</td>\n",
       "      <td>0.505916</td>\n",
       "      <td>0.502549</td>\n",
       "      <td>0.514167</td>\n",
       "    </tr>\n",
       "    <tr>\n",
       "      <th>7</th>\n",
       "      <td>USDJPY_data</td>\n",
       "      <td>0.520156</td>\n",
       "      <td>0.516257</td>\n",
       "      <td>0.525028</td>\n",
       "    </tr>\n",
       "    <tr>\n",
       "      <th>8</th>\n",
       "      <td>EURNOK_data</td>\n",
       "      <td>0.446753</td>\n",
       "      <td>0.443789</td>\n",
       "      <td>0.449752</td>\n",
       "    </tr>\n",
       "    <tr>\n",
       "      <th>9</th>\n",
       "      <td>NZDUSD_data</td>\n",
       "      <td>0.465292</td>\n",
       "      <td>0.461110</td>\n",
       "      <td>0.470269</td>\n",
       "    </tr>\n",
       "    <tr>\n",
       "      <th>10</th>\n",
       "      <td>USDZAR_data</td>\n",
       "      <td>0.461169</td>\n",
       "      <td>0.459006</td>\n",
       "      <td>0.465389</td>\n",
       "    </tr>\n",
       "    <tr>\n",
       "      <th>11</th>\n",
       "      <td>USDCAD_data</td>\n",
       "      <td>0.489099</td>\n",
       "      <td>0.487558</td>\n",
       "      <td>0.491369</td>\n",
       "    </tr>\n",
       "    <tr>\n",
       "      <th>12</th>\n",
       "      <td>EURUSD_data</td>\n",
       "      <td>0.514777</td>\n",
       "      <td>0.513328</td>\n",
       "      <td>0.515949</td>\n",
       "    </tr>\n",
       "    <tr>\n",
       "      <th>13</th>\n",
       "      <td>EURPLN_data</td>\n",
       "      <td>0.483074</td>\n",
       "      <td>0.480623</td>\n",
       "      <td>0.487107</td>\n",
       "    </tr>\n",
       "    <tr>\n",
       "      <th>14</th>\n",
       "      <td>USDSGD_data</td>\n",
       "      <td>0.505882</td>\n",
       "      <td>0.504002</td>\n",
       "      <td>0.508165</td>\n",
       "    </tr>\n",
       "    <tr>\n",
       "      <th>15</th>\n",
       "      <td>GBPUSD_data</td>\n",
       "      <td>0.502450</td>\n",
       "      <td>0.498293</td>\n",
       "      <td>0.506322</td>\n",
       "    </tr>\n",
       "    <tr>\n",
       "      <th>16</th>\n",
       "      <td>futures_1min_bar</td>\n",
       "      <td>0.509468</td>\n",
       "      <td>0.506587</td>\n",
       "      <td>0.511688</td>\n",
       "    </tr>\n",
       "    <tr>\n",
       "      <th>17</th>\n",
       "      <td>EURCZK_data</td>\n",
       "      <td>0.479486</td>\n",
       "      <td>0.475265</td>\n",
       "      <td>0.483559</td>\n",
       "    </tr>\n",
       "  </tbody>\n",
       "</table>\n",
       "</div>"
      ],
      "text/plain": [
       "                data  hurst_value    ci_low   ci_high\n",
       "0        USDCHF_data     0.507103  0.504666  0.509778\n",
       "1        USDILS_data     0.462270  0.455389  0.468509\n",
       "2        EURSEK_data     0.449087  0.447195  0.451716\n",
       "3        AUDUSD_data     0.490828  0.488110  0.494015\n",
       "4        USDMXN_data     0.477746  0.474204  0.482011\n",
       "5        EURHUF_data     0.484000  0.482715  0.485699\n",
       "6        USDCNH_data     0.505916  0.502549  0.514167\n",
       "7        USDJPY_data     0.520156  0.516257  0.525028\n",
       "8        EURNOK_data     0.446753  0.443789  0.449752\n",
       "9        NZDUSD_data     0.465292  0.461110  0.470269\n",
       "10       USDZAR_data     0.461169  0.459006  0.465389\n",
       "11       USDCAD_data     0.489099  0.487558  0.491369\n",
       "12       EURUSD_data     0.514777  0.513328  0.515949\n",
       "13       EURPLN_data     0.483074  0.480623  0.487107\n",
       "14       USDSGD_data     0.505882  0.504002  0.508165\n",
       "15       GBPUSD_data     0.502450  0.498293  0.506322\n",
       "16  futures_1min_bar     0.509468  0.506587  0.511688\n",
       "17       EURCZK_data     0.479486  0.475265  0.483559"
      ]
     },
     "execution_count": 91,
     "metadata": {},
     "output_type": "execute_result"
    }
   ],
   "source": [
    "hurst_df_ci = []\n",
    "\n",
    "\n",
    "for path in glob.glob('data/*.parquet'):\n",
    "    data_label = path.split('.')[0].split('/')[-1]\n",
    "    cur_data = preprocessing_data(path)\n",
    "    ci, mean_hurst = bootstrap_hurst(cur_data['mid_price'].dropna().values)\n",
    "    \n",
    "    hurst_df_ci.append([data_label, mean_hurst, ci[0], ci[1]])\n",
    "\n",
    "hurst_df_ci = pd.DataFrame(hurst_df_ci, columns=['data', 'hurst_value', 'ci_low', 'ci_high'])\n",
    "hurst_df_ci"
   ]
  },
  {
   "cell_type": "code",
   "execution_count": 93,
   "metadata": {},
   "outputs": [
    {
     "data": {
      "application/vnd.plotly.v1+json": {
       "config": {
        "plotlyServerURL": "https://plot.ly"
       },
       "data": [
        {
         "alignmentgroup": "True",
         "error_x": {
          "array": [
           0.0026753105455579185,
           0.006238481222292425,
           0.002628459271976913,
           0.00318744076880062,
           0.004264682931660935,
           0.001698539413186817,
           0.008251031391587671,
           0.0048716232089869305,
           0.002999397116442093,
           0.004976857132006851,
           0.004219421947499413,
           0.0022704912369318486,
           0.001171664266271022,
           0.004033406050412192,
           0.0022830957324652124,
           0.0038719593528154794,
           0.002220045600135667,
           0.004072308765382671
          ],
          "arrayminus": [
           0.0024371508150544674,
           0.006881242350020078,
           0.0018923588455742602,
           0.002717638311372894,
           0.0035420738298452825,
           0.0012853647825342707,
           0.0033668951651598666,
           0.0038991014630195275,
           0.002964139241098507,
           0.004181697202638779,
           0.0021636262440116183,
           0.0015407126459222042,
           0.001449420428068282,
           0.0024509262086745975,
           0.0018796971018751885,
           0.004156997535481544,
           0.00288140214827437,
           0.00422189854423588
          ]
         },
         "hovertemplate": "hurst_value=%{x}<br>data=%{y}<extra></extra>",
         "legendgroup": "",
         "marker": {
          "color": "#636efa",
          "pattern": {
           "shape": ""
          }
         },
         "name": "",
         "offsetgroup": "",
         "orientation": "h",
         "showlegend": false,
         "textposition": "auto",
         "type": "bar",
         "x": [
          0.4467528865988847,
          0.44908717901398504,
          0.46116941690465774,
          0.4622704594012081,
          0.4652917534131033,
          0.47774629790026113,
          0.47948647065312644,
          0.4830740445787344,
          0.48400027317524186,
          0.48909851832951307,
          0.4908277862500763,
          0.5024501652772826,
          0.5058816805062399,
          0.5059162206634987,
          0.5071030556558221,
          0.5094679493932894,
          0.5147772955673966,
          0.5201561980712929
         ],
         "xaxis": "x",
         "y": [
          "EURNOK_data",
          "EURSEK_data",
          "USDZAR_data",
          "USDILS_data",
          "NZDUSD_data",
          "USDMXN_data",
          "EURCZK_data",
          "EURPLN_data",
          "EURHUF_data",
          "USDCAD_data",
          "AUDUSD_data",
          "GBPUSD_data",
          "USDSGD_data",
          "USDCNH_data",
          "USDCHF_data",
          "futures_1min_bar",
          "EURUSD_data",
          "USDJPY_data"
         ],
         "yaxis": "y"
        }
       ],
       "layout": {
        "barmode": "relative",
        "legend": {
         "tracegroupgap": 0
        },
        "template": {
         "data": {
          "bar": [
           {
            "error_x": {
             "color": "#2a3f5f"
            },
            "error_y": {
             "color": "#2a3f5f"
            },
            "marker": {
             "line": {
              "color": "#E5ECF6",
              "width": 0.5
             },
             "pattern": {
              "fillmode": "overlay",
              "size": 10,
              "solidity": 0.2
             }
            },
            "type": "bar"
           }
          ],
          "barpolar": [
           {
            "marker": {
             "line": {
              "color": "#E5ECF6",
              "width": 0.5
             },
             "pattern": {
              "fillmode": "overlay",
              "size": 10,
              "solidity": 0.2
             }
            },
            "type": "barpolar"
           }
          ],
          "carpet": [
           {
            "aaxis": {
             "endlinecolor": "#2a3f5f",
             "gridcolor": "white",
             "linecolor": "white",
             "minorgridcolor": "white",
             "startlinecolor": "#2a3f5f"
            },
            "baxis": {
             "endlinecolor": "#2a3f5f",
             "gridcolor": "white",
             "linecolor": "white",
             "minorgridcolor": "white",
             "startlinecolor": "#2a3f5f"
            },
            "type": "carpet"
           }
          ],
          "choropleth": [
           {
            "colorbar": {
             "outlinewidth": 0,
             "ticks": ""
            },
            "type": "choropleth"
           }
          ],
          "contour": [
           {
            "colorbar": {
             "outlinewidth": 0,
             "ticks": ""
            },
            "colorscale": [
             [
              0,
              "#0d0887"
             ],
             [
              0.1111111111111111,
              "#46039f"
             ],
             [
              0.2222222222222222,
              "#7201a8"
             ],
             [
              0.3333333333333333,
              "#9c179e"
             ],
             [
              0.4444444444444444,
              "#bd3786"
             ],
             [
              0.5555555555555556,
              "#d8576b"
             ],
             [
              0.6666666666666666,
              "#ed7953"
             ],
             [
              0.7777777777777778,
              "#fb9f3a"
             ],
             [
              0.8888888888888888,
              "#fdca26"
             ],
             [
              1,
              "#f0f921"
             ]
            ],
            "type": "contour"
           }
          ],
          "contourcarpet": [
           {
            "colorbar": {
             "outlinewidth": 0,
             "ticks": ""
            },
            "type": "contourcarpet"
           }
          ],
          "heatmap": [
           {
            "colorbar": {
             "outlinewidth": 0,
             "ticks": ""
            },
            "colorscale": [
             [
              0,
              "#0d0887"
             ],
             [
              0.1111111111111111,
              "#46039f"
             ],
             [
              0.2222222222222222,
              "#7201a8"
             ],
             [
              0.3333333333333333,
              "#9c179e"
             ],
             [
              0.4444444444444444,
              "#bd3786"
             ],
             [
              0.5555555555555556,
              "#d8576b"
             ],
             [
              0.6666666666666666,
              "#ed7953"
             ],
             [
              0.7777777777777778,
              "#fb9f3a"
             ],
             [
              0.8888888888888888,
              "#fdca26"
             ],
             [
              1,
              "#f0f921"
             ]
            ],
            "type": "heatmap"
           }
          ],
          "heatmapgl": [
           {
            "colorbar": {
             "outlinewidth": 0,
             "ticks": ""
            },
            "colorscale": [
             [
              0,
              "#0d0887"
             ],
             [
              0.1111111111111111,
              "#46039f"
             ],
             [
              0.2222222222222222,
              "#7201a8"
             ],
             [
              0.3333333333333333,
              "#9c179e"
             ],
             [
              0.4444444444444444,
              "#bd3786"
             ],
             [
              0.5555555555555556,
              "#d8576b"
             ],
             [
              0.6666666666666666,
              "#ed7953"
             ],
             [
              0.7777777777777778,
              "#fb9f3a"
             ],
             [
              0.8888888888888888,
              "#fdca26"
             ],
             [
              1,
              "#f0f921"
             ]
            ],
            "type": "heatmapgl"
           }
          ],
          "histogram": [
           {
            "marker": {
             "pattern": {
              "fillmode": "overlay",
              "size": 10,
              "solidity": 0.2
             }
            },
            "type": "histogram"
           }
          ],
          "histogram2d": [
           {
            "colorbar": {
             "outlinewidth": 0,
             "ticks": ""
            },
            "colorscale": [
             [
              0,
              "#0d0887"
             ],
             [
              0.1111111111111111,
              "#46039f"
             ],
             [
              0.2222222222222222,
              "#7201a8"
             ],
             [
              0.3333333333333333,
              "#9c179e"
             ],
             [
              0.4444444444444444,
              "#bd3786"
             ],
             [
              0.5555555555555556,
              "#d8576b"
             ],
             [
              0.6666666666666666,
              "#ed7953"
             ],
             [
              0.7777777777777778,
              "#fb9f3a"
             ],
             [
              0.8888888888888888,
              "#fdca26"
             ],
             [
              1,
              "#f0f921"
             ]
            ],
            "type": "histogram2d"
           }
          ],
          "histogram2dcontour": [
           {
            "colorbar": {
             "outlinewidth": 0,
             "ticks": ""
            },
            "colorscale": [
             [
              0,
              "#0d0887"
             ],
             [
              0.1111111111111111,
              "#46039f"
             ],
             [
              0.2222222222222222,
              "#7201a8"
             ],
             [
              0.3333333333333333,
              "#9c179e"
             ],
             [
              0.4444444444444444,
              "#bd3786"
             ],
             [
              0.5555555555555556,
              "#d8576b"
             ],
             [
              0.6666666666666666,
              "#ed7953"
             ],
             [
              0.7777777777777778,
              "#fb9f3a"
             ],
             [
              0.8888888888888888,
              "#fdca26"
             ],
             [
              1,
              "#f0f921"
             ]
            ],
            "type": "histogram2dcontour"
           }
          ],
          "mesh3d": [
           {
            "colorbar": {
             "outlinewidth": 0,
             "ticks": ""
            },
            "type": "mesh3d"
           }
          ],
          "parcoords": [
           {
            "line": {
             "colorbar": {
              "outlinewidth": 0,
              "ticks": ""
             }
            },
            "type": "parcoords"
           }
          ],
          "pie": [
           {
            "automargin": true,
            "type": "pie"
           }
          ],
          "scatter": [
           {
            "fillpattern": {
             "fillmode": "overlay",
             "size": 10,
             "solidity": 0.2
            },
            "type": "scatter"
           }
          ],
          "scatter3d": [
           {
            "line": {
             "colorbar": {
              "outlinewidth": 0,
              "ticks": ""
             }
            },
            "marker": {
             "colorbar": {
              "outlinewidth": 0,
              "ticks": ""
             }
            },
            "type": "scatter3d"
           }
          ],
          "scattercarpet": [
           {
            "marker": {
             "colorbar": {
              "outlinewidth": 0,
              "ticks": ""
             }
            },
            "type": "scattercarpet"
           }
          ],
          "scattergeo": [
           {
            "marker": {
             "colorbar": {
              "outlinewidth": 0,
              "ticks": ""
             }
            },
            "type": "scattergeo"
           }
          ],
          "scattergl": [
           {
            "marker": {
             "colorbar": {
              "outlinewidth": 0,
              "ticks": ""
             }
            },
            "type": "scattergl"
           }
          ],
          "scattermapbox": [
           {
            "marker": {
             "colorbar": {
              "outlinewidth": 0,
              "ticks": ""
             }
            },
            "type": "scattermapbox"
           }
          ],
          "scatterpolar": [
           {
            "marker": {
             "colorbar": {
              "outlinewidth": 0,
              "ticks": ""
             }
            },
            "type": "scatterpolar"
           }
          ],
          "scatterpolargl": [
           {
            "marker": {
             "colorbar": {
              "outlinewidth": 0,
              "ticks": ""
             }
            },
            "type": "scatterpolargl"
           }
          ],
          "scatterternary": [
           {
            "marker": {
             "colorbar": {
              "outlinewidth": 0,
              "ticks": ""
             }
            },
            "type": "scatterternary"
           }
          ],
          "surface": [
           {
            "colorbar": {
             "outlinewidth": 0,
             "ticks": ""
            },
            "colorscale": [
             [
              0,
              "#0d0887"
             ],
             [
              0.1111111111111111,
              "#46039f"
             ],
             [
              0.2222222222222222,
              "#7201a8"
             ],
             [
              0.3333333333333333,
              "#9c179e"
             ],
             [
              0.4444444444444444,
              "#bd3786"
             ],
             [
              0.5555555555555556,
              "#d8576b"
             ],
             [
              0.6666666666666666,
              "#ed7953"
             ],
             [
              0.7777777777777778,
              "#fb9f3a"
             ],
             [
              0.8888888888888888,
              "#fdca26"
             ],
             [
              1,
              "#f0f921"
             ]
            ],
            "type": "surface"
           }
          ],
          "table": [
           {
            "cells": {
             "fill": {
              "color": "#EBF0F8"
             },
             "line": {
              "color": "white"
             }
            },
            "header": {
             "fill": {
              "color": "#C8D4E3"
             },
             "line": {
              "color": "white"
             }
            },
            "type": "table"
           }
          ]
         },
         "layout": {
          "annotationdefaults": {
           "arrowcolor": "#2a3f5f",
           "arrowhead": 0,
           "arrowwidth": 1
          },
          "autotypenumbers": "strict",
          "coloraxis": {
           "colorbar": {
            "outlinewidth": 0,
            "ticks": ""
           }
          },
          "colorscale": {
           "diverging": [
            [
             0,
             "#8e0152"
            ],
            [
             0.1,
             "#c51b7d"
            ],
            [
             0.2,
             "#de77ae"
            ],
            [
             0.3,
             "#f1b6da"
            ],
            [
             0.4,
             "#fde0ef"
            ],
            [
             0.5,
             "#f7f7f7"
            ],
            [
             0.6,
             "#e6f5d0"
            ],
            [
             0.7,
             "#b8e186"
            ],
            [
             0.8,
             "#7fbc41"
            ],
            [
             0.9,
             "#4d9221"
            ],
            [
             1,
             "#276419"
            ]
           ],
           "sequential": [
            [
             0,
             "#0d0887"
            ],
            [
             0.1111111111111111,
             "#46039f"
            ],
            [
             0.2222222222222222,
             "#7201a8"
            ],
            [
             0.3333333333333333,
             "#9c179e"
            ],
            [
             0.4444444444444444,
             "#bd3786"
            ],
            [
             0.5555555555555556,
             "#d8576b"
            ],
            [
             0.6666666666666666,
             "#ed7953"
            ],
            [
             0.7777777777777778,
             "#fb9f3a"
            ],
            [
             0.8888888888888888,
             "#fdca26"
            ],
            [
             1,
             "#f0f921"
            ]
           ],
           "sequentialminus": [
            [
             0,
             "#0d0887"
            ],
            [
             0.1111111111111111,
             "#46039f"
            ],
            [
             0.2222222222222222,
             "#7201a8"
            ],
            [
             0.3333333333333333,
             "#9c179e"
            ],
            [
             0.4444444444444444,
             "#bd3786"
            ],
            [
             0.5555555555555556,
             "#d8576b"
            ],
            [
             0.6666666666666666,
             "#ed7953"
            ],
            [
             0.7777777777777778,
             "#fb9f3a"
            ],
            [
             0.8888888888888888,
             "#fdca26"
            ],
            [
             1,
             "#f0f921"
            ]
           ]
          },
          "colorway": [
           "#636efa",
           "#EF553B",
           "#00cc96",
           "#ab63fa",
           "#FFA15A",
           "#19d3f3",
           "#FF6692",
           "#B6E880",
           "#FF97FF",
           "#FECB52"
          ],
          "font": {
           "color": "#2a3f5f"
          },
          "geo": {
           "bgcolor": "white",
           "lakecolor": "white",
           "landcolor": "#E5ECF6",
           "showlakes": true,
           "showland": true,
           "subunitcolor": "white"
          },
          "hoverlabel": {
           "align": "left"
          },
          "hovermode": "closest",
          "mapbox": {
           "style": "light"
          },
          "paper_bgcolor": "white",
          "plot_bgcolor": "#E5ECF6",
          "polar": {
           "angularaxis": {
            "gridcolor": "white",
            "linecolor": "white",
            "ticks": ""
           },
           "bgcolor": "#E5ECF6",
           "radialaxis": {
            "gridcolor": "white",
            "linecolor": "white",
            "ticks": ""
           }
          },
          "scene": {
           "xaxis": {
            "backgroundcolor": "#E5ECF6",
            "gridcolor": "white",
            "gridwidth": 2,
            "linecolor": "white",
            "showbackground": true,
            "ticks": "",
            "zerolinecolor": "white"
           },
           "yaxis": {
            "backgroundcolor": "#E5ECF6",
            "gridcolor": "white",
            "gridwidth": 2,
            "linecolor": "white",
            "showbackground": true,
            "ticks": "",
            "zerolinecolor": "white"
           },
           "zaxis": {
            "backgroundcolor": "#E5ECF6",
            "gridcolor": "white",
            "gridwidth": 2,
            "linecolor": "white",
            "showbackground": true,
            "ticks": "",
            "zerolinecolor": "white"
           }
          },
          "shapedefaults": {
           "line": {
            "color": "#2a3f5f"
           }
          },
          "ternary": {
           "aaxis": {
            "gridcolor": "white",
            "linecolor": "white",
            "ticks": ""
           },
           "baxis": {
            "gridcolor": "white",
            "linecolor": "white",
            "ticks": ""
           },
           "bgcolor": "#E5ECF6",
           "caxis": {
            "gridcolor": "white",
            "linecolor": "white",
            "ticks": ""
           }
          },
          "title": {
           "x": 0.05
          },
          "xaxis": {
           "automargin": true,
           "gridcolor": "white",
           "linecolor": "white",
           "ticks": "",
           "title": {
            "standoff": 15
           },
           "zerolinecolor": "white",
           "zerolinewidth": 2
          },
          "yaxis": {
           "automargin": true,
           "gridcolor": "white",
           "linecolor": "white",
           "ticks": "",
           "title": {
            "standoff": 15
           },
           "zerolinecolor": "white",
           "zerolinewidth": 2
          }
         }
        },
        "title": {
         "text": "Hurst Exponent with 95% Confidence Intervals"
        },
        "xaxis": {
         "anchor": "y",
         "domain": [
          0,
          1
         ],
         "title": {
          "text": "hurst_value"
         }
        },
        "yaxis": {
         "anchor": "x",
         "domain": [
          0,
          1
         ],
         "title": {
          "text": "data"
         }
        }
       }
      }
     },
     "metadata": {},
     "output_type": "display_data"
    }
   ],
   "source": [
    "px.bar(\n",
    "    hurst_df_ci.sort_values(by='hurst_value'),\n",
    "    x='hurst_value',\n",
    "    y='data',\n",
    "    error_x=hurst_df_ci['ci_high'] - hurst_df_ci['hurst_value'],\n",
    "    error_x_minus=hurst_df_ci['hurst_value'] - hurst_df_ci['ci_low'],\n",
    "    title='Hurst Exponent with 95% Confidence Intervals'\n",
    ")"
   ]
  },
  {
   "cell_type": "code",
   "execution_count": 94,
   "metadata": {},
   "outputs": [],
   "source": [
    "hurst_df_ci.to_csv('data/results/hurst_ci_data.csv', index=False)"
   ]
  },
  {
   "cell_type": "code",
   "execution_count": null,
   "metadata": {},
   "outputs": [],
   "source": [
    "import numpy as np\n",
    "import pandas as pd\n",
    "import matplotlib.pyplot as plt\n",
    "\n",
    "def calculate_variance_ratio(returns, q_max=20):\n",
    "    \"\"\"\n",
    "    Расчет VR(q) для лагов от 2 до q_max.\n",
    "    :param returns: np.array — лог-доходности\n",
    "    :param q_max: максимальный лаг q\n",
    "    :return: DataFrame c колонками q и VR(q)\n",
    "    \"\"\"\n",
    "    vr_values = []\n",
    "    for q in range(2, q_max + 1):\n",
    "        weighted_sum = 0\n",
    "        for k in range(1, q):\n",
    "            weight = 1 - k / q\n",
    "            corr = np.corrcoef(returns[:-k], returns[k:])[0, 1]\n",
    "            weighted_sum += weight * corr\n",
    "        vr_q = 1 + 2 * weighted_sum\n",
    "        vr_values.append((q, vr_q))\n",
    "    return pd.DataFrame(vr_values, columns=[\"q\", \"VR\"])\n",
    "\n",
    "\n",
    "def plot_vr_for_assets(asset_dict, q_max=20):\n",
    "    \"\"\"\n",
    "    Построение VR-графиков для нескольких активов.\n",
    "    :param asset_dict: словарь вида {'ES': prices_ES, 'EURUSD': prices_eur, ...}\n",
    "    \"\"\"\n",
    "    plt.figure(figsize=(12, 6))\n",
    "    for name, price_series in tqdm(asset_dict.items()):\n",
    "        returns = np.diff(np.log(price_series))\n",
    "        vr_df = calculate_variance_ratio(returns, q_max=q_max)\n",
    "        plt.plot(vr_df['q'], vr_df['VR'], label=name)\n",
    "\n",
    "    plt.axhline(1.0, color='gray', linestyle='--', label='Random Walk')\n",
    "    plt.xlabel(\"Lag q\")\n",
    "    plt.ylabel(\"Variance Ratio\")\n",
    "    plt.title(\"Variance Ratio vs Lag q\")\n",
    "    plt.legend()\n",
    "    plt.grid(True)\n",
    "    plt.tight_layout()\n",
    "    plt.show()\n",
    "\n",
    "plot_vr_for_assets(asset_prices, q_max=100)"
   ]
  },
  {
   "cell_type": "code",
   "execution_count": 97,
   "metadata": {},
   "outputs": [],
   "source": [
    "def plot_vr_for_assets(asset_dict, q_max=20):\n",
    "    \"\"\"\n",
    "    Построение VR-графиков для нескольких активов.\n",
    "    :param asset_dict: словарь вида {'ES': prices_ES, 'EURUSD': prices_eur, ...}\n",
    "    \"\"\"\n",
    "    plt.figure(figsize=(12, 6))\n",
    "    for name, price_series in tqdm(asset_dict.items()):\n",
    "        returns = np.diff(np.log(price_series))\n",
    "        vr_df = calculate_variance_ratio(returns, q_max=q_max)\n",
    "        plt.plot(vr_df['q'], vr_df['VR'], label=name)\n",
    "\n",
    "    plt.axhline(1.0, color='gray', linestyle='--', label='Random Walk')\n",
    "    plt.xlabel(\"Lag q\")\n",
    "    plt.ylabel(\"Variance Ratio\")\n",
    "    plt.title(\"Variance Ratio vs Lag q\")\n",
    "    plt.legend()\n",
    "    plt.grid(True)\n",
    "    plt.tight_layout()\n",
    "    plt.show()"
   ]
  },
  {
   "cell_type": "code",
   "execution_count": 101,
   "metadata": {},
   "outputs": [
    {
     "name": "stderr",
     "output_type": "stream",
     "text": [
      "100%|██████████| 18/18 [00:04<00:00,  3.65it/s]\n"
     ]
    }
   ],
   "source": [
    "asset_prices = {}\n",
    "\n",
    "for path in tqdm(glob.glob('data/*.parquet')):\n",
    "    data_label = path.split('.')[0].split('/')[-1]\n",
    "    cur_data = preprocessing_data(path)\n",
    "    asset_prices[data_label] = cur_data['mid_price'].dropna().values"
   ]
  },
  {
   "cell_type": "code",
   "execution_count": 104,
   "metadata": {},
   "outputs": [],
   "source": [
    "import numpy as np\n",
    "import pandas as pd\n",
    "import matplotlib.pyplot as plt\n",
    "from concurrent.futures import ThreadPoolExecutor, as_completed\n",
    "from tqdm import tqdm\n",
    "\n",
    "def calculate_variance_ratio(returns, q_max=20):\n",
    "    vr_values = []\n",
    "    for q in range(2, q_max + 1):\n",
    "        weighted_sum = 0\n",
    "        for k in range(1, q):\n",
    "            weight = 1 - k / q\n",
    "            corr = np.corrcoef(returns[:-k], returns[k:])[0, 1]\n",
    "            weighted_sum += weight * corr\n",
    "        vr_q = 1 + 2 * weighted_sum\n",
    "        vr_values.append((q, vr_q))\n",
    "    return pd.DataFrame(vr_values, columns=[\"q\", \"VR\"])\n",
    "\n",
    "\n",
    "def calculate_vr_for_asset(name, price_series, q_max=20):\n",
    "    returns = np.diff(np.log(price_series))\n",
    "    vr_df = calculate_variance_ratio(returns, q_max=q_max)\n",
    "    vr_df[\"asset\"] = name\n",
    "    return vr_df\n",
    "\n",
    "\n",
    "def run_parallel_vr(asset_dict, q_max=20, max_workers=4):\n",
    "    all_results = []\n",
    "\n",
    "    with ThreadPoolExecutor(max_workers=max_workers) as executor:\n",
    "        futures = {\n",
    "            executor.submit(calculate_vr_for_asset, name, prices, q_max): name\n",
    "            for name, prices in asset_dict.items()\n",
    "        }\n",
    "\n",
    "        for future in tqdm(as_completed(futures), total=len(futures), desc=\"Calculating VR\"):\n",
    "            result = future.result()\n",
    "            all_results.append(result)\n",
    "\n",
    "    return pd.concat(all_results, ignore_index=True)\n",
    "\n",
    "\n",
    "def plot_vr(df):\n",
    "    plt.figure(figsize=(12, 6))\n",
    "    for asset in df['asset'].unique():\n",
    "        sub = df[df['asset'] == asset]\n",
    "        plt.plot(sub['q'], sub['VR'], label=asset)\n",
    "\n",
    "    plt.axhline(1.0, color='gray', linestyle='--', label='Random Walk')\n",
    "    plt.xlabel(\"Lag q\")\n",
    "    plt.ylabel(\"Variance Ratio\")\n",
    "    plt.title(\"Variance Ratio vs Lag q\")\n",
    "    plt.legend()\n",
    "    plt.grid(True)\n",
    "    plt.tight_layout()\n",
    "    plt.show()\n"
   ]
  },
  {
   "cell_type": "code",
   "execution_count": 105,
   "metadata": {},
   "outputs": [
    {
     "name": "stderr",
     "output_type": "stream",
     "text": [
      "Calculating VR: 100%|██████████| 18/18 [02:31<00:00,  8.39s/it]\n",
      "Bootstaping...:  95%|█████████▌| 95/100 [34:31<01:49, 21.80s/it]\n"
     ]
    },
    {
     "data": {
      "image/png": "[encoded data removed]",
      "text/plain": [
       "<Figure size 1200x600 with 1 Axes>"
      ]
     },
     "metadata": {},
     "output_type": "display_data"
    }
   ],
   "source": [
    "vr_result = run_parallel_vr(asset_prices, q_max=100, max_workers=8)\n",
    "plot_vr(vr_result)"
   ]
  },
  {
   "cell_type": "code",
   "execution_count": 109,
   "metadata": {},
   "outputs": [],
   "source": [
    "vr_result.to_parquet('data/results/anrew_lo_test.parquet')"
   ]
  },
  {
   "cell_type": "code",
   "execution_count": 131,
   "metadata": {},
   "outputs": [
    {
     "data": {
      "text/html": [
       "<div>\n",
       "<style scoped>\n",
       "    .dataframe tbody tr th:only-of-type {\n",
       "        vertical-align: middle;\n",
       "    }\n",
       "\n",
       "    .dataframe tbody tr th {\n",
       "        vertical-align: top;\n",
       "    }\n",
       "\n",
       "    .dataframe thead th {\n",
       "        text-align: right;\n",
       "    }\n",
       "</style>\n",
       "<table border=\"1\" class=\"dataframe\">\n",
       "  <thead>\n",
       "    <tr style=\"text-align: right;\">\n",
       "      <th></th>\n",
       "      <th>q</th>\n",
       "      <th>VR</th>\n",
       "      <th>asset</th>\n",
       "    </tr>\n",
       "  </thead>\n",
       "  <tbody>\n",
       "    <tr>\n",
       "      <th>0</th>\n",
       "      <td>2</td>\n",
       "      <td>0.772320</td>\n",
       "      <td>USDILS_data</td>\n",
       "    </tr>\n",
       "    <tr>\n",
       "      <th>1</th>\n",
       "      <td>3</td>\n",
       "      <td>0.819416</td>\n",
       "      <td>USDILS_data</td>\n",
       "    </tr>\n",
       "    <tr>\n",
       "      <th>2</th>\n",
       "      <td>4</td>\n",
       "      <td>0.705636</td>\n",
       "      <td>USDILS_data</td>\n",
       "    </tr>\n",
       "    <tr>\n",
       "      <th>3</th>\n",
       "      <td>5</td>\n",
       "      <td>0.573490</td>\n",
       "      <td>USDILS_data</td>\n",
       "    </tr>\n",
       "    <tr>\n",
       "      <th>4</th>\n",
       "      <td>6</td>\n",
       "      <td>0.494208</td>\n",
       "      <td>USDILS_data</td>\n",
       "    </tr>\n",
       "    <tr>\n",
       "      <th>...</th>\n",
       "      <td>...</td>\n",
       "      <td>...</td>\n",
       "      <td>...</td>\n",
       "    </tr>\n",
       "    <tr>\n",
       "      <th>1777</th>\n",
       "      <td>96</td>\n",
       "      <td>0.370192</td>\n",
       "      <td>EURCZK_data</td>\n",
       "    </tr>\n",
       "    <tr>\n",
       "      <th>1778</th>\n",
       "      <td>97</td>\n",
       "      <td>0.369088</td>\n",
       "      <td>EURCZK_data</td>\n",
       "    </tr>\n",
       "    <tr>\n",
       "      <th>1779</th>\n",
       "      <td>98</td>\n",
       "      <td>0.367976</td>\n",
       "      <td>EURCZK_data</td>\n",
       "    </tr>\n",
       "    <tr>\n",
       "      <th>1780</th>\n",
       "      <td>99</td>\n",
       "      <td>0.366843</td>\n",
       "      <td>EURCZK_data</td>\n",
       "    </tr>\n",
       "    <tr>\n",
       "      <th>1781</th>\n",
       "      <td>100</td>\n",
       "      <td>0.365734</td>\n",
       "      <td>EURCZK_data</td>\n",
       "    </tr>\n",
       "  </tbody>\n",
       "</table>\n",
       "<p>1782 rows × 3 columns</p>\n",
       "</div>"
      ],
      "text/plain": [
       "        q        VR        asset\n",
       "0       2  0.772320  USDILS_data\n",
       "1       3  0.819416  USDILS_data\n",
       "2       4  0.705636  USDILS_data\n",
       "3       5  0.573490  USDILS_data\n",
       "4       6  0.494208  USDILS_data\n",
       "...   ...       ...          ...\n",
       "1777   96  0.370192  EURCZK_data\n",
       "1778   97  0.369088  EURCZK_data\n",
       "1779   98  0.367976  EURCZK_data\n",
       "1780   99  0.366843  EURCZK_data\n",
       "1781  100  0.365734  EURCZK_data\n",
       "\n",
       "[1782 rows x 3 columns]"
      ]
     },
     "execution_count": 131,
     "metadata": {},
     "output_type": "execute_result"
    }
   ],
   "source": [
    "vr_result"
   ]
  },
  {
   "cell_type": "code",
   "execution_count": null,
   "metadata": {},
   "outputs": [],
   "source": []
  },
  {
   "cell_type": "code",
   "execution_count": null,
   "metadata": {},
   "outputs": [],
   "source": [
    "def correlation_table(prices, lookbacks, holds, log_return: bool = False):\n",
    "    res = []\n",
    "    for lb in lookbacks:\n",
    "        for hold in holds:\n",
    "            step = hold if lb >= hold else lb\n",
    "\n",
    "            if log_return:\n",
    "                lb_returns = np.log(prices[lb:-hold:step] / prices[:-lb-hold:step])\n",
    "                hold_returns = np.log(prices[lb+hold::step] / prices[lb:-hold:step])\n",
    "            else:\n",
    "                lb_returns = (prices[lb:-hold:step] - prices[:-lb-hold:step]) / prices[:-lb-hold:step]\n",
    "                hold_returns = (prices[lb+hold::step] - prices[lb:-hold:step]) / prices[lb:-hold:step]\n",
    "\n",
    "            mask = ~np.isnan(lb_returns) & ~np.isnan(hold_returns)\n",
    "            nans_ratio = 1. - mask.sum() / lb_returns.shape[0]\n",
    "            assert nans_ratio <= 1e-4 and mask.sum() > 10, (nans_ratio, mask.sum())\n",
    "\n",
    "            corr, pval_2_sided = stats.pearsonr(lb_returns, hold_returns, alternative='two-sided')\n",
    "            _, pval_less = stats.pearsonr(lb_returns, hold_returns, alternative='less')\n",
    "            _, pval_greater = stats.pearsonr(lb_returns, hold_returns, alternative='greater')\n",
    "            safe_pval = max(pval_2_sided, 1e-6)\n",
    "            score = abs(corr / safe_pval)\n",
    "            res.append([lb, hold, corr, abs(corr), pval_2_sided, score, pval_less, pval_greater])\n",
    "\n",
    "    return pd.DataFrame(res, columns=[\n",
    "        'LookBack', 'Hold', 'Pearson corr', 'Abs(corr)', 'P-value (two-sided)',\n",
    "        'Abs(corr / p_value (H1: corr!=0))', 'P-value (H1: corr < 0)', 'P-value (H1: corr > 0)'])\n",
    "\n"
   ]
  },
  {
   "cell_type": "code",
   "execution_count": 127,
   "metadata": {},
   "outputs": [
    {
     "name": "stderr",
     "output_type": "stream",
     "text": [
      "100%|██████████| 18/18 [02:28<00:00,  8.25s/it]\n"
     ]
    }
   ],
   "source": [
    "correlation_df = []\n",
    "\n",
    "for path in tqdm(glob.glob('data/*.parquet')):\n",
    "    data_label = path.split('.')[0].split('/')[-1]\n",
    "    cur_data = preprocessing_data(path)\n",
    "    returns_table = correlation_table(cur_data['mid_price'].dropna().values, \n",
    "                                  lookbacks=range(5,61,1), \n",
    "                                  holds=range(5,61,1))\n",
    "    returns_table['data'] = data_label\n",
    "\n",
    "    correlation_df.append(returns_table)"
   ]
  },
  {
   "cell_type": "code",
   "execution_count": 130,
   "metadata": {},
   "outputs": [],
   "source": [
    "pd.concat(correlation_df).to_parquet('data/results/correlation_table.parquet')"
   ]
  },
  {
   "cell_type": "code",
   "execution_count": 133,
   "metadata": {},
   "outputs": [
    {
     "data": {
      "text/html": [
       "<div>\n",
       "<style scoped>\n",
       "    .dataframe tbody tr th:only-of-type {\n",
       "        vertical-align: middle;\n",
       "    }\n",
       "\n",
       "    .dataframe tbody tr th {\n",
       "        vertical-align: top;\n",
       "    }\n",
       "\n",
       "    .dataframe thead th {\n",
       "        text-align: right;\n",
       "    }\n",
       "</style>\n",
       "<table border=\"1\" class=\"dataframe\">\n",
       "  <thead>\n",
       "    <tr style=\"text-align: right;\">\n",
       "      <th></th>\n",
       "      <th>LookBack</th>\n",
       "      <th>Hold</th>\n",
       "      <th>Pearson corr</th>\n",
       "      <th>Abs(corr)</th>\n",
       "      <th>P-value (two-sided)</th>\n",
       "      <th>Abs(corr / p_value (H1: corr!=0))</th>\n",
       "      <th>P-value (H1: corr &lt; 0)</th>\n",
       "      <th>P-value (H1: corr &gt; 0)</th>\n",
       "      <th>data</th>\n",
       "    </tr>\n",
       "  </thead>\n",
       "  <tbody>\n",
       "    <tr>\n",
       "      <th>0</th>\n",
       "      <td>5</td>\n",
       "      <td>5</td>\n",
       "      <td>-0.089865</td>\n",
       "      <td>0.089865</td>\n",
       "      <td>0.000000e+00</td>\n",
       "      <td>89865.296752</td>\n",
       "      <td>0.000000e+00</td>\n",
       "      <td>1.0</td>\n",
       "      <td>USDCHF_data</td>\n",
       "    </tr>\n",
       "    <tr>\n",
       "      <th>1</th>\n",
       "      <td>5</td>\n",
       "      <td>6</td>\n",
       "      <td>-0.092220</td>\n",
       "      <td>0.092220</td>\n",
       "      <td>0.000000e+00</td>\n",
       "      <td>92219.570827</td>\n",
       "      <td>0.000000e+00</td>\n",
       "      <td>1.0</td>\n",
       "      <td>USDCHF_data</td>\n",
       "    </tr>\n",
       "    <tr>\n",
       "      <th>2</th>\n",
       "      <td>5</td>\n",
       "      <td>7</td>\n",
       "      <td>-0.084502</td>\n",
       "      <td>0.084502</td>\n",
       "      <td>0.000000e+00</td>\n",
       "      <td>84502.293699</td>\n",
       "      <td>0.000000e+00</td>\n",
       "      <td>1.0</td>\n",
       "      <td>USDCHF_data</td>\n",
       "    </tr>\n",
       "    <tr>\n",
       "      <th>3</th>\n",
       "      <td>5</td>\n",
       "      <td>8</td>\n",
       "      <td>-0.072670</td>\n",
       "      <td>0.072670</td>\n",
       "      <td>6.277031e-273</td>\n",
       "      <td>72669.866782</td>\n",
       "      <td>3.138516e-273</td>\n",
       "      <td>1.0</td>\n",
       "      <td>USDCHF_data</td>\n",
       "    </tr>\n",
       "    <tr>\n",
       "      <th>4</th>\n",
       "      <td>5</td>\n",
       "      <td>9</td>\n",
       "      <td>-0.073373</td>\n",
       "      <td>0.073373</td>\n",
       "      <td>3.281152e-278</td>\n",
       "      <td>73373.465322</td>\n",
       "      <td>1.640576e-278</td>\n",
       "      <td>1.0</td>\n",
       "      <td>USDCHF_data</td>\n",
       "    </tr>\n",
       "    <tr>\n",
       "      <th>...</th>\n",
       "      <td>...</td>\n",
       "      <td>...</td>\n",
       "      <td>...</td>\n",
       "      <td>...</td>\n",
       "      <td>...</td>\n",
       "      <td>...</td>\n",
       "      <td>...</td>\n",
       "      <td>...</td>\n",
       "      <td>...</td>\n",
       "    </tr>\n",
       "    <tr>\n",
       "      <th>3131</th>\n",
       "      <td>60</td>\n",
       "      <td>56</td>\n",
       "      <td>-0.214663</td>\n",
       "      <td>0.214663</td>\n",
       "      <td>6.698306e-213</td>\n",
       "      <td>214662.983457</td>\n",
       "      <td>3.349153e-213</td>\n",
       "      <td>1.0</td>\n",
       "      <td>EURCZK_data</td>\n",
       "    </tr>\n",
       "    <tr>\n",
       "      <th>3132</th>\n",
       "      <td>60</td>\n",
       "      <td>57</td>\n",
       "      <td>-0.149265</td>\n",
       "      <td>0.149265</td>\n",
       "      <td>5.694919e-101</td>\n",
       "      <td>149264.885233</td>\n",
       "      <td>2.847459e-101</td>\n",
       "      <td>1.0</td>\n",
       "      <td>EURCZK_data</td>\n",
       "    </tr>\n",
       "    <tr>\n",
       "      <th>3133</th>\n",
       "      <td>60</td>\n",
       "      <td>58</td>\n",
       "      <td>-0.203911</td>\n",
       "      <td>0.203911</td>\n",
       "      <td>2.544992e-185</td>\n",
       "      <td>203910.589537</td>\n",
       "      <td>1.272496e-185</td>\n",
       "      <td>1.0</td>\n",
       "      <td>EURCZK_data</td>\n",
       "    </tr>\n",
       "    <tr>\n",
       "      <th>3134</th>\n",
       "      <td>60</td>\n",
       "      <td>59</td>\n",
       "      <td>-0.215544</td>\n",
       "      <td>0.215544</td>\n",
       "      <td>7.201679e-204</td>\n",
       "      <td>215543.638252</td>\n",
       "      <td>3.600840e-204</td>\n",
       "      <td>1.0</td>\n",
       "      <td>EURCZK_data</td>\n",
       "    </tr>\n",
       "    <tr>\n",
       "      <th>3135</th>\n",
       "      <td>60</td>\n",
       "      <td>60</td>\n",
       "      <td>-0.215631</td>\n",
       "      <td>0.215631</td>\n",
       "      <td>1.130759e-200</td>\n",
       "      <td>215631.155681</td>\n",
       "      <td>5.653794e-201</td>\n",
       "      <td>1.0</td>\n",
       "      <td>EURCZK_data</td>\n",
       "    </tr>\n",
       "  </tbody>\n",
       "</table>\n",
       "<p>56448 rows × 9 columns</p>\n",
       "</div>"
      ],
      "text/plain": [
       "      LookBack  Hold  Pearson corr  Abs(corr)  P-value (two-sided)  \\\n",
       "0            5     5     -0.089865   0.089865         0.000000e+00   \n",
       "1            5     6     -0.092220   0.092220         0.000000e+00   \n",
       "2            5     7     -0.084502   0.084502         0.000000e+00   \n",
       "3            5     8     -0.072670   0.072670        6.277031e-273   \n",
       "4            5     9     -0.073373   0.073373        3.281152e-278   \n",
       "...        ...   ...           ...        ...                  ...   \n",
       "3131        60    56     -0.214663   0.214663        6.698306e-213   \n",
       "3132        60    57     -0.149265   0.149265        5.694919e-101   \n",
       "3133        60    58     -0.203911   0.203911        2.544992e-185   \n",
       "3134        60    59     -0.215544   0.215544        7.201679e-204   \n",
       "3135        60    60     -0.215631   0.215631        1.130759e-200   \n",
       "\n",
       "      Abs(corr / p_value (H1: corr!=0))  P-value (H1: corr < 0)  \\\n",
       "0                          89865.296752            0.000000e+00   \n",
       "1                          92219.570827            0.000000e+00   \n",
       "2                          84502.293699            0.000000e+00   \n",
       "3                          72669.866782           3.138516e-273   \n",
       "4                          73373.465322           1.640576e-278   \n",
       "...                                 ...                     ...   \n",
       "3131                      214662.983457           3.349153e-213   \n",
       "3132                      149264.885233           2.847459e-101   \n",
       "3133                      203910.589537           1.272496e-185   \n",
       "3134                      215543.638252           3.600840e-204   \n",
       "3135                      215631.155681           5.653794e-201   \n",
       "\n",
       "      P-value (H1: corr > 0)         data  \n",
       "0                        1.0  USDCHF_data  \n",
       "1                        1.0  USDCHF_data  \n",
       "2                        1.0  USDCHF_data  \n",
       "3                        1.0  USDCHF_data  \n",
       "4                        1.0  USDCHF_data  \n",
       "...                      ...          ...  \n",
       "3131                     1.0  EURCZK_data  \n",
       "3132                     1.0  EURCZK_data  \n",
       "3133                     1.0  EURCZK_data  \n",
       "3134                     1.0  EURCZK_data  \n",
       "3135                     1.0  EURCZK_data  \n",
       "\n",
       "[56448 rows x 9 columns]"
      ]
     },
     "execution_count": 133,
     "metadata": {},
     "output_type": "execute_result"
    }
   ],
   "source": [
    "pd.concat(correlation_df)"
   ]
  },
  {
   "cell_type": "code",
   "execution_count": null,
   "metadata": {},
   "outputs": [],
   "source": []
  },
  {
   "cell_type": "code",
   "execution_count": null,
   "metadata": {},
   "outputs": [],
   "source": []
  },
  {
   "cell_type": "code",
   "execution_count": null,
   "metadata": {},
   "outputs": [],
   "source": []
  },
  {
   "cell_type": "code",
   "execution_count": null,
   "metadata": {},
   "outputs": [],
   "source": []
  },
  {
   "cell_type": "code",
   "execution_count": null,
   "metadata": {},
   "outputs": [],
   "source": []
  },
  {
   "cell_type": "code",
   "execution_count": null,
   "metadata": {},
   "outputs": [],
   "source": []
  },
  {
   "cell_type": "code",
   "execution_count": null,
   "metadata": {},
   "outputs": [],
   "source": []
  },
  {
   "cell_type": "code",
   "execution_count": 118,
   "metadata": {},
   "outputs": [
    {
     "data": {
      "text/plain": [
       "np.float64(23.05713)"
      ]
     },
     "execution_count": 118,
     "metadata": {},
     "output_type": "execute_result"
    }
   ],
   "source": [
    "cur_data['mid_price'].min()"
   ]
  },
  {
   "cell_type": "code",
   "execution_count": 179,
   "metadata": {},
   "outputs": [],
   "source": [
    "def run_strategy(df, X, slippage):\n",
    "    df = df.copy()\n",
    "    \n",
    "    long_signal = (entry_prices['ret'] > X)\n",
    "    short_signal = (entry_prices['ret'] < -X)\n",
    "    \n",
    "    df['entry_long'] = False\n",
    "    df['entry_short'] = False\n",
    "    df['exit'] = False\n",
    "    \n",
    "    df.loc[entry_prices[long_signal].index, 'entry_long'] = True\n",
    "    df.loc[entry_prices[short_signal].index, 'entry_short'] = True\n",
    "    df.loc[exit_prices.index, 'exit'] = True\n",
    "\n",
    "    entries = df['entry_long']\n",
    "    short_entries = df['entry_short']\n",
    "    exits = df['exit']\n",
    "\n",
    "    size = 1\n",
    "\n",
    "    portfolio = vbt.Portfolio.from_signals(\n",
    "        close=df['price'],\n",
    "        entries=entries,\n",
    "        short_entries=short_entries,\n",
    "        exits=exits,\n",
    "        short_exits=exits,\n",
    "        size=size,\n",
    "        size_type = 'amount',\n",
    "        slippage = slippage,\n",
    "        # sl_stop=0.001,\n",
    "        # sl_stop=0.0001,   # stop-loss        \n",
    "        # tp_stop=0.0001,   # take profit\n",
    "        freq='1T'\n",
    "    )\n",
    "\n",
    "    return portfolio\n",
    "\n",
    "\n",
    "fname = f\"{DATA_DIR}futures_1min_bar.parquet\"\n",
    "df = preprocessing_data(fname)\n",
    "\n",
    "df['price'] = (df['bid'] + df['offer']) / 2\n",
    "df['date'] = df.index.floor('D')\n",
    "\n",
    "grouped = df.groupby('date')\n",
    "prev_close = grouped['price'].last().shift(1)\n",
    "\n",
    "\n",
    "entry_price_time = pd.to_datetime(\"23:00:00\").time()\n",
    "exit_price_time = pd.to_datetime(\"23:59:00\").time()\n",
    "\n",
    "entry_mask = df.index.time == entry_price_time\n",
    "exit_mask = df.index.time == exit_price_time\n",
    "\n",
    "entry_prices = df[entry_mask].copy()\n",
    "exit_prices = df[exit_mask].copy()\n",
    "\n",
    "entry_prices['prev_close'] = entry_prices['date'].map(prev_close)\n",
    "entry_prices['ret'] = (entry_prices['price'] - entry_prices['prev_close']) / entry_prices['prev_close']"
   ]
  },
  {
   "cell_type": "code",
   "execution_count": 180,
   "metadata": {},
   "outputs": [
    {
     "data": {
      "text/plain": [
       "((19,), (46,))"
      ]
     },
     "execution_count": 180,
     "metadata": {},
     "output_type": "execute_result"
    }
   ],
   "source": [
    "np.arange(0.001, 0.02, 0.001).shape, np.arange(0.005, 0.05, 0.001).shape"
   ]
  },
  {
   "cell_type": "code",
   "execution_count": 181,
   "metadata": {},
   "outputs": [
    {
     "name": "stderr",
     "output_type": "stream",
     "text": [
      "874it [00:55, 15.67it/s]"
     ]
    },
    {
     "name": "stdout",
     "output_type": "stream",
     "text": [
      "         X  slippage_usd  total_return    sharpe    drawdown\n",
      "209  0.016         0.001    200.342084  1.983969   73.453620\n",
      "190  0.015         0.001    199.870558  1.982184   73.453620\n",
      "342  0.023         0.001    199.056000  2.237067   50.843141\n",
      "361  0.024         0.001    199.056000  2.237067   50.843141\n",
      "323  0.022         0.001    199.056000  2.237067   50.843141\n",
      "..     ...           ...           ...       ...         ...\n",
      "189  0.014         0.019   -271.826005 -1.296072  275.497851\n",
      "132  0.011         0.019   -279.882457 -1.297509  283.726465\n",
      "113  0.010         0.019   -279.882457 -1.297509  283.726465\n",
      "94   0.009         0.019   -283.213693 -1.296570  287.128888\n",
      "75   0.008         0.019   -283.213693 -1.296570  287.128888\n",
      "\n",
      "[874 rows x 5 columns]\n"
     ]
    },
    {
     "name": "stderr",
     "output_type": "stream",
     "text": [
      "\n"
     ]
    }
   ],
   "source": [
    "import numpy as np\n",
    "import itertools\n",
    "\n",
    "# Параметры подбора\n",
    "X_values = np.arange(0.005, 0.05, 0.001)    \n",
    "slippage_values = np.arange(0.001, 0.02, 0.001) \n",
    "\n",
    "results = []\n",
    "\n",
    "for X_val, sl_val in tqdm(itertools.product(X_values, slippage_values)):\n",
    "    pf = run_strategy(df, X=X_val, slippage=sl_val)\n",
    "    stats = pf.stats()\n",
    "    results.append({\n",
    "        'X': X_val,\n",
    "        'slippage_usd': sl_val,\n",
    "        'total_return': stats['Total Return [%]'],\n",
    "        'sharpe': stats['Sharpe Ratio'],\n",
    "        'drawdown': stats['Max Drawdown [%]']\n",
    "    })\n",
    "\n",
    "results_df = pd.DataFrame(results)\n",
    "print(results_df.sort_values(by='total_return', ascending=False))\n"
   ]
  },
  {
   "cell_type": "code",
   "execution_count": 182,
   "metadata": {},
   "outputs": [
    {
     "data": {
      "application/vnd.plotly.v1+json": {
       "config": {
        "plotlyServerURL": "https://plot.ly"
       },
       "data": [
        {
         "customdata": [
          [
           104.01938573229606
          ],
          [
           122.1300907463615
          ],
          [
           156.82267374097688
          ],
          [
           194.33036258844686
          ],
          [
           107.96926520103078
          ],
          [
           133.2308778266236
          ],
          [
           158.43825237767203
          ],
          [
           183.59157582087317
          ],
          [
           208.69103420598725
          ],
          [
           112.14910554405759
          ],
          [
           124.98914380232613
          ],
          [
           137.79990870225384
          ],
          [
           150.58151135063233
          ],
          [
           163.33406224867167
          ],
          [
           176.0576712962289
          ],
          [
           188.75244779605256
          ],
          [
           201.4185004579501
          ],
          [
           214.0559374029499
          ],
          [
           226.66486616740272
          ],
          [
           104.211092194386
          ],
          [
           116.17569975462798
          ],
          [
           120.49812875719996
          ],
          [
           145.75111152817942
          ],
          [
           170.94971093915305
          ],
          [
           196.09411513563998
          ],
          [
           221.1845113368725
          ],
          [
           246.22108584179597
          ],
          [
           271.20402403495905
          ],
          [
           112.14910554405759
          ],
          [
           124.98914380232613
          ],
          [
           137.79990870225384
          ],
          [
           150.58151135063233
          ],
          [
           163.33406224867167
          ],
          [
           176.0576712962289
          ],
          [
           188.75244779605256
          ],
          [
           201.4185004579501
          ],
          [
           214.0559374029499
          ],
          [
           226.66486616740272
          ],
          [
           104.211092194386
          ],
          [
           116.17569975462798
          ],
          [
           120.49812875719996
          ],
          [
           145.75111152817942
          ],
          [
           170.94971093915305
          ],
          [
           196.09411513563998
          ],
          [
           221.1845113368725
          ],
          [
           246.22108584179597
          ],
          [
           271.20402403495905
          ],
          [
           112.14910554405759
          ],
          [
           124.98914380232613
          ],
          [
           137.79990870225384
          ],
          [
           150.58151135063233
          ],
          [
           163.33406224867167
          ],
          [
           176.0576712962289
          ],
          [
           188.75244779605256
          ],
          [
           201.4185004579501
          ],
          [
           214.0559374029499
          ],
          [
           226.66486616740272
          ],
          [
           106.39642965444209
          ],
          [
           117.81471880708823
          ],
          [
           116.97275663326121
          ],
          [
           142.2998309687903
          ],
          [
           109.63742003822064
          ],
          [
           122.50503234804751
          ],
          [
           135.34301956607248
          ],
          [
           148.15149542306966
          ],
          [
           160.9305730231122
          ],
          [
           173.6803648480168
          ],
          [
           186.4009827617521
          ],
          [
           199.09253801481617
          ],
          [
           211.75514124855374
          ],
          [
           224.388902499475
          ],
          [
           236.99393120349615
          ],
          [
           249.57033620018044
          ],
          [
           262.11822573691416
          ],
          [
           274.6377074730732
          ],
          [
           287.1288884841272
          ],
          [
           104.8811291034266
          ],
          [
           118.43836032892783
          ],
          [
           116.97275663326121
          ],
          [
           142.2998309687903
          ],
          [
           109.63742003822064
          ],
          [
           122.50503234804751
          ],
          [
           135.34301956607248
          ],
          [
           148.15149542306966
          ],
          [
           160.9305730231122
          ],
          [
           173.6803648480168
          ],
          [
           186.4009827617521
          ],
          [
           199.09253801481617
          ],
          [
           211.75514124855374
          ],
          [
           224.388902499475
          ],
          [
           236.99393120349615
          ],
          [
           249.57033620018044
          ],
          [
           262.11822573691416
          ],
          [
           274.6377074730732
          ],
          [
           287.1288884841272
          ],
          [
           105.42350492817904
          ],
          [
           118.6326240646205
          ],
          [
           116.93316907555801
          ],
          [
           142.02768634826612
          ],
          [
           109.14115694108779
          ],
          [
           121.78430469493273
          ],
          [
           134.40052391695792
          ],
          [
           146.98990286241715
          ],
          [
           159.55252939386776
          ],
          [
           172.08849098337737
          ],
          [
           184.5978747147173
          ],
          [
           197.08076728554602
          ],
          [
           209.5372550095627
          ],
          [
           221.96742381866974
          ],
          [
           234.37135926509458
          ],
          [
           246.74914652352422
          ],
          [
           259.10087039319694
          ],
          [
           271.42661530000885
          ],
          [
           283.72646529857946
          ],
          [
           145.38415881210054
          ],
          [
           118.6326240646205
          ],
          [
           116.93316907555801
          ],
          [
           142.02768634826612
          ],
          [
           109.14115694108779
          ],
          [
           121.78430469493273
          ],
          [
           134.40052391695792
          ],
          [
           146.98990286241715
          ],
          [
           159.55252939386776
          ],
          [
           172.08849098337737
          ],
          [
           184.5978747147173
          ],
          [
           197.08076728554602
          ],
          [
           209.5372550095627
          ],
          [
           221.96742381866974
          ],
          [
           234.37135926509458
          ],
          [
           246.74914652352422
          ],
          [
           259.10087039319694
          ],
          [
           271.42661530000885
          ],
          [
           283.72646529857946
          ],
          [
           134.83446296289412
          ],
          [
           117.89037807794625
          ],
          [
           115.73952256709109
          ],
          [
           140.36816323610327
          ],
          [
           107.04247517910956
          ],
          [
           119.23049190880226
          ],
          [
           131.39430205114652
          ],
          [
           143.53397764955844
          ],
          [
           155.64959046184822
          ],
          [
           167.741211961638
          ],
          [
           179.80891333976496
          ],
          [
           191.85276550568537
          ],
          [
           203.8728390888471
          ],
          [
           215.8692044400919
          ],
          [
           227.8419316330072
          ],
          [
           239.79109046530698
          ],
          [
           251.71675046017774
          ],
          [
           263.6189808676331
          ],
          [
           275.49785066584957
          ],
          [
           127.68289430903606
          ],
          [
           154.70233969575202
          ],
          [
           121.3181230111936
          ],
          [
           146.21518360014105
          ],
          [
           107.04247517910956
          ],
          [
           119.23049190880226
          ],
          [
           131.39430205114652
          ],
          [
           143.53397764955844
          ],
          [
           155.64959046184822
          ],
          [
           167.741211961638
          ],
          [
           179.80891333976496
          ],
          [
           191.85276550568537
          ],
          [
           203.8728390888471
          ],
          [
           215.8692044400919
          ],
          [
           227.8419316330072
          ],
          [
           239.79109046530698
          ],
          [
           251.71675046017774
          ],
          [
           263.6189808676331
          ],
          [
           275.49785066584957
          ],
          [
           127.63392726981122
          ],
          [
           154.61613315503837
          ],
          [
           121.22047653657748
          ],
          [
           146.1755071850697
          ],
          [
           107.04247517910956
          ],
          [
           119.23049190880226
          ],
          [
           131.39430205114652
          ],
          [
           143.53397764955844
          ],
          [
           155.64959046184822
          ],
          [
           167.741211961638
          ],
          [
           179.80891333976496
          ],
          [
           191.85276550568537
          ],
          [
           203.8728390888471
          ],
          [
           215.8692044400919
          ],
          [
           227.8419316330072
          ],
          [
           239.79109046530698
          ],
          [
           251.71675046017774
          ],
          [
           263.6189808676331
          ],
          [
           275.49785066584957
          ],
          [
           73.45361960461929
          ],
          [
           83.20718572407895
          ],
          [
           95.9096997596605
          ],
          [
           111.46621241018238
          ],
          [
           127.1033995672451
          ],
          [
           142.70025043035093
          ],
          [
           158.25688516720493
          ],
          [
           173.77342346865953
          ],
          [
           189.2499845510747
          ],
          [
           103.78094349992573
          ],
          [
           115.97187416875
          ],
          [
           128.1387120892195
          ],
          [
           140.28152861201545
          ],
          [
           152.40039480636565
          ],
          [
           164.4953814614155
          ],
          [
           176.56655908761826
          ],
          [
           188.61399791809447
          ],
          [
           200.6377679100046
          ],
          [
           212.6379387458945
          ],
          [
           73.45361960461929
          ],
          [
           83.20718572407895
          ],
          [
           95.9096997596605
          ],
          [
           111.46621241018238
          ],
          [
           127.1033995672451
          ],
          [
           142.70025043035093
          ],
          [
           158.25688516720493
          ],
          [
           173.77342346865953
          ],
          [
           189.2499845510747
          ],
          [
           103.78094349992573
          ],
          [
           115.97187416875
          ],
          [
           128.1387120892195
          ],
          [
           140.28152861201545
          ],
          [
           152.40039480636565
          ],
          [
           164.4953814614155
          ],
          [
           176.56655908761826
          ],
          [
           188.61399791809447
          ],
          [
           200.6377679100046
          ],
          [
           212.6379387458945
          ],
          [
           52.36291006863695
          ],
          [
           54.48451848852321
          ],
          [
           65.03585560896954
          ],
          [
           80.74044700950435
          ],
          [
           96.36424984906262
          ],
          [
           111.90774509589755
          ],
          [
           127.37141085517851
          ],
          [
           142.7557223879394
          ],
          [
           158.06115212983968
          ],
          [
           103.78094349992573
          ],
          [
           115.97187416875
          ],
          [
           128.1387120892195
          ],
          [
           140.28152861201545
          ],
          [
           152.40039480636565
          ],
          [
           164.4953814614155
          ],
          [
           176.56655908761826
          ],
          [
           188.61399791809447
          ],
          [
           200.6377679100046
          ],
          [
           212.6379387458945
          ],
          [
           50.85241237375154
          ],
          [
           51.57151530629673
          ],
          [
           52.311043581748905
          ],
          [
           53.071880832271034
          ],
          [
           53.85496240134589
          ],
          [
           54.66127918273271
          ],
          [
           59.50234869751192
          ],
          [
           64.7273802096918
          ],
          [
           70.1158460411531
          ],
          [
           75.6754812879409
          ],
          [
           81.4145172983375
          ],
          [
           87.34172211659306
          ],
          [
           93.46644494751202
          ],
          [
           99.79866511614995
          ],
          [
           106.96963151945221
          ],
          [
           114.39809903774727
          ],
          [
           122.0768541137609
          ],
          [
           130.0194970680265
          ],
          [
           138.2406290368382
          ],
          [
           50.83794491006181
          ],
          [
           51.53185635647175
          ],
          [
           52.24492201613954
          ],
          [
           52.977946217017234
          ],
          [
           53.7317789597893
          ],
          [
           54.50731920639391
          ],
          [
           59.302516638120586
          ],
          [
           64.47408900103187
          ],
          [
           69.8016109929059
          ],
          [
           75.29223078730062
          ],
          [
           80.95354025290688
          ],
          [
           86.79360992173456
          ],
          [
           92.8210273173146
          ],
          [
           99.04493902574207
          ],
          [
           106.01025852612014
          ],
          [
           113.29366408477128
          ],
          [
           120.81229320620169
          ],
          [
           128.5784717409445
          ],
          [
           136.60539889223014
          ],
          [
           50.83794491006181
          ],
          [
           51.53185635647175
          ],
          [
           52.24492201613954
          ],
          [
           52.977946217017234
          ],
          [
           53.7317789597893
          ],
          [
           54.50731920639391
          ],
          [
           59.302516638120586
          ],
          [
           64.47408900103187
          ],
          [
           69.8016109929059
          ],
          [
           75.29223078730062
          ],
          [
           80.95354025290688
          ],
          [
           86.79360992173456
          ],
          [
           92.8210273173146
          ],
          [
           99.04493902574207
          ],
          [
           106.01025852612014
          ],
          [
           113.29366408477128
          ],
          [
           120.81229320620169
          ],
          [
           128.5784717409445
          ],
          [
           136.60539889223014
          ],
          [
           50.83794491006181
          ],
          [
           51.53185635647175
          ],
          [
           52.24492201613954
          ],
          [
           52.977946217017234
          ],
          [
           53.7317789597893
          ],
          [
           54.50731920639391
          ],
          [
           59.302516638120586
          ],
          [
           64.47408900103187
          ],
          [
           69.8016109929059
          ],
          [
           75.29223078730062
          ],
          [
           80.95354025290688
          ],
          [
           86.79360992173456
          ],
          [
           92.8210273173146
          ],
          [
           99.04493902574207
          ],
          [
           106.01025852612014
          ],
          [
           113.29366408477128
          ],
          [
           120.81229320620169
          ],
          [
           128.5784717409445
          ],
          [
           136.60539889223014
          ],
          [
           50.843141313849884
          ],
          [
           51.51232584035711
          ],
          [
           52.199360580767596
          ],
          [
           52.90496940995616
          ],
          [
           53.629915879261944
          ],
          [
           54.37500597265008
          ],
          [
           55.14109109586055
          ],
          [
           59.36499999999978
          ],
          [
           64.81687500000044
          ],
          [
           70.26875000000018
          ],
          [
           75.72062499999993
          ],
          [
           81.17249999999967
          ],
          [
           86.62437500000033
          ],
          [
           92.07625000000007
          ],
          [
           97.52812499999982
          ],
          [
           102.98000000000047
          ],
          [
           108.43187500000022
          ],
          [
           113.88374999999998
          ],
          [
           119.3356249999997
          ],
          [
           50.843141313849884
          ],
          [
           51.51232584035711
          ],
          [
           52.199360580767596
          ],
          [
           52.90496940995616
          ],
          [
           53.629915879261944
          ],
          [
           54.37500597265008
          ],
          [
           55.14109109586055
          ],
          [
           59.36499999999978
          ],
          [
           64.81687500000044
          ],
          [
           70.26875000000018
          ],
          [
           75.72062499999993
          ],
          [
           81.17249999999967
          ],
          [
           86.62437500000033
          ],
          [
           92.07625000000007
          ],
          [
           97.52812499999982
          ],
          [
           102.98000000000047
          ],
          [
           108.43187500000022
          ],
          [
           113.88374999999998
          ],
          [
           119.3356249999997
          ],
          [
           50.843141313849884
          ],
          [
           51.51232584035711
          ],
          [
           52.199360580767596
          ],
          [
           52.90496940995616
          ],
          [
           53.629915879261944
          ],
          [
           54.37500597265008
          ],
          [
           55.14109109586055
          ],
          [
           59.36499999999978
          ],
          [
           64.81687500000044
          ],
          [
           70.26875000000018
          ],
          [
           75.72062499999993
          ],
          [
           81.17249999999967
          ],
          [
           86.62437500000033
          ],
          [
           92.07625000000007
          ],
          [
           97.52812499999982
          ],
          [
           102.98000000000047
          ],
          [
           108.43187500000022
          ],
          [
           113.88374999999998
          ],
          [
           119.3356249999997
          ],
          [
           null
          ],
          [
           null
          ],
          [
           null
          ],
          [
           null
          ],
          [
           null
          ],
          [
           null
          ],
          [
           null
          ],
          [
           null
          ],
          [
           null
          ],
          [
           null
          ],
          [
           null
          ],
          [
           null
          ],
          [
           null
          ],
          [
           null
          ],
          [
           null
          ],
          [
           null
          ],
          [
           null
          ],
          [
           null
          ],
          [
           null
          ],
          [
           null
          ],
          [
           null
          ],
          [
           null
          ],
          [
           null
          ],
          [
           null
          ],
          [
           null
          ],
          [
           null
          ],
          [
           null
          ],
          [
           null
          ],
          [
           null
          ],
          [
           null
          ],
          [
           null
          ],
          [
           null
          ],
          [
           null
          ],
          [
           null
          ],
          [
           null
          ],
          [
           null
          ],
          [
           null
          ],
          [
           null
          ],
          [
           null
          ],
          [
           null
          ],
          [
           null
          ],
          [
           null
          ],
          [
           null
          ],
          [
           null
          ],
          [
           null
          ],
          [
           null
          ],
          [
           null
          ],
          [
           null
          ],
          [
           null
          ],
          [
           null
          ],
          [
           null
          ],
          [
           null
          ],
          [
           null
          ],
          [
           null
          ],
          [
           null
          ],
          [
           null
          ],
          [
           null
          ],
          [
           null
          ],
          [
           null
          ],
          [
           null
          ],
          [
           null
          ],
          [
           null
          ],
          [
           null
          ],
          [
           null
          ],
          [
           null
          ],
          [
           null
          ],
          [
           null
          ],
          [
           null
          ],
          [
           null
          ],
          [
           null
          ],
          [
           null
          ],
          [
           null
          ],
          [
           null
          ],
          [
           null
          ],
          [
           null
          ],
          [
           null
          ],
          [
           null
          ],
          [
           null
          ],
          [
           null
          ],
          [
           null
          ],
          [
           null
          ],
          [
           null
          ],
          [
           null
          ],
          [
           null
          ],
          [
           null
          ],
          [
           null
          ],
          [
           null
          ],
          [
           null
          ],
          [
           null
          ],
          [
           null
          ],
          [
           null
          ],
          [
           null
          ],
          [
           null
          ],
          [
           null
          ],
          [
           null
          ],
          [
           null
          ],
          [
           null
          ],
          [
           null
          ],
          [
           null
          ],
          [
           null
          ],
          [
           null
          ],
          [
           null
          ],
          [
           null
          ],
          [
           null
          ],
          [
           null
          ],
          [
           null
          ],
          [
           null
          ],
          [
           null
          ],
          [
           null
          ],
          [
           null
          ],
          [
           null
          ],
          [
           null
          ],
          [
           null
          ],
          [
           null
          ],
          [
           null
          ],
          [
           null
          ],
          [
           null
          ],
          [
           null
          ],
          [
           null
          ],
          [
           null
          ],
          [
           null
          ],
          [
           null
          ],
          [
           null
          ],
          [
           null
          ],
          [
           null
          ],
          [
           null
          ],
          [
           null
          ],
          [
           null
          ],
          [
           null
          ],
          [
           null
          ],
          [
           null
          ],
          [
           null
          ],
          [
           null
          ],
          [
           null
          ],
          [
           null
          ],
          [
           null
          ],
          [
           null
          ],
          [
           null
          ],
          [
           null
          ],
          [
           null
          ],
          [
           null
          ],
          [
           null
          ],
          [
           null
          ],
          [
           null
          ],
          [
           null
          ],
          [
           null
          ],
          [
           null
          ],
          [
           null
          ],
          [
           null
          ],
          [
           null
          ],
          [
           null
          ],
          [
           null
          ],
          [
           null
          ],
          [
           null
          ],
          [
           null
          ],
          [
           null
          ],
          [
           null
          ],
          [
           null
          ],
          [
           null
          ],
          [
           null
          ],
          [
           null
          ],
          [
           null
          ],
          [
           null
          ],
          [
           null
          ],
          [
           null
          ],
          [
           null
          ],
          [
           null
          ],
          [
           null
          ],
          [
           null
          ],
          [
           null
          ],
          [
           null
          ],
          [
           null
          ],
          [
           null
          ],
          [
           null
          ],
          [
           null
          ],
          [
           null
          ],
          [
           null
          ],
          [
           null
          ],
          [
           null
          ],
          [
           null
          ],
          [
           null
          ],
          [
           null
          ],
          [
           null
          ],
          [
           null
          ],
          [
           null
          ],
          [
           null
          ],
          [
           null
          ],
          [
           null
          ],
          [
           null
          ],
          [
           null
          ],
          [
           null
          ],
          [
           null
          ],
          [
           null
          ],
          [
           null
          ],
          [
           null
          ],
          [
           null
          ],
          [
           null
          ],
          [
           null
          ],
          [
           null
          ],
          [
           null
          ],
          [
           null
          ],
          [
           null
          ],
          [
           null
          ],
          [
           null
          ],
          [
           null
          ],
          [
           null
          ],
          [
           null
          ],
          [
           null
          ],
          [
           null
          ],
          [
           null
          ],
          [
           null
          ],
          [
           null
          ],
          [
           null
          ],
          [
           null
          ],
          [
           null
          ],
          [
           null
          ],
          [
           null
          ],
          [
           null
          ],
          [
           null
          ],
          [
           null
          ],
          [
           null
          ],
          [
           null
          ],
          [
           null
          ],
          [
           null
          ],
          [
           null
          ],
          [
           null
          ],
          [
           null
          ],
          [
           null
          ],
          [
           null
          ],
          [
           null
          ],
          [
           null
          ],
          [
           null
          ],
          [
           null
          ],
          [
           null
          ],
          [
           null
          ],
          [
           null
          ],
          [
           null
          ],
          [
           null
          ],
          [
           null
          ],
          [
           null
          ],
          [
           null
          ],
          [
           null
          ],
          [
           null
          ],
          [
           null
          ],
          [
           null
          ],
          [
           null
          ],
          [
           null
          ],
          [
           null
          ],
          [
           null
          ],
          [
           null
          ],
          [
           null
          ],
          [
           null
          ],
          [
           null
          ],
          [
           null
          ],
          [
           null
          ],
          [
           null
          ],
          [
           null
          ],
          [
           null
          ],
          [
           null
          ],
          [
           null
          ],
          [
           null
          ],
          [
           null
          ],
          [
           null
          ],
          [
           null
          ],
          [
           null
          ],
          [
           null
          ],
          [
           null
          ],
          [
           null
          ],
          [
           null
          ],
          [
           null
          ],
          [
           null
          ],
          [
           null
          ],
          [
           null
          ],
          [
           null
          ],
          [
           null
          ],
          [
           null
          ],
          [
           null
          ],
          [
           null
          ],
          [
           null
          ],
          [
           null
          ],
          [
           null
          ],
          [
           null
          ],
          [
           null
          ],
          [
           null
          ],
          [
           null
          ],
          [
           null
          ],
          [
           null
          ],
          [
           null
          ],
          [
           null
          ],
          [
           null
          ],
          [
           null
          ],
          [
           null
          ],
          [
           null
          ],
          [
           null
          ],
          [
           null
          ],
          [
           null
          ],
          [
           null
          ],
          [
           null
          ],
          [
           null
          ],
          [
           null
          ],
          [
           null
          ],
          [
           null
          ],
          [
           null
          ],
          [
           null
          ],
          [
           null
          ],
          [
           null
          ],
          [
           null
          ],
          [
           null
          ],
          [
           null
          ],
          [
           null
          ],
          [
           null
          ],
          [
           null
          ],
          [
           null
          ],
          [
           null
          ],
          [
           null
          ],
          [
           null
          ],
          [
           null
          ],
          [
           null
          ],
          [
           null
          ],
          [
           null
          ],
          [
           null
          ],
          [
           null
          ],
          [
           null
          ],
          [
           null
          ],
          [
           null
          ],
          [
           null
          ],
          [
           null
          ],
          [
           null
          ],
          [
           null
          ],
          [
           null
          ],
          [
           null
          ],
          [
           null
          ],
          [
           null
          ],
          [
           null
          ],
          [
           null
          ],
          [
           null
          ],
          [
           null
          ],
          [
           null
          ],
          [
           null
          ],
          [
           null
          ],
          [
           null
          ],
          [
           null
          ],
          [
           null
          ],
          [
           null
          ],
          [
           null
          ],
          [
           null
          ],
          [
           null
          ],
          [
           null
          ],
          [
           null
          ],
          [
           null
          ],
          [
           null
          ],
          [
           null
          ],
          [
           null
          ],
          [
           null
          ],
          [
           null
          ],
          [
           null
          ],
          [
           null
          ],
          [
           null
          ],
          [
           null
          ],
          [
           null
          ],
          [
           null
          ],
          [
           null
          ],
          [
           null
          ],
          [
           null
          ],
          [
           null
          ],
          [
           null
          ],
          [
           null
          ],
          [
           null
          ],
          [
           null
          ],
          [
           null
          ],
          [
           null
          ],
          [
           null
          ],
          [
           null
          ],
          [
           null
          ],
          [
           null
          ],
          [
           null
          ],
          [
           null
          ],
          [
           null
          ],
          [
           null
          ],
          [
           null
          ],
          [
           null
          ],
          [
           null
          ],
          [
           null
          ],
          [
           null
          ],
          [
           null
          ],
          [
           null
          ],
          [
           null
          ],
          [
           null
          ],
          [
           null
          ],
          [
           null
          ],
          [
           null
          ],
          [
           null
          ],
          [
           null
          ],
          [
           null
          ],
          [
           null
          ],
          [
           null
          ],
          [
           null
          ],
          [
           null
          ],
          [
           null
          ],
          [
           null
          ],
          [
           null
          ],
          [
           null
          ],
          [
           null
          ],
          [
           null
          ],
          [
           null
          ],
          [
           null
          ],
          [
           null
          ],
          [
           null
          ],
          [
           null
          ],
          [
           null
          ],
          [
           null
          ],
          [
           null
          ],
          [
           null
          ],
          [
           null
          ],
          [
           null
          ],
          [
           null
          ],
          [
           null
          ],
          [
           null
          ],
          [
           null
          ],
          [
           null
          ],
          [
           null
          ],
          [
           null
          ],
          [
           null
          ],
          [
           null
          ],
          [
           null
          ],
          [
           null
          ],
          [
           null
          ],
          [
           null
          ],
          [
           null
          ],
          [
           null
          ],
          [
           null
          ],
          [
           null
          ],
          [
           null
          ],
          [
           null
          ],
          [
           null
          ],
          [
           null
          ],
          [
           null
          ],
          [
           null
          ],
          [
           null
          ],
          [
           null
          ],
          [
           null
          ],
          [
           null
          ],
          [
           null
          ],
          [
           null
          ],
          [
           null
          ],
          [
           null
          ],
          [
           null
          ],
          [
           null
          ],
          [
           null
          ],
          [
           null
          ],
          [
           null
          ],
          [
           null
          ],
          [
           null
          ],
          [
           null
          ],
          [
           null
          ],
          [
           null
          ],
          [
           null
          ],
          [
           null
          ],
          [
           null
          ],
          [
           null
          ],
          [
           null
          ],
          [
           null
          ],
          [
           null
          ],
          [
           null
          ],
          [
           null
          ],
          [
           null
          ],
          [
           null
          ],
          [
           null
          ],
          [
           null
          ],
          [
           null
          ],
          [
           null
          ],
          [
           null
          ],
          [
           null
          ],
          [
           null
          ],
          [
           null
          ],
          [
           null
          ],
          [
           null
          ],
          [
           null
          ],
          [
           null
          ],
          [
           null
          ],
          [
           null
          ],
          [
           null
          ],
          [
           null
          ],
          [
           null
          ],
          [
           null
          ],
          [
           null
          ],
          [
           null
          ],
          [
           null
          ],
          [
           null
          ],
          [
           null
          ],
          [
           null
          ],
          [
           null
          ],
          [
           null
          ],
          [
           null
          ]
         ],
         "hovertemplate": "X=%{x}<br>slippage_usd=%{y}<br>total_return=%{z}<br>drawdown=%{customdata[0]}<br>sharpe=%{marker.color}<extra></extra>",
         "legendgroup": "",
         "marker": {
          "color": [
           -1.2962771921780534,
           -1.2964885875308654,
           -1.2965437521339658,
           -1.2970912041974365,
           -1.2962641546033031,
           -1.296505399489997,
           -1.2963379660358405,
           -1.296361280874661,
           -1.2982813862758475,
           -1.296245158391298,
           -1.2962559593692795,
           -1.2962702250604685,
           -1.2962903976485753,
           -1.2963219395892882,
           -1.296380091246135,
           -1.2965294253556208,
           -1.2977085443108234,
           -1.2967812493382196,
           -1.296481663346956,
           -1.2968025622752686,
           -1.2961868792003923,
           -1.273346252108099,
           -1.2972677901402172,
           -1.296923354453075,
           -1.2968573336821752,
           -1.2963705500768246,
           -1.2963786579204104,
           -1.2982734797551163,
           -1.296245158391298,
           -1.2962559593692795,
           -1.2962702250604685,
           -1.2962903976485753,
           -1.2963219395892882,
           -1.296380091246135,
           -1.2965294253556208,
           -1.2977085443108234,
           -1.2967812493382196,
           -1.296481663346956,
           -1.2968025622752686,
           -1.2961868792003923,
           -1.273346252108099,
           -1.2972677901402172,
           -1.296923354453075,
           -1.2968573336821752,
           -1.2963705500768246,
           -1.2963786579204104,
           -1.2982734797551163,
           -1.296245158391298,
           -1.2962559593692795,
           -1.2962702250604685,
           -1.2962903976485753,
           -1.2963219395892882,
           -1.296380091246135,
           -1.2965294253556208,
           -1.2977085443108234,
           -1.2967812493382196,
           -1.296481663346956,
           -1.297361326055397,
           -1.2963454877496416,
           -1.2968729227917162,
           -1.2964272728437831,
           -1.296118434578716,
           -1.2930061606760845,
           -1.2966691371727923,
           -1.298950512053597,
           -1.2949303168908846,
           -1.298586575184347,
           -1.2964897492015934,
           -1.2989406775874195,
           -1.295909956883625,
           -1.2972427344611315,
           -1.2954621202740466,
           -1.296842065792907,
           -1.2960726768500659,
           -1.2966595949131854,
           -1.2965697862645473,
           -1.29632884403387,
           -1.296389956553945,
           -1.2968729227917162,
           -1.2964272728437831,
           -1.296118434578716,
           -1.2930061606760845,
           -1.2966691371727923,
           -1.298950512053597,
           -1.2949303168908846,
           -1.298586575184347,
           -1.2964897492015934,
           -1.2989406775874195,
           -1.295909956883625,
           -1.2972427344611315,
           -1.2954621202740466,
           -1.296842065792907,
           -1.2960726768500659,
           -1.2966595949131854,
           -1.2965697862645473,
           -1.295709427693447,
           -1.2963809103290154,
           -1.2963512543809037,
           -1.2964137602666768,
           -1.2961353459586167,
           -1.2944248971220107,
           -1.302926574461044,
           -1.2982534628929043,
           -1.296981166831546,
           -1.3038598329475306,
           -1.29760084409148,
           -1.2968810065644953,
           -1.2958864302504576,
           -1.2961276861389235,
           -1.2961501125341914,
           -1.3895761621043168,
           -1.297478813302663,
           -1.2967558517128213,
           -1.2975092093400957,
           -0.04461854912661797,
           -1.2963809103290154,
           -1.2963512543809037,
           -1.2964137602666768,
           -1.2961353459586167,
           -1.2944248971220107,
           -1.302926574461044,
           -1.2982534628929043,
           -1.296981166831546,
           -1.3038598329475306,
           -1.29760084409148,
           -1.2968810065644953,
           -1.2958864302504576,
           -1.2961276861389235,
           -1.2961501125341914,
           -1.3895761621043168,
           -1.297478813302663,
           -1.2967558517128213,
           -1.2975092093400957,
           -0.4161269196034663,
           -1.2964697327891719,
           -1.2961943168585235,
           -1.296364794884931,
           -1.2961727957491893,
           -1.2960159816352366,
           -1.2951000512855744,
           -1.2940030030195329,
           -1.2980948331811446,
           -1.2853195790986025,
           -1.2992825687536147,
           -1.2966912714332064,
           -1.2966844793174592,
           -1.296567206970693,
           -1.293690020702646,
           -1.2966273810897733,
           -1.2953829457612607,
           -1.298026980009111,
           -1.2960722488098024,
           0.5430666846587296,
           1.3350413926505256,
           -1.2969860453120012,
           -1.2963594699721932,
           -1.2961727957491893,
           -1.2960159816352366,
           -1.2951000512855744,
           -1.2940030030195329,
           -1.2980948331811446,
           -1.2853195790986025,
           -1.2992825687536147,
           -1.2966912714332064,
           -1.2966844793174592,
           -1.296567206970693,
           -1.293690020702646,
           -1.2966273810897733,
           -1.2953829457612607,
           -1.298026980009111,
           -1.2960722488098024,
           0.7519713047574808,
           1.0086486237868737,
           -1.296661179735623,
           -1.296358437522297,
           -1.2961727957491893,
           -1.2960159816352366,
           -1.2951000512855744,
           -1.2940030030195329,
           -1.2980948331811446,
           -1.2853195790986025,
           -1.2992825687536147,
           -1.2966912714332064,
           -1.2966844793174592,
           -1.296567206970693,
           -1.293690020702646,
           -1.2966273810897733,
           -1.2953829457612607,
           -1.298026980009111,
           -1.2960722488098024,
           1.9821839540037889,
           1.7742233729542989,
           1.8717885998009118,
           1.134692426564593,
           -0.2191875318829164,
           2.5270242552841,
           -1.321462140970044,
           -1.2980924120788826,
           -1.2965808014904616,
           -1.2962396506167242,
           -1.2962474703087705,
           -1.2962570021597541,
           -1.2962690363132454,
           -1.2962849375929013,
           -1.2963072842659094,
           -1.2963416028003778,
           -1.2964022728425266,
           -1.296542131908912,
           -1.2972351935576218,
           1.983969072263103,
           1.7776533358956386,
           1.8753258223374998,
           1.1360442135771864,
           -0.21840337145043467,
           2.527243515512623,
           -1.321462140970044,
           -1.2980924120788826,
           -1.2965808014904616,
           -1.2962396506167242,
           -1.2962474703087705,
           -1.2962570021597541,
           -1.2962690363132454,
           -1.2962849375929013,
           -1.2963072842659094,
           -1.2963416028003778,
           -1.2964022728425266,
           -1.296542131908912,
           -1.2972351935576218,
           2.034986233411277,
           1.7787122672879825,
           1.5769140679799893,
           1.4829967413828924,
           1.7792119973003548,
           1.3806591688079728,
           -1.0427262362762433,
           1.40102710845417,
           -0.3896717550821156,
           -1.2962396506167242,
           -1.2962474703087705,
           -1.2962570021597541,
           -1.2962690363132454,
           -1.2962849375929013,
           -1.2963072842659094,
           -1.2963416028003778,
           -1.2964022728425266,
           -1.296542131908912,
           -1.2972351935576218,
           2.1805612093188205,
           2.0154207877950507,
           1.8511837165157743,
           1.6916895857143746,
           1.5400437877975703,
           1.3986605066402962,
           1.2694287496881167,
           1.1539830838640581,
           1.054113124305927,
           0.9724729913173265,
           0.9141329854362809,
           0.8910318176204227,
           0.9401897976622776,
           1.2737619650997565,
           -1.2959513587050182,
           -1.2858757824619609,
           -1.2966014830136465,
           -1.2962452485136997,
           -1.2954890220572692,
           2.1819988120555514,
           2.0190370463997342,
           1.8565947901882667,
           1.6983777946560366,
           1.5473402710556305,
           1.405722680663011,
           1.2751982022764496,
           1.157100445069095,
           1.0527427906915,
           0.9639212345041674,
           0.8939095070502029,
           0.850017722613902,
           0.8524494471081618,
           0.9834511971056334,
           -1.251543304825752,
           -1.2958814692075356,
           -1.2945764177945323,
           -1.2959257020804655,
           -1.2979195004966604,
           2.1819988120555514,
           2.0190370463997342,
           1.8565947901882667,
           1.6983777946560366,
           1.5473402710556305,
           1.405722680663011,
           1.2751982022764496,
           1.157100445069095,
           1.0527427906915,
           0.9639212345041674,
           0.8939095070502029,
           0.850017722613902,
           0.8524494471081618,
           0.9834511971056334,
           -1.251543304825752,
           -1.2958814692075356,
           -1.2945764177945323,
           -1.2959257020804655,
           -1.2979195004966604,
           2.1819988120555514,
           2.0190370463997342,
           1.8565947901882667,
           1.6983777946560366,
           1.5473402710556305,
           1.405722680663011,
           1.2751982022764496,
           1.157100445069095,
           1.0527427906915,
           0.9639212345041674,
           0.8939095070502029,
           0.850017722613902,
           0.8524494471081618,
           0.9834511971056334,
           -1.251543304825752,
           -1.2958814692075356,
           -1.2945764177945323,
           -1.2959257020804655,
           -1.2979195004966604,
           2.237067270268842,
           2.138320261374435,
           2.0417195291753174,
           1.950187819448709,
           1.866161059024585,
           1.791640896899003,
           1.7283146505563278,
           1.6777238620932324,
           1.6414823881592258,
           1.62157892845766,
           1.620872420815198,
           1.6441027224847398,
           1.7005650062983384,
           1.8140916878183224,
           2.081142770909038,
           1.2252822529857215,
           0.09096128545252287,
           -1.4975857390705718,
           1.3041018467110226,
           2.237067270268842,
           2.138320261374435,
           2.0417195291753174,
           1.950187819448709,
           1.866161059024585,
           1.791640896899003,
           1.7283146505563278,
           1.6777238620932324,
           1.6414823881592258,
           1.62157892845766,
           1.620872420815198,
           1.6441027224847398,
           1.7005650062983384,
           1.8140916878183224,
           2.081142770909038,
           1.2252822529857215,
           0.09096128545252287,
           -1.4975857390705718,
           1.3041018467110226,
           2.237067270268842,
           2.138320261374435,
           2.0417195291753174,
           1.950187819448709,
           1.866161059024585,
           1.791640896899003,
           1.7283146505563278,
           1.6777238620932324,
           1.6414823881592258,
           1.62157892845766,
           1.620872420815198,
           1.6441027224847398,
           1.7005650062983384,
           1.8140916878183224,
           2.081142770909038,
           1.2252822529857215,
           0.09096128545252287,
           -1.4975857390705718,
           1.3041018467110226,
           null,
           null,
           null,
           null,
           null,
           null,
           null,
           null,
           null,
           null,
           null,
           null,
           null,
           null,
           null,
           null,
           null,
           null,
           null,
           null,
           null,
           null,
           null,
           null,
           null,
           null,
           null,
           null,
           null,
           null,
           null,
           null,
           null,
           null,
           null,
           null,
           null,
           null,
           null,
           null,
           null,
           null,
           null,
           null,
           null,
           null,
           null,
           null,
           null,
           null,
           null,
           null,
           null,
           null,
           null,
           null,
           null,
           null,
           null,
           null,
           null,
           null,
           null,
           null,
           null,
           null,
           null,
           null,
           null,
           null,
           null,
           null,
           null,
           null,
           null,
           null,
           null,
           null,
           null,
           null,
           null,
           null,
           null,
           null,
           null,
           null,
           null,
           null,
           null,
           null,
           null,
           null,
           null,
           null,
           null,
           null,
           null,
           null,
           null,
           null,
           null,
           null,
           null,
           null,
           null,
           null,
           null,
           null,
           null,
           null,
           null,
           null,
           null,
           null,
           null,
           null,
           null,
           null,
           null,
           null,
           null,
           null,
           null,
           null,
           null,
           null,
           null,
           null,
           null,
           null,
           null,
           null,
           null,
           null,
           null,
           null,
           null,
           null,
           null,
           null,
           null,
           null,
           null,
           null,
           null,
           null,
           null,
           null,
           null,
           null,
           null,
           null,
           null,
           null,
           null,
           null,
           null,
           null,
           null,
           null,
           null,
           null,
           null,
           null,
           null,
           null,
           null,
           null,
           null,
           null,
           null,
           null,
           null,
           null,
           null,
           null,
           null,
           null,
           null,
           null,
           null,
           null,
           null,
           null,
           null,
           null,
           null,
           null,
           null,
           null,
           null,
           null,
           null,
           null,
           null,
           null,
           null,
           null,
           null,
           null,
           null,
           null,
           null,
           null,
           null,
           null,
           null,
           null,
           null,
           null,
           null,
           null,
           null,
           null,
           null,
           null,
           null,
           null,
           null,
           null,
           null,
           null,
           null,
           null,
           null,
           null,
           null,
           null,
           null,
           null,
           null,
           null,
           null,
           null,
           null,
           null,
           null,
           null,
           null,
           null,
           null,
           null,
           null,
           null,
           null,
           null,
           null,
           null,
           null,
           null,
           null,
           null,
           null,
           null,
           null,
           null,
           null,
           null,
           null,
           null,
           null,
           null,
           null,
           null,
           null,
           null,
           null,
           null,
           null,
           null,
           null,
           null,
           null,
           null,
           null,
           null,
           null,
           null,
           null,
           null,
           null,
           null,
           null,
           null,
           null,
           null,
           null,
           null,
           null,
           null,
           null,
           null,
           null,
           null,
           null,
           null,
           null,
           null,
           null,
           null,
           null,
           null,
           null,
           null,
           null,
           null,
           null,
           null,
           null,
           null,
           null,
           null,
           null,
           null,
           null,
           null,
           null,
           null,
           null,
           null,
           null,
           null,
           null,
           null,
           null,
           null,
           null,
           null,
           null,
           null,
           null,
           null,
           null,
           null,
           null,
           null,
           null,
           null,
           null,
           null,
           null,
           null,
           null,
           null,
           null,
           null,
           null,
           null,
           null,
           null,
           null,
           null,
           null,
           null,
           null,
           null,
           null,
           null,
           null,
           null,
           null,
           null,
           null,
           null,
           null,
           null,
           null,
           null,
           null,
           null,
           null,
           null,
           null,
           null,
           null,
           null,
           null,
           null,
           null,
           null,
           null,
           null,
           null,
           null,
           null,
           null,
           null,
           null,
           null,
           null,
           null,
           null,
           null,
           null,
           null,
           null,
           null,
           null,
           null,
           null,
           null,
           null,
           null,
           null,
           null,
           null,
           null,
           null,
           null,
           null,
           null,
           null,
           null,
           null,
           null,
           null,
           null,
           null,
           null,
           null,
           null,
           null,
           null,
           null,
           null,
           null,
           null,
           null,
           null,
           null,
           null,
           null,
           null,
           null,
           null,
           null,
           null,
           null,
           null,
           null,
           null,
           null,
           null,
           null,
           null,
           null,
           null,
           null,
           null,
           null,
           null,
           null,
           null,
           null,
           null,
           null,
           null,
           null,
           null,
           null,
           null,
           null,
           null,
           null,
           null,
           null,
           null,
           null,
           null,
           null,
           null,
           null,
           null,
           null,
           null,
           null,
           null,
           null,
           null,
           null,
           null,
           null,
           null,
           null,
           null,
           null,
           null,
           null,
           null,
           null,
           null,
           null,
           null,
           null
          ],
          "coloraxis": "coloraxis",
          "symbol": "circle"
         },
         "mode": "markers",
         "name": "",
         "scene": "scene",
         "showlegend": false,
         "type": "scatter3d",
         "x": [
          0.005,
          0.005,
          0.005,
          0.005,
          0.005,
          0.005,
          0.005,
          0.005,
          0.005,
          0.005,
          0.005,
          0.005,
          0.005,
          0.005,
          0.005,
          0.005,
          0.005,
          0.005,
          0.005,
          0.006,
          0.006,
          0.006,
          0.006,
          0.006,
          0.006,
          0.006,
          0.006,
          0.006,
          0.006,
          0.006,
          0.006,
          0.006,
          0.006,
          0.006,
          0.006,
          0.006,
          0.006,
          0.006,
          0.007,
          0.007,
          0.007,
          0.007,
          0.007,
          0.007,
          0.007,
          0.007,
          0.007,
          0.007,
          0.007,
          0.007,
          0.007,
          0.007,
          0.007,
          0.007,
          0.007,
          0.007,
          0.007,
          0.008,
          0.008,
          0.008,
          0.008,
          0.008,
          0.008,
          0.008,
          0.008,
          0.008,
          0.008,
          0.008,
          0.008,
          0.008,
          0.008,
          0.008,
          0.008,
          0.008,
          0.008,
          0.008,
          0.009000000000000001,
          0.009000000000000001,
          0.009000000000000001,
          0.009000000000000001,
          0.009000000000000001,
          0.009000000000000001,
          0.009000000000000001,
          0.009000000000000001,
          0.009000000000000001,
          0.009000000000000001,
          0.009000000000000001,
          0.009000000000000001,
          0.009000000000000001,
          0.009000000000000001,
          0.009000000000000001,
          0.009000000000000001,
          0.009000000000000001,
          0.009000000000000001,
          0.009000000000000001,
          0.01,
          0.01,
          0.01,
          0.01,
          0.01,
          0.01,
          0.01,
          0.01,
          0.01,
          0.01,
          0.01,
          0.01,
          0.01,
          0.01,
          0.01,
          0.01,
          0.01,
          0.01,
          0.01,
          0.011,
          0.011,
          0.011,
          0.011,
          0.011,
          0.011,
          0.011,
          0.011,
          0.011,
          0.011,
          0.011,
          0.011,
          0.011,
          0.011,
          0.011,
          0.011,
          0.011,
          0.011,
          0.011,
          0.012,
          0.012,
          0.012,
          0.012,
          0.012,
          0.012,
          0.012,
          0.012,
          0.012,
          0.012,
          0.012,
          0.012,
          0.012,
          0.012,
          0.012,
          0.012,
          0.012,
          0.012,
          0.012,
          0.013000000000000001,
          0.013000000000000001,
          0.013000000000000001,
          0.013000000000000001,
          0.013000000000000001,
          0.013000000000000001,
          0.013000000000000001,
          0.013000000000000001,
          0.013000000000000001,
          0.013000000000000001,
          0.013000000000000001,
          0.013000000000000001,
          0.013000000000000001,
          0.013000000000000001,
          0.013000000000000001,
          0.013000000000000001,
          0.013000000000000001,
          0.013000000000000001,
          0.013000000000000001,
          0.014,
          0.014,
          0.014,
          0.014,
          0.014,
          0.014,
          0.014,
          0.014,
          0.014,
          0.014,
          0.014,
          0.014,
          0.014,
          0.014,
          0.014,
          0.014,
          0.014,
          0.014,
          0.014,
          0.015,
          0.015,
          0.015,
          0.015,
          0.015,
          0.015,
          0.015,
          0.015,
          0.015,
          0.015,
          0.015,
          0.015,
          0.015,
          0.015,
          0.015,
          0.015,
          0.015,
          0.015,
          0.015,
          0.016,
          0.016,
          0.016,
          0.016,
          0.016,
          0.016,
          0.016,
          0.016,
          0.016,
          0.016,
          0.016,
          0.016,
          0.016,
          0.016,
          0.016,
          0.016,
          0.016,
          0.016,
          0.016,
          0.017,
          0.017,
          0.017,
          0.017,
          0.017,
          0.017,
          0.017,
          0.017,
          0.017,
          0.017,
          0.017,
          0.017,
          0.017,
          0.017,
          0.017,
          0.017,
          0.017,
          0.017,
          0.017,
          0.018000000000000002,
          0.018000000000000002,
          0.018000000000000002,
          0.018000000000000002,
          0.018000000000000002,
          0.018000000000000002,
          0.018000000000000002,
          0.018000000000000002,
          0.018000000000000002,
          0.018000000000000002,
          0.018000000000000002,
          0.018000000000000002,
          0.018000000000000002,
          0.018000000000000002,
          0.018000000000000002,
          0.018000000000000002,
          0.018000000000000002,
          0.018000000000000002,
          0.018000000000000002,
          0.019,
          0.019,
          0.019,
          0.019,
          0.019,
          0.019,
          0.019,
          0.019,
          0.019,
          0.019,
          0.019,
          0.019,
          0.019,
          0.019,
          0.019,
          0.019,
          0.019,
          0.019,
          0.019,
          0.02,
          0.02,
          0.02,
          0.02,
          0.02,
          0.02,
          0.02,
          0.02,
          0.02,
          0.02,
          0.02,
          0.02,
          0.02,
          0.02,
          0.02,
          0.02,
          0.02,
          0.02,
          0.02,
          0.021,
          0.021,
          0.021,
          0.021,
          0.021,
          0.021,
          0.021,
          0.021,
          0.021,
          0.021,
          0.021,
          0.021,
          0.021,
          0.021,
          0.021,
          0.021,
          0.021,
          0.021,
          0.021,
          0.022,
          0.022,
          0.022,
          0.022,
          0.022,
          0.022,
          0.022,
          0.022,
          0.022,
          0.022,
          0.022,
          0.022,
          0.022,
          0.022,
          0.022,
          0.022,
          0.022,
          0.022,
          0.022,
          0.023,
          0.023,
          0.023,
          0.023,
          0.023,
          0.023,
          0.023,
          0.023,
          0.023,
          0.023,
          0.023,
          0.023,
          0.023,
          0.023,
          0.023,
          0.023,
          0.023,
          0.023,
          0.023,
          0.024,
          0.024,
          0.024,
          0.024,
          0.024,
          0.024,
          0.024,
          0.024,
          0.024,
          0.024,
          0.024,
          0.024,
          0.024,
          0.024,
          0.024,
          0.024,
          0.024,
          0.024,
          0.024,
          0.025,
          0.025,
          0.025,
          0.025,
          0.025,
          0.025,
          0.025,
          0.025,
          0.025,
          0.025,
          0.025,
          0.025,
          0.025,
          0.025,
          0.025,
          0.025,
          0.025,
          0.025,
          0.025,
          0.026000000000000002,
          0.026000000000000002,
          0.026000000000000002,
          0.026000000000000002,
          0.026000000000000002,
          0.026000000000000002,
          0.026000000000000002,
          0.026000000000000002,
          0.026000000000000002,
          0.026000000000000002,
          0.026000000000000002,
          0.026000000000000002,
          0.026000000000000002,
          0.026000000000000002,
          0.026000000000000002,
          0.026000000000000002,
          0.026000000000000002,
          0.026000000000000002,
          0.026000000000000002,
          0.027,
          0.027,
          0.027,
          0.027,
          0.027,
          0.027,
          0.027,
          0.027,
          0.027,
          0.027,
          0.027,
          0.027,
          0.027,
          0.027,
          0.027,
          0.027,
          0.027,
          0.027,
          0.027,
          0.028,
          0.028,
          0.028,
          0.028,
          0.028,
          0.028,
          0.028,
          0.028,
          0.028,
          0.028,
          0.028,
          0.028,
          0.028,
          0.028,
          0.028,
          0.028,
          0.028,
          0.028,
          0.028,
          0.029,
          0.029,
          0.029,
          0.029,
          0.029,
          0.029,
          0.029,
          0.029,
          0.029,
          0.029,
          0.029,
          0.029,
          0.029,
          0.029,
          0.029,
          0.029,
          0.029,
          0.029,
          0.029,
          0.03,
          0.03,
          0.03,
          0.03,
          0.03,
          0.03,
          0.03,
          0.03,
          0.03,
          0.03,
          0.03,
          0.03,
          0.03,
          0.03,
          0.03,
          0.03,
          0.03,
          0.03,
          0.03,
          0.031,
          0.031,
          0.031,
          0.031,
          0.031,
          0.031,
          0.031,
          0.031,
          0.031,
          0.031,
          0.031,
          0.031,
          0.031,
          0.031,
          0.031,
          0.031,
          0.031,
          0.031,
          0.031,
          0.032,
          0.032,
          0.032,
          0.032,
          0.032,
          0.032,
          0.032,
          0.032,
          0.032,
          0.032,
          0.032,
          0.032,
          0.032,
          0.032,
          0.032,
          0.032,
          0.032,
          0.032,
          0.032,
          0.033,
          0.033,
          0.033,
          0.033,
          0.033,
          0.033,
          0.033,
          0.033,
          0.033,
          0.033,
          0.033,
          0.033,
          0.033,
          0.033,
          0.033,
          0.033,
          0.033,
          0.033,
          0.033,
          0.034,
          0.034,
          0.034,
          0.034,
          0.034,
          0.034,
          0.034,
          0.034,
          0.034,
          0.034,
          0.034,
          0.034,
          0.034,
          0.034,
          0.034,
          0.034,
          0.034,
          0.034,
          0.034,
          0.035,
          0.035,
          0.035,
          0.035,
          0.035,
          0.035,
          0.035,
          0.035,
          0.035,
          0.035,
          0.035,
          0.035,
          0.035,
          0.035,
          0.035,
          0.035,
          0.035,
          0.035,
          0.035,
          0.036000000000000004,
          0.036000000000000004,
          0.036000000000000004,
          0.036000000000000004,
          0.036000000000000004,
          0.036000000000000004,
          0.036000000000000004,
          0.036000000000000004,
          0.036000000000000004,
          0.036000000000000004,
          0.036000000000000004,
          0.036000000000000004,
          0.036000000000000004,
          0.036000000000000004,
          0.036000000000000004,
          0.036000000000000004,
          0.036000000000000004,
          0.036000000000000004,
          0.036000000000000004,
          0.037,
          0.037,
          0.037,
          0.037,
          0.037,
          0.037,
          0.037,
          0.037,
          0.037,
          0.037,
          0.037,
          0.037,
          0.037,
          0.037,
          0.037,
          0.037,
          0.037,
          0.037,
          0.037,
          0.038,
          0.038,
          0.038,
          0.038,
          0.038,
          0.038,
          0.038,
          0.038,
          0.038,
          0.038,
          0.038,
          0.038,
          0.038,
          0.038,
          0.038,
          0.038,
          0.038,
          0.038,
          0.038,
          0.039,
          0.039,
          0.039,
          0.039,
          0.039,
          0.039,
          0.039,
          0.039,
          0.039,
          0.039,
          0.039,
          0.039,
          0.039,
          0.039,
          0.039,
          0.039,
          0.039,
          0.039,
          0.039,
          0.04,
          0.04,
          0.04,
          0.04,
          0.04,
          0.04,
          0.04,
          0.04,
          0.04,
          0.04,
          0.04,
          0.04,
          0.04,
          0.04,
          0.04,
          0.04,
          0.04,
          0.04,
          0.04,
          0.041,
          0.041,
          0.041,
          0.041,
          0.041,
          0.041,
          0.041,
          0.041,
          0.041,
          0.041,
          0.041,
          0.041,
          0.041,
          0.041,
          0.041,
          0.041,
          0.041,
          0.041,
          0.041,
          0.042,
          0.042,
          0.042,
          0.042,
          0.042,
          0.042,
          0.042,
          0.042,
          0.042,
          0.042,
          0.042,
          0.042,
          0.042,
          0.042,
          0.042,
          0.042,
          0.042,
          0.042,
          0.042,
          0.043000000000000003,
          0.043000000000000003,
          0.043000000000000003,
          0.043000000000000003,
          0.043000000000000003,
          0.043000000000000003,
          0.043000000000000003,
          0.043000000000000003,
          0.043000000000000003,
          0.043000000000000003,
          0.043000000000000003,
          0.043000000000000003,
          0.043000000000000003,
          0.043000000000000003,
          0.043000000000000003,
          0.043000000000000003,
          0.043000000000000003,
          0.043000000000000003,
          0.043000000000000003,
          0.044,
          0.044,
          0.044,
          0.044,
          0.044,
          0.044,
          0.044,
          0.044,
          0.044,
          0.044,
          0.044,
          0.044,
          0.044,
          0.044,
          0.044,
          0.044,
          0.044,
          0.044,
          0.044,
          0.045,
          0.045,
          0.045,
          0.045,
          0.045,
          0.045,
          0.045,
          0.045,
          0.045,
          0.045,
          0.045,
          0.045,
          0.045,
          0.045,
          0.045,
          0.045,
          0.045,
          0.045,
          0.045,
          0.046,
          0.046,
          0.046,
          0.046,
          0.046,
          0.046,
          0.046,
          0.046,
          0.046,
          0.046,
          0.046,
          0.046,
          0.046,
          0.046,
          0.046,
          0.046,
          0.046,
          0.046,
          0.046,
          0.047,
          0.047,
          0.047,
          0.047,
          0.047,
          0.047,
          0.047,
          0.047,
          0.047,
          0.047,
          0.047,
          0.047,
          0.047,
          0.047,
          0.047,
          0.047,
          0.047,
          0.047,
          0.047,
          0.048,
          0.048,
          0.048,
          0.048,
          0.048,
          0.048,
          0.048,
          0.048,
          0.048,
          0.048,
          0.048,
          0.048,
          0.048,
          0.048,
          0.048,
          0.048,
          0.048,
          0.048,
          0.048,
          0.049,
          0.049,
          0.049,
          0.049,
          0.049,
          0.049,
          0.049,
          0.049,
          0.049,
          0.049,
          0.049,
          0.049,
          0.049,
          0.049,
          0.049,
          0.049,
          0.049,
          0.049,
          0.049,
          0.05,
          0.05,
          0.05,
          0.05,
          0.05,
          0.05,
          0.05,
          0.05,
          0.05,
          0.05,
          0.05,
          0.05,
          0.05,
          0.05,
          0.05,
          0.05,
          0.05,
          0.05,
          0.05
         ],
         "y": [
          0.001,
          0.002,
          0.003,
          0.004,
          0.005,
          0.006,
          0.007,
          0.008,
          0.009000000000000001,
          0.01,
          0.011,
          0.012,
          0.013000000000000001,
          0.014,
          0.015,
          0.016,
          0.017,
          0.018000000000000002,
          0.019,
          0.001,
          0.002,
          0.003,
          0.004,
          0.005,
          0.006,
          0.007,
          0.008,
          0.009000000000000001,
          0.01,
          0.011,
          0.012,
          0.013000000000000001,
          0.014,
          0.015,
          0.016,
          0.017,
          0.018000000000000002,
          0.019,
          0.001,
          0.002,
          0.003,
          0.004,
          0.005,
          0.006,
          0.007,
          0.008,
          0.009000000000000001,
          0.01,
          0.011,
          0.012,
          0.013000000000000001,
          0.014,
          0.015,
          0.016,
          0.017,
          0.018000000000000002,
          0.019,
          0.001,
          0.002,
          0.003,
          0.004,
          0.005,
          0.006,
          0.007,
          0.008,
          0.009000000000000001,
          0.01,
          0.011,
          0.012,
          0.013000000000000001,
          0.014,
          0.015,
          0.016,
          0.017,
          0.018000000000000002,
          0.019,
          0.001,
          0.002,
          0.003,
          0.004,
          0.005,
          0.006,
          0.007,
          0.008,
          0.009000000000000001,
          0.01,
          0.011,
          0.012,
          0.013000000000000001,
          0.014,
          0.015,
          0.016,
          0.017,
          0.018000000000000002,
          0.019,
          0.001,
          0.002,
          0.003,
          0.004,
          0.005,
          0.006,
          0.007,
          0.008,
          0.009000000000000001,
          0.01,
          0.011,
          0.012,
          0.013000000000000001,
          0.014,
          0.015,
          0.016,
          0.017,
          0.018000000000000002,
          0.019,
          0.001,
          0.002,
          0.003,
          0.004,
          0.005,
          0.006,
          0.007,
          0.008,
          0.009000000000000001,
          0.01,
          0.011,
          0.012,
          0.013000000000000001,
          0.014,
          0.015,
          0.016,
          0.017,
          0.018000000000000002,
          0.019,
          0.001,
          0.002,
          0.003,
          0.004,
          0.005,
          0.006,
          0.007,
          0.008,
          0.009000000000000001,
          0.01,
          0.011,
          0.012,
          0.013000000000000001,
          0.014,
          0.015,
          0.016,
          0.017,
          0.018000000000000002,
          0.019,
          0.001,
          0.002,
          0.003,
          0.004,
          0.005,
          0.006,
          0.007,
          0.008,
          0.009000000000000001,
          0.01,
          0.011,
          0.012,
          0.013000000000000001,
          0.014,
          0.015,
          0.016,
          0.017,
          0.018000000000000002,
          0.019,
          0.001,
          0.002,
          0.003,
          0.004,
          0.005,
          0.006,
          0.007,
          0.008,
          0.009000000000000001,
          0.01,
          0.011,
          0.012,
          0.013000000000000001,
          0.014,
          0.015,
          0.016,
          0.017,
          0.018000000000000002,
          0.019,
          0.001,
          0.002,
          0.003,
          0.004,
          0.005,
          0.006,
          0.007,
          0.008,
          0.009000000000000001,
          0.01,
          0.011,
          0.012,
          0.013000000000000001,
          0.014,
          0.015,
          0.016,
          0.017,
          0.018000000000000002,
          0.019,
          0.001,
          0.002,
          0.003,
          0.004,
          0.005,
          0.006,
          0.007,
          0.008,
          0.009000000000000001,
          0.01,
          0.011,
          0.012,
          0.013000000000000001,
          0.014,
          0.015,
          0.016,
          0.017,
          0.018000000000000002,
          0.019,
          0.001,
          0.002,
          0.003,
          0.004,
          0.005,
          0.006,
          0.007,
          0.008,
          0.009000000000000001,
          0.01,
          0.011,
          0.012,
          0.013000000000000001,
          0.014,
          0.015,
          0.016,
          0.017,
          0.018000000000000002,
          0.019,
          0.001,
          0.002,
          0.003,
          0.004,
          0.005,
          0.006,
          0.007,
          0.008,
          0.009000000000000001,
          0.01,
          0.011,
          0.012,
          0.013000000000000001,
          0.014,
          0.015,
          0.016,
          0.017,
          0.018000000000000002,
          0.019,
          0.001,
          0.002,
          0.003,
          0.004,
          0.005,
          0.006,
          0.007,
          0.008,
          0.009000000000000001,
          0.01,
          0.011,
          0.012,
          0.013000000000000001,
          0.014,
          0.015,
          0.016,
          0.017,
          0.018000000000000002,
          0.019,
          0.001,
          0.002,
          0.003,
          0.004,
          0.005,
          0.006,
          0.007,
          0.008,
          0.009000000000000001,
          0.01,
          0.011,
          0.012,
          0.013000000000000001,
          0.014,
          0.015,
          0.016,
          0.017,
          0.018000000000000002,
          0.019,
          0.001,
          0.002,
          0.003,
          0.004,
          0.005,
          0.006,
          0.007,
          0.008,
          0.009000000000000001,
          0.01,
          0.011,
          0.012,
          0.013000000000000001,
          0.014,
          0.015,
          0.016,
          0.017,
          0.018000000000000002,
          0.019,
          0.001,
          0.002,
          0.003,
          0.004,
          0.005,
          0.006,
          0.007,
          0.008,
          0.009000000000000001,
          0.01,
          0.011,
          0.012,
          0.013000000000000001,
          0.014,
          0.015,
          0.016,
          0.017,
          0.018000000000000002,
          0.019,
          0.001,
          0.002,
          0.003,
          0.004,
          0.005,
          0.006,
          0.007,
          0.008,
          0.009000000000000001,
          0.01,
          0.011,
          0.012,
          0.013000000000000001,
          0.014,
          0.015,
          0.016,
          0.017,
          0.018000000000000002,
          0.019,
          0.001,
          0.002,
          0.003,
          0.004,
          0.005,
          0.006,
          0.007,
          0.008,
          0.009000000000000001,
          0.01,
          0.011,
          0.012,
          0.013000000000000001,
          0.014,
          0.015,
          0.016,
          0.017,
          0.018000000000000002,
          0.019,
          0.001,
          0.002,
          0.003,
          0.004,
          0.005,
          0.006,
          0.007,
          0.008,
          0.009000000000000001,
          0.01,
          0.011,
          0.012,
          0.013000000000000001,
          0.014,
          0.015,
          0.016,
          0.017,
          0.018000000000000002,
          0.019,
          0.001,
          0.002,
          0.003,
          0.004,
          0.005,
          0.006,
          0.007,
          0.008,
          0.009000000000000001,
          0.01,
          0.011,
          0.012,
          0.013000000000000001,
          0.014,
          0.015,
          0.016,
          0.017,
          0.018000000000000002,
          0.019,
          0.001,
          0.002,
          0.003,
          0.004,
          0.005,
          0.006,
          0.007,
          0.008,
          0.009000000000000001,
          0.01,
          0.011,
          0.012,
          0.013000000000000001,
          0.014,
          0.015,
          0.016,
          0.017,
          0.018000000000000002,
          0.019,
          0.001,
          0.002,
          0.003,
          0.004,
          0.005,
          0.006,
          0.007,
          0.008,
          0.009000000000000001,
          0.01,
          0.011,
          0.012,
          0.013000000000000001,
          0.014,
          0.015,
          0.016,
          0.017,
          0.018000000000000002,
          0.019,
          0.001,
          0.002,
          0.003,
          0.004,
          0.005,
          0.006,
          0.007,
          0.008,
          0.009000000000000001,
          0.01,
          0.011,
          0.012,
          0.013000000000000001,
          0.014,
          0.015,
          0.016,
          0.017,
          0.018000000000000002,
          0.019,
          0.001,
          0.002,
          0.003,
          0.004,
          0.005,
          0.006,
          0.007,
          0.008,
          0.009000000000000001,
          0.01,
          0.011,
          0.012,
          0.013000000000000001,
          0.014,
          0.015,
          0.016,
          0.017,
          0.018000000000000002,
          0.019,
          0.001,
          0.002,
          0.003,
          0.004,
          0.005,
          0.006,
          0.007,
          0.008,
          0.009000000000000001,
          0.01,
          0.011,
          0.012,
          0.013000000000000001,
          0.014,
          0.015,
          0.016,
          0.017,
          0.018000000000000002,
          0.019,
          0.001,
          0.002,
          0.003,
          0.004,
          0.005,
          0.006,
          0.007,
          0.008,
          0.009000000000000001,
          0.01,
          0.011,
          0.012,
          0.013000000000000001,
          0.014,
          0.015,
          0.016,
          0.017,
          0.018000000000000002,
          0.019,
          0.001,
          0.002,
          0.003,
          0.004,
          0.005,
          0.006,
          0.007,
          0.008,
          0.009000000000000001,
          0.01,
          0.011,
          0.012,
          0.013000000000000001,
          0.014,
          0.015,
          0.016,
          0.017,
          0.018000000000000002,
          0.019,
          0.001,
          0.002,
          0.003,
          0.004,
          0.005,
          0.006,
          0.007,
          0.008,
          0.009000000000000001,
          0.01,
          0.011,
          0.012,
          0.013000000000000001,
          0.014,
          0.015,
          0.016,
          0.017,
          0.018000000000000002,
          0.019,
          0.001,
          0.002,
          0.003,
          0.004,
          0.005,
          0.006,
          0.007,
          0.008,
          0.009000000000000001,
          0.01,
          0.011,
          0.012,
          0.013000000000000001,
          0.014,
          0.015,
          0.016,
          0.017,
          0.018000000000000002,
          0.019,
          0.001,
          0.002,
          0.003,
          0.004,
          0.005,
          0.006,
          0.007,
          0.008,
          0.009000000000000001,
          0.01,
          0.011,
          0.012,
          0.013000000000000001,
          0.014,
          0.015,
          0.016,
          0.017,
          0.018000000000000002,
          0.019,
          0.001,
          0.002,
          0.003,
          0.004,
          0.005,
          0.006,
          0.007,
          0.008,
          0.009000000000000001,
          0.01,
          0.011,
          0.012,
          0.013000000000000001,
          0.014,
          0.015,
          0.016,
          0.017,
          0.018000000000000002,
          0.019,
          0.001,
          0.002,
          0.003,
          0.004,
          0.005,
          0.006,
          0.007,
          0.008,
          0.009000000000000001,
          0.01,
          0.011,
          0.012,
          0.013000000000000001,
          0.014,
          0.015,
          0.016,
          0.017,
          0.018000000000000002,
          0.019,
          0.001,
          0.002,
          0.003,
          0.004,
          0.005,
          0.006,
          0.007,
          0.008,
          0.009000000000000001,
          0.01,
          0.011,
          0.012,
          0.013000000000000001,
          0.014,
          0.015,
          0.016,
          0.017,
          0.018000000000000002,
          0.019,
          0.001,
          0.002,
          0.003,
          0.004,
          0.005,
          0.006,
          0.007,
          0.008,
          0.009000000000000001,
          0.01,
          0.011,
          0.012,
          0.013000000000000001,
          0.014,
          0.015,
          0.016,
          0.017,
          0.018000000000000002,
          0.019,
          0.001,
          0.002,
          0.003,
          0.004,
          0.005,
          0.006,
          0.007,
          0.008,
          0.009000000000000001,
          0.01,
          0.011,
          0.012,
          0.013000000000000001,
          0.014,
          0.015,
          0.016,
          0.017,
          0.018000000000000002,
          0.019,
          0.001,
          0.002,
          0.003,
          0.004,
          0.005,
          0.006,
          0.007,
          0.008,
          0.009000000000000001,
          0.01,
          0.011,
          0.012,
          0.013000000000000001,
          0.014,
          0.015,
          0.016,
          0.017,
          0.018000000000000002,
          0.019,
          0.001,
          0.002,
          0.003,
          0.004,
          0.005,
          0.006,
          0.007,
          0.008,
          0.009000000000000001,
          0.01,
          0.011,
          0.012,
          0.013000000000000001,
          0.014,
          0.015,
          0.016,
          0.017,
          0.018000000000000002,
          0.019,
          0.001,
          0.002,
          0.003,
          0.004,
          0.005,
          0.006,
          0.007,
          0.008,
          0.009000000000000001,
          0.01,
          0.011,
          0.012,
          0.013000000000000001,
          0.014,
          0.015,
          0.016,
          0.017,
          0.018000000000000002,
          0.019,
          0.001,
          0.002,
          0.003,
          0.004,
          0.005,
          0.006,
          0.007,
          0.008,
          0.009000000000000001,
          0.01,
          0.011,
          0.012,
          0.013000000000000001,
          0.014,
          0.015,
          0.016,
          0.017,
          0.018000000000000002,
          0.019,
          0.001,
          0.002,
          0.003,
          0.004,
          0.005,
          0.006,
          0.007,
          0.008,
          0.009000000000000001,
          0.01,
          0.011,
          0.012,
          0.013000000000000001,
          0.014,
          0.015,
          0.016,
          0.017,
          0.018000000000000002,
          0.019,
          0.001,
          0.002,
          0.003,
          0.004,
          0.005,
          0.006,
          0.007,
          0.008,
          0.009000000000000001,
          0.01,
          0.011,
          0.012,
          0.013000000000000001,
          0.014,
          0.015,
          0.016,
          0.017,
          0.018000000000000002,
          0.019,
          0.001,
          0.002,
          0.003,
          0.004,
          0.005,
          0.006,
          0.007,
          0.008,
          0.009000000000000001,
          0.01,
          0.011,
          0.012,
          0.013000000000000001,
          0.014,
          0.015,
          0.016,
          0.017,
          0.018000000000000002,
          0.019,
          0.001,
          0.002,
          0.003,
          0.004,
          0.005,
          0.006,
          0.007,
          0.008,
          0.009000000000000001,
          0.01,
          0.011,
          0.012,
          0.013000000000000001,
          0.014,
          0.015,
          0.016,
          0.017,
          0.018000000000000002,
          0.019,
          0.001,
          0.002,
          0.003,
          0.004,
          0.005,
          0.006,
          0.007,
          0.008,
          0.009000000000000001,
          0.01,
          0.011,
          0.012,
          0.013000000000000001,
          0.014,
          0.015,
          0.016,
          0.017,
          0.018000000000000002,
          0.019
         ],
         "z": [
          -103.95384281937456,
          -118.833488661418,
          -155.63380401364412,
          -192.35673999967287,
          -107.80252862348465,
          -132.53560634325663,
          -157.21558078205607,
          -181.84263499477808,
          -206.41695113856548,
          -111.89491645289758,
          -124.46630961268599,
          -137.00904188460103,
          -149.52322205080765,
          -162.00895830055958,
          -174.46635823433922,
          -186.8955288680135,
          -199.29657663691404,
          -211.66960739991202,
          -224.01472644343391,
          -104.14242318190897,
          -115.86428692422209,
          -120.06925761928957,
          -144.79388604217675,
          -169.4652689383582,
          -194.0835905168872,
          -218.64903407991045,
          -243.16178202854232,
          -267.62201586863205,
          -111.89491645289758,
          -124.46630961268599,
          -137.00904188460103,
          -149.52322205080765,
          -162.00895830055958,
          -174.46635823433922,
          -186.8955288680135,
          -199.29657663691404,
          -211.66960739991202,
          -224.01472644343391,
          -104.14242318190897,
          -115.86428692422209,
          -120.06925761928957,
          -144.79388604217675,
          -169.4652689383582,
          -194.0835905168872,
          -218.64903407991045,
          -243.16178202854232,
          -267.62201586863205,
          -111.89491645289758,
          -124.46630961268599,
          -137.00904188460103,
          -149.52322205080765,
          -162.00895830055958,
          -174.46635823433922,
          -186.8955288680135,
          -199.29657663691404,
          -211.66960739991202,
          -224.01472644343391,
          -106.47871614045768,
          -117.47175175832034,
          -116.6176449283342,
          -141.41481473848535,
          -109.43578156930135,
          -122.03417186384709,
          -134.60355689618527,
          -147.14404801756316,
          -159.6557559656393,
          -172.13879086883477,
          -184.59326225064964,
          -197.01927903394864,
          -209.41694954518817,
          -221.78638151864462,
          -234.12768210056646,
          -246.4409578533262,
          -258.7263147595093,
          -270.98385822599334,
          -283.2136930879666,
          -104.94392209630044,
          -118.0833870007148,
          -116.6176449283342,
          -141.41481473848535,
          -109.43578156930135,
          -122.03417186384709,
          -134.60355689618527,
          -147.14404801756316,
          -159.6557559656393,
          -172.13879086883477,
          -184.59326225064964,
          -197.01927903394864,
          -209.41694954518817,
          -221.78638151864462,
          -234.12768210056646,
          -246.4409578533262,
          -258.7263147595093,
          -270.98385822599334,
          -283.2136930879666,
          -105.47383628054277,
          -118.2427838611803,
          -116.57888563945107,
          -141.14836405102514,
          -108.94990151355202,
          -121.3285236012648,
          -133.68078056810236,
          -146.00675882280206,
          -158.306544389621,
          -170.5802229104966,
          -182.82787964719398,
          -195.04959948344396,
          -207.24546692705147,
          -219.41556611201253,
          -231.55998080059223,
          -243.67879438541416,
          -255.77208989150856,
          -267.83994997837465,
          -279.88245694200305,
          110.80216061852207,
          -118.2427838611803,
          -116.57888563945107,
          -141.14836405102514,
          -108.94990151355202,
          -121.3285236012648,
          -133.68078056810236,
          -146.00675882280206,
          -158.306544389621,
          -170.5802229104966,
          -182.82787964719398,
          -195.04959948344396,
          -207.24546692705147,
          -219.41556611201253,
          -231.55998080059223,
          -243.67879438541416,
          -255.77208989150856,
          -267.83994997837465,
          -279.88245694200305,
          122.2312041351397,
          -117.51606748136358,
          -115.41021314409589,
          -139.52356223337324,
          -106.89512932234643,
          -118.82814284342193,
          -130.73745623833793,
          -142.62314004318551,
          -154.48526451442547,
          -166.3238996302764,
          -178.13911509208856,
          -189.93098032571845,
          -201.69956448287257,
          -213.44493644248064,
          -225.1671648120186,
          -236.86631792886098,
          -248.54246386159886,
          -260.1956704113656,
          -271.8260051131449,
          127.02061730316201,
          61.874380788014605,
          -120.87209558194773,
          -145.24824858796984,
          -106.89512932234643,
          -118.82814284342193,
          -130.73745623833793,
          -142.62314004318551,
          -154.48526451442547,
          -166.3238996302764,
          -178.13911509208856,
          -189.93098032571845,
          -201.69956448287257,
          -213.44493644248064,
          -225.1671648120186,
          -236.86631792886098,
          -248.54246386159886,
          -260.1956704113656,
          -271.8260051131449,
          127.07106252444828,
          61.96001053909822,
          -120.7764921111188,
          -145.20940230083266,
          -106.89512932234643,
          -118.82814284342193,
          -130.73745623833793,
          -142.62314004318551,
          -154.48526451442547,
          -166.3238996302764,
          -178.13911509208856,
          -189.93098032571845,
          -201.69956448287257,
          -213.44493644248064,
          -225.1671648120186,
          -236.86631792886098,
          -248.54246386159886,
          -260.1956704113656,
          -271.8260051131449,
          199.8705575926524,
          156.23602754243984,
          112.85512231088614,
          69.72609653003292,
          26.847217624595032,
          -15.783234290218386,
          -116.40192647101495,
          -139.4211502452167,
          -162.35086997526304,
          -103.70183688681021,
          -115.63770338026242,
          -127.54998120475776,
          -139.43874021814622,
          -151.30405000271296,
          -163.1459798665208,
          -174.9645988447714,
          -186.75997570113606,
          -198.53217892909987,
          -210.2812767532789,
          200.34208354917791,
          157.2146940976918,
          114.21272374367891,
          71.33555527743192,
          28.582574909845786,
          -14.046827749418297,
          -116.40192647101495,
          -139.4211502452167,
          -162.35086997526304,
          -103.70183688681021,
          -115.63770338026242,
          -127.54998120475776,
          -139.43874021814622,
          -151.30405000271296,
          -163.1459798665208,
          -174.9645988447714,
          -186.75997570113606,
          -198.53217892909987,
          -210.2812767532789,
          176.55750617788908,
          144.3797582029183,
          112.28376939103238,
          80.26905299049577,
          48.33512515093844,
          16.481504904101712,
          -15.292285855177399,
          -46.98672238793915,
          -78.60227712983851,
          -103.70183688681021,
          -115.63770338026242,
          -127.54998120475776,
          -139.43874021814622,
          -151.30405000271296,
          -163.1459798665208,
          -174.9645988447714,
          -186.75997570113606,
          -198.53217892909987,
          -210.2812767532789,
          188.66148810018421,
          166.50059154200153,
          144.34128580079232,
          122.18356374875383,
          100.02741829591014,
          77.87284238984648,
          55.71982901550655,
          33.56837119492684,
          11.418461987036608,
          -10.729905512585901,
          -32.87673817193263,
          -55.02204282280309,
          -77.16582626100808,
          -99.30809524661163,
          -123.05274119929777,
          -146.80140278957765,
          -170.50175804183385,
          -194.153956405892,
          -217.75814670779306,
          188.78089691529476,
          166.81901060799646,
          144.85752287758714,
          122.89643253309077,
          100.93573838828797,
          78.97543926166145,
          57.015533976403276,
          35.05602136035941,
          13.096900246033327,
          -8.861830529453982,
          -30.82017212437404,
          -52.77812569242997,
          -74.7356923827565,
          -96.69287333996999,
          -120.04423914438465,
          -143.5995351684568,
          -167.10809798571785,
          -190.5700665242038,
          -213.98557916185322,
          188.78089691529476,
          166.81901060799646,
          144.85752287758714,
          122.89643253309077,
          100.93573838828797,
          78.97543926166145,
          57.015533976403276,
          35.05602136035941,
          13.096900246033327,
          -8.861830529453982,
          -30.82017212437404,
          -52.77812569242997,
          -74.7356923827565,
          -96.69287333996999,
          -120.04423914438465,
          -143.5995351684568,
          -167.10809798571785,
          -190.5700665242038,
          -213.98557916185322,
          188.78089691529476,
          166.81901060799646,
          144.85752287758714,
          122.89643253309077,
          100.93573838828797,
          78.97543926166145,
          57.015533976403276,
          35.05602136035941,
          13.096900246033327,
          -8.861830529453982,
          -30.82017212437404,
          -52.77812569242997,
          -74.7356923827565,
          -96.69287333996999,
          -120.04423914438465,
          -143.5995351684568,
          -167.10809798571785,
          -190.5700665242038,
          -213.98557916185322,
          199.0560000000005,
          188.36199999999917,
          177.66800000000057,
          166.97400000000016,
          156.28000000000065,
          145.58599999999933,
          134.89200000000073,
          124.19800000000032,
          113.50399999999992,
          102.80999999999949,
          92.1160000000009,
          81.42200000000048,
          70.72800000000007,
          60.03399999999965,
          49.340000000001055,
          38.64599999999973,
          27.952000000000226,
          17.25799999999981,
          6.564000000001215,
          199.0560000000005,
          188.36199999999917,
          177.66800000000057,
          166.97400000000016,
          156.28000000000065,
          145.58599999999933,
          134.89200000000073,
          124.19800000000032,
          113.50399999999992,
          102.80999999999949,
          92.1160000000009,
          81.42200000000048,
          70.72800000000007,
          60.03399999999965,
          49.340000000001055,
          38.64599999999973,
          27.952000000000226,
          17.25799999999981,
          6.564000000001215,
          199.0560000000005,
          188.36199999999917,
          177.66800000000057,
          166.97400000000016,
          156.28000000000065,
          145.58599999999933,
          134.89200000000073,
          124.19800000000032,
          113.50399999999992,
          102.80999999999949,
          92.1160000000009,
          81.42200000000048,
          70.72800000000007,
          60.03399999999965,
          49.340000000001055,
          38.64599999999973,
          27.952000000000226,
          17.25799999999981,
          6.564000000001215,
          0,
          0,
          0,
          0,
          0,
          0,
          0,
          0,
          0,
          0,
          0,
          0,
          0,
          0,
          0,
          0,
          0,
          0,
          0,
          0,
          0,
          0,
          0,
          0,
          0,
          0,
          0,
          0,
          0,
          0,
          0,
          0,
          0,
          0,
          0,
          0,
          0,
          0,
          0,
          0,
          0,
          0,
          0,
          0,
          0,
          0,
          0,
          0,
          0,
          0,
          0,
          0,
          0,
          0,
          0,
          0,
          0,
          0,
          0,
          0,
          0,
          0,
          0,
          0,
          0,
          0,
          0,
          0,
          0,
          0,
          0,
          0,
          0,
          0,
          0,
          0,
          0,
          0,
          0,
          0,
          0,
          0,
          0,
          0,
          0,
          0,
          0,
          0,
          0,
          0,
          0,
          0,
          0,
          0,
          0,
          0,
          0,
          0,
          0,
          0,
          0,
          0,
          0,
          0,
          0,
          0,
          0,
          0,
          0,
          0,
          0,
          0,
          0,
          0,
          0,
          0,
          0,
          0,
          0,
          0,
          0,
          0,
          0,
          0,
          0,
          0,
          0,
          0,
          0,
          0,
          0,
          0,
          0,
          0,
          0,
          0,
          0,
          0,
          0,
          0,
          0,
          0,
          0,
          0,
          0,
          0,
          0,
          0,
          0,
          0,
          0,
          0,
          0,
          0,
          0,
          0,
          0,
          0,
          0,
          0,
          0,
          0,
          0,
          0,
          0,
          0,
          0,
          0,
          0,
          0,
          0,
          0,
          0,
          0,
          0,
          0,
          0,
          0,
          0,
          0,
          0,
          0,
          0,
          0,
          0,
          0,
          0,
          0,
          0,
          0,
          0,
          0,
          0,
          0,
          0,
          0,
          0,
          0,
          0,
          0,
          0,
          0,
          0,
          0,
          0,
          0,
          0,
          0,
          0,
          0,
          0,
          0,
          0,
          0,
          0,
          0,
          0,
          0,
          0,
          0,
          0,
          0,
          0,
          0,
          0,
          0,
          0,
          0,
          0,
          0,
          0,
          0,
          0,
          0,
          0,
          0,
          0,
          0,
          0,
          0,
          0,
          0,
          0,
          0,
          0,
          0,
          0,
          0,
          0,
          0,
          0,
          0,
          0,
          0,
          0,
          0,
          0,
          0,
          0,
          0,
          0,
          0,
          0,
          0,
          0,
          0,
          0,
          0,
          0,
          0,
          0,
          0,
          0,
          0,
          0,
          0,
          0,
          0,
          0,
          0,
          0,
          0,
          0,
          0,
          0,
          0,
          0,
          0,
          0,
          0,
          0,
          0,
          0,
          0,
          0,
          0,
          0,
          0,
          0,
          0,
          0,
          0,
          0,
          0,
          0,
          0,
          0,
          0,
          0,
          0,
          0,
          0,
          0,
          0,
          0,
          0,
          0,
          0,
          0,
          0,
          0,
          0,
          0,
          0,
          0,
          0,
          0,
          0,
          0,
          0,
          0,
          0,
          0,
          0,
          0,
          0,
          0,
          0,
          0,
          0,
          0,
          0,
          0,
          0,
          0,
          0,
          0,
          0,
          0,
          0,
          0,
          0,
          0,
          0,
          0,
          0,
          0,
          0,
          0,
          0,
          0,
          0,
          0,
          0,
          0,
          0,
          0,
          0,
          0,
          0,
          0,
          0,
          0,
          0,
          0,
          0,
          0,
          0,
          0,
          0,
          0,
          0,
          0,
          0,
          0,
          0,
          0,
          0,
          0,
          0,
          0,
          0,
          0,
          0,
          0,
          0,
          0,
          0,
          0,
          0,
          0,
          0,
          0,
          0,
          0,
          0,
          0,
          0,
          0,
          0,
          0,
          0,
          0,
          0,
          0,
          0,
          0,
          0,
          0,
          0,
          0,
          0,
          0,
          0,
          0,
          0,
          0,
          0,
          0,
          0,
          0,
          0,
          0,
          0,
          0,
          0,
          0,
          0,
          0,
          0,
          0,
          0,
          0,
          0,
          0,
          0,
          0,
          0,
          0,
          0,
          0,
          0,
          0,
          0,
          0,
          0,
          0,
          0,
          0,
          0,
          0,
          0,
          0,
          0,
          0,
          0,
          0,
          0,
          0,
          0,
          0,
          0,
          0,
          0,
          0,
          0,
          0,
          0,
          0,
          0,
          0,
          0,
          0,
          0,
          0,
          0,
          0,
          0,
          0,
          0,
          0,
          0,
          0,
          0
         ]
        }
       ],
       "layout": {
        "coloraxis": {
         "colorbar": {
          "title": {
           "text": "sharpe"
          }
         },
         "colorscale": [
          [
           0,
           "#0d0887"
          ],
          [
           0.1111111111111111,
           "#46039f"
          ],
          [
           0.2222222222222222,
           "#7201a8"
          ],
          [
           0.3333333333333333,
           "#9c179e"
          ],
          [
           0.4444444444444444,
           "#bd3786"
          ],
          [
           0.5555555555555556,
           "#d8576b"
          ],
          [
           0.6666666666666666,
           "#ed7953"
          ],
          [
           0.7777777777777778,
           "#fb9f3a"
          ],
          [
           0.8888888888888888,
           "#fdca26"
          ],
          [
           1,
           "#f0f921"
          ]
         ]
        },
        "height": 600,
        "legend": {
         "tracegroupgap": 0
        },
        "scene": {
         "domain": {
          "x": [
           0,
           1
          ],
          "y": [
           0,
           1
          ]
         },
         "xaxis": {
          "title": {
           "text": "X"
          }
         },
         "yaxis": {
          "title": {
           "text": "slippage_usd"
          }
         },
         "zaxis": {
          "title": {
           "text": "total_return"
          }
         }
        },
        "template": {
         "data": {
          "bar": [
           {
            "error_x": {
             "color": "#2a3f5f"
            },
            "error_y": {
             "color": "#2a3f5f"
            },
            "marker": {
             "line": {
              "color": "#E5ECF6",
              "width": 0.5
             },
             "pattern": {
              "fillmode": "overlay",
              "size": 10,
              "solidity": 0.2
             }
            },
            "type": "bar"
           }
          ],
          "barpolar": [
           {
            "marker": {
             "line": {
              "color": "#E5ECF6",
              "width": 0.5
             },
             "pattern": {
              "fillmode": "overlay",
              "size": 10,
              "solidity": 0.2
             }
            },
            "type": "barpolar"
           }
          ],
          "carpet": [
           {
            "aaxis": {
             "endlinecolor": "#2a3f5f",
             "gridcolor": "white",
             "linecolor": "white",
             "minorgridcolor": "white",
             "startlinecolor": "#2a3f5f"
            },
            "baxis": {
             "endlinecolor": "#2a3f5f",
             "gridcolor": "white",
             "linecolor": "white",
             "minorgridcolor": "white",
             "startlinecolor": "#2a3f5f"
            },
            "type": "carpet"
           }
          ],
          "choropleth": [
           {
            "colorbar": {
             "outlinewidth": 0,
             "ticks": ""
            },
            "type": "choropleth"
           }
          ],
          "contour": [
           {
            "colorbar": {
             "outlinewidth": 0,
             "ticks": ""
            },
            "colorscale": [
             [
              0,
              "#0d0887"
             ],
             [
              0.1111111111111111,
              "#46039f"
             ],
             [
              0.2222222222222222,
              "#7201a8"
             ],
             [
              0.3333333333333333,
              "#9c179e"
             ],
             [
              0.4444444444444444,
              "#bd3786"
             ],
             [
              0.5555555555555556,
              "#d8576b"
             ],
             [
              0.6666666666666666,
              "#ed7953"
             ],
             [
              0.7777777777777778,
              "#fb9f3a"
             ],
             [
              0.8888888888888888,
              "#fdca26"
             ],
             [
              1,
              "#f0f921"
             ]
            ],
            "type": "contour"
           }
          ],
          "contourcarpet": [
           {
            "colorbar": {
             "outlinewidth": 0,
             "ticks": ""
            },
            "type": "contourcarpet"
           }
          ],
          "heatmap": [
           {
            "colorbar": {
             "outlinewidth": 0,
             "ticks": ""
            },
            "colorscale": [
             [
              0,
              "#0d0887"
             ],
             [
              0.1111111111111111,
              "#46039f"
             ],
             [
              0.2222222222222222,
              "#7201a8"
             ],
             [
              0.3333333333333333,
              "#9c179e"
             ],
             [
              0.4444444444444444,
              "#bd3786"
             ],
             [
              0.5555555555555556,
              "#d8576b"
             ],
             [
              0.6666666666666666,
              "#ed7953"
             ],
             [
              0.7777777777777778,
              "#fb9f3a"
             ],
             [
              0.8888888888888888,
              "#fdca26"
             ],
             [
              1,
              "#f0f921"
             ]
            ],
            "type": "heatmap"
           }
          ],
          "heatmapgl": [
           {
            "colorbar": {
             "outlinewidth": 0,
             "ticks": ""
            },
            "colorscale": [
             [
              0,
              "#0d0887"
             ],
             [
              0.1111111111111111,
              "#46039f"
             ],
             [
              0.2222222222222222,
              "#7201a8"
             ],
             [
              0.3333333333333333,
              "#9c179e"
             ],
             [
              0.4444444444444444,
              "#bd3786"
             ],
             [
              0.5555555555555556,
              "#d8576b"
             ],
             [
              0.6666666666666666,
              "#ed7953"
             ],
             [
              0.7777777777777778,
              "#fb9f3a"
             ],
             [
              0.8888888888888888,
              "#fdca26"
             ],
             [
              1,
              "#f0f921"
             ]
            ],
            "type": "heatmapgl"
           }
          ],
          "histogram": [
           {
            "marker": {
             "pattern": {
              "fillmode": "overlay",
              "size": 10,
              "solidity": 0.2
             }
            },
            "type": "histogram"
           }
          ],
          "histogram2d": [
           {
            "colorbar": {
             "outlinewidth": 0,
             "ticks": ""
            },
            "colorscale": [
             [
              0,
              "#0d0887"
             ],
             [
              0.1111111111111111,
              "#46039f"
             ],
             [
              0.2222222222222222,
              "#7201a8"
             ],
             [
              0.3333333333333333,
              "#9c179e"
             ],
             [
              0.4444444444444444,
              "#bd3786"
             ],
             [
              0.5555555555555556,
              "#d8576b"
             ],
             [
              0.6666666666666666,
              "#ed7953"
             ],
             [
              0.7777777777777778,
              "#fb9f3a"
             ],
             [
              0.8888888888888888,
              "#fdca26"
             ],
             [
              1,
              "#f0f921"
             ]
            ],
            "type": "histogram2d"
           }
          ],
          "histogram2dcontour": [
           {
            "colorbar": {
             "outlinewidth": 0,
             "ticks": ""
            },
            "colorscale": [
             [
              0,
              "#0d0887"
             ],
             [
              0.1111111111111111,
              "#46039f"
             ],
             [
              0.2222222222222222,
              "#7201a8"
             ],
             [
              0.3333333333333333,
              "#9c179e"
             ],
             [
              0.4444444444444444,
              "#bd3786"
             ],
             [
              0.5555555555555556,
              "#d8576b"
             ],
             [
              0.6666666666666666,
              "#ed7953"
             ],
             [
              0.7777777777777778,
              "#fb9f3a"
             ],
             [
              0.8888888888888888,
              "#fdca26"
             ],
             [
              1,
              "#f0f921"
             ]
            ],
            "type": "histogram2dcontour"
           }
          ],
          "mesh3d": [
           {
            "colorbar": {
             "outlinewidth": 0,
             "ticks": ""
            },
            "type": "mesh3d"
           }
          ],
          "parcoords": [
           {
            "line": {
             "colorbar": {
              "outlinewidth": 0,
              "ticks": ""
             }
            },
            "type": "parcoords"
           }
          ],
          "pie": [
           {
            "automargin": true,
            "type": "pie"
           }
          ],
          "scatter": [
           {
            "fillpattern": {
             "fillmode": "overlay",
             "size": 10,
             "solidity": 0.2
            },
            "type": "scatter"
           }
          ],
          "scatter3d": [
           {
            "line": {
             "colorbar": {
              "outlinewidth": 0,
              "ticks": ""
             }
            },
            "marker": {
             "colorbar": {
              "outlinewidth": 0,
              "ticks": ""
             }
            },
            "type": "scatter3d"
           }
          ],
          "scattercarpet": [
           {
            "marker": {
             "colorbar": {
              "outlinewidth": 0,
              "ticks": ""
             }
            },
            "type": "scattercarpet"
           }
          ],
          "scattergeo": [
           {
            "marker": {
             "colorbar": {
              "outlinewidth": 0,
              "ticks": ""
             }
            },
            "type": "scattergeo"
           }
          ],
          "scattergl": [
           {
            "marker": {
             "colorbar": {
              "outlinewidth": 0,
              "ticks": ""
             }
            },
            "type": "scattergl"
           }
          ],
          "scattermapbox": [
           {
            "marker": {
             "colorbar": {
              "outlinewidth": 0,
              "ticks": ""
             }
            },
            "type": "scattermapbox"
           }
          ],
          "scatterpolar": [
           {
            "marker": {
             "colorbar": {
              "outlinewidth": 0,
              "ticks": ""
             }
            },
            "type": "scatterpolar"
           }
          ],
          "scatterpolargl": [
           {
            "marker": {
             "colorbar": {
              "outlinewidth": 0,
              "ticks": ""
             }
            },
            "type": "scatterpolargl"
           }
          ],
          "scatterternary": [
           {
            "marker": {
             "colorbar": {
              "outlinewidth": 0,
              "ticks": ""
             }
            },
            "type": "scatterternary"
           }
          ],
          "surface": [
           {
            "colorbar": {
             "outlinewidth": 0,
             "ticks": ""
            },
            "colorscale": [
             [
              0,
              "#0d0887"
             ],
             [
              0.1111111111111111,
              "#46039f"
             ],
             [
              0.2222222222222222,
              "#7201a8"
             ],
             [
              0.3333333333333333,
              "#9c179e"
             ],
             [
              0.4444444444444444,
              "#bd3786"
             ],
             [
              0.5555555555555556,
              "#d8576b"
             ],
             [
              0.6666666666666666,
              "#ed7953"
             ],
             [
              0.7777777777777778,
              "#fb9f3a"
             ],
             [
              0.8888888888888888,
              "#fdca26"
             ],
             [
              1,
              "#f0f921"
             ]
            ],
            "type": "surface"
           }
          ],
          "table": [
           {
            "cells": {
             "fill": {
              "color": "#EBF0F8"
             },
             "line": {
              "color": "white"
             }
            },
            "header": {
             "fill": {
              "color": "#C8D4E3"
             },
             "line": {
              "color": "white"
             }
            },
            "type": "table"
           }
          ]
         },
         "layout": {
          "annotationdefaults": {
           "arrowcolor": "#2a3f5f",
           "arrowhead": 0,
           "arrowwidth": 1
          },
          "autotypenumbers": "strict",
          "coloraxis": {
           "colorbar": {
            "outlinewidth": 0,
            "ticks": ""
           }
          },
          "colorscale": {
           "diverging": [
            [
             0,
             "#8e0152"
            ],
            [
             0.1,
             "#c51b7d"
            ],
            [
             0.2,
             "#de77ae"
            ],
            [
             0.3,
             "#f1b6da"
            ],
            [
             0.4,
             "#fde0ef"
            ],
            [
             0.5,
             "#f7f7f7"
            ],
            [
             0.6,
             "#e6f5d0"
            ],
            [
             0.7,
             "#b8e186"
            ],
            [
             0.8,
             "#7fbc41"
            ],
            [
             0.9,
             "#4d9221"
            ],
            [
             1,
             "#276419"
            ]
           ],
           "sequential": [
            [
             0,
             "#0d0887"
            ],
            [
             0.1111111111111111,
             "#46039f"
            ],
            [
             0.2222222222222222,
             "#7201a8"
            ],
            [
             0.3333333333333333,
             "#9c179e"
            ],
            [
             0.4444444444444444,
             "#bd3786"
            ],
            [
             0.5555555555555556,
             "#d8576b"
            ],
            [
             0.6666666666666666,
             "#ed7953"
            ],
            [
             0.7777777777777778,
             "#fb9f3a"
            ],
            [
             0.8888888888888888,
             "#fdca26"
            ],
            [
             1,
             "#f0f921"
            ]
           ],
           "sequentialminus": [
            [
             0,
             "#0d0887"
            ],
            [
             0.1111111111111111,
             "#46039f"
            ],
            [
             0.2222222222222222,
             "#7201a8"
            ],
            [
             0.3333333333333333,
             "#9c179e"
            ],
            [
             0.4444444444444444,
             "#bd3786"
            ],
            [
             0.5555555555555556,
             "#d8576b"
            ],
            [
             0.6666666666666666,
             "#ed7953"
            ],
            [
             0.7777777777777778,
             "#fb9f3a"
            ],
            [
             0.8888888888888888,
             "#fdca26"
            ],
            [
             1,
             "#f0f921"
            ]
           ]
          },
          "colorway": [
           "#636efa",
           "#EF553B",
           "#00cc96",
           "#ab63fa",
           "#FFA15A",
           "#19d3f3",
           "#FF6692",
           "#B6E880",
           "#FF97FF",
           "#FECB52"
          ],
          "font": {
           "color": "#2a3f5f"
          },
          "geo": {
           "bgcolor": "white",
           "lakecolor": "white",
           "landcolor": "#E5ECF6",
           "showlakes": true,
           "showland": true,
           "subunitcolor": "white"
          },
          "hoverlabel": {
           "align": "left"
          },
          "hovermode": "closest",
          "mapbox": {
           "style": "light"
          },
          "paper_bgcolor": "white",
          "plot_bgcolor": "#E5ECF6",
          "polar": {
           "angularaxis": {
            "gridcolor": "white",
            "linecolor": "white",
            "ticks": ""
           },
           "bgcolor": "#E5ECF6",
           "radialaxis": {
            "gridcolor": "white",
            "linecolor": "white",
            "ticks": ""
           }
          },
          "scene": {
           "xaxis": {
            "backgroundcolor": "#E5ECF6",
            "gridcolor": "white",
            "gridwidth": 2,
            "linecolor": "white",
            "showbackground": true,
            "ticks": "",
            "zerolinecolor": "white"
           },
           "yaxis": {
            "backgroundcolor": "#E5ECF6",
            "gridcolor": "white",
            "gridwidth": 2,
            "linecolor": "white",
            "showbackground": true,
            "ticks": "",
            "zerolinecolor": "white"
           },
           "zaxis": {
            "backgroundcolor": "#E5ECF6",
            "gridcolor": "white",
            "gridwidth": 2,
            "linecolor": "white",
            "showbackground": true,
            "ticks": "",
            "zerolinecolor": "white"
           }
          },
          "shapedefaults": {
           "line": {
            "color": "#2a3f5f"
           }
          },
          "ternary": {
           "aaxis": {
            "gridcolor": "white",
            "linecolor": "white",
            "ticks": ""
           },
           "baxis": {
            "gridcolor": "white",
            "linecolor": "white",
            "ticks": ""
           },
           "bgcolor": "#E5ECF6",
           "caxis": {
            "gridcolor": "white",
            "linecolor": "white",
            "ticks": ""
           }
          },
          "title": {
           "x": 0.05
          },
          "xaxis": {
           "automargin": true,
           "gridcolor": "white",
           "linecolor": "white",
           "ticks": "",
           "title": {
            "standoff": 15
           },
           "zerolinecolor": "white",
           "zerolinewidth": 2
          },
          "yaxis": {
           "automargin": true,
           "gridcolor": "white",
           "linecolor": "white",
           "ticks": "",
           "title": {
            "standoff": 15
           },
           "zerolinecolor": "white",
           "zerolinewidth": 2
          }
         }
        },
        "title": {
         "text": "3D визуализация бектестинга"
        }
       }
      }
     },
     "metadata": {},
     "output_type": "display_data"
    }
   ],
   "source": [
    "fig_3d = px.scatter_3d(\n",
    "    results_df,\n",
    "    x=\"X\",\n",
    "    y=\"slippage_usd\",\n",
    "    z=\"total_return\",\n",
    "    color=\"sharpe\",\n",
    "    title=\"3D визуализация бектестинга\",\n",
    "    height=600,\n",
    "    hover_data=['drawdown']\n",
    ")\n",
    "\n",
    "fig_3d.show()"
   ]
  },
  {
   "cell_type": "code",
   "execution_count": 160,
   "metadata": {},
   "outputs": [],
   "source": [
    "results_df.to_parquet('data/results/backtesting0.parquet')"
   ]
  },
  {
   "cell_type": "code",
   "execution_count": null,
   "metadata": {},
   "outputs": [],
   "source": []
  },
  {
   "cell_type": "code",
   "execution_count": null,
   "metadata": {},
   "outputs": [],
   "source": []
  },
  {
   "cell_type": "code",
   "execution_count": null,
   "metadata": {},
   "outputs": [],
   "source": []
  },
  {
   "cell_type": "code",
   "execution_count": null,
   "metadata": {},
   "outputs": [],
   "source": []
  },
  {
   "cell_type": "code",
   "execution_count": null,
   "metadata": {},
   "outputs": [],
   "source": []
  },
  {
   "cell_type": "code",
   "execution_count": 184,
   "metadata": {},
   "outputs": [],
   "source": [
    "def run_strategy_with_st_tp(df, X, \n",
    "                            sl_stop=sl_stop,\n",
    "                            tp_stop = tp_stop\n",
    "                            ):\n",
    "    df = df.copy()\n",
    "    \n",
    "    long_signal = (entry_prices['ret'] > X)\n",
    "    short_signal = (entry_prices['ret'] < -X)\n",
    "    \n",
    "    df['entry_long'] = False\n",
    "    df['entry_short'] = False\n",
    "    df['exit'] = False\n",
    "    \n",
    "    df.loc[entry_prices[long_signal].index, 'entry_long'] = True\n",
    "    df.loc[entry_prices[short_signal].index, 'entry_short'] = True\n",
    "    df.loc[exit_prices.index, 'exit'] = True\n",
    "\n",
    "    entries = df['entry_long']\n",
    "    short_entries = df['entry_short']\n",
    "    exits = df['exit']\n",
    "\n",
    "    size = 1\n",
    "\n",
    "    portfolio = vbt.Portfolio.from_signals(\n",
    "        close=df['price'],\n",
    "        entries=entries,\n",
    "        short_entries=short_entries,\n",
    "        exits=exits,\n",
    "        short_exits=exits,\n",
    "        size=size,\n",
    "        size_type = 'amount',\n",
    "        sl_stop=sl_stop,   # stop-loss        \n",
    "        tp_stop=tp_stop,   # take profit\n",
    "        freq='1T'\n",
    "    )\n",
    "\n",
    "    return portfolio\n",
    "\n",
    "\n",
    "fname = f\"{DATA_DIR}futures_1min_bar.parquet\"\n",
    "df = preprocessing_data(fname)\n",
    "\n",
    "df['price'] = (df['bid'] + df['offer']) / 2\n",
    "df['date'] = df.index.floor('D')\n",
    "\n",
    "grouped = df.groupby('date')\n",
    "prev_close = grouped['price'].last().shift(1)\n",
    "\n",
    "\n",
    "entry_price_time = pd.to_datetime(\"23:00:00\").time()\n",
    "exit_price_time = pd.to_datetime(\"23:59:00\").time()\n",
    "\n",
    "entry_mask = df.index.time == entry_price_time\n",
    "exit_mask = df.index.time == exit_price_time\n",
    "\n",
    "entry_prices = df[entry_mask].copy()\n",
    "exit_prices = df[exit_mask].copy()\n",
    "\n",
    "entry_prices['prev_close'] = entry_prices['date'].map(prev_close)\n",
    "entry_prices['ret'] = (entry_prices['price'] - entry_prices['prev_close']) / entry_prices['prev_close']"
   ]
  },
  {
   "cell_type": "code",
   "execution_count": null,
   "metadata": {},
   "outputs": [
    {
     "name": "stderr",
     "output_type": "stream",
     "text": [
      "777it [00:49, 16.73it/s]"
     ]
    }
   ],
   "source": [
    "import numpy as np\n",
    "import itertools\n",
    "\n",
    "# Параметры подбора\n",
    "X_values = np.arange(0.005, 0.05, 0.001)    \n",
    "sp_values = np.arange(0.005, 0.05, 0.001)    \n",
    "# tp_values = np.arange(0.005, 0.1, 0.01)    \n",
    "\n",
    "results = []\n",
    "\n",
    "for X_val, sl_stop in tqdm(itertools.product(X_values, sp_values)):\n",
    "    pf = run_strategy_with_st_tp(df, X=X_val, sl_stop=sl_stop)\n",
    "    stats = pf.stats()\n",
    "    results.append({\n",
    "        'X': X_val,\n",
    "        # 'slippage_usd': sl_val,\n",
    "        'sl_stop': sl_stop,\n",
    "        # 'tp_stop': tp_stop,\n",
    "        'total_return': stats['Total Return [%]'],\n",
    "        'sharpe': stats['Sharpe Ratio'],\n",
    "        'drawdown': stats['Max Drawdown [%]']\n",
    "    })\n",
    "\n",
    "# В датафрейм для удобного анализа\n",
    "results_df = pd.DataFrame(results)\n",
    "print(results_df.sort_values(by='total_return', ascending=False))\n"
   ]
  },
  {
   "cell_type": "code",
   "execution_count": 176,
   "metadata": {},
   "outputs": [
    {
     "data": {
      "text/plain": [
       "np.float64(0.007850000000000135)"
      ]
     },
     "execution_count": 176,
     "metadata": {},
     "output_type": "execute_result"
    }
   ],
   "source": [
    "results_df['total_return'].max()"
   ]
  },
  {
   "cell_type": "code",
   "execution_count": null,
   "metadata": {},
   "outputs": [],
   "source": []
  },
  {
   "cell_type": "code",
   "execution_count": 178,
   "metadata": {},
   "outputs": [
    {
     "data": {
      "application/vnd.plotly.v1+json": {
       "config": {
        "plotlyServerURL": "https://plot.ly"
       },
       "data": [
        {
         "customdata": [
          [
           0.016719754219605268
          ],
          [
           0.01875972423205412
          ],
          [
           0.01875972423205412
          ],
          [
           0.018154733125416097
          ],
          [
           0.018154733125416097
          ],
          [
           0.018154733125416097
          ],
          [
           0.018154733125416097
          ],
          [
           0.018154733125416097
          ],
          [
           0.018154733125416097
          ],
          [
           0.018154733125416097
          ],
          [
           0.018154733125416097
          ],
          [
           0.018154733125416097
          ],
          [
           0.018154733125416097
          ],
          [
           0.018154733125416097
          ],
          [
           0.018154733125416097
          ],
          [
           0.018154733125416097
          ],
          [
           0.018154733125416097
          ],
          [
           0.018154733125416097
          ],
          [
           0.018154733125416097
          ],
          [
           0.018154733125416097
          ],
          [
           0.018154733125416097
          ],
          [
           0.018154733125416097
          ],
          [
           0.018154733125416097
          ],
          [
           0.018154733125416097
          ],
          [
           0.018154733125416097
          ],
          [
           0.018154733125416097
          ],
          [
           0.018154733125416097
          ],
          [
           0.018154733125416097
          ],
          [
           0.018154733125416097
          ],
          [
           0.018154733125416097
          ],
          [
           0.018154733125416097
          ],
          [
           0.018154733125416097
          ],
          [
           0.018154733125416097
          ],
          [
           0.018154733125416097
          ],
          [
           0.018154733125416097
          ],
          [
           0.018154733125416097
          ],
          [
           0.018154733125416097
          ],
          [
           0.018154733125416097
          ],
          [
           0.018154733125416097
          ],
          [
           0.018154733125416097
          ],
          [
           0.018154733125416097
          ],
          [
           0.018154733125416097
          ],
          [
           0.018154733125416097
          ],
          [
           0.018154733125416097
          ],
          [
           0.018154733125416097
          ],
          [
           0.018154733125416097
          ],
          [
           0.01483956891050135
          ],
          [
           0.016879509650230898
          ],
          [
           0.016879509650230898
          ],
          [
           0.01627452722496306
          ],
          [
           0.01627452722496306
          ],
          [
           0.01627452722496306
          ],
          [
           0.01627452722496306
          ],
          [
           0.01627452722496306
          ],
          [
           0.01627452722496306
          ],
          [
           0.01627452722496306
          ],
          [
           0.01627452722496306
          ],
          [
           0.01627452722496306
          ],
          [
           0.01627452722496306
          ],
          [
           0.01627452722496306
          ],
          [
           0.01627452722496306
          ],
          [
           0.01627452722496306
          ],
          [
           0.01627452722496306
          ],
          [
           0.01627452722496306
          ],
          [
           0.01627452722496306
          ],
          [
           0.01627452722496306
          ],
          [
           0.01627452722496306
          ],
          [
           0.01627452722496306
          ],
          [
           0.01627452722496306
          ],
          [
           0.01627452722496306
          ],
          [
           0.01627452722496306
          ],
          [
           0.01627452722496306
          ],
          [
           0.01627452722496306
          ],
          [
           0.01627452722496306
          ],
          [
           0.01627452722496306
          ],
          [
           0.01627452722496306
          ],
          [
           0.01627452722496306
          ],
          [
           0.01627452722496306
          ],
          [
           0.01627452722496306
          ],
          [
           0.01627452722496306
          ],
          [
           0.01627452722496306
          ],
          [
           0.01627452722496306
          ],
          [
           0.01627452722496306
          ],
          [
           0.01627452722496306
          ],
          [
           0.01627452722496306
          ],
          [
           0.01627452722496306
          ],
          [
           0.01627452722496306
          ],
          [
           0.01627452722496306
          ],
          [
           0.01627452722496306
          ],
          [
           0.01627452722496306
          ],
          [
           0.01627452722496306
          ],
          [
           0.01627452722496306
          ],
          [
           0.015089431128432957
          ],
          [
           0.017129354223340314
          ],
          [
           0.017129354223340314
          ],
          [
           0.016524377030973175
          ],
          [
           0.016524377030973175
          ],
          [
           0.016524377030973175
          ],
          [
           0.016524377030973175
          ],
          [
           0.016524377030973175
          ],
          [
           0.016524377030973175
          ],
          [
           0.016524377030973175
          ],
          [
           0.016524377030973175
          ],
          [
           0.016524377030973175
          ],
          [
           0.016524377030973175
          ],
          [
           0.016524377030973175
          ],
          [
           0.016524377030973175
          ],
          [
           0.016524377030973175
          ],
          [
           0.016524377030973175
          ],
          [
           0.016524377030973175
          ],
          [
           0.016524377030973175
          ],
          [
           0.016524377030973175
          ],
          [
           0.016524377030973175
          ],
          [
           0.016524377030973175
          ],
          [
           0.016524377030973175
          ],
          [
           0.016524377030973175
          ],
          [
           0.016524377030973175
          ],
          [
           0.016524377030973175
          ],
          [
           0.016524377030973175
          ],
          [
           0.016524377030973175
          ],
          [
           0.016524377030973175
          ],
          [
           0.016524377030973175
          ],
          [
           0.016524377030973175
          ],
          [
           0.016524377030973175
          ],
          [
           0.016524377030973175
          ],
          [
           0.016524377030973175
          ],
          [
           0.016524377030973175
          ],
          [
           0.016524377030973175
          ],
          [
           0.016524377030973175
          ],
          [
           0.016524377030973175
          ],
          [
           0.016524377030973175
          ],
          [
           0.016524377030973175
          ],
          [
           0.016524377030973175
          ],
          [
           0.016524377030973175
          ],
          [
           0.016524377030973175
          ],
          [
           0.016524377030973175
          ],
          [
           0.016524377030973175
          ],
          [
           0.016524377030973175
          ],
          [
           0.016614081241294744
          ],
          [
           0.01865396843554094
          ],
          [
           0.01865396843554094
          ],
          [
           0.018049001890183602
          ],
          [
           0.018049001890183602
          ],
          [
           0.018049001890183602
          ],
          [
           0.018049001890183602
          ],
          [
           0.018049001890183602
          ],
          [
           0.018049001890183602
          ],
          [
           0.018049001890183602
          ],
          [
           0.018049001890183602
          ],
          [
           0.018049001890183602
          ],
          [
           0.018049001890183602
          ],
          [
           0.018049001890183602
          ],
          [
           0.018049001890183602
          ],
          [
           0.018049001890183602
          ],
          [
           0.018049001890183602
          ],
          [
           0.018049001890183602
          ],
          [
           0.018049001890183602
          ],
          [
           0.018049001890183602
          ],
          [
           0.018049001890183602
          ],
          [
           0.018049001890183602
          ],
          [
           0.018049001890183602
          ],
          [
           0.018049001890183602
          ],
          [
           0.018049001890183602
          ],
          [
           0.018049001890183602
          ],
          [
           0.018049001890183602
          ],
          [
           0.018049001890183602
          ],
          [
           0.018049001890183602
          ],
          [
           0.018049001890183602
          ],
          [
           0.018049001890183602
          ],
          [
           0.018049001890183602
          ],
          [
           0.018049001890183602
          ],
          [
           0.018049001890183602
          ],
          [
           0.018049001890183602
          ],
          [
           0.018049001890183602
          ],
          [
           0.018049001890183602
          ],
          [
           0.018049001890183602
          ],
          [
           0.018049001890183602
          ],
          [
           0.018049001890183602
          ],
          [
           0.018049001890183602
          ],
          [
           0.018049001890183602
          ],
          [
           0.018049001890183602
          ],
          [
           0.018049001890183602
          ],
          [
           0.018049001890183602
          ],
          [
           0.018049001890183602
          ],
          [
           0.01210449463734004
          ],
          [
           0.01210449463734004
          ],
          [
           0.01210449463734004
          ],
          [
           0.01210449463734004
          ],
          [
           0.01210449463734004
          ],
          [
           0.01210449463734004
          ],
          [
           0.01210449463734004
          ],
          [
           0.01210449463734004
          ],
          [
           0.01210449463734004
          ],
          [
           0.01210449463734004
          ],
          [
           0.01210449463734004
          ],
          [
           0.01210449463734004
          ],
          [
           0.01210449463734004
          ],
          [
           0.01210449463734004
          ],
          [
           0.01210449463734004
          ],
          [
           0.01210449463734004
          ],
          [
           0.01210449463734004
          ],
          [
           0.01210449463734004
          ],
          [
           0.01210449463734004
          ],
          [
           0.01210449463734004
          ],
          [
           0.01210449463734004
          ],
          [
           0.01210449463734004
          ],
          [
           0.01210449463734004
          ],
          [
           0.01210449463734004
          ],
          [
           0.01210449463734004
          ],
          [
           0.01210449463734004
          ],
          [
           0.01210449463734004
          ],
          [
           0.01210449463734004
          ],
          [
           0.01210449463734004
          ],
          [
           0.01210449463734004
          ],
          [
           0.01210449463734004
          ],
          [
           0.01210449463734004
          ],
          [
           0.01210449463734004
          ],
          [
           0.01210449463734004
          ],
          [
           0.01210449463734004
          ],
          [
           0.01210449463734004
          ],
          [
           0.01210449463734004
          ],
          [
           0.01210449463734004
          ],
          [
           0.01210449463734004
          ],
          [
           0.01210449463734004
          ],
          [
           0.01210449463734004
          ],
          [
           0.01210449463734004
          ],
          [
           0.01210449463734004
          ],
          [
           0.01210449463734004
          ],
          [
           0.01210449463734004
          ],
          [
           0.01210449463734004
          ],
          [
           0.011999553616605914
          ],
          [
           0.011999553616605914
          ],
          [
           0.011999553616605914
          ],
          [
           0.011999553616605914
          ],
          [
           0.011999553616605914
          ],
          [
           0.011999553616605914
          ],
          [
           0.011999553616605914
          ],
          [
           0.011999553616605914
          ],
          [
           0.011999553616605914
          ],
          [
           0.011999553616605914
          ],
          [
           0.011999553616605914
          ],
          [
           0.011999553616605914
          ],
          [
           0.011999553616605914
          ],
          [
           0.011999553616605914
          ],
          [
           0.011999553616605914
          ],
          [
           0.011999553616605914
          ],
          [
           0.011999553616605914
          ],
          [
           0.011999553616605914
          ],
          [
           0.011999553616605914
          ],
          [
           0.011999553616605914
          ],
          [
           0.011999553616605914
          ],
          [
           0.011999553616605914
          ],
          [
           0.011999553616605914
          ],
          [
           0.011999553616605914
          ],
          [
           0.011999553616605914
          ],
          [
           0.011999553616605914
          ],
          [
           0.011999553616605914
          ],
          [
           0.011999553616605914
          ],
          [
           0.011999553616605914
          ],
          [
           0.011999553616605914
          ],
          [
           0.011999553616605914
          ],
          [
           0.011999553616605914
          ],
          [
           0.011999553616605914
          ],
          [
           0.011999553616605914
          ],
          [
           0.011999553616605914
          ],
          [
           0.011999553616605914
          ],
          [
           0.011999553616605914
          ],
          [
           0.011999553616605914
          ],
          [
           0.011999553616605914
          ],
          [
           0.011999553616605914
          ],
          [
           0.011999553616605914
          ],
          [
           0.011999553616605914
          ],
          [
           0.011999553616605914
          ],
          [
           0.011999553616605914
          ],
          [
           0.011999553616605914
          ],
          [
           0.011999553616605914
          ],
          [
           0.008619741407751175
          ],
          [
           0.008619741407751175
          ],
          [
           0.008619741407751175
          ],
          [
           0.008619741407751175
          ],
          [
           0.008619741407751175
          ],
          [
           0.008619741407751175
          ],
          [
           0.008619741407751175
          ],
          [
           0.008619741407751175
          ],
          [
           0.008619741407751175
          ],
          [
           0.008619741407751175
          ],
          [
           0.008619741407751175
          ],
          [
           0.008619741407751175
          ],
          [
           0.008619741407751175
          ],
          [
           0.008619741407751175
          ],
          [
           0.008619741407751175
          ],
          [
           0.008619741407751175
          ],
          [
           0.008619741407751175
          ],
          [
           0.008619741407751175
          ],
          [
           0.008619741407751175
          ],
          [
           0.008619741407751175
          ],
          [
           0.008619741407751175
          ],
          [
           0.008619741407751175
          ],
          [
           0.008619741407751175
          ],
          [
           0.008619741407751175
          ],
          [
           0.008619741407751175
          ],
          [
           0.008619741407751175
          ],
          [
           0.008619741407751175
          ],
          [
           0.008619741407751175
          ],
          [
           0.008619741407751175
          ],
          [
           0.008619741407751175
          ],
          [
           0.008619741407751175
          ],
          [
           0.008619741407751175
          ],
          [
           0.008619741407751175
          ],
          [
           0.008619741407751175
          ],
          [
           0.008619741407751175
          ],
          [
           0.008619741407751175
          ],
          [
           0.008619741407751175
          ],
          [
           0.008619741407751175
          ],
          [
           0.008619741407751175
          ],
          [
           0.008619741407751175
          ],
          [
           0.008619741407751175
          ],
          [
           0.008619741407751175
          ],
          [
           0.008619741407751175
          ],
          [
           0.008619741407751175
          ],
          [
           0.008619741407751175
          ],
          [
           0.008619741407751175
          ],
          [
           0.007024697235533664
          ],
          [
           0.007024697235533664
          ],
          [
           0.007024697235533664
          ],
          [
           0.007024697235533664
          ],
          [
           0.007024697235533664
          ],
          [
           0.007024697235533664
          ],
          [
           0.007024697235533664
          ],
          [
           0.007024697235533664
          ],
          [
           0.007024697235533664
          ],
          [
           0.007024697235533664
          ],
          [
           0.007024697235533664
          ],
          [
           0.007024697235533664
          ],
          [
           0.007024697235533664
          ],
          [
           0.007024697235533664
          ],
          [
           0.007024697235533664
          ],
          [
           0.007024697235533664
          ],
          [
           0.007024697235533664
          ],
          [
           0.007024697235533664
          ],
          [
           0.007024697235533664
          ],
          [
           0.007024697235533664
          ],
          [
           0.007024697235533664
          ],
          [
           0.007024697235533664
          ],
          [
           0.007024697235533664
          ],
          [
           0.007024697235533664
          ],
          [
           0.007024697235533664
          ],
          [
           0.007024697235533664
          ],
          [
           0.007024697235533664
          ],
          [
           0.007024697235533664
          ],
          [
           0.007024697235533664
          ],
          [
           0.007024697235533664
          ],
          [
           0.007024697235533664
          ],
          [
           0.007024697235533664
          ],
          [
           0.007024697235533664
          ],
          [
           0.007024697235533664
          ],
          [
           0.007024697235533664
          ],
          [
           0.007024697235533664
          ],
          [
           0.007024697235533664
          ],
          [
           0.007024697235533664
          ],
          [
           0.007024697235533664
          ],
          [
           0.007024697235533664
          ],
          [
           0.007024697235533664
          ],
          [
           0.007024697235533664
          ],
          [
           0.007024697235533664
          ],
          [
           0.007024697235533664
          ],
          [
           0.007024697235533664
          ],
          [
           0.007024697235533664
          ],
          [
           0.005359749967660043
          ],
          [
           0.005359749967660043
          ],
          [
           0.005359749967660043
          ],
          [
           0.005359749967660043
          ],
          [
           0.005359749967660043
          ],
          [
           0.005359749967660043
          ],
          [
           0.005359749967660043
          ],
          [
           0.005359749967660043
          ],
          [
           0.005359749967660043
          ],
          [
           0.005359749967660043
          ],
          [
           0.005359749967660043
          ],
          [
           0.005359749967660043
          ],
          [
           0.005359749967660043
          ],
          [
           0.005359749967660043
          ],
          [
           0.005359749967660043
          ],
          [
           0.005359749967660043
          ],
          [
           0.005359749967660043
          ],
          [
           0.005359749967660043
          ],
          [
           0.005359749967660043
          ],
          [
           0.005359749967660043
          ],
          [
           0.005359749967660043
          ],
          [
           0.005359749967660043
          ],
          [
           0.005359749967660043
          ],
          [
           0.005359749967660043
          ],
          [
           0.005359749967660043
          ],
          [
           0.005359749967660043
          ],
          [
           0.005359749967660043
          ],
          [
           0.005359749967660043
          ],
          [
           0.005359749967660043
          ],
          [
           0.005359749967660043
          ],
          [
           0.005359749967660043
          ],
          [
           0.005359749967660043
          ],
          [
           0.005359749967660043
          ],
          [
           0.005359749967660043
          ],
          [
           0.005359749967660043
          ],
          [
           0.005359749967660043
          ],
          [
           0.005359749967660043
          ],
          [
           0.005359749967660043
          ],
          [
           0.005359749967660043
          ],
          [
           0.005359749967660043
          ],
          [
           0.005359749967660043
          ],
          [
           0.005359749967660043
          ],
          [
           0.005359749967660043
          ],
          [
           0.005359749967660043
          ],
          [
           0.005359749967660043
          ],
          [
           0.005359749967660043
          ],
          [
           0.0065495932702764005
          ],
          [
           0.0065495932702764005
          ],
          [
           0.0065495932702764005
          ],
          [
           0.0065495932702764005
          ],
          [
           0.0065495932702764005
          ],
          [
           0.0065495932702764005
          ],
          [
           0.0065495932702764005
          ],
          [
           0.0065495932702764005
          ],
          [
           0.0065495932702764005
          ],
          [
           0.0065495932702764005
          ],
          [
           0.0065495932702764005
          ],
          [
           0.0065495932702764005
          ],
          [
           0.0065495932702764005
          ],
          [
           0.0065495932702764005
          ],
          [
           0.0065495932702764005
          ],
          [
           0.0065495932702764005
          ],
          [
           0.0065495932702764005
          ],
          [
           0.0065495932702764005
          ],
          [
           0.0065495932702764005
          ],
          [
           0.0065495932702764005
          ],
          [
           0.0065495932702764005
          ],
          [
           0.0065495932702764005
          ],
          [
           0.0065495932702764005
          ],
          [
           0.0065495932702764005
          ],
          [
           0.0065495932702764005
          ],
          [
           0.0065495932702764005
          ],
          [
           0.0065495932702764005
          ],
          [
           0.0065495932702764005
          ],
          [
           0.0065495932702764005
          ],
          [
           0.0065495932702764005
          ],
          [
           0.0065495932702764005
          ],
          [
           0.0065495932702764005
          ],
          [
           0.0065495932702764005
          ],
          [
           0.0065495932702764005
          ],
          [
           0.0065495932702764005
          ],
          [
           0.0065495932702764005
          ],
          [
           0.0065495932702764005
          ],
          [
           0.0065495932702764005
          ],
          [
           0.0065495932702764005
          ],
          [
           0.0065495932702764005
          ],
          [
           0.0065495932702764005
          ],
          [
           0.0065495932702764005
          ],
          [
           0.0065495932702764005
          ],
          [
           0.0065495932702764005
          ],
          [
           0.0065495932702764005
          ],
          [
           0.0065495932702764005
          ],
          [
           0.0065495932702764005
          ],
          [
           0.0065495932702764005
          ],
          [
           0.0065495932702764005
          ],
          [
           0.0065495932702764005
          ],
          [
           0.0065495932702764005
          ],
          [
           0.0065495932702764005
          ],
          [
           0.0065495932702764005
          ],
          [
           0.0065495932702764005
          ],
          [
           0.0065495932702764005
          ],
          [
           0.0065495932702764005
          ],
          [
           0.0065495932702764005
          ],
          [
           0.0065495932702764005
          ],
          [
           0.0065495932702764005
          ],
          [
           0.0065495932702764005
          ],
          [
           0.0065495932702764005
          ],
          [
           0.0065495932702764005
          ],
          [
           0.0065495932702764005
          ],
          [
           0.0065495932702764005
          ],
          [
           0.0065495932702764005
          ],
          [
           0.0065495932702764005
          ],
          [
           0.0065495932702764005
          ],
          [
           0.0065495932702764005
          ],
          [
           0.0065495932702764005
          ],
          [
           0.0065495932702764005
          ],
          [
           0.0065495932702764005
          ],
          [
           0.0065495932702764005
          ],
          [
           0.0065495932702764005
          ],
          [
           0.0065495932702764005
          ],
          [
           0.0065495932702764005
          ],
          [
           0.0065495932702764005
          ],
          [
           0.0065495932702764005
          ],
          [
           0.0065495932702764005
          ],
          [
           0.0065495932702764005
          ],
          [
           0.0065495932702764005
          ],
          [
           0.0065495932702764005
          ],
          [
           0.0065495932702764005
          ],
          [
           0.0065495932702764005
          ],
          [
           0.0065495932702764005
          ],
          [
           0.0065495932702764005
          ],
          [
           0.0065495932702764005
          ],
          [
           0.0065495932702764005
          ],
          [
           0.0065495932702764005
          ],
          [
           0.0065495932702764005
          ],
          [
           0.0065495932702764005
          ],
          [
           0.0065495932702764005
          ],
          [
           0.0065495932702764005
          ],
          [
           0.007159555391623335
          ],
          [
           0.007159555391623335
          ],
          [
           0.007159555391623335
          ],
          [
           0.007159555391623335
          ],
          [
           0.007159555391623335
          ],
          [
           0.007159555391623335
          ],
          [
           0.007159555391623335
          ],
          [
           0.007159555391623335
          ],
          [
           0.007159555391623335
          ],
          [
           0.007159555391623335
          ],
          [
           0.007159555391623335
          ],
          [
           0.007159555391623335
          ],
          [
           0.007159555391623335
          ],
          [
           0.007159555391623335
          ],
          [
           0.007159555391623335
          ],
          [
           0.007159555391623335
          ],
          [
           0.007159555391623335
          ],
          [
           0.007159555391623335
          ],
          [
           0.007159555391623335
          ],
          [
           0.007159555391623335
          ],
          [
           0.007159555391623335
          ],
          [
           0.007159555391623335
          ],
          [
           0.007159555391623335
          ],
          [
           0.007159555391623335
          ],
          [
           0.007159555391623335
          ],
          [
           0.007159555391623335
          ],
          [
           0.007159555391623335
          ],
          [
           0.007159555391623335
          ],
          [
           0.007159555391623335
          ],
          [
           0.007159555391623335
          ],
          [
           0.007159555391623335
          ],
          [
           0.007159555391623335
          ],
          [
           0.007159555391623335
          ],
          [
           0.007159555391623335
          ],
          [
           0.007159555391623335
          ],
          [
           0.007159555391623335
          ],
          [
           0.007159555391623335
          ],
          [
           0.007159555391623335
          ],
          [
           0.007159555391623335
          ],
          [
           0.007159555391623335
          ],
          [
           0.007159555391623335
          ],
          [
           0.007159555391623335
          ],
          [
           0.007159555391623335
          ],
          [
           0.007159555391623335
          ],
          [
           0.007159555391623335
          ],
          [
           0.007159555391623335
          ],
          [
           0.00623454207288851
          ],
          [
           0.00623454207288851
          ],
          [
           0.00623454207288851
          ],
          [
           0.00623454207288851
          ],
          [
           0.00623454207288851
          ],
          [
           0.00623454207288851
          ],
          [
           0.00623454207288851
          ],
          [
           0.00623454207288851
          ],
          [
           0.00623454207288851
          ],
          [
           0.00623454207288851
          ],
          [
           0.00623454207288851
          ],
          [
           0.00623454207288851
          ],
          [
           0.00623454207288851
          ],
          [
           0.00623454207288851
          ],
          [
           0.00623454207288851
          ],
          [
           0.00623454207288851
          ],
          [
           0.00623454207288851
          ],
          [
           0.00623454207288851
          ],
          [
           0.00623454207288851
          ],
          [
           0.00623454207288851
          ],
          [
           0.00623454207288851
          ],
          [
           0.00623454207288851
          ],
          [
           0.00623454207288851
          ],
          [
           0.00623454207288851
          ],
          [
           0.00623454207288851
          ],
          [
           0.00623454207288851
          ],
          [
           0.00623454207288851
          ],
          [
           0.00623454207288851
          ],
          [
           0.00623454207288851
          ],
          [
           0.00623454207288851
          ],
          [
           0.00623454207288851
          ],
          [
           0.00623454207288851
          ],
          [
           0.00623454207288851
          ],
          [
           0.00623454207288851
          ],
          [
           0.00623454207288851
          ],
          [
           0.00623454207288851
          ],
          [
           0.00623454207288851
          ],
          [
           0.00623454207288851
          ],
          [
           0.00623454207288851
          ],
          [
           0.00623454207288851
          ],
          [
           0.00623454207288851
          ],
          [
           0.00623454207288851
          ],
          [
           0.00623454207288851
          ],
          [
           0.00623454207288851
          ],
          [
           0.00623454207288851
          ],
          [
           0.00623454207288851
          ],
          [
           0.0062696601844044585
          ],
          [
           0.0062696601844044585
          ],
          [
           0.0062696601844044585
          ],
          [
           0.0062696601844044585
          ],
          [
           0.0062696601844044585
          ],
          [
           0.0062696601844044585
          ],
          [
           0.0062696601844044585
          ],
          [
           0.0062696601844044585
          ],
          [
           0.0062696601844044585
          ],
          [
           0.0062696601844044585
          ],
          [
           0.0062696601844044585
          ],
          [
           0.0062696601844044585
          ],
          [
           0.0062696601844044585
          ],
          [
           0.0062696601844044585
          ],
          [
           0.0062696601844044585
          ],
          [
           0.0062696601844044585
          ],
          [
           0.0062696601844044585
          ],
          [
           0.0062696601844044585
          ],
          [
           0.0062696601844044585
          ],
          [
           0.0062696601844044585
          ],
          [
           0.0062696601844044585
          ],
          [
           0.0062696601844044585
          ],
          [
           0.0062696601844044585
          ],
          [
           0.0062696601844044585
          ],
          [
           0.0062696601844044585
          ],
          [
           0.0062696601844044585
          ],
          [
           0.0062696601844044585
          ],
          [
           0.0062696601844044585
          ],
          [
           0.0062696601844044585
          ],
          [
           0.0062696601844044585
          ],
          [
           0.0062696601844044585
          ],
          [
           0.0062696601844044585
          ],
          [
           0.0062696601844044585
          ],
          [
           0.0062696601844044585
          ],
          [
           0.0062696601844044585
          ],
          [
           0.0062696601844044585
          ],
          [
           0.0062696601844044585
          ],
          [
           0.0062696601844044585
          ],
          [
           0.0062696601844044585
          ],
          [
           0.0062696601844044585
          ],
          [
           0.0062696601844044585
          ],
          [
           0.0062696601844044585
          ],
          [
           0.0062696601844044585
          ],
          [
           0.0062696601844044585
          ],
          [
           0.0062696601844044585
          ],
          [
           0.0062696601844044585
          ],
          [
           0.0062696601844044585
          ],
          [
           0.0062696601844044585
          ],
          [
           0.0062696601844044585
          ],
          [
           0.0062696601844044585
          ],
          [
           0.0062696601844044585
          ],
          [
           0.0062696601844044585
          ],
          [
           0.0062696601844044585
          ],
          [
           0.0062696601844044585
          ],
          [
           0.0062696601844044585
          ],
          [
           0.0062696601844044585
          ],
          [
           0.0062696601844044585
          ],
          [
           0.0062696601844044585
          ],
          [
           0.0062696601844044585
          ],
          [
           0.0062696601844044585
          ],
          [
           0.0062696601844044585
          ],
          [
           0.0062696601844044585
          ],
          [
           0.0062696601844044585
          ],
          [
           0.0062696601844044585
          ],
          [
           0.0062696601844044585
          ],
          [
           0.0062696601844044585
          ],
          [
           0.0062696601844044585
          ],
          [
           0.0062696601844044585
          ],
          [
           0.0062696601844044585
          ],
          [
           0.0062696601844044585
          ],
          [
           0.0062696601844044585
          ],
          [
           0.0062696601844044585
          ],
          [
           0.0062696601844044585
          ],
          [
           0.0062696601844044585
          ],
          [
           0.0062696601844044585
          ],
          [
           0.0062696601844044585
          ],
          [
           0.0062696601844044585
          ],
          [
           0.0062696601844044585
          ],
          [
           0.0062696601844044585
          ],
          [
           0.0062696601844044585
          ],
          [
           0.0062696601844044585
          ],
          [
           0.0062696601844044585
          ],
          [
           0.0062696601844044585
          ],
          [
           0.0062696601844044585
          ],
          [
           0.0062696601844044585
          ],
          [
           0.0062696601844044585
          ],
          [
           0.0062696601844044585
          ],
          [
           0.0062696601844044585
          ],
          [
           0.0062696601844044585
          ],
          [
           0.0062696601844044585
          ],
          [
           0.0062696601844044585
          ],
          [
           0.0062696601844044585
          ],
          [
           0.006269728520741506
          ],
          [
           0.006269728520741506
          ],
          [
           0.006269728520741506
          ],
          [
           0.006269728520741506
          ],
          [
           0.006269728520741506
          ],
          [
           0.006269728520741506
          ],
          [
           0.006269728520741506
          ],
          [
           0.006269728520741506
          ],
          [
           0.006269728520741506
          ],
          [
           0.006269728520741506
          ],
          [
           0.006269728520741506
          ],
          [
           0.006269728520741506
          ],
          [
           0.006269728520741506
          ],
          [
           0.006269728520741506
          ],
          [
           0.006269728520741506
          ],
          [
           0.006269728520741506
          ],
          [
           0.006269728520741506
          ],
          [
           0.006269728520741506
          ],
          [
           0.006269728520741506
          ],
          [
           0.006269728520741506
          ],
          [
           0.006269728520741506
          ],
          [
           0.006269728520741506
          ],
          [
           0.006269728520741506
          ],
          [
           0.006269728520741506
          ],
          [
           0.006269728520741506
          ],
          [
           0.006269728520741506
          ],
          [
           0.006269728520741506
          ],
          [
           0.006269728520741506
          ],
          [
           0.006269728520741506
          ],
          [
           0.006269728520741506
          ],
          [
           0.006269728520741506
          ],
          [
           0.006269728520741506
          ],
          [
           0.006269728520741506
          ],
          [
           0.006269728520741506
          ],
          [
           0.006269728520741506
          ],
          [
           0.006269728520741506
          ],
          [
           0.006269728520741506
          ],
          [
           0.006269728520741506
          ],
          [
           0.006269728520741506
          ],
          [
           0.006269728520741506
          ],
          [
           0.006269728520741506
          ],
          [
           0.006269728520741506
          ],
          [
           0.006269728520741506
          ],
          [
           0.006269728520741506
          ],
          [
           0.006269728520741506
          ],
          [
           0.006269728520741506
          ],
          [
           0.003624843044281517
          ],
          [
           0.003624843044281517
          ],
          [
           0.003624843044281517
          ],
          [
           0.003624843044281517
          ],
          [
           0.003624843044281517
          ],
          [
           0.003624843044281517
          ],
          [
           0.003624843044281517
          ],
          [
           0.003624843044281517
          ],
          [
           0.003624843044281517
          ],
          [
           0.003624843044281517
          ],
          [
           0.003624843044281517
          ],
          [
           0.003624843044281517
          ],
          [
           0.003624843044281517
          ],
          [
           0.003624843044281517
          ],
          [
           0.003624843044281517
          ],
          [
           0.003624843044281517
          ],
          [
           0.003624843044281517
          ],
          [
           0.003624843044281517
          ],
          [
           0.003624843044281517
          ],
          [
           0.003624843044281517
          ],
          [
           0.003624843044281517
          ],
          [
           0.003624843044281517
          ],
          [
           0.003624843044281517
          ],
          [
           0.003624843044281517
          ],
          [
           0.003624843044281517
          ],
          [
           0.003624843044281517
          ],
          [
           0.003624843044281517
          ],
          [
           0.003624843044281517
          ],
          [
           0.003624843044281517
          ],
          [
           0.003624843044281517
          ],
          [
           0.003624843044281517
          ],
          [
           0.003624843044281517
          ],
          [
           0.003624843044281517
          ],
          [
           0.003624843044281517
          ],
          [
           0.003624843044281517
          ],
          [
           0.003624843044281517
          ],
          [
           0.003624843044281517
          ],
          [
           0.003624843044281517
          ],
          [
           0.003624843044281517
          ],
          [
           0.003624843044281517
          ],
          [
           0.003624843044281517
          ],
          [
           0.003624843044281517
          ],
          [
           0.003624843044281517
          ],
          [
           0.003624843044281517
          ],
          [
           0.003624843044281517
          ],
          [
           0.003624843044281517
          ],
          [
           0.003624843044281517
          ],
          [
           0.003624843044281517
          ],
          [
           0.003624843044281517
          ],
          [
           0.003624843044281517
          ],
          [
           0.003624843044281517
          ],
          [
           0.003624843044281517
          ],
          [
           0.003624843044281517
          ],
          [
           0.003624843044281517
          ],
          [
           0.003624843044281517
          ],
          [
           0.003624843044281517
          ],
          [
           0.003624843044281517
          ],
          [
           0.003624843044281517
          ],
          [
           0.003624843044281517
          ],
          [
           0.003624843044281517
          ],
          [
           0.003624843044281517
          ],
          [
           0.003624843044281517
          ],
          [
           0.003624843044281517
          ],
          [
           0.003624843044281517
          ],
          [
           0.003624843044281517
          ],
          [
           0.003624843044281517
          ],
          [
           0.003624843044281517
          ],
          [
           0.003624843044281517
          ],
          [
           0.003624843044281517
          ],
          [
           0.003624843044281517
          ],
          [
           0.003624843044281517
          ],
          [
           0.003624843044281517
          ],
          [
           0.003624843044281517
          ],
          [
           0.003624843044281517
          ],
          [
           0.003624843044281517
          ],
          [
           0.003624843044281517
          ],
          [
           0.003624843044281517
          ],
          [
           0.003624843044281517
          ],
          [
           0.003624843044281517
          ],
          [
           0.003624843044281517
          ],
          [
           0.003624843044281517
          ],
          [
           0.003624843044281517
          ],
          [
           0.003624843044281517
          ],
          [
           0.003624843044281517
          ],
          [
           0.003624843044281517
          ],
          [
           0.003624843044281517
          ],
          [
           0.003624843044281517
          ],
          [
           0.003624843044281517
          ],
          [
           0.003624843044281517
          ],
          [
           0.003624843044281517
          ],
          [
           0.003624843044281517
          ],
          [
           0.003624843044281517
          ],
          [
           0.003624843044281517
          ],
          [
           0.003624843044281517
          ],
          [
           0.003624843044281517
          ],
          [
           0.003624843044281517
          ],
          [
           0.003624843044281517
          ],
          [
           0.003624843044281517
          ],
          [
           0.003624843044281517
          ],
          [
           0.003624843044281517
          ],
          [
           0.003624843044281517
          ],
          [
           0.003624843044281517
          ],
          [
           0.003624843044281517
          ],
          [
           0.003624843044281517
          ],
          [
           0.003624843044281517
          ],
          [
           0.003624843044281517
          ],
          [
           0.003624843044281517
          ],
          [
           0.003624843044281517
          ],
          [
           0.003624843044281517
          ],
          [
           0.003624843044281517
          ],
          [
           0.003624843044281517
          ],
          [
           0.003624843044281517
          ],
          [
           0.003624843044281517
          ],
          [
           0.003624843044281517
          ],
          [
           0.003624843044281517
          ],
          [
           0.003624843044281517
          ],
          [
           0.003624843044281517
          ],
          [
           0.003624843044281517
          ],
          [
           0.003624843044281517
          ],
          [
           0.003624843044281517
          ],
          [
           0.003624843044281517
          ],
          [
           0.003624843044281517
          ],
          [
           0.003624843044281517
          ],
          [
           0.003624843044281517
          ],
          [
           0.003624843044281517
          ],
          [
           0.003624843044281517
          ],
          [
           0.003624843044281517
          ],
          [
           0.003624843044281517
          ],
          [
           0.003624843044281517
          ],
          [
           0.003624843044281517
          ],
          [
           0.003624843044281517
          ],
          [
           0.003624843044281517
          ],
          [
           0.003624843044281517
          ],
          [
           0.003624843044281517
          ],
          [
           0.003624843044281517
          ],
          [
           0.003624843044281517
          ],
          [
           0.003624843044281517
          ],
          [
           0.003624843044281517
          ],
          [
           0.003624843044281517
          ],
          [
           0.003624843044281517
          ],
          [
           0.003624843044281517
          ],
          [
           0.003624843044281517
          ],
          [
           0.003624843044281517
          ],
          [
           0.003624843044281517
          ],
          [
           0.003624843044281517
          ],
          [
           0.003624843044281517
          ],
          [
           0.003624843044281517
          ],
          [
           0.003624843044281517
          ],
          [
           0.003624843044281517
          ],
          [
           0.003624843044281517
          ],
          [
           0.003624843044281517
          ],
          [
           0.003624843044281517
          ],
          [
           0.003624843044281517
          ],
          [
           0.003624843044281517
          ],
          [
           0.003624843044281517
          ],
          [
           0.003624843044281517
          ],
          [
           0.003624843044281517
          ],
          [
           0.003624843044281517
          ],
          [
           0.003624843044281517
          ],
          [
           0.003624843044281517
          ],
          [
           0.003624843044281517
          ],
          [
           0.003624843044281517
          ],
          [
           0.003624843044281517
          ],
          [
           0.003624843044281517
          ],
          [
           0.003624843044281517
          ],
          [
           0.003624843044281517
          ],
          [
           0.003624843044281517
          ],
          [
           0.003624843044281517
          ],
          [
           0.003624843044281517
          ],
          [
           0.003624843044281517
          ],
          [
           0.003624843044281517
          ],
          [
           0.003624843044281517
          ],
          [
           0.003624843044281517
          ],
          [
           0.003624843044281517
          ],
          [
           0.003624843044281517
          ],
          [
           0.003624843044281517
          ],
          [
           0.003624843044281517
          ],
          [
           0.003624843044281517
          ],
          [
           0.003624843044281517
          ],
          [
           0.003624843044281517
          ],
          [
           0.003624843044281517
          ],
          [
           0.003624843044281517
          ],
          [
           0.003624843044281517
          ],
          [
           0.003624843044281517
          ],
          [
           0.003624843044281517
          ],
          [
           0.003624843044281517
          ],
          [
           0.003624843044281517
          ],
          [
           0.003624843044281517
          ],
          [
           0.003624843044281517
          ],
          [
           0.003624843044281517
          ],
          [
           0.003624843044281517
          ],
          [
           0.003624843044281517
          ],
          [
           0.003624843044281517
          ],
          [
           0.003624843044281517
          ],
          [
           0.003624843044281517
          ],
          [
           0.003624843044281517
          ],
          [
           0.003624843044281517
          ],
          [
           0.003624843044281517
          ],
          [
           0.003624843044281517
          ],
          [
           0.003624843044281517
          ],
          [
           0.003624843044281517
          ],
          [
           0.003624843044281517
          ],
          [
           0.003624843044281517
          ],
          [
           0.003624843044281517
          ],
          [
           0.003624843044281517
          ],
          [
           0.003624843044281517
          ],
          [
           0.003624843044281517
          ],
          [
           0.003624843044281517
          ],
          [
           0.003624843044281517
          ],
          [
           0.003624843044281517
          ],
          [
           0.003624843044281517
          ],
          [
           0.003624843044281517
          ],
          [
           0.003624843044281517
          ],
          [
           0.003624843044281517
          ],
          [
           0.003624843044281517
          ],
          [
           0.003624843044281517
          ],
          [
           0.003624843044281517
          ],
          [
           0.003624843044281517
          ],
          [
           0.003624843044281517
          ],
          [
           0.003624843044281517
          ],
          [
           0.003624843044281517
          ],
          [
           0.003624843044281517
          ],
          [
           0.003624843044281517
          ],
          [
           0.003624843044281517
          ],
          [
           0.003624843044281517
          ],
          [
           0.003624843044281517
          ],
          [
           0.003624843044281517
          ],
          [
           0.003624843044281517
          ],
          [
           0.003624843044281517
          ],
          [
           0.003624843044281517
          ],
          [
           0.003624843044281517
          ],
          [
           0.003624843044281517
          ],
          [
           0.003624843044281517
          ],
          [
           0.003624843044281517
          ],
          [
           0.003624843044281517
          ],
          [
           0.003624843044281517
          ],
          [
           0.003624843044281517
          ],
          [
           0.003624843044281517
          ],
          [
           0.003624843044281517
          ],
          [
           0.003624843044281517
          ],
          [
           0.003624843044281517
          ],
          [
           0.003624843044281517
          ],
          [
           0.003624843044281517
          ],
          [
           0.003624843044281517
          ],
          [
           0.003624843044281517
          ],
          [
           0.003624843044281517
          ],
          [
           0.003624843044281517
          ],
          [
           0.003624843044281517
          ],
          [
           0.003624843044281517
          ],
          [
           0.003624843044281517
          ],
          [
           0.003624843044281517
          ],
          [
           0.003624843044281517
          ],
          [
           0.003624843044281517
          ],
          [
           0.003624843044281517
          ],
          [
           0.003624843044281517
          ],
          [
           0.003624843044281517
          ],
          [
           0.003624843044281517
          ],
          [
           0.003624843044281517
          ],
          [
           0.003624843044281517
          ],
          [
           0.003624843044281517
          ],
          [
           0.003624843044281517
          ],
          [
           0.003624843044281517
          ],
          [
           0.003624843044281517
          ],
          [
           0.003624843044281517
          ],
          [
           0.003624843044281517
          ],
          [
           0.003624843044281517
          ],
          [
           0.003624843044281517
          ],
          [
           0.003624843044281517
          ],
          [
           0.003624843044281517
          ],
          [
           0.003624843044281517
          ],
          [
           0.003624843044281517
          ],
          [
           0.003624843044281517
          ],
          [
           0.003624843044281517
          ],
          [
           0.003624843044281517
          ],
          [
           0.003624843044281517
          ],
          [
           0.003624843044281517
          ],
          [
           0.003624843044281517
          ],
          [
           0.003624843044281517
          ],
          [
           0.003624843044281517
          ],
          [
           0.003624843044281517
          ],
          [
           0.003624843044281517
          ],
          [
           0.003624843044281517
          ],
          [
           0.003624843044281517
          ],
          [
           0.003624843044281517
          ],
          [
           0.003624843044281517
          ],
          [
           0.003624843044281517
          ],
          [
           0.003624843044281517
          ],
          [
           0.003624843044281517
          ],
          [
           0.003624843044281517
          ],
          [
           0.003624843044281517
          ],
          [
           0.003624843044281517
          ],
          [
           0.003624843044281517
          ],
          [
           0.003624843044281517
          ],
          [
           0.003624843044281517
          ],
          [
           0.003624843044281517
          ],
          [
           0.003624843044281517
          ],
          [
           0.003624843044281517
          ],
          [
           0.003624843044281517
          ],
          [
           0.003624843044281517
          ],
          [
           0.003624843044281517
          ],
          [
           0.003624843044281517
          ],
          [
           0.003624843044281517
          ],
          [
           0.003624843044281517
          ],
          [
           0.003624843044281517
          ],
          [
           0.003624843044281517
          ],
          [
           0.003624843044281517
          ],
          [
           0.003624843044281517
          ],
          [
           0.003624843044281517
          ],
          [
           0.003624843044281517
          ],
          [
           0.003624843044281517
          ],
          [
           0.003624843044281517
          ],
          [
           0.003624843044281517
          ],
          [
           0.003624843044281517
          ],
          [
           0.003624843044281517
          ],
          [
           0.003624843044281517
          ],
          [
           0.003624843044281517
          ],
          [
           0.003624843044281517
          ],
          [
           0.003624843044281517
          ],
          [
           0.003624843044281517
          ],
          [
           0.003624843044281517
          ],
          [
           0.003624843044281517
          ],
          [
           0.003624843044281517
          ],
          [
           0.003624843044281517
          ],
          [
           0.003624843044281517
          ],
          [
           0.003624843044281517
          ],
          [
           0.003624843044281517
          ],
          [
           0.003624843044281517
          ],
          [
           0.003624843044281517
          ],
          [
           0.003624843044281517
          ],
          [
           0.003624843044281517
          ],
          [
           0.003624843044281517
          ],
          [
           0.003624843044281517
          ],
          [
           0.003624843044281517
          ],
          [
           0.003624843044281517
          ],
          [
           0.003624843044281517
          ],
          [
           0.003624843044281517
          ],
          [
           0.003624843044281517
          ],
          [
           0.003624843044281517
          ],
          [
           0.003624843044281517
          ],
          [
           0.003624843044281517
          ],
          [
           0.003624843044281517
          ],
          [
           0.003624843044281517
          ],
          [
           0.003624843044281517
          ],
          [
           0.003624843044281517
          ],
          [
           0.003624843044281517
          ],
          [
           0.003624843044281517
          ],
          [
           0.003624843044281517
          ],
          [
           0.003624843044281517
          ],
          [
           0.003624843044281517
          ],
          [
           0.003624843044281517
          ],
          [
           0.003624843044281517
          ],
          [
           0.003624843044281517
          ],
          [
           0.003624843044281517
          ],
          [
           0.003624843044281517
          ],
          [
           0.003624843044281517
          ],
          [
           0.003624843044281517
          ],
          [
           0.003624843044281517
          ],
          [
           0.003624843044281517
          ],
          [
           0.003624843044281517
          ],
          [
           0.003624843044281517
          ],
          [
           0.003624843044281517
          ],
          [
           0.003624843044281517
          ],
          [
           0.003624843044281517
          ],
          [
           0.003624843044281517
          ],
          [
           0.003624843044281517
          ],
          [
           0.003624843044281517
          ],
          [
           0.003624843044281517
          ],
          [
           0.003624843044281517
          ],
          [
           0.0017249999999933152
          ],
          [
           0.0017249999999933152
          ],
          [
           0.0017249999999933152
          ],
          [
           0.0017249999999933152
          ],
          [
           0.0017249999999933152
          ],
          [
           0.0017249999999933152
          ],
          [
           0.0017249999999933152
          ],
          [
           0.0017249999999933152
          ],
          [
           0.0017249999999933152
          ],
          [
           0.0017249999999933152
          ],
          [
           0.0017249999999933152
          ],
          [
           0.0017249999999933152
          ],
          [
           0.0017249999999933152
          ],
          [
           0.0017249999999933152
          ],
          [
           0.0017249999999933152
          ],
          [
           0.0017249999999933152
          ],
          [
           0.0017249999999933152
          ],
          [
           0.0017249999999933152
          ],
          [
           0.0017249999999933152
          ],
          [
           0.0017249999999933152
          ],
          [
           0.0017249999999933152
          ],
          [
           0.0017249999999933152
          ],
          [
           0.0017249999999933152
          ],
          [
           0.0017249999999933152
          ],
          [
           0.0017249999999933152
          ],
          [
           0.0017249999999933152
          ],
          [
           0.0017249999999933152
          ],
          [
           0.0017249999999933152
          ],
          [
           0.0017249999999933152
          ],
          [
           0.0017249999999933152
          ],
          [
           0.0017249999999933152
          ],
          [
           0.0017249999999933152
          ],
          [
           0.0017249999999933152
          ],
          [
           0.0017249999999933152
          ],
          [
           0.0017249999999933152
          ],
          [
           0.0017249999999933152
          ],
          [
           0.0017249999999933152
          ],
          [
           0.0017249999999933152
          ],
          [
           0.0017249999999933152
          ],
          [
           0.0017249999999933152
          ],
          [
           0.0017249999999933152
          ],
          [
           0.0017249999999933152
          ],
          [
           0.0017249999999933152
          ],
          [
           0.0017249999999933152
          ],
          [
           0.0017249999999933152
          ],
          [
           0.0017249999999933152
          ],
          [
           0.0017249999999933152
          ],
          [
           0.0017249999999933152
          ],
          [
           0.0017249999999933152
          ],
          [
           0.0017249999999933152
          ],
          [
           0.0017249999999933152
          ],
          [
           0.0017249999999933152
          ],
          [
           0.0017249999999933152
          ],
          [
           0.0017249999999933152
          ],
          [
           0.0017249999999933152
          ],
          [
           0.0017249999999933152
          ],
          [
           0.0017249999999933152
          ],
          [
           0.0017249999999933152
          ],
          [
           0.0017249999999933152
          ],
          [
           0.0017249999999933152
          ],
          [
           0.0017249999999933152
          ],
          [
           0.0017249999999933152
          ],
          [
           0.0017249999999933152
          ],
          [
           0.0017249999999933152
          ],
          [
           0.0017249999999933152
          ],
          [
           0.0017249999999933152
          ],
          [
           0.0017249999999933152
          ],
          [
           0.0017249999999933152
          ],
          [
           0.0017249999999933152
          ],
          [
           0.0017249999999933152
          ],
          [
           0.0017249999999933152
          ],
          [
           0.0017249999999933152
          ],
          [
           0.0017249999999933152
          ],
          [
           0.0017249999999933152
          ],
          [
           0.0017249999999933152
          ],
          [
           0.0017249999999933152
          ],
          [
           0.0017249999999933152
          ],
          [
           0.0017249999999933152
          ],
          [
           0.0017249999999933152
          ],
          [
           0.0017249999999933152
          ],
          [
           0.0017249999999933152
          ],
          [
           0.0017249999999933152
          ],
          [
           0.0017249999999933152
          ],
          [
           0.0017249999999933152
          ],
          [
           0.0017249999999933152
          ],
          [
           0.0017249999999933152
          ],
          [
           0.0017249999999933152
          ],
          [
           0.0017249999999933152
          ],
          [
           0.0017249999999933152
          ],
          [
           0.0017249999999933152
          ],
          [
           0.0017249999999933152
          ],
          [
           0.0017249999999933152
          ],
          [
           0.0017249999999933152
          ],
          [
           0.0017249999999933152
          ],
          [
           0.0017249999999933152
          ],
          [
           0.0017249999999933152
          ],
          [
           0.0017249999999933152
          ],
          [
           0.0017249999999933152
          ],
          [
           0.0017249999999933152
          ],
          [
           0.0017249999999933152
          ],
          [
           0.0017249999999933152
          ],
          [
           0.0017249999999933152
          ],
          [
           0.0017249999999933152
          ],
          [
           0.0017249999999933152
          ],
          [
           0.0017249999999933152
          ],
          [
           0.0017249999999933152
          ],
          [
           0.0017249999999933152
          ],
          [
           0.0017249999999933152
          ],
          [
           0.0017249999999933152
          ],
          [
           0.0017249999999933152
          ],
          [
           0.0017249999999933152
          ],
          [
           0.0017249999999933152
          ],
          [
           0.0017249999999933152
          ],
          [
           0.0017249999999933152
          ],
          [
           0.0017249999999933152
          ],
          [
           0.0017249999999933152
          ],
          [
           0.0017249999999933152
          ],
          [
           0.0017249999999933152
          ],
          [
           0.0017249999999933152
          ],
          [
           0.0017249999999933152
          ],
          [
           0.0017249999999933152
          ],
          [
           0.0017249999999933152
          ],
          [
           0.0017249999999933152
          ],
          [
           0.0017249999999933152
          ],
          [
           0.0017249999999933152
          ],
          [
           0.0017249999999933152
          ],
          [
           0.0017249999999933152
          ],
          [
           0.0017249999999933152
          ],
          [
           0.0017249999999933152
          ],
          [
           0.0017249999999933152
          ],
          [
           0.0017249999999933152
          ],
          [
           0.0017249999999933152
          ],
          [
           0.0017249999999933152
          ],
          [
           0.0017249999999933152
          ],
          [
           0.0017249999999933152
          ],
          [
           0.0017249999999933152
          ],
          [
           0.0017249999999933152
          ],
          [
           0.0017249999999933152
          ],
          [
           0.0020199319283099137
          ],
          [
           0.0020199319283099137
          ],
          [
           0.0020199319283099137
          ],
          [
           0.0020199319283099137
          ],
          [
           0.0020199319283099137
          ],
          [
           0.0020199319283099137
          ],
          [
           0.0020199319283099137
          ],
          [
           0.0020199319283099137
          ],
          [
           0.0020199319283099137
          ],
          [
           0.0020199319283099137
          ],
          [
           0.0020199319283099137
          ],
          [
           0.0020199319283099137
          ],
          [
           0.0020199319283099137
          ],
          [
           0.0020199319283099137
          ],
          [
           0.0020199319283099137
          ],
          [
           0.0020199319283099137
          ],
          [
           0.0020199319283099137
          ],
          [
           0.0020199319283099137
          ],
          [
           0.0020199319283099137
          ],
          [
           0.0020199319283099137
          ],
          [
           0.0020199319283099137
          ],
          [
           0.0020199319283099137
          ],
          [
           0.0020199319283099137
          ],
          [
           0.0020199319283099137
          ],
          [
           0.0020199319283099137
          ],
          [
           0.0020199319283099137
          ],
          [
           0.0020199319283099137
          ],
          [
           0.0020199319283099137
          ],
          [
           0.0020199319283099137
          ],
          [
           0.0020199319283099137
          ],
          [
           0.0020199319283099137
          ],
          [
           0.0020199319283099137
          ],
          [
           0.0020199319283099137
          ],
          [
           0.0020199319283099137
          ],
          [
           0.0020199319283099137
          ],
          [
           0.0020199319283099137
          ],
          [
           0.0020199319283099137
          ],
          [
           0.0020199319283099137
          ],
          [
           0.0020199319283099137
          ],
          [
           0.0020199319283099137
          ],
          [
           0.0020199319283099137
          ],
          [
           0.0020199319283099137
          ],
          [
           0.0020199319283099137
          ],
          [
           0.0020199319283099137
          ],
          [
           0.0020199319283099137
          ],
          [
           0.0020199319283099137
          ],
          [
           0.0020199466734237195
          ],
          [
           0.0020199466734237195
          ],
          [
           0.0020199466734237195
          ],
          [
           0.0020199466734237195
          ],
          [
           0.0020199466734237195
          ],
          [
           0.0020199466734237195
          ],
          [
           0.0020199466734237195
          ],
          [
           0.0020199466734237195
          ],
          [
           0.0020199466734237195
          ],
          [
           0.0020199466734237195
          ],
          [
           0.0020199466734237195
          ],
          [
           0.0020199466734237195
          ],
          [
           0.0020199466734237195
          ],
          [
           0.0020199466734237195
          ],
          [
           0.0020199466734237195
          ],
          [
           0.0020199466734237195
          ],
          [
           0.0020199466734237195
          ],
          [
           0.0020199466734237195
          ],
          [
           0.0020199466734237195
          ],
          [
           0.0020199466734237195
          ],
          [
           0.0020199466734237195
          ],
          [
           0.0020199466734237195
          ],
          [
           0.0020199466734237195
          ],
          [
           0.0020199466734237195
          ],
          [
           0.0020199466734237195
          ],
          [
           0.0020199466734237195
          ],
          [
           0.0020199466734237195
          ],
          [
           0.0020199466734237195
          ],
          [
           0.0020199466734237195
          ],
          [
           0.0020199466734237195
          ],
          [
           0.0020199466734237195
          ],
          [
           0.0020199466734237195
          ],
          [
           0.0020199466734237195
          ],
          [
           0.0020199466734237195
          ],
          [
           0.0020199466734237195
          ],
          [
           0.0020199466734237195
          ],
          [
           0.0020199466734237195
          ],
          [
           0.0020199466734237195
          ],
          [
           0.0020199466734237195
          ],
          [
           0.0020199466734237195
          ],
          [
           0.0020199466734237195
          ],
          [
           0.0020199466734237195
          ],
          [
           0.0020199466734237195
          ],
          [
           0.0020199466734237195
          ],
          [
           0.0020199466734237195
          ],
          [
           0.0020199466734237195
          ],
          [
           0.0020199466734237195
          ],
          [
           0.0020199466734237195
          ],
          [
           0.0020199466734237195
          ],
          [
           0.0020199466734237195
          ],
          [
           0.0020199466734237195
          ],
          [
           0.0020199466734237195
          ],
          [
           0.0020199466734237195
          ],
          [
           0.0020199466734237195
          ],
          [
           0.0020199466734237195
          ],
          [
           0.0020199466734237195
          ],
          [
           0.0020199466734237195
          ],
          [
           0.0020199466734237195
          ],
          [
           0.0020199466734237195
          ],
          [
           0.0020199466734237195
          ],
          [
           0.0020199466734237195
          ],
          [
           0.0020199466734237195
          ],
          [
           0.0020199466734237195
          ],
          [
           0.0020199466734237195
          ],
          [
           0.0020199466734237195
          ],
          [
           0.0020199466734237195
          ],
          [
           0.0020199466734237195
          ],
          [
           0.0020199466734237195
          ],
          [
           0.0020199466734237195
          ],
          [
           0.0020199466734237195
          ],
          [
           0.0020199466734237195
          ],
          [
           0.0020199466734237195
          ],
          [
           0.0020199466734237195
          ],
          [
           0.0020199466734237195
          ],
          [
           0.0020199466734237195
          ],
          [
           0.0020199466734237195
          ],
          [
           0.0020199466734237195
          ],
          [
           0.0020199466734237195
          ],
          [
           0.0020199466734237195
          ],
          [
           0.0020199466734237195
          ],
          [
           0.0020199466734237195
          ],
          [
           0.0020199466734237195
          ],
          [
           0.0020199466734237195
          ],
          [
           0.0020199466734237195
          ],
          [
           0.0020199466734237195
          ],
          [
           0.0020199466734237195
          ],
          [
           0.0020199466734237195
          ],
          [
           0.0020199466734237195
          ],
          [
           0.0020199466734237195
          ],
          [
           0.0020199466734237195
          ],
          [
           0.0020199466734237195
          ],
          [
           0.0020199466734237195
          ],
          [
           0.0020199349581102467
          ],
          [
           0.0020199349581102467
          ],
          [
           0.0020199349581102467
          ],
          [
           0.0020199349581102467
          ],
          [
           0.0020199349581102467
          ],
          [
           0.0020199349581102467
          ],
          [
           0.0020199349581102467
          ],
          [
           0.0020199349581102467
          ],
          [
           0.0020199349581102467
          ],
          [
           0.0020199349581102467
          ],
          [
           0.0020199349581102467
          ],
          [
           0.0020199349581102467
          ],
          [
           0.0020199349581102467
          ],
          [
           0.0020199349581102467
          ],
          [
           0.0020199349581102467
          ],
          [
           0.0020199349581102467
          ],
          [
           0.0020199349581102467
          ],
          [
           0.0020199349581102467
          ],
          [
           0.0020199349581102467
          ],
          [
           0.0020199349581102467
          ],
          [
           0.0020199349581102467
          ],
          [
           0.0020199349581102467
          ],
          [
           0.0020199349581102467
          ],
          [
           0.0020199349581102467
          ],
          [
           0.0020199349581102467
          ],
          [
           0.0020199349581102467
          ],
          [
           0.0020199349581102467
          ],
          [
           0.0020199349581102467
          ],
          [
           0.0020199349581102467
          ],
          [
           0.0020199349581102467
          ],
          [
           0.0020199349581102467
          ],
          [
           0.0020199349581102467
          ],
          [
           0.0020199349581102467
          ],
          [
           0.0020199349581102467
          ],
          [
           0.0020199349581102467
          ],
          [
           0.0020199349581102467
          ],
          [
           0.0020199349581102467
          ],
          [
           0.0020199349581102467
          ],
          [
           0.0020199349581102467
          ],
          [
           0.0020199349581102467
          ],
          [
           0.0020199349581102467
          ],
          [
           0.0020199349581102467
          ],
          [
           0.0020199349581102467
          ],
          [
           0.0020199349581102467
          ],
          [
           0.0020199349581102467
          ],
          [
           0.0020199349581102467
          ],
          [
           0.0020199349581102467
          ],
          [
           0.0020199349581102467
          ],
          [
           0.0020199349581102467
          ],
          [
           0.0020199349581102467
          ],
          [
           0.0020199349581102467
          ],
          [
           0.0020199349581102467
          ],
          [
           0.0020199349581102467
          ],
          [
           0.0020199349581102467
          ],
          [
           0.0020199349581102467
          ],
          [
           0.0020199349581102467
          ],
          [
           0.0020199349581102467
          ],
          [
           0.0020199349581102467
          ],
          [
           0.0020199349581102467
          ],
          [
           0.0020199349581102467
          ],
          [
           0.0020199349581102467
          ],
          [
           0.0020199349581102467
          ],
          [
           0.0020199349581102467
          ],
          [
           0.0020199349581102467
          ],
          [
           0.0020199349581102467
          ],
          [
           0.0020199349581102467
          ],
          [
           0.0020199349581102467
          ],
          [
           0.0020199349581102467
          ],
          [
           0.0020199349581102467
          ],
          [
           0.0020199349581102467
          ],
          [
           0.0020199349581102467
          ],
          [
           0.0020199349581102467
          ],
          [
           0.0020199349581102467
          ],
          [
           0.0020199349581102467
          ],
          [
           0.0020199349581102467
          ],
          [
           0.0020199349581102467
          ],
          [
           0.0020199349581102467
          ],
          [
           0.0020199349581102467
          ],
          [
           0.0020199349581102467
          ],
          [
           0.0020199349581102467
          ],
          [
           0.0020199349581102467
          ],
          [
           0.0020199349581102467
          ],
          [
           0.0020199349581102467
          ],
          [
           0.0020199349581102467
          ],
          [
           0.0020199349581102467
          ],
          [
           0.0020199349581102467
          ],
          [
           0.0020199349581102467
          ],
          [
           0.0020199349581102467
          ],
          [
           0.0020199349581102467
          ],
          [
           0.0020199349581102467
          ],
          [
           0.0020199349581102467
          ],
          [
           0.0020199349581102467
          ],
          [
           0.0010899786909215126
          ],
          [
           0.0010899786909215126
          ],
          [
           0.0010899786909215126
          ],
          [
           0.0010899786909215126
          ],
          [
           0.0010899786909215126
          ],
          [
           0.0010899786909215126
          ],
          [
           0.0010899786909215126
          ],
          [
           0.0010899786909215126
          ],
          [
           0.0010899786909215126
          ],
          [
           0.0010899786909215126
          ],
          [
           0.0010899786909215126
          ],
          [
           0.0010899786909215126
          ],
          [
           0.0010899786909215126
          ],
          [
           0.0010899786909215126
          ],
          [
           0.0010899786909215126
          ],
          [
           0.0010899786909215126
          ],
          [
           0.0010899786909215126
          ],
          [
           0.0010899786909215126
          ],
          [
           0.0010899786909215126
          ],
          [
           0.0010899786909215126
          ],
          [
           0.0010899786909215126
          ],
          [
           0.0010899786909215126
          ],
          [
           0.0010899786909215126
          ],
          [
           0.0010899786909215126
          ],
          [
           0.0010899786909215126
          ],
          [
           0.0010899786909215126
          ],
          [
           0.0010899786909215126
          ],
          [
           0.0010899786909215126
          ],
          [
           0.0010899786909215126
          ],
          [
           0.0010899786909215126
          ],
          [
           0.0010899786909215126
          ],
          [
           0.0010899786909215126
          ],
          [
           0.0010899786909215126
          ],
          [
           0.0010899786909215126
          ],
          [
           0.0010899786909215126
          ],
          [
           0.0010899786909215126
          ],
          [
           0.0010899786909215126
          ],
          [
           0.0010899786909215126
          ],
          [
           0.0010899786909215126
          ],
          [
           0.0010899786909215126
          ],
          [
           0.0010899786909215126
          ],
          [
           0.0010899786909215126
          ],
          [
           0.0010899786909215126
          ],
          [
           0.0010899786909215126
          ],
          [
           0.0010899786909215126
          ],
          [
           0.0010899786909215126
          ],
          [
           0.0012499941250406863
          ],
          [
           0.0012499941250406863
          ],
          [
           0.0012499941250406863
          ],
          [
           0.0012499941250406863
          ],
          [
           0.0012499941250406863
          ],
          [
           0.0012499941250406863
          ],
          [
           0.0012499941250406863
          ],
          [
           0.0012499941250406863
          ],
          [
           0.0012499941250406863
          ],
          [
           0.0012499941250406863
          ],
          [
           0.0012499941250406863
          ],
          [
           0.0012499941250406863
          ],
          [
           0.0012499941250406863
          ],
          [
           0.0012499941250406863
          ],
          [
           0.0012499941250406863
          ],
          [
           0.0012499941250406863
          ],
          [
           0.0012499941250406863
          ],
          [
           0.0012499941250406863
          ],
          [
           0.0012499941250406863
          ],
          [
           0.0012499941250406863
          ],
          [
           0.0012499941250406863
          ],
          [
           0.0012499941250406863
          ],
          [
           0.0012499941250406863
          ],
          [
           0.0012499941250406863
          ],
          [
           0.0012499941250406863
          ],
          [
           0.0012499941250406863
          ],
          [
           0.0012499941250406863
          ],
          [
           0.0012499941250406863
          ],
          [
           0.0012499941250406863
          ],
          [
           0.0012499941250406863
          ],
          [
           0.0012499941250406863
          ],
          [
           0.0012499941250406863
          ],
          [
           0.0012499941250406863
          ],
          [
           0.0012499941250406863
          ],
          [
           0.0012499941250406863
          ],
          [
           0.0012499941250406863
          ],
          [
           0.0012499941250406863
          ],
          [
           0.0012499941250406863
          ],
          [
           0.0012499941250406863
          ],
          [
           0.0012499941250406863
          ],
          [
           0.0012499941250406863
          ],
          [
           0.0012499941250406863
          ],
          [
           0.0012499941250406863
          ],
          [
           0.0012499941250406863
          ],
          [
           0.0012499941250406863
          ],
          [
           0.0012499941250406863
          ],
          [
           0.000684996780519397
          ],
          [
           0.000684996780519397
          ],
          [
           0.000684996780519397
          ],
          [
           0.000684996780519397
          ],
          [
           0.000684996780519397
          ],
          [
           0.000684996780519397
          ],
          [
           0.000684996780519397
          ],
          [
           0.000684996780519397
          ],
          [
           0.000684996780519397
          ],
          [
           0.000684996780519397
          ],
          [
           0.000684996780519397
          ],
          [
           0.000684996780519397
          ],
          [
           0.000684996780519397
          ],
          [
           0.000684996780519397
          ],
          [
           0.000684996780519397
          ],
          [
           0.000684996780519397
          ],
          [
           0.000684996780519397
          ],
          [
           0.000684996780519397
          ],
          [
           0.000684996780519397
          ],
          [
           0.000684996780519397
          ],
          [
           0.000684996780519397
          ],
          [
           0.000684996780519397
          ],
          [
           0.000684996780519397
          ],
          [
           0.000684996780519397
          ],
          [
           0.000684996780519397
          ],
          [
           0.000684996780519397
          ],
          [
           0.000684996780519397
          ],
          [
           0.000684996780519397
          ],
          [
           0.000684996780519397
          ],
          [
           0.000684996780519397
          ],
          [
           0.000684996780519397
          ],
          [
           0.000684996780519397
          ],
          [
           0.000684996780519397
          ],
          [
           0.000684996780519397
          ],
          [
           0.000684996780519397
          ],
          [
           0.000684996780519397
          ],
          [
           0.000684996780519397
          ],
          [
           0.000684996780519397
          ],
          [
           0.000684996780519397
          ],
          [
           0.000684996780519397
          ],
          [
           0.000684996780519397
          ],
          [
           0.000684996780519397
          ],
          [
           0.000684996780519397
          ],
          [
           0.000684996780519397
          ],
          [
           0.000684996780519397
          ],
          [
           0.000684996780519397
          ],
          [
           0.000684996780519397
          ],
          [
           0.000684996780519397
          ],
          [
           0.000684996780519397
          ],
          [
           0.000684996780519397
          ],
          [
           0.000684996780519397
          ],
          [
           0.000684996780519397
          ],
          [
           0.000684996780519397
          ],
          [
           0.000684996780519397
          ],
          [
           0.000684996780519397
          ],
          [
           0.000684996780519397
          ],
          [
           0.000684996780519397
          ],
          [
           0.000684996780519397
          ],
          [
           0.000684996780519397
          ],
          [
           0.000684996780519397
          ],
          [
           0.000684996780519397
          ],
          [
           0.000684996780519397
          ],
          [
           0.000684996780519397
          ],
          [
           0.000684996780519397
          ],
          [
           0.000684996780519397
          ],
          [
           0.000684996780519397
          ],
          [
           0.000684996780519397
          ],
          [
           0.000684996780519397
          ],
          [
           0.000684996780519397
          ],
          [
           0.000684996780519397
          ],
          [
           0.000684996780519397
          ],
          [
           0.000684996780519397
          ],
          [
           0.000684996780519397
          ],
          [
           0.000684996780519397
          ],
          [
           0.000684996780519397
          ],
          [
           0.000684996780519397
          ],
          [
           0.000684996780519397
          ],
          [
           0.000684996780519397
          ],
          [
           0.000684996780519397
          ],
          [
           0.000684996780519397
          ],
          [
           0.000684996780519397
          ],
          [
           0.000684996780519397
          ],
          [
           0.000684996780519397
          ],
          [
           0.000684996780519397
          ],
          [
           0.000684996780519397
          ],
          [
           0.000684996780519397
          ],
          [
           0.000684996780519397
          ],
          [
           0.000684996780519397
          ],
          [
           0.000684996780519397
          ],
          [
           0.000684996780519397
          ],
          [
           0.000684996780519397
          ],
          [
           0.000684996780519397
          ],
          [
           0.000684996780519397
          ],
          [
           0.000684996780519397
          ],
          [
           0.000684996780519397
          ],
          [
           0.000684996780519397
          ],
          [
           0.000684996780519397
          ],
          [
           0.000684996780519397
          ],
          [
           0.000684996780519397
          ],
          [
           0.000684996780519397
          ],
          [
           0.000684996780519397
          ],
          [
           0.000684996780519397
          ],
          [
           0.000684996780519397
          ],
          [
           0.000684996780519397
          ],
          [
           0.000684996780519397
          ],
          [
           0.000684996780519397
          ],
          [
           0.000684996780519397
          ],
          [
           0.000684996780519397
          ],
          [
           0.000684996780519397
          ],
          [
           0.000684996780519397
          ],
          [
           0.000684996780519397
          ],
          [
           0.000684996780519397
          ],
          [
           0.000684996780519397
          ],
          [
           0.000684996780519397
          ],
          [
           0.000684996780519397
          ],
          [
           0.000684996780519397
          ],
          [
           0.000684996780519397
          ],
          [
           0.000684996780519397
          ],
          [
           0.000684996780519397
          ],
          [
           0.000684996780519397
          ],
          [
           0.000684996780519397
          ],
          [
           0.000684996780519397
          ],
          [
           0.000684996780519397
          ],
          [
           0.000684996780519397
          ],
          [
           0.000684996780519397
          ],
          [
           0.000684996780519397
          ],
          [
           0.000684996780519397
          ],
          [
           0.000684996780519397
          ],
          [
           0.000684996780519397
          ],
          [
           0.000684996780519397
          ],
          [
           0.000684996780519397
          ],
          [
           0.000684996780519397
          ],
          [
           0.000684996780519397
          ],
          [
           0.000684996780519397
          ],
          [
           0.000684996780519397
          ],
          [
           0.000684996780519397
          ],
          [
           0.000684996780519397
          ],
          [
           0.000684996780519397
          ],
          [
           0.000684996780519397
          ],
          [
           0.000684996780519397
          ],
          [
           0.000684996780519397
          ],
          [
           0.000684996780519397
          ],
          [
           0.000684996780519397
          ],
          [
           0.000684996780519397
          ],
          [
           0.000684996780519397
          ],
          [
           0.000684996780519397
          ],
          [
           0.000684996780519397
          ],
          [
           0.000684996780519397
          ],
          [
           0.000684996780519397
          ],
          [
           0.000684996780519397
          ],
          [
           0.000684996780519397
          ],
          [
           0.000684996780519397
          ],
          [
           0.000684996780519397
          ],
          [
           0.000684996780519397
          ],
          [
           0.000684996780519397
          ],
          [
           0.000684996780519397
          ],
          [
           0.000684996780519397
          ],
          [
           0.000684996780519397
          ],
          [
           0.000684996780519397
          ],
          [
           0.000684996780519397
          ],
          [
           0.000684996780519397
          ],
          [
           0.000684996780519397
          ],
          [
           0.000684996780519397
          ],
          [
           0.000684996780519397
          ],
          [
           0.000684996780519397
          ],
          [
           0.000684996780519397
          ],
          [
           0.000684996780519397
          ],
          [
           0.000684996780519397
          ],
          [
           0.000684996780519397
          ],
          [
           0.000684996780519397
          ],
          [
           0.000684996780519397
          ],
          [
           0.000684996780519397
          ],
          [
           0.000684996780519397
          ],
          [
           0.000684996780519397
          ],
          [
           0.000684996780519397
          ],
          [
           0.000684996780519397
          ],
          [
           0.000684996780519397
          ],
          [
           0.000684996780519397
          ],
          [
           0.000684996780519397
          ],
          [
           0.000684996780519397
          ],
          [
           0.000684996780519397
          ],
          [
           0.000684996780519397
          ],
          [
           0.000684996780519397
          ],
          [
           0.000684996780519397
          ],
          [
           0.000684996780519397
          ],
          [
           0.000684996780519397
          ],
          [
           0.000684996780519397
          ],
          [
           0.000684996780519397
          ],
          [
           0.000684996780519397
          ],
          [
           0.000684996780519397
          ],
          [
           0.000684996780519397
          ],
          [
           0.000684996780519397
          ],
          [
           0.000684996780519397
          ],
          [
           0.000684996780519397
          ],
          [
           0.000684996780519397
          ],
          [
           0.000684996780519397
          ],
          [
           0.000684996780519397
          ],
          [
           0.000684996780519397
          ],
          [
           0.000684996780519397
          ],
          [
           0.000684996780519397
          ],
          [
           0.000684996780519397
          ],
          [
           0.000684996780519397
          ],
          [
           0.000684996780519397
          ],
          [
           0.000684996780519397
          ],
          [
           0.000684996780519397
          ],
          [
           0.000684996780519397
          ],
          [
           0.000684996780519397
          ],
          [
           0.000684996780519397
          ],
          [
           0.000684996780519397
          ],
          [
           0.000684996780519397
          ],
          [
           0.000684996780519397
          ],
          [
           0.000684996780519397
          ],
          [
           0.000684996780519397
          ],
          [
           0.000684996780519397
          ],
          [
           0.000684996780519397
          ],
          [
           0.000684996780519397
          ],
          [
           0.000684996780519397
          ],
          [
           0.000684996780519397
          ],
          [
           0.000684996780519397
          ],
          [
           0.000684996780519397
          ],
          [
           0.000684996780519397
          ],
          [
           0.000684996780519397
          ],
          [
           0.000684996780519397
          ],
          [
           0.000684996780519397
          ],
          [
           0.000684996780519397
          ],
          [
           0.000684996780519397
          ],
          [
           0.000684996780519397
          ],
          [
           0.000684996780519397
          ],
          [
           0.000684996780519397
          ],
          [
           0.000684996780519397
          ],
          [
           0.000684996780519397
          ],
          [
           0.000684996780519397
          ],
          [
           0.000684996780519397
          ],
          [
           0.000684996780519397
          ],
          [
           0.000684996780519397
          ],
          [
           0.000684996780519397
          ],
          [
           0.000684996780519397
          ],
          [
           0.000684996780519397
          ],
          [
           0.000684996780519397
          ],
          [
           0.000684996780519397
          ],
          [
           0.000684996780519397
          ],
          [
           0.000684996780519397
          ],
          [
           0.000684996780519397
          ],
          [
           0.000684996780519397
          ],
          [
           0.000684996780519397
          ],
          [
           0.000684996780519397
          ],
          [
           0.000684996780519397
          ],
          [
           0.000684996780519397
          ],
          [
           0.000684996780519397
          ],
          [
           0.000684996780519397
          ],
          [
           0.000684996780519397
          ],
          [
           0.000684996780519397
          ],
          [
           0.000684996780519397
          ],
          [
           0.000684996780519397
          ],
          [
           0.000684996780519397
          ],
          [
           0.000684996780519397
          ],
          [
           0.000684996780519397
          ],
          [
           0.000684996780519397
          ],
          [
           0.000684996780519397
          ],
          [
           0.000684996780519397
          ],
          [
           0.000684996780519397
          ],
          [
           0.000684996780519397
          ],
          [
           0.000684996780519397
          ],
          [
           0.000684996780519397
          ],
          [
           0.000684996780519397
          ],
          [
           0.000684996780519397
          ],
          [
           0.000684996780519397
          ],
          [
           0.000684996780519397
          ],
          [
           0.000684996780519397
          ],
          [
           0.000684996780519397
          ],
          [
           0.000684996780519397
          ],
          [
           0.000684996780519397
          ],
          [
           0.000684996780519397
          ],
          [
           0.000684996780519397
          ],
          [
           0.000684996780519397
          ],
          [
           0.000684996780519397
          ],
          [
           0.000579997274012171
          ],
          [
           0.000579997274012171
          ],
          [
           0.000579997274012171
          ],
          [
           0.000579997274012171
          ],
          [
           0.000579997274012171
          ],
          [
           0.000579997274012171
          ],
          [
           0.000579997274012171
          ],
          [
           0.000579997274012171
          ],
          [
           0.000579997274012171
          ],
          [
           0.000579997274012171
          ],
          [
           0.000579997274012171
          ],
          [
           0.000579997274012171
          ],
          [
           0.000579997274012171
          ],
          [
           0.000579997274012171
          ],
          [
           0.000579997274012171
          ],
          [
           0.000579997274012171
          ],
          [
           0.000579997274012171
          ],
          [
           0.000579997274012171
          ],
          [
           0.000579997274012171
          ],
          [
           0.000579997274012171
          ],
          [
           0.000579997274012171
          ],
          [
           0.000579997274012171
          ],
          [
           0.000579997274012171
          ],
          [
           0.000579997274012171
          ],
          [
           0.000579997274012171
          ],
          [
           0.000579997274012171
          ],
          [
           0.000579997274012171
          ],
          [
           0.000579997274012171
          ],
          [
           0.000579997274012171
          ],
          [
           0.000579997274012171
          ],
          [
           0.000579997274012171
          ],
          [
           0.000579997274012171
          ],
          [
           0.000579997274012171
          ],
          [
           0.000579997274012171
          ],
          [
           0.000579997274012171
          ],
          [
           0.000579997274012171
          ],
          [
           0.000579997274012171
          ],
          [
           0.000579997274012171
          ],
          [
           0.000579997274012171
          ],
          [
           0.000579997274012171
          ],
          [
           0.000579997274012171
          ],
          [
           0.000579997274012171
          ],
          [
           0.000579997274012171
          ],
          [
           0.000579997274012171
          ],
          [
           0.000579997274012171
          ],
          [
           0.000579997274012171
          ],
          [
           0.000579997274012171
          ],
          [
           0.000579997274012171
          ],
          [
           0.000579997274012171
          ],
          [
           0.000579997274012171
          ],
          [
           0.000579997274012171
          ],
          [
           0.000579997274012171
          ],
          [
           0.000579997274012171
          ],
          [
           0.000579997274012171
          ],
          [
           0.000579997274012171
          ],
          [
           0.000579997274012171
          ],
          [
           0.000579997274012171
          ],
          [
           0.000579997274012171
          ],
          [
           0.000579997274012171
          ],
          [
           0.000579997274012171
          ],
          [
           0.000579997274012171
          ],
          [
           0.000579997274012171
          ],
          [
           0.000579997274012171
          ],
          [
           0.000579997274012171
          ],
          [
           0.000579997274012171
          ],
          [
           0.000579997274012171
          ],
          [
           0.000579997274012171
          ],
          [
           0.000579997274012171
          ],
          [
           0.000579997274012171
          ],
          [
           0.000579997274012171
          ],
          [
           0.000579997274012171
          ],
          [
           0.000579997274012171
          ],
          [
           0.000579997274012171
          ],
          [
           0.000579997274012171
          ],
          [
           0.000579997274012171
          ],
          [
           0.000579997274012171
          ],
          [
           0.000579997274012171
          ],
          [
           0.000579997274012171
          ],
          [
           0.000579997274012171
          ],
          [
           0.000579997274012171
          ],
          [
           0.000579997274012171
          ],
          [
           0.000579997274012171
          ],
          [
           0.000579997274012171
          ],
          [
           0.000579997274012171
          ],
          [
           0.000579997274012171
          ],
          [
           0.000579997274012171
          ],
          [
           0.000579997274012171
          ],
          [
           0.000579997274012171
          ],
          [
           0.000579997274012171
          ],
          [
           0.000579997274012171
          ],
          [
           0.000579997274012171
          ],
          [
           0.000579997274012171
          ],
          [
           0.000579997274012171
          ],
          [
           0.000579997274012171
          ],
          [
           0.000579997274012171
          ],
          [
           0.000579997274012171
          ],
          [
           0.000579997274012171
          ],
          [
           0.000579997274012171
          ],
          [
           0.000579997274012171
          ],
          [
           0.000579997274012171
          ],
          [
           0.000579997274012171
          ],
          [
           0.000579997274012171
          ],
          [
           0.000579997274012171
          ],
          [
           0.000579997274012171
          ],
          [
           0.000579997274012171
          ],
          [
           0.000579997274012171
          ],
          [
           0.000579997274012171
          ],
          [
           0.000579997274012171
          ],
          [
           0.000579997274012171
          ],
          [
           0.000579997274012171
          ],
          [
           0.000579997274012171
          ],
          [
           0.000579997274012171
          ],
          [
           0.000579997274012171
          ],
          [
           0.000579997274012171
          ],
          [
           0.000579997274012171
          ],
          [
           0.000579997274012171
          ],
          [
           0.000579997274012171
          ],
          [
           0.000579997274012171
          ],
          [
           0.000579997274012171
          ],
          [
           0.000579997274012171
          ],
          [
           0.000579997274012171
          ],
          [
           0.000579997274012171
          ],
          [
           0.000579997274012171
          ],
          [
           0.000579997274012171
          ],
          [
           0.000579997274012171
          ],
          [
           0.000579997274012171
          ],
          [
           0.000579997274012171
          ],
          [
           0.000579997274012171
          ],
          [
           0.000579997274012171
          ],
          [
           0.000579997274012171
          ],
          [
           0.000579997274012171
          ],
          [
           0.000579997274012171
          ],
          [
           0.000579997274012171
          ],
          [
           0.000579997274012171
          ],
          [
           0.000579997274012171
          ],
          [
           0.000579997274012171
          ],
          [
           0.000579997274012171
          ],
          [
           0.000579997274012171
          ],
          [
           0.000579997274012171
          ],
          [
           0.000579997274012171
          ],
          [
           0.000579997274012171
          ],
          [
           0.000579997274012171
          ],
          [
           0.000579997274012171
          ],
          [
           0.000579997274012171
          ],
          [
           0.000579997274012171
          ],
          [
           0.000579997274012171
          ],
          [
           0.000579997274012171
          ],
          [
           0.000579997274012171
          ],
          [
           0.000579997274012171
          ],
          [
           0.000579997274012171
          ],
          [
           0.000579997274012171
          ],
          [
           0.000579997274012171
          ],
          [
           0.000579997274012171
          ],
          [
           0.000579997274012171
          ],
          [
           0.000579997274012171
          ],
          [
           0.000579997274012171
          ],
          [
           0.000579997274012171
          ],
          [
           0.000579997274012171
          ],
          [
           0.000579997274012171
          ],
          [
           0.000579997274012171
          ],
          [
           0.000579997274012171
          ],
          [
           0.000579997274012171
          ],
          [
           0.000579997274012171
          ],
          [
           0.000579997274012171
          ],
          [
           0.000579997274012171
          ],
          [
           0.000579997274012171
          ],
          [
           0.000579997274012171
          ],
          [
           0.000579997274012171
          ],
          [
           0.000579997274012171
          ],
          [
           0.000579997274012171
          ],
          [
           0.000579997274012171
          ],
          [
           0.000579997274012171
          ],
          [
           0.000579997274012171
          ],
          [
           0.000579997274012171
          ],
          [
           0.000579997274012171
          ],
          [
           0.000579997274012171
          ],
          [
           0.000579997274012171
          ],
          [
           0.000579997274012171
          ],
          [
           0.000579997274012171
          ],
          [
           0.000579997274012171
          ],
          [
           0.000579997274012171
          ],
          [
           0.000579997274012171
          ],
          [
           0.000579997274012171
          ],
          [
           0.000579997274012171
          ],
          [
           0.000579997274012171
          ],
          [
           0.000579997274012171
          ],
          [
           0.000579997274012171
          ],
          [
           0.000579997274012171
          ],
          [
           0.000579997274012171
          ],
          [
           0.000579997274012171
          ],
          [
           0.000579997274012171
          ],
          [
           0.000579997274012171
          ],
          [
           0.000579997274012171
          ],
          [
           0.000579997274012171
          ],
          [
           0.000579997274012171
          ],
          [
           0.000579997274012171
          ],
          [
           0.000579997274012171
          ],
          [
           0.000579997274012171
          ],
          [
           0.000579997274012171
          ],
          [
           0.000579997274012171
          ],
          [
           0.000579997274012171
          ],
          [
           0.000579997274012171
          ],
          [
           0.000579997274012171
          ],
          [
           0.000579997274012171
          ],
          [
           0.000579997274012171
          ],
          [
           0.000579997274012171
          ],
          [
           0.000579997274012171
          ],
          [
           0.000579997274012171
          ],
          [
           0.000579997274012171
          ],
          [
           0.000579997274012171
          ],
          [
           0.000579997274012171
          ],
          [
           0.000579997274012171
          ],
          [
           0.000579997274012171
          ],
          [
           0.000579997274012171
          ],
          [
           0.000579997274012171
          ],
          [
           0.000579997274012171
          ],
          [
           0.000579997274012171
          ],
          [
           0.000579997274012171
          ],
          [
           0.000579997274012171
          ],
          [
           0.000579997274012171
          ],
          [
           0.000579997274012171
          ],
          [
           0.000579997274012171
          ],
          [
           0.000579997274012171
          ],
          [
           0.000579997274012171
          ],
          [
           0.000579997274012171
          ],
          [
           0.000579997274012171
          ],
          [
           0.000579997274012171
          ],
          [
           0.000579997274012171
          ],
          [
           0.000579997274012171
          ],
          [
           0.000579997274012171
          ],
          [
           0.000579997274012171
          ],
          [
           0.000579997274012171
          ],
          [
           0.000579997274012171
          ],
          [
           0.000579997274012171
          ],
          [
           0.000579997274012171
          ],
          [
           0.000579997274012171
          ],
          [
           0.000579997274012171
          ],
          [
           0.000579997274012171
          ],
          [
           0.000579997274012171
          ],
          [
           0.000579997274012171
          ],
          [
           0.000579997274012171
          ],
          [
           0.000579997274012171
          ],
          [
           0.000579997274012171
          ],
          [
           0.000579997274012171
          ],
          [
           0.000579997274012171
          ],
          [
           0.000579997274012171
          ],
          [
           0.000579997274012171
          ],
          [
           0.000579997274012171
          ],
          [
           0.000579997274012171
          ],
          [
           0.000579997274012171
          ],
          [
           0.000579997274012171
          ],
          [
           0.000579997274012171
          ],
          [
           0.000579997274012171
          ],
          [
           0.000579997274012171
          ],
          [
           0.000579997274012171
          ],
          [
           0.000579997274012171
          ],
          [
           0.000579997274012171
          ],
          [
           0.000579997274012171
          ],
          [
           0.000579997274012171
          ],
          [
           0.000579997274012171
          ],
          [
           0.000579997274012171
          ],
          [
           0.000579997274012171
          ],
          [
           0.000579997274012171
          ],
          [
           0.000579997274012171
          ],
          [
           0.000579997274012171
          ],
          [
           0.000579997274012171
          ],
          [
           0.000579997274012171
          ],
          [
           0.000579997274012171
          ],
          [
           0.000579997274012171
          ],
          [
           0.000579997274012171
          ],
          [
           0.000579997274012171
          ],
          [
           0.000579997274012171
          ],
          [
           0.000579997274012171
          ],
          [
           0.000579997274012171
          ],
          [
           0.000579997274012171
          ],
          [
           0.000579997274012171
          ]
         ],
         "hovertemplate": "X=%{x}<br>sl_stop=%{y}<br>sharpe=%{z}<br>drawdown=%{customdata[0]}<br>total_return=%{marker.color}<extra></extra>",
         "legendgroup": "",
         "marker": {
          "color": [
           0.005165000000000308,
           0.00312500000000071,
           0.00312500000000071,
           0.0037300000000006777,
           0.0037300000000006777,
           0.0037300000000006777,
           0.0037300000000006777,
           0.0037300000000006777,
           0.0037300000000006777,
           0.0037300000000006777,
           0.0037300000000006777,
           0.0037300000000006777,
           0.0037300000000006777,
           0.0037300000000006777,
           0.0037300000000006777,
           0.0037300000000006777,
           0.0037300000000006777,
           0.0037300000000006777,
           0.0037300000000006777,
           0.0037300000000006777,
           0.0037300000000006777,
           0.0037300000000006777,
           0.0037300000000006777,
           0.0037300000000006777,
           0.0037300000000006777,
           0.0037300000000006777,
           0.0037300000000006777,
           0.0037300000000006777,
           0.0037300000000006777,
           0.0037300000000006777,
           0.0037300000000006777,
           0.0037300000000006777,
           0.0037300000000006777,
           0.0037300000000006777,
           0.0037300000000006777,
           0.0037300000000006777,
           0.0037300000000006777,
           0.0037300000000006777,
           0.0037300000000006777,
           0.0037300000000006777,
           0.0037300000000006777,
           0.0037300000000006777,
           0.0037300000000006777,
           0.0037300000000006777,
           0.0037300000000006777,
           0.0037300000000006777,
           0.005245000000000388,
           0.0032049999999996803,
           0.0032049999999996803,
           0.0038100000000003127,
           0.0038100000000003127,
           0.0038100000000003127,
           0.0038100000000003127,
           0.0038100000000003127,
           0.0038100000000003127,
           0.0038100000000003127,
           0.0038100000000003127,
           0.0038100000000003127,
           0.0038100000000003127,
           0.0038100000000003127,
           0.0038100000000003127,
           0.0038100000000003127,
           0.0038100000000003127,
           0.0038100000000003127,
           0.0038100000000003127,
           0.0038100000000003127,
           0.0038100000000003127,
           0.0038100000000003127,
           0.0038100000000003127,
           0.0038100000000003127,
           0.0038100000000003127,
           0.0038100000000003127,
           0.0038100000000003127,
           0.0038100000000003127,
           0.0038100000000003127,
           0.0038100000000003127,
           0.0038100000000003127,
           0.0038100000000003127,
           0.0038100000000003127,
           0.0038100000000003127,
           0.0038100000000003127,
           0.0038100000000003127,
           0.0038100000000003127,
           0.0038100000000003127,
           0.0038100000000003127,
           0.0038100000000003127,
           0.0038100000000003127,
           0.0038100000000003127,
           0.0038100000000003127,
           0.0038100000000003127,
           0.0038100000000003127,
           0.0038100000000003127,
           0.005905000000000493,
           0.003865000000000452,
           0.003865000000000452,
           0.004470000000000418,
           0.004470000000000418,
           0.004470000000000418,
           0.004470000000000418,
           0.004470000000000418,
           0.004470000000000418,
           0.004470000000000418,
           0.004470000000000418,
           0.004470000000000418,
           0.004470000000000418,
           0.004470000000000418,
           0.004470000000000418,
           0.004470000000000418,
           0.004470000000000418,
           0.004470000000000418,
           0.004470000000000418,
           0.004470000000000418,
           0.004470000000000418,
           0.004470000000000418,
           0.004470000000000418,
           0.004470000000000418,
           0.004470000000000418,
           0.004470000000000418,
           0.004470000000000418,
           0.004470000000000418,
           0.004470000000000418,
           0.004470000000000418,
           0.004470000000000418,
           0.004470000000000418,
           0.004470000000000418,
           0.004470000000000418,
           0.004470000000000418,
           0.004470000000000418,
           0.004470000000000418,
           0.004470000000000418,
           0.004470000000000418,
           0.004470000000000418,
           0.004470000000000418,
           0.004470000000000418,
           0.004470000000000418,
           0.004470000000000418,
           0.004470000000000418,
           0.004470000000000418,
           0.0038100000000003127,
           0.0017700000000002714,
           0.0017700000000002714,
           0.002375000000000238,
           0.002375000000000238,
           0.002375000000000238,
           0.002375000000000238,
           0.002375000000000238,
           0.002375000000000238,
           0.002375000000000238,
           0.002375000000000238,
           0.002375000000000238,
           0.002375000000000238,
           0.002375000000000238,
           0.002375000000000238,
           0.002375000000000238,
           0.002375000000000238,
           0.002375000000000238,
           0.002375000000000238,
           0.002375000000000238,
           0.002375000000000238,
           0.002375000000000238,
           0.002375000000000238,
           0.002375000000000238,
           0.002375000000000238,
           0.002375000000000238,
           0.002375000000000238,
           0.002375000000000238,
           0.002375000000000238,
           0.002375000000000238,
           0.002375000000000238,
           0.002375000000000238,
           0.002375000000000238,
           0.002375000000000238,
           0.002375000000000238,
           0.002375000000000238,
           0.002375000000000238,
           0.002375000000000238,
           0.002375000000000238,
           0.002375000000000238,
           0.002375000000000238,
           0.002375000000000238,
           0.002375000000000238,
           0.002375000000000238,
           0.002375000000000238,
           0.002375000000000238,
           0.007850000000000135,
           0.007850000000000135,
           0.007850000000000135,
           0.007850000000000135,
           0.007850000000000135,
           0.007850000000000135,
           0.007850000000000135,
           0.007850000000000135,
           0.007850000000000135,
           0.007850000000000135,
           0.007850000000000135,
           0.007850000000000135,
           0.007850000000000135,
           0.007850000000000135,
           0.007850000000000135,
           0.007850000000000135,
           0.007850000000000135,
           0.007850000000000135,
           0.007850000000000135,
           0.007850000000000135,
           0.007850000000000135,
           0.007850000000000135,
           0.007850000000000135,
           0.007850000000000135,
           0.007850000000000135,
           0.007850000000000135,
           0.007850000000000135,
           0.007850000000000135,
           0.007850000000000135,
           0.007850000000000135,
           0.007850000000000135,
           0.007850000000000135,
           0.007850000000000135,
           0.007850000000000135,
           0.007850000000000135,
           0.007850000000000135,
           0.007850000000000135,
           0.007850000000000135,
           0.007850000000000135,
           0.007850000000000135,
           0.007850000000000135,
           0.007850000000000135,
           0.007850000000000135,
           0.007850000000000135,
           0.007850000000000135,
           0.007850000000000135,
           0.00028000000000028,
           0.00028000000000028,
           0.00028000000000028,
           0.00028000000000028,
           0.00028000000000028,
           0.00028000000000028,
           0.00028000000000028,
           0.00028000000000028,
           0.00028000000000028,
           0.00028000000000028,
           0.00028000000000028,
           0.00028000000000028,
           0.00028000000000028,
           0.00028000000000028,
           0.00028000000000028,
           0.00028000000000028,
           0.00028000000000028,
           0.00028000000000028,
           0.00028000000000028,
           0.00028000000000028,
           0.00028000000000028,
           0.00028000000000028,
           0.00028000000000028,
           0.00028000000000028,
           0.00028000000000028,
           0.00028000000000028,
           0.00028000000000028,
           0.00028000000000028,
           0.00028000000000028,
           0.00028000000000028,
           0.00028000000000028,
           0.00028000000000028,
           0.00028000000000028,
           0.00028000000000028,
           0.00028000000000028,
           0.00028000000000028,
           0.00028000000000028,
           0.00028000000000028,
           0.00028000000000028,
           0.00028000000000028,
           0.00028000000000028,
           0.00028000000000028,
           0.00028000000000028,
           0.00028000000000028,
           0.00028000000000028,
           0.00028000000000028,
           0.0025100000000004563,
           0.0025100000000004563,
           0.0025100000000004563,
           0.0025100000000004563,
           0.0025100000000004563,
           0.0025100000000004563,
           0.0025100000000004563,
           0.0025100000000004563,
           0.0025100000000004563,
           0.0025100000000004563,
           0.0025100000000004563,
           0.0025100000000004563,
           0.0025100000000004563,
           0.0025100000000004563,
           0.0025100000000004563,
           0.0025100000000004563,
           0.0025100000000004563,
           0.0025100000000004563,
           0.0025100000000004563,
           0.0025100000000004563,
           0.0025100000000004563,
           0.0025100000000004563,
           0.0025100000000004563,
           0.0025100000000004563,
           0.0025100000000004563,
           0.0025100000000004563,
           0.0025100000000004563,
           0.0025100000000004563,
           0.0025100000000004563,
           0.0025100000000004563,
           0.0025100000000004563,
           0.0025100000000004563,
           0.0025100000000004563,
           0.0025100000000004563,
           0.0025100000000004563,
           0.0025100000000004563,
           0.0025100000000004563,
           0.0025100000000004563,
           0.0025100000000004563,
           0.0025100000000004563,
           0.0025100000000004563,
           0.0025100000000004563,
           0.0025100000000004563,
           0.0025100000000004563,
           0.0025100000000004563,
           0.0025100000000004563,
           0.0075950000000004625,
           0.0075950000000004625,
           0.0075950000000004625,
           0.0075950000000004625,
           0.0075950000000004625,
           0.0075950000000004625,
           0.0075950000000004625,
           0.0075950000000004625,
           0.0075950000000004625,
           0.0075950000000004625,
           0.0075950000000004625,
           0.0075950000000004625,
           0.0075950000000004625,
           0.0075950000000004625,
           0.0075950000000004625,
           0.0075950000000004625,
           0.0075950000000004625,
           0.0075950000000004625,
           0.0075950000000004625,
           0.0075950000000004625,
           0.0075950000000004625,
           0.0075950000000004625,
           0.0075950000000004625,
           0.0075950000000004625,
           0.0075950000000004625,
           0.0075950000000004625,
           0.0075950000000004625,
           0.0075950000000004625,
           0.0075950000000004625,
           0.0075950000000004625,
           0.0075950000000004625,
           0.0075950000000004625,
           0.0075950000000004625,
           0.0075950000000004625,
           0.0075950000000004625,
           0.0075950000000004625,
           0.0075950000000004625,
           0.0075950000000004625,
           0.0075950000000004625,
           0.0075950000000004625,
           0.0075950000000004625,
           0.0075950000000004625,
           0.0075950000000004625,
           0.0075950000000004625,
           0.0075950000000004625,
           0.0075950000000004625,
           0.007809999999999873,
           0.007809999999999873,
           0.007809999999999873,
           0.007809999999999873,
           0.007809999999999873,
           0.007809999999999873,
           0.007809999999999873,
           0.007809999999999873,
           0.007809999999999873,
           0.007809999999999873,
           0.007809999999999873,
           0.007809999999999873,
           0.007809999999999873,
           0.007809999999999873,
           0.007809999999999873,
           0.007809999999999873,
           0.007809999999999873,
           0.007809999999999873,
           0.007809999999999873,
           0.007809999999999873,
           0.007809999999999873,
           0.007809999999999873,
           0.007809999999999873,
           0.007809999999999873,
           0.007809999999999873,
           0.007809999999999873,
           0.007809999999999873,
           0.007809999999999873,
           0.007809999999999873,
           0.007809999999999873,
           0.007809999999999873,
           0.007809999999999873,
           0.007809999999999873,
           0.007809999999999873,
           0.007809999999999873,
           0.007809999999999873,
           0.007809999999999873,
           0.007809999999999873,
           0.007809999999999873,
           0.007809999999999873,
           0.007809999999999873,
           0.007809999999999873,
           0.007809999999999873,
           0.007809999999999873,
           0.007809999999999873,
           0.007809999999999873,
           0.0021999999999997577,
           0.0021999999999997577,
           0.0021999999999997577,
           0.0021999999999997577,
           0.0021999999999997577,
           0.0021999999999997577,
           0.0021999999999997577,
           0.0021999999999997577,
           0.0021999999999997577,
           0.0021999999999997577,
           0.0021999999999997577,
           0.0021999999999997577,
           0.0021999999999997577,
           0.0021999999999997577,
           0.0021999999999997577,
           0.0021999999999997577,
           0.0021999999999997577,
           0.0021999999999997577,
           0.0021999999999997577,
           0.0021999999999997577,
           0.0021999999999997577,
           0.0021999999999997577,
           0.0021999999999997577,
           0.0021999999999997577,
           0.0021999999999997577,
           0.0021999999999997577,
           0.0021999999999997577,
           0.0021999999999997577,
           0.0021999999999997577,
           0.0021999999999997577,
           0.0021999999999997577,
           0.0021999999999997577,
           0.0021999999999997577,
           0.0021999999999997577,
           0.0021999999999997577,
           0.0021999999999997577,
           0.0021999999999997577,
           0.0021999999999997577,
           0.0021999999999997577,
           0.0021999999999997577,
           0.0021999999999997577,
           0.0021999999999997577,
           0.0021999999999997577,
           0.0021999999999997577,
           0.0021999999999997577,
           0.0021999999999997577,
           0.0021999999999997577,
           0.0021999999999997577,
           0.0021999999999997577,
           0.0021999999999997577,
           0.0021999999999997577,
           0.0021999999999997577,
           0.0021999999999997577,
           0.0021999999999997577,
           0.0021999999999997577,
           0.0021999999999997577,
           0.0021999999999997577,
           0.0021999999999997577,
           0.0021999999999997577,
           0.0021999999999997577,
           0.0021999999999997577,
           0.0021999999999997577,
           0.0021999999999997577,
           0.0021999999999997577,
           0.0021999999999997577,
           0.0021999999999997577,
           0.0021999999999997577,
           0.0021999999999997577,
           0.0021999999999997577,
           0.0021999999999997577,
           0.0021999999999997577,
           0.0021999999999997577,
           0.0021999999999997577,
           0.0021999999999997577,
           0.0021999999999997577,
           0.0021999999999997577,
           0.0021999999999997577,
           0.0021999999999997577,
           0.0021999999999997577,
           0.0021999999999997577,
           0.0021999999999997577,
           0.0021999999999997577,
           0.0021999999999997577,
           0.0021999999999997577,
           0.0021999999999997577,
           0.0021999999999997577,
           0.0021999999999997577,
           0.0021999999999997577,
           0.0021999999999997577,
           0.0021999999999997577,
           0.0021999999999997577,
           0.0021999999999997577,
           0.0022799999999998377,
           0.0022799999999998377,
           0.0022799999999998377,
           0.0022799999999998377,
           0.0022799999999998377,
           0.0022799999999998377,
           0.0022799999999998377,
           0.0022799999999998377,
           0.0022799999999998377,
           0.0022799999999998377,
           0.0022799999999998377,
           0.0022799999999998377,
           0.0022799999999998377,
           0.0022799999999998377,
           0.0022799999999998377,
           0.0022799999999998377,
           0.0022799999999998377,
           0.0022799999999998377,
           0.0022799999999998377,
           0.0022799999999998377,
           0.0022799999999998377,
           0.0022799999999998377,
           0.0022799999999998377,
           0.0022799999999998377,
           0.0022799999999998377,
           0.0022799999999998377,
           0.0022799999999998377,
           0.0022799999999998377,
           0.0022799999999998377,
           0.0022799999999998377,
           0.0022799999999998377,
           0.0022799999999998377,
           0.0022799999999998377,
           0.0022799999999998377,
           0.0022799999999998377,
           0.0022799999999998377,
           0.0022799999999998377,
           0.0022799999999998377,
           0.0022799999999998377,
           0.0022799999999998377,
           0.0022799999999998377,
           0.0022799999999998377,
           0.0022799999999998377,
           0.0022799999999998377,
           0.0022799999999998377,
           0.0022799999999998377,
           0.003330000000000055,
           0.003330000000000055,
           0.003330000000000055,
           0.003330000000000055,
           0.003330000000000055,
           0.003330000000000055,
           0.003330000000000055,
           0.003330000000000055,
           0.003330000000000055,
           0.003330000000000055,
           0.003330000000000055,
           0.003330000000000055,
           0.003330000000000055,
           0.003330000000000055,
           0.003330000000000055,
           0.003330000000000055,
           0.003330000000000055,
           0.003330000000000055,
           0.003330000000000055,
           0.003330000000000055,
           0.003330000000000055,
           0.003330000000000055,
           0.003330000000000055,
           0.003330000000000055,
           0.003330000000000055,
           0.003330000000000055,
           0.003330000000000055,
           0.003330000000000055,
           0.003330000000000055,
           0.003330000000000055,
           0.003330000000000055,
           0.003330000000000055,
           0.003330000000000055,
           0.003330000000000055,
           0.003330000000000055,
           0.003330000000000055,
           0.003330000000000055,
           0.003330000000000055,
           0.003330000000000055,
           0.003330000000000055,
           0.003330000000000055,
           0.003330000000000055,
           0.003330000000000055,
           0.003330000000000055,
           0.003330000000000055,
           0.003330000000000055,
           0.0025050000000002015,
           0.0025050000000002015,
           0.0025050000000002015,
           0.0025050000000002015,
           0.0025050000000002015,
           0.0025050000000002015,
           0.0025050000000002015,
           0.0025050000000002015,
           0.0025050000000002015,
           0.0025050000000002015,
           0.0025050000000002015,
           0.0025050000000002015,
           0.0025050000000002015,
           0.0025050000000002015,
           0.0025050000000002015,
           0.0025050000000002015,
           0.0025050000000002015,
           0.0025050000000002015,
           0.0025050000000002015,
           0.0025050000000002015,
           0.0025050000000002015,
           0.0025050000000002015,
           0.0025050000000002015,
           0.0025050000000002015,
           0.0025050000000002015,
           0.0025050000000002015,
           0.0025050000000002015,
           0.0025050000000002015,
           0.0025050000000002015,
           0.0025050000000002015,
           0.0025050000000002015,
           0.0025050000000002015,
           0.0025050000000002015,
           0.0025050000000002015,
           0.0025050000000002015,
           0.0025050000000002015,
           0.0025050000000002015,
           0.0025050000000002015,
           0.0025050000000002015,
           0.0025050000000002015,
           0.0025050000000002015,
           0.0025050000000002015,
           0.0025050000000002015,
           0.0025050000000002015,
           0.0025050000000002015,
           0.0025050000000002015,
           0.002855000000000274,
           0.002855000000000274,
           0.002855000000000274,
           0.002855000000000274,
           0.002855000000000274,
           0.002855000000000274,
           0.002855000000000274,
           0.002855000000000274,
           0.002855000000000274,
           0.002855000000000274,
           0.002855000000000274,
           0.002855000000000274,
           0.002855000000000274,
           0.002855000000000274,
           0.002855000000000274,
           0.002855000000000274,
           0.002855000000000274,
           0.002855000000000274,
           0.002855000000000274,
           0.002855000000000274,
           0.002855000000000274,
           0.002855000000000274,
           0.002855000000000274,
           0.002855000000000274,
           0.002855000000000274,
           0.002855000000000274,
           0.002855000000000274,
           0.002855000000000274,
           0.002855000000000274,
           0.002855000000000274,
           0.002855000000000274,
           0.002855000000000274,
           0.002855000000000274,
           0.002855000000000274,
           0.002855000000000274,
           0.002855000000000274,
           0.002855000000000274,
           0.002855000000000274,
           0.002855000000000274,
           0.002855000000000274,
           0.002855000000000274,
           0.002855000000000274,
           0.002855000000000274,
           0.002855000000000274,
           0.002855000000000274,
           0.002855000000000274,
           0.0023050000000002235,
           0.0023050000000002235,
           0.0023050000000002235,
           0.0023050000000002235,
           0.0023050000000002235,
           0.0023050000000002235,
           0.0023050000000002235,
           0.0023050000000002235,
           0.0023050000000002235,
           0.0023050000000002235,
           0.0023050000000002235,
           0.0023050000000002235,
           0.0023050000000002235,
           0.0023050000000002235,
           0.0023050000000002235,
           0.0023050000000002235,
           0.0023050000000002235,
           0.0023050000000002235,
           0.0023050000000002235,
           0.0023050000000002235,
           0.0023050000000002235,
           0.0023050000000002235,
           0.0023050000000002235,
           0.0023050000000002235,
           0.0023050000000002235,
           0.0023050000000002235,
           0.0023050000000002235,
           0.0023050000000002235,
           0.0023050000000002235,
           0.0023050000000002235,
           0.0023050000000002235,
           0.0023050000000002235,
           0.0023050000000002235,
           0.0023050000000002235,
           0.0023050000000002235,
           0.0023050000000002235,
           0.0023050000000002235,
           0.0023050000000002235,
           0.0023050000000002235,
           0.0023050000000002235,
           0.0023050000000002235,
           0.0023050000000002235,
           0.0023050000000002235,
           0.0023050000000002235,
           0.0023050000000002235,
           0.0023050000000002235,
           0.003925000000000178,
           0.003925000000000178,
           0.003925000000000178,
           0.003925000000000178,
           0.003925000000000178,
           0.003925000000000178,
           0.003925000000000178,
           0.003925000000000178,
           0.003925000000000178,
           0.003925000000000178,
           0.003925000000000178,
           0.003925000000000178,
           0.003925000000000178,
           0.003925000000000178,
           0.003925000000000178,
           0.003925000000000178,
           0.003925000000000178,
           0.003925000000000178,
           0.003925000000000178,
           0.003925000000000178,
           0.003925000000000178,
           0.003925000000000178,
           0.003925000000000178,
           0.003925000000000178,
           0.003925000000000178,
           0.003925000000000178,
           0.003925000000000178,
           0.003925000000000178,
           0.003925000000000178,
           0.003925000000000178,
           0.003925000000000178,
           0.003925000000000178,
           0.003925000000000178,
           0.003925000000000178,
           0.003925000000000178,
           0.003925000000000178,
           0.003925000000000178,
           0.003925000000000178,
           0.003925000000000178,
           0.003925000000000178,
           0.003925000000000178,
           0.003925000000000178,
           0.003925000000000178,
           0.003925000000000178,
           0.003925000000000178,
           0.003925000000000178,
           0.004420000000000313,
           0.004420000000000313,
           0.004420000000000313,
           0.004420000000000313,
           0.004420000000000313,
           0.004420000000000313,
           0.004420000000000313,
           0.004420000000000313,
           0.004420000000000313,
           0.004420000000000313,
           0.004420000000000313,
           0.004420000000000313,
           0.004420000000000313,
           0.004420000000000313,
           0.004420000000000313,
           0.004420000000000313,
           0.004420000000000313,
           0.004420000000000313,
           0.004420000000000313,
           0.004420000000000313,
           0.004420000000000313,
           0.004420000000000313,
           0.004420000000000313,
           0.004420000000000313,
           0.004420000000000313,
           0.004420000000000313,
           0.004420000000000313,
           0.004420000000000313,
           0.004420000000000313,
           0.004420000000000313,
           0.004420000000000313,
           0.004420000000000313,
           0.004420000000000313,
           0.004420000000000313,
           0.004420000000000313,
           0.004420000000000313,
           0.004420000000000313,
           0.004420000000000313,
           0.004420000000000313,
           0.004420000000000313,
           0.004420000000000313,
           0.004420000000000313,
           0.004420000000000313,
           0.004420000000000313,
           0.004420000000000313,
           0.004420000000000313,
           0.004420000000000313,
           0.004420000000000313,
           0.004420000000000313,
           0.004420000000000313,
           0.004420000000000313,
           0.004420000000000313,
           0.004420000000000313,
           0.004420000000000313,
           0.004420000000000313,
           0.004420000000000313,
           0.004420000000000313,
           0.004420000000000313,
           0.004420000000000313,
           0.004420000000000313,
           0.004420000000000313,
           0.004420000000000313,
           0.004420000000000313,
           0.004420000000000313,
           0.004420000000000313,
           0.004420000000000313,
           0.004420000000000313,
           0.004420000000000313,
           0.004420000000000313,
           0.004420000000000313,
           0.004420000000000313,
           0.004420000000000313,
           0.004420000000000313,
           0.004420000000000313,
           0.004420000000000313,
           0.004420000000000313,
           0.004420000000000313,
           0.004420000000000313,
           0.004420000000000313,
           0.004420000000000313,
           0.004420000000000313,
           0.004420000000000313,
           0.004420000000000313,
           0.004420000000000313,
           0.004420000000000313,
           0.004420000000000313,
           0.004420000000000313,
           0.004420000000000313,
           0.004420000000000313,
           0.004420000000000313,
           0.004420000000000313,
           0.004420000000000313,
           0.004420000000000313,
           0.004420000000000313,
           0.004420000000000313,
           0.004420000000000313,
           0.004420000000000313,
           0.004420000000000313,
           0.004420000000000313,
           0.004420000000000313,
           0.004420000000000313,
           0.004420000000000313,
           0.004420000000000313,
           0.004420000000000313,
           0.004420000000000313,
           0.004420000000000313,
           0.004420000000000313,
           0.004420000000000313,
           0.004420000000000313,
           0.004420000000000313,
           0.004420000000000313,
           0.004420000000000313,
           0.004420000000000313,
           0.004420000000000313,
           0.004420000000000313,
           0.004420000000000313,
           0.004420000000000313,
           0.004420000000000313,
           0.004420000000000313,
           0.004420000000000313,
           0.004420000000000313,
           0.004420000000000313,
           0.004420000000000313,
           0.004420000000000313,
           0.004420000000000313,
           0.004420000000000313,
           0.004420000000000313,
           0.004420000000000313,
           0.004420000000000313,
           0.004420000000000313,
           0.004420000000000313,
           0.004420000000000313,
           0.004420000000000313,
           0.004420000000000313,
           0.004420000000000313,
           0.004420000000000313,
           0.004420000000000313,
           0.004420000000000313,
           0.0046400000000001995,
           0.0046400000000001995,
           0.0046400000000001995,
           0.0046400000000001995,
           0.0046400000000001995,
           0.0046400000000001995,
           0.0046400000000001995,
           0.0046400000000001995,
           0.0046400000000001995,
           0.0046400000000001995,
           0.0046400000000001995,
           0.0046400000000001995,
           0.0046400000000001995,
           0.0046400000000001995,
           0.0046400000000001995,
           0.0046400000000001995,
           0.0046400000000001995,
           0.0046400000000001995,
           0.0046400000000001995,
           0.0046400000000001995,
           0.0046400000000001995,
           0.0046400000000001995,
           0.0046400000000001995,
           0.0046400000000001995,
           0.0046400000000001995,
           0.0046400000000001995,
           0.0046400000000001995,
           0.0046400000000001995,
           0.0046400000000001995,
           0.0046400000000001995,
           0.0046400000000001995,
           0.0046400000000001995,
           0.0046400000000001995,
           0.0046400000000001995,
           0.0046400000000001995,
           0.0046400000000001995,
           0.0046400000000001995,
           0.0046400000000001995,
           0.0046400000000001995,
           0.0046400000000001995,
           0.0046400000000001995,
           0.0046400000000001995,
           0.0046400000000001995,
           0.0046400000000001995,
           0.0046400000000001995,
           0.0046400000000001995,
           0.004405000000000214,
           0.004405000000000214,
           0.004405000000000214,
           0.004405000000000214,
           0.004405000000000214,
           0.004405000000000214,
           0.004405000000000214,
           0.004405000000000214,
           0.004405000000000214,
           0.004405000000000214,
           0.004405000000000214,
           0.004405000000000214,
           0.004405000000000214,
           0.004405000000000214,
           0.004405000000000214,
           0.004405000000000214,
           0.004405000000000214,
           0.004405000000000214,
           0.004405000000000214,
           0.004405000000000214,
           0.004405000000000214,
           0.004405000000000214,
           0.004405000000000214,
           0.004405000000000214,
           0.004405000000000214,
           0.004405000000000214,
           0.004405000000000214,
           0.004405000000000214,
           0.004405000000000214,
           0.004405000000000214,
           0.004405000000000214,
           0.004405000000000214,
           0.004405000000000214,
           0.004405000000000214,
           0.004405000000000214,
           0.004405000000000214,
           0.004405000000000214,
           0.004405000000000214,
           0.004405000000000214,
           0.004405000000000214,
           0.004405000000000214,
           0.004405000000000214,
           0.004405000000000214,
           0.004405000000000214,
           0.004405000000000214,
           0.004405000000000214,
           0.003920000000000146,
           0.003920000000000146,
           0.003920000000000146,
           0.003920000000000146,
           0.003920000000000146,
           0.003920000000000146,
           0.003920000000000146,
           0.003920000000000146,
           0.003920000000000146,
           0.003920000000000146,
           0.003920000000000146,
           0.003920000000000146,
           0.003920000000000146,
           0.003920000000000146,
           0.003920000000000146,
           0.003920000000000146,
           0.003920000000000146,
           0.003920000000000146,
           0.003920000000000146,
           0.003920000000000146,
           0.003920000000000146,
           0.003920000000000146,
           0.003920000000000146,
           0.003920000000000146,
           0.003920000000000146,
           0.003920000000000146,
           0.003920000000000146,
           0.003920000000000146,
           0.003920000000000146,
           0.003920000000000146,
           0.003920000000000146,
           0.003920000000000146,
           0.003920000000000146,
           0.003920000000000146,
           0.003920000000000146,
           0.003920000000000146,
           0.003920000000000146,
           0.003920000000000146,
           0.003920000000000146,
           0.003920000000000146,
           0.003920000000000146,
           0.003920000000000146,
           0.003920000000000146,
           0.003920000000000146,
           0.003920000000000146,
           0.003920000000000146,
           0.0031499999999999866,
           0.0031499999999999866,
           0.0031499999999999866,
           0.0031499999999999866,
           0.0031499999999999866,
           0.0031499999999999866,
           0.0031499999999999866,
           0.0031499999999999866,
           0.0031499999999999866,
           0.0031499999999999866,
           0.0031499999999999866,
           0.0031499999999999866,
           0.0031499999999999866,
           0.0031499999999999866,
           0.0031499999999999866,
           0.0031499999999999866,
           0.0031499999999999866,
           0.0031499999999999866,
           0.0031499999999999866,
           0.0031499999999999866,
           0.0031499999999999866,
           0.0031499999999999866,
           0.0031499999999999866,
           0.0031499999999999866,
           0.0031499999999999866,
           0.0031499999999999866,
           0.0031499999999999866,
           0.0031499999999999866,
           0.0031499999999999866,
           0.0031499999999999866,
           0.0031499999999999866,
           0.0031499999999999866,
           0.0031499999999999866,
           0.0031499999999999866,
           0.0031499999999999866,
           0.0031499999999999866,
           0.0031499999999999866,
           0.0031499999999999866,
           0.0031499999999999866,
           0.0031499999999999866,
           0.0031499999999999866,
           0.0031499999999999866,
           0.0031499999999999866,
           0.0031499999999999866,
           0.0031499999999999866,
           0.0031499999999999866,
           0.0012450000000001626,
           0.0012450000000001626,
           0.0012450000000001626,
           0.0012450000000001626,
           0.0012450000000001626,
           0.0012450000000001626,
           0.0012450000000001626,
           0.0012450000000001626,
           0.0012450000000001626,
           0.0012450000000001626,
           0.0012450000000001626,
           0.0012450000000001626,
           0.0012450000000001626,
           0.0012450000000001626,
           0.0012450000000001626,
           0.0012450000000001626,
           0.0012450000000001626,
           0.0012450000000001626,
           0.0012450000000001626,
           0.0012450000000001626,
           0.0012450000000001626,
           0.0012450000000001626,
           0.0012450000000001626,
           0.0012450000000001626,
           0.0012450000000001626,
           0.0012450000000001626,
           0.0012450000000001626,
           0.0012450000000001626,
           0.0012450000000001626,
           0.0012450000000001626,
           0.0012450000000001626,
           0.0012450000000001626,
           0.0012450000000001626,
           0.0012450000000001626,
           0.0012450000000001626,
           0.0012450000000001626,
           0.0012450000000001626,
           0.0012450000000001626,
           0.0012450000000001626,
           0.0012450000000001626,
           0.0012450000000001626,
           0.0012450000000001626,
           0.0012450000000001626,
           0.0012450000000001626,
           0.0012450000000001626,
           0.0012450000000001626,
           0.0013900000000000023,
           0.0013900000000000023,
           0.0013900000000000023,
           0.0013900000000000023,
           0.0013900000000000023,
           0.0013900000000000023,
           0.0013900000000000023,
           0.0013900000000000023,
           0.0013900000000000023,
           0.0013900000000000023,
           0.0013900000000000023,
           0.0013900000000000023,
           0.0013900000000000023,
           0.0013900000000000023,
           0.0013900000000000023,
           0.0013900000000000023,
           0.0013900000000000023,
           0.0013900000000000023,
           0.0013900000000000023,
           0.0013900000000000023,
           0.0013900000000000023,
           0.0013900000000000023,
           0.0013900000000000023,
           0.0013900000000000023,
           0.0013900000000000023,
           0.0013900000000000023,
           0.0013900000000000023,
           0.0013900000000000023,
           0.0013900000000000023,
           0.0013900000000000023,
           0.0013900000000000023,
           0.0013900000000000023,
           0.0013900000000000023,
           0.0013900000000000023,
           0.0013900000000000023,
           0.0013900000000000023,
           0.0013900000000000023,
           0.0013900000000000023,
           0.0013900000000000023,
           0.0013900000000000023,
           0.0013900000000000023,
           0.0013900000000000023,
           0.0013900000000000023,
           0.0013900000000000023,
           0.0013900000000000023,
           0.0013900000000000023,
           0.0013900000000000023,
           0.0013900000000000023,
           0.0013900000000000023,
           0.0013900000000000023,
           0.0013900000000000023,
           0.0013900000000000023,
           0.0013900000000000023,
           0.0013900000000000023,
           0.0013900000000000023,
           0.0013900000000000023,
           0.0013900000000000023,
           0.0013900000000000023,
           0.0013900000000000023,
           0.0013900000000000023,
           0.0013900000000000023,
           0.0013900000000000023,
           0.0013900000000000023,
           0.0013900000000000023,
           0.0013900000000000023,
           0.0013900000000000023,
           0.0013900000000000023,
           0.0013900000000000023,
           0.0013900000000000023,
           0.0013900000000000023,
           0.0013900000000000023,
           0.0013900000000000023,
           0.0013900000000000023,
           0.0013900000000000023,
           0.0013900000000000023,
           0.0013900000000000023,
           0.0013900000000000023,
           0.0013900000000000023,
           0.0013900000000000023,
           0.0013900000000000023,
           0.0013900000000000023,
           0.0013900000000000023,
           0.0013900000000000023,
           0.0013900000000000023,
           0.0013900000000000023,
           0.0013900000000000023,
           0.0013900000000000023,
           0.0013900000000000023,
           0.0013900000000000023,
           0.0013900000000000023,
           0.0013900000000000023,
           0.0013900000000000023,
           0.0013750000000001261,
           0.0013750000000001261,
           0.0013750000000001261,
           0.0013750000000001261,
           0.0013750000000001261,
           0.0013750000000001261,
           0.0013750000000001261,
           0.0013750000000001261,
           0.0013750000000001261,
           0.0013750000000001261,
           0.0013750000000001261,
           0.0013750000000001261,
           0.0013750000000001261,
           0.0013750000000001261,
           0.0013750000000001261,
           0.0013750000000001261,
           0.0013750000000001261,
           0.0013750000000001261,
           0.0013750000000001261,
           0.0013750000000001261,
           0.0013750000000001261,
           0.0013750000000001261,
           0.0013750000000001261,
           0.0013750000000001261,
           0.0013750000000001261,
           0.0013750000000001261,
           0.0013750000000001261,
           0.0013750000000001261,
           0.0013750000000001261,
           0.0013750000000001261,
           0.0013750000000001261,
           0.0013750000000001261,
           0.0013750000000001261,
           0.0013750000000001261,
           0.0013750000000001261,
           0.0013750000000001261,
           0.0013750000000001261,
           0.0013750000000001261,
           0.0013750000000001261,
           0.0013750000000001261,
           0.0013750000000001261,
           0.0013750000000001261,
           0.0013750000000001261,
           0.0013750000000001261,
           0.0013750000000001261,
           0.0013750000000001261,
           0.0006450000000002287,
           0.0006450000000002287,
           0.0006450000000002287,
           0.0006450000000002287,
           0.0006450000000002287,
           0.0006450000000002287,
           0.0006450000000002287,
           0.0006450000000002287,
           0.0006450000000002287,
           0.0006450000000002287,
           0.0006450000000002287,
           0.0006450000000002287,
           0.0006450000000002287,
           0.0006450000000002287,
           0.0006450000000002287,
           0.0006450000000002287,
           0.0006450000000002287,
           0.0006450000000002287,
           0.0006450000000002287,
           0.0006450000000002287,
           0.0006450000000002287,
           0.0006450000000002287,
           0.0006450000000002287,
           0.0006450000000002287,
           0.0006450000000002287,
           0.0006450000000002287,
           0.0006450000000002287,
           0.0006450000000002287,
           0.0006450000000002287,
           0.0006450000000002287,
           0.0006450000000002287,
           0.0006450000000002287,
           0.0006450000000002287,
           0.0006450000000002287,
           0.0006450000000002287,
           0.0006450000000002287,
           0.0006450000000002287,
           0.0006450000000002287,
           0.0006450000000002287,
           0.0006450000000002287,
           0.0006450000000002287,
           0.0006450000000002287,
           0.0006450000000002287,
           0.0006450000000002287,
           0.0006450000000002287,
           0.0006450000000002287,
           0.0006450000000002287,
           0.0006450000000002287,
           0.0006450000000002287,
           0.0006450000000002287,
           0.0006450000000002287,
           0.0006450000000002287,
           0.0006450000000002287,
           0.0006450000000002287,
           0.0006450000000002287,
           0.0006450000000002287,
           0.0006450000000002287,
           0.0006450000000002287,
           0.0006450000000002287,
           0.0006450000000002287,
           0.0006450000000002287,
           0.0006450000000002287,
           0.0006450000000002287,
           0.0006450000000002287,
           0.0006450000000002287,
           0.0006450000000002287,
           0.0006450000000002287,
           0.0006450000000002287,
           0.0006450000000002287,
           0.0006450000000002287,
           0.0006450000000002287,
           0.0006450000000002287,
           0.0006450000000002287,
           0.0006450000000002287,
           0.0006450000000002287,
           0.0006450000000002287,
           0.0006450000000002287,
           0.0006450000000002287,
           0.0006450000000002287,
           0.0006450000000002287,
           0.0006450000000002287,
           0.0006450000000002287,
           0.0006450000000002287,
           0.0006450000000002287,
           0.0006450000000002287,
           0.0006450000000002287,
           0.0006450000000002287,
           0.0006450000000002287,
           0.0006450000000002287,
           0.0006450000000002287,
           0.0006450000000002287,
           0.0006450000000002287,
           0.0012250000000000316,
           0.0012250000000000316,
           0.0012250000000000316,
           0.0012250000000000316,
           0.0012250000000000316,
           0.0012250000000000316,
           0.0012250000000000316,
           0.0012250000000000316,
           0.0012250000000000316,
           0.0012250000000000316,
           0.0012250000000000316,
           0.0012250000000000316,
           0.0012250000000000316,
           0.0012250000000000316,
           0.0012250000000000316,
           0.0012250000000000316,
           0.0012250000000000316,
           0.0012250000000000316,
           0.0012250000000000316,
           0.0012250000000000316,
           0.0012250000000000316,
           0.0012250000000000316,
           0.0012250000000000316,
           0.0012250000000000316,
           0.0012250000000000316,
           0.0012250000000000316,
           0.0012250000000000316,
           0.0012250000000000316,
           0.0012250000000000316,
           0.0012250000000000316,
           0.0012250000000000316,
           0.0012250000000000316,
           0.0012250000000000316,
           0.0012250000000000316,
           0.0012250000000000316,
           0.0012250000000000316,
           0.0012250000000000316,
           0.0012250000000000316,
           0.0012250000000000316,
           0.0012250000000000316,
           0.0012250000000000316,
           0.0012250000000000316,
           0.0012250000000000316,
           0.0012250000000000316,
           0.0012250000000000316,
           0.0012250000000000316,
           0.0012250000000000316,
           0.0012250000000000316,
           0.0012250000000000316,
           0.0012250000000000316,
           0.0012250000000000316,
           0.0012250000000000316,
           0.0012250000000000316,
           0.0012250000000000316,
           0.0012250000000000316,
           0.0012250000000000316,
           0.0012250000000000316,
           0.0012250000000000316,
           0.0012250000000000316,
           0.0012250000000000316,
           0.0012250000000000316,
           0.0012250000000000316,
           0.0012250000000000316,
           0.0012250000000000316,
           0.0012250000000000316,
           0.0012250000000000316,
           0.0012250000000000316,
           0.0012250000000000316,
           0.0012250000000000316,
           0.0012250000000000316,
           0.0012250000000000316,
           0.0012250000000000316,
           0.0012250000000000316,
           0.0012250000000000316,
           0.0012250000000000316,
           0.0012250000000000316,
           0.0012250000000000316,
           0.0012250000000000316,
           0.0012250000000000316,
           0.0012250000000000316,
           0.0012250000000000316,
           0.0012250000000000316,
           0.0012250000000000316,
           0.0012250000000000316,
           0.0012250000000000316,
           0.0012250000000000316,
           0.0012250000000000316,
           0.0012250000000000316,
           0.0012250000000000316,
           0.0012250000000000316,
           0.0012250000000000316,
           0.0012250000000000316,
           0.0008899999999998353,
           0.0008899999999998353,
           0.0008899999999998353,
           0.0008899999999998353,
           0.0008899999999998353,
           0.0008899999999998353,
           0.0008899999999998353,
           0.0008899999999998353,
           0.0008899999999998353,
           0.0008899999999998353,
           0.0008899999999998353,
           0.0008899999999998353,
           0.0008899999999998353,
           0.0008899999999998353,
           0.0008899999999998353,
           0.0008899999999998353,
           0.0008899999999998353,
           0.0008899999999998353,
           0.0008899999999998353,
           0.0008899999999998353,
           0.0008899999999998353,
           0.0008899999999998353,
           0.0008899999999998353,
           0.0008899999999998353,
           0.0008899999999998353,
           0.0008899999999998353,
           0.0008899999999998353,
           0.0008899999999998353,
           0.0008899999999998353,
           0.0008899999999998353,
           0.0008899999999998353,
           0.0008899999999998353,
           0.0008899999999998353,
           0.0008899999999998353,
           0.0008899999999998353,
           0.0008899999999998353,
           0.0008899999999998353,
           0.0008899999999998353,
           0.0008899999999998353,
           0.0008899999999998353,
           0.0008899999999998353,
           0.0008899999999998353,
           0.0008899999999998353,
           0.0008899999999998353,
           0.0008899999999998353,
           0.0008899999999998353,
           -0.0007550000000000612,
           -0.0007550000000000612,
           -0.0007550000000000612,
           -0.0007550000000000612,
           -0.0007550000000000612,
           -0.0007550000000000612,
           -0.0007550000000000612,
           -0.0007550000000000612,
           -0.0007550000000000612,
           -0.0007550000000000612,
           -0.0007550000000000612,
           -0.0007550000000000612,
           -0.0007550000000000612,
           -0.0007550000000000612,
           -0.0007550000000000612,
           -0.0007550000000000612,
           -0.0007550000000000612,
           -0.0007550000000000612,
           -0.0007550000000000612,
           -0.0007550000000000612,
           -0.0007550000000000612,
           -0.0007550000000000612,
           -0.0007550000000000612,
           -0.0007550000000000612,
           -0.0007550000000000612,
           -0.0007550000000000612,
           -0.0007550000000000612,
           -0.0007550000000000612,
           -0.0007550000000000612,
           -0.0007550000000000612,
           -0.0007550000000000612,
           -0.0007550000000000612,
           -0.0007550000000000612,
           -0.0007550000000000612,
           -0.0007550000000000612,
           -0.0007550000000000612,
           -0.0007550000000000612,
           -0.0007550000000000612,
           -0.0007550000000000612,
           -0.0007550000000000612,
           -0.0007550000000000612,
           -0.0007550000000000612,
           -0.0007550000000000612,
           -0.0007550000000000612,
           -0.0007550000000000612,
           -0.0007550000000000612,
           -0.00018999999999991246,
           -0.00018999999999991246,
           -0.00018999999999991246,
           -0.00018999999999991246,
           -0.00018999999999991246,
           -0.00018999999999991246,
           -0.00018999999999991246,
           -0.00018999999999991246,
           -0.00018999999999991246,
           -0.00018999999999991246,
           -0.00018999999999991246,
           -0.00018999999999991246,
           -0.00018999999999991246,
           -0.00018999999999991246,
           -0.00018999999999991246,
           -0.00018999999999991246,
           -0.00018999999999991246,
           -0.00018999999999991246,
           -0.00018999999999991246,
           -0.00018999999999991246,
           -0.00018999999999991246,
           -0.00018999999999991246,
           -0.00018999999999991246,
           -0.00018999999999991246,
           -0.00018999999999991246,
           -0.00018999999999991246,
           -0.00018999999999991246,
           -0.00018999999999991246,
           -0.00018999999999991246,
           -0.00018999999999991246,
           -0.00018999999999991246,
           -0.00018999999999991246,
           -0.00018999999999991246,
           -0.00018999999999991246,
           -0.00018999999999991246,
           -0.00018999999999991246,
           -0.00018999999999991246,
           -0.00018999999999991246,
           -0.00018999999999991246,
           -0.00018999999999991246,
           -0.00018999999999991246,
           -0.00018999999999991246,
           -0.00018999999999991246,
           -0.00018999999999991246,
           -0.00018999999999991246,
           -0.00018999999999991246,
           -0.00018999999999991246,
           -0.00018999999999991246,
           -0.00018999999999991246,
           -0.00018999999999991246,
           -0.00018999999999991246,
           -0.00018999999999991246,
           -0.00018999999999991246,
           -0.00018999999999991246,
           -0.00018999999999991246,
           -0.00018999999999991246,
           -0.00018999999999991246,
           -0.00018999999999991246,
           -0.00018999999999991246,
           -0.00018999999999991246,
           -0.00018999999999991246,
           -0.00018999999999991246,
           -0.00018999999999991246,
           -0.00018999999999991246,
           -0.00018999999999991246,
           -0.00018999999999991246,
           -0.00018999999999991246,
           -0.00018999999999991246,
           -0.00018999999999991246,
           -0.00018999999999991246,
           -0.00018999999999991246,
           -0.00018999999999991246,
           -0.00018999999999991246,
           -0.00018999999999991246,
           -0.00018999999999991246,
           -0.00018999999999991246,
           -0.00018999999999991246,
           -0.00018999999999991246,
           -0.00018999999999991246,
           -0.00018999999999991246,
           -0.00018999999999991246,
           -0.00018999999999991246,
           -0.00018999999999991246,
           -0.00018999999999991246,
           -0.00018999999999991246,
           -0.00018999999999991246,
           -0.00018999999999991246,
           -0.00018999999999991246,
           -0.00018999999999991246,
           -0.00018999999999991246,
           -0.00018999999999991246,
           -0.00018999999999991246,
           -0.00018999999999991246,
           -0.00018999999999991246,
           -0.00018999999999991246,
           -0.00018999999999991246,
           -0.00018999999999991246,
           -0.00018999999999991246,
           -0.00018999999999991246,
           -0.00018999999999991246,
           -0.00018999999999991246,
           -0.00018999999999991246,
           -0.00018999999999991246,
           -0.00018999999999991246,
           -0.00018999999999991246,
           -0.00018999999999991246,
           -0.00018999999999991246,
           -0.00018999999999991246,
           -0.00018999999999991246,
           -0.00018999999999991246,
           -0.00018999999999991246,
           -0.00018999999999991246,
           -0.00018999999999991246,
           -0.00018999999999991246,
           -0.00018999999999991246,
           -0.00018999999999991246,
           -0.00018999999999991246,
           -0.00018999999999991246,
           -0.00018999999999991246,
           -0.00018999999999991246,
           -0.00018999999999991246,
           -0.00018999999999991246,
           -0.00018999999999991246,
           -0.00018999999999991246,
           -0.00018999999999991246,
           -0.00018999999999991246,
           -0.00018999999999991246,
           -0.00018999999999991246,
           -0.00018999999999991246,
           -0.00018999999999991246,
           -0.00018999999999991246,
           -0.00018999999999991246,
           -0.00018999999999991246,
           -0.00018999999999991246,
           -0.00018999999999991246,
           -0.00018999999999991246,
           -0.00018999999999991246,
           -0.00018999999999991246,
           -0.00018999999999991246,
           -0.00018999999999991246,
           -0.00018999999999991246,
           -0.00018999999999991246,
           -0.00018999999999991246,
           -0.00018999999999991246,
           -0.00018999999999991246,
           -0.00018999999999991246,
           -0.00018999999999991246,
           -0.00018999999999991246,
           -0.00018999999999991246,
           -0.00018999999999991246,
           -0.00018999999999991246,
           -0.00018999999999991246,
           -0.00018999999999991246,
           -0.00018999999999991246,
           -0.00018999999999991246,
           -0.00018999999999991246,
           -0.00018999999999991246,
           -0.00018999999999991246,
           -0.00018999999999991246,
           -0.00018999999999991246,
           -0.00018999999999991246,
           -0.00018999999999991246,
           -0.00018999999999991246,
           -0.00018999999999991246,
           -0.00018999999999991246,
           -0.00018999999999991246,
           -0.00018999999999991246,
           -0.00018999999999991246,
           -0.00018999999999991246,
           -0.00018999999999991246,
           -0.00018999999999991246,
           -0.00018999999999991246,
           -0.00018999999999991246,
           -0.00018999999999991246,
           -0.00018999999999991246,
           -0.00018999999999991246,
           -0.00018999999999991246,
           -0.00018999999999991246,
           -0.00018999999999991246,
           -0.00018999999999991246,
           -0.00018999999999991246,
           -0.00018999999999991246,
           -0.00018999999999991246,
           -0.00018999999999991246,
           -0.00018999999999991246,
           -0.00018999999999991246,
           -0.00018999999999991246,
           -0.00018999999999991246,
           -0.00018999999999991246,
           -0.00018999999999991246,
           -0.00018999999999991246,
           -0.00018999999999991246,
           -0.00018999999999991246,
           -0.00018999999999991246,
           -0.00018999999999991246,
           -0.00018999999999991246,
           -0.00018999999999991246,
           -0.00018999999999991246,
           -0.00018999999999991246,
           -0.00018999999999991246,
           -0.00018999999999991246,
           -0.00018999999999991246,
           -0.00018999999999991246,
           -0.00018999999999991246,
           -0.00018999999999991246,
           -0.00018999999999991246,
           -0.00018999999999991246,
           -0.00018999999999991246,
           -0.00018999999999991246,
           -0.00018999999999991246,
           -0.00018999999999991246,
           -0.00018999999999991246,
           -0.00018999999999991246,
           -0.00018999999999991246,
           -0.00018999999999991246,
           -0.00018999999999991246,
           -0.00018999999999991246,
           -0.00018999999999991246,
           -0.00018999999999991246,
           -0.00018999999999991246,
           -0.00018999999999991246,
           -0.00018999999999991246,
           -0.00018999999999991246,
           -0.00018999999999991246,
           -0.00018999999999991246,
           -0.00018999999999991246,
           -0.00018999999999991246,
           -0.00018999999999991246,
           -0.00018999999999991246,
           -0.00018999999999991246,
           -0.00018999999999991246,
           -0.00018999999999991246,
           -0.00018999999999991246,
           -0.00018999999999991246,
           -0.00018999999999991246,
           -0.00018999999999991246,
           -0.00018999999999991246,
           -0.00018999999999991246,
           -0.00018999999999991246,
           -0.00018999999999991246,
           -0.00018999999999991246,
           -0.00018999999999991246,
           -0.00018999999999991246,
           -0.00018999999999991246,
           -0.00018999999999991246,
           -0.00018999999999991246,
           -0.00018999999999991246,
           -0.00018999999999991246,
           -0.00018999999999991246,
           -0.00018999999999991246,
           -0.00018999999999991246,
           -0.00018999999999991246,
           -0.00018999999999991246,
           -0.00018999999999991246,
           -0.00018999999999991246,
           -0.00018999999999991246,
           -0.00018999999999991246,
           -0.00018999999999991246,
           -0.00018999999999991246,
           -0.00018999999999991246,
           -0.00018999999999991246,
           -0.00018999999999991246,
           -0.00018999999999991246,
           -0.00018999999999991246,
           -0.00018999999999991246,
           -0.00018999999999991246,
           -0.00018999999999991246,
           -0.00018999999999991246,
           -0.00018999999999991246,
           -0.00018999999999991246,
           -0.00018999999999991246,
           -0.00018999999999991246,
           -0.00018999999999991246,
           -0.00018999999999991246,
           -0.00018999999999991246,
           -0.00018999999999991246,
           0.000005000000000032756,
           0.000005000000000032756,
           0.000005000000000032756,
           0.000005000000000032756,
           0.000005000000000032756,
           0.000005000000000032756,
           0.000005000000000032756,
           0.000005000000000032756,
           0.000005000000000032756,
           0.000005000000000032756,
           0.000005000000000032756,
           0.000005000000000032756,
           0.000005000000000032756,
           0.000005000000000032756,
           0.000005000000000032756,
           0.000005000000000032756,
           0.000005000000000032756,
           0.000005000000000032756,
           0.000005000000000032756,
           0.000005000000000032756,
           0.000005000000000032756,
           0.000005000000000032756,
           0.000005000000000032756,
           0.000005000000000032756,
           0.000005000000000032756,
           0.000005000000000032756,
           0.000005000000000032756,
           0.000005000000000032756,
           0.000005000000000032756,
           0.000005000000000032756,
           0.000005000000000032756,
           0.000005000000000032756,
           0.000005000000000032756,
           0.000005000000000032756,
           0.000005000000000032756,
           0.000005000000000032756,
           0.000005000000000032756,
           0.000005000000000032756,
           0.000005000000000032756,
           0.000005000000000032756,
           0.000005000000000032756,
           0.000005000000000032756,
           0.000005000000000032756,
           0.000005000000000032756,
           0.000005000000000032756,
           0.000005000000000032756,
           0.000005000000000032756,
           0.000005000000000032756,
           0.000005000000000032756,
           0.000005000000000032756,
           0.000005000000000032756,
           0.000005000000000032756,
           0.000005000000000032756,
           0.000005000000000032756,
           0.000005000000000032756,
           0.000005000000000032756,
           0.000005000000000032756,
           0.000005000000000032756,
           0.000005000000000032756,
           0.000005000000000032756,
           0.000005000000000032756,
           0.000005000000000032756,
           0.000005000000000032756,
           0.000005000000000032756,
           0.000005000000000032756,
           0.000005000000000032756,
           0.000005000000000032756,
           0.000005000000000032756,
           0.000005000000000032756,
           0.000005000000000032756,
           0.000005000000000032756,
           0.000005000000000032756,
           0.000005000000000032756,
           0.000005000000000032756,
           0.000005000000000032756,
           0.000005000000000032756,
           0.000005000000000032756,
           0.000005000000000032756,
           0.000005000000000032756,
           0.000005000000000032756,
           0.000005000000000032756,
           0.000005000000000032756,
           0.000005000000000032756,
           0.000005000000000032756,
           0.000005000000000032756,
           0.000005000000000032756,
           0.000005000000000032756,
           0.000005000000000032756,
           0.000005000000000032756,
           0.000005000000000032756,
           0.000005000000000032756,
           0.000005000000000032756,
           0.000005000000000032756,
           0.000005000000000032756,
           0.000005000000000032756,
           0.000005000000000032756,
           0.000005000000000032756,
           0.000005000000000032756,
           0.000005000000000032756,
           0.000005000000000032756,
           0.000005000000000032756,
           0.000005000000000032756,
           0.000005000000000032756,
           0.000005000000000032756,
           0.000005000000000032756,
           0.000005000000000032756,
           0.000005000000000032756,
           0.000005000000000032756,
           0.000005000000000032756,
           0.000005000000000032756,
           0.000005000000000032756,
           0.000005000000000032756,
           0.000005000000000032756,
           0.000005000000000032756,
           0.000005000000000032756,
           0.000005000000000032756,
           0.000005000000000032756,
           0.000005000000000032756,
           0.000005000000000032756,
           0.000005000000000032756,
           0.000005000000000032756,
           0.000005000000000032756,
           0.000005000000000032756,
           0.000005000000000032756,
           0.000005000000000032756,
           0.000005000000000032756,
           0.000005000000000032756,
           0.000005000000000032756,
           0.000005000000000032756,
           0.000005000000000032756,
           0.000005000000000032756,
           0.000005000000000032756,
           0.000005000000000032756,
           0.000005000000000032756,
           0.000005000000000032756,
           0.000005000000000032756,
           0.000005000000000032756,
           0.000005000000000032756,
           0.000005000000000032756,
           0.000005000000000032756,
           0.000005000000000032756,
           0.000005000000000032756,
           0.000005000000000032756,
           0.000005000000000032756,
           0.000005000000000032756,
           0.000005000000000032756,
           0.000005000000000032756,
           0.000005000000000032756,
           0.000005000000000032756,
           0.000005000000000032756,
           0.000005000000000032756,
           0.000005000000000032756,
           0.000005000000000032756,
           0.000005000000000032756,
           0.000005000000000032756,
           0.000005000000000032756,
           0.000005000000000032756,
           0.000005000000000032756,
           0.000005000000000032756,
           0.000005000000000032756,
           0.000005000000000032756,
           0.000005000000000032756,
           0.000005000000000032756,
           0.000005000000000032756,
           0.000005000000000032756,
           0.000005000000000032756,
           0.000005000000000032756,
           0.000005000000000032756,
           0.000005000000000032756,
           0.000005000000000032756,
           0.000005000000000032756,
           0.000005000000000032756,
           0.000005000000000032756,
           0.000005000000000032756,
           0.000005000000000032756,
           0.000005000000000032756,
           0.000005000000000032756,
           0.000005000000000032756,
           0.000005000000000032756,
           0.000005000000000032756,
           0.000005000000000032756,
           0.000005000000000032756,
           0.000005000000000032756,
           0.000005000000000032756,
           0.000005000000000032756,
           0.000005000000000032756,
           0.000005000000000032756,
           0.000005000000000032756,
           0.000005000000000032756,
           0.000005000000000032756,
           0.000005000000000032756,
           0.000005000000000032756,
           0.000005000000000032756,
           0.000005000000000032756,
           0.000005000000000032756,
           0.000005000000000032756,
           0.000005000000000032756,
           0.000005000000000032756,
           0.000005000000000032756,
           0.000005000000000032756,
           0.000005000000000032756,
           0.000005000000000032756,
           0.000005000000000032756,
           0.000005000000000032756,
           0.000005000000000032756,
           0.000005000000000032756,
           0.000005000000000032756,
           0.000005000000000032756,
           0.000005000000000032756,
           0.000005000000000032756,
           0.000005000000000032756,
           0.000005000000000032756,
           0.000005000000000032756,
           0.000005000000000032756,
           0.000005000000000032756,
           0.000005000000000032756,
           0.000005000000000032756,
           0.000005000000000032756,
           0.000005000000000032756,
           0.000005000000000032756,
           0.000005000000000032756,
           0.000005000000000032756,
           0.000005000000000032756,
           0.000005000000000032756,
           0.000005000000000032756,
           0.000005000000000032756,
           0.000005000000000032756,
           0.000005000000000032756,
           0.000005000000000032756,
           0.000005000000000032756,
           0.000005000000000032756,
           0.000005000000000032756,
           0.000005000000000032756,
           0.000005000000000032756,
           0.000005000000000032756,
           0.000005000000000032756,
           0.000005000000000032756,
           0.000005000000000032756,
           0.000005000000000032756,
           0.000005000000000032756,
           0.000005000000000032756,
           0.000005000000000032756,
           0.000005000000000032756,
           0.000005000000000032756,
           0.000005000000000032756,
           0.000005000000000032756,
           0.000005000000000032756,
           0.000005000000000032756,
           0.000005000000000032756,
           0.000005000000000032756,
           0.000005000000000032756,
           0.000005000000000032756,
           0.000005000000000032756,
           0.000005000000000032756,
           0.000005000000000032756,
           0.000005000000000032756,
           0.000005000000000032756,
           0.000005000000000032756,
           0.000005000000000032756,
           0.000005000000000032756,
           0.000005000000000032756,
           0.000005000000000032756,
           0.000005000000000032756,
           0.000005000000000032756,
           0.000005000000000032756,
           0.000005000000000032756,
           0.000005000000000032756,
           0.000005000000000032756,
           0.000005000000000032756,
           0.000005000000000032756,
           0.000005000000000032756,
           0.000005000000000032756,
           0.000005000000000032756,
           0.000005000000000032756,
           0.000005000000000032756,
           0.000005000000000032756
          ],
          "coloraxis": "coloraxis",
          "symbol": "circle"
         },
         "mode": "markers",
         "name": "",
         "scene": "scene",
         "showlegend": false,
         "type": "scatter3d",
         "x": [
          0.005,
          0.005,
          0.005,
          0.005,
          0.005,
          0.005,
          0.005,
          0.005,
          0.005,
          0.005,
          0.005,
          0.005,
          0.005,
          0.005,
          0.005,
          0.005,
          0.005,
          0.005,
          0.005,
          0.005,
          0.005,
          0.005,
          0.005,
          0.005,
          0.005,
          0.005,
          0.005,
          0.005,
          0.005,
          0.005,
          0.005,
          0.005,
          0.005,
          0.005,
          0.005,
          0.005,
          0.005,
          0.005,
          0.005,
          0.005,
          0.005,
          0.005,
          0.005,
          0.005,
          0.005,
          0.005,
          0.006,
          0.006,
          0.006,
          0.006,
          0.006,
          0.006,
          0.006,
          0.006,
          0.006,
          0.006,
          0.006,
          0.006,
          0.006,
          0.006,
          0.006,
          0.006,
          0.006,
          0.006,
          0.006,
          0.006,
          0.006,
          0.006,
          0.006,
          0.006,
          0.006,
          0.006,
          0.006,
          0.006,
          0.006,
          0.006,
          0.006,
          0.006,
          0.006,
          0.006,
          0.006,
          0.006,
          0.006,
          0.006,
          0.006,
          0.006,
          0.006,
          0.006,
          0.006,
          0.006,
          0.006,
          0.006,
          0.007,
          0.007,
          0.007,
          0.007,
          0.007,
          0.007,
          0.007,
          0.007,
          0.007,
          0.007,
          0.007,
          0.007,
          0.007,
          0.007,
          0.007,
          0.007,
          0.007,
          0.007,
          0.007,
          0.007,
          0.007,
          0.007,
          0.007,
          0.007,
          0.007,
          0.007,
          0.007,
          0.007,
          0.007,
          0.007,
          0.007,
          0.007,
          0.007,
          0.007,
          0.007,
          0.007,
          0.007,
          0.007,
          0.007,
          0.007,
          0.007,
          0.007,
          0.007,
          0.007,
          0.007,
          0.007,
          0.008,
          0.008,
          0.008,
          0.008,
          0.008,
          0.008,
          0.008,
          0.008,
          0.008,
          0.008,
          0.008,
          0.008,
          0.008,
          0.008,
          0.008,
          0.008,
          0.008,
          0.008,
          0.008,
          0.008,
          0.008,
          0.008,
          0.008,
          0.008,
          0.008,
          0.008,
          0.008,
          0.008,
          0.008,
          0.008,
          0.008,
          0.008,
          0.008,
          0.008,
          0.008,
          0.008,
          0.008,
          0.008,
          0.008,
          0.008,
          0.008,
          0.008,
          0.008,
          0.008,
          0.008,
          0.008,
          0.009000000000000001,
          0.009000000000000001,
          0.009000000000000001,
          0.009000000000000001,
          0.009000000000000001,
          0.009000000000000001,
          0.009000000000000001,
          0.009000000000000001,
          0.009000000000000001,
          0.009000000000000001,
          0.009000000000000001,
          0.009000000000000001,
          0.009000000000000001,
          0.009000000000000001,
          0.009000000000000001,
          0.009000000000000001,
          0.009000000000000001,
          0.009000000000000001,
          0.009000000000000001,
          0.009000000000000001,
          0.009000000000000001,
          0.009000000000000001,
          0.009000000000000001,
          0.009000000000000001,
          0.009000000000000001,
          0.009000000000000001,
          0.009000000000000001,
          0.009000000000000001,
          0.009000000000000001,
          0.009000000000000001,
          0.009000000000000001,
          0.009000000000000001,
          0.009000000000000001,
          0.009000000000000001,
          0.009000000000000001,
          0.009000000000000001,
          0.009000000000000001,
          0.009000000000000001,
          0.009000000000000001,
          0.009000000000000001,
          0.009000000000000001,
          0.009000000000000001,
          0.009000000000000001,
          0.009000000000000001,
          0.009000000000000001,
          0.009000000000000001,
          0.01,
          0.01,
          0.01,
          0.01,
          0.01,
          0.01,
          0.01,
          0.01,
          0.01,
          0.01,
          0.01,
          0.01,
          0.01,
          0.01,
          0.01,
          0.01,
          0.01,
          0.01,
          0.01,
          0.01,
          0.01,
          0.01,
          0.01,
          0.01,
          0.01,
          0.01,
          0.01,
          0.01,
          0.01,
          0.01,
          0.01,
          0.01,
          0.01,
          0.01,
          0.01,
          0.01,
          0.01,
          0.01,
          0.01,
          0.01,
          0.01,
          0.01,
          0.01,
          0.01,
          0.01,
          0.01,
          0.011,
          0.011,
          0.011,
          0.011,
          0.011,
          0.011,
          0.011,
          0.011,
          0.011,
          0.011,
          0.011,
          0.011,
          0.011,
          0.011,
          0.011,
          0.011,
          0.011,
          0.011,
          0.011,
          0.011,
          0.011,
          0.011,
          0.011,
          0.011,
          0.011,
          0.011,
          0.011,
          0.011,
          0.011,
          0.011,
          0.011,
          0.011,
          0.011,
          0.011,
          0.011,
          0.011,
          0.011,
          0.011,
          0.011,
          0.011,
          0.011,
          0.011,
          0.011,
          0.011,
          0.011,
          0.011,
          0.012,
          0.012,
          0.012,
          0.012,
          0.012,
          0.012,
          0.012,
          0.012,
          0.012,
          0.012,
          0.012,
          0.012,
          0.012,
          0.012,
          0.012,
          0.012,
          0.012,
          0.012,
          0.012,
          0.012,
          0.012,
          0.012,
          0.012,
          0.012,
          0.012,
          0.012,
          0.012,
          0.012,
          0.012,
          0.012,
          0.012,
          0.012,
          0.012,
          0.012,
          0.012,
          0.012,
          0.012,
          0.012,
          0.012,
          0.012,
          0.012,
          0.012,
          0.012,
          0.012,
          0.012,
          0.012,
          0.013000000000000001,
          0.013000000000000001,
          0.013000000000000001,
          0.013000000000000001,
          0.013000000000000001,
          0.013000000000000001,
          0.013000000000000001,
          0.013000000000000001,
          0.013000000000000001,
          0.013000000000000001,
          0.013000000000000001,
          0.013000000000000001,
          0.013000000000000001,
          0.013000000000000001,
          0.013000000000000001,
          0.013000000000000001,
          0.013000000000000001,
          0.013000000000000001,
          0.013000000000000001,
          0.013000000000000001,
          0.013000000000000001,
          0.013000000000000001,
          0.013000000000000001,
          0.013000000000000001,
          0.013000000000000001,
          0.013000000000000001,
          0.013000000000000001,
          0.013000000000000001,
          0.013000000000000001,
          0.013000000000000001,
          0.013000000000000001,
          0.013000000000000001,
          0.013000000000000001,
          0.013000000000000001,
          0.013000000000000001,
          0.013000000000000001,
          0.013000000000000001,
          0.013000000000000001,
          0.013000000000000001,
          0.013000000000000001,
          0.013000000000000001,
          0.013000000000000001,
          0.013000000000000001,
          0.013000000000000001,
          0.013000000000000001,
          0.013000000000000001,
          0.014,
          0.014,
          0.014,
          0.014,
          0.014,
          0.014,
          0.014,
          0.014,
          0.014,
          0.014,
          0.014,
          0.014,
          0.014,
          0.014,
          0.014,
          0.014,
          0.014,
          0.014,
          0.014,
          0.014,
          0.014,
          0.014,
          0.014,
          0.014,
          0.014,
          0.014,
          0.014,
          0.014,
          0.014,
          0.014,
          0.014,
          0.014,
          0.014,
          0.014,
          0.014,
          0.014,
          0.014,
          0.014,
          0.014,
          0.014,
          0.014,
          0.014,
          0.014,
          0.014,
          0.014,
          0.014,
          0.015,
          0.015,
          0.015,
          0.015,
          0.015,
          0.015,
          0.015,
          0.015,
          0.015,
          0.015,
          0.015,
          0.015,
          0.015,
          0.015,
          0.015,
          0.015,
          0.015,
          0.015,
          0.015,
          0.015,
          0.015,
          0.015,
          0.015,
          0.015,
          0.015,
          0.015,
          0.015,
          0.015,
          0.015,
          0.015,
          0.015,
          0.015,
          0.015,
          0.015,
          0.015,
          0.015,
          0.015,
          0.015,
          0.015,
          0.015,
          0.015,
          0.015,
          0.015,
          0.015,
          0.015,
          0.015,
          0.016,
          0.016,
          0.016,
          0.016,
          0.016,
          0.016,
          0.016,
          0.016,
          0.016,
          0.016,
          0.016,
          0.016,
          0.016,
          0.016,
          0.016,
          0.016,
          0.016,
          0.016,
          0.016,
          0.016,
          0.016,
          0.016,
          0.016,
          0.016,
          0.016,
          0.016,
          0.016,
          0.016,
          0.016,
          0.016,
          0.016,
          0.016,
          0.016,
          0.016,
          0.016,
          0.016,
          0.016,
          0.016,
          0.016,
          0.016,
          0.016,
          0.016,
          0.016,
          0.016,
          0.016,
          0.016,
          0.017,
          0.017,
          0.017,
          0.017,
          0.017,
          0.017,
          0.017,
          0.017,
          0.017,
          0.017,
          0.017,
          0.017,
          0.017,
          0.017,
          0.017,
          0.017,
          0.017,
          0.017,
          0.017,
          0.017,
          0.017,
          0.017,
          0.017,
          0.017,
          0.017,
          0.017,
          0.017,
          0.017,
          0.017,
          0.017,
          0.017,
          0.017,
          0.017,
          0.017,
          0.017,
          0.017,
          0.017,
          0.017,
          0.017,
          0.017,
          0.017,
          0.017,
          0.017,
          0.017,
          0.017,
          0.017,
          0.018000000000000002,
          0.018000000000000002,
          0.018000000000000002,
          0.018000000000000002,
          0.018000000000000002,
          0.018000000000000002,
          0.018000000000000002,
          0.018000000000000002,
          0.018000000000000002,
          0.018000000000000002,
          0.018000000000000002,
          0.018000000000000002,
          0.018000000000000002,
          0.018000000000000002,
          0.018000000000000002,
          0.018000000000000002,
          0.018000000000000002,
          0.018000000000000002,
          0.018000000000000002,
          0.018000000000000002,
          0.018000000000000002,
          0.018000000000000002,
          0.018000000000000002,
          0.018000000000000002,
          0.018000000000000002,
          0.018000000000000002,
          0.018000000000000002,
          0.018000000000000002,
          0.018000000000000002,
          0.018000000000000002,
          0.018000000000000002,
          0.018000000000000002,
          0.018000000000000002,
          0.018000000000000002,
          0.018000000000000002,
          0.018000000000000002,
          0.018000000000000002,
          0.018000000000000002,
          0.018000000000000002,
          0.018000000000000002,
          0.018000000000000002,
          0.018000000000000002,
          0.018000000000000002,
          0.018000000000000002,
          0.018000000000000002,
          0.018000000000000002,
          0.019,
          0.019,
          0.019,
          0.019,
          0.019,
          0.019,
          0.019,
          0.019,
          0.019,
          0.019,
          0.019,
          0.019,
          0.019,
          0.019,
          0.019,
          0.019,
          0.019,
          0.019,
          0.019,
          0.019,
          0.019,
          0.019,
          0.019,
          0.019,
          0.019,
          0.019,
          0.019,
          0.019,
          0.019,
          0.019,
          0.019,
          0.019,
          0.019,
          0.019,
          0.019,
          0.019,
          0.019,
          0.019,
          0.019,
          0.019,
          0.019,
          0.019,
          0.019,
          0.019,
          0.019,
          0.019,
          0.02,
          0.02,
          0.02,
          0.02,
          0.02,
          0.02,
          0.02,
          0.02,
          0.02,
          0.02,
          0.02,
          0.02,
          0.02,
          0.02,
          0.02,
          0.02,
          0.02,
          0.02,
          0.02,
          0.02,
          0.02,
          0.02,
          0.02,
          0.02,
          0.02,
          0.02,
          0.02,
          0.02,
          0.02,
          0.02,
          0.02,
          0.02,
          0.02,
          0.02,
          0.02,
          0.02,
          0.02,
          0.02,
          0.02,
          0.02,
          0.02,
          0.02,
          0.02,
          0.02,
          0.02,
          0.02,
          0.021,
          0.021,
          0.021,
          0.021,
          0.021,
          0.021,
          0.021,
          0.021,
          0.021,
          0.021,
          0.021,
          0.021,
          0.021,
          0.021,
          0.021,
          0.021,
          0.021,
          0.021,
          0.021,
          0.021,
          0.021,
          0.021,
          0.021,
          0.021,
          0.021,
          0.021,
          0.021,
          0.021,
          0.021,
          0.021,
          0.021,
          0.021,
          0.021,
          0.021,
          0.021,
          0.021,
          0.021,
          0.021,
          0.021,
          0.021,
          0.021,
          0.021,
          0.021,
          0.021,
          0.021,
          0.021,
          0.022,
          0.022,
          0.022,
          0.022,
          0.022,
          0.022,
          0.022,
          0.022,
          0.022,
          0.022,
          0.022,
          0.022,
          0.022,
          0.022,
          0.022,
          0.022,
          0.022,
          0.022,
          0.022,
          0.022,
          0.022,
          0.022,
          0.022,
          0.022,
          0.022,
          0.022,
          0.022,
          0.022,
          0.022,
          0.022,
          0.022,
          0.022,
          0.022,
          0.022,
          0.022,
          0.022,
          0.022,
          0.022,
          0.022,
          0.022,
          0.022,
          0.022,
          0.022,
          0.022,
          0.022,
          0.022,
          0.023,
          0.023,
          0.023,
          0.023,
          0.023,
          0.023,
          0.023,
          0.023,
          0.023,
          0.023,
          0.023,
          0.023,
          0.023,
          0.023,
          0.023,
          0.023,
          0.023,
          0.023,
          0.023,
          0.023,
          0.023,
          0.023,
          0.023,
          0.023,
          0.023,
          0.023,
          0.023,
          0.023,
          0.023,
          0.023,
          0.023,
          0.023,
          0.023,
          0.023,
          0.023,
          0.023,
          0.023,
          0.023,
          0.023,
          0.023,
          0.023,
          0.023,
          0.023,
          0.023,
          0.023,
          0.023,
          0.024,
          0.024,
          0.024,
          0.024,
          0.024,
          0.024,
          0.024,
          0.024,
          0.024,
          0.024,
          0.024,
          0.024,
          0.024,
          0.024,
          0.024,
          0.024,
          0.024,
          0.024,
          0.024,
          0.024,
          0.024,
          0.024,
          0.024,
          0.024,
          0.024,
          0.024,
          0.024,
          0.024,
          0.024,
          0.024,
          0.024,
          0.024,
          0.024,
          0.024,
          0.024,
          0.024,
          0.024,
          0.024,
          0.024,
          0.024,
          0.024,
          0.024,
          0.024,
          0.024,
          0.024,
          0.024,
          0.025,
          0.025,
          0.025,
          0.025,
          0.025,
          0.025,
          0.025,
          0.025,
          0.025,
          0.025,
          0.025,
          0.025,
          0.025,
          0.025,
          0.025,
          0.025,
          0.025,
          0.025,
          0.025,
          0.025,
          0.025,
          0.025,
          0.025,
          0.025,
          0.025,
          0.025,
          0.025,
          0.025,
          0.025,
          0.025,
          0.025,
          0.025,
          0.025,
          0.025,
          0.025,
          0.025,
          0.025,
          0.025,
          0.025,
          0.025,
          0.025,
          0.025,
          0.025,
          0.025,
          0.025,
          0.025,
          0.026000000000000002,
          0.026000000000000002,
          0.026000000000000002,
          0.026000000000000002,
          0.026000000000000002,
          0.026000000000000002,
          0.026000000000000002,
          0.026000000000000002,
          0.026000000000000002,
          0.026000000000000002,
          0.026000000000000002,
          0.026000000000000002,
          0.026000000000000002,
          0.026000000000000002,
          0.026000000000000002,
          0.026000000000000002,
          0.026000000000000002,
          0.026000000000000002,
          0.026000000000000002,
          0.026000000000000002,
          0.026000000000000002,
          0.026000000000000002,
          0.026000000000000002,
          0.026000000000000002,
          0.026000000000000002,
          0.026000000000000002,
          0.026000000000000002,
          0.026000000000000002,
          0.026000000000000002,
          0.026000000000000002,
          0.026000000000000002,
          0.026000000000000002,
          0.026000000000000002,
          0.026000000000000002,
          0.026000000000000002,
          0.026000000000000002,
          0.026000000000000002,
          0.026000000000000002,
          0.026000000000000002,
          0.026000000000000002,
          0.026000000000000002,
          0.026000000000000002,
          0.026000000000000002,
          0.026000000000000002,
          0.026000000000000002,
          0.026000000000000002,
          0.027,
          0.027,
          0.027,
          0.027,
          0.027,
          0.027,
          0.027,
          0.027,
          0.027,
          0.027,
          0.027,
          0.027,
          0.027,
          0.027,
          0.027,
          0.027,
          0.027,
          0.027,
          0.027,
          0.027,
          0.027,
          0.027,
          0.027,
          0.027,
          0.027,
          0.027,
          0.027,
          0.027,
          0.027,
          0.027,
          0.027,
          0.027,
          0.027,
          0.027,
          0.027,
          0.027,
          0.027,
          0.027,
          0.027,
          0.027,
          0.027,
          0.027,
          0.027,
          0.027,
          0.027,
          0.027,
          0.028,
          0.028,
          0.028,
          0.028,
          0.028,
          0.028,
          0.028,
          0.028,
          0.028,
          0.028,
          0.028,
          0.028,
          0.028,
          0.028,
          0.028,
          0.028,
          0.028,
          0.028,
          0.028,
          0.028,
          0.028,
          0.028,
          0.028,
          0.028,
          0.028,
          0.028,
          0.028,
          0.028,
          0.028,
          0.028,
          0.028,
          0.028,
          0.028,
          0.028,
          0.028,
          0.028,
          0.028,
          0.028,
          0.028,
          0.028,
          0.028,
          0.028,
          0.028,
          0.028,
          0.028,
          0.028,
          0.029,
          0.029,
          0.029,
          0.029,
          0.029,
          0.029,
          0.029,
          0.029,
          0.029,
          0.029,
          0.029,
          0.029,
          0.029,
          0.029,
          0.029,
          0.029,
          0.029,
          0.029,
          0.029,
          0.029,
          0.029,
          0.029,
          0.029,
          0.029,
          0.029,
          0.029,
          0.029,
          0.029,
          0.029,
          0.029,
          0.029,
          0.029,
          0.029,
          0.029,
          0.029,
          0.029,
          0.029,
          0.029,
          0.029,
          0.029,
          0.029,
          0.029,
          0.029,
          0.029,
          0.029,
          0.029,
          0.03,
          0.03,
          0.03,
          0.03,
          0.03,
          0.03,
          0.03,
          0.03,
          0.03,
          0.03,
          0.03,
          0.03,
          0.03,
          0.03,
          0.03,
          0.03,
          0.03,
          0.03,
          0.03,
          0.03,
          0.03,
          0.03,
          0.03,
          0.03,
          0.03,
          0.03,
          0.03,
          0.03,
          0.03,
          0.03,
          0.03,
          0.03,
          0.03,
          0.03,
          0.03,
          0.03,
          0.03,
          0.03,
          0.03,
          0.03,
          0.03,
          0.03,
          0.03,
          0.03,
          0.03,
          0.03,
          0.031,
          0.031,
          0.031,
          0.031,
          0.031,
          0.031,
          0.031,
          0.031,
          0.031,
          0.031,
          0.031,
          0.031,
          0.031,
          0.031,
          0.031,
          0.031,
          0.031,
          0.031,
          0.031,
          0.031,
          0.031,
          0.031,
          0.031,
          0.031,
          0.031,
          0.031,
          0.031,
          0.031,
          0.031,
          0.031,
          0.031,
          0.031,
          0.031,
          0.031,
          0.031,
          0.031,
          0.031,
          0.031,
          0.031,
          0.031,
          0.031,
          0.031,
          0.031,
          0.031,
          0.031,
          0.031,
          0.032,
          0.032,
          0.032,
          0.032,
          0.032,
          0.032,
          0.032,
          0.032,
          0.032,
          0.032,
          0.032,
          0.032,
          0.032,
          0.032,
          0.032,
          0.032,
          0.032,
          0.032,
          0.032,
          0.032,
          0.032,
          0.032,
          0.032,
          0.032,
          0.032,
          0.032,
          0.032,
          0.032,
          0.032,
          0.032,
          0.032,
          0.032,
          0.032,
          0.032,
          0.032,
          0.032,
          0.032,
          0.032,
          0.032,
          0.032,
          0.032,
          0.032,
          0.032,
          0.032,
          0.032,
          0.032,
          0.033,
          0.033,
          0.033,
          0.033,
          0.033,
          0.033,
          0.033,
          0.033,
          0.033,
          0.033,
          0.033,
          0.033,
          0.033,
          0.033,
          0.033,
          0.033,
          0.033,
          0.033,
          0.033,
          0.033,
          0.033,
          0.033,
          0.033,
          0.033,
          0.033,
          0.033,
          0.033,
          0.033,
          0.033,
          0.033,
          0.033,
          0.033,
          0.033,
          0.033,
          0.033,
          0.033,
          0.033,
          0.033,
          0.033,
          0.033,
          0.033,
          0.033,
          0.033,
          0.033,
          0.033,
          0.033,
          0.034,
          0.034,
          0.034,
          0.034,
          0.034,
          0.034,
          0.034,
          0.034,
          0.034,
          0.034,
          0.034,
          0.034,
          0.034,
          0.034,
          0.034,
          0.034,
          0.034,
          0.034,
          0.034,
          0.034,
          0.034,
          0.034,
          0.034,
          0.034,
          0.034,
          0.034,
          0.034,
          0.034,
          0.034,
          0.034,
          0.034,
          0.034,
          0.034,
          0.034,
          0.034,
          0.034,
          0.034,
          0.034,
          0.034,
          0.034,
          0.034,
          0.034,
          0.034,
          0.034,
          0.034,
          0.034,
          0.035,
          0.035,
          0.035,
          0.035,
          0.035,
          0.035,
          0.035,
          0.035,
          0.035,
          0.035,
          0.035,
          0.035,
          0.035,
          0.035,
          0.035,
          0.035,
          0.035,
          0.035,
          0.035,
          0.035,
          0.035,
          0.035,
          0.035,
          0.035,
          0.035,
          0.035,
          0.035,
          0.035,
          0.035,
          0.035,
          0.035,
          0.035,
          0.035,
          0.035,
          0.035,
          0.035,
          0.035,
          0.035,
          0.035,
          0.035,
          0.035,
          0.035,
          0.035,
          0.035,
          0.035,
          0.035,
          0.036000000000000004,
          0.036000000000000004,
          0.036000000000000004,
          0.036000000000000004,
          0.036000000000000004,
          0.036000000000000004,
          0.036000000000000004,
          0.036000000000000004,
          0.036000000000000004,
          0.036000000000000004,
          0.036000000000000004,
          0.036000000000000004,
          0.036000000000000004,
          0.036000000000000004,
          0.036000000000000004,
          0.036000000000000004,
          0.036000000000000004,
          0.036000000000000004,
          0.036000000000000004,
          0.036000000000000004,
          0.036000000000000004,
          0.036000000000000004,
          0.036000000000000004,
          0.036000000000000004,
          0.036000000000000004,
          0.036000000000000004,
          0.036000000000000004,
          0.036000000000000004,
          0.036000000000000004,
          0.036000000000000004,
          0.036000000000000004,
          0.036000000000000004,
          0.036000000000000004,
          0.036000000000000004,
          0.036000000000000004,
          0.036000000000000004,
          0.036000000000000004,
          0.036000000000000004,
          0.036000000000000004,
          0.036000000000000004,
          0.036000000000000004,
          0.036000000000000004,
          0.036000000000000004,
          0.036000000000000004,
          0.036000000000000004,
          0.036000000000000004,
          0.037,
          0.037,
          0.037,
          0.037,
          0.037,
          0.037,
          0.037,
          0.037,
          0.037,
          0.037,
          0.037,
          0.037,
          0.037,
          0.037,
          0.037,
          0.037,
          0.037,
          0.037,
          0.037,
          0.037,
          0.037,
          0.037,
          0.037,
          0.037,
          0.037,
          0.037,
          0.037,
          0.037,
          0.037,
          0.037,
          0.037,
          0.037,
          0.037,
          0.037,
          0.037,
          0.037,
          0.037,
          0.037,
          0.037,
          0.037,
          0.037,
          0.037,
          0.037,
          0.037,
          0.037,
          0.037,
          0.038,
          0.038,
          0.038,
          0.038,
          0.038,
          0.038,
          0.038,
          0.038,
          0.038,
          0.038,
          0.038,
          0.038,
          0.038,
          0.038,
          0.038,
          0.038,
          0.038,
          0.038,
          0.038,
          0.038,
          0.038,
          0.038,
          0.038,
          0.038,
          0.038,
          0.038,
          0.038,
          0.038,
          0.038,
          0.038,
          0.038,
          0.038,
          0.038,
          0.038,
          0.038,
          0.038,
          0.038,
          0.038,
          0.038,
          0.038,
          0.038,
          0.038,
          0.038,
          0.038,
          0.038,
          0.038,
          0.039,
          0.039,
          0.039,
          0.039,
          0.039,
          0.039,
          0.039,
          0.039,
          0.039,
          0.039,
          0.039,
          0.039,
          0.039,
          0.039,
          0.039,
          0.039,
          0.039,
          0.039,
          0.039,
          0.039,
          0.039,
          0.039,
          0.039,
          0.039,
          0.039,
          0.039,
          0.039,
          0.039,
          0.039,
          0.039,
          0.039,
          0.039,
          0.039,
          0.039,
          0.039,
          0.039,
          0.039,
          0.039,
          0.039,
          0.039,
          0.039,
          0.039,
          0.039,
          0.039,
          0.039,
          0.039,
          0.04,
          0.04,
          0.04,
          0.04,
          0.04,
          0.04,
          0.04,
          0.04,
          0.04,
          0.04,
          0.04,
          0.04,
          0.04,
          0.04,
          0.04,
          0.04,
          0.04,
          0.04,
          0.04,
          0.04,
          0.04,
          0.04,
          0.04,
          0.04,
          0.04,
          0.04,
          0.04,
          0.04,
          0.04,
          0.04,
          0.04,
          0.04,
          0.04,
          0.04,
          0.04,
          0.04,
          0.04,
          0.04,
          0.04,
          0.04,
          0.04,
          0.04,
          0.04,
          0.04,
          0.04,
          0.04,
          0.041,
          0.041,
          0.041,
          0.041,
          0.041,
          0.041,
          0.041,
          0.041,
          0.041,
          0.041,
          0.041,
          0.041,
          0.041,
          0.041,
          0.041,
          0.041,
          0.041,
          0.041,
          0.041,
          0.041,
          0.041,
          0.041,
          0.041,
          0.041,
          0.041,
          0.041,
          0.041,
          0.041,
          0.041,
          0.041,
          0.041,
          0.041,
          0.041,
          0.041,
          0.041,
          0.041,
          0.041,
          0.041,
          0.041,
          0.041,
          0.041,
          0.041,
          0.041,
          0.041,
          0.041,
          0.041,
          0.042,
          0.042,
          0.042,
          0.042,
          0.042,
          0.042,
          0.042,
          0.042,
          0.042,
          0.042,
          0.042,
          0.042,
          0.042,
          0.042,
          0.042,
          0.042,
          0.042,
          0.042,
          0.042,
          0.042,
          0.042,
          0.042,
          0.042,
          0.042,
          0.042,
          0.042,
          0.042,
          0.042,
          0.042,
          0.042,
          0.042,
          0.042,
          0.042,
          0.042,
          0.042,
          0.042,
          0.042,
          0.042,
          0.042,
          0.042,
          0.042,
          0.042,
          0.042,
          0.042,
          0.042,
          0.042,
          0.043000000000000003,
          0.043000000000000003,
          0.043000000000000003,
          0.043000000000000003,
          0.043000000000000003,
          0.043000000000000003,
          0.043000000000000003,
          0.043000000000000003,
          0.043000000000000003,
          0.043000000000000003,
          0.043000000000000003,
          0.043000000000000003,
          0.043000000000000003,
          0.043000000000000003,
          0.043000000000000003,
          0.043000000000000003,
          0.043000000000000003,
          0.043000000000000003,
          0.043000000000000003,
          0.043000000000000003,
          0.043000000000000003,
          0.043000000000000003,
          0.043000000000000003,
          0.043000000000000003,
          0.043000000000000003,
          0.043000000000000003,
          0.043000000000000003,
          0.043000000000000003,
          0.043000000000000003,
          0.043000000000000003,
          0.043000000000000003,
          0.043000000000000003,
          0.043000000000000003,
          0.043000000000000003,
          0.043000000000000003,
          0.043000000000000003,
          0.043000000000000003,
          0.043000000000000003,
          0.043000000000000003,
          0.043000000000000003,
          0.043000000000000003,
          0.043000000000000003,
          0.043000000000000003,
          0.043000000000000003,
          0.043000000000000003,
          0.043000000000000003,
          0.044,
          0.044,
          0.044,
          0.044,
          0.044,
          0.044,
          0.044,
          0.044,
          0.044,
          0.044,
          0.044,
          0.044,
          0.044,
          0.044,
          0.044,
          0.044,
          0.044,
          0.044,
          0.044,
          0.044,
          0.044,
          0.044,
          0.044,
          0.044,
          0.044,
          0.044,
          0.044,
          0.044,
          0.044,
          0.044,
          0.044,
          0.044,
          0.044,
          0.044,
          0.044,
          0.044,
          0.044,
          0.044,
          0.044,
          0.044,
          0.044,
          0.044,
          0.044,
          0.044,
          0.044,
          0.044,
          0.045,
          0.045,
          0.045,
          0.045,
          0.045,
          0.045,
          0.045,
          0.045,
          0.045,
          0.045,
          0.045,
          0.045,
          0.045,
          0.045,
          0.045,
          0.045,
          0.045,
          0.045,
          0.045,
          0.045,
          0.045,
          0.045,
          0.045,
          0.045,
          0.045,
          0.045,
          0.045,
          0.045,
          0.045,
          0.045,
          0.045,
          0.045,
          0.045,
          0.045,
          0.045,
          0.045,
          0.045,
          0.045,
          0.045,
          0.045,
          0.045,
          0.045,
          0.045,
          0.045,
          0.045,
          0.045,
          0.046,
          0.046,
          0.046,
          0.046,
          0.046,
          0.046,
          0.046,
          0.046,
          0.046,
          0.046,
          0.046,
          0.046,
          0.046,
          0.046,
          0.046,
          0.046,
          0.046,
          0.046,
          0.046,
          0.046,
          0.046,
          0.046,
          0.046,
          0.046,
          0.046,
          0.046,
          0.046,
          0.046,
          0.046,
          0.046,
          0.046,
          0.046,
          0.046,
          0.046,
          0.046,
          0.046,
          0.046,
          0.046,
          0.046,
          0.046,
          0.046,
          0.046,
          0.046,
          0.046,
          0.046,
          0.046,
          0.047,
          0.047,
          0.047,
          0.047,
          0.047,
          0.047,
          0.047,
          0.047,
          0.047,
          0.047,
          0.047,
          0.047,
          0.047,
          0.047,
          0.047,
          0.047,
          0.047,
          0.047,
          0.047,
          0.047,
          0.047,
          0.047,
          0.047,
          0.047,
          0.047,
          0.047,
          0.047,
          0.047,
          0.047,
          0.047,
          0.047,
          0.047,
          0.047,
          0.047,
          0.047,
          0.047,
          0.047,
          0.047,
          0.047,
          0.047,
          0.047,
          0.047,
          0.047,
          0.047,
          0.047,
          0.047,
          0.048,
          0.048,
          0.048,
          0.048,
          0.048,
          0.048,
          0.048,
          0.048,
          0.048,
          0.048,
          0.048,
          0.048,
          0.048,
          0.048,
          0.048,
          0.048,
          0.048,
          0.048,
          0.048,
          0.048,
          0.048,
          0.048,
          0.048,
          0.048,
          0.048,
          0.048,
          0.048,
          0.048,
          0.048,
          0.048,
          0.048,
          0.048,
          0.048,
          0.048,
          0.048,
          0.048,
          0.048,
          0.048,
          0.048,
          0.048,
          0.048,
          0.048,
          0.048,
          0.048,
          0.048,
          0.048,
          0.049,
          0.049,
          0.049,
          0.049,
          0.049,
          0.049,
          0.049,
          0.049,
          0.049,
          0.049,
          0.049,
          0.049,
          0.049,
          0.049,
          0.049,
          0.049,
          0.049,
          0.049,
          0.049,
          0.049,
          0.049,
          0.049,
          0.049,
          0.049,
          0.049,
          0.049,
          0.049,
          0.049,
          0.049,
          0.049,
          0.049,
          0.049,
          0.049,
          0.049,
          0.049,
          0.049,
          0.049,
          0.049,
          0.049,
          0.049,
          0.049,
          0.049,
          0.049,
          0.049,
          0.049,
          0.049,
          0.05,
          0.05,
          0.05,
          0.05,
          0.05,
          0.05,
          0.05,
          0.05,
          0.05,
          0.05,
          0.05,
          0.05,
          0.05,
          0.05,
          0.05,
          0.05,
          0.05,
          0.05,
          0.05,
          0.05,
          0.05,
          0.05,
          0.05,
          0.05,
          0.05,
          0.05,
          0.05,
          0.05,
          0.05,
          0.05,
          0.05,
          0.05,
          0.05,
          0.05,
          0.05,
          0.05,
          0.05,
          0.05,
          0.05,
          0.05,
          0.05,
          0.05,
          0.05,
          0.05,
          0.05,
          0.05
         ],
         "y": [
          0.005,
          0.006,
          0.007,
          0.008,
          0.009000000000000001,
          0.01,
          0.011,
          0.012,
          0.013000000000000001,
          0.014,
          0.015,
          0.016,
          0.017,
          0.018000000000000002,
          0.019,
          0.02,
          0.021,
          0.022,
          0.023,
          0.024,
          0.025,
          0.026000000000000002,
          0.027,
          0.028,
          0.029,
          0.03,
          0.031,
          0.032,
          0.033,
          0.034,
          0.035,
          0.036000000000000004,
          0.037,
          0.038,
          0.039,
          0.04,
          0.041,
          0.042,
          0.043000000000000003,
          0.044,
          0.045,
          0.046,
          0.047,
          0.048,
          0.049,
          0.05,
          0.005,
          0.006,
          0.007,
          0.008,
          0.009000000000000001,
          0.01,
          0.011,
          0.012,
          0.013000000000000001,
          0.014,
          0.015,
          0.016,
          0.017,
          0.018000000000000002,
          0.019,
          0.02,
          0.021,
          0.022,
          0.023,
          0.024,
          0.025,
          0.026000000000000002,
          0.027,
          0.028,
          0.029,
          0.03,
          0.031,
          0.032,
          0.033,
          0.034,
          0.035,
          0.036000000000000004,
          0.037,
          0.038,
          0.039,
          0.04,
          0.041,
          0.042,
          0.043000000000000003,
          0.044,
          0.045,
          0.046,
          0.047,
          0.048,
          0.049,
          0.05,
          0.005,
          0.006,
          0.007,
          0.008,
          0.009000000000000001,
          0.01,
          0.011,
          0.012,
          0.013000000000000001,
          0.014,
          0.015,
          0.016,
          0.017,
          0.018000000000000002,
          0.019,
          0.02,
          0.021,
          0.022,
          0.023,
          0.024,
          0.025,
          0.026000000000000002,
          0.027,
          0.028,
          0.029,
          0.03,
          0.031,
          0.032,
          0.033,
          0.034,
          0.035,
          0.036000000000000004,
          0.037,
          0.038,
          0.039,
          0.04,
          0.041,
          0.042,
          0.043000000000000003,
          0.044,
          0.045,
          0.046,
          0.047,
          0.048,
          0.049,
          0.05,
          0.005,
          0.006,
          0.007,
          0.008,
          0.009000000000000001,
          0.01,
          0.011,
          0.012,
          0.013000000000000001,
          0.014,
          0.015,
          0.016,
          0.017,
          0.018000000000000002,
          0.019,
          0.02,
          0.021,
          0.022,
          0.023,
          0.024,
          0.025,
          0.026000000000000002,
          0.027,
          0.028,
          0.029,
          0.03,
          0.031,
          0.032,
          0.033,
          0.034,
          0.035,
          0.036000000000000004,
          0.037,
          0.038,
          0.039,
          0.04,
          0.041,
          0.042,
          0.043000000000000003,
          0.044,
          0.045,
          0.046,
          0.047,
          0.048,
          0.049,
          0.05,
          0.005,
          0.006,
          0.007,
          0.008,
          0.009000000000000001,
          0.01,
          0.011,
          0.012,
          0.013000000000000001,
          0.014,
          0.015,
          0.016,
          0.017,
          0.018000000000000002,
          0.019,
          0.02,
          0.021,
          0.022,
          0.023,
          0.024,
          0.025,
          0.026000000000000002,
          0.027,
          0.028,
          0.029,
          0.03,
          0.031,
          0.032,
          0.033,
          0.034,
          0.035,
          0.036000000000000004,
          0.037,
          0.038,
          0.039,
          0.04,
          0.041,
          0.042,
          0.043000000000000003,
          0.044,
          0.045,
          0.046,
          0.047,
          0.048,
          0.049,
          0.05,
          0.005,
          0.006,
          0.007,
          0.008,
          0.009000000000000001,
          0.01,
          0.011,
          0.012,
          0.013000000000000001,
          0.014,
          0.015,
          0.016,
          0.017,
          0.018000000000000002,
          0.019,
          0.02,
          0.021,
          0.022,
          0.023,
          0.024,
          0.025,
          0.026000000000000002,
          0.027,
          0.028,
          0.029,
          0.03,
          0.031,
          0.032,
          0.033,
          0.034,
          0.035,
          0.036000000000000004,
          0.037,
          0.038,
          0.039,
          0.04,
          0.041,
          0.042,
          0.043000000000000003,
          0.044,
          0.045,
          0.046,
          0.047,
          0.048,
          0.049,
          0.05,
          0.005,
          0.006,
          0.007,
          0.008,
          0.009000000000000001,
          0.01,
          0.011,
          0.012,
          0.013000000000000001,
          0.014,
          0.015,
          0.016,
          0.017,
          0.018000000000000002,
          0.019,
          0.02,
          0.021,
          0.022,
          0.023,
          0.024,
          0.025,
          0.026000000000000002,
          0.027,
          0.028,
          0.029,
          0.03,
          0.031,
          0.032,
          0.033,
          0.034,
          0.035,
          0.036000000000000004,
          0.037,
          0.038,
          0.039,
          0.04,
          0.041,
          0.042,
          0.043000000000000003,
          0.044,
          0.045,
          0.046,
          0.047,
          0.048,
          0.049,
          0.05,
          0.005,
          0.006,
          0.007,
          0.008,
          0.009000000000000001,
          0.01,
          0.011,
          0.012,
          0.013000000000000001,
          0.014,
          0.015,
          0.016,
          0.017,
          0.018000000000000002,
          0.019,
          0.02,
          0.021,
          0.022,
          0.023,
          0.024,
          0.025,
          0.026000000000000002,
          0.027,
          0.028,
          0.029,
          0.03,
          0.031,
          0.032,
          0.033,
          0.034,
          0.035,
          0.036000000000000004,
          0.037,
          0.038,
          0.039,
          0.04,
          0.041,
          0.042,
          0.043000000000000003,
          0.044,
          0.045,
          0.046,
          0.047,
          0.048,
          0.049,
          0.05,
          0.005,
          0.006,
          0.007,
          0.008,
          0.009000000000000001,
          0.01,
          0.011,
          0.012,
          0.013000000000000001,
          0.014,
          0.015,
          0.016,
          0.017,
          0.018000000000000002,
          0.019,
          0.02,
          0.021,
          0.022,
          0.023,
          0.024,
          0.025,
          0.026000000000000002,
          0.027,
          0.028,
          0.029,
          0.03,
          0.031,
          0.032,
          0.033,
          0.034,
          0.035,
          0.036000000000000004,
          0.037,
          0.038,
          0.039,
          0.04,
          0.041,
          0.042,
          0.043000000000000003,
          0.044,
          0.045,
          0.046,
          0.047,
          0.048,
          0.049,
          0.05,
          0.005,
          0.006,
          0.007,
          0.008,
          0.009000000000000001,
          0.01,
          0.011,
          0.012,
          0.013000000000000001,
          0.014,
          0.015,
          0.016,
          0.017,
          0.018000000000000002,
          0.019,
          0.02,
          0.021,
          0.022,
          0.023,
          0.024,
          0.025,
          0.026000000000000002,
          0.027,
          0.028,
          0.029,
          0.03,
          0.031,
          0.032,
          0.033,
          0.034,
          0.035,
          0.036000000000000004,
          0.037,
          0.038,
          0.039,
          0.04,
          0.041,
          0.042,
          0.043000000000000003,
          0.044,
          0.045,
          0.046,
          0.047,
          0.048,
          0.049,
          0.05,
          0.005,
          0.006,
          0.007,
          0.008,
          0.009000000000000001,
          0.01,
          0.011,
          0.012,
          0.013000000000000001,
          0.014,
          0.015,
          0.016,
          0.017,
          0.018000000000000002,
          0.019,
          0.02,
          0.021,
          0.022,
          0.023,
          0.024,
          0.025,
          0.026000000000000002,
          0.027,
          0.028,
          0.029,
          0.03,
          0.031,
          0.032,
          0.033,
          0.034,
          0.035,
          0.036000000000000004,
          0.037,
          0.038,
          0.039,
          0.04,
          0.041,
          0.042,
          0.043000000000000003,
          0.044,
          0.045,
          0.046,
          0.047,
          0.048,
          0.049,
          0.05,
          0.005,
          0.006,
          0.007,
          0.008,
          0.009000000000000001,
          0.01,
          0.011,
          0.012,
          0.013000000000000001,
          0.014,
          0.015,
          0.016,
          0.017,
          0.018000000000000002,
          0.019,
          0.02,
          0.021,
          0.022,
          0.023,
          0.024,
          0.025,
          0.026000000000000002,
          0.027,
          0.028,
          0.029,
          0.03,
          0.031,
          0.032,
          0.033,
          0.034,
          0.035,
          0.036000000000000004,
          0.037,
          0.038,
          0.039,
          0.04,
          0.041,
          0.042,
          0.043000000000000003,
          0.044,
          0.045,
          0.046,
          0.047,
          0.048,
          0.049,
          0.05,
          0.005,
          0.006,
          0.007,
          0.008,
          0.009000000000000001,
          0.01,
          0.011,
          0.012,
          0.013000000000000001,
          0.014,
          0.015,
          0.016,
          0.017,
          0.018000000000000002,
          0.019,
          0.02,
          0.021,
          0.022,
          0.023,
          0.024,
          0.025,
          0.026000000000000002,
          0.027,
          0.028,
          0.029,
          0.03,
          0.031,
          0.032,
          0.033,
          0.034,
          0.035,
          0.036000000000000004,
          0.037,
          0.038,
          0.039,
          0.04,
          0.041,
          0.042,
          0.043000000000000003,
          0.044,
          0.045,
          0.046,
          0.047,
          0.048,
          0.049,
          0.05,
          0.005,
          0.006,
          0.007,
          0.008,
          0.009000000000000001,
          0.01,
          0.011,
          0.012,
          0.013000000000000001,
          0.014,
          0.015,
          0.016,
          0.017,
          0.018000000000000002,
          0.019,
          0.02,
          0.021,
          0.022,
          0.023,
          0.024,
          0.025,
          0.026000000000000002,
          0.027,
          0.028,
          0.029,
          0.03,
          0.031,
          0.032,
          0.033,
          0.034,
          0.035,
          0.036000000000000004,
          0.037,
          0.038,
          0.039,
          0.04,
          0.041,
          0.042,
          0.043000000000000003,
          0.044,
          0.045,
          0.046,
          0.047,
          0.048,
          0.049,
          0.05,
          0.005,
          0.006,
          0.007,
          0.008,
          0.009000000000000001,
          0.01,
          0.011,
          0.012,
          0.013000000000000001,
          0.014,
          0.015,
          0.016,
          0.017,
          0.018000000000000002,
          0.019,
          0.02,
          0.021,
          0.022,
          0.023,
          0.024,
          0.025,
          0.026000000000000002,
          0.027,
          0.028,
          0.029,
          0.03,
          0.031,
          0.032,
          0.033,
          0.034,
          0.035,
          0.036000000000000004,
          0.037,
          0.038,
          0.039,
          0.04,
          0.041,
          0.042,
          0.043000000000000003,
          0.044,
          0.045,
          0.046,
          0.047,
          0.048,
          0.049,
          0.05,
          0.005,
          0.006,
          0.007,
          0.008,
          0.009000000000000001,
          0.01,
          0.011,
          0.012,
          0.013000000000000001,
          0.014,
          0.015,
          0.016,
          0.017,
          0.018000000000000002,
          0.019,
          0.02,
          0.021,
          0.022,
          0.023,
          0.024,
          0.025,
          0.026000000000000002,
          0.027,
          0.028,
          0.029,
          0.03,
          0.031,
          0.032,
          0.033,
          0.034,
          0.035,
          0.036000000000000004,
          0.037,
          0.038,
          0.039,
          0.04,
          0.041,
          0.042,
          0.043000000000000003,
          0.044,
          0.045,
          0.046,
          0.047,
          0.048,
          0.049,
          0.05,
          0.005,
          0.006,
          0.007,
          0.008,
          0.009000000000000001,
          0.01,
          0.011,
          0.012,
          0.013000000000000001,
          0.014,
          0.015,
          0.016,
          0.017,
          0.018000000000000002,
          0.019,
          0.02,
          0.021,
          0.022,
          0.023,
          0.024,
          0.025,
          0.026000000000000002,
          0.027,
          0.028,
          0.029,
          0.03,
          0.031,
          0.032,
          0.033,
          0.034,
          0.035,
          0.036000000000000004,
          0.037,
          0.038,
          0.039,
          0.04,
          0.041,
          0.042,
          0.043000000000000003,
          0.044,
          0.045,
          0.046,
          0.047,
          0.048,
          0.049,
          0.05,
          0.005,
          0.006,
          0.007,
          0.008,
          0.009000000000000001,
          0.01,
          0.011,
          0.012,
          0.013000000000000001,
          0.014,
          0.015,
          0.016,
          0.017,
          0.018000000000000002,
          0.019,
          0.02,
          0.021,
          0.022,
          0.023,
          0.024,
          0.025,
          0.026000000000000002,
          0.027,
          0.028,
          0.029,
          0.03,
          0.031,
          0.032,
          0.033,
          0.034,
          0.035,
          0.036000000000000004,
          0.037,
          0.038,
          0.039,
          0.04,
          0.041,
          0.042,
          0.043000000000000003,
          0.044,
          0.045,
          0.046,
          0.047,
          0.048,
          0.049,
          0.05,
          0.005,
          0.006,
          0.007,
          0.008,
          0.009000000000000001,
          0.01,
          0.011,
          0.012,
          0.013000000000000001,
          0.014,
          0.015,
          0.016,
          0.017,
          0.018000000000000002,
          0.019,
          0.02,
          0.021,
          0.022,
          0.023,
          0.024,
          0.025,
          0.026000000000000002,
          0.027,
          0.028,
          0.029,
          0.03,
          0.031,
          0.032,
          0.033,
          0.034,
          0.035,
          0.036000000000000004,
          0.037,
          0.038,
          0.039,
          0.04,
          0.041,
          0.042,
          0.043000000000000003,
          0.044,
          0.045,
          0.046,
          0.047,
          0.048,
          0.049,
          0.05,
          0.005,
          0.006,
          0.007,
          0.008,
          0.009000000000000001,
          0.01,
          0.011,
          0.012,
          0.013000000000000001,
          0.014,
          0.015,
          0.016,
          0.017,
          0.018000000000000002,
          0.019,
          0.02,
          0.021,
          0.022,
          0.023,
          0.024,
          0.025,
          0.026000000000000002,
          0.027,
          0.028,
          0.029,
          0.03,
          0.031,
          0.032,
          0.033,
          0.034,
          0.035,
          0.036000000000000004,
          0.037,
          0.038,
          0.039,
          0.04,
          0.041,
          0.042,
          0.043000000000000003,
          0.044,
          0.045,
          0.046,
          0.047,
          0.048,
          0.049,
          0.05,
          0.005,
          0.006,
          0.007,
          0.008,
          0.009000000000000001,
          0.01,
          0.011,
          0.012,
          0.013000000000000001,
          0.014,
          0.015,
          0.016,
          0.017,
          0.018000000000000002,
          0.019,
          0.02,
          0.021,
          0.022,
          0.023,
          0.024,
          0.025,
          0.026000000000000002,
          0.027,
          0.028,
          0.029,
          0.03,
          0.031,
          0.032,
          0.033,
          0.034,
          0.035,
          0.036000000000000004,
          0.037,
          0.038,
          0.039,
          0.04,
          0.041,
          0.042,
          0.043000000000000003,
          0.044,
          0.045,
          0.046,
          0.047,
          0.048,
          0.049,
          0.05,
          0.005,
          0.006,
          0.007,
          0.008,
          0.009000000000000001,
          0.01,
          0.011,
          0.012,
          0.013000000000000001,
          0.014,
          0.015,
          0.016,
          0.017,
          0.018000000000000002,
          0.019,
          0.02,
          0.021,
          0.022,
          0.023,
          0.024,
          0.025,
          0.026000000000000002,
          0.027,
          0.028,
          0.029,
          0.03,
          0.031,
          0.032,
          0.033,
          0.034,
          0.035,
          0.036000000000000004,
          0.037,
          0.038,
          0.039,
          0.04,
          0.041,
          0.042,
          0.043000000000000003,
          0.044,
          0.045,
          0.046,
          0.047,
          0.048,
          0.049,
          0.05,
          0.005,
          0.006,
          0.007,
          0.008,
          0.009000000000000001,
          0.01,
          0.011,
          0.012,
          0.013000000000000001,
          0.014,
          0.015,
          0.016,
          0.017,
          0.018000000000000002,
          0.019,
          0.02,
          0.021,
          0.022,
          0.023,
          0.024,
          0.025,
          0.026000000000000002,
          0.027,
          0.028,
          0.029,
          0.03,
          0.031,
          0.032,
          0.033,
          0.034,
          0.035,
          0.036000000000000004,
          0.037,
          0.038,
          0.039,
          0.04,
          0.041,
          0.042,
          0.043000000000000003,
          0.044,
          0.045,
          0.046,
          0.047,
          0.048,
          0.049,
          0.05,
          0.005,
          0.006,
          0.007,
          0.008,
          0.009000000000000001,
          0.01,
          0.011,
          0.012,
          0.013000000000000001,
          0.014,
          0.015,
          0.016,
          0.017,
          0.018000000000000002,
          0.019,
          0.02,
          0.021,
          0.022,
          0.023,
          0.024,
          0.025,
          0.026000000000000002,
          0.027,
          0.028,
          0.029,
          0.03,
          0.031,
          0.032,
          0.033,
          0.034,
          0.035,
          0.036000000000000004,
          0.037,
          0.038,
          0.039,
          0.04,
          0.041,
          0.042,
          0.043000000000000003,
          0.044,
          0.045,
          0.046,
          0.047,
          0.048,
          0.049,
          0.05,
          0.005,
          0.006,
          0.007,
          0.008,
          0.009000000000000001,
          0.01,
          0.011,
          0.012,
          0.013000000000000001,
          0.014,
          0.015,
          0.016,
          0.017,
          0.018000000000000002,
          0.019,
          0.02,
          0.021,
          0.022,
          0.023,
          0.024,
          0.025,
          0.026000000000000002,
          0.027,
          0.028,
          0.029,
          0.03,
          0.031,
          0.032,
          0.033,
          0.034,
          0.035,
          0.036000000000000004,
          0.037,
          0.038,
          0.039,
          0.04,
          0.041,
          0.042,
          0.043000000000000003,
          0.044,
          0.045,
          0.046,
          0.047,
          0.048,
          0.049,
          0.05,
          0.005,
          0.006,
          0.007,
          0.008,
          0.009000000000000001,
          0.01,
          0.011,
          0.012,
          0.013000000000000001,
          0.014,
          0.015,
          0.016,
          0.017,
          0.018000000000000002,
          0.019,
          0.02,
          0.021,
          0.022,
          0.023,
          0.024,
          0.025,
          0.026000000000000002,
          0.027,
          0.028,
          0.029,
          0.03,
          0.031,
          0.032,
          0.033,
          0.034,
          0.035,
          0.036000000000000004,
          0.037,
          0.038,
          0.039,
          0.04,
          0.041,
          0.042,
          0.043000000000000003,
          0.044,
          0.045,
          0.046,
          0.047,
          0.048,
          0.049,
          0.05,
          0.005,
          0.006,
          0.007,
          0.008,
          0.009000000000000001,
          0.01,
          0.011,
          0.012,
          0.013000000000000001,
          0.014,
          0.015,
          0.016,
          0.017,
          0.018000000000000002,
          0.019,
          0.02,
          0.021,
          0.022,
          0.023,
          0.024,
          0.025,
          0.026000000000000002,
          0.027,
          0.028,
          0.029,
          0.03,
          0.031,
          0.032,
          0.033,
          0.034,
          0.035,
          0.036000000000000004,
          0.037,
          0.038,
          0.039,
          0.04,
          0.041,
          0.042,
          0.043000000000000003,
          0.044,
          0.045,
          0.046,
          0.047,
          0.048,
          0.049,
          0.05,
          0.005,
          0.006,
          0.007,
          0.008,
          0.009000000000000001,
          0.01,
          0.011,
          0.012,
          0.013000000000000001,
          0.014,
          0.015,
          0.016,
          0.017,
          0.018000000000000002,
          0.019,
          0.02,
          0.021,
          0.022,
          0.023,
          0.024,
          0.025,
          0.026000000000000002,
          0.027,
          0.028,
          0.029,
          0.03,
          0.031,
          0.032,
          0.033,
          0.034,
          0.035,
          0.036000000000000004,
          0.037,
          0.038,
          0.039,
          0.04,
          0.041,
          0.042,
          0.043000000000000003,
          0.044,
          0.045,
          0.046,
          0.047,
          0.048,
          0.049,
          0.05,
          0.005,
          0.006,
          0.007,
          0.008,
          0.009000000000000001,
          0.01,
          0.011,
          0.012,
          0.013000000000000001,
          0.014,
          0.015,
          0.016,
          0.017,
          0.018000000000000002,
          0.019,
          0.02,
          0.021,
          0.022,
          0.023,
          0.024,
          0.025,
          0.026000000000000002,
          0.027,
          0.028,
          0.029,
          0.03,
          0.031,
          0.032,
          0.033,
          0.034,
          0.035,
          0.036000000000000004,
          0.037,
          0.038,
          0.039,
          0.04,
          0.041,
          0.042,
          0.043000000000000003,
          0.044,
          0.045,
          0.046,
          0.047,
          0.048,
          0.049,
          0.05,
          0.005,
          0.006,
          0.007,
          0.008,
          0.009000000000000001,
          0.01,
          0.011,
          0.012,
          0.013000000000000001,
          0.014,
          0.015,
          0.016,
          0.017,
          0.018000000000000002,
          0.019,
          0.02,
          0.021,
          0.022,
          0.023,
          0.024,
          0.025,
          0.026000000000000002,
          0.027,
          0.028,
          0.029,
          0.03,
          0.031,
          0.032,
          0.033,
          0.034,
          0.035,
          0.036000000000000004,
          0.037,
          0.038,
          0.039,
          0.04,
          0.041,
          0.042,
          0.043000000000000003,
          0.044,
          0.045,
          0.046,
          0.047,
          0.048,
          0.049,
          0.05,
          0.005,
          0.006,
          0.007,
          0.008,
          0.009000000000000001,
          0.01,
          0.011,
          0.012,
          0.013000000000000001,
          0.014,
          0.015,
          0.016,
          0.017,
          0.018000000000000002,
          0.019,
          0.02,
          0.021,
          0.022,
          0.023,
          0.024,
          0.025,
          0.026000000000000002,
          0.027,
          0.028,
          0.029,
          0.03,
          0.031,
          0.032,
          0.033,
          0.034,
          0.035,
          0.036000000000000004,
          0.037,
          0.038,
          0.039,
          0.04,
          0.041,
          0.042,
          0.043000000000000003,
          0.044,
          0.045,
          0.046,
          0.047,
          0.048,
          0.049,
          0.05,
          0.005,
          0.006,
          0.007,
          0.008,
          0.009000000000000001,
          0.01,
          0.011,
          0.012,
          0.013000000000000001,
          0.014,
          0.015,
          0.016,
          0.017,
          0.018000000000000002,
          0.019,
          0.02,
          0.021,
          0.022,
          0.023,
          0.024,
          0.025,
          0.026000000000000002,
          0.027,
          0.028,
          0.029,
          0.03,
          0.031,
          0.032,
          0.033,
          0.034,
          0.035,
          0.036000000000000004,
          0.037,
          0.038,
          0.039,
          0.04,
          0.041,
          0.042,
          0.043000000000000003,
          0.044,
          0.045,
          0.046,
          0.047,
          0.048,
          0.049,
          0.05,
          0.005,
          0.006,
          0.007,
          0.008,
          0.009000000000000001,
          0.01,
          0.011,
          0.012,
          0.013000000000000001,
          0.014,
          0.015,
          0.016,
          0.017,
          0.018000000000000002,
          0.019,
          0.02,
          0.021,
          0.022,
          0.023,
          0.024,
          0.025,
          0.026000000000000002,
          0.027,
          0.028,
          0.029,
          0.03,
          0.031,
          0.032,
          0.033,
          0.034,
          0.035,
          0.036000000000000004,
          0.037,
          0.038,
          0.039,
          0.04,
          0.041,
          0.042,
          0.043000000000000003,
          0.044,
          0.045,
          0.046,
          0.047,
          0.048,
          0.049,
          0.05,
          0.005,
          0.006,
          0.007,
          0.008,
          0.009000000000000001,
          0.01,
          0.011,
          0.012,
          0.013000000000000001,
          0.014,
          0.015,
          0.016,
          0.017,
          0.018000000000000002,
          0.019,
          0.02,
          0.021,
          0.022,
          0.023,
          0.024,
          0.025,
          0.026000000000000002,
          0.027,
          0.028,
          0.029,
          0.03,
          0.031,
          0.032,
          0.033,
          0.034,
          0.035,
          0.036000000000000004,
          0.037,
          0.038,
          0.039,
          0.04,
          0.041,
          0.042,
          0.043000000000000003,
          0.044,
          0.045,
          0.046,
          0.047,
          0.048,
          0.049,
          0.05,
          0.005,
          0.006,
          0.007,
          0.008,
          0.009000000000000001,
          0.01,
          0.011,
          0.012,
          0.013000000000000001,
          0.014,
          0.015,
          0.016,
          0.017,
          0.018000000000000002,
          0.019,
          0.02,
          0.021,
          0.022,
          0.023,
          0.024,
          0.025,
          0.026000000000000002,
          0.027,
          0.028,
          0.029,
          0.03,
          0.031,
          0.032,
          0.033,
          0.034,
          0.035,
          0.036000000000000004,
          0.037,
          0.038,
          0.039,
          0.04,
          0.041,
          0.042,
          0.043000000000000003,
          0.044,
          0.045,
          0.046,
          0.047,
          0.048,
          0.049,
          0.05,
          0.005,
          0.006,
          0.007,
          0.008,
          0.009000000000000001,
          0.01,
          0.011,
          0.012,
          0.013000000000000001,
          0.014,
          0.015,
          0.016,
          0.017,
          0.018000000000000002,
          0.019,
          0.02,
          0.021,
          0.022,
          0.023,
          0.024,
          0.025,
          0.026000000000000002,
          0.027,
          0.028,
          0.029,
          0.03,
          0.031,
          0.032,
          0.033,
          0.034,
          0.035,
          0.036000000000000004,
          0.037,
          0.038,
          0.039,
          0.04,
          0.041,
          0.042,
          0.043000000000000003,
          0.044,
          0.045,
          0.046,
          0.047,
          0.048,
          0.049,
          0.05,
          0.005,
          0.006,
          0.007,
          0.008,
          0.009000000000000001,
          0.01,
          0.011,
          0.012,
          0.013000000000000001,
          0.014,
          0.015,
          0.016,
          0.017,
          0.018000000000000002,
          0.019,
          0.02,
          0.021,
          0.022,
          0.023,
          0.024,
          0.025,
          0.026000000000000002,
          0.027,
          0.028,
          0.029,
          0.03,
          0.031,
          0.032,
          0.033,
          0.034,
          0.035,
          0.036000000000000004,
          0.037,
          0.038,
          0.039,
          0.04,
          0.041,
          0.042,
          0.043000000000000003,
          0.044,
          0.045,
          0.046,
          0.047,
          0.048,
          0.049,
          0.05,
          0.005,
          0.006,
          0.007,
          0.008,
          0.009000000000000001,
          0.01,
          0.011,
          0.012,
          0.013000000000000001,
          0.014,
          0.015,
          0.016,
          0.017,
          0.018000000000000002,
          0.019,
          0.02,
          0.021,
          0.022,
          0.023,
          0.024,
          0.025,
          0.026000000000000002,
          0.027,
          0.028,
          0.029,
          0.03,
          0.031,
          0.032,
          0.033,
          0.034,
          0.035,
          0.036000000000000004,
          0.037,
          0.038,
          0.039,
          0.04,
          0.041,
          0.042,
          0.043000000000000003,
          0.044,
          0.045,
          0.046,
          0.047,
          0.048,
          0.049,
          0.05,
          0.005,
          0.006,
          0.007,
          0.008,
          0.009000000000000001,
          0.01,
          0.011,
          0.012,
          0.013000000000000001,
          0.014,
          0.015,
          0.016,
          0.017,
          0.018000000000000002,
          0.019,
          0.02,
          0.021,
          0.022,
          0.023,
          0.024,
          0.025,
          0.026000000000000002,
          0.027,
          0.028,
          0.029,
          0.03,
          0.031,
          0.032,
          0.033,
          0.034,
          0.035,
          0.036000000000000004,
          0.037,
          0.038,
          0.039,
          0.04,
          0.041,
          0.042,
          0.043000000000000003,
          0.044,
          0.045,
          0.046,
          0.047,
          0.048,
          0.049,
          0.05,
          0.005,
          0.006,
          0.007,
          0.008,
          0.009000000000000001,
          0.01,
          0.011,
          0.012,
          0.013000000000000001,
          0.014,
          0.015,
          0.016,
          0.017,
          0.018000000000000002,
          0.019,
          0.02,
          0.021,
          0.022,
          0.023,
          0.024,
          0.025,
          0.026000000000000002,
          0.027,
          0.028,
          0.029,
          0.03,
          0.031,
          0.032,
          0.033,
          0.034,
          0.035,
          0.036000000000000004,
          0.037,
          0.038,
          0.039,
          0.04,
          0.041,
          0.042,
          0.043000000000000003,
          0.044,
          0.045,
          0.046,
          0.047,
          0.048,
          0.049,
          0.05,
          0.005,
          0.006,
          0.007,
          0.008,
          0.009000000000000001,
          0.01,
          0.011,
          0.012,
          0.013000000000000001,
          0.014,
          0.015,
          0.016,
          0.017,
          0.018000000000000002,
          0.019,
          0.02,
          0.021,
          0.022,
          0.023,
          0.024,
          0.025,
          0.026000000000000002,
          0.027,
          0.028,
          0.029,
          0.03,
          0.031,
          0.032,
          0.033,
          0.034,
          0.035,
          0.036000000000000004,
          0.037,
          0.038,
          0.039,
          0.04,
          0.041,
          0.042,
          0.043000000000000003,
          0.044,
          0.045,
          0.046,
          0.047,
          0.048,
          0.049,
          0.05,
          0.005,
          0.006,
          0.007,
          0.008,
          0.009000000000000001,
          0.01,
          0.011,
          0.012,
          0.013000000000000001,
          0.014,
          0.015,
          0.016,
          0.017,
          0.018000000000000002,
          0.019,
          0.02,
          0.021,
          0.022,
          0.023,
          0.024,
          0.025,
          0.026000000000000002,
          0.027,
          0.028,
          0.029,
          0.03,
          0.031,
          0.032,
          0.033,
          0.034,
          0.035,
          0.036000000000000004,
          0.037,
          0.038,
          0.039,
          0.04,
          0.041,
          0.042,
          0.043000000000000003,
          0.044,
          0.045,
          0.046,
          0.047,
          0.048,
          0.049,
          0.05,
          0.005,
          0.006,
          0.007,
          0.008,
          0.009000000000000001,
          0.01,
          0.011,
          0.012,
          0.013000000000000001,
          0.014,
          0.015,
          0.016,
          0.017,
          0.018000000000000002,
          0.019,
          0.02,
          0.021,
          0.022,
          0.023,
          0.024,
          0.025,
          0.026000000000000002,
          0.027,
          0.028,
          0.029,
          0.03,
          0.031,
          0.032,
          0.033,
          0.034,
          0.035,
          0.036000000000000004,
          0.037,
          0.038,
          0.039,
          0.04,
          0.041,
          0.042,
          0.043000000000000003,
          0.044,
          0.045,
          0.046,
          0.047,
          0.048,
          0.049,
          0.05,
          0.005,
          0.006,
          0.007,
          0.008,
          0.009000000000000001,
          0.01,
          0.011,
          0.012,
          0.013000000000000001,
          0.014,
          0.015,
          0.016,
          0.017,
          0.018000000000000002,
          0.019,
          0.02,
          0.021,
          0.022,
          0.023,
          0.024,
          0.025,
          0.026000000000000002,
          0.027,
          0.028,
          0.029,
          0.03,
          0.031,
          0.032,
          0.033,
          0.034,
          0.035,
          0.036000000000000004,
          0.037,
          0.038,
          0.039,
          0.04,
          0.041,
          0.042,
          0.043000000000000003,
          0.044,
          0.045,
          0.046,
          0.047,
          0.048,
          0.049,
          0.05,
          0.005,
          0.006,
          0.007,
          0.008,
          0.009000000000000001,
          0.01,
          0.011,
          0.012,
          0.013000000000000001,
          0.014,
          0.015,
          0.016,
          0.017,
          0.018000000000000002,
          0.019,
          0.02,
          0.021,
          0.022,
          0.023,
          0.024,
          0.025,
          0.026000000000000002,
          0.027,
          0.028,
          0.029,
          0.03,
          0.031,
          0.032,
          0.033,
          0.034,
          0.035,
          0.036000000000000004,
          0.037,
          0.038,
          0.039,
          0.04,
          0.041,
          0.042,
          0.043000000000000003,
          0.044,
          0.045,
          0.046,
          0.047,
          0.048,
          0.049,
          0.05,
          0.005,
          0.006,
          0.007,
          0.008,
          0.009000000000000001,
          0.01,
          0.011,
          0.012,
          0.013000000000000001,
          0.014,
          0.015,
          0.016,
          0.017,
          0.018000000000000002,
          0.019,
          0.02,
          0.021,
          0.022,
          0.023,
          0.024,
          0.025,
          0.026000000000000002,
          0.027,
          0.028,
          0.029,
          0.03,
          0.031,
          0.032,
          0.033,
          0.034,
          0.035,
          0.036000000000000004,
          0.037,
          0.038,
          0.039,
          0.04,
          0.041,
          0.042,
          0.043000000000000003,
          0.044,
          0.045,
          0.046,
          0.047,
          0.048,
          0.049,
          0.05
         ],
         "z": [
          0.20907919839811306,
          0.12556773099553015,
          0.12556773099553015,
          0.149768337672773,
          0.149768337672773,
          0.149768337672773,
          0.149768337672773,
          0.149768337672773,
          0.149768337672773,
          0.149768337672773,
          0.149768337672773,
          0.149768337672773,
          0.149768337672773,
          0.149768337672773,
          0.149768337672773,
          0.149768337672773,
          0.149768337672773,
          0.149768337672773,
          0.149768337672773,
          0.149768337672773,
          0.149768337672773,
          0.149768337672773,
          0.149768337672773,
          0.149768337672773,
          0.149768337672773,
          0.149768337672773,
          0.149768337672773,
          0.149768337672773,
          0.149768337672773,
          0.149768337672773,
          0.149768337672773,
          0.149768337672773,
          0.149768337672773,
          0.149768337672773,
          0.149768337672773,
          0.149768337672773,
          0.149768337672773,
          0.149768337672773,
          0.149768337672773,
          0.149768337672773,
          0.149768337672773,
          0.149768337672773,
          0.149768337672773,
          0.149768337672773,
          0.149768337672773,
          0.149768337672773,
          0.22618411240022526,
          0.13705054369027603,
          0.13705054369027603,
          0.1627900149336115,
          0.1627900149336115,
          0.1627900149336115,
          0.1627900149336115,
          0.1627900149336115,
          0.1627900149336115,
          0.1627900149336115,
          0.1627900149336115,
          0.1627900149336115,
          0.1627900149336115,
          0.1627900149336115,
          0.1627900149336115,
          0.1627900149336115,
          0.1627900149336115,
          0.1627900149336115,
          0.1627900149336115,
          0.1627900149336115,
          0.1627900149336115,
          0.1627900149336115,
          0.1627900149336115,
          0.1627900149336115,
          0.1627900149336115,
          0.1627900149336115,
          0.1627900149336115,
          0.1627900149336115,
          0.1627900149336115,
          0.1627900149336115,
          0.1627900149336115,
          0.1627900149336115,
          0.1627900149336115,
          0.1627900149336115,
          0.1627900149336115,
          0.1627900149336115,
          0.1627900149336115,
          0.1627900149336115,
          0.1627900149336115,
          0.1627900149336115,
          0.1627900149336115,
          0.1627900149336115,
          0.1627900149336115,
          0.1627900149336115,
          0.1627900149336115,
          0.1627900149336115,
          0.26570923871038726,
          0.17231499188586585,
          0.17231499188586585,
          0.19911871482713248,
          0.19911871482713248,
          0.19911871482713248,
          0.19911871482713248,
          0.19911871482713248,
          0.19911871482713248,
          0.19911871482713248,
          0.19911871482713248,
          0.19911871482713248,
          0.19911871482713248,
          0.19911871482713248,
          0.19911871482713248,
          0.19911871482713248,
          0.19911871482713248,
          0.19911871482713248,
          0.19911871482713248,
          0.19911871482713248,
          0.19911871482713248,
          0.19911871482713248,
          0.19911871482713248,
          0.19911871482713248,
          0.19911871482713248,
          0.19911871482713248,
          0.19911871482713248,
          0.19911871482713248,
          0.19911871482713248,
          0.19911871482713248,
          0.19911871482713248,
          0.19911871482713248,
          0.19911871482713248,
          0.19911871482713248,
          0.19911871482713248,
          0.19911871482713248,
          0.19911871482713248,
          0.19911871482713248,
          0.19911871482713248,
          0.19911871482713248,
          0.19911871482713248,
          0.19911871482713248,
          0.19911871482713248,
          0.19911871482713248,
          0.19911871482713248,
          0.19911871482713248,
          0.18535407508062637,
          0.08520093892284522,
          0.08520093892284522,
          0.11419955949191192,
          0.11419955949191192,
          0.11419955949191192,
          0.11419955949191192,
          0.11419955949191192,
          0.11419955949191192,
          0.11419955949191192,
          0.11419955949191192,
          0.11419955949191192,
          0.11419955949191192,
          0.11419955949191192,
          0.11419955949191192,
          0.11419955949191192,
          0.11419955949191192,
          0.11419955949191192,
          0.11419955949191192,
          0.11419955949191192,
          0.11419955949191192,
          0.11419955949191192,
          0.11419955949191192,
          0.11419955949191192,
          0.11419955949191192,
          0.11419955949191192,
          0.11419955949191192,
          0.11419955949191192,
          0.11419955949191192,
          0.11419955949191192,
          0.11419955949191192,
          0.11419955949191192,
          0.11419955949191192,
          0.11419955949191192,
          0.11419955949191192,
          0.11419955949191192,
          0.11419955949191192,
          0.11419955949191192,
          0.11419955949191192,
          0.11419955949191192,
          0.11419955949191192,
          0.11419955949191192,
          0.11419955949191192,
          0.11419955949191192,
          0.11419955949191192,
          0.11419955949191192,
          0.4045654210050089,
          0.4045654210050089,
          0.4045654210050089,
          0.4045654210050089,
          0.4045654210050089,
          0.4045654210050089,
          0.4045654210050089,
          0.4045654210050089,
          0.4045654210050089,
          0.4045654210050089,
          0.4045654210050089,
          0.4045654210050089,
          0.4045654210050089,
          0.4045654210050089,
          0.4045654210050089,
          0.4045654210050089,
          0.4045654210050089,
          0.4045654210050089,
          0.4045654210050089,
          0.4045654210050089,
          0.4045654210050089,
          0.4045654210050089,
          0.4045654210050089,
          0.4045654210050089,
          0.4045654210050089,
          0.4045654210050089,
          0.4045654210050089,
          0.4045654210050089,
          0.4045654210050089,
          0.4045654210050089,
          0.4045654210050089,
          0.4045654210050089,
          0.4045654210050089,
          0.4045654210050089,
          0.4045654210050089,
          0.4045654210050089,
          0.4045654210050089,
          0.4045654210050089,
          0.4045654210050089,
          0.4045654210050089,
          0.4045654210050089,
          0.4045654210050089,
          0.4045654210050089,
          0.4045654210050089,
          0.4045654210050089,
          0.4045654210050089,
          0.015193334399768431,
          0.015193334399768431,
          0.015193334399768431,
          0.015193334399768431,
          0.015193334399768431,
          0.015193334399768431,
          0.015193334399768431,
          0.015193334399768431,
          0.015193334399768431,
          0.015193334399768431,
          0.015193334399768431,
          0.015193334399768431,
          0.015193334399768431,
          0.015193334399768431,
          0.015193334399768431,
          0.015193334399768431,
          0.015193334399768431,
          0.015193334399768431,
          0.015193334399768431,
          0.015193334399768431,
          0.015193334399768431,
          0.015193334399768431,
          0.015193334399768431,
          0.015193334399768431,
          0.015193334399768431,
          0.015193334399768431,
          0.015193334399768431,
          0.015193334399768431,
          0.015193334399768431,
          0.015193334399768431,
          0.015193334399768431,
          0.015193334399768431,
          0.015193334399768431,
          0.015193334399768431,
          0.015193334399768431,
          0.015193334399768431,
          0.015193334399768431,
          0.015193334399768431,
          0.015193334399768431,
          0.015193334399768431,
          0.015193334399768431,
          0.015193334399768431,
          0.015193334399768431,
          0.015193334399768431,
          0.015193334399768431,
          0.015193334399768431,
          0.14078083366023902,
          0.14078083366023902,
          0.14078083366023902,
          0.14078083366023902,
          0.14078083366023902,
          0.14078083366023902,
          0.14078083366023902,
          0.14078083366023902,
          0.14078083366023902,
          0.14078083366023902,
          0.14078083366023902,
          0.14078083366023902,
          0.14078083366023902,
          0.14078083366023902,
          0.14078083366023902,
          0.14078083366023902,
          0.14078083366023902,
          0.14078083366023902,
          0.14078083366023902,
          0.14078083366023902,
          0.14078083366023902,
          0.14078083366023902,
          0.14078083366023902,
          0.14078083366023902,
          0.14078083366023902,
          0.14078083366023902,
          0.14078083366023902,
          0.14078083366023902,
          0.14078083366023902,
          0.14078083366023902,
          0.14078083366023902,
          0.14078083366023902,
          0.14078083366023902,
          0.14078083366023902,
          0.14078083366023902,
          0.14078083366023902,
          0.14078083366023902,
          0.14078083366023902,
          0.14078083366023902,
          0.14078083366023902,
          0.14078083366023902,
          0.14078083366023902,
          0.14078083366023902,
          0.14078083366023902,
          0.14078083366023902,
          0.14078083366023902,
          0.45458991214592037,
          0.45458991214592037,
          0.45458991214592037,
          0.45458991214592037,
          0.45458991214592037,
          0.45458991214592037,
          0.45458991214592037,
          0.45458991214592037,
          0.45458991214592037,
          0.45458991214592037,
          0.45458991214592037,
          0.45458991214592037,
          0.45458991214592037,
          0.45458991214592037,
          0.45458991214592037,
          0.45458991214592037,
          0.45458991214592037,
          0.45458991214592037,
          0.45458991214592037,
          0.45458991214592037,
          0.45458991214592037,
          0.45458991214592037,
          0.45458991214592037,
          0.45458991214592037,
          0.45458991214592037,
          0.45458991214592037,
          0.45458991214592037,
          0.45458991214592037,
          0.45458991214592037,
          0.45458991214592037,
          0.45458991214592037,
          0.45458991214592037,
          0.45458991214592037,
          0.45458991214592037,
          0.45458991214592037,
          0.45458991214592037,
          0.45458991214592037,
          0.45458991214592037,
          0.45458991214592037,
          0.45458991214592037,
          0.45458991214592037,
          0.45458991214592037,
          0.45458991214592037,
          0.45458991214592037,
          0.45458991214592037,
          0.45458991214592037,
          0.576767911399291,
          0.576767911399291,
          0.576767911399291,
          0.576767911399291,
          0.576767911399291,
          0.576767911399291,
          0.576767911399291,
          0.576767911399291,
          0.576767911399291,
          0.576767911399291,
          0.576767911399291,
          0.576767911399291,
          0.576767911399291,
          0.576767911399291,
          0.576767911399291,
          0.576767911399291,
          0.576767911399291,
          0.576767911399291,
          0.576767911399291,
          0.576767911399291,
          0.576767911399291,
          0.576767911399291,
          0.576767911399291,
          0.576767911399291,
          0.576767911399291,
          0.576767911399291,
          0.576767911399291,
          0.576767911399291,
          0.576767911399291,
          0.576767911399291,
          0.576767911399291,
          0.576767911399291,
          0.576767911399291,
          0.576767911399291,
          0.576767911399291,
          0.576767911399291,
          0.576767911399291,
          0.576767911399291,
          0.576767911399291,
          0.576767911399291,
          0.576767911399291,
          0.576767911399291,
          0.576767911399291,
          0.576767911399291,
          0.576767911399291,
          0.576767911399291,
          0.16997839995521372,
          0.16997839995521372,
          0.16997839995521372,
          0.16997839995521372,
          0.16997839995521372,
          0.16997839995521372,
          0.16997839995521372,
          0.16997839995521372,
          0.16997839995521372,
          0.16997839995521372,
          0.16997839995521372,
          0.16997839995521372,
          0.16997839995521372,
          0.16997839995521372,
          0.16997839995521372,
          0.16997839995521372,
          0.16997839995521372,
          0.16997839995521372,
          0.16997839995521372,
          0.16997839995521372,
          0.16997839995521372,
          0.16997839995521372,
          0.16997839995521372,
          0.16997839995521372,
          0.16997839995521372,
          0.16997839995521372,
          0.16997839995521372,
          0.16997839995521372,
          0.16997839995521372,
          0.16997839995521372,
          0.16997839995521372,
          0.16997839995521372,
          0.16997839995521372,
          0.16997839995521372,
          0.16997839995521372,
          0.16997839995521372,
          0.16997839995521372,
          0.16997839995521372,
          0.16997839995521372,
          0.16997839995521372,
          0.16997839995521372,
          0.16997839995521372,
          0.16997839995521372,
          0.16997839995521372,
          0.16997839995521372,
          0.16997839995521372,
          0.16997839995521372,
          0.16997839995521372,
          0.16997839995521372,
          0.16997839995521372,
          0.16997839995521372,
          0.16997839995521372,
          0.16997839995521372,
          0.16997839995521372,
          0.16997839995521372,
          0.16997839995521372,
          0.16997839995521372,
          0.16997839995521372,
          0.16997839995521372,
          0.16997839995521372,
          0.16997839995521372,
          0.16997839995521372,
          0.16997839995521372,
          0.16997839995521372,
          0.16997839995521372,
          0.16997839995521372,
          0.16997839995521372,
          0.16997839995521372,
          0.16997839995521372,
          0.16997839995521372,
          0.16997839995521372,
          0.16997839995521372,
          0.16997839995521372,
          0.16997839995521372,
          0.16997839995521372,
          0.16997839995521372,
          0.16997839995521372,
          0.16997839995521372,
          0.16997839995521372,
          0.16997839995521372,
          0.16997839995521372,
          0.16997839995521372,
          0.16997839995521372,
          0.16997839995521372,
          0.16997839995521372,
          0.16997839995521372,
          0.16997839995521372,
          0.16997839995521372,
          0.16997839995521372,
          0.16997839995521372,
          0.16997839995521372,
          0.16997839995521372,
          0.18236574556001883,
          0.18236574556001883,
          0.18236574556001883,
          0.18236574556001883,
          0.18236574556001883,
          0.18236574556001883,
          0.18236574556001883,
          0.18236574556001883,
          0.18236574556001883,
          0.18236574556001883,
          0.18236574556001883,
          0.18236574556001883,
          0.18236574556001883,
          0.18236574556001883,
          0.18236574556001883,
          0.18236574556001883,
          0.18236574556001883,
          0.18236574556001883,
          0.18236574556001883,
          0.18236574556001883,
          0.18236574556001883,
          0.18236574556001883,
          0.18236574556001883,
          0.18236574556001883,
          0.18236574556001883,
          0.18236574556001883,
          0.18236574556001883,
          0.18236574556001883,
          0.18236574556001883,
          0.18236574556001883,
          0.18236574556001883,
          0.18236574556001883,
          0.18236574556001883,
          0.18236574556001883,
          0.18236574556001883,
          0.18236574556001883,
          0.18236574556001883,
          0.18236574556001883,
          0.18236574556001883,
          0.18236574556001883,
          0.18236574556001883,
          0.18236574556001883,
          0.18236574556001883,
          0.18236574556001883,
          0.18236574556001883,
          0.18236574556001883,
          0.2775374690319695,
          0.2775374690319695,
          0.2775374690319695,
          0.2775374690319695,
          0.2775374690319695,
          0.2775374690319695,
          0.2775374690319695,
          0.2775374690319695,
          0.2775374690319695,
          0.2775374690319695,
          0.2775374690319695,
          0.2775374690319695,
          0.2775374690319695,
          0.2775374690319695,
          0.2775374690319695,
          0.2775374690319695,
          0.2775374690319695,
          0.2775374690319695,
          0.2775374690319695,
          0.2775374690319695,
          0.2775374690319695,
          0.2775374690319695,
          0.2775374690319695,
          0.2775374690319695,
          0.2775374690319695,
          0.2775374690319695,
          0.2775374690319695,
          0.2775374690319695,
          0.2775374690319695,
          0.2775374690319695,
          0.2775374690319695,
          0.2775374690319695,
          0.2775374690319695,
          0.2775374690319695,
          0.2775374690319695,
          0.2775374690319695,
          0.2775374690319695,
          0.2775374690319695,
          0.2775374690319695,
          0.2775374690319695,
          0.2775374690319695,
          0.2775374690319695,
          0.2775374690319695,
          0.2775374690319695,
          0.2775374690319695,
          0.2775374690319695,
          0.2131300933004779,
          0.2131300933004779,
          0.2131300933004779,
          0.2131300933004779,
          0.2131300933004779,
          0.2131300933004779,
          0.2131300933004779,
          0.2131300933004779,
          0.2131300933004779,
          0.2131300933004779,
          0.2131300933004779,
          0.2131300933004779,
          0.2131300933004779,
          0.2131300933004779,
          0.2131300933004779,
          0.2131300933004779,
          0.2131300933004779,
          0.2131300933004779,
          0.2131300933004779,
          0.2131300933004779,
          0.2131300933004779,
          0.2131300933004779,
          0.2131300933004779,
          0.2131300933004779,
          0.2131300933004779,
          0.2131300933004779,
          0.2131300933004779,
          0.2131300933004779,
          0.2131300933004779,
          0.2131300933004779,
          0.2131300933004779,
          0.2131300933004779,
          0.2131300933004779,
          0.2131300933004779,
          0.2131300933004779,
          0.2131300933004779,
          0.2131300933004779,
          0.2131300933004779,
          0.2131300933004779,
          0.2131300933004779,
          0.2131300933004779,
          0.2131300933004779,
          0.2131300933004779,
          0.2131300933004779,
          0.2131300933004779,
          0.2131300933004779,
          0.24399618888248537,
          0.24399618888248537,
          0.24399618888248537,
          0.24399618888248537,
          0.24399618888248537,
          0.24399618888248537,
          0.24399618888248537,
          0.24399618888248537,
          0.24399618888248537,
          0.24399618888248537,
          0.24399618888248537,
          0.24399618888248537,
          0.24399618888248537,
          0.24399618888248537,
          0.24399618888248537,
          0.24399618888248537,
          0.24399618888248537,
          0.24399618888248537,
          0.24399618888248537,
          0.24399618888248537,
          0.24399618888248537,
          0.24399618888248537,
          0.24399618888248537,
          0.24399618888248537,
          0.24399618888248537,
          0.24399618888248537,
          0.24399618888248537,
          0.24399618888248537,
          0.24399618888248537,
          0.24399618888248537,
          0.24399618888248537,
          0.24399618888248537,
          0.24399618888248537,
          0.24399618888248537,
          0.24399618888248537,
          0.24399618888248537,
          0.24399618888248537,
          0.24399618888248537,
          0.24399618888248537,
          0.24399618888248537,
          0.24399618888248537,
          0.24399618888248537,
          0.24399618888248537,
          0.24399618888248537,
          0.24399618888248537,
          0.24399618888248537,
          0.19935511071612527,
          0.19935511071612527,
          0.19935511071612527,
          0.19935511071612527,
          0.19935511071612527,
          0.19935511071612527,
          0.19935511071612527,
          0.19935511071612527,
          0.19935511071612527,
          0.19935511071612527,
          0.19935511071612527,
          0.19935511071612527,
          0.19935511071612527,
          0.19935511071612527,
          0.19935511071612527,
          0.19935511071612527,
          0.19935511071612527,
          0.19935511071612527,
          0.19935511071612527,
          0.19935511071612527,
          0.19935511071612527,
          0.19935511071612527,
          0.19935511071612527,
          0.19935511071612527,
          0.19935511071612527,
          0.19935511071612527,
          0.19935511071612527,
          0.19935511071612527,
          0.19935511071612527,
          0.19935511071612527,
          0.19935511071612527,
          0.19935511071612527,
          0.19935511071612527,
          0.19935511071612527,
          0.19935511071612527,
          0.19935511071612527,
          0.19935511071612527,
          0.19935511071612527,
          0.19935511071612527,
          0.19935511071612527,
          0.19935511071612527,
          0.19935511071612527,
          0.19935511071612527,
          0.19935511071612527,
          0.19935511071612527,
          0.19935511071612527,
          0.45111594819585826,
          0.45111594819585826,
          0.45111594819585826,
          0.45111594819585826,
          0.45111594819585826,
          0.45111594819585826,
          0.45111594819585826,
          0.45111594819585826,
          0.45111594819585826,
          0.45111594819585826,
          0.45111594819585826,
          0.45111594819585826,
          0.45111594819585826,
          0.45111594819585826,
          0.45111594819585826,
          0.45111594819585826,
          0.45111594819585826,
          0.45111594819585826,
          0.45111594819585826,
          0.45111594819585826,
          0.45111594819585826,
          0.45111594819585826,
          0.45111594819585826,
          0.45111594819585826,
          0.45111594819585826,
          0.45111594819585826,
          0.45111594819585826,
          0.45111594819585826,
          0.45111594819585826,
          0.45111594819585826,
          0.45111594819585826,
          0.45111594819585826,
          0.45111594819585826,
          0.45111594819585826,
          0.45111594819585826,
          0.45111594819585826,
          0.45111594819585826,
          0.45111594819585826,
          0.45111594819585826,
          0.45111594819585826,
          0.45111594819585826,
          0.45111594819585826,
          0.45111594819585826,
          0.45111594819585826,
          0.45111594819585826,
          0.45111594819585826,
          0.5123118399395309,
          0.5123118399395309,
          0.5123118399395309,
          0.5123118399395309,
          0.5123118399395309,
          0.5123118399395309,
          0.5123118399395309,
          0.5123118399395309,
          0.5123118399395309,
          0.5123118399395309,
          0.5123118399395309,
          0.5123118399395309,
          0.5123118399395309,
          0.5123118399395309,
          0.5123118399395309,
          0.5123118399395309,
          0.5123118399395309,
          0.5123118399395309,
          0.5123118399395309,
          0.5123118399395309,
          0.5123118399395309,
          0.5123118399395309,
          0.5123118399395309,
          0.5123118399395309,
          0.5123118399395309,
          0.5123118399395309,
          0.5123118399395309,
          0.5123118399395309,
          0.5123118399395309,
          0.5123118399395309,
          0.5123118399395309,
          0.5123118399395309,
          0.5123118399395309,
          0.5123118399395309,
          0.5123118399395309,
          0.5123118399395309,
          0.5123118399395309,
          0.5123118399395309,
          0.5123118399395309,
          0.5123118399395309,
          0.5123118399395309,
          0.5123118399395309,
          0.5123118399395309,
          0.5123118399395309,
          0.5123118399395309,
          0.5123118399395309,
          0.5123118399395309,
          0.5123118399395309,
          0.5123118399395309,
          0.5123118399395309,
          0.5123118399395309,
          0.5123118399395309,
          0.5123118399395309,
          0.5123118399395309,
          0.5123118399395309,
          0.5123118399395309,
          0.5123118399395309,
          0.5123118399395309,
          0.5123118399395309,
          0.5123118399395309,
          0.5123118399395309,
          0.5123118399395309,
          0.5123118399395309,
          0.5123118399395309,
          0.5123118399395309,
          0.5123118399395309,
          0.5123118399395309,
          0.5123118399395309,
          0.5123118399395309,
          0.5123118399395309,
          0.5123118399395309,
          0.5123118399395309,
          0.5123118399395309,
          0.5123118399395309,
          0.5123118399395309,
          0.5123118399395309,
          0.5123118399395309,
          0.5123118399395309,
          0.5123118399395309,
          0.5123118399395309,
          0.5123118399395309,
          0.5123118399395309,
          0.5123118399395309,
          0.5123118399395309,
          0.5123118399395309,
          0.5123118399395309,
          0.5123118399395309,
          0.5123118399395309,
          0.5123118399395309,
          0.5123118399395309,
          0.5123118399395309,
          0.5123118399395309,
          0.5123118399395309,
          0.5123118399395309,
          0.5123118399395309,
          0.5123118399395309,
          0.5123118399395309,
          0.5123118399395309,
          0.5123118399395309,
          0.5123118399395309,
          0.5123118399395309,
          0.5123118399395309,
          0.5123118399395309,
          0.5123118399395309,
          0.5123118399395309,
          0.5123118399395309,
          0.5123118399395309,
          0.5123118399395309,
          0.5123118399395309,
          0.5123118399395309,
          0.5123118399395309,
          0.5123118399395309,
          0.5123118399395309,
          0.5123118399395309,
          0.5123118399395309,
          0.5123118399395309,
          0.5123118399395309,
          0.5123118399395309,
          0.5123118399395309,
          0.5123118399395309,
          0.5123118399395309,
          0.5123118399395309,
          0.5123118399395309,
          0.5123118399395309,
          0.5123118399395309,
          0.5123118399395309,
          0.5123118399395309,
          0.5123118399395309,
          0.5123118399395309,
          0.5123118399395309,
          0.5123118399395309,
          0.5123118399395309,
          0.5123118399395309,
          0.5123118399395309,
          0.5123118399395309,
          0.5123118399395309,
          0.5123118399395309,
          0.5123118399395309,
          0.5413563189320734,
          0.5413563189320734,
          0.5413563189320734,
          0.5413563189320734,
          0.5413563189320734,
          0.5413563189320734,
          0.5413563189320734,
          0.5413563189320734,
          0.5413563189320734,
          0.5413563189320734,
          0.5413563189320734,
          0.5413563189320734,
          0.5413563189320734,
          0.5413563189320734,
          0.5413563189320734,
          0.5413563189320734,
          0.5413563189320734,
          0.5413563189320734,
          0.5413563189320734,
          0.5413563189320734,
          0.5413563189320734,
          0.5413563189320734,
          0.5413563189320734,
          0.5413563189320734,
          0.5413563189320734,
          0.5413563189320734,
          0.5413563189320734,
          0.5413563189320734,
          0.5413563189320734,
          0.5413563189320734,
          0.5413563189320734,
          0.5413563189320734,
          0.5413563189320734,
          0.5413563189320734,
          0.5413563189320734,
          0.5413563189320734,
          0.5413563189320734,
          0.5413563189320734,
          0.5413563189320734,
          0.5413563189320734,
          0.5413563189320734,
          0.5413563189320734,
          0.5413563189320734,
          0.5413563189320734,
          0.5413563189320734,
          0.5413563189320734,
          0.5154914427414525,
          0.5154914427414525,
          0.5154914427414525,
          0.5154914427414525,
          0.5154914427414525,
          0.5154914427414525,
          0.5154914427414525,
          0.5154914427414525,
          0.5154914427414525,
          0.5154914427414525,
          0.5154914427414525,
          0.5154914427414525,
          0.5154914427414525,
          0.5154914427414525,
          0.5154914427414525,
          0.5154914427414525,
          0.5154914427414525,
          0.5154914427414525,
          0.5154914427414525,
          0.5154914427414525,
          0.5154914427414525,
          0.5154914427414525,
          0.5154914427414525,
          0.5154914427414525,
          0.5154914427414525,
          0.5154914427414525,
          0.5154914427414525,
          0.5154914427414525,
          0.5154914427414525,
          0.5154914427414525,
          0.5154914427414525,
          0.5154914427414525,
          0.5154914427414525,
          0.5154914427414525,
          0.5154914427414525,
          0.5154914427414525,
          0.5154914427414525,
          0.5154914427414525,
          0.5154914427414525,
          0.5154914427414525,
          0.5154914427414525,
          0.5154914427414525,
          0.5154914427414525,
          0.5154914427414525,
          0.5154914427414525,
          0.5154914427414525,
          0.4597505163308825,
          0.4597505163308825,
          0.4597505163308825,
          0.4597505163308825,
          0.4597505163308825,
          0.4597505163308825,
          0.4597505163308825,
          0.4597505163308825,
          0.4597505163308825,
          0.4597505163308825,
          0.4597505163308825,
          0.4597505163308825,
          0.4597505163308825,
          0.4597505163308825,
          0.4597505163308825,
          0.4597505163308825,
          0.4597505163308825,
          0.4597505163308825,
          0.4597505163308825,
          0.4597505163308825,
          0.4597505163308825,
          0.4597505163308825,
          0.4597505163308825,
          0.4597505163308825,
          0.4597505163308825,
          0.4597505163308825,
          0.4597505163308825,
          0.4597505163308825,
          0.4597505163308825,
          0.4597505163308825,
          0.4597505163308825,
          0.4597505163308825,
          0.4597505163308825,
          0.4597505163308825,
          0.4597505163308825,
          0.4597505163308825,
          0.4597505163308825,
          0.4597505163308825,
          0.4597505163308825,
          0.4597505163308825,
          0.4597505163308825,
          0.4597505163308825,
          0.4597505163308825,
          0.4597505163308825,
          0.4597505163308825,
          0.4597505163308825,
          0.37329677014569845,
          0.37329677014569845,
          0.37329677014569845,
          0.37329677014569845,
          0.37329677014569845,
          0.37329677014569845,
          0.37329677014569845,
          0.37329677014569845,
          0.37329677014569845,
          0.37329677014569845,
          0.37329677014569845,
          0.37329677014569845,
          0.37329677014569845,
          0.37329677014569845,
          0.37329677014569845,
          0.37329677014569845,
          0.37329677014569845,
          0.37329677014569845,
          0.37329677014569845,
          0.37329677014569845,
          0.37329677014569845,
          0.37329677014569845,
          0.37329677014569845,
          0.37329677014569845,
          0.37329677014569845,
          0.37329677014569845,
          0.37329677014569845,
          0.37329677014569845,
          0.37329677014569845,
          0.37329677014569845,
          0.37329677014569845,
          0.37329677014569845,
          0.37329677014569845,
          0.37329677014569845,
          0.37329677014569845,
          0.37329677014569845,
          0.37329677014569845,
          0.37329677014569845,
          0.37329677014569845,
          0.37329677014569845,
          0.37329677014569845,
          0.37329677014569845,
          0.37329677014569845,
          0.37329677014569845,
          0.37329677014569845,
          0.37329677014569845,
          0.24621086518012783,
          0.24621086518012783,
          0.24621086518012783,
          0.24621086518012783,
          0.24621086518012783,
          0.24621086518012783,
          0.24621086518012783,
          0.24621086518012783,
          0.24621086518012783,
          0.24621086518012783,
          0.24621086518012783,
          0.24621086518012783,
          0.24621086518012783,
          0.24621086518012783,
          0.24621086518012783,
          0.24621086518012783,
          0.24621086518012783,
          0.24621086518012783,
          0.24621086518012783,
          0.24621086518012783,
          0.24621086518012783,
          0.24621086518012783,
          0.24621086518012783,
          0.24621086518012783,
          0.24621086518012783,
          0.24621086518012783,
          0.24621086518012783,
          0.24621086518012783,
          0.24621086518012783,
          0.24621086518012783,
          0.24621086518012783,
          0.24621086518012783,
          0.24621086518012783,
          0.24621086518012783,
          0.24621086518012783,
          0.24621086518012783,
          0.24621086518012783,
          0.24621086518012783,
          0.24621086518012783,
          0.24621086518012783,
          0.24621086518012783,
          0.24621086518012783,
          0.24621086518012783,
          0.24621086518012783,
          0.24621086518012783,
          0.24621086518012783,
          0.31487304896026946,
          0.31487304896026946,
          0.31487304896026946,
          0.31487304896026946,
          0.31487304896026946,
          0.31487304896026946,
          0.31487304896026946,
          0.31487304896026946,
          0.31487304896026946,
          0.31487304896026946,
          0.31487304896026946,
          0.31487304896026946,
          0.31487304896026946,
          0.31487304896026946,
          0.31487304896026946,
          0.31487304896026946,
          0.31487304896026946,
          0.31487304896026946,
          0.31487304896026946,
          0.31487304896026946,
          0.31487304896026946,
          0.31487304896026946,
          0.31487304896026946,
          0.31487304896026946,
          0.31487304896026946,
          0.31487304896026946,
          0.31487304896026946,
          0.31487304896026946,
          0.31487304896026946,
          0.31487304896026946,
          0.31487304896026946,
          0.31487304896026946,
          0.31487304896026946,
          0.31487304896026946,
          0.31487304896026946,
          0.31487304896026946,
          0.31487304896026946,
          0.31487304896026946,
          0.31487304896026946,
          0.31487304896026946,
          0.31487304896026946,
          0.31487304896026946,
          0.31487304896026946,
          0.31487304896026946,
          0.31487304896026946,
          0.31487304896026946,
          0.31487304896026946,
          0.31487304896026946,
          0.31487304896026946,
          0.31487304896026946,
          0.31487304896026946,
          0.31487304896026946,
          0.31487304896026946,
          0.31487304896026946,
          0.31487304896026946,
          0.31487304896026946,
          0.31487304896026946,
          0.31487304896026946,
          0.31487304896026946,
          0.31487304896026946,
          0.31487304896026946,
          0.31487304896026946,
          0.31487304896026946,
          0.31487304896026946,
          0.31487304896026946,
          0.31487304896026946,
          0.31487304896026946,
          0.31487304896026946,
          0.31487304896026946,
          0.31487304896026946,
          0.31487304896026946,
          0.31487304896026946,
          0.31487304896026946,
          0.31487304896026946,
          0.31487304896026946,
          0.31487304896026946,
          0.31487304896026946,
          0.31487304896026946,
          0.31487304896026946,
          0.31487304896026946,
          0.31487304896026946,
          0.31487304896026946,
          0.31487304896026946,
          0.31487304896026946,
          0.31487304896026946,
          0.31487304896026946,
          0.31487304896026946,
          0.31487304896026946,
          0.31487304896026946,
          0.31487304896026946,
          0.31487304896026946,
          0.31487304896026946,
          0.32795175014578887,
          0.32795175014578887,
          0.32795175014578887,
          0.32795175014578887,
          0.32795175014578887,
          0.32795175014578887,
          0.32795175014578887,
          0.32795175014578887,
          0.32795175014578887,
          0.32795175014578887,
          0.32795175014578887,
          0.32795175014578887,
          0.32795175014578887,
          0.32795175014578887,
          0.32795175014578887,
          0.32795175014578887,
          0.32795175014578887,
          0.32795175014578887,
          0.32795175014578887,
          0.32795175014578887,
          0.32795175014578887,
          0.32795175014578887,
          0.32795175014578887,
          0.32795175014578887,
          0.32795175014578887,
          0.32795175014578887,
          0.32795175014578887,
          0.32795175014578887,
          0.32795175014578887,
          0.32795175014578887,
          0.32795175014578887,
          0.32795175014578887,
          0.32795175014578887,
          0.32795175014578887,
          0.32795175014578887,
          0.32795175014578887,
          0.32795175014578887,
          0.32795175014578887,
          0.32795175014578887,
          0.32795175014578887,
          0.32795175014578887,
          0.32795175014578887,
          0.32795175014578887,
          0.32795175014578887,
          0.32795175014578887,
          0.32795175014578887,
          0.219436847222024,
          0.219436847222024,
          0.219436847222024,
          0.219436847222024,
          0.219436847222024,
          0.219436847222024,
          0.219436847222024,
          0.219436847222024,
          0.219436847222024,
          0.219436847222024,
          0.219436847222024,
          0.219436847222024,
          0.219436847222024,
          0.219436847222024,
          0.219436847222024,
          0.219436847222024,
          0.219436847222024,
          0.219436847222024,
          0.219436847222024,
          0.219436847222024,
          0.219436847222024,
          0.219436847222024,
          0.219436847222024,
          0.219436847222024,
          0.219436847222024,
          0.219436847222024,
          0.219436847222024,
          0.219436847222024,
          0.219436847222024,
          0.219436847222024,
          0.219436847222024,
          0.219436847222024,
          0.219436847222024,
          0.219436847222024,
          0.219436847222024,
          0.219436847222024,
          0.219436847222024,
          0.219436847222024,
          0.219436847222024,
          0.219436847222024,
          0.219436847222024,
          0.219436847222024,
          0.219436847222024,
          0.219436847222024,
          0.219436847222024,
          0.219436847222024,
          0.219436847222024,
          0.219436847222024,
          0.219436847222024,
          0.219436847222024,
          0.219436847222024,
          0.219436847222024,
          0.219436847222024,
          0.219436847222024,
          0.219436847222024,
          0.219436847222024,
          0.219436847222024,
          0.219436847222024,
          0.219436847222024,
          0.219436847222024,
          0.219436847222024,
          0.219436847222024,
          0.219436847222024,
          0.219436847222024,
          0.219436847222024,
          0.219436847222024,
          0.219436847222024,
          0.219436847222024,
          0.219436847222024,
          0.219436847222024,
          0.219436847222024,
          0.219436847222024,
          0.219436847222024,
          0.219436847222024,
          0.219436847222024,
          0.219436847222024,
          0.219436847222024,
          0.219436847222024,
          0.219436847222024,
          0.219436847222024,
          0.219436847222024,
          0.219436847222024,
          0.219436847222024,
          0.219436847222024,
          0.219436847222024,
          0.219436847222024,
          0.219436847222024,
          0.219436847222024,
          0.219436847222024,
          0.219436847222024,
          0.219436847222024,
          0.219436847222024,
          0.4373630685422199,
          0.4373630685422199,
          0.4373630685422199,
          0.4373630685422199,
          0.4373630685422199,
          0.4373630685422199,
          0.4373630685422199,
          0.4373630685422199,
          0.4373630685422199,
          0.4373630685422199,
          0.4373630685422199,
          0.4373630685422199,
          0.4373630685422199,
          0.4373630685422199,
          0.4373630685422199,
          0.4373630685422199,
          0.4373630685422199,
          0.4373630685422199,
          0.4373630685422199,
          0.4373630685422199,
          0.4373630685422199,
          0.4373630685422199,
          0.4373630685422199,
          0.4373630685422199,
          0.4373630685422199,
          0.4373630685422199,
          0.4373630685422199,
          0.4373630685422199,
          0.4373630685422199,
          0.4373630685422199,
          0.4373630685422199,
          0.4373630685422199,
          0.4373630685422199,
          0.4373630685422199,
          0.4373630685422199,
          0.4373630685422199,
          0.4373630685422199,
          0.4373630685422199,
          0.4373630685422199,
          0.4373630685422199,
          0.4373630685422199,
          0.4373630685422199,
          0.4373630685422199,
          0.4373630685422199,
          0.4373630685422199,
          0.4373630685422199,
          0.4373630685422199,
          0.4373630685422199,
          0.4373630685422199,
          0.4373630685422199,
          0.4373630685422199,
          0.4373630685422199,
          0.4373630685422199,
          0.4373630685422199,
          0.4373630685422199,
          0.4373630685422199,
          0.4373630685422199,
          0.4373630685422199,
          0.4373630685422199,
          0.4373630685422199,
          0.4373630685422199,
          0.4373630685422199,
          0.4373630685422199,
          0.4373630685422199,
          0.4373630685422199,
          0.4373630685422199,
          0.4373630685422199,
          0.4373630685422199,
          0.4373630685422199,
          0.4373630685422199,
          0.4373630685422199,
          0.4373630685422199,
          0.4373630685422199,
          0.4373630685422199,
          0.4373630685422199,
          0.4373630685422199,
          0.4373630685422199,
          0.4373630685422199,
          0.4373630685422199,
          0.4373630685422199,
          0.4373630685422199,
          0.4373630685422199,
          0.4373630685422199,
          0.4373630685422199,
          0.4373630685422199,
          0.4373630685422199,
          0.4373630685422199,
          0.4373630685422199,
          0.4373630685422199,
          0.4373630685422199,
          0.4373630685422199,
          0.4373630685422199,
          0.4232523359522038,
          0.4232523359522038,
          0.4232523359522038,
          0.4232523359522038,
          0.4232523359522038,
          0.4232523359522038,
          0.4232523359522038,
          0.4232523359522038,
          0.4232523359522038,
          0.4232523359522038,
          0.4232523359522038,
          0.4232523359522038,
          0.4232523359522038,
          0.4232523359522038,
          0.4232523359522038,
          0.4232523359522038,
          0.4232523359522038,
          0.4232523359522038,
          0.4232523359522038,
          0.4232523359522038,
          0.4232523359522038,
          0.4232523359522038,
          0.4232523359522038,
          0.4232523359522038,
          0.4232523359522038,
          0.4232523359522038,
          0.4232523359522038,
          0.4232523359522038,
          0.4232523359522038,
          0.4232523359522038,
          0.4232523359522038,
          0.4232523359522038,
          0.4232523359522038,
          0.4232523359522038,
          0.4232523359522038,
          0.4232523359522038,
          0.4232523359522038,
          0.4232523359522038,
          0.4232523359522038,
          0.4232523359522038,
          0.4232523359522038,
          0.4232523359522038,
          0.4232523359522038,
          0.4232523359522038,
          0.4232523359522038,
          0.4232523359522038,
          -0.4796443371241659,
          -0.4796443371241659,
          -0.4796443371241659,
          -0.4796443371241659,
          -0.4796443371241659,
          -0.4796443371241659,
          -0.4796443371241659,
          -0.4796443371241659,
          -0.4796443371241659,
          -0.4796443371241659,
          -0.4796443371241659,
          -0.4796443371241659,
          -0.4796443371241659,
          -0.4796443371241659,
          -0.4796443371241659,
          -0.4796443371241659,
          -0.4796443371241659,
          -0.4796443371241659,
          -0.4796443371241659,
          -0.4796443371241659,
          -0.4796443371241659,
          -0.4796443371241659,
          -0.4796443371241659,
          -0.4796443371241659,
          -0.4796443371241659,
          -0.4796443371241659,
          -0.4796443371241659,
          -0.4796443371241659,
          -0.4796443371241659,
          -0.4796443371241659,
          -0.4796443371241659,
          -0.4796443371241659,
          -0.4796443371241659,
          -0.4796443371241659,
          -0.4796443371241659,
          -0.4796443371241659,
          -0.4796443371241659,
          -0.4796443371241659,
          -0.4796443371241659,
          -0.4796443371241659,
          -0.4796443371241659,
          -0.4796443371241659,
          -0.4796443371241659,
          -0.4796443371241659,
          -0.4796443371241659,
          -0.4796443371241659,
          -0.1582704346875015,
          -0.1582704346875015,
          -0.1582704346875015,
          -0.1582704346875015,
          -0.1582704346875015,
          -0.1582704346875015,
          -0.1582704346875015,
          -0.1582704346875015,
          -0.1582704346875015,
          -0.1582704346875015,
          -0.1582704346875015,
          -0.1582704346875015,
          -0.1582704346875015,
          -0.1582704346875015,
          -0.1582704346875015,
          -0.1582704346875015,
          -0.1582704346875015,
          -0.1582704346875015,
          -0.1582704346875015,
          -0.1582704346875015,
          -0.1582704346875015,
          -0.1582704346875015,
          -0.1582704346875015,
          -0.1582704346875015,
          -0.1582704346875015,
          -0.1582704346875015,
          -0.1582704346875015,
          -0.1582704346875015,
          -0.1582704346875015,
          -0.1582704346875015,
          -0.1582704346875015,
          -0.1582704346875015,
          -0.1582704346875015,
          -0.1582704346875015,
          -0.1582704346875015,
          -0.1582704346875015,
          -0.1582704346875015,
          -0.1582704346875015,
          -0.1582704346875015,
          -0.1582704346875015,
          -0.1582704346875015,
          -0.1582704346875015,
          -0.1582704346875015,
          -0.1582704346875015,
          -0.1582704346875015,
          -0.1582704346875015,
          -0.1582704346875015,
          -0.1582704346875015,
          -0.1582704346875015,
          -0.1582704346875015,
          -0.1582704346875015,
          -0.1582704346875015,
          -0.1582704346875015,
          -0.1582704346875015,
          -0.1582704346875015,
          -0.1582704346875015,
          -0.1582704346875015,
          -0.1582704346875015,
          -0.1582704346875015,
          -0.1582704346875015,
          -0.1582704346875015,
          -0.1582704346875015,
          -0.1582704346875015,
          -0.1582704346875015,
          -0.1582704346875015,
          -0.1582704346875015,
          -0.1582704346875015,
          -0.1582704346875015,
          -0.1582704346875015,
          -0.1582704346875015,
          -0.1582704346875015,
          -0.1582704346875015,
          -0.1582704346875015,
          -0.1582704346875015,
          -0.1582704346875015,
          -0.1582704346875015,
          -0.1582704346875015,
          -0.1582704346875015,
          -0.1582704346875015,
          -0.1582704346875015,
          -0.1582704346875015,
          -0.1582704346875015,
          -0.1582704346875015,
          -0.1582704346875015,
          -0.1582704346875015,
          -0.1582704346875015,
          -0.1582704346875015,
          -0.1582704346875015,
          -0.1582704346875015,
          -0.1582704346875015,
          -0.1582704346875015,
          -0.1582704346875015,
          -0.1582704346875015,
          -0.1582704346875015,
          -0.1582704346875015,
          -0.1582704346875015,
          -0.1582704346875015,
          -0.1582704346875015,
          -0.1582704346875015,
          -0.1582704346875015,
          -0.1582704346875015,
          -0.1582704346875015,
          -0.1582704346875015,
          -0.1582704346875015,
          -0.1582704346875015,
          -0.1582704346875015,
          -0.1582704346875015,
          -0.1582704346875015,
          -0.1582704346875015,
          -0.1582704346875015,
          -0.1582704346875015,
          -0.1582704346875015,
          -0.1582704346875015,
          -0.1582704346875015,
          -0.1582704346875015,
          -0.1582704346875015,
          -0.1582704346875015,
          -0.1582704346875015,
          -0.1582704346875015,
          -0.1582704346875015,
          -0.1582704346875015,
          -0.1582704346875015,
          -0.1582704346875015,
          -0.1582704346875015,
          -0.1582704346875015,
          -0.1582704346875015,
          -0.1582704346875015,
          -0.1582704346875015,
          -0.1582704346875015,
          -0.1582704346875015,
          -0.1582704346875015,
          -0.1582704346875015,
          -0.1582704346875015,
          -0.1582704346875015,
          -0.1582704346875015,
          -0.1582704346875015,
          -0.1582704346875015,
          -0.1582704346875015,
          -0.1582704346875015,
          -0.1582704346875015,
          -0.1582704346875015,
          -0.1582704346875015,
          -0.1582704346875015,
          -0.1582704346875015,
          -0.1582704346875015,
          -0.1582704346875015,
          -0.1582704346875015,
          -0.1582704346875015,
          -0.1582704346875015,
          -0.1582704346875015,
          -0.1582704346875015,
          -0.1582704346875015,
          -0.1582704346875015,
          -0.1582704346875015,
          -0.1582704346875015,
          -0.1582704346875015,
          -0.1582704346875015,
          -0.1582704346875015,
          -0.1582704346875015,
          -0.1582704346875015,
          -0.1582704346875015,
          -0.1582704346875015,
          -0.1582704346875015,
          -0.1582704346875015,
          -0.1582704346875015,
          -0.1582704346875015,
          -0.1582704346875015,
          -0.1582704346875015,
          -0.1582704346875015,
          -0.1582704346875015,
          -0.1582704346875015,
          -0.1582704346875015,
          -0.1582704346875015,
          -0.1582704346875015,
          -0.1582704346875015,
          -0.1582704346875015,
          -0.1582704346875015,
          -0.1582704346875015,
          -0.1582704346875015,
          -0.1582704346875015,
          -0.1582704346875015,
          -0.1582704346875015,
          -0.1582704346875015,
          -0.1582704346875015,
          -0.1582704346875015,
          -0.1582704346875015,
          -0.1582704346875015,
          -0.1582704346875015,
          -0.1582704346875015,
          -0.1582704346875015,
          -0.1582704346875015,
          -0.1582704346875015,
          -0.1582704346875015,
          -0.1582704346875015,
          -0.1582704346875015,
          -0.1582704346875015,
          -0.1582704346875015,
          -0.1582704346875015,
          -0.1582704346875015,
          -0.1582704346875015,
          -0.1582704346875015,
          -0.1582704346875015,
          -0.1582704346875015,
          -0.1582704346875015,
          -0.1582704346875015,
          -0.1582704346875015,
          -0.1582704346875015,
          -0.1582704346875015,
          -0.1582704346875015,
          -0.1582704346875015,
          -0.1582704346875015,
          -0.1582704346875015,
          -0.1582704346875015,
          -0.1582704346875015,
          -0.1582704346875015,
          -0.1582704346875015,
          -0.1582704346875015,
          -0.1582704346875015,
          -0.1582704346875015,
          -0.1582704346875015,
          -0.1582704346875015,
          -0.1582704346875015,
          -0.1582704346875015,
          -0.1582704346875015,
          -0.1582704346875015,
          -0.1582704346875015,
          -0.1582704346875015,
          -0.1582704346875015,
          -0.1582704346875015,
          -0.1582704346875015,
          -0.1582704346875015,
          -0.1582704346875015,
          -0.1582704346875015,
          -0.1582704346875015,
          -0.1582704346875015,
          -0.1582704346875015,
          -0.1582704346875015,
          -0.1582704346875015,
          -0.1582704346875015,
          -0.1582704346875015,
          -0.1582704346875015,
          -0.1582704346875015,
          -0.1582704346875015,
          -0.1582704346875015,
          -0.1582704346875015,
          -0.1582704346875015,
          -0.1582704346875015,
          -0.1582704346875015,
          -0.1582704346875015,
          -0.1582704346875015,
          -0.1582704346875015,
          -0.1582704346875015,
          -0.1582704346875015,
          -0.1582704346875015,
          -0.1582704346875015,
          -0.1582704346875015,
          -0.1582704346875015,
          -0.1582704346875015,
          -0.1582704346875015,
          -0.1582704346875015,
          -0.1582704346875015,
          -0.1582704346875015,
          -0.1582704346875015,
          -0.1582704346875015,
          -0.1582704346875015,
          -0.1582704346875015,
          -0.1582704346875015,
          -0.1582704346875015,
          -0.1582704346875015,
          -0.1582704346875015,
          -0.1582704346875015,
          -0.1582704346875015,
          -0.1582704346875015,
          -0.1582704346875015,
          -0.1582704346875015,
          -0.1582704346875015,
          0.005401600386888308,
          0.005401600386888308,
          0.005401600386888308,
          0.005401600386888308,
          0.005401600386888308,
          0.005401600386888308,
          0.005401600386888308,
          0.005401600386888308,
          0.005401600386888308,
          0.005401600386888308,
          0.005401600386888308,
          0.005401600386888308,
          0.005401600386888308,
          0.005401600386888308,
          0.005401600386888308,
          0.005401600386888308,
          0.005401600386888308,
          0.005401600386888308,
          0.005401600386888308,
          0.005401600386888308,
          0.005401600386888308,
          0.005401600386888308,
          0.005401600386888308,
          0.005401600386888308,
          0.005401600386888308,
          0.005401600386888308,
          0.005401600386888308,
          0.005401600386888308,
          0.005401600386888308,
          0.005401600386888308,
          0.005401600386888308,
          0.005401600386888308,
          0.005401600386888308,
          0.005401600386888308,
          0.005401600386888308,
          0.005401600386888308,
          0.005401600386888308,
          0.005401600386888308,
          0.005401600386888308,
          0.005401600386888308,
          0.005401600386888308,
          0.005401600386888308,
          0.005401600386888308,
          0.005401600386888308,
          0.005401600386888308,
          0.005401600386888308,
          0.005401600386888308,
          0.005401600386888308,
          0.005401600386888308,
          0.005401600386888308,
          0.005401600386888308,
          0.005401600386888308,
          0.005401600386888308,
          0.005401600386888308,
          0.005401600386888308,
          0.005401600386888308,
          0.005401600386888308,
          0.005401600386888308,
          0.005401600386888308,
          0.005401600386888308,
          0.005401600386888308,
          0.005401600386888308,
          0.005401600386888308,
          0.005401600386888308,
          0.005401600386888308,
          0.005401600386888308,
          0.005401600386888308,
          0.005401600386888308,
          0.005401600386888308,
          0.005401600386888308,
          0.005401600386888308,
          0.005401600386888308,
          0.005401600386888308,
          0.005401600386888308,
          0.005401600386888308,
          0.005401600386888308,
          0.005401600386888308,
          0.005401600386888308,
          0.005401600386888308,
          0.005401600386888308,
          0.005401600386888308,
          0.005401600386888308,
          0.005401600386888308,
          0.005401600386888308,
          0.005401600386888308,
          0.005401600386888308,
          0.005401600386888308,
          0.005401600386888308,
          0.005401600386888308,
          0.005401600386888308,
          0.005401600386888308,
          0.005401600386888308,
          0.005401600386888308,
          0.005401600386888308,
          0.005401600386888308,
          0.005401600386888308,
          0.005401600386888308,
          0.005401600386888308,
          0.005401600386888308,
          0.005401600386888308,
          0.005401600386888308,
          0.005401600386888308,
          0.005401600386888308,
          0.005401600386888308,
          0.005401600386888308,
          0.005401600386888308,
          0.005401600386888308,
          0.005401600386888308,
          0.005401600386888308,
          0.005401600386888308,
          0.005401600386888308,
          0.005401600386888308,
          0.005401600386888308,
          0.005401600386888308,
          0.005401600386888308,
          0.005401600386888308,
          0.005401600386888308,
          0.005401600386888308,
          0.005401600386888308,
          0.005401600386888308,
          0.005401600386888308,
          0.005401600386888308,
          0.005401600386888308,
          0.005401600386888308,
          0.005401600386888308,
          0.005401600386888308,
          0.005401600386888308,
          0.005401600386888308,
          0.005401600386888308,
          0.005401600386888308,
          0.005401600386888308,
          0.005401600386888308,
          0.005401600386888308,
          0.005401600386888308,
          0.005401600386888308,
          0.005401600386888308,
          0.005401600386888308,
          0.005401600386888308,
          0.005401600386888308,
          0.005401600386888308,
          0.005401600386888308,
          0.005401600386888308,
          0.005401600386888308,
          0.005401600386888308,
          0.005401600386888308,
          0.005401600386888308,
          0.005401600386888308,
          0.005401600386888308,
          0.005401600386888308,
          0.005401600386888308,
          0.005401600386888308,
          0.005401600386888308,
          0.005401600386888308,
          0.005401600386888308,
          0.005401600386888308,
          0.005401600386888308,
          0.005401600386888308,
          0.005401600386888308,
          0.005401600386888308,
          0.005401600386888308,
          0.005401600386888308,
          0.005401600386888308,
          0.005401600386888308,
          0.005401600386888308,
          0.005401600386888308,
          0.005401600386888308,
          0.005401600386888308,
          0.005401600386888308,
          0.005401600386888308,
          0.005401600386888308,
          0.005401600386888308,
          0.005401600386888308,
          0.005401600386888308,
          0.005401600386888308,
          0.005401600386888308,
          0.005401600386888308,
          0.005401600386888308,
          0.005401600386888308,
          0.005401600386888308,
          0.005401600386888308,
          0.005401600386888308,
          0.005401600386888308,
          0.005401600386888308,
          0.005401600386888308,
          0.005401600386888308,
          0.005401600386888308,
          0.005401600386888308,
          0.005401600386888308,
          0.005401600386888308,
          0.005401600386888308,
          0.005401600386888308,
          0.005401600386888308,
          0.005401600386888308,
          0.005401600386888308,
          0.005401600386888308,
          0.005401600386888308,
          0.005401600386888308,
          0.005401600386888308,
          0.005401600386888308,
          0.005401600386888308,
          0.005401600386888308,
          0.005401600386888308,
          0.005401600386888308,
          0.005401600386888308,
          0.005401600386888308,
          0.005401600386888308,
          0.005401600386888308,
          0.005401600386888308,
          0.005401600386888308,
          0.005401600386888308,
          0.005401600386888308,
          0.005401600386888308,
          0.005401600386888308,
          0.005401600386888308,
          0.005401600386888308,
          0.005401600386888308,
          0.005401600386888308,
          0.005401600386888308,
          0.005401600386888308,
          0.005401600386888308,
          0.005401600386888308,
          0.005401600386888308,
          0.005401600386888308,
          0.005401600386888308,
          0.005401600386888308,
          0.005401600386888308,
          0.005401600386888308,
          0.005401600386888308,
          0.005401600386888308,
          0.005401600386888308,
          0.005401600386888308,
          0.005401600386888308,
          0.005401600386888308,
          0.005401600386888308,
          0.005401600386888308,
          0.005401600386888308,
          0.005401600386888308,
          0.005401600386888308,
          0.005401600386888308,
          0.005401600386888308,
          0.005401600386888308,
          0.005401600386888308,
          0.005401600386888308,
          0.005401600386888308,
          0.005401600386888308,
          0.005401600386888308,
          0.005401600386888308,
          0.005401600386888308,
          0.005401600386888308,
          0.005401600386888308,
          0.005401600386888308,
          0.005401600386888308,
          0.005401600386888308,
          0.005401600386888308,
          0.005401600386888308,
          0.005401600386888308,
          0.005401600386888308,
          0.005401600386888308,
          0.005401600386888308,
          0.005401600386888308,
          0.005401600386888308,
          0.005401600386888308,
          0.005401600386888308,
          0.005401600386888308,
          0.005401600386888308,
          0.005401600386888308,
          0.005401600386888308,
          0.005401600386888308,
          0.005401600386888308,
          0.005401600386888308,
          0.005401600386888308,
          0.005401600386888308,
          0.005401600386888308,
          0.005401600386888308,
          0.005401600386888308,
          0.005401600386888308
         ]
        }
       ],
       "layout": {
        "coloraxis": {
         "colorbar": {
          "title": {
           "text": "total_return"
          }
         },
         "colorscale": [
          [
           0,
           "#0d0887"
          ],
          [
           0.1111111111111111,
           "#46039f"
          ],
          [
           0.2222222222222222,
           "#7201a8"
          ],
          [
           0.3333333333333333,
           "#9c179e"
          ],
          [
           0.4444444444444444,
           "#bd3786"
          ],
          [
           0.5555555555555556,
           "#d8576b"
          ],
          [
           0.6666666666666666,
           "#ed7953"
          ],
          [
           0.7777777777777778,
           "#fb9f3a"
          ],
          [
           0.8888888888888888,
           "#fdca26"
          ],
          [
           1,
           "#f0f921"
          ]
         ]
        },
        "height": 600,
        "legend": {
         "tracegroupgap": 0
        },
        "scene": {
         "domain": {
          "x": [
           0,
           1
          ],
          "y": [
           0,
           1
          ]
         },
         "xaxis": {
          "title": {
           "text": "X"
          }
         },
         "yaxis": {
          "title": {
           "text": "sl_stop"
          }
         },
         "zaxis": {
          "title": {
           "text": "sharpe"
          }
         }
        },
        "template": {
         "data": {
          "bar": [
           {
            "error_x": {
             "color": "#2a3f5f"
            },
            "error_y": {
             "color": "#2a3f5f"
            },
            "marker": {
             "line": {
              "color": "#E5ECF6",
              "width": 0.5
             },
             "pattern": {
              "fillmode": "overlay",
              "size": 10,
              "solidity": 0.2
             }
            },
            "type": "bar"
           }
          ],
          "barpolar": [
           {
            "marker": {
             "line": {
              "color": "#E5ECF6",
              "width": 0.5
             },
             "pattern": {
              "fillmode": "overlay",
              "size": 10,
              "solidity": 0.2
             }
            },
            "type": "barpolar"
           }
          ],
          "carpet": [
           {
            "aaxis": {
             "endlinecolor": "#2a3f5f",
             "gridcolor": "white",
             "linecolor": "white",
             "minorgridcolor": "white",
             "startlinecolor": "#2a3f5f"
            },
            "baxis": {
             "endlinecolor": "#2a3f5f",
             "gridcolor": "white",
             "linecolor": "white",
             "minorgridcolor": "white",
             "startlinecolor": "#2a3f5f"
            },
            "type": "carpet"
           }
          ],
          "choropleth": [
           {
            "colorbar": {
             "outlinewidth": 0,
             "ticks": ""
            },
            "type": "choropleth"
           }
          ],
          "contour": [
           {
            "colorbar": {
             "outlinewidth": 0,
             "ticks": ""
            },
            "colorscale": [
             [
              0,
              "#0d0887"
             ],
             [
              0.1111111111111111,
              "#46039f"
             ],
             [
              0.2222222222222222,
              "#7201a8"
             ],
             [
              0.3333333333333333,
              "#9c179e"
             ],
             [
              0.4444444444444444,
              "#bd3786"
             ],
             [
              0.5555555555555556,
              "#d8576b"
             ],
             [
              0.6666666666666666,
              "#ed7953"
             ],
             [
              0.7777777777777778,
              "#fb9f3a"
             ],
             [
              0.8888888888888888,
              "#fdca26"
             ],
             [
              1,
              "#f0f921"
             ]
            ],
            "type": "contour"
           }
          ],
          "contourcarpet": [
           {
            "colorbar": {
             "outlinewidth": 0,
             "ticks": ""
            },
            "type": "contourcarpet"
           }
          ],
          "heatmap": [
           {
            "colorbar": {
             "outlinewidth": 0,
             "ticks": ""
            },
            "colorscale": [
             [
              0,
              "#0d0887"
             ],
             [
              0.1111111111111111,
              "#46039f"
             ],
             [
              0.2222222222222222,
              "#7201a8"
             ],
             [
              0.3333333333333333,
              "#9c179e"
             ],
             [
              0.4444444444444444,
              "#bd3786"
             ],
             [
              0.5555555555555556,
              "#d8576b"
             ],
             [
              0.6666666666666666,
              "#ed7953"
             ],
             [
              0.7777777777777778,
              "#fb9f3a"
             ],
             [
              0.8888888888888888,
              "#fdca26"
             ],
             [
              1,
              "#f0f921"
             ]
            ],
            "type": "heatmap"
           }
          ],
          "heatmapgl": [
           {
            "colorbar": {
             "outlinewidth": 0,
             "ticks": ""
            },
            "colorscale": [
             [
              0,
              "#0d0887"
             ],
             [
              0.1111111111111111,
              "#46039f"
             ],
             [
              0.2222222222222222,
              "#7201a8"
             ],
             [
              0.3333333333333333,
              "#9c179e"
             ],
             [
              0.4444444444444444,
              "#bd3786"
             ],
             [
              0.5555555555555556,
              "#d8576b"
             ],
             [
              0.6666666666666666,
              "#ed7953"
             ],
             [
              0.7777777777777778,
              "#fb9f3a"
             ],
             [
              0.8888888888888888,
              "#fdca26"
             ],
             [
              1,
              "#f0f921"
             ]
            ],
            "type": "heatmapgl"
           }
          ],
          "histogram": [
           {
            "marker": {
             "pattern": {
              "fillmode": "overlay",
              "size": 10,
              "solidity": 0.2
             }
            },
            "type": "histogram"
           }
          ],
          "histogram2d": [
           {
            "colorbar": {
             "outlinewidth": 0,
             "ticks": ""
            },
            "colorscale": [
             [
              0,
              "#0d0887"
             ],
             [
              0.1111111111111111,
              "#46039f"
             ],
             [
              0.2222222222222222,
              "#7201a8"
             ],
             [
              0.3333333333333333,
              "#9c179e"
             ],
             [
              0.4444444444444444,
              "#bd3786"
             ],
             [
              0.5555555555555556,
              "#d8576b"
             ],
             [
              0.6666666666666666,
              "#ed7953"
             ],
             [
              0.7777777777777778,
              "#fb9f3a"
             ],
             [
              0.8888888888888888,
              "#fdca26"
             ],
             [
              1,
              "#f0f921"
             ]
            ],
            "type": "histogram2d"
           }
          ],
          "histogram2dcontour": [
           {
            "colorbar": {
             "outlinewidth": 0,
             "ticks": ""
            },
            "colorscale": [
             [
              0,
              "#0d0887"
             ],
             [
              0.1111111111111111,
              "#46039f"
             ],
             [
              0.2222222222222222,
              "#7201a8"
             ],
             [
              0.3333333333333333,
              "#9c179e"
             ],
             [
              0.4444444444444444,
              "#bd3786"
             ],
             [
              0.5555555555555556,
              "#d8576b"
             ],
             [
              0.6666666666666666,
              "#ed7953"
             ],
             [
              0.7777777777777778,
              "#fb9f3a"
             ],
             [
              0.8888888888888888,
              "#fdca26"
             ],
             [
              1,
              "#f0f921"
             ]
            ],
            "type": "histogram2dcontour"
           }
          ],
          "mesh3d": [
           {
            "colorbar": {
             "outlinewidth": 0,
             "ticks": ""
            },
            "type": "mesh3d"
           }
          ],
          "parcoords": [
           {
            "line": {
             "colorbar": {
              "outlinewidth": 0,
              "ticks": ""
             }
            },
            "type": "parcoords"
           }
          ],
          "pie": [
           {
            "automargin": true,
            "type": "pie"
           }
          ],
          "scatter": [
           {
            "fillpattern": {
             "fillmode": "overlay",
             "size": 10,
             "solidity": 0.2
            },
            "type": "scatter"
           }
          ],
          "scatter3d": [
           {
            "line": {
             "colorbar": {
              "outlinewidth": 0,
              "ticks": ""
             }
            },
            "marker": {
             "colorbar": {
              "outlinewidth": 0,
              "ticks": ""
             }
            },
            "type": "scatter3d"
           }
          ],
          "scattercarpet": [
           {
            "marker": {
             "colorbar": {
              "outlinewidth": 0,
              "ticks": ""
             }
            },
            "type": "scattercarpet"
           }
          ],
          "scattergeo": [
           {
            "marker": {
             "colorbar": {
              "outlinewidth": 0,
              "ticks": ""
             }
            },
            "type": "scattergeo"
           }
          ],
          "scattergl": [
           {
            "marker": {
             "colorbar": {
              "outlinewidth": 0,
              "ticks": ""
             }
            },
            "type": "scattergl"
           }
          ],
          "scattermapbox": [
           {
            "marker": {
             "colorbar": {
              "outlinewidth": 0,
              "ticks": ""
             }
            },
            "type": "scattermapbox"
           }
          ],
          "scatterpolar": [
           {
            "marker": {
             "colorbar": {
              "outlinewidth": 0,
              "ticks": ""
             }
            },
            "type": "scatterpolar"
           }
          ],
          "scatterpolargl": [
           {
            "marker": {
             "colorbar": {
              "outlinewidth": 0,
              "ticks": ""
             }
            },
            "type": "scatterpolargl"
           }
          ],
          "scatterternary": [
           {
            "marker": {
             "colorbar": {
              "outlinewidth": 0,
              "ticks": ""
             }
            },
            "type": "scatterternary"
           }
          ],
          "surface": [
           {
            "colorbar": {
             "outlinewidth": 0,
             "ticks": ""
            },
            "colorscale": [
             [
              0,
              "#0d0887"
             ],
             [
              0.1111111111111111,
              "#46039f"
             ],
             [
              0.2222222222222222,
              "#7201a8"
             ],
             [
              0.3333333333333333,
              "#9c179e"
             ],
             [
              0.4444444444444444,
              "#bd3786"
             ],
             [
              0.5555555555555556,
              "#d8576b"
             ],
             [
              0.6666666666666666,
              "#ed7953"
             ],
             [
              0.7777777777777778,
              "#fb9f3a"
             ],
             [
              0.8888888888888888,
              "#fdca26"
             ],
             [
              1,
              "#f0f921"
             ]
            ],
            "type": "surface"
           }
          ],
          "table": [
           {
            "cells": {
             "fill": {
              "color": "#EBF0F8"
             },
             "line": {
              "color": "white"
             }
            },
            "header": {
             "fill": {
              "color": "#C8D4E3"
             },
             "line": {
              "color": "white"
             }
            },
            "type": "table"
           }
          ]
         },
         "layout": {
          "annotationdefaults": {
           "arrowcolor": "#2a3f5f",
           "arrowhead": 0,
           "arrowwidth": 1
          },
          "autotypenumbers": "strict",
          "coloraxis": {
           "colorbar": {
            "outlinewidth": 0,
            "ticks": ""
           }
          },
          "colorscale": {
           "diverging": [
            [
             0,
             "#8e0152"
            ],
            [
             0.1,
             "#c51b7d"
            ],
            [
             0.2,
             "#de77ae"
            ],
            [
             0.3,
             "#f1b6da"
            ],
            [
             0.4,
             "#fde0ef"
            ],
            [
             0.5,
             "#f7f7f7"
            ],
            [
             0.6,
             "#e6f5d0"
            ],
            [
             0.7,
             "#b8e186"
            ],
            [
             0.8,
             "#7fbc41"
            ],
            [
             0.9,
             "#4d9221"
            ],
            [
             1,
             "#276419"
            ]
           ],
           "sequential": [
            [
             0,
             "#0d0887"
            ],
            [
             0.1111111111111111,
             "#46039f"
            ],
            [
             0.2222222222222222,
             "#7201a8"
            ],
            [
             0.3333333333333333,
             "#9c179e"
            ],
            [
             0.4444444444444444,
             "#bd3786"
            ],
            [
             0.5555555555555556,
             "#d8576b"
            ],
            [
             0.6666666666666666,
             "#ed7953"
            ],
            [
             0.7777777777777778,
             "#fb9f3a"
            ],
            [
             0.8888888888888888,
             "#fdca26"
            ],
            [
             1,
             "#f0f921"
            ]
           ],
           "sequentialminus": [
            [
             0,
             "#0d0887"
            ],
            [
             0.1111111111111111,
             "#46039f"
            ],
            [
             0.2222222222222222,
             "#7201a8"
            ],
            [
             0.3333333333333333,
             "#9c179e"
            ],
            [
             0.4444444444444444,
             "#bd3786"
            ],
            [
             0.5555555555555556,
             "#d8576b"
            ],
            [
             0.6666666666666666,
             "#ed7953"
            ],
            [
             0.7777777777777778,
             "#fb9f3a"
            ],
            [
             0.8888888888888888,
             "#fdca26"
            ],
            [
             1,
             "#f0f921"
            ]
           ]
          },
          "colorway": [
           "#636efa",
           "#EF553B",
           "#00cc96",
           "#ab63fa",
           "#FFA15A",
           "#19d3f3",
           "#FF6692",
           "#B6E880",
           "#FF97FF",
           "#FECB52"
          ],
          "font": {
           "color": "#2a3f5f"
          },
          "geo": {
           "bgcolor": "white",
           "lakecolor": "white",
           "landcolor": "#E5ECF6",
           "showlakes": true,
           "showland": true,
           "subunitcolor": "white"
          },
          "hoverlabel": {
           "align": "left"
          },
          "hovermode": "closest",
          "mapbox": {
           "style": "light"
          },
          "paper_bgcolor": "white",
          "plot_bgcolor": "#E5ECF6",
          "polar": {
           "angularaxis": {
            "gridcolor": "white",
            "linecolor": "white",
            "ticks": ""
           },
           "bgcolor": "#E5ECF6",
           "radialaxis": {
            "gridcolor": "white",
            "linecolor": "white",
            "ticks": ""
           }
          },
          "scene": {
           "xaxis": {
            "backgroundcolor": "#E5ECF6",
            "gridcolor": "white",
            "gridwidth": 2,
            "linecolor": "white",
            "showbackground": true,
            "ticks": "",
            "zerolinecolor": "white"
           },
           "yaxis": {
            "backgroundcolor": "#E5ECF6",
            "gridcolor": "white",
            "gridwidth": 2,
            "linecolor": "white",
            "showbackground": true,
            "ticks": "",
            "zerolinecolor": "white"
           },
           "zaxis": {
            "backgroundcolor": "#E5ECF6",
            "gridcolor": "white",
            "gridwidth": 2,
            "linecolor": "white",
            "showbackground": true,
            "ticks": "",
            "zerolinecolor": "white"
           }
          },
          "shapedefaults": {
           "line": {
            "color": "#2a3f5f"
           }
          },
          "ternary": {
           "aaxis": {
            "gridcolor": "white",
            "linecolor": "white",
            "ticks": ""
           },
           "baxis": {
            "gridcolor": "white",
            "linecolor": "white",
            "ticks": ""
           },
           "bgcolor": "#E5ECF6",
           "caxis": {
            "gridcolor": "white",
            "linecolor": "white",
            "ticks": ""
           }
          },
          "title": {
           "x": 0.05
          },
          "xaxis": {
           "automargin": true,
           "gridcolor": "white",
           "linecolor": "white",
           "ticks": "",
           "title": {
            "standoff": 15
           },
           "zerolinecolor": "white",
           "zerolinewidth": 2
          },
          "yaxis": {
           "automargin": true,
           "gridcolor": "white",
           "linecolor": "white",
           "ticks": "",
           "title": {
            "standoff": 15
           },
           "zerolinecolor": "white",
           "zerolinewidth": 2
          }
         }
        },
        "title": {
         "text": "3D визуализация бектестинга"
        }
       }
      }
     },
     "metadata": {},
     "output_type": "display_data"
    }
   ],
   "source": [
    "fig_3d = px.scatter_3d(\n",
    "    results_df,\n",
    "    x=\"X\",\n",
    "    y=\"sl_stop\",\n",
    "    z=\"sharpe\",\n",
    "    color=\"total_return\",\n",
    "    title=\"3D визуализация бектестинга\",\n",
    "    height=600,\n",
    "    hover_data=['drawdown']\n",
    ")\n",
    "\n",
    "fig_3d.show()"
   ]
  },
  {
   "cell_type": "code",
   "execution_count": null,
   "metadata": {},
   "outputs": [],
   "source": []
  },
  {
   "cell_type": "code",
   "execution_count": null,
   "metadata": {},
   "outputs": [],
   "source": []
  },
  {
   "cell_type": "code",
   "execution_count": null,
   "metadata": {},
   "outputs": [],
   "source": []
  },
  {
   "cell_type": "code",
   "execution_count": null,
   "metadata": {},
   "outputs": [
    {
     "data": {
      "text/html": [
       "<div>\n",
       "<style scoped>\n",
       "    .dataframe tbody tr th:only-of-type {\n",
       "        vertical-align: middle;\n",
       "    }\n",
       "\n",
       "    .dataframe tbody tr th {\n",
       "        vertical-align: top;\n",
       "    }\n",
       "\n",
       "    .dataframe thead th {\n",
       "        text-align: right;\n",
       "    }\n",
       "</style>\n",
       "<table border=\"1\" class=\"dataframe\">\n",
       "  <thead>\n",
       "    <tr style=\"text-align: right;\">\n",
       "      <th></th>\n",
       "      <th>0</th>\n",
       "    </tr>\n",
       "  </thead>\n",
       "  <tbody>\n",
       "    <tr>\n",
       "      <th>2023-12-01 00:01:00</th>\n",
       "      <td>2023-12-01 00:01:00</td>\n",
       "    </tr>\n",
       "    <tr>\n",
       "      <th>2023-12-01 00:02:00</th>\n",
       "      <td>2023-12-01 00:02:00</td>\n",
       "    </tr>\n",
       "    <tr>\n",
       "      <th>2023-12-01 00:03:00</th>\n",
       "      <td>2023-12-01 00:03:00</td>\n",
       "    </tr>\n",
       "    <tr>\n",
       "      <th>2023-12-01 00:04:00</th>\n",
       "      <td>2023-12-01 00:04:00</td>\n",
       "    </tr>\n",
       "    <tr>\n",
       "      <th>2023-12-01 00:05:00</th>\n",
       "      <td>2023-12-01 00:05:00</td>\n",
       "    </tr>\n",
       "    <tr>\n",
       "      <th>...</th>\n",
       "      <td>...</td>\n",
       "    </tr>\n",
       "    <tr>\n",
       "      <th>2025-02-24 17:28:00</th>\n",
       "      <td>2025-02-24 17:28:00</td>\n",
       "    </tr>\n",
       "    <tr>\n",
       "      <th>2025-02-24 17:29:00</th>\n",
       "      <td>2025-02-24 17:29:00</td>\n",
       "    </tr>\n",
       "    <tr>\n",
       "      <th>2025-02-24 17:30:00</th>\n",
       "      <td>2025-02-24 17:30:00</td>\n",
       "    </tr>\n",
       "    <tr>\n",
       "      <th>2025-02-24 17:31:00</th>\n",
       "      <td>2025-02-24 17:31:00</td>\n",
       "    </tr>\n",
       "    <tr>\n",
       "      <th>2025-02-24 17:32:00</th>\n",
       "      <td>2025-02-24 17:32:00</td>\n",
       "    </tr>\n",
       "  </tbody>\n",
       "</table>\n",
       "<p>650492 rows × 1 columns</p>\n",
       "</div>"
      ],
      "text/plain": [
       "                                      0\n",
       "2023-12-01 00:01:00 2023-12-01 00:01:00\n",
       "2023-12-01 00:02:00 2023-12-01 00:02:00\n",
       "2023-12-01 00:03:00 2023-12-01 00:03:00\n",
       "2023-12-01 00:04:00 2023-12-01 00:04:00\n",
       "2023-12-01 00:05:00 2023-12-01 00:05:00\n",
       "...                                 ...\n",
       "2025-02-24 17:28:00 2025-02-24 17:28:00\n",
       "2025-02-24 17:29:00 2025-02-24 17:29:00\n",
       "2025-02-24 17:30:00 2025-02-24 17:30:00\n",
       "2025-02-24 17:31:00 2025-02-24 17:31:00\n",
       "2025-02-24 17:32:00 2025-02-24 17:32:00\n",
       "\n",
       "[650492 rows x 1 columns]"
      ]
     },
     "execution_count": 24,
     "metadata": {},
     "output_type": "execute_result"
    }
   ],
   "source": []
  },
  {
   "cell_type": "code",
   "execution_count": null,
   "metadata": {},
   "outputs": [],
   "source": []
  },
  {
   "cell_type": "code",
   "execution_count": null,
   "metadata": {},
   "outputs": [],
   "source": []
  },
  {
   "cell_type": "code",
   "execution_count": null,
   "metadata": {},
   "outputs": [],
   "source": []
  },
  {
   "cell_type": "code",
   "execution_count": 8,
   "metadata": {},
   "outputs": [
    {
     "data": {
      "text/html": [
       "<div>\n",
       "<style scoped>\n",
       "    .dataframe tbody tr th:only-of-type {\n",
       "        vertical-align: middle;\n",
       "    }\n",
       "\n",
       "    .dataframe tbody tr th {\n",
       "        vertical-align: top;\n",
       "    }\n",
       "\n",
       "    .dataframe thead th {\n",
       "        text-align: right;\n",
       "    }\n",
       "</style>\n",
       "<table border=\"1\" class=\"dataframe\">\n",
       "  <thead>\n",
       "    <tr style=\"text-align: right;\">\n",
       "      <th></th>\n",
       "      <th>contract</th>\n",
       "      <th>instrument</th>\n",
       "      <th>bid</th>\n",
       "      <th>offer</th>\n",
       "      <th>bid_size</th>\n",
       "      <th>offer_size</th>\n",
       "      <th>timestamp</th>\n",
       "      <th>adjustment</th>\n",
       "    </tr>\n",
       "  </thead>\n",
       "  <tbody>\n",
       "    <tr>\n",
       "      <th>0</th>\n",
       "      <td>ES</td>\n",
       "      <td>ESZ3</td>\n",
       "      <td>4572.75</td>\n",
       "      <td>4573.00</td>\n",
       "      <td>21</td>\n",
       "      <td>31</td>\n",
       "      <td>2023-12-01 00:01:00</td>\n",
       "      <td>316.375</td>\n",
       "    </tr>\n",
       "    <tr>\n",
       "      <th>1</th>\n",
       "      <td>ES</td>\n",
       "      <td>ESZ3</td>\n",
       "      <td>4572.50</td>\n",
       "      <td>4572.75</td>\n",
       "      <td>31</td>\n",
       "      <td>23</td>\n",
       "      <td>2023-12-01 00:02:00</td>\n",
       "      <td>316.375</td>\n",
       "    </tr>\n",
       "    <tr>\n",
       "      <th>2</th>\n",
       "      <td>ES</td>\n",
       "      <td>ESZ3</td>\n",
       "      <td>4571.75</td>\n",
       "      <td>4572.00</td>\n",
       "      <td>69</td>\n",
       "      <td>20</td>\n",
       "      <td>2023-12-01 00:03:00</td>\n",
       "      <td>316.375</td>\n",
       "    </tr>\n",
       "    <tr>\n",
       "      <th>3</th>\n",
       "      <td>ES</td>\n",
       "      <td>ESZ3</td>\n",
       "      <td>4571.75</td>\n",
       "      <td>4572.00</td>\n",
       "      <td>67</td>\n",
       "      <td>21</td>\n",
       "      <td>2023-12-01 00:04:00</td>\n",
       "      <td>316.375</td>\n",
       "    </tr>\n",
       "    <tr>\n",
       "      <th>4</th>\n",
       "      <td>ES</td>\n",
       "      <td>ESZ3</td>\n",
       "      <td>4571.75</td>\n",
       "      <td>4572.00</td>\n",
       "      <td>24</td>\n",
       "      <td>47</td>\n",
       "      <td>2023-12-01 00:05:00</td>\n",
       "      <td>316.375</td>\n",
       "    </tr>\n",
       "    <tr>\n",
       "      <th>...</th>\n",
       "      <td>...</td>\n",
       "      <td>...</td>\n",
       "      <td>...</td>\n",
       "      <td>...</td>\n",
       "      <td>...</td>\n",
       "      <td>...</td>\n",
       "      <td>...</td>\n",
       "      <td>...</td>\n",
       "    </tr>\n",
       "    <tr>\n",
       "      <th>312818</th>\n",
       "      <td>ES</td>\n",
       "      <td>ESH5</td>\n",
       "      <td>6043.25</td>\n",
       "      <td>6043.50</td>\n",
       "      <td>15</td>\n",
       "      <td>24</td>\n",
       "      <td>2025-02-24 17:27:00</td>\n",
       "      <td>0.000</td>\n",
       "    </tr>\n",
       "    <tr>\n",
       "      <th>312819</th>\n",
       "      <td>ES</td>\n",
       "      <td>ESH5</td>\n",
       "      <td>6043.25</td>\n",
       "      <td>6043.50</td>\n",
       "      <td>13</td>\n",
       "      <td>32</td>\n",
       "      <td>2025-02-24 17:28:00</td>\n",
       "      <td>0.000</td>\n",
       "    </tr>\n",
       "    <tr>\n",
       "      <th>312820</th>\n",
       "      <td>ES</td>\n",
       "      <td>ESH5</td>\n",
       "      <td>6042.00</td>\n",
       "      <td>6042.25</td>\n",
       "      <td>13</td>\n",
       "      <td>41</td>\n",
       "      <td>2025-02-24 17:29:00</td>\n",
       "      <td>0.000</td>\n",
       "    </tr>\n",
       "    <tr>\n",
       "      <th>312821</th>\n",
       "      <td>ES</td>\n",
       "      <td>ESH5</td>\n",
       "      <td>6040.00</td>\n",
       "      <td>6040.25</td>\n",
       "      <td>21</td>\n",
       "      <td>32</td>\n",
       "      <td>2025-02-24 17:30:00</td>\n",
       "      <td>0.000</td>\n",
       "    </tr>\n",
       "    <tr>\n",
       "      <th>312822</th>\n",
       "      <td>ES</td>\n",
       "      <td>ESH5</td>\n",
       "      <td>6036.50</td>\n",
       "      <td>6036.75</td>\n",
       "      <td>35</td>\n",
       "      <td>16</td>\n",
       "      <td>2025-02-24 17:32:00</td>\n",
       "      <td>0.000</td>\n",
       "    </tr>\n",
       "  </tbody>\n",
       "</table>\n",
       "<p>312823 rows × 8 columns</p>\n",
       "</div>"
      ],
      "text/plain": [
       "       contract instrument      bid    offer  bid_size  offer_size  \\\n",
       "0            ES       ESZ3  4572.75  4573.00        21          31   \n",
       "1            ES       ESZ3  4572.50  4572.75        31          23   \n",
       "2            ES       ESZ3  4571.75  4572.00        69          20   \n",
       "3            ES       ESZ3  4571.75  4572.00        67          21   \n",
       "4            ES       ESZ3  4571.75  4572.00        24          47   \n",
       "...         ...        ...      ...      ...       ...         ...   \n",
       "312818       ES       ESH5  6043.25  6043.50        15          24   \n",
       "312819       ES       ESH5  6043.25  6043.50        13          32   \n",
       "312820       ES       ESH5  6042.00  6042.25        13          41   \n",
       "312821       ES       ESH5  6040.00  6040.25        21          32   \n",
       "312822       ES       ESH5  6036.50  6036.75        35          16   \n",
       "\n",
       "                 timestamp  adjustment  \n",
       "0      2023-12-01 00:01:00     316.375  \n",
       "1      2023-12-01 00:02:00     316.375  \n",
       "2      2023-12-01 00:03:00     316.375  \n",
       "3      2023-12-01 00:04:00     316.375  \n",
       "4      2023-12-01 00:05:00     316.375  \n",
       "...                    ...         ...  \n",
       "312818 2025-02-24 17:27:00       0.000  \n",
       "312819 2025-02-24 17:28:00       0.000  \n",
       "312820 2025-02-24 17:29:00       0.000  \n",
       "312821 2025-02-24 17:30:00       0.000  \n",
       "312822 2025-02-24 17:32:00       0.000  \n",
       "\n",
       "[312823 rows x 8 columns]"
      ]
     },
     "execution_count": 8,
     "metadata": {},
     "output_type": "execute_result"
    }
   ],
   "source": [
    "future_df = pd.read_parquet(DATA_DIR+f'futures_1min_bar.parquet')\n",
    "\n",
    "future_df = future_df.sort_values(by='timestamp')\n",
    "future_df"
   ]
  },
  {
   "cell_type": "code",
   "execution_count": 4,
   "metadata": {},
   "outputs": [
    {
     "name": "stdout",
     "output_type": "stream",
     "text": [
      "(312822, 11)\n"
     ]
    },
    {
     "data": {
      "text/html": [
       "<div>\n",
       "<style scoped>\n",
       "    .dataframe tbody tr th:only-of-type {\n",
       "        vertical-align: middle;\n",
       "    }\n",
       "\n",
       "    .dataframe tbody tr th {\n",
       "        vertical-align: top;\n",
       "    }\n",
       "\n",
       "    .dataframe thead th {\n",
       "        text-align: right;\n",
       "    }\n",
       "</style>\n",
       "<table border=\"1\" class=\"dataframe\">\n",
       "  <thead>\n",
       "    <tr style=\"text-align: right;\">\n",
       "      <th></th>\n",
       "      <th>contract</th>\n",
       "      <th>instrument</th>\n",
       "      <th>bid</th>\n",
       "      <th>offer</th>\n",
       "      <th>bid_size</th>\n",
       "      <th>offer_size</th>\n",
       "      <th>timestamp</th>\n",
       "      <th>adjustment</th>\n",
       "      <th>Roll Adjusted Bid</th>\n",
       "      <th>Roll Adjusted Offer</th>\n",
       "      <th>mid_price</th>\n",
       "    </tr>\n",
       "  </thead>\n",
       "  <tbody>\n",
       "    <tr>\n",
       "      <th>0</th>\n",
       "      <td>ES</td>\n",
       "      <td>ESZ3</td>\n",
       "      <td>4572.75</td>\n",
       "      <td>4573.00</td>\n",
       "      <td>21</td>\n",
       "      <td>31</td>\n",
       "      <td>2023-12-01 00:01:00</td>\n",
       "      <td>316.375</td>\n",
       "      <td>4889.125</td>\n",
       "      <td>4889.375</td>\n",
       "      <td>4889.25</td>\n",
       "    </tr>\n",
       "    <tr>\n",
       "      <th>1</th>\n",
       "      <td>ES</td>\n",
       "      <td>ESZ3</td>\n",
       "      <td>4572.50</td>\n",
       "      <td>4572.75</td>\n",
       "      <td>31</td>\n",
       "      <td>23</td>\n",
       "      <td>2023-12-01 00:02:00</td>\n",
       "      <td>316.375</td>\n",
       "      <td>4888.875</td>\n",
       "      <td>4889.125</td>\n",
       "      <td>4889.00</td>\n",
       "    </tr>\n",
       "  </tbody>\n",
       "</table>\n",
       "</div>"
      ],
      "text/plain": [
       "  contract instrument      bid    offer  bid_size  offer_size  \\\n",
       "0       ES       ESZ3  4572.75  4573.00        21          31   \n",
       "1       ES       ESZ3  4572.50  4572.75        31          23   \n",
       "\n",
       "            timestamp  adjustment  Roll Adjusted Bid  Roll Adjusted Offer  \\\n",
       "0 2023-12-01 00:01:00     316.375           4889.125             4889.375   \n",
       "1 2023-12-01 00:02:00     316.375           4888.875             4889.125   \n",
       "\n",
       "   mid_price  \n",
       "0    4889.25  \n",
       "1    4889.00  "
      ]
     },
     "execution_count": 4,
     "metadata": {},
     "output_type": "execute_result"
    }
   ],
   "source": [
    "future_df = pd.read_parquet(DATA_DIR+f'futures_1min_bar.parquet')\n",
    "\n",
    "future_df = future_df.sort_values(by='timestamp')\n",
    "future_df = future_df[~future_df.bid.isna()]\n",
    "future_df['Roll Adjusted Bid'] = future_df['bid'] + future_df['adjustment']\n",
    "future_df['Roll Adjusted Offer'] = future_df['offer'] + future_df['adjustment']\n",
    "future_df['mid_price'] = (future_df['Roll Adjusted Bid'] + future_df['Roll Adjusted Offer']) / 2\n",
    "print(future_df.shape)\n",
    "future_df.head(2)"
   ]
  },
  {
   "cell_type": "code",
   "execution_count": 5,
   "metadata": {},
   "outputs": [
    {
     "name": "stderr",
     "output_type": "stream",
     "text": [
      "100%|██████████| 17/17 [01:02<00:00,  3.69s/it]\n"
     ]
    },
    {
     "data": {
      "application/vnd.plotly.v1+json": {
       "config": {
        "plotlyServerURL": "https://plot.ly"
       },
       "data": [
        {
         "alignmentgroup": "True",
         "hovertemplate": "hurst_value=%{x}<br>data=%{y}<extra></extra>",
         "legendgroup": "",
         "marker": {
          "color": "#636efa",
          "pattern": {
           "shape": ""
          }
         },
         "name": "",
         "offsetgroup": "",
         "orientation": "h",
         "showlegend": false,
         "textposition": "auto",
         "type": "bar",
         "x": [
          0.44138788829907416,
          0.4448476385508151,
          0.4521768610106418,
          0.46639338594843277,
          0.46758978206292107,
          0.4684751114479605,
          0.4796992545960018,
          0.48354816491116215,
          0.4841498451558042,
          0.48428234876796744,
          0.48596092461172763,
          0.48723327820969364,
          0.49026683140466804,
          0.4917672387030971,
          0.5000423970990076,
          0.5013768804019404,
          0.5202672887159853,
          0.5326985059074594
         ],
         "xaxis": "x",
         "y": [
          "EURNOK",
          "EURSEK",
          "NZDUSD",
          "USDZAR",
          "USDILS",
          "EURCZK",
          "AUDUSD",
          "USDMXN",
          "USDCAD",
          "EURHUF",
          "EURPLN",
          "USDSGD",
          "GBPUSD",
          "USDCHF",
          "USDCNH",
          "EURUSD",
          "feature",
          "USDJPY"
         ],
         "yaxis": "y"
        }
       ],
       "layout": {
        "barmode": "relative",
        "legend": {
         "tracegroupgap": 0
        },
        "margin": {
         "t": 60
        },
        "template": {
         "data": {
          "bar": [
           {
            "error_x": {
             "color": "#2a3f5f"
            },
            "error_y": {
             "color": "#2a3f5f"
            },
            "marker": {
             "line": {
              "color": "#E5ECF6",
              "width": 0.5
             },
             "pattern": {
              "fillmode": "overlay",
              "size": 10,
              "solidity": 0.2
             }
            },
            "type": "bar"
           }
          ],
          "barpolar": [
           {
            "marker": {
             "line": {
              "color": "#E5ECF6",
              "width": 0.5
             },
             "pattern": {
              "fillmode": "overlay",
              "size": 10,
              "solidity": 0.2
             }
            },
            "type": "barpolar"
           }
          ],
          "carpet": [
           {
            "aaxis": {
             "endlinecolor": "#2a3f5f",
             "gridcolor": "white",
             "linecolor": "white",
             "minorgridcolor": "white",
             "startlinecolor": "#2a3f5f"
            },
            "baxis": {
             "endlinecolor": "#2a3f5f",
             "gridcolor": "white",
             "linecolor": "white",
             "minorgridcolor": "white",
             "startlinecolor": "#2a3f5f"
            },
            "type": "carpet"
           }
          ],
          "choropleth": [
           {
            "colorbar": {
             "outlinewidth": 0,
             "ticks": ""
            },
            "type": "choropleth"
           }
          ],
          "contour": [
           {
            "colorbar": {
             "outlinewidth": 0,
             "ticks": ""
            },
            "colorscale": [
             [
              0,
              "#0d0887"
             ],
             [
              0.1111111111111111,
              "#46039f"
             ],
             [
              0.2222222222222222,
              "#7201a8"
             ],
             [
              0.3333333333333333,
              "#9c179e"
             ],
             [
              0.4444444444444444,
              "#bd3786"
             ],
             [
              0.5555555555555556,
              "#d8576b"
             ],
             [
              0.6666666666666666,
              "#ed7953"
             ],
             [
              0.7777777777777778,
              "#fb9f3a"
             ],
             [
              0.8888888888888888,
              "#fdca26"
             ],
             [
              1,
              "#f0f921"
             ]
            ],
            "type": "contour"
           }
          ],
          "contourcarpet": [
           {
            "colorbar": {
             "outlinewidth": 0,
             "ticks": ""
            },
            "type": "contourcarpet"
           }
          ],
          "heatmap": [
           {
            "colorbar": {
             "outlinewidth": 0,
             "ticks": ""
            },
            "colorscale": [
             [
              0,
              "#0d0887"
             ],
             [
              0.1111111111111111,
              "#46039f"
             ],
             [
              0.2222222222222222,
              "#7201a8"
             ],
             [
              0.3333333333333333,
              "#9c179e"
             ],
             [
              0.4444444444444444,
              "#bd3786"
             ],
             [
              0.5555555555555556,
              "#d8576b"
             ],
             [
              0.6666666666666666,
              "#ed7953"
             ],
             [
              0.7777777777777778,
              "#fb9f3a"
             ],
             [
              0.8888888888888888,
              "#fdca26"
             ],
             [
              1,
              "#f0f921"
             ]
            ],
            "type": "heatmap"
           }
          ],
          "heatmapgl": [
           {
            "colorbar": {
             "outlinewidth": 0,
             "ticks": ""
            },
            "colorscale": [
             [
              0,
              "#0d0887"
             ],
             [
              0.1111111111111111,
              "#46039f"
             ],
             [
              0.2222222222222222,
              "#7201a8"
             ],
             [
              0.3333333333333333,
              "#9c179e"
             ],
             [
              0.4444444444444444,
              "#bd3786"
             ],
             [
              0.5555555555555556,
              "#d8576b"
             ],
             [
              0.6666666666666666,
              "#ed7953"
             ],
             [
              0.7777777777777778,
              "#fb9f3a"
             ],
             [
              0.8888888888888888,
              "#fdca26"
             ],
             [
              1,
              "#f0f921"
             ]
            ],
            "type": "heatmapgl"
           }
          ],
          "histogram": [
           {
            "marker": {
             "pattern": {
              "fillmode": "overlay",
              "size": 10,
              "solidity": 0.2
             }
            },
            "type": "histogram"
           }
          ],
          "histogram2d": [
           {
            "colorbar": {
             "outlinewidth": 0,
             "ticks": ""
            },
            "colorscale": [
             [
              0,
              "#0d0887"
             ],
             [
              0.1111111111111111,
              "#46039f"
             ],
             [
              0.2222222222222222,
              "#7201a8"
             ],
             [
              0.3333333333333333,
              "#9c179e"
             ],
             [
              0.4444444444444444,
              "#bd3786"
             ],
             [
              0.5555555555555556,
              "#d8576b"
             ],
             [
              0.6666666666666666,
              "#ed7953"
             ],
             [
              0.7777777777777778,
              "#fb9f3a"
             ],
             [
              0.8888888888888888,
              "#fdca26"
             ],
             [
              1,
              "#f0f921"
             ]
            ],
            "type": "histogram2d"
           }
          ],
          "histogram2dcontour": [
           {
            "colorbar": {
             "outlinewidth": 0,
             "ticks": ""
            },
            "colorscale": [
             [
              0,
              "#0d0887"
             ],
             [
              0.1111111111111111,
              "#46039f"
             ],
             [
              0.2222222222222222,
              "#7201a8"
             ],
             [
              0.3333333333333333,
              "#9c179e"
             ],
             [
              0.4444444444444444,
              "#bd3786"
             ],
             [
              0.5555555555555556,
              "#d8576b"
             ],
             [
              0.6666666666666666,
              "#ed7953"
             ],
             [
              0.7777777777777778,
              "#fb9f3a"
             ],
             [
              0.8888888888888888,
              "#fdca26"
             ],
             [
              1,
              "#f0f921"
             ]
            ],
            "type": "histogram2dcontour"
           }
          ],
          "mesh3d": [
           {
            "colorbar": {
             "outlinewidth": 0,
             "ticks": ""
            },
            "type": "mesh3d"
           }
          ],
          "parcoords": [
           {
            "line": {
             "colorbar": {
              "outlinewidth": 0,
              "ticks": ""
             }
            },
            "type": "parcoords"
           }
          ],
          "pie": [
           {
            "automargin": true,
            "type": "pie"
           }
          ],
          "scatter": [
           {
            "fillpattern": {
             "fillmode": "overlay",
             "size": 10,
             "solidity": 0.2
            },
            "type": "scatter"
           }
          ],
          "scatter3d": [
           {
            "line": {
             "colorbar": {
              "outlinewidth": 0,
              "ticks": ""
             }
            },
            "marker": {
             "colorbar": {
              "outlinewidth": 0,
              "ticks": ""
             }
            },
            "type": "scatter3d"
           }
          ],
          "scattercarpet": [
           {
            "marker": {
             "colorbar": {
              "outlinewidth": 0,
              "ticks": ""
             }
            },
            "type": "scattercarpet"
           }
          ],
          "scattergeo": [
           {
            "marker": {
             "colorbar": {
              "outlinewidth": 0,
              "ticks": ""
             }
            },
            "type": "scattergeo"
           }
          ],
          "scattergl": [
           {
            "marker": {
             "colorbar": {
              "outlinewidth": 0,
              "ticks": ""
             }
            },
            "type": "scattergl"
           }
          ],
          "scattermapbox": [
           {
            "marker": {
             "colorbar": {
              "outlinewidth": 0,
              "ticks": ""
             }
            },
            "type": "scattermapbox"
           }
          ],
          "scatterpolar": [
           {
            "marker": {
             "colorbar": {
              "outlinewidth": 0,
              "ticks": ""
             }
            },
            "type": "scatterpolar"
           }
          ],
          "scatterpolargl": [
           {
            "marker": {
             "colorbar": {
              "outlinewidth": 0,
              "ticks": ""
             }
            },
            "type": "scatterpolargl"
           }
          ],
          "scatterternary": [
           {
            "marker": {
             "colorbar": {
              "outlinewidth": 0,
              "ticks": ""
             }
            },
            "type": "scatterternary"
           }
          ],
          "surface": [
           {
            "colorbar": {
             "outlinewidth": 0,
             "ticks": ""
            },
            "colorscale": [
             [
              0,
              "#0d0887"
             ],
             [
              0.1111111111111111,
              "#46039f"
             ],
             [
              0.2222222222222222,
              "#7201a8"
             ],
             [
              0.3333333333333333,
              "#9c179e"
             ],
             [
              0.4444444444444444,
              "#bd3786"
             ],
             [
              0.5555555555555556,
              "#d8576b"
             ],
             [
              0.6666666666666666,
              "#ed7953"
             ],
             [
              0.7777777777777778,
              "#fb9f3a"
             ],
             [
              0.8888888888888888,
              "#fdca26"
             ],
             [
              1,
              "#f0f921"
             ]
            ],
            "type": "surface"
           }
          ],
          "table": [
           {
            "cells": {
             "fill": {
              "color": "#EBF0F8"
             },
             "line": {
              "color": "white"
             }
            },
            "header": {
             "fill": {
              "color": "#C8D4E3"
             },
             "line": {
              "color": "white"
             }
            },
            "type": "table"
           }
          ]
         },
         "layout": {
          "annotationdefaults": {
           "arrowcolor": "#2a3f5f",
           "arrowhead": 0,
           "arrowwidth": 1
          },
          "autotypenumbers": "strict",
          "coloraxis": {
           "colorbar": {
            "outlinewidth": 0,
            "ticks": ""
           }
          },
          "colorscale": {
           "diverging": [
            [
             0,
             "#8e0152"
            ],
            [
             0.1,
             "#c51b7d"
            ],
            [
             0.2,
             "#de77ae"
            ],
            [
             0.3,
             "#f1b6da"
            ],
            [
             0.4,
             "#fde0ef"
            ],
            [
             0.5,
             "#f7f7f7"
            ],
            [
             0.6,
             "#e6f5d0"
            ],
            [
             0.7,
             "#b8e186"
            ],
            [
             0.8,
             "#7fbc41"
            ],
            [
             0.9,
             "#4d9221"
            ],
            [
             1,
             "#276419"
            ]
           ],
           "sequential": [
            [
             0,
             "#0d0887"
            ],
            [
             0.1111111111111111,
             "#46039f"
            ],
            [
             0.2222222222222222,
             "#7201a8"
            ],
            [
             0.3333333333333333,
             "#9c179e"
            ],
            [
             0.4444444444444444,
             "#bd3786"
            ],
            [
             0.5555555555555556,
             "#d8576b"
            ],
            [
             0.6666666666666666,
             "#ed7953"
            ],
            [
             0.7777777777777778,
             "#fb9f3a"
            ],
            [
             0.8888888888888888,
             "#fdca26"
            ],
            [
             1,
             "#f0f921"
            ]
           ],
           "sequentialminus": [
            [
             0,
             "#0d0887"
            ],
            [
             0.1111111111111111,
             "#46039f"
            ],
            [
             0.2222222222222222,
             "#7201a8"
            ],
            [
             0.3333333333333333,
             "#9c179e"
            ],
            [
             0.4444444444444444,
             "#bd3786"
            ],
            [
             0.5555555555555556,
             "#d8576b"
            ],
            [
             0.6666666666666666,
             "#ed7953"
            ],
            [
             0.7777777777777778,
             "#fb9f3a"
            ],
            [
             0.8888888888888888,
             "#fdca26"
            ],
            [
             1,
             "#f0f921"
            ]
           ]
          },
          "colorway": [
           "#636efa",
           "#EF553B",
           "#00cc96",
           "#ab63fa",
           "#FFA15A",
           "#19d3f3",
           "#FF6692",
           "#B6E880",
           "#FF97FF",
           "#FECB52"
          ],
          "font": {
           "color": "#2a3f5f"
          },
          "geo": {
           "bgcolor": "white",
           "lakecolor": "white",
           "landcolor": "#E5ECF6",
           "showlakes": true,
           "showland": true,
           "subunitcolor": "white"
          },
          "hoverlabel": {
           "align": "left"
          },
          "hovermode": "closest",
          "mapbox": {
           "style": "light"
          },
          "paper_bgcolor": "white",
          "plot_bgcolor": "#E5ECF6",
          "polar": {
           "angularaxis": {
            "gridcolor": "white",
            "linecolor": "white",
            "ticks": ""
           },
           "bgcolor": "#E5ECF6",
           "radialaxis": {
            "gridcolor": "white",
            "linecolor": "white",
            "ticks": ""
           }
          },
          "scene": {
           "xaxis": {
            "backgroundcolor": "#E5ECF6",
            "gridcolor": "white",
            "gridwidth": 2,
            "linecolor": "white",
            "showbackground": true,
            "ticks": "",
            "zerolinecolor": "white"
           },
           "yaxis": {
            "backgroundcolor": "#E5ECF6",
            "gridcolor": "white",
            "gridwidth": 2,
            "linecolor": "white",
            "showbackground": true,
            "ticks": "",
            "zerolinecolor": "white"
           },
           "zaxis": {
            "backgroundcolor": "#E5ECF6",
            "gridcolor": "white",
            "gridwidth": 2,
            "linecolor": "white",
            "showbackground": true,
            "ticks": "",
            "zerolinecolor": "white"
           }
          },
          "shapedefaults": {
           "line": {
            "color": "#2a3f5f"
           }
          },
          "ternary": {
           "aaxis": {
            "gridcolor": "white",
            "linecolor": "white",
            "ticks": ""
           },
           "baxis": {
            "gridcolor": "white",
            "linecolor": "white",
            "ticks": ""
           },
           "bgcolor": "#E5ECF6",
           "caxis": {
            "gridcolor": "white",
            "linecolor": "white",
            "ticks": ""
           }
          },
          "title": {
           "x": 0.05
          },
          "xaxis": {
           "automargin": true,
           "gridcolor": "white",
           "linecolor": "white",
           "ticks": "",
           "title": {
            "standoff": 15
           },
           "zerolinecolor": "white",
           "zerolinewidth": 2
          },
          "yaxis": {
           "automargin": true,
           "gridcolor": "white",
           "linecolor": "white",
           "ticks": "",
           "title": {
            "standoff": 15
           },
           "zerolinecolor": "white",
           "zerolinewidth": 2
          }
         }
        },
        "xaxis": {
         "anchor": "y",
         "domain": [
          0,
          1
         ],
         "title": {
          "text": "hurst_value"
         }
        },
        "yaxis": {
         "anchor": "x",
         "domain": [
          0,
          1
         ],
         "title": {
          "text": "data"
         }
        }
       }
      }
     },
     "metadata": {},
     "output_type": "display_data"
    }
   ],
   "source": [
    "hurst_df = [['feature', compute_Hc(future_df['mid_price'], kind='price', simplified=False)[0]]]\n",
    "\n",
    "for fx in tqdm(fx_list):\n",
    "    cur_data = pd.read_parquet(DATA_DIR+f'{fx}_data.parquet')\n",
    "    cur_data['mid_price'] = (cur_data['bid'] + cur_data['offer'])/2\n",
    "    cur_data = cur_data[~cur_data.mid_price.isna()].sort_values(by='timestamp')\n",
    "    hurst_value, _, _ = compute_Hc(cur_data['mid_price'], kind='price', simplified=True)\n",
    "\n",
    "    hurst_df.append([fx, hurst_value])\n",
    "\n",
    "hurst_df = pd.DataFrame(hurst_df, columns = ['data', 'hurst_value'])\n",
    "\n",
    "px.bar(\n",
    "    hurst_df.sort_values(by='hurst_value'),\n",
    "    x='hurst_value',\n",
    "    y='data'\n",
    ")"
   ]
  }
 ],
 "metadata": {
  "kernelspec": {
   "display_name": "strategy-project-acofjSPn-py3.12",
   "language": "python",
   "name": "python3"
  },
  "language_info": {
   "codemirror_mode": {
    "name": "ipython",
    "version": 3
   },
   "file_extension": ".py",
   "mimetype": "text/x-python",
   "name": "python",
   "nbconvert_exporter": "python",
   "pygments_lexer": "ipython3",
   "version": "3.12.4"
  }
 },
 "nbformat": 4,
 "nbformat_minor": 2
}
