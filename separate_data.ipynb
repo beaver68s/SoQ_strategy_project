{
 "cells": [
  {
   "cell_type": "code",
   "execution_count": 2,
   "metadata": {},
   "outputs": [],
   "source": [
    "import pandas as pd\n",
    "from sqlalchemy import create_engine\n",
    "from tqdm import tqdm\n",
    "from hurst import compute_Hc\n"
   ]
  },
  {
   "cell_type": "code",
   "execution_count": 3,
   "metadata": {},
   "outputs": [],
   "source": [
    "db_connection_str = 'mysql+pymysql://student:SoQ_trading24/25@3.81.230.185/trading'\n",
    "db_connection = create_engine(db_connection_str)"
   ]
  },
  {
   "cell_type": "code",
   "execution_count": 3,
   "metadata": {},
   "outputs": [
    {
     "name": "stdout",
     "output_type": "stream",
     "text": [
      "(312823, 8)\n"
     ]
    },
    {
     "data": {
      "text/html": [
       "<div>\n",
       "<style scoped>\n",
       "    .dataframe tbody tr th:only-of-type {\n",
       "        vertical-align: middle;\n",
       "    }\n",
       "\n",
       "    .dataframe tbody tr th {\n",
       "        vertical-align: top;\n",
       "    }\n",
       "\n",
       "    .dataframe thead th {\n",
       "        text-align: right;\n",
       "    }\n",
       "</style>\n",
       "<table border=\"1\" class=\"dataframe\">\n",
       "  <thead>\n",
       "    <tr style=\"text-align: right;\">\n",
       "      <th></th>\n",
       "      <th>contract</th>\n",
       "      <th>instrument</th>\n",
       "      <th>bid</th>\n",
       "      <th>offer</th>\n",
       "      <th>bid_size</th>\n",
       "      <th>offer_size</th>\n",
       "      <th>timestamp</th>\n",
       "      <th>adjustment</th>\n",
       "    </tr>\n",
       "  </thead>\n",
       "  <tbody>\n",
       "    <tr>\n",
       "      <th>0</th>\n",
       "      <td>ES</td>\n",
       "      <td>ESZ3</td>\n",
       "      <td>4572.75</td>\n",
       "      <td>4573.00</td>\n",
       "      <td>21</td>\n",
       "      <td>31</td>\n",
       "      <td>2023-12-01 00:01:00</td>\n",
       "      <td>316.375</td>\n",
       "    </tr>\n",
       "    <tr>\n",
       "      <th>1</th>\n",
       "      <td>ES</td>\n",
       "      <td>ESZ3</td>\n",
       "      <td>4572.50</td>\n",
       "      <td>4572.75</td>\n",
       "      <td>31</td>\n",
       "      <td>23</td>\n",
       "      <td>2023-12-01 00:02:00</td>\n",
       "      <td>316.375</td>\n",
       "    </tr>\n",
       "    <tr>\n",
       "      <th>2</th>\n",
       "      <td>ES</td>\n",
       "      <td>ESZ3</td>\n",
       "      <td>4571.75</td>\n",
       "      <td>4572.00</td>\n",
       "      <td>69</td>\n",
       "      <td>20</td>\n",
       "      <td>2023-12-01 00:03:00</td>\n",
       "      <td>316.375</td>\n",
       "    </tr>\n",
       "    <tr>\n",
       "      <th>3</th>\n",
       "      <td>ES</td>\n",
       "      <td>ESZ3</td>\n",
       "      <td>4571.75</td>\n",
       "      <td>4572.00</td>\n",
       "      <td>67</td>\n",
       "      <td>21</td>\n",
       "      <td>2023-12-01 00:04:00</td>\n",
       "      <td>316.375</td>\n",
       "    </tr>\n",
       "    <tr>\n",
       "      <th>4</th>\n",
       "      <td>ES</td>\n",
       "      <td>ESZ3</td>\n",
       "      <td>4571.75</td>\n",
       "      <td>4572.00</td>\n",
       "      <td>24</td>\n",
       "      <td>47</td>\n",
       "      <td>2023-12-01 00:05:00</td>\n",
       "      <td>316.375</td>\n",
       "    </tr>\n",
       "  </tbody>\n",
       "</table>\n",
       "</div>"
      ],
      "text/plain": [
       "  contract instrument      bid    offer  bid_size  offer_size  \\\n",
       "0       ES       ESZ3  4572.75  4573.00        21          31   \n",
       "1       ES       ESZ3  4572.50  4572.75        31          23   \n",
       "2       ES       ESZ3  4571.75  4572.00        69          20   \n",
       "3       ES       ESZ3  4571.75  4572.00        67          21   \n",
       "4       ES       ESZ3  4571.75  4572.00        24          47   \n",
       "\n",
       "            timestamp  adjustment  \n",
       "0 2023-12-01 00:01:00     316.375  \n",
       "1 2023-12-01 00:02:00     316.375  \n",
       "2 2023-12-01 00:03:00     316.375  \n",
       "3 2023-12-01 00:04:00     316.375  \n",
       "4 2023-12-01 00:05:00     316.375  "
      ]
     },
     "execution_count": 3,
     "metadata": {},
     "output_type": "execute_result"
    }
   ],
   "source": [
    "query = 'SELECT * from trading.futures_1min_bar'\n",
    "df = pd.read_sql(query, con=db_connection)\n",
    "print(df.shape)\n",
    "df.head()"
   ]
  },
  {
   "cell_type": "code",
   "execution_count": 6,
   "metadata": {},
   "outputs": [],
   "source": [
    "df.to_parquet('data/futures_1min_bar.parquet')"
   ]
  },
  {
   "cell_type": "code",
   "execution_count": 4,
   "metadata": {},
   "outputs": [],
   "source": [
    "fx_instrument_sql = \"SELECT distinct instrument from trading.fx_1min_bar\"\n",
    "df_fx_instrument = pd.read_sql(fx_instrument_sql, con=db_connection)\n",
    "fx_list = [fx.replace('\"', '') for fx in df_fx_instrument.instrument.values]"
   ]
  },
  {
   "cell_type": "code",
   "execution_count": 6,
   "metadata": {},
   "outputs": [
    {
     "data": {
      "text/plain": [
       "['EURCZK',\n",
       " 'AUDUSD',\n",
       " 'EURHUF',\n",
       " 'EURNOK',\n",
       " 'EURPLN',\n",
       " 'EURSEK',\n",
       " 'EURUSD',\n",
       " 'GBPUSD',\n",
       " 'NZDUSD',\n",
       " 'USDCAD',\n",
       " 'USDCHF',\n",
       " 'USDCNH',\n",
       " 'USDILS',\n",
       " 'USDJPY',\n",
       " 'USDMXN',\n",
       " 'USDSGD',\n",
       " 'USDZAR']"
      ]
     },
     "execution_count": 6,
     "metadata": {},
     "output_type": "execute_result"
    }
   ],
   "source": [
    "fx_list"
   ]
  },
  {
   "cell_type": "code",
   "execution_count": null,
   "metadata": {},
   "outputs": [],
   "source": [
    "for fx in tqdm(fx_list):\n",
    "    fx_sql = f\"SELECT * from trading.fx_1min_bar where instrument = '\\\"{fx}\\\"'\"\n",
    "    df_fx = pd.read_sql(fx_sql, con=db_connection)\n",
    "\n",
    "    df_fx.to_parquet(f'data/{fx}_data.parquet')"
   ]
  },
  {
   "cell_type": "code",
   "execution_count": null,
   "metadata": {},
   "outputs": [],
   "source": []
  },
  {
   "cell_type": "markdown",
   "metadata": {},
   "source": [
    "\n"
   ]
  },
  {
   "cell_type": "markdown",
   "metadata": {},
   "source": [
    "!tree"
   ]
  },
  {
   "cell_type": "markdown",
   "metadata": {},
   "source": []
  }
 ],
 "metadata": {
  "kernelspec": {
   "display_name": "strategy-project-acofjSPn-py3.12",
   "language": "python",
   "name": "python3"
  },
  "language_info": {
   "codemirror_mode": {
    "name": "ipython",
    "version": 3
   },
   "file_extension": ".py",
   "mimetype": "text/x-python",
   "name": "python",
   "nbconvert_exporter": "python",
   "pygments_lexer": "ipython3",
   "version": "3.12.4"
  }
 },
 "nbformat": 4,
 "nbformat_minor": 2
}
