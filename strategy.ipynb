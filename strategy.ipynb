{
 "cells": [
  {
   "cell_type": "code",
   "execution_count": 9,
   "metadata": {},
   "outputs": [],
   "source": [
    "import pandas as pd\n",
    "from sqlalchemy import create_engine\n",
    "from tqdm import tqdm\n",
    "from hurst import compute_Hc\n"
   ]
  },
  {
   "cell_type": "code",
   "execution_count": 2,
   "metadata": {},
   "outputs": [],
   "source": [
    "db_connection_str = 'mysql+pymysql://student:SoQ_trading24/25@3.81.230.185/trading'\n",
    "db_connection = create_engine(db_connection_str)"
   ]
  },
  {
   "cell_type": "code",
   "execution_count": null,
   "metadata": {},
   "outputs": [],
   "source": []
  },
  {
   "cell_type": "code",
   "execution_count": 3,
   "metadata": {},
   "outputs": [
    {
     "name": "stdout",
     "output_type": "stream",
     "text": [
      "(312823, 8)\n"
     ]
    },
    {
     "data": {
      "text/html": [
       "<div>\n",
       "<style scoped>\n",
       "    .dataframe tbody tr th:only-of-type {\n",
       "        vertical-align: middle;\n",
       "    }\n",
       "\n",
       "    .dataframe tbody tr th {\n",
       "        vertical-align: top;\n",
       "    }\n",
       "\n",
       "    .dataframe thead th {\n",
       "        text-align: right;\n",
       "    }\n",
       "</style>\n",
       "<table border=\"1\" class=\"dataframe\">\n",
       "  <thead>\n",
       "    <tr style=\"text-align: right;\">\n",
       "      <th></th>\n",
       "      <th>contract</th>\n",
       "      <th>instrument</th>\n",
       "      <th>bid</th>\n",
       "      <th>offer</th>\n",
       "      <th>bid_size</th>\n",
       "      <th>offer_size</th>\n",
       "      <th>timestamp</th>\n",
       "      <th>adjustment</th>\n",
       "    </tr>\n",
       "  </thead>\n",
       "  <tbody>\n",
       "    <tr>\n",
       "      <th>0</th>\n",
       "      <td>ES</td>\n",
       "      <td>ESZ3</td>\n",
       "      <td>4572.75</td>\n",
       "      <td>4573.00</td>\n",
       "      <td>21</td>\n",
       "      <td>31</td>\n",
       "      <td>2023-12-01 00:01:00</td>\n",
       "      <td>316.375</td>\n",
       "    </tr>\n",
       "    <tr>\n",
       "      <th>1</th>\n",
       "      <td>ES</td>\n",
       "      <td>ESZ3</td>\n",
       "      <td>4572.50</td>\n",
       "      <td>4572.75</td>\n",
       "      <td>31</td>\n",
       "      <td>23</td>\n",
       "      <td>2023-12-01 00:02:00</td>\n",
       "      <td>316.375</td>\n",
       "    </tr>\n",
       "    <tr>\n",
       "      <th>2</th>\n",
       "      <td>ES</td>\n",
       "      <td>ESZ3</td>\n",
       "      <td>4571.75</td>\n",
       "      <td>4572.00</td>\n",
       "      <td>69</td>\n",
       "      <td>20</td>\n",
       "      <td>2023-12-01 00:03:00</td>\n",
       "      <td>316.375</td>\n",
       "    </tr>\n",
       "    <tr>\n",
       "      <th>3</th>\n",
       "      <td>ES</td>\n",
       "      <td>ESZ3</td>\n",
       "      <td>4571.75</td>\n",
       "      <td>4572.00</td>\n",
       "      <td>67</td>\n",
       "      <td>21</td>\n",
       "      <td>2023-12-01 00:04:00</td>\n",
       "      <td>316.375</td>\n",
       "    </tr>\n",
       "    <tr>\n",
       "      <th>4</th>\n",
       "      <td>ES</td>\n",
       "      <td>ESZ3</td>\n",
       "      <td>4571.75</td>\n",
       "      <td>4572.00</td>\n",
       "      <td>24</td>\n",
       "      <td>47</td>\n",
       "      <td>2023-12-01 00:05:00</td>\n",
       "      <td>316.375</td>\n",
       "    </tr>\n",
       "  </tbody>\n",
       "</table>\n",
       "</div>"
      ],
      "text/plain": [
       "  contract instrument      bid    offer  bid_size  offer_size  \\\n",
       "0       ES       ESZ3  4572.75  4573.00        21          31   \n",
       "1       ES       ESZ3  4572.50  4572.75        31          23   \n",
       "2       ES       ESZ3  4571.75  4572.00        69          20   \n",
       "3       ES       ESZ3  4571.75  4572.00        67          21   \n",
       "4       ES       ESZ3  4571.75  4572.00        24          47   \n",
       "\n",
       "            timestamp  adjustment  \n",
       "0 2023-12-01 00:01:00     316.375  \n",
       "1 2023-12-01 00:02:00     316.375  \n",
       "2 2023-12-01 00:03:00     316.375  \n",
       "3 2023-12-01 00:04:00     316.375  \n",
       "4 2023-12-01 00:05:00     316.375  "
      ]
     },
     "execution_count": 3,
     "metadata": {},
     "output_type": "execute_result"
    }
   ],
   "source": [
    "query = 'SELECT * from trading.futures_1min_bar'\n",
    "df = pd.read_sql(query, con=db_connection)\n",
    "print(df.shape)\n",
    "df.head()"
   ]
  },
  {
   "cell_type": "code",
   "execution_count": 6,
   "metadata": {},
   "outputs": [],
   "source": [
    "df.to_parquet('data/futures_1min_bar.parquet')"
   ]
  },
  {
   "cell_type": "code",
   "execution_count": null,
   "metadata": {},
   "outputs": [],
   "source": []
  },
  {
   "cell_type": "code",
   "execution_count": null,
   "metadata": {},
   "outputs": [],
   "source": []
  },
  {
   "cell_type": "code",
   "execution_count": null,
   "metadata": {},
   "outputs": [],
   "source": [
    "fx_instrument_sql = \"SELECT distinct instrument from trading.fx_1min_bar\"\n",
    "df_fx_instrument = pd.read_sql(fx_instrument_sql, con=db_connection)\n",
    "fx_list = [fx.replace('\"', '') for fx in df_fx_instrument.instrument.values]"
   ]
  },
  {
   "cell_type": "code",
   "execution_count": null,
   "metadata": {},
   "outputs": [],
   "source": [
    "for fx in tqdm(fx_list):\n",
    "    fx_sql = f\"SELECT * from trading.fx_1min_bar where instrument = '\\\"{fx}\\\"'\"\n",
    "    df_fx = pd.read_sql(fx_sql, con=db_connection)\n",
    "\n",
    "    df_fx.to_parquet(f'data/{fx}_data.parquet')"
   ]
  },
  {
   "cell_type": "code",
   "execution_count": 4,
   "metadata": {},
   "outputs": [
    {
     "data": {
      "text/html": [
       "<div>\n",
       "<style scoped>\n",
       "    .dataframe tbody tr th:only-of-type {\n",
       "        vertical-align: middle;\n",
       "    }\n",
       "\n",
       "    .dataframe tbody tr th {\n",
       "        vertical-align: top;\n",
       "    }\n",
       "\n",
       "    .dataframe thead tr th {\n",
       "        text-align: left;\n",
       "    }\n",
       "</style>\n",
       "<table border=\"1\" class=\"dataframe\">\n",
       "  <thead>\n",
       "    <tr>\n",
       "      <th></th>\n",
       "      <th>contract</th>\n",
       "      <th>instrument</th>\n",
       "      <th colspan=\"2\" halign=\"left\">timestamp</th>\n",
       "    </tr>\n",
       "    <tr>\n",
       "      <th></th>\n",
       "      <th></th>\n",
       "      <th></th>\n",
       "      <th>min</th>\n",
       "      <th>max</th>\n",
       "    </tr>\n",
       "  </thead>\n",
       "  <tbody>\n",
       "    <tr>\n",
       "      <th>4</th>\n",
       "      <td>ES</td>\n",
       "      <td>ESZ3</td>\n",
       "      <td>2023-12-01 00:01:00</td>\n",
       "      <td>2023-12-11 21:59:00</td>\n",
       "    </tr>\n",
       "    <tr>\n",
       "      <th>0</th>\n",
       "      <td>ES</td>\n",
       "      <td>ESH4</td>\n",
       "      <td>2023-12-11 22:00:00</td>\n",
       "      <td>2024-03-11 21:00:00</td>\n",
       "    </tr>\n",
       "    <tr>\n",
       "      <th>2</th>\n",
       "      <td>ES</td>\n",
       "      <td>ESM4</td>\n",
       "      <td>2024-03-11 21:00:00</td>\n",
       "      <td>2024-06-17 20:57:00</td>\n",
       "    </tr>\n",
       "    <tr>\n",
       "      <th>3</th>\n",
       "      <td>ES</td>\n",
       "      <td>ESU4</td>\n",
       "      <td>2024-06-17 21:01:00</td>\n",
       "      <td>2024-09-16 20:59:00</td>\n",
       "    </tr>\n",
       "    <tr>\n",
       "      <th>5</th>\n",
       "      <td>ES</td>\n",
       "      <td>ESZ4</td>\n",
       "      <td>2024-09-16 21:00:00</td>\n",
       "      <td>2024-12-16 22:00:00</td>\n",
       "    </tr>\n",
       "    <tr>\n",
       "      <th>1</th>\n",
       "      <td>ES</td>\n",
       "      <td>ESH5</td>\n",
       "      <td>2024-12-16 22:00:00</td>\n",
       "      <td>2025-02-24 17:32:00</td>\n",
       "    </tr>\n",
       "  </tbody>\n",
       "</table>\n",
       "</div>"
      ],
      "text/plain": [
       "  contract instrument           timestamp                    \n",
       "                                      min                 max\n",
       "4       ES       ESZ3 2023-12-01 00:01:00 2023-12-11 21:59:00\n",
       "0       ES       ESH4 2023-12-11 22:00:00 2024-03-11 21:00:00\n",
       "2       ES       ESM4 2024-03-11 21:00:00 2024-06-17 20:57:00\n",
       "3       ES       ESU4 2024-06-17 21:01:00 2024-09-16 20:59:00\n",
       "5       ES       ESZ4 2024-09-16 21:00:00 2024-12-16 22:00:00\n",
       "1       ES       ESH5 2024-12-16 22:00:00 2025-02-24 17:32:00"
      ]
     },
     "execution_count": 4,
     "metadata": {},
     "output_type": "execute_result"
    }
   ],
   "source": [
    "df.groupby(['contract', 'instrument']).agg({'timestamp':['min', 'max']}).reset_index()\\\n",
    "                                                .sort_values(by=('timestamp', 'min'))"
   ]
  },
  {
   "cell_type": "code",
   "execution_count": 7,
   "metadata": {},
   "outputs": [],
   "source": [
    "df = df.sort_values(by='timestamp')\n",
    "df = df[~df.bid.isna()]\n",
    "df['Roll Adjusted Bid'] = df['bid'] + df['adjustment']\n",
    "df['Roll Adjusted Offer'] = df['offer'] + df['adjustment']\n",
    "\n",
    "\n",
    "df['mid_price'] = (df['Roll Adjusted Bid'] + df['Roll Adjusted Offer']) / 2"
   ]
  },
  {
   "cell_type": "markdown",
   "metadata": {},
   "source": [
    "# Hurst Exponent"
   ]
  },
  {
   "cell_type": "code",
   "execution_count": 18,
   "metadata": {},
   "outputs": [
    {
     "data": {
      "text/plain": [
       "'SELECT * from trading.fx_1min_bar where instrument = \"EURCZK\"'"
      ]
     },
     "execution_count": 18,
     "metadata": {},
     "output_type": "execute_result"
    }
   ],
   "source": [
    "f\"SELECT * from trading.fx_1min_bar where instrument = {fx}\""
   ]
  },
  {
   "cell_type": "code",
   "execution_count": 23,
   "metadata": {},
   "outputs": [
    {
     "data": {
      "text/plain": [
       "['EURCZK',\n",
       " 'AUDUSD',\n",
       " 'EURHUF',\n",
       " 'EURNOK',\n",
       " 'EURPLN',\n",
       " 'EURSEK',\n",
       " 'EURUSD',\n",
       " 'GBPUSD',\n",
       " 'NZDUSD',\n",
       " 'USDCAD',\n",
       " 'USDCHF',\n",
       " 'USDCNH',\n",
       " 'USDILS',\n",
       " 'USDJPY',\n",
       " 'USDMXN',\n",
       " 'USDSGD',\n",
       " 'USDZAR']"
      ]
     },
     "execution_count": 23,
     "metadata": {},
     "output_type": "execute_result"
    }
   ],
   "source": []
  },
  {
   "cell_type": "code",
   "execution_count": null,
   "metadata": {},
   "outputs": [],
   "source": []
  },
  {
   "cell_type": "code",
   "execution_count": 27,
   "metadata": {},
   "outputs": [
    {
     "data": {
      "text/plain": [
       "'/Users/yuriy/Strategy_project'"
      ]
     },
     "execution_count": 27,
     "metadata": {},
     "output_type": "execute_result"
    }
   ],
   "source": [
    "import os\n",
    "\n",
    "os.getcwd()"
   ]
  },
  {
   "cell_type": "code",
   "execution_count": null,
   "metadata": {},
   "outputs": [],
   "source": []
  },
  {
   "cell_type": "code",
   "execution_count": 30,
   "metadata": {},
   "outputs": [],
   "source": [
    "df_fx.to_parquet(f'data/ggg{fx}_data.parquet')"
   ]
  },
  {
   "cell_type": "code",
   "execution_count": null,
   "metadata": {},
   "outputs": [],
   "source": []
  },
  {
   "cell_type": "code",
   "execution_count": null,
   "metadata": {},
   "outputs": [],
   "source": []
  },
  {
   "cell_type": "code",
   "execution_count": null,
   "metadata": {},
   "outputs": [],
   "source": []
  },
  {
   "cell_type": "code",
   "execution_count": 36,
   "metadata": {},
   "outputs": [
    {
     "data": {
      "text/plain": [
       "['EURCZK',\n",
       " 'AUDUSD',\n",
       " 'EURHUF',\n",
       " 'EURNOK',\n",
       " 'EURPLN',\n",
       " 'EURSEK',\n",
       " 'EURUSD',\n",
       " 'GBPUSD',\n",
       " 'NZDUSD',\n",
       " 'USDCAD',\n",
       " 'USDCHF',\n",
       " 'USDCNH',\n",
       " 'USDILS',\n",
       " 'USDJPY',\n",
       " 'USDMXN',\n",
       " 'USDSGD',\n",
       " 'USDZAR']"
      ]
     },
     "execution_count": 36,
     "metadata": {},
     "output_type": "execute_result"
    }
   ],
   "source": [
    "\n",
    "fx_list"
   ]
  },
  {
   "cell_type": "code",
   "execution_count": null,
   "metadata": {},
   "outputs": [],
   "source": []
  },
  {
   "cell_type": "code",
   "execution_count": null,
   "metadata": {},
   "outputs": [],
   "source": []
  },
  {
   "cell_type": "code",
   "execution_count": 37,
   "metadata": {},
   "outputs": [
    {
     "name": "stderr",
     "output_type": "stream",
     "text": [
      "100%|██████████| 17/17 [17:51<00:00, 63.05s/it]\n"
     ]
    }
   ],
   "source": []
  },
  {
   "cell_type": "code",
   "execution_count": null,
   "metadata": {},
   "outputs": [],
   "source": []
  },
  {
   "cell_type": "code",
   "execution_count": null,
   "metadata": {},
   "outputs": [],
   "source": []
  },
  {
   "cell_type": "code",
   "execution_count": 17,
   "metadata": {},
   "outputs": [
    {
     "name": "stderr",
     "output_type": "stream",
     "text": [
      "  0%|          | 0/17 [00:31<?, ?it/s]\n"
     ]
    },
    {
     "ename": "FileNotFoundError",
     "evalue": "[Errno 2] No such file or directory: '/data/\"EURCZK\"_data.parquet'",
     "output_type": "error",
     "traceback": [
      "\u001b[31m---------------------------------------------------------------------------\u001b[39m",
      "\u001b[31mFileNotFoundError\u001b[39m                         Traceback (most recent call last)",
      "\u001b[36mCell\u001b[39m\u001b[36m \u001b[39m\u001b[32mIn[17]\u001b[39m\u001b[32m, line 8\u001b[39m\n\u001b[32m      5\u001b[39m fx_sql = \u001b[33mf\u001b[39m\u001b[33m\"\u001b[39m\u001b[33mSELECT * from trading.fx_1min_bar where instrument = \u001b[39m\u001b[38;5;132;01m{\u001b[39;00mfx\u001b[38;5;132;01m}\u001b[39;00m\u001b[33m\"\u001b[39m\n\u001b[32m      6\u001b[39m cur_df_fx = pd.read_sql(fx_sql, con=db_connection)\n\u001b[32m----> \u001b[39m\u001b[32m8\u001b[39m \u001b[43mcur_df_fx\u001b[49m\u001b[43m.\u001b[49m\u001b[43mto_parquet\u001b[49m\u001b[43m(\u001b[49m\u001b[33;43mf\u001b[39;49m\u001b[33;43m'\u001b[39;49m\u001b[33;43m/data/\u001b[39;49m\u001b[38;5;132;43;01m{\u001b[39;49;00m\u001b[43mfx\u001b[49m\u001b[38;5;132;43;01m}\u001b[39;49;00m\u001b[33;43m_data.parquet\u001b[39;49m\u001b[33;43m'\u001b[39;49m\u001b[43m)\u001b[49m\n",
      "\u001b[36mFile \u001b[39m\u001b[32m~/Library/Caches/pypoetry/virtualenvs/strategy-project-acofjSPn-py3.12/lib/python3.12/site-packages/pandas/util/_decorators.py:333\u001b[39m, in \u001b[36mdeprecate_nonkeyword_arguments.<locals>.decorate.<locals>.wrapper\u001b[39m\u001b[34m(*args, **kwargs)\u001b[39m\n\u001b[32m    327\u001b[39m \u001b[38;5;28;01mif\u001b[39;00m \u001b[38;5;28mlen\u001b[39m(args) > num_allow_args:\n\u001b[32m    328\u001b[39m     warnings.warn(\n\u001b[32m    329\u001b[39m         msg.format(arguments=_format_argument_list(allow_args)),\n\u001b[32m    330\u001b[39m         \u001b[38;5;167;01mFutureWarning\u001b[39;00m,\n\u001b[32m    331\u001b[39m         stacklevel=find_stack_level(),\n\u001b[32m    332\u001b[39m     )\n\u001b[32m--> \u001b[39m\u001b[32m333\u001b[39m \u001b[38;5;28;01mreturn\u001b[39;00m \u001b[43mfunc\u001b[49m\u001b[43m(\u001b[49m\u001b[43m*\u001b[49m\u001b[43margs\u001b[49m\u001b[43m,\u001b[49m\u001b[43m \u001b[49m\u001b[43m*\u001b[49m\u001b[43m*\u001b[49m\u001b[43mkwargs\u001b[49m\u001b[43m)\u001b[49m\n",
      "\u001b[36mFile \u001b[39m\u001b[32m~/Library/Caches/pypoetry/virtualenvs/strategy-project-acofjSPn-py3.12/lib/python3.12/site-packages/pandas/core/frame.py:3113\u001b[39m, in \u001b[36mDataFrame.to_parquet\u001b[39m\u001b[34m(self, path, engine, compression, index, partition_cols, storage_options, **kwargs)\u001b[39m\n\u001b[32m   3032\u001b[39m \u001b[38;5;250m\u001b[39m\u001b[33;03m\"\"\"\u001b[39;00m\n\u001b[32m   3033\u001b[39m \u001b[33;03mWrite a DataFrame to the binary parquet format.\u001b[39;00m\n\u001b[32m   3034\u001b[39m \n\u001b[32m   (...)\u001b[39m\u001b[32m   3109\u001b[39m \u001b[33;03m>>> content = f.read()\u001b[39;00m\n\u001b[32m   3110\u001b[39m \u001b[33;03m\"\"\"\u001b[39;00m\n\u001b[32m   3111\u001b[39m \u001b[38;5;28;01mfrom\u001b[39;00m\u001b[38;5;250m \u001b[39m\u001b[34;01mpandas\u001b[39;00m\u001b[34;01m.\u001b[39;00m\u001b[34;01mio\u001b[39;00m\u001b[34;01m.\u001b[39;00m\u001b[34;01mparquet\u001b[39;00m\u001b[38;5;250m \u001b[39m\u001b[38;5;28;01mimport\u001b[39;00m to_parquet\n\u001b[32m-> \u001b[39m\u001b[32m3113\u001b[39m \u001b[38;5;28;01mreturn\u001b[39;00m \u001b[43mto_parquet\u001b[49m\u001b[43m(\u001b[49m\n\u001b[32m   3114\u001b[39m \u001b[43m    \u001b[49m\u001b[38;5;28;43mself\u001b[39;49m\u001b[43m,\u001b[49m\n\u001b[32m   3115\u001b[39m \u001b[43m    \u001b[49m\u001b[43mpath\u001b[49m\u001b[43m,\u001b[49m\n\u001b[32m   3116\u001b[39m \u001b[43m    \u001b[49m\u001b[43mengine\u001b[49m\u001b[43m,\u001b[49m\n\u001b[32m   3117\u001b[39m \u001b[43m    \u001b[49m\u001b[43mcompression\u001b[49m\u001b[43m=\u001b[49m\u001b[43mcompression\u001b[49m\u001b[43m,\u001b[49m\n\u001b[32m   3118\u001b[39m \u001b[43m    \u001b[49m\u001b[43mindex\u001b[49m\u001b[43m=\u001b[49m\u001b[43mindex\u001b[49m\u001b[43m,\u001b[49m\n\u001b[32m   3119\u001b[39m \u001b[43m    \u001b[49m\u001b[43mpartition_cols\u001b[49m\u001b[43m=\u001b[49m\u001b[43mpartition_cols\u001b[49m\u001b[43m,\u001b[49m\n\u001b[32m   3120\u001b[39m \u001b[43m    \u001b[49m\u001b[43mstorage_options\u001b[49m\u001b[43m=\u001b[49m\u001b[43mstorage_options\u001b[49m\u001b[43m,\u001b[49m\n\u001b[32m   3121\u001b[39m \u001b[43m    \u001b[49m\u001b[43m*\u001b[49m\u001b[43m*\u001b[49m\u001b[43mkwargs\u001b[49m\u001b[43m,\u001b[49m\n\u001b[32m   3122\u001b[39m \u001b[43m\u001b[49m\u001b[43m)\u001b[49m\n",
      "\u001b[36mFile \u001b[39m\u001b[32m~/Library/Caches/pypoetry/virtualenvs/strategy-project-acofjSPn-py3.12/lib/python3.12/site-packages/pandas/io/parquet.py:480\u001b[39m, in \u001b[36mto_parquet\u001b[39m\u001b[34m(df, path, engine, compression, index, storage_options, partition_cols, filesystem, **kwargs)\u001b[39m\n\u001b[32m    476\u001b[39m impl = get_engine(engine)\n\u001b[32m    478\u001b[39m path_or_buf: FilePath | WriteBuffer[\u001b[38;5;28mbytes\u001b[39m] = io.BytesIO() \u001b[38;5;28;01mif\u001b[39;00m path \u001b[38;5;129;01mis\u001b[39;00m \u001b[38;5;28;01mNone\u001b[39;00m \u001b[38;5;28;01melse\u001b[39;00m path\n\u001b[32m--> \u001b[39m\u001b[32m480\u001b[39m \u001b[43mimpl\u001b[49m\u001b[43m.\u001b[49m\u001b[43mwrite\u001b[49m\u001b[43m(\u001b[49m\n\u001b[32m    481\u001b[39m \u001b[43m    \u001b[49m\u001b[43mdf\u001b[49m\u001b[43m,\u001b[49m\n\u001b[32m    482\u001b[39m \u001b[43m    \u001b[49m\u001b[43mpath_or_buf\u001b[49m\u001b[43m,\u001b[49m\n\u001b[32m    483\u001b[39m \u001b[43m    \u001b[49m\u001b[43mcompression\u001b[49m\u001b[43m=\u001b[49m\u001b[43mcompression\u001b[49m\u001b[43m,\u001b[49m\n\u001b[32m    484\u001b[39m \u001b[43m    \u001b[49m\u001b[43mindex\u001b[49m\u001b[43m=\u001b[49m\u001b[43mindex\u001b[49m\u001b[43m,\u001b[49m\n\u001b[32m    485\u001b[39m \u001b[43m    \u001b[49m\u001b[43mpartition_cols\u001b[49m\u001b[43m=\u001b[49m\u001b[43mpartition_cols\u001b[49m\u001b[43m,\u001b[49m\n\u001b[32m    486\u001b[39m \u001b[43m    \u001b[49m\u001b[43mstorage_options\u001b[49m\u001b[43m=\u001b[49m\u001b[43mstorage_options\u001b[49m\u001b[43m,\u001b[49m\n\u001b[32m    487\u001b[39m \u001b[43m    \u001b[49m\u001b[43mfilesystem\u001b[49m\u001b[43m=\u001b[49m\u001b[43mfilesystem\u001b[49m\u001b[43m,\u001b[49m\n\u001b[32m    488\u001b[39m \u001b[43m    \u001b[49m\u001b[43m*\u001b[49m\u001b[43m*\u001b[49m\u001b[43mkwargs\u001b[49m\u001b[43m,\u001b[49m\n\u001b[32m    489\u001b[39m \u001b[43m\u001b[49m\u001b[43m)\u001b[49m\n\u001b[32m    491\u001b[39m \u001b[38;5;28;01mif\u001b[39;00m path \u001b[38;5;129;01mis\u001b[39;00m \u001b[38;5;28;01mNone\u001b[39;00m:\n\u001b[32m    492\u001b[39m     \u001b[38;5;28;01massert\u001b[39;00m \u001b[38;5;28misinstance\u001b[39m(path_or_buf, io.BytesIO)\n",
      "\u001b[36mFile \u001b[39m\u001b[32m~/Library/Caches/pypoetry/virtualenvs/strategy-project-acofjSPn-py3.12/lib/python3.12/site-packages/pandas/io/parquet.py:349\u001b[39m, in \u001b[36mFastParquetImpl.write\u001b[39m\u001b[34m(self, df, path, compression, index, partition_cols, storage_options, filesystem, **kwargs)\u001b[39m\n\u001b[32m    344\u001b[39m     \u001b[38;5;28;01mraise\u001b[39;00m \u001b[38;5;167;01mValueError\u001b[39;00m(\n\u001b[32m    345\u001b[39m         \u001b[33m\"\u001b[39m\u001b[33mstorage_options passed with file object or non-fsspec file path\u001b[39m\u001b[33m\"\u001b[39m\n\u001b[32m    346\u001b[39m     )\n\u001b[32m    348\u001b[39m \u001b[38;5;28;01mwith\u001b[39;00m catch_warnings(record=\u001b[38;5;28;01mTrue\u001b[39;00m):\n\u001b[32m--> \u001b[39m\u001b[32m349\u001b[39m     \u001b[38;5;28;43mself\u001b[39;49m\u001b[43m.\u001b[49m\u001b[43mapi\u001b[49m\u001b[43m.\u001b[49m\u001b[43mwrite\u001b[49m\u001b[43m(\u001b[49m\n\u001b[32m    350\u001b[39m \u001b[43m        \u001b[49m\u001b[43mpath\u001b[49m\u001b[43m,\u001b[49m\n\u001b[32m    351\u001b[39m \u001b[43m        \u001b[49m\u001b[43mdf\u001b[49m\u001b[43m,\u001b[49m\n\u001b[32m    352\u001b[39m \u001b[43m        \u001b[49m\u001b[43mcompression\u001b[49m\u001b[43m=\u001b[49m\u001b[43mcompression\u001b[49m\u001b[43m,\u001b[49m\n\u001b[32m    353\u001b[39m \u001b[43m        \u001b[49m\u001b[43mwrite_index\u001b[49m\u001b[43m=\u001b[49m\u001b[43mindex\u001b[49m\u001b[43m,\u001b[49m\n\u001b[32m    354\u001b[39m \u001b[43m        \u001b[49m\u001b[43mpartition_on\u001b[49m\u001b[43m=\u001b[49m\u001b[43mpartition_cols\u001b[49m\u001b[43m,\u001b[49m\n\u001b[32m    355\u001b[39m \u001b[43m        \u001b[49m\u001b[43m*\u001b[49m\u001b[43m*\u001b[49m\u001b[43mkwargs\u001b[49m\u001b[43m,\u001b[49m\n\u001b[32m    356\u001b[39m \u001b[43m    \u001b[49m\u001b[43m)\u001b[49m\n",
      "\u001b[36mFile \u001b[39m\u001b[32m~/Library/Caches/pypoetry/virtualenvs/strategy-project-acofjSPn-py3.12/lib/python3.12/site-packages/fastparquet/writer.py:1343\u001b[39m, in \u001b[36mwrite\u001b[39m\u001b[34m(filename, data, row_group_offsets, compression, file_scheme, open_with, mkdirs, has_nulls, write_index, partition_on, fixed_text, append, object_encoding, times, custom_metadata, stats)\u001b[39m\n\u001b[32m   1339\u001b[39m     fmd.key_value_metadata = kvm\n\u001b[32m   1341\u001b[39m \u001b[38;5;28;01mif\u001b[39;00m file_scheme == \u001b[33m'\u001b[39m\u001b[33msimple\u001b[39m\u001b[33m'\u001b[39m:\n\u001b[32m   1342\u001b[39m     \u001b[38;5;66;03m# Case 'simple'\u001b[39;00m\n\u001b[32m-> \u001b[39m\u001b[32m1343\u001b[39m     \u001b[43mwrite_simple\u001b[49m\u001b[43m(\u001b[49m\u001b[43mfilename\u001b[49m\u001b[43m,\u001b[49m\u001b[43m \u001b[49m\u001b[43mdata\u001b[49m\u001b[43m,\u001b[49m\u001b[43m \u001b[49m\u001b[43mfmd\u001b[49m\u001b[43m,\u001b[49m\n\u001b[32m   1344\u001b[39m \u001b[43m                 \u001b[49m\u001b[43mrow_group_offsets\u001b[49m\u001b[43m=\u001b[49m\u001b[43mrow_group_offsets\u001b[49m\u001b[43m,\u001b[49m\n\u001b[32m   1345\u001b[39m \u001b[43m                 \u001b[49m\u001b[43mcompression\u001b[49m\u001b[43m=\u001b[49m\u001b[43mcompression\u001b[49m\u001b[43m,\u001b[49m\u001b[43m \u001b[49m\u001b[43mopen_with\u001b[49m\u001b[43m=\u001b[49m\u001b[43mopen_with\u001b[49m\u001b[43m,\u001b[49m\n\u001b[32m   1346\u001b[39m \u001b[43m                 \u001b[49m\u001b[43mhas_nulls\u001b[49m\u001b[43m=\u001b[49m\u001b[38;5;28;43;01mNone\u001b[39;49;00m\u001b[43m,\u001b[49m\u001b[43m \u001b[49m\u001b[43mappend\u001b[49m\u001b[43m=\u001b[49m\u001b[38;5;28;43;01mFalse\u001b[39;49;00m\u001b[43m,\u001b[49m\u001b[43m \u001b[49m\u001b[43mstats\u001b[49m\u001b[43m=\u001b[49m\u001b[43mstats\u001b[49m\u001b[43m)\u001b[49m\n\u001b[32m   1347\u001b[39m \u001b[38;5;28;01melse\u001b[39;00m:\n\u001b[32m   1348\u001b[39m     \u001b[38;5;66;03m# Case 'hive', 'drill'\u001b[39;00m\n\u001b[32m   1349\u001b[39m     write_multi(filename, data, fmd,\n\u001b[32m   1350\u001b[39m                 row_group_offsets=row_group_offsets,\n\u001b[32m   1351\u001b[39m                 compression=compression, file_scheme=file_scheme,\n\u001b[32m   1352\u001b[39m                 write_fmd=\u001b[38;5;28;01mTrue\u001b[39;00m, open_with=open_with,\n\u001b[32m   1353\u001b[39m                 mkdirs=mkdirs, partition_on=partition_on,\n\u001b[32m   1354\u001b[39m                 append=\u001b[38;5;28;01mFalse\u001b[39;00m, stats=stats)\n",
      "\u001b[36mFile \u001b[39m\u001b[32m~/Library/Caches/pypoetry/virtualenvs/strategy-project-acofjSPn-py3.12/lib/python3.12/site-packages/fastparquet/writer.py:1002\u001b[39m, in \u001b[36mwrite_simple\u001b[39m\u001b[34m(fn, data, fmd, row_group_offsets, compression, open_with, has_nulls, append, stats)\u001b[39m\n\u001b[32m   1000\u001b[39m     write_to_file(fn)\n\u001b[32m   1001\u001b[39m \u001b[38;5;28;01melse\u001b[39;00m:\n\u001b[32m-> \u001b[39m\u001b[32m1002\u001b[39m     of = \u001b[43mopen_with\u001b[49m\u001b[43m(\u001b[49m\u001b[43mfn\u001b[49m\u001b[43m,\u001b[49m\u001b[43m \u001b[49m\u001b[43mmode\u001b[49m\u001b[43m)\u001b[49m\n\u001b[32m   1003\u001b[39m     \u001b[38;5;28;01mwith\u001b[39;00m of \u001b[38;5;28;01mas\u001b[39;00m f:\n\u001b[32m   1004\u001b[39m         write_to_file(f)\n",
      "\u001b[31mFileNotFoundError\u001b[39m: [Errno 2] No such file or directory: '/data/\"EURCZK\"_data.parquet'"
     ]
    }
   ],
   "source": [
    "# fx_sql = \"SELECT distinct instrument from trading.fx_1min_bar\"\n",
    "# df_fx = pd.read_sql(fx_sql, con=db_connection)\n",
    "\n",
    "for fx in tqdm(df_fx.instrument.values):\n",
    "    fx_sql = f\"SELECT * from trading.fx_1min_bar where instrument = {fx}\"\n",
    "    cur_df_fx = pd.read_sql(fx_sql, con=db_connection)\n",
    "\n",
    "    cur_df_fx.to_parquet(f'/data/{fx}_data.parquet')\n",
    "    "
   ]
  },
  {
   "cell_type": "code",
   "execution_count": null,
   "metadata": {},
   "outputs": [],
   "source": []
  },
  {
   "cell_type": "code",
   "execution_count": 20,
   "metadata": {},
   "outputs": [
    {
     "data": {
      "text/html": [
       "<div>\n",
       "<style scoped>\n",
       "    .dataframe tbody tr th:only-of-type {\n",
       "        vertical-align: middle;\n",
       "    }\n",
       "\n",
       "    .dataframe tbody tr th {\n",
       "        vertical-align: top;\n",
       "    }\n",
       "\n",
       "    .dataframe thead th {\n",
       "        text-align: right;\n",
       "    }\n",
       "</style>\n",
       "<table border=\"1\" class=\"dataframe\">\n",
       "  <thead>\n",
       "    <tr style=\"text-align: right;\">\n",
       "      <th></th>\n",
       "      <th>instrument</th>\n",
       "      <th>bid</th>\n",
       "      <th>offer</th>\n",
       "      <th>timestamp</th>\n",
       "    </tr>\n",
       "  </thead>\n",
       "  <tbody>\n",
       "  </tbody>\n",
       "</table>\n",
       "</div>"
      ],
      "text/plain": [
       "Empty DataFrame\n",
       "Columns: [instrument, bid, offer, timestamp]\n",
       "Index: []"
      ]
     },
     "execution_count": 20,
     "metadata": {},
     "output_type": "execute_result"
    }
   ],
   "source": [
    "cur_df_fx"
   ]
  },
  {
   "cell_type": "code",
   "execution_count": null,
   "metadata": {},
   "outputs": [],
   "source": []
  },
  {
   "cell_type": "code",
   "execution_count": null,
   "metadata": {},
   "outputs": [],
   "source": []
  },
  {
   "cell_type": "code",
   "execution_count": null,
   "metadata": {},
   "outputs": [],
   "source": []
  },
  {
   "cell_type": "code",
   "execution_count": null,
   "metadata": {},
   "outputs": [],
   "source": []
  },
  {
   "cell_type": "code",
   "execution_count": null,
   "metadata": {},
   "outputs": [],
   "source": []
  },
  {
   "cell_type": "code",
   "execution_count": null,
   "metadata": {},
   "outputs": [],
   "source": []
  },
  {
   "cell_type": "code",
   "execution_count": 10,
   "metadata": {},
   "outputs": [
    {
     "data": {
      "text/plain": [
       "np.float64(0.5243364273932102)"
      ]
     },
     "execution_count": 10,
     "metadata": {},
     "output_type": "execute_result"
    }
   ],
   "source": [
    "hurst_value, _, _ = compute_Hc(df['mid_price'], kind='price', simplified=True)\n",
    "hurst_value"
   ]
  },
  {
   "cell_type": "code",
   "execution_count": 87,
   "metadata": {},
   "outputs": [
    {
     "name": "stderr",
     "output_type": "stream",
     "text": [
      " 33%|███▎      | 1/3 [01:23<02:46, 83.25s/it]"
     ]
    },
    {
     "name": "stdout",
     "output_type": "stream",
     "text": [
      "EURHUF 0.48428234876796744\n"
     ]
    },
    {
     "name": "stderr",
     "output_type": "stream",
     "text": [
      " 67%|██████▋   | 2/3 [02:49<01:25, 85.18s/it]"
     ]
    },
    {
     "name": "stdout",
     "output_type": "stream",
     "text": [
      "EURNOK 0.44138788829907416\n"
     ]
    },
    {
     "name": "stderr",
     "output_type": "stream",
     "text": [
      "100%|██████████| 3/3 [04:17<00:00, 85.89s/it]"
     ]
    },
    {
     "name": "stdout",
     "output_type": "stream",
     "text": [
      "EURSEK 0.4448476385508151\n"
     ]
    },
    {
     "name": "stderr",
     "output_type": "stream",
     "text": [
      "\n"
     ]
    }
   ],
   "source": [
    "for fx in tqdm([\"EURHUF\", \"EURNOK\", \"EURSEK\"]):\n",
    "    fx_sql = f\"SELECT * from trading.fx_1min_bar where instrument = '\\\"{fx}\\\"'\"\n",
    "    df_fx = pd.read_sql(fx_sql, con=db_connection)\n",
    "    df_fx['mid_price'] = (df_fx['bid'] + df_fx['offer'])/2\n",
    "    df_fx = df_fx[~df_fx.mid_price.isna()].sort_values(by='timestamp')\n",
    "    hurst_value, _, _ = compute_Hc(df_fx['mid_price'], kind='price', simplified=True)\n",
    "    print(fx, hurst_value)"
   ]
  },
  {
   "cell_type": "markdown",
   "metadata": {},
   "source": [
    "# Andrew Lo’s Variance Ratio Test"
   ]
  },
  {
   "cell_type": "markdown",
   "metadata": {},
   "source": [
    "## a Построить график зависимости Variance Ratio от лага q"
   ]
  },
  {
   "cell_type": "code",
   "execution_count": 95,
   "metadata": {},
   "outputs": [
    {
     "name": "stderr",
     "output_type": "stream",
     "text": [
      "  0%|          | 0/200 [00:00<?, ?it/s]"
     ]
    },
    {
     "name": "stderr",
     "output_type": "stream",
     "text": [
      "100%|██████████| 200/200 [15:41:34<00:00, 282.47s/it]      \n"
     ]
    },
    {
     "data": {
      "image/png": "[encoded data removed]",
      "text/plain": [
       "<Figure size 1000x600 with 1 Axes>"
      ]
     },
     "metadata": {},
     "output_type": "display_data"
    }
   ],
   "source": [
    "def variance_ratio(df, max_lag, step = 5):\n",
    "    # Вычисляем доходности\n",
    "    df['returns'] = df['mid_price'].pct_change().dropna()\n",
    "\n",
    "    # Рассчитываем Var(1)\n",
    "    var_1 = np.var(df['returns'])\n",
    "\n",
    "    # Список для хранения значений VR\n",
    "    vr_values = []\n",
    "\n",
    "    # Вычисляем VR(q) для каждого q от 2 до max_lag\n",
    "    for q in tqdm(range(2, max_lag + 1, step)):\n",
    "        # Суммируем корреляции для лагов от 1 до q-1\n",
    "        corr_sum = 0\n",
    "        for k in range(1, q):\n",
    "            corr_sum += (1 - k / q) * df['returns'].shift(-k).corr(df['returns'].shift(0))\n",
    "\n",
    "        # VR(q) = 1 + 2 * сумма\n",
    "        vr_q = 1 + 2 * corr_sum\n",
    "        vr_values.append(vr_q)\n",
    "\n",
    "    return vr_values, range(2, max_lag + 1, step)\n",
    "\n",
    "    # Строим график Variance Ratio от лага\n",
    "max_lag = 1000  # максимальный лаг, до которого будем считать VR\n",
    "vr_values, q_values = variance_ratio(df, max_lag)\n",
    "\n",
    "# Построение графика\n",
    "plt.figure(figsize=(10, 6))\n",
    "plt.plot(q_values, vr_values, marker='o', linestyle='-', color='b')\n",
    "plt.title('Зависимость Variance Ratio от лага q')\n",
    "plt.xlabel('Лаг (q)')\n",
    "plt.ylabel('Variance Ratio (VR)')\n",
    "plt.grid(True)\n",
    "plt.show()\n"
   ]
  },
  {
   "cell_type": "code",
   "execution_count": null,
   "metadata": {},
   "outputs": [],
   "source": []
  }
 ],
 "metadata": {
  "kernelspec": {
   "display_name": "strategy-project-acofjSPn-py3.12",
   "language": "python",
   "name": "python3"
  },
  "language_info": {
   "codemirror_mode": {
    "name": "ipython",
    "version": 3
   },
   "file_extension": ".py",
   "mimetype": "text/x-python",
   "name": "python",
   "nbconvert_exporter": "python",
   "pygments_lexer": "ipython3",
   "version": "3.12.4"
  }
 },
 "nbformat": 4,
 "nbformat_minor": 2
}
